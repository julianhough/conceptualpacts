{
 "cells": [
  {
   "cell_type": "markdown",
   "metadata": {},
   "source": [
    "# Conceptual Pacts through small language models"
   ]
  },
  {
   "cell_type": "code",
   "execution_count": 1,
   "metadata": {},
   "outputs": [
    {
     "name": "stdout",
     "output_type": "stream",
     "text": [
      "Requirement already satisfied: deep-translator in /Users/julianhough/miniforge3/lib/python3.10/site-packages (1.11.1)\n",
      "Requirement already satisfied: requests<3.0.0,>=2.23.0 in /Users/julianhough/miniforge3/lib/python3.10/site-packages (from deep-translator) (2.28.2)\n",
      "Requirement already satisfied: beautifulsoup4<5.0.0,>=4.9.1 in /Users/julianhough/miniforge3/lib/python3.10/site-packages (from deep-translator) (4.12.0)\n",
      "Requirement already satisfied: soupsieve>1.2 in /Users/julianhough/miniforge3/lib/python3.10/site-packages (from beautifulsoup4<5.0.0,>=4.9.1->deep-translator) (2.3.2.post1)\n",
      "Requirement already satisfied: urllib3<1.27,>=1.21.1 in /Users/julianhough/miniforge3/lib/python3.10/site-packages (from requests<3.0.0,>=2.23.0->deep-translator) (1.26.15)\n",
      "Requirement already satisfied: certifi>=2017.4.17 in /Users/julianhough/miniforge3/lib/python3.10/site-packages (from requests<3.0.0,>=2.23.0->deep-translator) (2022.12.7)\n",
      "Requirement already satisfied: idna<4,>=2.5 in /Users/julianhough/miniforge3/lib/python3.10/site-packages (from requests<3.0.0,>=2.23.0->deep-translator) (3.4)\n",
      "Requirement already satisfied: charset-normalizer<4,>=2 in /Users/julianhough/miniforge3/lib/python3.10/site-packages (from requests<3.0.0,>=2.23.0->deep-translator) (2.1.1)\n",
      "Requirement already satisfied: scikit-learn in /Users/julianhough/miniforge3/lib/python3.10/site-packages (1.2.2)\n",
      "Requirement already satisfied: numpy>=1.17.3 in /Users/julianhough/miniforge3/lib/python3.10/site-packages (from scikit-learn) (1.24.2)\n",
      "Requirement already satisfied: scipy>=1.3.2 in /Users/julianhough/miniforge3/lib/python3.10/site-packages (from scikit-learn) (1.10.1)\n",
      "Requirement already satisfied: joblib>=1.1.1 in /Users/julianhough/miniforge3/lib/python3.10/site-packages (from scikit-learn) (1.2.0)\n",
      "Requirement already satisfied: threadpoolctl>=2.0.0 in /Users/julianhough/miniforge3/lib/python3.10/site-packages (from scikit-learn) (3.1.0)\n",
      "Requirement already satisfied: sciPy in /Users/julianhough/miniforge3/lib/python3.10/site-packages (1.10.1)\n",
      "Requirement already satisfied: numpy<1.27.0,>=1.19.5 in /Users/julianhough/miniforge3/lib/python3.10/site-packages (from sciPy) (1.24.2)\n",
      "Requirement already satisfied: nltk in /Users/julianhough/miniforge3/lib/python3.10/site-packages (3.8.1)\n",
      "Requirement already satisfied: joblib in /Users/julianhough/miniforge3/lib/python3.10/site-packages (from nltk) (1.2.0)\n",
      "Requirement already satisfied: tqdm in /Users/julianhough/miniforge3/lib/python3.10/site-packages (from nltk) (4.65.0)\n",
      "Requirement already satisfied: click in /Users/julianhough/miniforge3/lib/python3.10/site-packages (from nltk) (8.1.3)\n",
      "Requirement already satisfied: regex>=2021.8.3 in /Users/julianhough/miniforge3/lib/python3.10/site-packages (from nltk) (2023.5.5)\n"
     ]
    }
   ],
   "source": [
    "#!pip install google_trans_new\n",
    "!pip install -U deep-translator\n",
    "!pip install scikit-learn\n",
    "!pip install sciPy\n",
    "!pip install nltk"
   ]
  },
  {
   "cell_type": "code",
   "execution_count": 2,
   "metadata": {},
   "outputs": [],
   "source": [
    "import sys\n",
    "sys.path.append(\"../python/\")\n",
    "import pentoref.IO as IO\n",
    "import sqlite3 as sqlite\n",
    "#from google_trans_new import google_translator\n",
    "from deep_translator import GoogleTranslator\n",
    "import datetime\n",
    "\n",
    "import sklearn\n",
    "from sklearn.feature_extraction import DictVectorizer\n",
    "#from sklearn.preprocessing import LabelEncoder\n",
    "#l = LabelEncoder()\n",
    "\n",
    "from sklearn.svm import LinearSVC\n",
    "from sklearn.naive_bayes import MultinomialNB\n",
    "from sklearn.linear_model import LogisticRegression\n",
    "from sklearn.metrics import precision_recall_fscore_support, classification_report\n",
    "\n",
    "from nltk.classify import SklearnClassifier\n",
    "#nltk.download('punkt')  # if using stemming in German\n",
    "\n",
    "from random import shuffle\n",
    "import numpy as np\n",
    "import scipy.stats as stats\n",
    "from scipy import optimize\n",
    "import pandas as pd\n",
    "from math import log\n",
    "import random\n",
    "import copy\n",
    "\n",
    "from collections import Counter\n",
    "import matplotlib.pyplot as plt\n",
    "\n",
    "from pentoref.IOutils import clean_utt\n",
    "from machine_learning_utils import calculate_mcnemar_test"
   ]
  },
  {
   "cell_type": "code",
   "execution_count": 3,
   "metadata": {},
   "outputs": [
    {
     "data": {
      "text/plain": [
       "'hello'"
      ]
     },
     "execution_count": 3,
     "metadata": {},
     "output_type": "execute_result"
    }
   ],
   "source": [
    "def remove_reparanda(utt):\n",
    "    \"removes the content between ( and + though leaves those intact\"\n",
    "    repair_depth = 0\n",
    "    cleaned_utt = \"\"\n",
    "    for c in utt:\n",
    "        if c == \"+\":\n",
    "            repair_depth-=1\n",
    "        elif c == \"(\":\n",
    "            repair_depth+=1\n",
    "        elif repair_depth>0:\n",
    "            continue\n",
    "        cleaned_utt+=c\n",
    "    assert repair_depth==0, \"repair depth not 0:\" + utt\n",
    "    return cleaned_utt\n",
    "clean_utt(remove_reparanda(\"(( hello + hello) + {F um } hello)\"))\n",
    "          "
   ]
  },
  {
   "cell_type": "code",
   "execution_count": 4,
   "metadata": {},
   "outputs": [],
   "source": [
    "# Create databases if required\n",
    "if False:   # make True if you need to create the databases from the derived data\n",
    "    for corpus_name in [\"TAKE\", \"TAKECV\", \"PENTOCV\"]:\n",
    "        data_dir = \"../../../pentoref/{0}_PENTOREF\".format(corpus_name)\n",
    "        dfwords, dfutts, dfrefs, dfscenes, dfactions = IO.convert_subcorpus_raw_data_to_dataframes(data_dir)\n",
    "        IO.write_corpus_to_database(\"{0}.db\".format(corpus_name),\n",
    "                                    corpus_name, dfwords, dfutts, dfrefs, dfscenes, dfactions)"
   ]
  },
  {
   "cell_type": "code",
   "execution_count": 5,
   "metadata": {},
   "outputs": [
    {
     "name": "stdout",
     "output_type": "stream",
     "text": [
      "utts ['gameID', 'uttID', 'starttime', 'endtime', 'utt', 'utt_clean', 'role', 'speaker']\n",
      "words ['gameID', 'uttID', 'position', 'word', 'lemma', 'tag']\n",
      "refs ['refID', 'gameID', 'uttID', 'text', 'id', 'piece', 'location']\n",
      "scenes ['timestampID', 'gameID', 'pieceID', 'position_global', 'position_x', 'position_y', 'shape', 'shape_distribution', 'shape_orientation', 'shape_skewness_horizontal', 'shape_skewness_vertical', 'shape_edges', 'colour', 'colour_distribution', 'colour_hsv', 'colour_rgb']\n",
      "actions ['gameID', 'starttime', 'endtime', 'hand', 'action', 'piece']\n"
     ]
    }
   ],
   "source": [
    "# Connect to database\n",
    "CORPUS = \"PENTOCV\"\n",
    "db = sqlite.connect(\"{0}.db\".format(CORPUS))\n",
    "cursor = db.cursor()\n",
    "# get the table column header names\n",
    "print(\"utts\", [x[1] for x in cursor.execute(\"PRAGMA table_info(utts)\")])\n",
    "print(\"words\", [x[1] for x in cursor.execute(\"PRAGMA table_info(words)\")])\n",
    "print(\"refs\", [x[1] for x in cursor.execute(\"PRAGMA table_info(refs)\")])\n",
    "print(\"scenes\", [x[1] for x in cursor.execute(\"PRAGMA table_info(scenes)\")])\n",
    "print(\"actions\", [x[1] for x in cursor.execute(\"PRAGMA table_info(actions)\")])"
   ]
  },
  {
   "cell_type": "markdown",
   "metadata": {},
   "source": [
    "## Get utterances from certain time periods in each experiment or for certain episodes"
   ]
  },
  {
   "cell_type": "code",
   "execution_count": 6,
   "metadata": {},
   "outputs": [],
   "source": [
    "if False:\n",
    "    translator = GoogleTranslator(source='de', target='en')\n",
    "\n",
    "    for row in db.execute(\"SELECT gameID, starttime, speaker, utt_clean, utt FROM utts\" + \\\n",
    "                       # \" WHERE starttime >= 200 AND starttime <= 300\" + \\\n",
    "                         ' WHERE gameID = \"r1_1_1_b\"' + \\\n",
    "                        \" ORDER BY gameID, starttime\"):\n",
    "        print(row)\n",
    "        line = row[3]\n",
    "        print(line)\n",
    "        if not line:\n",
    "            continue\n",
    "        translate_text = translator.translate(line,lang_src='de',lang_tgt='en') \n",
    "        print(translate_text)"
   ]
  },
  {
   "cell_type": "markdown",
   "metadata": {},
   "source": [
    "## Build dataset"
   ]
  },
  {
   "cell_type": "code",
   "execution_count": 7,
   "metadata": {},
   "outputs": [],
   "source": [
    "# just focus on single pieces, not references to multiple pieces\n",
    "good_pieces = [\"X\", \"Y\", \"P\", \"N\", \"U\", \"F\", \"Z\", \"L\", \"T\", \"I\", \"W\", \"V\"]"
   ]
  },
  {
   "cell_type": "code",
   "execution_count": 8,
   "metadata": {},
   "outputs": [
    {
     "name": "stdout",
     "output_type": "stream",
     "text": [
      "replacing with wie's jetzt <v=\"ist\">is'</v> und steckst <ref id=\"f\" piece=\"target\"> es at r2_1_1_b 13355\n",
      "replacing with wie's at r2_1_4_b 13568\n",
      "replacing with (der + (das + (das + das ))) grüne $m) at r4_1_3_b 10823\n",
      "replacing with ((der {f äh:m:} + der) + der) winkel at r4_1_3_b 10880\n",
      "replacing with das (br- + blaue) Lange at r7_1_1_b 1215\n",
      "replacing with das: ({f äh} ja . + ) andere blaue $z at r8_1_3_s 2454\n",
      "replacing with den (ist das rosa oben + ) block at r8_1_5_b 4428\n",
      "replacing with (<p=\"dieses\">die-</p> (genau  +) + das) element at r8_1_8_b 4919\n",
      "replacing with das $t (dieser blaue <p=\"senkrecht\">senk-</p>+) at r8_2_17_b 3696\n",
      "dict_keys(['r1', 'r2', 'r3', 'r4', 'r5', 'r6', 'r7', 'r8'])\n",
      "[('gelben stein', 'r3_B', 8886, 129.257, 'U'), ('das rote kreuz', 'r3_B', 8893, 141.68, 'X'), ('daran', 'r3_B', 8897, 148.215, 'U'), ('der orange stein', 'r3_B', 8897, 148.215, 'L'), ('das l', 'r3_A', 7900, 151.582, 'L'), ('daran', 'r3_B', 8902, 157.211, 'X'), ('das grüne t', 'r3_B', 8902, 157.211, 'T'), ('der blaue winkel', 'r3_B', 8931, 219.17, 'V'), ('das', 'r3_B', 8936, 226.213, 'V'), ('daran', 'r3_B', 8940, 235.547, 'V'), ('der gelbe stein', 'r3_B', 8940, 235.547, 'U'), ('er', 'r3_B', 8943, 244.98, 'U'), ('der graue stein', 'r3_B', 8946, 248.207, 'F'), ('den gelben', 'r3_B', 8953, 265.246, 'U'), ('der grüne stein', 'r3_B', 8959, 272.863, 'W'), ('den gelben', 'r3_B', 8967, 284.31, 'U'), ('den grauen', 'r3_B', 8967, 284.31, 'F'), ('das grüne t', 'r3_B', 8970, 287.759, 'T'), ('das grüne t', 'r3_B', 8977, 300.292, 'T'), ('der lila stein', 'r3_B', 8977, 300.292, 'N')]\n"
     ]
    }
   ],
   "source": [
    "references_per_pair = {}  # all data will be stored here with keys =pairnum\n",
    "for row in db.execute(\"SELECT id, gameID, text, uttID FROM refs\" + \\\n",
    "#for row in db.execute(\"SELECT shape, colour, orientation, gridPosition, gameID, pieceID FROM scenes\" + \\\n",
    "                     \" ORDER by gameID\"):\n",
    "    if False: \n",
    "        # TAKE\n",
    "        isTarget = db.execute('SELECT refID FROM refs WHERE gameID =\"' + row[4] + '\" AND pieceID =\"' + row[5] + '\"')\n",
    "        target = False \n",
    "        for r1 in isTarget:\n",
    "            target = True\n",
    "        if not target:\n",
    "            continue\n",
    "\n",
    "    #TAKE\n",
    "    #shape, colour, orientation, gridPosition, gameID, pieceID = row\n",
    "    #piece = colour  #+ \"_\" + shape #shape + \"_\" + colour\n",
    "    \n",
    "    #PENTOCV\n",
    "    piece, gameID, text, uttID = row\n",
    "    \n",
    "    # some manual corrections of disfluencies\n",
    "    error_found = False\n",
    "    if \"(der + (das + das + das) grüne $m)\" in text.lower():\n",
    "        error_found = True\n",
    "        text = \"(der + (das + (das + das ))) grüne $m)\"\n",
    "    elif \"(der {f äh:m:} + der) + der) winkel\" in text.lower():\n",
    "        error_found = True\n",
    "        text = \"((der {f äh:m:} + der) + der) winkel\"\n",
    "    elif \"das {br- + blaue} lange\" in text.lower():\n",
    "        error_found = True\n",
    "        text = \"das (br- + blaue) Lange\"\n",
    "    elif \"das: ({f äh} ja .) andere blaue $z\" in text.lower():\n",
    "        error_found = True\n",
    "        text = \"das: ({f äh} ja . + ) andere blaue $z\"\n",
    "    elif \"den (ist das rosa oben) block\" in text.lower():\n",
    "        error_found = True\n",
    "        text = \"den (ist das rosa oben + ) block\"\n",
    "    elif \"\"\"(<p=\"dieses\">die-</p> (genau) + das) element\"\"\" in text.lower():\n",
    "        error_found = True\n",
    "        text = \"\"\"(<p=\"dieses\">die-</p> (genau  +) + das) element\"\"\"\n",
    "    elif \"\"\"das $t (dieser blaue <p=\"senkrecht\">senk-</p>\"\"\" in text.lower():\n",
    "        error_found = True\n",
    "        text = \"\"\"das $t (dieser blaue <p=\"senkrecht\">senk-</p>+)\"\"\"\n",
    "    elif \"\"\"es\">wie's</v> jetzt <v=\"ist\">is'</v> und steckst <ref id=\"f\" piece=\"target\"> es\"\"\" in text.lower():\n",
    "        error_found = True\n",
    "        text = \"\"\"wie's jetzt <v=\"ist\">is'</v> und steckst <ref id=\"f\" piece=\"target\"> es\"\"\"\n",
    "    elif \"\"\"es\">wie's</v>\"\"\" in text.lower():\n",
    "        error_found = True\n",
    "        text = \"\"\"wie's\"\"\"\n",
    "        \n",
    "    if error_found:\n",
    "        print(\"replacing with\", text, \"at\", gameID, uttID)\n",
    "        \n",
    "        \n",
    "    \n",
    "    clean_text = clean_utt(remove_reparanda(text.lower()))\n",
    "    assert clean_text!=\"\", count\n",
    "    \n",
    "    \n",
    "    pair_num = gameID.split(\"_\")[0]\n",
    "    # get speaker\n",
    "    speaker = list(db.execute('SELECT speaker FROM utts WHERE uttID =' + str(uttID)))[0][0]\n",
    "    speaker = pair_num + \"_\" + speaker\n",
    "    \n",
    "    end_time =  float(list(db.execute('SELECT endtime FROM utts WHERE uttID =' + str(uttID)))[0][0])\n",
    "    \n",
    "    #if not pair_num == PAIR_NUM:\n",
    "    #    continue\n",
    "    \n",
    "        \n",
    "    if piece not in good_pieces:\n",
    "        continue\n",
    "        \n",
    "    if not references_per_pair.get(pair_num):\n",
    "        references_per_pair[pair_num] = []\n",
    "    \n",
    "    \n",
    "    if \"_s\" in gameID:\n",
    "        continue # just get the build phases for now due to inconsistent labelling\n",
    "\n",
    "    references_per_pair[pair_num].append((clean_text, speaker, uttID, end_time, piece))\n",
    "\n",
    "\n",
    "    # sort by end time\n",
    "for pair_num in references_per_pair.keys():\n",
    "    ref_list = references_per_pair[pair_num]\n",
    "    ref_list = sorted(ref_list, key=lambda x:x[3])\n",
    "    references_per_pair[pair_num] = ref_list\n",
    "\n",
    "print(references_per_pair.keys())\n",
    "print(references_per_pair['r3'][0:20])"
   ]
  },
  {
   "cell_type": "markdown",
   "metadata": {},
   "source": [
    "# Create language models and language model features"
   ]
  },
  {
   "cell_type": "code",
   "execution_count": 9,
   "metadata": {},
   "outputs": [],
   "source": [
    "# null hyp 1: the referring expression is no less predictable given the other mentions for a given piece at a given time point\n",
    "# regardless of order (so like a language model, all mentions are equally likely and there's no correlation with time)\n",
    "# of how p(ref|previous) =< p(ref|all)\n"
   ]
  },
  {
   "cell_type": "code",
   "execution_count": 10,
   "metadata": {},
   "outputs": [],
   "source": [
    "# ASSUMPTION: only dealing with full names, not anaphors # TODO for this paper may actually leave them in\n",
    "if True: # False TODO for this paper may actually leave them in\n",
    "    anaphors = [\"es\", \"das\", 'er', \"da\", \"der\", \"ihn\", \"den\", \"sie\", \"die\", \"damit\", \"daran\", \"dem\"]\n",
    "    for pair_num in references_per_pair.keys():\n",
    "        refs = references_per_pair[pair_num]\n",
    "        references_per_pair[pair_num] = list(filter(lambda x:x[0] not in anaphors, refs))\n"
   ]
  },
  {
   "cell_type": "code",
   "execution_count": 11,
   "metadata": {},
   "outputs": [
    {
     "name": "stdout",
     "output_type": "stream",
     "text": [
      "TOTAL REFERENCES 1899\n"
     ]
    },
    {
     "data": {
      "text/plain": [
       "[('F', 134),\n",
       " ('I', 139),\n",
       " ('L', 161),\n",
       " ('N', 197),\n",
       " ('P', 147),\n",
       " ('T', 191),\n",
       " ('U', 144),\n",
       " ('V', 162),\n",
       " ('W', 170),\n",
       " ('X', 177),\n",
       " ('Y', 162),\n",
       " ('Z', 115)]"
      ]
     },
     "execution_count": 11,
     "metadata": {},
     "output_type": "execute_result"
    }
   ],
   "source": [
    "# Get stats for whole corpus and pieces\n",
    "piece_counter = Counter()\n",
    "for pair_num in references_per_pair.keys():\n",
    "    list_refs = [ref[4] for ref in references_per_pair[pair_num]]\n",
    "    piece_counter.update(list_refs) \n",
    "print(\"TOTAL REFERENCES\", piece_counter.total())\n",
    "sorted(piece_counter.items())"
   ]
  },
  {
   "cell_type": "code",
   "execution_count": 12,
   "metadata": {},
   "outputs": [
    {
     "name": "stdout",
     "output_type": "stream",
     "text": [
      "r1 100 refs\n",
      "r2 170 refs\n",
      "r3 265 refs\n",
      "r4 285 refs\n",
      "r5 143 refs\n",
      "r6 258 refs\n",
      "r7 352 refs\n",
      "r8 326 refs\n",
      "237.375\n",
      "r1 137.375\n",
      "r2 67.375\n",
      "r3 27.625\n",
      "r4 47.625\n",
      "r5 94.375\n",
      "r6 20.625\n",
      "r7 114.625\n",
      "r8 88.625\n"
     ]
    }
   ],
   "source": [
    "# let's have a look at how one pair talks about a piece over time\n",
    "for pair_num in references_per_pair.keys():\n",
    "    print(pair_num, len(references_per_pair[pair_num]), \"refs\")\n",
    "mean_length =np.mean([len(v) for k,v in references_per_pair.items()])\n",
    "print(mean_length)\n",
    "# select test as closest to mean length, heldout as second closest\n",
    "for pair_num in references_per_pair.keys():\n",
    "    print(pair_num, abs(len(references_per_pair[pair_num])-mean_length))"
   ]
  },
  {
   "cell_type": "code",
   "execution_count": 13,
   "metadata": {},
   "outputs": [],
   "source": [
    "TEST = 'r6'\n",
    "HELDOUT = 'r3'\n",
    "EXTRA_HELDOUT = 'r7' # note this should probably be r4, in principle shouldn't affect results"
   ]
  },
  {
   "cell_type": "code",
   "execution_count": 14,
   "metadata": {},
   "outputs": [
    {
     "name": "stdout",
     "output_type": "stream",
     "text": [
      "('das türkise', 'r6_B', 7002, 553.312, 'Z')\n",
      "('das türkise', 'r6_B', 7004, 556.626, 'Z')\n",
      "('das türkise', 'r6_B', 7185, 824.143, 'Z')\n",
      "('das türkise', 'r6_B', 7250, 937.942, 'Z')\n",
      "('das türkise', 'r6_B', 7260, 953.935, 'Z')\n",
      "('das türkise', 'r6_B', 7408, 1251.277, 'Z')\n",
      "('das blaue', 'r6_B', 7436, 1302.236, 'Z')\n",
      "('das türkise', 'r6_B', 7834, 2017.387, 'Z')\n"
     ]
    }
   ],
   "source": [
    "# let's have a look at how one pair talks about a piece over time\n",
    "for ref in filter(lambda x:x[4] == 'Z', references_per_pair['r6']):\n",
    "    print(ref)"
   ]
  },
  {
   "cell_type": "code",
   "execution_count": 15,
   "metadata": {},
   "outputs": [],
   "source": [
    "class mini_language_model():\n",
    "    \n",
    "    def __init__(self, order, smoothing_k=0.0001):\n",
    "        self.order = order\n",
    "        self.ngrams = {}\n",
    "        self.num_training_sents = 0\n",
    "        self.smoothing_k = smoothing_k\n",
    "        for o in range(1, order+1):\n",
    "            self.ngrams[o] = {}\n",
    "        self.unigram_denom = 0\n",
    "        self.vocab_size = 0\n",
    "    \n",
    "    \n",
    "    def add_ngram_to_model(self, ngram, order):\n",
    "        ngram_text = \"_\".join(ngram)\n",
    "        if not self.ngrams.get(order).get(ngram_text):\n",
    "            self.ngrams[order][ngram_text] = 0\n",
    "        self.ngrams[order][ngram_text]+=1\n",
    "\n",
    "        \n",
    "    def minus_ngram_from_model(self, ngram, order):\n",
    "        ngram_text = \"_\".join(ngram)\n",
    "        if not self.ngrams.get(order).get(ngram_text):\n",
    "            self.ngrams[order][ngram_text] = 0\n",
    "            \n",
    "        self.ngrams[order][ngram_text]-=1\n",
    "      \n",
    "    \n",
    "    def add_counts_from_other_model(self, other_lm):\n",
    "        assert(other_lm.order == self.order)\n",
    "        for n in range(1, self.order+1):\n",
    "            #print(\"ngrams before\", self.ngrams)\n",
    "            combined_keys = list(self.ngrams[n].keys() | other_lm.ngrams[n].keys())\n",
    "            #print(\"other after\", self.ngrams)\n",
    "            for key in combined_keys:\n",
    "                \n",
    "                count_self = self.ngrams[n].get(key)\n",
    "                if not count_self:\n",
    "                    count_self = 0\n",
    "                count_other = other_lm.ngrams[n].get(key)\n",
    "                if not count_other:\n",
    "                    count_other = 0\n",
    "                #print(key, count_self, count_other)\n",
    "                self.ngrams[n][key] = count_self + count_other\n",
    "        self.unigram_denom = sum(self.ngrams[1].values())\n",
    "        self.vocab_size = len(self.ngrams[1])\n",
    "        #print(\"update\")\n",
    "        #print(self.unigram_denom, \"unigram counts\")\n",
    "        #print(self.vocab_size, \"vocab size\")\n",
    "        \n",
    "    def train(self, sents):\n",
    "        for sent in sents:\n",
    "            padded = [\"<s>\"] * (self.order -1) + sent + [\"</s>\"]\n",
    "            for i in range(self.order-1, len(padded)):\n",
    "                for n in range(1, self.order+1):\n",
    "                    target = padded[i]\n",
    "                    context = padded[i-(n-1):i]\n",
    "                    self.add_ngram_to_model(context + [target], n)\n",
    "                    if n> 1:\n",
    "                        self.add_ngram_to_model(context, n-1)\n",
    "                    \n",
    "            self.num_training_sents += 1\n",
    "        #print(self.ngrams)\n",
    "        self.unigram_denom = sum(self.ngrams[1].values())\n",
    "        self.vocab_size = len(self.ngrams[1])\n",
    "        #print(self.unigram_denom, \"unigram counts\")\n",
    "        #print(self.vocab_size, \"vocab size\")\n",
    "        \n",
    "    def de_train(self, sents):\n",
    "        # take away these counts\n",
    "        for sent in sents:\n",
    "            padded = [\"<s>\"] * (self.order -1) + sent + [\"</s>\"]\n",
    "            for i in range(self.order-1, len(padded)):\n",
    "                for n in range(1, self.order+1):\n",
    "                    target = padded[i]\n",
    "                    context = padded[i-(n-1):i]\n",
    "                    self.minus_ngram_from_model(context + [target], n)\n",
    "        #print(self.ngrams)\n",
    "        self.unigram_denom = sum(self.ngrams[1].values())\n",
    "        self.vocab_size = len(self.ngrams[1])\n",
    "        #print(self.unigram_denom, \"unigram counts\")\n",
    "        #print(self.vocab_size, \"vocab size\")\n",
    "        \n",
    "    def prob_lidstone(self, ngram, order):\n",
    "        \"\"\"Add-k smoothing using the discount parameter for this model.\"\"\"\n",
    "        ngram_text =  \"_\".join(ngram)\n",
    "        ngram_count = self.ngrams[order].get(ngram_text)\n",
    "        if not ngram_count:\n",
    "            ngram_count = 0\n",
    "        num = ngram_count + self.smoothing_k\n",
    "        if order == 1:\n",
    "            denom = self.unigram_denom + (self.smoothing_k * self.vocab_size)\n",
    "            if self.unigram_denom == 0:\n",
    "                #print(\"warning no training, returning k/40/10\")\n",
    "                denom = 150 + (self.smoothing_k * 15)\n",
    "            #print(denom)\n",
    "        else:\n",
    "            context = ngram[:-1]\n",
    "            context_text = \"_\".join(context)\n",
    "            #print(context_text)\n",
    "            context_count = self.ngrams[order-1].get(context_text)\n",
    "            if not context_count:\n",
    "                context_count = 0\n",
    "            #print(context_count)\n",
    "            all_contexts = len(self.ngrams[order-1].keys())\n",
    "            denom = context_count + (self.smoothing_k * all_contexts)\n",
    "            if self.unigram_denom == 0 or context_count == 0:\n",
    "                #print(\"warning no training, returning k/40/10\")\n",
    "                denom = 40 + (self.smoothing_k * 10)\n",
    "            #print(denom)\n",
    "        assert num/denom <=1 and num/denom >0, str(num) + \" \" + str(denom) + \" \" + str(num/denom) + \" \" + str(ngram) + \" n=\" + str(order) + \" k=\" + str(self.smoothing_k)\n",
    "        return num/denom\n",
    "    "
   ]
  },
  {
   "cell_type": "code",
   "execution_count": 16,
   "metadata": {},
   "outputs": [
    {
     "name": "stdout",
     "output_type": "stream",
     "text": [
      "{1: {'I': 4, '<s>': 2, 'like': 4, 'bill': 2, '</s>': 2, 'mary': 2}, 2: {'<s>_I': 4, '<s>_<s>': 2, 'I_like': 4, 'like_bill': 2, 'bill_</s>': 1, 'like_mary': 2, 'mary_</s>': 1}, 3: {'<s>_<s>_I': 2, '<s>_I_like': 2, 'I_like_bill': 1, 'like_bill_</s>': 1, 'I_like_mary': 1, 'like_mary_</s>': 1}}\n",
      "0.23404255319148937\n",
      "{1: {'I': 4, '<s>': 2, 'like': 4, 'bill': 2, 'today': 2, '</s>': 2, 'mary': 2}, 2: {'<s>_I': 4, '<s>_<s>': 2, 'I_like': 4, 'like_bill': 2, 'bill_today': 2, 'today_</s>': 1, 'like_mary': 2, 'mary_</s>': 1}, 3: {'<s>_<s>_I': 2, '<s>_I_like': 2, 'I_like_bill': 1, 'like_bill_today': 1, 'bill_today_</s>': 1, 'I_like_mary': 1, 'like_mary_</s>': 1}}\n",
      "{1: {'I': 8, '<s>': 4, 'like': 8, 'bill': 4, '</s>': 4, 'mary': 4, 'today': 2}, 2: {'<s>_I': 8, '<s>_<s>': 4, 'I_like': 8, 'like_bill': 4, 'bill_</s>': 1, 'like_mary': 4, 'mary_</s>': 2, 'bill_today': 2, 'today_</s>': 1}, 3: {'<s>_<s>_I': 4, '<s>_I_like': 4, 'I_like_bill': 2, 'like_bill_</s>': 1, 'I_like_mary': 2, 'like_mary_</s>': 2, 'bill_today_</s>': 1, 'like_bill_today': 1}}\n"
     ]
    }
   ],
   "source": [
    "m = mini_language_model(3, smoothing_k=0.1)\n",
    "m.train([[\"I\", \"like\", \"bill\"], [\"I\", \"like\", \"mary\"]])\n",
    "print(m.ngrams)\n",
    "print(m.prob_lidstone([\"I\", \"like\", \"mary\"], 3))\n",
    "\n",
    "m2 = mini_language_model(3)\n",
    "m2.train([[\"I\", \"like\", \"bill\", 'today'], [\"I\", \"like\", \"mary\"]])\n",
    "print(m2.ngrams)\n",
    "m.add_counts_from_other_model(m2)\n",
    "print(m.ngrams)"
   ]
  },
  {
   "cell_type": "code",
   "execution_count": 17,
   "metadata": {},
   "outputs": [],
   "source": [
    "def get_refs_in_timerange_for_piece(pair_num, piece, time_uttend_start, time_uttend_end, references_per_pair):\n",
    "    \"\"\"Returns a list of the refs from a certain time start to a time end in order for a given piece.\n",
    "    NOTE FOR NOW refs in the same utterance are either all included or all excluded from this method\"\"\"\n",
    "    if not references_per_pair.get(pair_num):\n",
    "        return []\n",
    "    return list(filter(lambda x:(x[3]>=time_uttend_start and x[3]<time_uttend_end) and x[4]==piece,\n",
    "                       references_per_pair[pair_num]))\n",
    "    "
   ]
  },
  {
   "cell_type": "code",
   "execution_count": 18,
   "metadata": {},
   "outputs": [
    {
     "data": {
      "text/plain": [
       "[('der orange stein', 'r3_B', 8897, 148.215, 'L'),\n",
       " ('das l', 'r3_A', 7900, 151.582, 'L'),\n",
       " ('der orange winkel', 'r3_B', 9019, 374.137, 'L'),\n",
       " ('der orange winkel', 'r3_B', 9042, 477.238, 'L')]"
      ]
     },
     "execution_count": 18,
     "metadata": {},
     "output_type": "execute_result"
    }
   ],
   "source": [
    "get_refs_in_timerange_for_piece('r3', 'L', 0, 687.481, references_per_pair)"
   ]
  },
  {
   "cell_type": "code",
   "execution_count": 19,
   "metadata": {},
   "outputs": [],
   "source": [
    "# Test 1: Is there an increasing similarity to the previous references as the dialogue progresses?\n",
    "# Test 2: does a reference have higher average similarity to other references in the same dialogue compared to those in different dialogyes?"
   ]
  },
  {
   "cell_type": "markdown",
   "metadata": {},
   "source": [
    "# Create reference resolution training + test data with features from the model\n",
    "* TODO setting - exclude and re-compute based on pieces 'in play', or assume the robot doesn't know - try both\n",
    "* Try 1) global model only without active learning, 2) global + local standard 3) global and local incrementally/dynamically updating, see the difference in ref res. Measures on accuracy + surprisal.\n",
    "* Naive bayes with individual language models for each piece + marginalization? OR model can work independently with any probabilistic classifier as a joint probability?\n",
    "* Get an optimal weighting between the local, incremental model and global models"
   ]
  },
  {
   "cell_type": "code",
   "execution_count": 20,
   "metadata": {},
   "outputs": [
    {
     "data": {
      "text/plain": [
       "{'X': 1, 'K': 2, 'Y': 3}"
      ]
     },
     "execution_count": 20,
     "metadata": {},
     "output_type": "execute_result"
    }
   ],
   "source": [
    "def get_rank_dict_for_prob_dict(prob_dict):\n",
    "    rank_dict = {}\n",
    "    rank = 0\n",
    "    for item in sorted(prob_dict.items(), key=lambda x:x[1]):\n",
    "        rank+=1\n",
    "        rank_dict[item[0]] = rank\n",
    "    return rank_dict\n",
    "get_rank_dict_for_prob_dict({\"K\": 0.34, \"Y\": 0.35, \"X\": 0.33})"
   ]
  },
  {
   "cell_type": "code",
   "execution_count": 21,
   "metadata": {},
   "outputs": [],
   "source": [
    "def moving_average(a_list):\n",
    "    averages = []\n",
    "    total = 0\n",
    "    for i, a in enumerate(a_list):\n",
    "        total+=a\n",
    "        averages.append(total/(i+1))\n",
    "    return averages"
   ]
  },
  {
   "cell_type": "code",
   "execution_count": 22,
   "metadata": {},
   "outputs": [],
   "source": [
    "def mean_cross_entropy_on_test_folds(k, pair_piece_lms_orig, folds, prob_model):\n",
    "    \"\"\"Returns the mean of the cross entropy on the folds using the appropriate lm.\n",
    "    Assumes folds will be in correct order w.r.t. time of reference.\"\"\"\n",
    "    # firstly, duplicate the language model to avoid any side effects\n",
    "    #print(k)\n",
    "    pair_piece_lms = copy.deepcopy(pair_piece_lms_orig)\n",
    "    # Set the k for all to be the same\n",
    "    for pair_num in pair_piece_lms.keys():\n",
    "        for piece in pair_piece_lms[pair_num].keys():\n",
    "            pair_piece_lms[pair_num][piece].smoothing_k = k[0]\n",
    "            \n",
    "    cross_entropies = []  # get the cross-entropy for each fold\n",
    "    for pair_num in folds.keys():\n",
    "        test_set = folds[pair_num]\n",
    "        s = 0\n",
    "        count = 0\n",
    "        for i, ref_info in enumerate(test_set):\n",
    "            # assume we know the correct ref piece\n",
    "            piece = ref_info[4]\n",
    "            lm = pair_piece_lms[pair_num][piece]\n",
    "            ref = [\"<s>\"] * (lm.order -1) + ref_info[0].split() + [\"</s>\"]\n",
    "            prob = 0\n",
    "            for j in range(lm.order-1, len(ref)):\n",
    "                target = ref[j]\n",
    "                context = ref[j-(lm.order-1):j]\n",
    "                ngram = context + [target]\n",
    "                prob += log(lm.prob_lidstone(ngram, lm.order))\n",
    "            s += prob\n",
    "            count +=1\n",
    "            if prob_model == 'self':\n",
    "                # self language model, starting empty for a piece\n",
    "                # then will train as it encounters each piece\n",
    "                #print(pair_piece_lms[pair_num][piece].num_training_sents, \"train sents so far before\")\n",
    "                pair_piece_lms[pair_num][piece].train([ref_info[0].split()])\n",
    "    \n",
    "        cross_entropy = -s / count\n",
    "        cross_entropies.append(cross_entropy)\n",
    "    #print(k, cross_entropies, np.mean(cross_entropies))\n",
    "    return np.mean(cross_entropies)"
   ]
  },
  {
   "cell_type": "code",
   "execution_count": 23,
   "metadata": {
    "scrolled": true
   },
   "outputs": [
    {
     "name": "stdout",
     "output_type": "stream",
     "text": [
      "dict_keys(['r1', 'r2', 'r3', 'r4', 'r5', 'r7', 'r8'])\n",
      "100 [('das orange l', 'r1_B', 5887, 204.521, 'L'), ('das kreuz', 'r1_B', 5893, 219.022, 'X'), ('das grüne t', 'r1_B', 5901, 228.117, 'T'), ('das t', 'r1_B', 5903, 231.474, 'T'), ('das t', 'r1_B', 5907, 241.893, 'T'), ('das t', 'r1_B', 5907, 241.893, 'T'), ('das gelbe', 'r1_B', 5919, 258.434, 'U'), ('die brücke', 'r1_B', 5921, 260.36, 'U'), ('das pinkfarbene teil', 'r1_B', 5924, 266.23, 'P'), ('den blauen balken', 'r1_B', 5935, 304.366, 'I')]\n"
     ]
    }
   ],
   "source": [
    "training_folds = {k:references_per_pair[k] for k in filter(lambda x:x!=TEST, references_per_pair.keys())}\n",
    "print(training_folds.keys())\n",
    "print(len(training_folds['r1']), training_folds['r1'][:10])"
   ]
  },
  {
   "cell_type": "code",
   "execution_count": 24,
   "metadata": {},
   "outputs": [],
   "source": [
    "def get_params_for_lowest_entropy_on_fold_test(folds, pieces, n_range, k_val_range, prob_model='self'):\n",
    "    \"\"\"An x-fold process run multiple times to find the best params of n and k (smoothing constant)\n",
    "    for an ngram model\n",
    "    \"\"\"\n",
    "    results = {}  # store results for each model\n",
    "    for test_n in n_range:\n",
    "        pair_piece_lms = {}  # will produce all lms for each speaker for each piece with order test_n\n",
    "        for test_pair in folds.keys():\n",
    "            # test pair is the list of refs to get the entropy results on in both cases\n",
    "            # in 'other' model, referent_lm model is trained on refs on all other folds\n",
    "            # in 'self' model, referent_lm model is trained on test_pair incrementally dynamically\n",
    "                  #i.e. retrained with the ref added to the counts after that ref is tested\n",
    "            pair_piece_lms[test_pair] = {}  # key piece, value language model for that piece\n",
    "            for piece in pieces:\n",
    "                if prob_model == 'other':\n",
    "                    # train the model (smoothing can be changed as it doesn't affect training)\n",
    "\n",
    "                    training_refs = []\n",
    "                    \n",
    "                    for other_pair_num in folds.keys():\n",
    "                        if other_pair_num == test_pair:\n",
    "                            continue\n",
    "                        training_refs.extend([ref for ref in filter(lambda x:x[4]==piece, folds[other_pair_num])])  \n",
    "                    training_fold = [r[0] for r in training_refs]\n",
    "                    #print(\"length of training fold for lm2\", piece, test_pair, len(training_fold))\n",
    "                    if len(training_fold) <1:\n",
    "                        print(\"not enough data\", piece, pair_num)\n",
    "                        continue\n",
    "                    pair_piece_lms[test_pair][piece] = mini_language_model(test_n, smoothing_k=0.0001)    \n",
    "                    pair_piece_lms[test_pair][piece].train([sent.split() for sent in training_fold])\n",
    "\n",
    "                elif prob_model == 'self':\n",
    "                    # just initialize lm for piece, no need to train\n",
    "                    pair_piece_lms[test_pair][piece] = mini_language_model(test_n, smoothing_k=0.0001)    \n",
    "             \n",
    "            \n",
    "        # run nelder mead to get best k for this n\n",
    "        best = optimize.minimize(\n",
    "                mean_cross_entropy_on_test_folds,\n",
    "                k_val_range[0],    # first argument that to be optimized (k)\n",
    "                args=(pair_piece_lms, folds, prob_model),  # other arguments to the function\n",
    "                method='Nelder-Mead', # use nelder mead to find minima\n",
    "                tol=0.0001, # to this degree of error\n",
    "                options={'disp': False},\n",
    "                bounds=[k_val_range]\n",
    "        )\n",
    "        best_k, best_ce = best.x[0], best.fun\n",
    "        print(\"best k\", best_k, best_ce)\n",
    "        results[test_n] = (best_k, best_ce)\n",
    "    \n",
    "    print(results)\n",
    "    n = min(results.items(), key=lambda x:x[1][1])[0]\n",
    "    k = results[n][0]\n",
    "               \n",
    "    return n, k, results"
   ]
  },
  {
   "cell_type": "code",
   "execution_count": 25,
   "metadata": {},
   "outputs": [
    {
     "name": "stdout",
     "output_type": "stream",
     "text": [
      "r6 r3\n",
      "best k 1.0 6.888102616308842\n",
      "best k 1.0 6.52145259682649\n",
      "best k 1.0 7.728045929992373\n",
      "{1: (1.0, 6.888102616308842), 2: (1.0, 6.52145259682649), 3: (1.0, 7.728045929992373)}\n",
      "best k 1.0 8.408430284308672\n",
      "best k 0.5616435295000011 7.499882332471413\n",
      "best k 0.23134208950000051 8.586682721678459\n",
      "{1: (1.0, 8.408430284308672), 2: (0.5616435295000011, 7.499882332471413), 3: (0.23134208950000051, 8.586682721678459)}\n",
      "best k 1.0 6.915151572870145\n",
      "best k 1.0 6.45897208116136\n",
      "best k 1.0 7.63492546812265\n",
      "{1: (1.0, 6.915151572870145), 2: (1.0, 6.45897208116136), 3: (1.0, 7.63492546812265)}\n",
      "best k 1.0 8.323678483317178\n",
      "best k 0.594935817500001 7.391706636840973\n",
      "best k 0.24091034550000048 8.447313934773915\n",
      "{1: (1.0, 8.323678483317178), 2: (0.594935817500001, 7.391706636840973), 3: (0.24091034550000048, 8.447313934773915)}\n",
      "best k 1.0 6.91225865446311\n",
      "best k 1.0 6.64099377696999\n",
      "best k 1.0 7.820652567100866\n",
      "{1: (1.0, 6.91225865446311), 2: (1.0, 6.64099377696999), 3: (1.0, 7.820652567100866)}\n",
      "best k 1.0 8.488818469588526\n",
      "best k 1.0 7.904024842726817\n",
      "best k 0.5071175775000009 9.161393380296687\n",
      "{1: (1.0, 8.488818469588526), 2: (1.0, 7.904024842726817), 3: (0.5071175775000009, 9.161393380296687)}\n",
      "best k 1.0 6.804752101985131\n",
      "best k 1.0 6.464580612474393\n",
      "best k 1.0 7.604772197680837\n",
      "{1: (1.0, 6.804752101985131), 2: (1.0, 6.464580612474393), 3: (1.0, 7.604772197680837)}\n",
      "best k 1.0 8.378730222606686\n",
      "best k 1.0 7.756461492137564\n",
      "best k 0.4908646495000008 8.960245115879657\n",
      "{1: (1.0, 8.378730222606686), 2: (1.0, 7.756461492137564), 3: (0.4908646495000008, 8.960245115879657)}\n",
      "best k 1.0 6.887052829109343\n",
      "best k 1.0 6.612336225822758\n",
      "best k 1.0 7.850687666885038\n",
      "{1: (1.0, 6.887052829109343), 2: (1.0, 6.612336225822758), 3: (1.0, 7.850687666885038)}\n",
      "best k 1.0 8.509578293696174\n",
      "best k 0.7045775455000011 7.7765412818875115\n",
      "best k 0.2976645215000006 9.004928744231155\n",
      "{1: (1.0, 8.509578293696174), 2: (0.7045775455000011, 7.7765412818875115), 3: (0.2976645215000006, 9.004928744231155)}\n",
      "best k 1.0 7.05728656347913\n",
      "best k 1.0 6.770853794476042\n",
      "best k 1.0 7.991444356737365\n",
      "{1: (1.0, 7.05728656347913), 2: (1.0, 6.770853794476042), 3: (1.0, 7.991444356737365)}\n",
      "best k 1.0 8.607309736446654\n",
      "best k 0.6161039455000011 7.756086795371018\n",
      "best k 0.24038605750000047 8.893465081610744\n",
      "{1: (1.0, 8.607309736446654), 2: (0.6161039455000011, 7.756086795371018), 3: (0.24038605750000047, 8.893465081610744)}\n",
      "best k 1.0 6.861344040082185\n",
      "best k 1.0 6.510624652000108\n",
      "best k 1.0 7.659888935808847\n",
      "{1: (1.0, 6.861344040082185), 2: (1.0, 6.510624652000108), 3: (1.0, 7.659888935808847)}\n",
      "best k 1.0 8.289720031699142\n",
      "best k 0.7143424095000012 7.447365057189647\n",
      "best k 0.3031695455000006 8.596526338555265\n",
      "{1: (1.0, 8.289720031699142), 2: (0.7143424095000012, 7.447365057189647), 3: (0.3031695455000006, 8.596526338555265)}\n",
      "{'n_self': 2, 'k_self': 1.0, 'n_other': 2, 'k_other': 0.741657606785715}\n"
     ]
    }
   ],
   "source": [
    "# Firstly, in a self-supervised way, optimize the global + local language models in terms of n and smoothing param to get the lowest cross-entropy\n",
    "# We only go for the global best average across all pairs and pieces for the rest of the experiments\n",
    "print(TEST, HELDOUT)\n",
    "opt_params = {}\n",
    "n_range = [1,2,3]\n",
    "k_val_range = [0.00000001, 1]\n",
    "\n",
    "l = list(filter(lambda x:x!=TEST, references_per_pair.keys()))\n",
    "\n",
    "all_n_self = []\n",
    "all_k_self = []\n",
    "all_n_other = []\n",
    "all_k_other = []\n",
    "\n",
    "for heldout in l:\n",
    "    training_folds = {k:references_per_pair[k] for k in filter(lambda x:x not in [TEST, heldout], references_per_pair.keys())}\n",
    "    \n",
    "    n_self, k_self, lm_opt_results_self = get_params_for_lowest_entropy_on_fold_test(training_folds, good_pieces,\n",
    "                                                                  n_range, k_val_range, prob_model='self')\n",
    "\n",
    "\n",
    "    all_n_self.append(n_self)\n",
    "    all_k_self.append(k_self)\n",
    "\n",
    "    n_other, k_other, lm_opt_results_other = get_params_for_lowest_entropy_on_fold_test(training_folds, good_pieces,\n",
    "                                                                  n_range, k_val_range, prob_model='other')\n",
    "    \n",
    "    all_n_other.append(n_other)\n",
    "    all_k_other.append(k_other)\n",
    "    \n",
    "    \n",
    "opt_params[\"n_self\"] = round(np.mean(all_n_self))  # NB python rounds down 0.5 but shouldn't matter\n",
    "opt_params[\"k_self\"] = np.mean(all_k_self)\n",
    "\n",
    "opt_params[\"n_other\"] = round(np.mean(all_n_other)) # NB python rounds down 0.5 but shouldn't matter\n",
    "opt_params[\"k_other\"] = np.mean(all_k_other)\n",
    "print(opt_params)"
   ]
  },
  {
   "cell_type": "code",
   "execution_count": 26,
   "metadata": {},
   "outputs": [],
   "source": [
    "def mean_cross_entropy_on_test_folds_joint_model(lambda_lm1, pair_piece_lms_self_orig, pair_piece_lms_other_orig,\n",
    "                                                 cutoff_word_global_lm, folds):\n",
    "    #print(\"lambda\", lambda_lm1, \"cutoff\", cutoff_word_global_lm)\n",
    "    pair_piece_lms_self = copy.deepcopy(pair_piece_lms_self_orig)\n",
    "    pair_piece_lms_other = copy.deepcopy(pair_piece_lms_other_orig)\n",
    "            \n",
    "    cross_entropies = []  # get the cross-entropy for each fold\n",
    "    for pair_num in folds.keys():\n",
    "        test_set = folds[pair_num]\n",
    "        s = 0\n",
    "        count = 0\n",
    "        for i, ref_info in enumerate(test_set):\n",
    "            # assume we know the correct ref piece\n",
    "            piece = ref_info[4]\n",
    "            \n",
    "            # get the weighted prob contribution from the self model\n",
    "            self_prob = 1\n",
    "            lm_self = pair_piece_lms_self[pair_num][piece]\n",
    "            ref = [\"<s>\"] * (lm_self.order -1) + ref_info[0].split() + [\"</s>\"]\n",
    "            \n",
    "            for j in range(lm_self.order-1, len(ref)):\n",
    "                target = ref[j]\n",
    "                context = ref[j-(lm_self.order-1):j]\n",
    "                ngram = context + [target]\n",
    "                self_prob = self_prob * lm_self.prob_lidstone(ngram, lm_self.order)\n",
    "                \n",
    "            # get the weighted prob contribution from the other model\n",
    "            other_prob = 1\n",
    "            lm_other = pair_piece_lms_other[pair_num][piece]\n",
    "            ref = [\"<s>\"] * (lm_other.order -1) + ref_info[0].split() + [\"</s>\"]\n",
    "            for j in range(lm_other.order-1, len(ref)):\n",
    "                target = ref[j]\n",
    "                context = ref[j-(lm_other.order-1):j]\n",
    "                ngram = context + [target]\n",
    "                other_prob = other_prob * lm_other.prob_lidstone(ngram, lm_other.order)\n",
    "            \n",
    "            # combine the probs with correct lambda weights\n",
    "            \n",
    "            # calculate the correct lambda weights based on the cut-off word\n",
    "            \n",
    "            lambda_global = 1- lambda_lm1\n",
    "            factor = 0 if cutoff_word_global_lm <=1 else (1-lambda_global)/(cutoff_word_global_lm-1)\n",
    "            num_refs_f = pair_piece_lms_self[pair_num][piece].num_training_sents  # + 1 # to include the current one?\n",
    "            current_lambda_lm1 = 1 - max([lambda_global + (factor * ((((cutoff_word_global_lm-1)-num_refs_f)))), lambda_global])\n",
    "\n",
    "            \n",
    "            prob = (current_lambda_lm1 * self_prob) + ((1-current_lambda_lm1) * other_prob)\n",
    "            #final_ref_info = tuple(list(ref_info) + [prob, len(ref_info[0].split()), num_refs_f])\n",
    "            #piece_references_and_probabilities_per_pair[pair_num].append(final_ref_info)\n",
    "            \n",
    "            s += log(prob)\n",
    "            count +=1\n",
    "            \n",
    "            # update self language model, which starts empty for a piece\n",
    "            # then will train as it encounters each piece\n",
    "            #print(pair_piece_lms_self[pair_num][piece].num_training_sents, \"train sents so far before\")\n",
    "            pair_piece_lms_self[pair_num][piece].train([ref_info[0].split()])\n",
    "\n",
    "        cross_entropy = -s / count\n",
    "        cross_entropies.append(cross_entropy)\n",
    "    #print(lambda_lm1, cross_entropies, np.mean(cross_entropies))\n",
    "    return np.mean(cross_entropies)"
   ]
  },
  {
   "cell_type": "code",
   "execution_count": 27,
   "metadata": {},
   "outputs": [],
   "source": [
    "# NB MAY NOT USE THIS METHOD FOR OPTIMIZING THESE TWO\n",
    "def get_best_params_cutoff_lambda_xval(n_self, n_other, k_self, k_other, pieces, folds,\n",
    "                                       cutoff_range = [1,10],\n",
    "                                       lambda_range=[0,1]):\n",
    "    \"\"\"An x-fold process run multiple times to find the best params of lambda (weighting of local language model)\n",
    "    and cut-off word at which only the local model applies (with a gradual weighting)\n",
    "    \"\"\"\n",
    "    results = {}  # store results for each model\n",
    "    \n",
    "    for test_cutoff in range(cutoff_range[0], cutoff_range[1]+1):\n",
    "        pair_piece_lms_self = {}  # will produce all lms for each speaker for each piece with order test_cutoff\n",
    "        pair_piece_lms_other = {}  # will produce all lms for each speaker for each piece with order test_cutoff\n",
    "        for test_pair in folds.keys():\n",
    "            # test pair is the list of refs to get the entropy results on in both cases\n",
    "            # in 'other' model, referent_lm model is trained on refs on all other folds\n",
    "            # in 'self' model, referent_lm model is trained on test_pair incrementally dynamically\n",
    "                  #i.e. retrained with the ref added to the counts after that ref is tested\n",
    "            pair_piece_lms_other[test_pair] = {}  # key piece, value language model for that piece\n",
    "            pair_piece_lms_self[test_pair] = {}  # key piece, value language model for that piece\n",
    "            for piece in pieces:\n",
    "                for prob_model in ['other', 'self']:\n",
    "                    if prob_model == 'other':\n",
    "                        # train the model (smoothing can be changed as it doesn't affect training)\n",
    "\n",
    "                        training_refs = []\n",
    "\n",
    "                        for other_pair_num in folds.keys():\n",
    "                            if other_pair_num == test_pair:\n",
    "                                continue\n",
    "                            training_refs.extend([ref for ref in filter(lambda x:x[4]==piece, folds[other_pair_num])])  \n",
    "                        training_fold = [r[0] for r in training_refs]\n",
    "                        #print(\"length of training fold for lm2\", piece, test_pair, len(training_fold))\n",
    "                        if len(training_fold) <1:\n",
    "                            print(\"not enough data\", piece, pair_num)\n",
    "                            continue\n",
    "                        pair_piece_lms_other[test_pair][piece] = mini_language_model(n_other, smoothing_k=k_other)    \n",
    "                        pair_piece_lms_other[test_pair][piece].train([sent.split() for sent in training_fold])\n",
    "\n",
    "                    elif prob_model == 'self':\n",
    "                        # just initialize lm for piece, no need to train\n",
    "                        pair_piece_lms_self[test_pair][piece] = mini_language_model(n_self, smoothing_k=k_self)    \n",
    "\n",
    "        # run nelder mead to get best lambda\n",
    "        best = optimize.minimize(\n",
    "                mean_cross_entropy_on_test_folds_joint_model,\n",
    "                lambda_range[0],    # first argument to be optimized (lambda)\n",
    "                args=(pair_piece_lms_self, pair_piece_lms_other, test_cutoff, folds),  # other arguments to the function\n",
    "                method='Nelder-Mead', # use nelder mead to find minima\n",
    "                tol=0.0001, # to this degree of error\n",
    "                options={'disp': False},\n",
    "                bounds=[lambda_range]\n",
    "        )\n",
    "        best_lambda, best_ce = best.x[0], best.fun\n",
    "        #print(\"best lambda\", best_lambda, best_ce)\n",
    "        results[test_cutoff] = (best_lambda, best_ce)\n",
    "    \n",
    "    print(results)\n",
    "    cutoff = min(results.items(), key=lambda x:x[1][1])[0]\n",
    "    lambda_lm1 = results[cutoff][0]\n",
    "               \n",
    "    return cutoff, lambda_lm1, results\n",
    "    "
   ]
  },
  {
   "cell_type": "code",
   "execution_count": 371,
   "metadata": {},
   "outputs": [],
   "source": [
    "def get_new_piece_lms_from_folds(n, k, pieces, folds, target_folds=None, train=False, heldout_extra_fold=None):\n",
    "    \"\"\"Returns a piece based language model objects of n=n, k=k, using the training folds\"\"\"\n",
    "    #print('num folds', len(folds.keys()))\n",
    "    pair_piece_lms_other = {}\n",
    "    for test_pair in folds.keys():\n",
    "        # test pair is the list of refs to get the entropy results on in both cases\n",
    "        # in 'other' model, referent_lm model is trained on refs on all other folds\n",
    "        # in 'self' model, referent_lm model is trained on test_pair incrementally dynamically\n",
    "              #i.e. retrained with the ref added to the counts after that ref is tested\n",
    "        if not test_pair in target_folds:\n",
    "            continue\n",
    "        pair_piece_lms_other[test_pair] = {}  # key piece, value language model for that piece\n",
    "        count = 0\n",
    "        for piece in pieces:\n",
    "            # train the model (smoothing can be changed as it doesn't affect training)\n",
    "            pair_piece_lms_other[test_pair][piece] = mini_language_model(n, smoothing_k=k)  \n",
    "            if train:\n",
    "                training_refs = []\n",
    "                non_training_pairs = [test_pair]\n",
    "                if not heldout_extra_fold is None:\n",
    "                    # hold out either the heldout extra fold or it's the test pair, another one\n",
    "                    random.seed(0)   #count)\n",
    "                    count+=1\n",
    "                    l = list(filter(lambda x:x!=test_pair,(folds.keys())))\n",
    "                    shuffle(l)  # NB this may not have been shuffled before\n",
    "                    heldout = l[0] if test_pair == heldout_extra_fold else heldout_extra_fold\n",
    "                    #heldout = l[0]\n",
    "                    non_training_pairs.append(heldout)\n",
    "                num_training_pairs = 0\n",
    "                for other_pair_num in folds.keys():\n",
    "                    if other_pair_num in non_training_pairs:\n",
    "                        continue\n",
    "                    training_refs.extend([ref for ref in filter(lambda x:x[4]==piece, folds[other_pair_num])]) \n",
    "                    num_training_pairs+=1\n",
    "                #print(\"num training pairs for lm\", piece, test_pair, num_training_pairs)\n",
    "                training_fold = [r[0] for r in training_refs]\n",
    "                #print(\"length of training fold for lm\", piece, test_pair, len(training_fold))\n",
    "                if len(training_fold) <1:\n",
    "                    print(\"not enough data\", piece, test_pair)\n",
    "                    continue\n",
    "                pair_piece_lms_other[test_pair][piece].train([sent.split() for sent in training_fold])\n",
    "    return pair_piece_lms_other"
   ]
  },
  {
   "cell_type": "code",
   "execution_count": 43,
   "metadata": {},
   "outputs": [],
   "source": [
    "def generate_classifier_data_from_lms_and_params(pair_piece_lms_self_orig, pair_piece_lms_other_orig, pieces, lambda_lm1, cutoff_word_global_lm, folds, lexical=True):\n",
    "    # Creates the appropriate language models for, and trains and tests classifiers for a given test pair\n",
    "    # create the speaker-wise fold language models (using all other pairs except key)\n",
    "   \n",
    "    # Record all scores (probabilities) for each piece according to the language models in the folds \n",
    "    # (Which uses both other language models from observing other pairs and the local updating language model/pact model)\n",
    "    piece_references_and_probabilities_per_pair = {}\n",
    "\n",
    "    pair_piece_lms_self = copy.deepcopy(pair_piece_lms_self_orig)\n",
    "    pair_piece_lms_other = copy.deepcopy(pair_piece_lms_other_orig)\n",
    "\n",
    "  \n",
    "    \n",
    "    cross_entropies = []  # get the cross-entropy for each fold\n",
    "    for pair_num in folds.keys():\n",
    "        test_set = folds[pair_num]\n",
    "        piece_references_and_probabilities_per_pair[pair_num] = []\n",
    "        s = 0\n",
    "        count = 0\n",
    "        for i, ref_info in enumerate(test_set):\n",
    "   \n",
    "            target_piece = ref_info[4]\n",
    "            \n",
    "            piece_prob_dict = {} # gets the raw probs assigned to ref by all models\n",
    "            \n",
    "            for piece in pieces:\n",
    "                # get the weighted prob contribution from the self model\n",
    "                self_prob = 1\n",
    "                lm_self = pair_piece_lms_self[pair_num][piece]\n",
    "                ref = [\"<s>\"] * (lm_self.order -1) + ref_info[0].split() + [\"</s>\"]\n",
    "\n",
    "                for j in range(lm_self.order-1, len(ref)):\n",
    "                    target = ref[j]\n",
    "                    context = ref[j-(lm_self.order-1):j]\n",
    "                    ngram = context + [target]\n",
    "                    self_prob = self_prob * lm_self.prob_lidstone(ngram, lm_self.order)\n",
    "\n",
    "                # get the weighted prob contribution from the other model\n",
    "                other_prob = 1\n",
    "                lm_other = pair_piece_lms_other[pair_num][piece]\n",
    "                ref = [\"<s>\"] * (lm_other.order -1) + ref_info[0].split() + [\"</s>\"]\n",
    "                for j in range(lm_other.order-1, len(ref)):\n",
    "                    target = ref[j]\n",
    "                    context = ref[j-(lm_other.order-1):j]\n",
    "                    ngram = context + [target]\n",
    "                    other_prob = other_prob * lm_other.prob_lidstone(ngram, lm_other.order)\n",
    "\n",
    "                # combine the probs with correct lambda weights\n",
    "\n",
    "                # calculate the correct lambda weights based on the cut-off word\n",
    "                lambda_global = 1- lambda_lm1\n",
    "                factor = 0 if cutoff_word_global_lm <=1 else (1-lambda_global)/(cutoff_word_global_lm-1)\n",
    "                num_refs_f = pair_piece_lms_self[pair_num][piece].num_training_sents  # + 1 # to include the current one?\n",
    "                current_lambda_lm1 = 1 - max([lambda_global + (factor * ((((cutoff_word_global_lm-1)-num_refs_f)))), lambda_global])\n",
    "\n",
    "\n",
    "                prob = (current_lambda_lm1 * self_prob) + ((1-current_lambda_lm1) * other_prob)\n",
    "                \n",
    "                \n",
    "                    \n",
    "                \n",
    "                \n",
    "                piece_prob_dict[piece] = (-log(prob)/len(ref_info[0].split()), num_refs_f)\n",
    "\n",
    "                # only get the entropy for target piece\n",
    "                if piece == target_piece:\n",
    "                    s += log(prob)\n",
    "                    count +=1\n",
    "            \n",
    "            \n",
    "            \n",
    "            # update self language model, which starts empty for a piece\n",
    "            # then will train as it encounters each piece\n",
    "            #print(pair_piece_lms_self[pair_num][piece].num_training_sents, \"train sents so far before\")\n",
    "            pair_piece_lms_self[pair_num][target_piece].train([ref_info[0].split()])\n",
    "            \n",
    "        \n",
    "            \n",
    "            # could add moving averages for how this piece has been judged probability-wise by each piece model\n",
    "            # built so far in this interaction by different models\n",
    "            # for this instance, we don't know what the correct referent is, so we only have the probs from the models\n",
    "            #  will be num shapes * num shapes\n",
    "            # assumes the latest prob dict for this piece is a new instance for all shapes:\n",
    "            init_probs_from_current = {k: [v[0]] for k, v in piece_prob_dict.items()}\n",
    "            probs_assigned_to_pieces_so_far = {k:copy.deepcopy(init_probs_from_current) for k, v in piece_prob_dict.items()}\n",
    "            # for previous instances, we do know what the correct referents were\n",
    "            # so we can check what the effect of combining the current probs to those from previous positive examples\n",
    "            # NB and negative ones too?\n",
    "            # scroll forward from start of interaction up to but not including current ref\n",
    "            for j in range(0, i):\n",
    "                back_ref_info = piece_references_and_probabilities_per_pair[pair_num][j]\n",
    "                back_ref_prob_dict = back_ref_info[5]\n",
    "                back_ref_target_piece = back_ref_info[4]\n",
    "                \n",
    "                for k, v in back_ref_prob_dict.items():\n",
    "                    if probs_assigned_to_pieces_so_far[back_ref_target_piece].get(k) is None:\n",
    "                        probs_assigned_to_pieces_so_far[back_ref_target_piece][k] = []\n",
    "                    probs_assigned_to_pieces_so_far[back_ref_target_piece][k].append(v[0])\n",
    "            \n",
    "            # will be num shapes * num shapes\n",
    "            moving_average_prob_dicts_all_lms = {k:{} for k, v in piece_prob_dict.items()}\n",
    "            for target_p in probs_assigned_to_pieces_so_far.keys():\n",
    "                for a_p in probs_assigned_to_pieces_so_far[target_p].keys():\n",
    "                    moving_average_prob_dicts_all_lms[target_p][a_p] = np.mean(probs_assigned_to_pieces_so_far[target_p][a_p])\n",
    "                    \n",
    "            \n",
    "            \n",
    "            final_ref_info = tuple(list(ref_info) + [piece_prob_dict, moving_average_prob_dicts_all_lms, len(ref_info[0].split())])\n",
    "            piece_references_and_probabilities_per_pair[pair_num].append(final_ref_info)\n",
    "            \n",
    "\n",
    "        cross_entropy = -s / count\n",
    "        cross_entropies.append(cross_entropy)\n",
    "  \n",
    "    return piece_references_and_probabilities_per_pair\n",
    "    "
   ]
  },
  {
   "cell_type": "code",
   "execution_count": 30,
   "metadata": {},
   "outputs": [
    {
     "data": {
      "text/plain": [
       "{'K': -0.7071067811865476, 'X': -0.7071067811865476, 'Y': 1.4142135623730951}"
      ]
     },
     "execution_count": 30,
     "metadata": {},
     "output_type": "execute_result"
    }
   ],
   "source": [
    "def get_zscore_dict_for_prob_dict(prob_dict):\n",
    "    probs  = [item[1] for item in sorted(prob_dict.items(), key=lambda x:x[0])] # alpha\n",
    "    zscores = list(stats.zscore(np.array(probs)))\n",
    "    def convert_nan(v):\n",
    "        if np.isnan(v):\n",
    "            return - 100\n",
    "        return v\n",
    "    return {k: convert_nan(v) for k, v in zip(sorted(prob_dict.keys()), zscores)}\n",
    "\n",
    "get_zscore_dict_for_prob_dict({\"K\": 0.33, \"Y\": 0.35, \"X\": 0.33})"
   ]
  },
  {
   "cell_type": "code",
   "execution_count": 31,
   "metadata": {},
   "outputs": [],
   "source": [
    "def generate_classifier_data_from_raw(folds, lexical=True, lm_features=True, moving_average=False):\n",
    "    \"\"\"Gets derived data from raw probs from language models\"\"\"\n",
    "    final_data = []\n",
    "    current_pair_num = None\n",
    "    for current_pair_num in folds.keys():\n",
    "        raw_data = folds[current_pair_num]\n",
    "        for ref_info in raw_data:\n",
    "            #('das orange l', 'r1_B', 5887, 204.521, 'L', prob_dict, ref_length)\n",
    "\n",
    "            text, speaker, utt_id, end_time, target_piece, prob_dict, piece_lm_moving_average, ref_length = ref_info\n",
    "\n",
    "\n",
    "\n",
    "\n",
    "            #if current_pair_piece_probs.get(piece) is None:\n",
    "            #    current_pair_piece_probs[piece] = []\n",
    "\n",
    "\n",
    "            feature_vector = {}\n",
    "\n",
    "            if lexical:\n",
    "                clean_utt = text.lower().split()\n",
    "                word_dem = len(clean_utt)\n",
    "\n",
    "                local_word_count = Counter()\n",
    "\n",
    "                for word in clean_utt:\n",
    "                    #word_counter[word] += (1/word_dem)   # for global\n",
    "                    #word_piece_counter[piece+\"__\"+word] += (1/word_dem)  #for global\n",
    "                    local_word_count[word] += 1\n",
    "\n",
    "                for k, v in local_word_count.items():\n",
    "                    feature_vector[k] = local_word_count[k]/word_dem\n",
    "\n",
    "\n",
    "\n",
    "            if lm_features:\n",
    "                length_weighted_prob_dict = {k:v[0] for k,v in prob_dict.items()}\n",
    "\n",
    "                #for k, v in length_weighted_prob_dict.items():\n",
    "                #    feature_vector['local_prob_' + k] = v\n",
    "\n",
    "                zscore_dict = get_zscore_dict_for_prob_dict(length_weighted_prob_dict)\n",
    "\n",
    "                for k, v in zscore_dict.items():\n",
    "                    feature_vector['local_zscore_prob_' + k] = v \n",
    "\n",
    "                if moving_average:\n",
    "                    #pass\n",
    "                    # to get a smoother measure of the pacts so far (after the first one), \n",
    "                    # we calculate what the moving average lm score is for each piece lm\n",
    "                    # with which previous pieces and current probs for this pair\n",
    "                    # give for the current piece (not knowing what it is and assuming it's of each type)\n",
    "                    # i.e. assuming it's of a shape (X), what's the moving average of all the piece lm's on this type of piece?\n",
    "                    # you'd need num pieces * num pieces number of moving probs for it to be fair, not just for the target\n",
    "\n",
    "                    for _target in piece_lm_moving_average.keys():\n",
    "                        #if not _target == target_piece: # NB this is cheating!\n",
    "                        #    continue\n",
    "                        zscore_dict_average = get_zscore_dict_for_prob_dict(piece_lm_moving_average[_target])\n",
    "                        for k, v in zscore_dict_average.items():  \n",
    "                            if not k == _target:\n",
    "                                continue\n",
    "                            #feature_vector['local_prob_moving_zcore' + _target + \":\" + k] = v\n",
    "                            #feature_vector['local_prob_moving_zcore' + _target + \":\" + k] =  piece_lm_moving_average[_target][k]\n",
    "                            feature_vector['local_prob_moving_zcore' + _target + \":\" + k] =  v\n",
    "\n",
    "                #zscore_dict_average = get_zscore_dict_for_prob_dict(piece_lm_moving_average)\n",
    "\n",
    "                #for k, v in zscore_dict_average.items():\n",
    "                #    feature_vector['local_zscore_prob_moving_' + k] = v \n",
    "\n",
    "\n",
    "            #rank_dict = get_rank_dict_for_prob_dict(piece_lm_prob_local)\n",
    "\n",
    "            #for k, v in rank_dict.items():\n",
    "            #    feature_vector['local_prob_rank' + k] = v \n",
    "            final_data.append((feature_vector, target_piece))\n",
    "    return final_data\n"
   ]
  },
  {
   "cell_type": "code",
   "execution_count": 32,
   "metadata": {},
   "outputs": [],
   "source": [
    "# TRAINING AND VALIDATING OUR CLASSIFIER\n",
    "\n",
    "from warnings import simplefilter\n",
    "from sklearn.exceptions import ConvergenceWarning, UndefinedMetricWarning\n",
    "simplefilter(\"ignore\", category=ConvergenceWarning)\n",
    "\n",
    "def train_classifier(trainData):\n",
    "    #print(\"Training Classifier...\")\n",
    "    return SklearnClassifier(LinearSVC(loss='squared_hinge')).train(trainData)\n",
    "    #return SklearnClassifier(LogisticRegression()).train(trainData)\n",
    "\n",
    "def predict_labels(samples, classifier):\n",
    "    return classifier.classify_many(map(lambda t: t[0], samples))\n"
   ]
  },
  {
   "cell_type": "code",
   "execution_count": 33,
   "metadata": {},
   "outputs": [],
   "source": [
    "if False:\n",
    "    # Alternative method for finding best lambda local and cut-off - may not work as LMs of different size, so will always favour\n",
    "    # high lambda for the local model which will always give higher probabilities\n",
    "    # experiment with and optimize the best lambda weight on the local model and best cut-off point\n",
    "    # in process get the cross validation results\n",
    "    print(opt_params)\n",
    "    n_self = opt_params[\"n_self\"]\n",
    "    n_other = opt_params[\"n_other\"]\n",
    "    k_self = opt_params[\"k_self\"]\n",
    "    k_other = opt_params[\"k_other\"]\n",
    "    cutoff_word_global_lm, lambda_local, x_val_results = get_best_params_cutoff_lambda_xval(n_self, n_other,\n",
    "                                                                                            k_self, k_other,\n",
    "                                                                                            good_pieces, training_folds,\n",
    "                                                                                            cutoff_range=[1,5],\n",
    "                                                                                            lambda_range=[0,1]) \n",
    "    opt_params[\"lambda_local\"] = lambda_local\n",
    "    opt_params[\"cutoff_word_global_lm\"] = cutoff_word_global_lm"
   ]
  },
  {
   "cell_type": "code",
   "execution_count": 453,
   "metadata": {},
   "outputs": [],
   "source": [
    "# finally get the test results with best language models (will have done this 7 times above in each xval)\n",
    "\n",
    "def get_fscore_and_preds(references_per_pair, test, heldout, n_other, n_self, k_other, k_self, lambda_local, cutoff_word_global_lm, \n",
    "               lexical=True, \n",
    "               lm_features=True,\n",
    "               moving_average=False,\n",
    "               exhaustive_retrain=False,\n",
    "               no_train=False,\n",
    "               heldout_extra_fold=None):\n",
    "    \n",
    "    # First generate training data by getting the other/global probs from the other pair folds (k-fold style)\n",
    "    # This is to simulate what it's like \n",
    "    # So the LM sizes are num_folds - 1\n",
    "    # One problem is in the case where there is one pair to learn from, this means there is no 'other' model\n",
    "    #, only one, so it has to use its own probabilities, which aren't representative\n",
    "    training_folds = {k:references_per_pair[k] for k in filter(lambda x:x not in [test], references_per_pair.keys())}\n",
    "    global_training_folds = {k:references_per_pair[k] for k in filter(lambda x:x not in [test], references_per_pair.keys())}\n",
    "    extra_fold_penalty = 1 if heldout_extra_fold is not None else 0\n",
    "    if (len(global_training_folds)-extra_fold_penalty) == 1:\n",
    "        # this won't work at all as it needs to learn from other pairs, so just copy it to learn from its final model\n",
    "        # not ideal but at least gives values\n",
    "        global_training_folds['extra'] = global_training_folds[list(global_training_folds.keys())[0]]\n",
    "        \n",
    "    lms_global = get_new_piece_lms_from_folds(n_other, k_other, good_pieces,\n",
    "                                              global_training_folds, target_folds=global_training_folds.keys(),\n",
    "                                              train=True,\n",
    "                                              heldout_extra_fold=heldout_extra_fold)\n",
    "    #print(\"global model trained for training\")\n",
    "    lms_self = get_new_piece_lms_from_folds(n_self, k_self, good_pieces,\n",
    "                                            training_folds,\n",
    "                                            target_folds=training_folds.keys(),\n",
    "                                            train=False)\n",
    "    #print(\"local model trained for training\")\n",
    "    raw_train_data = generate_classifier_data_from_lms_and_params(lms_self,\n",
    "                                                                  lms_global,\n",
    "                                                                  good_pieces,\n",
    "                                                                  lambda_local,\n",
    "                                                                  cutoff_word_global_lm,\n",
    "                                                                  training_folds)\n",
    "\n",
    "    train_data = generate_classifier_data_from_raw(raw_train_data, lexical=lexical, lm_features=lm_features, moving_average=moving_average)\n",
    "    #print(\"length training data\", len(train_data))\n",
    "    #print(train_data[0])\n",
    "\n",
    "\n",
    "    # now generate the test data using LMs trained on all the other folds except heldout, to ensure the same sized LMs\n",
    "    \n",
    "    all_global_training_folds = {k:references_per_pair[k] for k in filter(lambda x:x not in [heldout], references_per_pair.keys())}\n",
    "    extra_fold_penalty = 1 if heldout_extra_fold is not None else 0\n",
    "    if (len(all_global_training_folds)-extra_fold_penalty) == 1:\n",
    "        # this won't work at all as it needs to learn from other pairs, so just copy it to learn from its final model\n",
    "        # not ideal but at least gives values\n",
    "        all_global_training_folds['extra'] = global_training_folds['extra']\n",
    "    \n",
    "    test_folds ={k:references_per_pair[k] for k in filter(lambda x:x==test, references_per_pair.keys())}\n",
    "    \n",
    "    # if using all other folds, needs to take one other fold out for the LM training to ensure same size as training\n",
    "    lms_global = get_new_piece_lms_from_folds(n_other, k_other, good_pieces,\n",
    "                                                      all_global_training_folds, target_folds=[test], train=True,\n",
    "                                                      heldout_extra_fold=heldout_extra_fold)\n",
    "    #print(\"global model trained for testing\")\n",
    "    lms_self = get_new_piece_lms_from_folds(n_self, k_self, good_pieces,\n",
    "                                                      test_folds, target_folds=[test], train=False)\n",
    "\n",
    "    #print(\"local model trained for testing\")\n",
    "    raw_test_data = generate_classifier_data_from_lms_and_params(lms_self,\n",
    "                                                                 lms_global,\n",
    "                                                                 good_pieces,\n",
    "                                                                 lambda_local,\n",
    "                                                                 cutoff_word_global_lm,\n",
    "                                                                 test_folds)\n",
    "\n",
    "\n",
    "    test_data = generate_classifier_data_from_raw(raw_test_data, lexical=lexical, lm_features=lm_features, moving_average=moving_average)\n",
    "    #print(test_data[0])\n",
    "\n",
    "    if no_train:\n",
    "        train_data = []  # just start with no data\n",
    "    \n",
    "    prf = None\n",
    "    if exhaustive_retrain:\n",
    "        y_true = [x[1] for x in test_data]\n",
    "        y_pred = []\n",
    "        # do exhaustive incremental testing on current exmaple then retraining given last example\n",
    "        for t in range(0, len(test_data)):\n",
    "            if len(set([x[1] for x in train_data])) < 2:  # only one class seen so far, can't train yet\n",
    "                random.seed(t)  # guess a piece using index t as random seed\n",
    "                shuffle(good_pieces)\n",
    "                guess = good_pieces[0]\n",
    "                y_pred.extend(guess)\n",
    "            else:\n",
    "                # predict and train model with current data\n",
    "                cl = train_classifier(train_data)\n",
    "                y_pred.extend(predict_labels([test_data[t]], cl))\n",
    "                \n",
    "            feats, label = test_data[t]\n",
    "            feats = {k:v for k, v in feats.items()}\n",
    "            train_data.append((feats, label))  # add current example just attempted to training data\n",
    "            \n",
    "    else:\n",
    "        cl = train_classifier(train_data)\n",
    "        #print(train_data[0])\n",
    "        y_true = [x[1] for x in test_data]\n",
    "        y_pred = predict_labels(test_data, cl)\n",
    "    prf = precision_recall_fscore_support(y_true, y_pred, average='weighted')\n",
    "    accuracy = sklearn.metrics.accuracy_score(y_true, y_pred)\n",
    "    #print(prf)\n",
    "    #print(classification_report(y_true, y_pred))\n",
    "    return prf[2], y_pred, y_true, accuracy"
   ]
  },
  {
   "cell_type": "code",
   "execution_count": 449,
   "metadata": {},
   "outputs": [],
   "source": [
    "# Do optimization to find best cut-off and lambda local param values (rather than just cross-entropy as not straightforward)\n",
    "# find best lambda local and cut-off word through cross-val testing, pick one with highest accuracy\n",
    "OPTIMIZING = False\n",
    "if OPTIMIZING:\n",
    "    n_other = opt_params['n_other']\n",
    "    n_self = opt_params['n_self']\n",
    "    k_other = opt_params['k_other']\n",
    "    k_self = opt_params['k_self']\n",
    "\n",
    "    print(TEST, HELDOUT)\n",
    "    cross_val_data = {k:references_per_pair[k] for k in filter(lambda x:x !=TEST, references_per_pair.keys())}\n",
    "    results = {}\n",
    "    results_file = open(datetime.datetime.now().isoformat() + \".csv\", \"w\")\n",
    "    results_file.write(\",\".join(['n_other', 'n_self', 'cutoff_word_global_lm', 'k_other', 'k_self', 'lambda_local', 'fscore']) + \"\\n\")\n",
    "    \n",
    "    best_f = 0\n",
    "    best_params = []\n",
    "    for n_other in range(1,3): #2\n",
    "        for n_self in range(1,3): #4\n",
    "            for k_other_raw in range(5,105,5): #80\n",
    "                k_other = k_other_raw/100\n",
    "                for k_self_raw in range(5,105,5): #1_600\n",
    "                    k_self = k_self_raw/100\n",
    "                    for cutoff_word_global_lm in range(1,11): #16_000\n",
    "                        # assume convex - not quite right but nearly \n",
    "                        prev = 0\n",
    "                        for lambda_local_raw in range(0,105,5): #320_000 params max, at least 32_000!\n",
    "                            lambda_local = lambda_local_raw/100\n",
    "                            all_scores = []\n",
    "                            for test in cross_val_data.keys():\n",
    "                                heldout = EXTRA_HELDOUT if test == HELDOUT else HELDOUT  # only not the normal heldout when that's being tested on\n",
    "                                #print(\"heldout\", heldout) \n",
    "                                #print(cross_val_data.keys(), test)\n",
    "                                fscore, preds, labels, accuracy = get_fscore_and_preds(cross_val_data, test, heldout, n_other, n_self, k_other, k_self, lambda_local, cutoff_word_global_lm,\n",
    "                                                                            )\n",
    "                                all_scores.append(fscore)\n",
    "                            mean_f = np.mean(all_scores)\n",
    "                            test_params = [n_other, n_self, cutoff_word_global_lm, k_other, k_self, lambda_local]\n",
    "                            print(test_params, mean_f)\n",
    "                            if mean_f < prev: # assume convex - not quite right but nearly \n",
    "                                break\n",
    "                            prev = mean_f\n",
    "                            results[\",\".join([str(f) for f in test_params])] = mean_f\n",
    "                            if mean_f == best_f:\n",
    "                                best_params = [best_params, test_params]\n",
    "                            elif mean_f > best_f:\n",
    "                                best_f = mean_f\n",
    "                                best_params = test_params\n",
    "                                print(\"best\", best_f, best_params)\n",
    "                    #results_file = open(\"results\" + datetime.time)\n",
    "                    #for row in sorted(results.items(), key=lambda x:x[1], reverse=True):\n",
    "    \n",
    "    for params, result in sorted(results.items(), key=lambda x:x[1], reverse=True):\n",
    "        results_file.write(params + \",\" + str(result) + \"\\n\")\n",
    "    results_file.close()\n"
   ]
  },
  {
   "cell_type": "code",
   "execution_count": 450,
   "metadata": {},
   "outputs": [],
   "source": [
    "# if already optimized look at results\n",
    "#df = pd.read_csv(open(\"2023-06-12T00:56:28.534472.csv\"))\n",
    "#df = pd.read_csv(open(\"2023-06-14T01:39:17.361190.csv\"))\n",
    "#df = pd.read_csv(open(\"2023-06-14T11:31:32.265307.csv\"))\n",
    "#df = pd.read_csv(open(\"2023-06-14T12:34:31.314703.csv\"))\n",
    "#df = pd.read_csv(open(\"2023-06-14T12:46:30.442480.csv\"))\n",
    "#df = pd.read_csv(open(\"2023-06-14T15:48:07.727393.csv\"))\n",
    "df = pd.read_csv(open(\"2023-06-14T17:17:24.306257.csv\"))\n",
    "opt_params['lambda_local'] = df.head(1).lambda_local[0]\n",
    "opt_params[\"cutoff_word_global_lm\"] = df.head(1).cutoff_word_global_lm[0]"
   ]
  },
  {
   "cell_type": "code",
   "execution_count": 451,
   "metadata": {},
   "outputs": [
    {
     "data": {
      "text/html": [
       "<div>\n",
       "<style scoped>\n",
       "    .dataframe tbody tr th:only-of-type {\n",
       "        vertical-align: middle;\n",
       "    }\n",
       "\n",
       "    .dataframe tbody tr th {\n",
       "        vertical-align: top;\n",
       "    }\n",
       "\n",
       "    .dataframe thead th {\n",
       "        text-align: right;\n",
       "    }\n",
       "</style>\n",
       "<table border=\"1\" class=\"dataframe\">\n",
       "  <thead>\n",
       "    <tr style=\"text-align: right;\">\n",
       "      <th></th>\n",
       "      <th>n_other</th>\n",
       "      <th>n_self</th>\n",
       "      <th>cutoff_word_global_lm</th>\n",
       "      <th>k_other</th>\n",
       "      <th>k_self</th>\n",
       "      <th>lambda_local</th>\n",
       "      <th>fscore</th>\n",
       "    </tr>\n",
       "  </thead>\n",
       "  <tbody>\n",
       "    <tr>\n",
       "      <th>0</th>\n",
       "      <td>2</td>\n",
       "      <td>2</td>\n",
       "      <td>1</td>\n",
       "      <td>0.610468</td>\n",
       "      <td>1.0</td>\n",
       "      <td>0.05</td>\n",
       "      <td>0.860194</td>\n",
       "    </tr>\n",
       "    <tr>\n",
       "      <th>1</th>\n",
       "      <td>2</td>\n",
       "      <td>2</td>\n",
       "      <td>2</td>\n",
       "      <td>0.610468</td>\n",
       "      <td>1.0</td>\n",
       "      <td>0.05</td>\n",
       "      <td>0.860067</td>\n",
       "    </tr>\n",
       "    <tr>\n",
       "      <th>2</th>\n",
       "      <td>2</td>\n",
       "      <td>2</td>\n",
       "      <td>4</td>\n",
       "      <td>0.610468</td>\n",
       "      <td>1.0</td>\n",
       "      <td>0.05</td>\n",
       "      <td>0.859863</td>\n",
       "    </tr>\n",
       "    <tr>\n",
       "      <th>3</th>\n",
       "      <td>2</td>\n",
       "      <td>2</td>\n",
       "      <td>6</td>\n",
       "      <td>0.610468</td>\n",
       "      <td>1.0</td>\n",
       "      <td>0.05</td>\n",
       "      <td>0.857367</td>\n",
       "    </tr>\n",
       "    <tr>\n",
       "      <th>4</th>\n",
       "      <td>2</td>\n",
       "      <td>2</td>\n",
       "      <td>3</td>\n",
       "      <td>0.610468</td>\n",
       "      <td>1.0</td>\n",
       "      <td>0.10</td>\n",
       "      <td>0.856486</td>\n",
       "    </tr>\n",
       "    <tr>\n",
       "      <th>5</th>\n",
       "      <td>2</td>\n",
       "      <td>2</td>\n",
       "      <td>5</td>\n",
       "      <td>0.610468</td>\n",
       "      <td>1.0</td>\n",
       "      <td>0.05</td>\n",
       "      <td>0.856402</td>\n",
       "    </tr>\n",
       "    <tr>\n",
       "      <th>6</th>\n",
       "      <td>2</td>\n",
       "      <td>2</td>\n",
       "      <td>10</td>\n",
       "      <td>0.610468</td>\n",
       "      <td>1.0</td>\n",
       "      <td>0.10</td>\n",
       "      <td>0.856126</td>\n",
       "    </tr>\n",
       "    <tr>\n",
       "      <th>7</th>\n",
       "      <td>2</td>\n",
       "      <td>2</td>\n",
       "      <td>9</td>\n",
       "      <td>0.610468</td>\n",
       "      <td>1.0</td>\n",
       "      <td>0.10</td>\n",
       "      <td>0.856072</td>\n",
       "    </tr>\n",
       "    <tr>\n",
       "      <th>8</th>\n",
       "      <td>2</td>\n",
       "      <td>2</td>\n",
       "      <td>3</td>\n",
       "      <td>0.610468</td>\n",
       "      <td>1.0</td>\n",
       "      <td>0.05</td>\n",
       "      <td>0.855252</td>\n",
       "    </tr>\n",
       "    <tr>\n",
       "      <th>9</th>\n",
       "      <td>2</td>\n",
       "      <td>2</td>\n",
       "      <td>7</td>\n",
       "      <td>0.610468</td>\n",
       "      <td>1.0</td>\n",
       "      <td>0.10</td>\n",
       "      <td>0.854881</td>\n",
       "    </tr>\n",
       "    <tr>\n",
       "      <th>10</th>\n",
       "      <td>2</td>\n",
       "      <td>2</td>\n",
       "      <td>8</td>\n",
       "      <td>0.610468</td>\n",
       "      <td>1.0</td>\n",
       "      <td>0.05</td>\n",
       "      <td>0.854536</td>\n",
       "    </tr>\n",
       "    <tr>\n",
       "      <th>11</th>\n",
       "      <td>2</td>\n",
       "      <td>2</td>\n",
       "      <td>9</td>\n",
       "      <td>0.610468</td>\n",
       "      <td>1.0</td>\n",
       "      <td>0.05</td>\n",
       "      <td>0.854332</td>\n",
       "    </tr>\n",
       "    <tr>\n",
       "      <th>12</th>\n",
       "      <td>2</td>\n",
       "      <td>2</td>\n",
       "      <td>10</td>\n",
       "      <td>0.610468</td>\n",
       "      <td>1.0</td>\n",
       "      <td>0.05</td>\n",
       "      <td>0.854329</td>\n",
       "    </tr>\n",
       "    <tr>\n",
       "      <th>13</th>\n",
       "      <td>2</td>\n",
       "      <td>2</td>\n",
       "      <td>7</td>\n",
       "      <td>0.610468</td>\n",
       "      <td>1.0</td>\n",
       "      <td>0.05</td>\n",
       "      <td>0.853918</td>\n",
       "    </tr>\n",
       "    <tr>\n",
       "      <th>14</th>\n",
       "      <td>2</td>\n",
       "      <td>2</td>\n",
       "      <td>1</td>\n",
       "      <td>0.610468</td>\n",
       "      <td>1.0</td>\n",
       "      <td>0.00</td>\n",
       "      <td>0.813162</td>\n",
       "    </tr>\n",
       "    <tr>\n",
       "      <th>15</th>\n",
       "      <td>2</td>\n",
       "      <td>2</td>\n",
       "      <td>2</td>\n",
       "      <td>0.610468</td>\n",
       "      <td>1.0</td>\n",
       "      <td>0.00</td>\n",
       "      <td>0.813162</td>\n",
       "    </tr>\n",
       "    <tr>\n",
       "      <th>16</th>\n",
       "      <td>2</td>\n",
       "      <td>2</td>\n",
       "      <td>3</td>\n",
       "      <td>0.610468</td>\n",
       "      <td>1.0</td>\n",
       "      <td>0.00</td>\n",
       "      <td>0.813162</td>\n",
       "    </tr>\n",
       "    <tr>\n",
       "      <th>17</th>\n",
       "      <td>2</td>\n",
       "      <td>2</td>\n",
       "      <td>4</td>\n",
       "      <td>0.610468</td>\n",
       "      <td>1.0</td>\n",
       "      <td>0.00</td>\n",
       "      <td>0.813162</td>\n",
       "    </tr>\n",
       "    <tr>\n",
       "      <th>18</th>\n",
       "      <td>2</td>\n",
       "      <td>2</td>\n",
       "      <td>5</td>\n",
       "      <td>0.610468</td>\n",
       "      <td>1.0</td>\n",
       "      <td>0.00</td>\n",
       "      <td>0.813162</td>\n",
       "    </tr>\n",
       "    <tr>\n",
       "      <th>19</th>\n",
       "      <td>2</td>\n",
       "      <td>2</td>\n",
       "      <td>6</td>\n",
       "      <td>0.610468</td>\n",
       "      <td>1.0</td>\n",
       "      <td>0.00</td>\n",
       "      <td>0.813162</td>\n",
       "    </tr>\n",
       "  </tbody>\n",
       "</table>\n",
       "</div>"
      ],
      "text/plain": [
       "    n_other  n_self  cutoff_word_global_lm   k_other  k_self  lambda_local   \n",
       "0         2       2                      1  0.610468     1.0          0.05  \\\n",
       "1         2       2                      2  0.610468     1.0          0.05   \n",
       "2         2       2                      4  0.610468     1.0          0.05   \n",
       "3         2       2                      6  0.610468     1.0          0.05   \n",
       "4         2       2                      3  0.610468     1.0          0.10   \n",
       "5         2       2                      5  0.610468     1.0          0.05   \n",
       "6         2       2                     10  0.610468     1.0          0.10   \n",
       "7         2       2                      9  0.610468     1.0          0.10   \n",
       "8         2       2                      3  0.610468     1.0          0.05   \n",
       "9         2       2                      7  0.610468     1.0          0.10   \n",
       "10        2       2                      8  0.610468     1.0          0.05   \n",
       "11        2       2                      9  0.610468     1.0          0.05   \n",
       "12        2       2                     10  0.610468     1.0          0.05   \n",
       "13        2       2                      7  0.610468     1.0          0.05   \n",
       "14        2       2                      1  0.610468     1.0          0.00   \n",
       "15        2       2                      2  0.610468     1.0          0.00   \n",
       "16        2       2                      3  0.610468     1.0          0.00   \n",
       "17        2       2                      4  0.610468     1.0          0.00   \n",
       "18        2       2                      5  0.610468     1.0          0.00   \n",
       "19        2       2                      6  0.610468     1.0          0.00   \n",
       "\n",
       "      fscore  \n",
       "0   0.860194  \n",
       "1   0.860067  \n",
       "2   0.859863  \n",
       "3   0.857367  \n",
       "4   0.856486  \n",
       "5   0.856402  \n",
       "6   0.856126  \n",
       "7   0.856072  \n",
       "8   0.855252  \n",
       "9   0.854881  \n",
       "10  0.854536  \n",
       "11  0.854332  \n",
       "12  0.854329  \n",
       "13  0.853918  \n",
       "14  0.813162  \n",
       "15  0.813162  \n",
       "16  0.813162  \n",
       "17  0.813162  \n",
       "18  0.813162  \n",
       "19  0.813162  "
      ]
     },
     "execution_count": 451,
     "metadata": {},
     "output_type": "execute_result"
    }
   ],
   "source": [
    "df.head(20)"
   ]
  },
  {
   "cell_type": "code",
   "execution_count": 38,
   "metadata": {},
   "outputs": [],
   "source": [
    "# from best so far 2023-06-16T011.59 0.8635429156885808 [1, 1, 6, 0.9, 0.1, 0.1]\n",
    "# [n_other, n_self, cutoff_word_global_lm, k_other, k_self, lambda_local]\n",
    "opt_params['n_other'] = 1\n",
    "opt_params['n_self'] = 1 \n",
    "opt_params[\"cutoff_word_global_lm\"] = 6\n",
    "opt_params['k_other'] = 0.9\n",
    "opt_params['k_self'] = 0.1 \n",
    "opt_params['lambda_local'] = 0.1"
   ]
  },
  {
   "cell_type": "code",
   "execution_count": 39,
   "metadata": {},
   "outputs": [],
   "source": [
    "xval_results = {}"
   ]
  },
  {
   "cell_type": "code",
   "execution_count": 47,
   "metadata": {},
   "outputs": [
    {
     "name": "stdout",
     "output_type": "stream",
     "text": [
      "{'n_self': 1, 'k_self': 0.1, 'n_other': 1, 'k_other': 0.9, 'lambda_local': 0.1, 'cutoff_word_global_lm': 6}\n",
      "[0.8871311102690413, 0.8087874978790278, 0.8926487915385203, 0.8899784067072645, 0.8968750266827189, 0.8886062889291302, 0.7946812595512271] 0.8655297687938474\n"
     ]
    }
   ],
   "source": [
    "# 1) re-run best cross-val result\n",
    "# get extra heldout fold to ensure we're still using 5 folds for training\n",
    "cross_val_data = {k:references_per_pair[k] for k in filter(lambda x:x !=TEST, references_per_pair.keys())}\n",
    "\n",
    "print(opt_params)\n",
    "n_other = opt_params['n_other']\n",
    "n_self = opt_params['n_self']\n",
    "k_other = opt_params['k_other']\n",
    "k_self = opt_params['k_self']\n",
    "lambda_local = opt_params['lambda_local']\n",
    "cutoff_word_global_lm = opt_params[\"cutoff_word_global_lm\"]\n",
    "\n",
    "cross_val_results = []\n",
    "all_preds = []\n",
    "all_y = []\n",
    "for test in cross_val_data.keys():\n",
    "    heldout = EXTRA_HELDOUT if test == HELDOUT else HELDOUT  # only not the normal heldout when that's being tested on\n",
    "    #print(\"heldout\", heldout) \n",
    "    f, preds, y = get_fscore_and_preds(cross_val_data, test, heldout, n_other, n_self, k_other, k_self, lambda_local, cutoff_word_global_lm)\n",
    "    all_preds.extend(preds)\n",
    "    all_y.extend(y)\n",
    "    cross_val_results.append(f)\n",
    "exp_params = [n_other, n_self, cutoff_word_global_lm, k_other,k_self, lambda_local, True, True, False]\n",
    "xval_results[','.join([str(p) for p in exp_params])] = (cross_val_results, np.mean(cross_val_results),all_preds)\n",
    "print(cross_val_results, np.mean(cross_val_results))"
   ]
  },
  {
   "cell_type": "code",
   "execution_count": 48,
   "metadata": {},
   "outputs": [
    {
     "name": "stdout",
     "output_type": "stream",
     "text": [
      "[0.6976847374847374, 0.8058614566470366, 0.895668919444112, 0.8931468445574603, 0.8536309338434843, 0.8564809646531358, 0.7659589533530414] 0.8240618299975725\n"
     ]
    }
   ],
   "source": [
    "# 2) Get the baseline of lexical info only, no updating/retraining or lms\n",
    "cross_val_results = []\n",
    "all_preds = []\n",
    "all_y = []\n",
    "for test in cross_val_data.keys():\n",
    "    heldout = EXTRA_HELDOUT if test == HELDOUT else HELDOUT  # only not the normal heldout when that's being tested on\n",
    "    #print(\"heldout\", heldout) \n",
    "    f, preds, y = get_fscore_and_preds(cross_val_data, test, heldout, n_other, n_self, k_other, k_self, lambda_local, cutoff_word_global_lm,\n",
    "                                      lm_features = False)\n",
    "    all_preds.extend(preds)\n",
    "    all_y.extend(y)\n",
    "    cross_val_results.append(f)\n",
    "exp_params = [n_other, n_self, cutoff_word_global_lm, k_other,k_self, lambda_local, True, False, False]\n",
    "xval_results[','.join([str(p) for p in exp_params])] = (cross_val_results, np.mean(cross_val_results),all_preds)\n",
    "print(cross_val_results, np.mean(cross_val_results))"
   ]
  },
  {
   "cell_type": "code",
   "execution_count": 49,
   "metadata": {},
   "outputs": [
    {
     "name": "stdout",
     "output_type": "stream",
     "text": [
      "[0.7246986463828569, 0.7918846376934613, 0.9145174415089884, 0.8970742250169593, 0.8537042900288949, 0.8541041652473775, 0.7689553382268967] 0.8292769634436334\n"
     ]
    }
   ],
   "source": [
    "# 3) Get lexical + global model only lm (should be similar to lexical)\n",
    "lambda_local = 0\n",
    "cutoff_word_global_lm = 1\n",
    "cross_val_results = []\n",
    "all_preds = []\n",
    "all_y = []\n",
    "for test in cross_val_data.keys():\n",
    "    heldout = EXTRA_HELDOUT if test == HELDOUT else HELDOUT  # only not the normal heldout when that's being tested on\n",
    "    #print(\"heldout\", heldout) \n",
    "    f, preds, y = get_fscore_and_preds(cross_val_data, test, heldout, n_other, n_self, k_other, k_self, lambda_local, cutoff_word_global_lm)\n",
    "    all_preds.extend(preds)\n",
    "    all_y.extend(y)\n",
    "    cross_val_results.append(f)\n",
    "exp_params = [n_other, n_self, cutoff_word_global_lm, k_other,k_self, lambda_local, True, True, False]\n",
    "xval_results[','.join([str(p) for p in exp_params])] = (cross_val_results, np.mean(cross_val_results),all_preds)\n",
    "print(cross_val_results, np.mean(cross_val_results))"
   ]
  },
  {
   "cell_type": "code",
   "execution_count": 50,
   "metadata": {},
   "outputs": [
    {
     "name": "stdout",
     "output_type": "stream",
     "text": [
      "[0.7686290376290377, 0.8124080183029923, 0.8966329779681271, 0.9026170744132981, 0.8630223835993067, 0.864958116053062, 0.7805252333446817] 0.8412561201872152\n"
     ]
    }
   ],
   "source": [
    "# 4) Get lexical + local model only lm\n",
    "lambda_local = 1\n",
    "cutoff_word_global_lm = 1\n",
    "cross_val_results = []\n",
    "all_preds = []\n",
    "all_y = []\n",
    "for test in cross_val_data.keys():\n",
    "    heldout = EXTRA_HELDOUT if test == HELDOUT else HELDOUT  # only not the normal heldout when that's being tested on\n",
    "    #print(\"heldout\", heldout) \n",
    "    f, preds, y = get_fscore_and_preds(cross_val_data, test, heldout, n_other, n_self, k_other, k_self, lambda_local, cutoff_word_global_lm)\n",
    "    all_preds.extend(preds)\n",
    "    all_y.extend(y)\n",
    "    cross_val_results.append(f)\n",
    "exp_params = [n_other, n_self, cutoff_word_global_lm, k_other,k_self, lambda_local, True, True, False]\n",
    "xval_results[','.join([str(p) for p in exp_params])] = (cross_val_results, np.mean(cross_val_results),all_preds)\n",
    "print(cross_val_results, np.mean(cross_val_results))"
   ]
  },
  {
   "cell_type": "code",
   "execution_count": 51,
   "metadata": {},
   "outputs": [
    {
     "name": "stdout",
     "output_type": "stream",
     "text": [
      "[0.8697043740573152, 0.7736168639971956, 0.8949503313171588, 0.8533104694213736, 0.8780294846581191, 0.8870000220112586, 0.7645720702581644] 0.8458833736743695\n"
     ]
    }
   ],
   "source": [
    "# 5) Try without lexical (nb lambda local and cutoff not optimized for this)\n",
    "lambda_local = opt_params[\"lambda_local\"]\n",
    "cutoff_word_global_lm = opt_params[\"cutoff_word_global_lm\"]\n",
    "cross_val_results = []\n",
    "all_preds = []\n",
    "all_y = []\n",
    "for test in cross_val_data.keys():\n",
    "    heldout = EXTRA_HELDOUT if test == HELDOUT else HELDOUT  # only not the normal heldout when that's being tested on\n",
    "    #print(\"heldout\", heldout) \n",
    "    f, preds, y = get_fscore_and_preds(cross_val_data, test, heldout, n_other, n_self, k_other, k_self, lambda_local, cutoff_word_global_lm,\n",
    "                                      lexical=False)\n",
    "    all_preds.extend(preds)\n",
    "    all_y.extend(y)\n",
    "    cross_val_results.append(f)\n",
    "exp_params = [n_other, n_self, cutoff_word_global_lm, k_other,k_self, lambda_local, False, True, False]\n",
    "xval_results[','.join([str(p) for p in exp_params])] = (cross_val_results, np.mean(cross_val_results),all_preds)\n",
    "print(cross_val_results, np.mean(cross_val_results))"
   ]
  },
  {
   "cell_type": "code",
   "execution_count": 52,
   "metadata": {},
   "outputs": [
    {
     "name": "stdout",
     "output_type": "stream",
     "text": [
      "[0.675582867192135, 0.5751349772634603, 0.7985183953199408, 0.7332651425675122, 0.7939372465491673, 0.7661477456648974, 0.6387100894925264] 0.71161378057852\n"
     ]
    }
   ],
   "source": [
    "# 6) Try local only without lexical (nb lambda local and cutoff not optimized for this)\n",
    "lambda_local = 1\n",
    "cutoff_word_global_lm = 1\n",
    "cross_val_results = []\n",
    "all_preds = []\n",
    "all_y = []\n",
    "for test in cross_val_data.keys():\n",
    "    heldout = EXTRA_HELDOUT if test == HELDOUT else HELDOUT  # only not the normal heldout when that's being tested on\n",
    "    #print(\"heldout\", heldout) \n",
    "    f, preds, y = get_fscore_and_preds(cross_val_data, test, heldout, n_other, n_self, k_other, k_self, lambda_local, cutoff_word_global_lm,\n",
    "                                      lexical=False)\n",
    "    all_preds.extend(preds)\n",
    "    all_y.extend(y)\n",
    "    cross_val_results.append(f)\n",
    "exp_params = [n_other, n_self, cutoff_word_global_lm, k_other,k_self, lambda_local, False, True, False]\n",
    "xval_results[','.join([str(p) for p in exp_params])] = (cross_val_results, np.mean(cross_val_results),all_preds)\n",
    "print(cross_val_results, np.mean(cross_val_results))"
   ]
  },
  {
   "cell_type": "code",
   "execution_count": 53,
   "metadata": {},
   "outputs": [
    {
     "name": "stdout",
     "output_type": "stream",
     "text": [
      "[0.6884963388864317, 0.7657131697408088, 0.8808514308284283, 0.8749988052211283, 0.8579328549862049, 0.853103021391952, 0.7373586156511767] 0.808350605243733\n"
     ]
    }
   ],
   "source": [
    "# 7) Try global only without lexical (nb lambda local and cutoff not optimized for this)\n",
    "lambda_local = 0\n",
    "cutoff_word_global_lm = 1\n",
    "cross_val_results = []\n",
    "all_preds = []\n",
    "all_y = []\n",
    "for test in cross_val_data.keys():\n",
    "    heldout = EXTRA_HELDOUT if test == HELDOUT else HELDOUT  # only not the normal heldout when that's being tested on\n",
    "    #print(\"heldout\", heldout) \n",
    "    f, preds, y = get_fscore_and_preds(cross_val_data, test, heldout, n_other, n_self, k_other, k_self, lambda_local, cutoff_word_global_lm,\n",
    "                                      lexical=False)\n",
    "    all_preds.extend(preds)\n",
    "    all_y.extend(y)\n",
    "    cross_val_results.append(f)\n",
    "exp_params = [n_other, n_self, cutoff_word_global_lm, k_other,k_self, lambda_local, False, True, False]\n",
    "xval_results[','.join([str(p) for p in exp_params])] = (cross_val_results, np.mean(cross_val_results),all_preds)\n",
    "print(cross_val_results, np.mean(cross_val_results))"
   ]
  },
  {
   "cell_type": "code",
   "execution_count": 54,
   "metadata": {},
   "outputs": [
    {
     "name": "stdout",
     "output_type": "stream",
     "text": [
      "[0.8685030408188303, 0.829141396743478, 0.9110090265963389, 0.9003430391290285, 0.8764684023331268, 0.8924742188931777, 0.7802727854354273] 0.8654588442784866\n"
     ]
    }
   ],
   "source": [
    "# 8) see what difference exahustive retraining makes, firstly lexical only, no lm features\n",
    "lambda_local = opt_params[\"lambda_local\"]\n",
    "cutoff_word_global_lm = opt_params[\"cutoff_word_global_lm\"]\n",
    "cross_val_results = []\n",
    "all_preds = []\n",
    "all_y = []\n",
    "for test in cross_val_data.keys():\n",
    "    heldout = EXTRA_HELDOUT if test == HELDOUT else HELDOUT  # only not the normal heldout when that's being tested on\n",
    "    #print(\"heldout\", heldout) \n",
    "    f, preds, y = get_fscore_and_preds(cross_val_data, test, heldout, n_other, n_self, k_other, k_self, lambda_local, cutoff_word_global_lm,\n",
    "                                      lm_features=False, exhaustive_retrain=True)\n",
    "    all_preds.extend(preds)\n",
    "    all_y.extend(y)\n",
    "    cross_val_results.append(f)\n",
    "exp_params = [n_other, n_self, cutoff_word_global_lm, k_other,k_self, lambda_local, True, False, True]\n",
    "xval_results[','.join([str(p) for p in exp_params])] = (cross_val_results, np.mean(cross_val_results),all_preds)\n",
    "print(cross_val_results, np.mean(cross_val_results))"
   ]
  },
  {
   "cell_type": "code",
   "execution_count": 55,
   "metadata": {},
   "outputs": [
    {
     "name": "stdout",
     "output_type": "stream",
     "text": [
      "[0.8866883858108371, 0.8034349932654528, 0.9213174449096011, 0.8992745773683755, 0.8968750266827189, 0.8931788966826546, 0.7591878765786372] 0.8657081716140397\n"
     ]
    }
   ],
   "source": [
    "# 9) see what difference exahustive retraining makes, lexical + lm features \n",
    "cross_val_results = []\n",
    "all_preds = []\n",
    "all_y = []\n",
    "for test in cross_val_data.keys():\n",
    "    heldout = EXTRA_HELDOUT if test == HELDOUT else HELDOUT  # only not the normal heldout when that's being tested on\n",
    "    #print(\"heldout\", heldout) \n",
    "    f, preds, y = get_fscore_and_preds(cross_val_data, test, heldout, n_other, n_self, k_other, k_self, lambda_local, cutoff_word_global_lm,\n",
    "                                       exhaustive_retrain=True)\n",
    "    all_preds.extend(preds)\n",
    "    all_y.extend(y)\n",
    "    cross_val_results.append(f)\n",
    "exp_params = [n_other, n_self, cutoff_word_global_lm, k_other,k_self, lambda_local, True, True, True]\n",
    "xval_results[','.join([str(p) for p in exp_params])] = (cross_val_results, np.mean(cross_val_results),all_preds)\n",
    "print(cross_val_results, np.mean(cross_val_results))"
   ]
  },
  {
   "cell_type": "code",
   "execution_count": 56,
   "metadata": {},
   "outputs": [
    {
     "name": "stdout",
     "output_type": "stream",
     "text": [
      "r1 0.8741857475857476\n",
      "r2 0.8097413928258987\n",
      "r3 0.9027462923071812\n",
      "r4 0.8929444691178358\n",
      "r5 0.8750562532286699\n",
      "r7 0.8923263268216141\n",
      "r8 0.7735965794314416\n",
      "[0.8741857475857476, 0.8097413928258987, 0.9027462923071812, 0.8929444691178358, 0.8750562532286699, 0.8923263268216141, 0.7735965794314416] 0.8600852944740556\n"
     ]
    }
   ],
   "source": [
    "# 10) retraining makes, lexical + lm features (local only) \n",
    "lambda_local = 1\n",
    "cutoff_word_global_lm = 1\n",
    "cross_val_results = []\n",
    "all_preds = []\n",
    "all_y = []\n",
    "for test in cross_val_data.keys():\n",
    "    heldout = EXTRA_HELDOUT if test == HELDOUT else HELDOUT  # only not the normal heldout when that's being tested on\n",
    "    #print(\"heldout\", heldout) \n",
    "    f, preds, y = get_fscore_and_preds(cross_val_data, test, heldout, n_other, n_self, k_other, k_self, lambda_local, cutoff_word_global_lm,\n",
    "                                       exhaustive_retrain=True)\n",
    "    print(test, f)\n",
    "    all_preds.extend(preds)\n",
    "    all_y.extend(y)\n",
    "    cross_val_results.append(f)\n",
    "exp_params = [n_other, n_self, cutoff_word_global_lm, k_other,k_self, lambda_local, True, True, True]\n",
    "xval_results[','.join([str(p) for p in exp_params])] = (cross_val_results, np.mean(cross_val_results),all_preds)\n",
    "print(cross_val_results, np.mean(cross_val_results))"
   ]
  },
  {
   "cell_type": "code",
   "execution_count": 58,
   "metadata": {},
   "outputs": [
    {
     "name": "stdout",
     "output_type": "stream",
     "text": [
      "45\n",
      "1 ) 1,1,6,0.9,0.1,0.1,True,True,False V 1,1,6,0.9,0.1,0.1,True,False,False [0.8655297687938474, 0.8240618299975725, 22.0, 2.8793907495367242e-06, True, True, True]\n",
      "2 ) 1,1,6,0.9,0.1,0.1,True,True,False V 1,1,1,0.9,0.1,0,True,True,False [0.8655297687938474, 0.8292769634436334, 24.0, 7.395947454563746e-05, True, True, True]\n",
      "3 ) 1,1,6,0.9,0.1,0.1,True,True,False V 1,1,1,0.9,0.1,1,True,True,False [0.8655297687938474, 0.8412561201872152, 22.0, 0.0035448128470210523, True, True, False]\n",
      "4 ) 1,1,6,0.9,0.1,0.1,True,True,False V 1,1,6,0.9,0.1,0.1,False,True,False [0.8655297687938474, 0.8458833736743695, 18.0, 0.00013083876154198454, True, True, True]\n",
      "5 ) 1,1,6,0.9,0.1,0.1,True,True,False V 1,1,1,0.9,0.1,1,False,True,False [0.8655297687938474, 0.71161378057852, 53.0, 3.76128685784491e-41, True, True, True]\n",
      "6 ) 1,1,6,0.9,0.1,0.1,True,True,False V 1,1,1,0.9,0.1,0,False,True,False [0.8655297687938474, 0.808350605243733, 20.0, 1.1680094670975612e-12, True, True, True]\n",
      "7 ) 1,1,6,0.9,0.1,0.1,True,True,False V 1,1,6,0.9,0.1,0.1,True,False,True [0.8655297687938474, 0.8654588442784866, 25.0, 1.0, False, False, False]\n",
      "8 ) 1,1,6,0.9,0.1,0.1,True,True,False V 1,1,6,0.9,0.1,0.1,True,True,True [0.8655297687938474, 0.8657081716140397, 17.0, 0.9999999999999998, False, False, False]\n",
      "9 ) 1,1,6,0.9,0.1,0.1,True,True,False V 1,1,1,0.9,0.1,1,True,True,True [0.8655297687938474, 0.8600852944740556, 25.0, 0.358143301806138, False, False, False]\n",
      "10 ) 1,1,6,0.9,0.1,0.1,True,False,False V 1,1,1,0.9,0.1,0,True,True,False [0.8240618299975725, 0.8292769634436334, 20.0, 0.38169339766321275, False, False, False]\n",
      "11 ) 1,1,6,0.9,0.1,0.1,True,False,False V 1,1,1,0.9,0.1,1,True,True,False [0.8240618299975725, 0.8412561201872152, 23.0, 0.024811974571552153, True, False, False]\n",
      "12 ) 1,1,6,0.9,0.1,0.1,True,False,False V 1,1,6,0.9,0.1,0.1,False,True,False [0.8240618299975725, 0.8458833736743695, 59.0, 0.3346877587369284, False, False, False]\n",
      "13 ) 1,1,6,0.9,0.1,0.1,True,False,False V 1,1,1,0.9,0.1,1,False,True,False [0.8240618299975725, 0.71161378057852, 100.0, 1.9679303059464283e-23, True, True, True]\n",
      "14 ) 1,1,6,0.9,0.1,0.1,True,False,False V 1,1,1,0.9,0.1,0,False,True,False [0.8240618299975725, 0.808350605243733, 21.0, 0.0005349642016498918, True, True, True]\n",
      "15 ) 1,1,6,0.9,0.1,0.1,True,False,False V 1,1,6,0.9,0.1,0.1,True,False,True [0.8240618299975725, 0.8654588442784866, 10.0, 1.1753602809018608e-08, True, True, True]\n",
      "16 ) 1,1,6,0.9,0.1,0.1,True,False,False V 1,1,6,0.9,0.1,0.1,True,True,True [0.8240618299975725, 0.8657081716140397, 28.0, 1.8257600947585227e-05, True, True, True]\n",
      "17 ) 1,1,6,0.9,0.1,0.1,True,False,False V 1,1,1,0.9,0.1,1,True,True,True [0.8240618299975725, 0.8600852944740556, 29.0, 0.000261683232376927, True, True, True]\n",
      "18 ) 1,1,1,0.9,0.1,0,True,True,False V 1,1,1,0.9,0.1,1,True,True,False [0.8292769634436334, 0.8412561201872152, 38.0, 0.2407931245390016, False, False, False]\n",
      "19 ) 1,1,1,0.9,0.1,0,True,True,False V 1,1,6,0.9,0.1,0.1,False,True,False [0.8292769634436334, 0.8458833736743695, 59.0, 0.7185088365549668, False, False, False]\n",
      "20 ) 1,1,1,0.9,0.1,0,True,True,False V 1,1,1,0.9,0.1,1,False,True,False [0.8292769634436334, 0.71161378057852, 91.0, 7.29531333762971e-26, True, True, True]\n",
      "21 ) 1,1,1,0.9,0.1,0,True,True,False V 1,1,1,0.9,0.1,0,False,True,False [0.8292769634436334, 0.808350605243733, 18.0, 1.6913617102985627e-05, True, True, True]\n",
      "22 ) 1,1,1,0.9,0.1,0,True,True,False V 1,1,6,0.9,0.1,0.1,True,False,True [0.8292769634436334, 0.8654588442784866, 23.0, 4.0771265506603356e-05, True, True, True]\n",
      "23 ) 1,1,1,0.9,0.1,0,True,True,False V 1,1,6,0.9,0.1,0.1,True,True,True [0.8292769634436334, 0.8657081716140397, 27.0, 0.00018775579617929893, True, True, True]\n",
      "24 ) 1,1,1,0.9,0.1,0,True,True,False V 1,1,1,0.9,0.1,1,True,True,True [0.8292769634436334, 0.8600852944740556, 38.0, 0.0060160815152493306, True, True, False]\n",
      "25 ) 1,1,1,0.9,0.1,1,True,True,False V 1,1,6,0.9,0.1,0.1,False,True,False [0.8412561201872152, 0.8458833736743695, 51.0, 0.5657001139736331, False, False, False]\n",
      "26 ) 1,1,1,0.9,0.1,1,True,True,False V 1,1,1,0.9,0.1,1,False,True,False [0.8412561201872152, 0.71161378057852, 73.0, 4.059842898176481e-31, True, True, True]\n",
      "27 ) 1,1,1,0.9,0.1,1,True,True,False V 1,1,1,0.9,0.1,0,False,True,False [0.8412561201872152, 0.808350605243733, 25.0, 8.505991593882263e-07, True, True, True]\n",
      "28 ) 1,1,1,0.9,0.1,1,True,True,False V 1,1,6,0.9,0.1,0.1,True,False,True [0.8412561201872152, 0.8654588442784866, 18.0, 0.0012990027709550095, True, True, False]\n",
      "29 ) 1,1,1,0.9,0.1,1,True,True,False V 1,1,6,0.9,0.1,0.1,True,True,True [0.8412561201872152, 0.8657081716140397, 30.0, 0.011634454119925825, True, False, False]\n",
      "30 ) 1,1,1,0.9,0.1,1,True,True,False V 1,1,1,0.9,0.1,1,True,True,True [0.8412561201872152, 0.8600852944740556, 18.0, 0.027008317653722358, True, False, False]\n",
      "31 ) 1,1,6,0.9,0.1,0.1,False,True,False V 1,1,1,0.9,0.1,1,False,True,False [0.8458833736743695, 0.71161378057852, 53.0, 6.0343263333217e-34, True, True, True]\n",
      "32 ) 1,1,6,0.9,0.1,0.1,False,True,False V 1,1,1,0.9,0.1,0,False,True,False [0.8458833736743695, 0.808350605243733, 39.0, 0.00015803403060256894, True, True, True]\n",
      "33 ) 1,1,6,0.9,0.1,0.1,False,True,False V 1,1,6,0.9,0.1,0.1,True,False,True [0.8458833736743695, 0.8654588442784866, 24.0, 0.0003173169180222807, True, True, True]\n",
      "34 ) 1,1,6,0.9,0.1,0.1,False,True,False V 1,1,6,0.9,0.1,0.1,True,True,True [0.8458833736743695, 0.8657081716140397, 17.0, 0.00015210657584807538, True, True, True]\n",
      "35 ) 1,1,6,0.9,0.1,0.1,False,True,False V 1,1,1,0.9,0.1,1,True,True,True [0.8458833736743695, 0.8600852944740556, 30.0, 0.011634454119925825, True, False, False]\n",
      "36 ) 1,1,1,0.9,0.1,1,False,True,False V 1,1,1,0.9,0.1,0,False,True,False [0.71161378057852, 0.808350605243733, 113.0, 3.700518699451582e-17, True, True, True]\n",
      "37 ) 1,1,1,0.9,0.1,1,False,True,False V 1,1,6,0.9,0.1,0.1,True,False,True [0.71161378057852, 0.8654588442784866, 59.0, 9.225782393331726e-40, True, True, True]\n",
      "38 ) 1,1,1,0.9,0.1,1,False,True,False V 1,1,6,0.9,0.1,0.1,True,True,True [0.71161378057852, 0.8657081716140397, 49.0, 4.3962872705675465e-42, True, True, True]\n",
      "39 ) 1,1,1,0.9,0.1,1,False,True,False V 1,1,1,0.9,0.1,1,True,True,True [0.71161378057852, 0.8600852944740556, 55.0, 8.680212295852282e-39, True, True, True]\n",
      "40 ) 1,1,1,0.9,0.1,0,False,True,False V 1,1,6,0.9,0.1,0.1,True,False,True [0.808350605243733, 0.8654588442784866, 19.0, 4.045693021158809e-13, True, True, True]\n",
      "41 ) 1,1,1,0.9,0.1,0,False,True,False V 1,1,6,0.9,0.1,0.1,True,True,True [0.808350605243733, 0.8657081716140397, 23.0, 8.535344178846708e-12, True, True, True]\n",
      "42 ) 1,1,1,0.9,0.1,0,False,True,False V 1,1,1,0.9,0.1,1,True,True,True [0.808350605243733, 0.8600852944740556, 26.0, 7.747818821928e-10, True, True, True]\n",
      "43 ) 1,1,6,0.9,0.1,0.1,True,False,True V 1,1,6,0.9,0.1,0.1,True,True,True [0.8654588442784866, 0.8657081716140397, 24.0, 0.887724827340783, False, False, False]\n",
      "44 ) 1,1,6,0.9,0.1,0.1,True,False,True V 1,1,1,0.9,0.1,1,True,True,True [0.8654588442784866, 0.8600852944740556, 12.0, 0.16275565745308995, False, False, False]\n",
      "45 ) 1,1,6,0.9,0.1,0.1,True,True,True V 1,1,1,0.9,0.1,1,True,True,True [0.8657081716140397, 0.8600852944740556, 21.0, 0.3916029105474905, False, False, False]\n"
     ]
    }
   ],
   "source": [
    "comparison_results = {}\n",
    "for sys1 in xval_results.keys():\n",
    "    for sys2 in xval_results.keys():\n",
    "        if sys1 == sys2:\n",
    "            continue\n",
    "        if sys1 + \" V \" + sys2 in comparison_results.keys() or sys2 + \" V \" + sys1 in comparison_results.keys():\n",
    "            continue\n",
    "        cl1_preds = xval_results[sys1][2]\n",
    "        cl2_preds = xval_results[sys2][2]\n",
    "        sig = calculate_mcnemar_test(cl1_preds, cl2_preds, all_y, alpha=0.05, exact=True)\n",
    "        comparison_results[sys1 + \" V \" + sys2] = [xval_results[sys1][1], xval_results[sys2][1]] + list(sig)\n",
    "        \n",
    "\n",
    "print(len(comparison_results))\n",
    "count = 1\n",
    "for k, v in comparison_results.items():\n",
    "    print(count, \")\", k, v)\n",
    "    count+=1"
   ]
  },
  {
   "cell_type": "code",
   "execution_count": null,
   "metadata": {},
   "outputs": [],
   "source": [
    "# Final system (in the middle of optimizing r6, r3 16/06/9am )\n",
    "1 ) 1,1,10,0.75,0.1,0.15,True,True,False V 1,1,10,0.75,0.1,0.15,True,False,False [0.8635429156885808, 0.8240618299975725, 22.0, 4.348703111758687e-06, True, True, True]\n",
    "2 ) 1,1,10,0.75,0.1,0.15,True,True,False V 1,1,1,0.75,0.1,0,True,True,False [0.8635429156885808, 0.8302171684556623, 22.0, 7.010573979919962e-05, True, True, True]\n",
    "3 ) 1,1,10,0.75,0.1,0.15,True,True,False V 1,1,1,0.75,0.1,1,True,True,False [0.8635429156885808, 0.8412561201872152, 23.0, 0.005582667351023373, True, True, False]\n",
    "4 ) 1,1,10,0.75,0.1,0.15,True,True,False V 1,1,10,0.75,0.1,0.15,False,True,False [0.8635429156885808, 0.8445599814154114, 23.0, 8.715478657320524e-05, True, True, True]\n",
    "5 ) 1,1,10,0.75,0.1,0.15,True,True,False V 1,1,1,0.75,0.1,1,False,True,False [0.8635429156885808, 0.7115210426781088, 55.0, 2.274449585488219e-40, True, True, True]\n",
    "6 ) 1,1,10,0.75,0.1,0.15,True,True,False V 1,1,1,0.75,0.1,0,False,True,False [0.8635429156885808, 0.8101090393857525, 23.0, 1.4884906475803411e-10, True, True, True]\n",
    "7 ) 1,1,10,0.75,0.1,0.15,True,True,False V 1,1,10,0.75,0.1,0.15,True,False,True [0.8635429156885808, 0.8654588442784866, 25.0, 0.8898839652765371, False, False, False]\n",
    "8 ) 1,1,10,0.75,0.1,0.15,True,True,False V 1,1,10,0.75,0.1,0.15,True,True,True [0.8635429156885808, 0.8670818039494403, 16.0, 0.735878800856881, False, False, False]\n",
    "9 ) 1,1,10,0.75,0.1,0.15,True,True,False V 1,1,1,0.75,0.1,1,True,True,True [0.8635429156885808, 0.8600852944740556, 27.0, 0.4426260049464714, False, False, False]\n",
    "Beats all except the re-training competitors 7,8.9 which it is the same as"
   ]
  },
  {
   "cell_type": "code",
   "execution_count": null,
   "metadata": {},
   "outputs": [],
   "source": [
    "# Final system (in the middle of optimizing r6, r3, r7, 20/06/5pm )\n",
    "1 ) 1,1,6,0.9,0.1,0.1,True,True,False V 1,1,6,0.9,0.1,0.1,True,False,False [0.8655297687938474, 0.8240618299975725, 22.0, 2.8793907495367242e-06, True, True, True]\n",
    "2 ) 1,1,6,0.9,0.1,0.1,True,True,False V 1,1,1,0.9,0.1,0,True,True,False [0.8655297687938474, 0.8292769634436334, 24.0, 7.395947454563746e-05, True, True, True]\n",
    "3 ) 1,1,6,0.9,0.1,0.1,True,True,False V 1,1,1,0.9,0.1,1,True,True,False [0.8655297687938474, 0.8412561201872152, 22.0, 0.0035448128470210523, True, True, False]\n",
    "4 ) 1,1,6,0.9,0.1,0.1,True,True,False V 1,1,6,0.9,0.1,0.1,False,True,False [0.8655297687938474, 0.8458833736743695, 18.0, 0.00013083876154198454, True, True, True]\n",
    "5 ) 1,1,6,0.9,0.1,0.1,True,True,False V 1,1,1,0.9,0.1,1,False,True,False [0.8655297687938474, 0.71161378057852, 53.0, 3.76128685784491e-41, True, True, True]\n",
    "6 ) 1,1,6,0.9,0.1,0.1,True,True,False V 1,1,1,0.9,0.1,0,False,True,False [0.8655297687938474, 0.808350605243733, 20.0, 1.1680094670975612e-12, True, True, True]\n",
    "7 ) 1,1,6,0.9,0.1,0.1,True,True,False V 1,1,6,0.9,0.1,0.1,True,False,True [0.8655297687938474, 0.8654588442784866, 25.0, 1.0, False, False, False]\n",
    "8 ) 1,1,6,0.9,0.1,0.1,True,True,False V 1,1,6,0.9,0.1,0.1,True,True,True [0.8655297687938474, 0.8657081716140397, 17.0, 0.9999999999999998, False, False, False]\n",
    "9 ) 1,1,6,0.9,0.1,0.1,True,True,False V 1,1,1,0.9,0.1,1,True,True,True [0.8655297687938474, 0.8600852944740556, 25.0, 0.358143301806138, False, False, False]\n",
    "Beats all except the re-training competitors 7,8.9 which it is the same as"
   ]
  },
  {
   "cell_type": "code",
   "execution_count": null,
   "metadata": {},
   "outputs": [],
   "source": [
    "# For final test, re-estimate LM params as on a bigger sample\n",
    "# TODO for now don't re-optimise lambda local and cutoff\n",
    "if False: # perhaps not, try to use the same size LMs as in the xval by holding one out\n",
    "\n",
    "\n",
    "    n_range = [1,2,3]\n",
    "    k_val_range = [0.00000001, 1]\n",
    "\n",
    "    l = list(filter(lambda x:x!=TEST, ['r1', 'r3', 'r4', 'r5', 'r6', 'r7', 'r8']))\n",
    "    all_n_self = []\n",
    "    all_k_self = []\n",
    "    all_n_other = []\n",
    "    all_k_other = []\n",
    "\n",
    "    training_folds = {k:references_per_pair[k] for k in filter(lambda x:x not in [TEST], references_per_pair.keys())}\n",
    "    n_self, k_self, lm_opt_results_self = get_params_for_lowest_entropy_on_fold_test(training_folds, good_pieces,\n",
    "                                                                  n_range, k_val_range, prob_model='self')\n",
    "\n",
    "\n",
    "    all_n_self.append(n_self)\n",
    "    all_k_self.append(k_self)\n",
    "\n",
    "    training_folds = {k:references_per_pair[k] for k in filter(lambda x:x not in [TEST], references_per_pair.keys())}\n",
    "    n_other, k_other, lm_opt_results_other = get_params_for_lowest_entropy_on_fold_test(training_folds, good_pieces,\n",
    "                                                                  n_range, k_val_range, prob_model='other')\n",
    "\n",
    "    all_n_other.append(n_other)\n",
    "    all_k_other.append(k_other)\n",
    "\n",
    "    opt_params[\"n_self\"] = round(np.mean(all_n_self))  # NB python rounds down 0.5 but shouldn't matter\n",
    "    opt_params[\"k_self\"] = np.mean(all_k_self)\n",
    "\n",
    "    opt_params[\"n_other\"] = round(np.mean(all_n_other)) # NB python rounds down 0.5 but shouldn't matter\n",
    "    opt_params[\"k_other\"] = np.mean(all_k_other)\n",
    "    print(opt_params)"
   ]
  },
  {
   "cell_type": "code",
   "execution_count": 59,
   "metadata": {},
   "outputs": [],
   "source": [
    "# Final test results (on R2, possibly removing random as heldout for the final result)\n",
    "#opt_params['lambda_local'] = 0.2\n",
    "#opt_params['cutoff_word_global_lm'] = 4\n",
    "test_results = {}\n",
    "#random.seed(0)\n",
    "#l = list(filter(lambda x:x!=test, ['r1', 'r3', 'r4', 'r5', 'r6', 'r7', 'r8']))\n",
    "#shuffle(l)\n",
    "#heldout = l[0]\n",
    "#print(heldout)\n"
   ]
  },
  {
   "cell_type": "code",
   "execution_count": 60,
   "metadata": {},
   "outputs": [
    {
     "name": "stdout",
     "output_type": "stream",
     "text": [
      "r6 r3 r7\n",
      "{'n_self': 1, 'k_self': 0.1, 'n_other': 1, 'k_other': 0.9, 'lambda_local': 0.1, 'cutoff_word_global_lm': 6}\n",
      "[1, 1, 6, 0.9, 0.1, 0.1, True, True, False]\n",
      "[0.8805434338542419] 0.8805434338542419\n"
     ]
    }
   ],
   "source": [
    "# 1) best system from cross val\n",
    "# Note we are introducing a HELDOUT_EXTRA fold, to ensure while all the k folds (7) training data is used,\n",
    "# the size of the LMs used to produce those probs is the same as in the 7-fold xval on that data (i.e. 5 (not 6)) folds\n",
    "\n",
    "# determine what best to leave out for extra heldout for global model (leave out one close to the mean 86/median??)\n",
    "# overall mean = 0.8655297687938474:\n",
    "#[r1 0.8871311102690413 (5), r2 0.8087874978790278 (6), \n",
    "#r3 0.8926487915385203 (2), r4 0.8899784067072645 (3), \n",
    "#r5 0.8968750266827189 (1), r7 0.8886062889291302 (4), \n",
    "#r8 0.7946812595512271 (7)]\n",
    "\n",
    "# crf global +lexical mean = 0.8292769634436334 (could be indicative of different global models):\n",
    "#[r1 0.7246986463828569 (7) ,  r2 0.7918846376934613 (5), \n",
    "# r3 0.9145174415089884 (1),  r4 0.8970742250169593 (2), \n",
    "# r5 0.8537042900288949 (4),  r7 0.8541041652473775 (3), \n",
    "# r8 0.7689553382268967 (6)] \n",
    "\n",
    "# crf global without lexical mean = 0.8101090393857525 (could be indicative of different global models):\n",
    "#[r1 0.7035747702589807 (7) , r2 0.7657131697408088 (5) , \n",
    "#r3 0.8969597351106516 (1) , r4 0.8823844381067611 (2),\n",
    "#r5 0.8266118187023894 (4) , r7 0.853103021391952 (3),\n",
    "# r8 0.7424163223887241 (6) ]\n",
    "\n",
    "#seed 0 for random alternative\n",
    "#r1 0.8459473042740722\n",
    "#r2 0.841488456372273\n",
    "#r4 0.8302973126293945\n",
    "#r5 0.8493825773532347\n",
    "#r7 0.8805434338542419\n",
    "#r8 0.8390350268176637\n",
    "\n",
    "#r1 100 refs\n",
    "#r2 170 refs\n",
    "#r3 265 refs\n",
    "#r4 285 refs\n",
    "#r5 143 refs\n",
    "#r6 258 refs\n",
    "#r7 352 refs\n",
    "#r8 326 refs\n",
    "\n",
    "print(TEST, HELDOUT, EXTRA_HELDOUT)\n",
    "\n",
    "print(opt_params)\n",
    "n_other = opt_params['n_other']\n",
    "n_self = opt_params['n_self']\n",
    "k_other = opt_params['k_other']\n",
    "k_self = opt_params['k_self']\n",
    "lambda_local = opt_params['lambda_local']\n",
    "cutoff_word_global_lm = opt_params[\"cutoff_word_global_lm\"]\n",
    "\n",
    "cross_val_results = []\n",
    "all_preds = []\n",
    "all_y = []\n",
    "for test in [TEST]:\n",
    "    #print(\"heldout\", heldout)\n",
    "    f, preds, y = get_fscore_and_preds(references_per_pair, test, HELDOUT, n_other, n_self, k_other, k_self, lambda_local, cutoff_word_global_lm,\n",
    "                                      heldout_extra_fold=EXTRA_HELDOUT)\n",
    "    all_preds.extend(preds)\n",
    "    all_y.extend(y)\n",
    "    cross_val_results.append(f)\n",
    "exp_params = [n_other, n_self, cutoff_word_global_lm, k_other,k_self, lambda_local, True, True, False]\n",
    "print(exp_params)\n",
    "test_results[','.join([str(p) for p in exp_params])] = (cross_val_results, np.mean(cross_val_results),all_preds)\n",
    "print(cross_val_results, np.mean(cross_val_results))"
   ]
  },
  {
   "cell_type": "code",
   "execution_count": 61,
   "metadata": {},
   "outputs": [
    {
     "name": "stdout",
     "output_type": "stream",
     "text": [
      "[0.834707644846363] 0.834707644846363\n"
     ]
    }
   ],
   "source": [
    "# 2) Get the baseline of lexical info only, no updating/retraining or lms\n",
    "cross_val_results = []\n",
    "all_preds = []\n",
    "all_y = []\n",
    "for test in [TEST]:\n",
    "    f, preds, y = get_fscore_and_preds(references_per_pair, test, heldout, n_other, n_self, k_other, k_self, lambda_local, cutoff_word_global_lm,\n",
    "                                      lm_features = False)\n",
    "    all_preds.extend(preds)\n",
    "    all_y.extend(y)\n",
    "    cross_val_results.append(f)\n",
    "exp_params = [n_other, n_self, cutoff_word_global_lm, k_other,k_self, lambda_local, True, False, False]\n",
    "test_results[','.join([str(p) for p in exp_params])] = (cross_val_results, np.mean(cross_val_results),all_preds)\n",
    "print(cross_val_results, np.mean(cross_val_results))"
   ]
  },
  {
   "cell_type": "code",
   "execution_count": 62,
   "metadata": {},
   "outputs": [
    {
     "name": "stdout",
     "output_type": "stream",
     "text": [
      "[0.8375122990795726] 0.8375122990795726\n"
     ]
    }
   ],
   "source": [
    "# 3) Get lexical + global model only lm (should be similar to lexical)\n",
    "lambda_local = 0\n",
    "cutoff_word_global_lm = 1\n",
    "cross_val_results = []\n",
    "all_preds = []\n",
    "all_y = []\n",
    "for test in [TEST]:\n",
    "    f, preds, y = get_fscore_and_preds(references_per_pair, test, heldout, n_other, n_self, k_other, k_self, lambda_local, cutoff_word_global_lm,\n",
    "                                      heldout_extra_fold=EXTRA_HELDOUT)\n",
    "    all_preds.extend(preds)\n",
    "    all_y.extend(y)\n",
    "    cross_val_results.append(f)\n",
    "exp_params = [n_other, n_self, cutoff_word_global_lm, k_other,k_self, lambda_local, True, True, False]\n",
    "test_results[','.join([str(p) for p in exp_params])] = (cross_val_results, np.mean(cross_val_results),all_preds)\n",
    "print(cross_val_results, np.mean(cross_val_results))"
   ]
  },
  {
   "cell_type": "code",
   "execution_count": 63,
   "metadata": {},
   "outputs": [
    {
     "name": "stdout",
     "output_type": "stream",
     "text": [
      "[0.8492712094602781] 0.8492712094602781\n"
     ]
    }
   ],
   "source": [
    "# 4) Get lexical + local model only lm\n",
    "lambda_local = 1\n",
    "cutoff_word_global_lm = 1\n",
    "cross_val_results = []\n",
    "all_preds = []\n",
    "all_y = []\n",
    "for test in [TEST]:\n",
    "    f, preds, y = get_fscore_and_preds(references_per_pair, test, heldout, n_other, n_self, k_other, k_self, lambda_local, cutoff_word_global_lm,\n",
    "                                      heldout_extra_fold=EXTRA_HELDOUT)\n",
    "    all_preds.extend(preds)\n",
    "    all_y.extend(y)\n",
    "    cross_val_results.append(f)\n",
    "exp_params = [n_other, n_self, cutoff_word_global_lm, k_other,k_self, lambda_local, True, True, False]\n",
    "test_results[','.join([str(p) for p in exp_params])] = (cross_val_results, np.mean(cross_val_results),all_preds)\n",
    "print(cross_val_results, np.mean(cross_val_results))"
   ]
  },
  {
   "cell_type": "code",
   "execution_count": 64,
   "metadata": {},
   "outputs": [
    {
     "name": "stdout",
     "output_type": "stream",
     "text": [
      "[0.8879653298798018] 0.8879653298798018\n"
     ]
    }
   ],
   "source": [
    "# 5) Try without lexical (nb lambda local and cutoff not optimized for this)\n",
    "lambda_local = opt_params[\"lambda_local\"]\n",
    "cutoff_word_global_lm = opt_params[\"cutoff_word_global_lm\"]\n",
    "cross_val_results = []\n",
    "all_preds = []\n",
    "all_y = []\n",
    "for test in [TEST]:\n",
    "    f, preds, y = get_fscore_and_preds(references_per_pair, test, heldout, n_other, n_self, k_other, k_self, lambda_local, cutoff_word_global_lm,\n",
    "                                      lexical=False, heldout_extra_fold=EXTRA_HELDOUT)\n",
    "    all_preds.extend(preds)\n",
    "    all_y.extend(y)\n",
    "    cross_val_results.append(f)\n",
    "exp_params = [n_other, n_self, cutoff_word_global_lm, k_other,k_self, lambda_local, False, True, False]\n",
    "test_results[','.join([str(p) for p in exp_params])] = (cross_val_results, np.mean(cross_val_results),all_preds)\n",
    "print(cross_val_results, np.mean(cross_val_results))"
   ]
  },
  {
   "cell_type": "code",
   "execution_count": 65,
   "metadata": {},
   "outputs": [
    {
     "name": "stdout",
     "output_type": "stream",
     "text": [
      "[0.7488221315217394] 0.7488221315217394\n"
     ]
    }
   ],
   "source": [
    "# 6) Try local only without lexical (nb lambda local and cutoff not optimized for this)\n",
    "lambda_local = 1\n",
    "cutoff_word_global_lm = 1\n",
    "cross_val_results = []\n",
    "all_preds = []\n",
    "all_y = []\n",
    "for test in [TEST]:\n",
    "    f, preds, y = get_fscore_and_preds(references_per_pair, test, heldout, n_other, n_self, k_other, k_self, lambda_local, cutoff_word_global_lm,\n",
    "                                      lexical=False, heldout_extra_fold=EXTRA_HELDOUT)\n",
    "    all_preds.extend(preds)\n",
    "    all_y.extend(y)\n",
    "    cross_val_results.append(f)\n",
    "exp_params = [n_other, n_self, cutoff_word_global_lm, k_other,k_self, lambda_local, False, True, False]\n",
    "test_results[','.join([str(p) for p in exp_params])] = (cross_val_results, np.mean(cross_val_results),all_preds)\n",
    "print(cross_val_results, np.mean(cross_val_results))"
   ]
  },
  {
   "cell_type": "code",
   "execution_count": 66,
   "metadata": {},
   "outputs": [
    {
     "name": "stdout",
     "output_type": "stream",
     "text": [
      "[0.8383477473836394] 0.8383477473836394\n"
     ]
    }
   ],
   "source": [
    "# 7) Try global only without lexical (nb lambda local and cutoff not optimized for this)\n",
    "lambda_local = 0\n",
    "cutoff_word_global_lm = 1\n",
    "cross_val_results = []\n",
    "all_preds = []\n",
    "all_y = []\n",
    "for test in [TEST]:\n",
    "    f, preds, y = get_fscore_and_preds(references_per_pair, test, heldout, n_other, n_self, k_other, k_self, lambda_local, cutoff_word_global_lm,\n",
    "                                      lexical=False,heldout_extra_fold=EXTRA_HELDOUT)\n",
    "    all_preds.extend(preds)\n",
    "    all_y.extend(y)\n",
    "    cross_val_results.append(f)\n",
    "exp_params = [n_other, n_self, cutoff_word_global_lm, k_other,k_self, lambda_local, False, True, False]\n",
    "test_results[','.join([str(p) for p in exp_params])] = (cross_val_results, np.mean(cross_val_results),all_preds)\n",
    "print(cross_val_results, np.mean(cross_val_results))"
   ]
  },
  {
   "cell_type": "code",
   "execution_count": 67,
   "metadata": {},
   "outputs": [
    {
     "name": "stdout",
     "output_type": "stream",
     "text": [
      "[0.9006807283839668] 0.9006807283839668\n"
     ]
    }
   ],
   "source": [
    "# 8) see what difference exahustive retraining makes, firstly lexical only, no lm features\n",
    "lambda_local = opt_params[\"lambda_local\"]\n",
    "cutoff_word_global_lm = opt_params[\"cutoff_word_global_lm\"]\n",
    "cross_val_results = []\n",
    "all_preds = []\n",
    "all_y = []\n",
    "for test in [TEST]:\n",
    "    f, preds, y = get_fscore_and_preds(references_per_pair, test, heldout, n_other, n_self, k_other, k_self, lambda_local, cutoff_word_global_lm,\n",
    "                                      lm_features=False, exhaustive_retrain=True, heldout_extra_fold=EXTRA_HELDOUT)\n",
    "    all_preds.extend(preds)\n",
    "    all_y.extend(y)\n",
    "    cross_val_results.append(f)\n",
    "exp_params = [n_other, n_self, cutoff_word_global_lm, k_other,k_self, lambda_local, True, False, True]\n",
    "test_results[','.join([str(p) for p in exp_params])] = (cross_val_results, np.mean(cross_val_results),all_preds)\n",
    "print(cross_val_results, np.mean(cross_val_results))"
   ]
  },
  {
   "cell_type": "code",
   "execution_count": 68,
   "metadata": {},
   "outputs": [
    {
     "name": "stdout",
     "output_type": "stream",
     "text": [
      "[0.8916486628252694] 0.8916486628252694\n"
     ]
    }
   ],
   "source": [
    "# 9) see what difference exahustive retraining makes, lexical + lm features \n",
    "cross_val_results = []\n",
    "all_preds = []\n",
    "all_y = []\n",
    "for test in [TEST]:\n",
    "    f, preds, y = get_fscore_and_preds(references_per_pair, test, heldout, n_other, n_self, k_other, k_self, lambda_local, cutoff_word_global_lm,\n",
    "                                       exhaustive_retrain=True, heldout_extra_fold=EXTRA_HELDOUT)\n",
    "    all_preds.extend(preds)\n",
    "    all_y.extend(y)\n",
    "    cross_val_results.append(f)\n",
    "exp_params = [n_other, n_self, cutoff_word_global_lm, k_other,k_self, lambda_local, True, True, True]\n",
    "test_results[','.join([str(p) for p in exp_params])] = (cross_val_results, np.mean(cross_val_results),all_preds)\n",
    "print(cross_val_results, np.mean(cross_val_results))"
   ]
  },
  {
   "cell_type": "code",
   "execution_count": 69,
   "metadata": {},
   "outputs": [
    {
     "name": "stdout",
     "output_type": "stream",
     "text": [
      "[0.9012381797222825] 0.9012381797222825\n"
     ]
    }
   ],
   "source": [
    "# 10) exahustive retraining, lexical + lm features  (local only)\n",
    "lambda_local = 1\n",
    "cutoff_word_global_lm = 1\n",
    "cross_val_results = []\n",
    "all_preds = []\n",
    "all_y = []\n",
    "for test in [TEST]:\n",
    "    f, preds, y = get_fscore_and_preds(references_per_pair, test, heldout, n_other, n_self, k_other, k_self, lambda_local, cutoff_word_global_lm,\n",
    "                                       exhaustive_retrain=True, heldout_extra_fold=EXTRA_HELDOUT)\n",
    "    all_preds.extend(preds)\n",
    "    all_y.extend(y)\n",
    "    cross_val_results.append(f)\n",
    "exp_params = [n_other, n_self, cutoff_word_global_lm, k_other,k_self, lambda_local, True, True, True]\n",
    "test_results[','.join([str(p) for p in exp_params])] = (cross_val_results, np.mean(cross_val_results),all_preds)\n",
    "print(cross_val_results, np.mean(cross_val_results))"
   ]
  },
  {
   "cell_type": "code",
   "execution_count": 70,
   "metadata": {},
   "outputs": [
    {
     "name": "stdout",
     "output_type": "stream",
     "text": [
      "statistic=0.000, p-value=0.000\n",
      "Different proportions of errors (reject H0)\n",
      "statistic=0.000, p-value=0.001\n",
      "Different proportions of errors (reject H0)\n",
      "statistic=3.000, p-value=0.035\n",
      "Different proportions of errors (reject H0)\n",
      "statistic=2.000, p-value=0.688\n",
      "Same proportions of errors (fail to reject H0)\n",
      "statistic=5.000, p-value=0.000\n",
      "Different proportions of errors (reject H0)\n",
      "statistic=6.000, p-value=0.052\n",
      "Same proportions of errors (fail to reject H0)\n",
      "statistic=0.000, p-value=0.062\n",
      "Same proportions of errors (fail to reject H0)\n",
      "statistic=0.000, p-value=0.250\n",
      "Same proportions of errors (fail to reject H0)\n",
      "statistic=1.000, p-value=0.125\n",
      "Same proportions of errors (fail to reject H0)\n",
      "statistic=4.000, p-value=1.000\n",
      "Same proportions of errors (fail to reject H0)\n",
      "statistic=1.000, p-value=0.375\n",
      "Same proportions of errors (fail to reject H0)\n",
      "statistic=2.000, p-value=0.001\n",
      "Different proportions of errors (reject H0)\n",
      "statistic=13.000, p-value=0.001\n",
      "Different proportions of errors (reject H0)\n",
      "statistic=9.000, p-value=0.824\n",
      "Same proportions of errors (fail to reject H0)\n",
      "statistic=0.000, p-value=0.000\n",
      "Different proportions of errors (reject H0)\n",
      "statistic=0.000, p-value=0.000\n",
      "Different proportions of errors (reject H0)\n",
      "statistic=1.000, p-value=0.000\n",
      "Different proportions of errors (reject H0)\n",
      "statistic=6.000, p-value=0.791\n",
      "Same proportions of errors (fail to reject H0)\n",
      "statistic=2.000, p-value=0.002\n",
      "Different proportions of errors (reject H0)\n",
      "statistic=15.000, p-value=0.001\n",
      "Different proportions of errors (reject H0)\n",
      "statistic=8.000, p-value=1.000\n",
      "Same proportions of errors (fail to reject H0)\n",
      "statistic=0.000, p-value=0.000\n",
      "Different proportions of errors (reject H0)\n",
      "statistic=0.000, p-value=0.000\n",
      "Different proportions of errors (reject H0)\n",
      "statistic=1.000, p-value=0.000\n",
      "Different proportions of errors (reject H0)\n",
      "statistic=5.000, p-value=0.027\n",
      "Different proportions of errors (reject H0)\n",
      "statistic=10.000, p-value=0.000\n",
      "Different proportions of errors (reject H0)\n",
      "statistic=12.000, p-value=1.000\n",
      "Same proportions of errors (fail to reject H0)\n",
      "statistic=2.000, p-value=0.001\n",
      "Different proportions of errors (reject H0)\n",
      "statistic=3.000, p-value=0.008\n",
      "Different proportions of errors (reject H0)\n",
      "statistic=0.000, p-value=0.000\n",
      "Different proportions of errors (reject H0)\n",
      "statistic=4.000, p-value=0.000\n",
      "Different proportions of errors (reject H0)\n",
      "statistic=3.000, p-value=0.008\n",
      "Different proportions of errors (reject H0)\n",
      "statistic=2.000, p-value=0.453\n",
      "Same proportions of errors (fail to reject H0)\n",
      "statistic=2.000, p-value=1.000\n",
      "Same proportions of errors (fail to reject H0)\n",
      "statistic=4.000, p-value=0.549\n",
      "Same proportions of errors (fail to reject H0)\n",
      "statistic=18.000, p-value=0.002\n",
      "Different proportions of errors (reject H0)\n",
      "statistic=2.000, p-value=0.000\n",
      "Different proportions of errors (reject H0)\n",
      "statistic=3.000, p-value=0.000\n",
      "Different proportions of errors (reject H0)\n",
      "statistic=1.000, p-value=0.000\n",
      "Different proportions of errors (reject H0)\n",
      "statistic=5.000, p-value=0.004\n",
      "Different proportions of errors (reject H0)\n",
      "statistic=5.000, p-value=0.011\n",
      "Different proportions of errors (reject H0)\n",
      "statistic=7.000, p-value=0.008\n",
      "Different proportions of errors (reject H0)\n",
      "statistic=0.000, p-value=0.500\n",
      "Same proportions of errors (fail to reject H0)\n",
      "statistic=3.000, p-value=1.000\n",
      "Same proportions of errors (fail to reject H0)\n",
      "statistic=2.000, p-value=0.688\n",
      "Same proportions of errors (fail to reject H0)\n"
     ]
    }
   ],
   "source": [
    "comparison_results_test = {}\n",
    "for sys1 in test_results.keys():\n",
    "    for sys2 in test_results.keys():\n",
    "        if sys1 == sys2:\n",
    "            continue\n",
    "        if sys1 + \" V \" + sys2 in comparison_results_test.keys() or sys2 + \" V \" + sys1 in comparison_results_test.keys():\n",
    "            continue\n",
    "        cl1_preds = test_results[sys1][2]\n",
    "        cl2_preds = test_results[sys2][2]\n",
    "        sig = calculate_mcnemar_test(cl1_preds, cl2_preds, all_y, alpha=0.05, exact=True)\n",
    "        comparison_results_test[sys1 + \" V \" + sys2] = [test_results[sys1][1], test_results[sys2][1]] + list(sig)\n",
    "        "
   ]
  },
  {
   "cell_type": "code",
   "execution_count": 71,
   "metadata": {},
   "outputs": [
    {
     "name": "stdout",
     "output_type": "stream",
     "text": [
      "1 ) 1,1,6,0.9,0.1,0.1,True,True,False V 1,1,6,0.9,0.1,0.1,True,False,False [0.8805434338542419, 0.834707644846363, 0.0, 0.00048828125, True, True, True]\n",
      "2 ) 1,1,6,0.9,0.1,0.1,True,True,False V 1,1,1,0.9,0.1,0,True,True,False [0.8805434338542419, 0.8375122990795726, 0.0, 0.0009765625, True, True, True]\n",
      "3 ) 1,1,6,0.9,0.1,0.1,True,True,False V 1,1,1,0.9,0.1,1,True,True,False [0.8805434338542419, 0.8492712094602781, 3.0, 0.03515625, True, False, False]\n",
      "4 ) 1,1,6,0.9,0.1,0.1,True,True,False V 1,1,6,0.9,0.1,0.1,False,True,False [0.8805434338542419, 0.8879653298798018, 2.0, 0.6875, False, False, False]\n",
      "5 ) 1,1,6,0.9,0.1,0.1,True,True,False V 1,1,1,0.9,0.1,1,False,True,False [0.8805434338542419, 0.7488221315217394, 5.0, 7.878384167270269e-08, True, True, True]\n",
      "6 ) 1,1,6,0.9,0.1,0.1,True,True,False V 1,1,1,0.9,0.1,0,False,True,False [0.8805434338542419, 0.8383477473836394, 6.0, 0.052478790283203125, False, False, False]\n",
      "7 ) 1,1,6,0.9,0.1,0.1,True,True,False V 1,1,6,0.9,0.1,0.1,True,False,True [0.8805434338542419, 0.9006807283839668, 0.0, 0.0625, False, False, False]\n",
      "8 ) 1,1,6,0.9,0.1,0.1,True,True,False V 1,1,6,0.9,0.1,0.1,True,True,True [0.8805434338542419, 0.8916486628252694, 0.0, 0.25, False, False, False]\n",
      "9 ) 1,1,6,0.9,0.1,0.1,True,True,False V 1,1,1,0.9,0.1,1,True,True,True [0.8805434338542419, 0.9012381797222825, 1.0, 0.125, False, False, False]\n",
      "10 ) 1,1,6,0.9,0.1,0.1,True,False,False V 1,1,1,0.9,0.1,0,True,True,False [0.834707644846363, 0.8375122990795726, 4.0, 1.0, False, False, False]\n",
      "11 ) 1,1,6,0.9,0.1,0.1,True,False,False V 1,1,1,0.9,0.1,1,True,True,False [0.834707644846363, 0.8492712094602781, 1.0, 0.375, False, False, False]\n",
      "12 ) 1,1,6,0.9,0.1,0.1,True,False,False V 1,1,6,0.9,0.1,0.1,False,True,False [0.834707644846363, 0.8879653298798018, 2.0, 0.001312255859375, True, True, False]\n",
      "13 ) 1,1,6,0.9,0.1,0.1,True,False,False V 1,1,1,0.9,0.1,1,False,True,False [0.834707644846363, 0.7488221315217394, 13.0, 0.001402688503695515, True, True, False]\n",
      "14 ) 1,1,6,0.9,0.1,0.1,True,False,False V 1,1,1,0.9,0.1,0,False,True,False [0.834707644846363, 0.8383477473836394, 9.0, 0.8238029479980469, False, False, False]\n",
      "15 ) 1,1,6,0.9,0.1,0.1,True,False,False V 1,1,6,0.9,0.1,0.1,True,False,True [0.834707644846363, 0.9006807283839668, 0.0, 1.52587890625e-05, True, True, True]\n",
      "16 ) 1,1,6,0.9,0.1,0.1,True,False,False V 1,1,6,0.9,0.1,0.1,True,True,True [0.834707644846363, 0.8916486628252694, 0.0, 6.103515625e-05, True, True, True]\n",
      "17 ) 1,1,6,0.9,0.1,0.1,True,False,False V 1,1,1,0.9,0.1,1,True,True,True [0.834707644846363, 0.9012381797222825, 1.0, 7.62939453125e-05, True, True, True]\n",
      "18 ) 1,1,1,0.9,0.1,0,True,True,False V 1,1,1,0.9,0.1,1,True,True,False [0.8375122990795726, 0.8492712094602781, 6.0, 0.79052734375, False, False, False]\n",
      "19 ) 1,1,1,0.9,0.1,0,True,True,False V 1,1,6,0.9,0.1,0.1,False,True,False [0.8375122990795726, 0.8879653298798018, 2.0, 0.002349853515625, True, True, False]\n",
      "20 ) 1,1,1,0.9,0.1,0,True,True,False V 1,1,1,0.9,0.1,1,False,True,False [0.8375122990795726, 0.7488221315217394, 15.0, 0.0014962588853935084, True, True, False]\n",
      "21 ) 1,1,1,0.9,0.1,0,True,True,False V 1,1,1,0.9,0.1,0,False,True,False [0.8375122990795726, 0.8383477473836394, 8.0, 1.0, False, False, False]\n",
      "22 ) 1,1,1,0.9,0.1,0,True,True,False V 1,1,6,0.9,0.1,0.1,True,False,True [0.8375122990795726, 0.9006807283839668, 0.0, 3.0517578125e-05, True, True, True]\n",
      "23 ) 1,1,1,0.9,0.1,0,True,True,False V 1,1,6,0.9,0.1,0.1,True,True,True [0.8375122990795726, 0.8916486628252694, 0.0, 0.0001220703125, True, True, True]\n",
      "24 ) 1,1,1,0.9,0.1,0,True,True,False V 1,1,1,0.9,0.1,1,True,True,True [0.8375122990795726, 0.9012381797222825, 1.0, 0.00014495849609375, True, True, True]\n",
      "25 ) 1,1,1,0.9,0.1,1,True,True,False V 1,1,6,0.9,0.1,0.1,False,True,False [0.8492712094602781, 0.8879653298798018, 5.0, 0.02660369873046875, True, False, False]\n",
      "26 ) 1,1,1,0.9,0.1,1,True,True,False V 1,1,1,0.9,0.1,1,False,True,False [0.8492712094602781, 0.7488221315217394, 10.0, 0.00015641720852954677, True, True, True]\n",
      "27 ) 1,1,1,0.9,0.1,1,True,True,False V 1,1,1,0.9,0.1,0,False,True,False [0.8492712094602781, 0.8383477473836394, 12.0, 1.0, False, False, False]\n",
      "28 ) 1,1,1,0.9,0.1,1,True,True,False V 1,1,6,0.9,0.1,0.1,True,False,True [0.8492712094602781, 0.9006807283839668, 2.0, 0.001312255859375, True, True, False]\n",
      "29 ) 1,1,1,0.9,0.1,1,True,True,False V 1,1,6,0.9,0.1,0.1,True,True,True [0.8492712094602781, 0.8916486628252694, 3.0, 0.007537841796875, True, True, False]\n",
      "30 ) 1,1,1,0.9,0.1,1,True,True,False V 1,1,1,0.9,0.1,1,True,True,True [0.8492712094602781, 0.9012381797222825, 0.0, 0.0001220703125, True, True, True]\n",
      "31 ) 1,1,6,0.9,0.1,0.1,False,True,False V 1,1,1,0.9,0.1,1,False,True,False [0.8879653298798018, 0.7488221315217394, 4.0, 9.334883088740753e-09, True, True, True]\n",
      "32 ) 1,1,6,0.9,0.1,0.1,False,True,False V 1,1,1,0.9,0.1,0,False,True,False [0.8879653298798018, 0.8383477473836394, 3.0, 0.007537841796875, True, True, False]\n",
      "33 ) 1,1,6,0.9,0.1,0.1,False,True,False V 1,1,6,0.9,0.1,0.1,True,False,True [0.8879653298798018, 0.9006807283839668, 2.0, 0.453125, False, False, False]\n",
      "34 ) 1,1,6,0.9,0.1,0.1,False,True,False V 1,1,6,0.9,0.1,0.1,True,True,True [0.8879653298798018, 0.8916486628252694, 2.0, 1.0, False, False, False]\n",
      "35 ) 1,1,6,0.9,0.1,0.1,False,True,False V 1,1,1,0.9,0.1,1,True,True,True [0.8879653298798018, 0.9012381797222825, 4.0, 0.548828125, False, False, False]\n",
      "36 ) 1,1,1,0.9,0.1,1,False,True,False V 1,1,1,0.9,0.1,0,False,True,False [0.7488221315217394, 0.8383477473836394, 18.0, 0.001868101030975251, True, True, False]\n",
      "37 ) 1,1,1,0.9,0.1,1,False,True,False V 1,1,6,0.9,0.1,0.1,True,False,True [0.7488221315217394, 0.9006807283839668, 2.0, 1.1266365618212149e-10, True, True, True]\n",
      "38 ) 1,1,1,0.9,0.1,1,False,True,False V 1,1,6,0.9,0.1,0.1,True,True,True [0.7488221315217394, 0.8916486628252694, 3.0, 1.6183321349672042e-09, True, True, True]\n",
      "39 ) 1,1,1,0.9,0.1,1,False,True,False V 1,1,1,0.9,0.1,1,True,True,True [0.7488221315217394, 0.9012381797222825, 1.0, 1.9554136088117957e-11, True, True, True]\n",
      "40 ) 1,1,1,0.9,0.1,0,False,True,False V 1,1,6,0.9,0.1,0.1,True,False,True [0.8383477473836394, 0.9006807283839668, 5.0, 0.004077315330505371, True, True, False]\n",
      "41 ) 1,1,1,0.9,0.1,0,False,True,False V 1,1,6,0.9,0.1,0.1,True,True,True [0.8383477473836394, 0.8916486628252694, 5.0, 0.010622024536132812, True, False, False]\n",
      "42 ) 1,1,1,0.9,0.1,0,False,True,False V 1,1,1,0.9,0.1,1,True,True,True [0.8383477473836394, 0.9012381797222825, 7.0, 0.008130058646202087, True, True, False]\n",
      "43 ) 1,1,6,0.9,0.1,0.1,True,False,True V 1,1,6,0.9,0.1,0.1,True,True,True [0.9006807283839668, 0.8916486628252694, 0.0, 0.5, False, False, False]\n",
      "44 ) 1,1,6,0.9,0.1,0.1,True,False,True V 1,1,1,0.9,0.1,1,True,True,True [0.9006807283839668, 0.9012381797222825, 3.0, 1.0, False, False, False]\n",
      "45 ) 1,1,6,0.9,0.1,0.1,True,True,True V 1,1,1,0.9,0.1,1,True,True,True [0.8916486628252694, 0.9012381797222825, 2.0, 0.6875, False, False, False]\n"
     ]
    }
   ],
   "source": [
    "count = 1\n",
    "for k, v in comparison_results_test.items():\n",
    "    print(count, \")\", k, v)\n",
    "    count+=1"
   ]
  },
  {
   "cell_type": "code",
   "execution_count": null,
   "metadata": {},
   "outputs": [],
   "source": [
    "with r6 test, r3 heldout, r7 extra (interim June 20th 5pm)\n",
    "1 ) 1,1,6,0.9,0.1,0.1,True,True,False V 1,1,6,0.9,0.1,0.1,True,False,False [0.8805434338542419, 0.834707644846363, 0.0, 0.00048828125, True, True, True]\n",
    "2 ) 1,1,6,0.9,0.1,0.1,True,True,False V 1,1,1,0.9,0.1,0,True,True,False [0.8805434338542419, 0.8375122990795726, 0.0, 0.0009765625, True, True, True]\n",
    "3 ) 1,1,6,0.9,0.1,0.1,True,True,False V 1,1,1,0.9,0.1,1,True,True,False [0.8805434338542419, 0.8492712094602781, 3.0, 0.03515625, True, False, False]\n",
    "4 ) 1,1,6,0.9,0.1,0.1,True,True,False V 1,1,6,0.9,0.1,0.1,False,True,False [0.8805434338542419, 0.8879653298798018, 2.0, 0.6875, False, False, False]\n",
    "5 ) 1,1,6,0.9,0.1,0.1,True,True,False V 1,1,1,0.9,0.1,1,False,True,False [0.8805434338542419, 0.7488221315217394, 5.0, 7.878384167270269e-08, True, True, True]\n",
    "6 ) 1,1,6,0.9,0.1,0.1,True,True,False V 1,1,1,0.9,0.1,0,False,True,False [0.8805434338542419, 0.8383477473836394, 6.0, 0.052478790283203125, False, False, False]\n",
    "7 ) 1,1,6,0.9,0.1,0.1,True,True,False V 1,1,6,0.9,0.1,0.1,True,False,True [0.8805434338542419, 0.9006807283839668, 0.0, 0.0625, False, False, False]\n",
    "8 ) 1,1,6,0.9,0.1,0.1,True,True,False V 1,1,6,0.9,0.1,0.1,True,True,True [0.8805434338542419, 0.8916486628252694, 0.0, 0.25, False, False, False]\n",
    "9 ) 1,1,6,0.9,0.1,0.1,True,True,False V 1,1,1,0.9,0.1,1,True,True,True [0.8805434338542419, 0.9012381797222825, 1.0, 0.125, False, False, False]\n",
    "Beats baseline 1) lexical no retrain :) 2) GLOBAL only 3) LOCAL only  5) local only no lexical\n",
    "Doesn't beat/same as:  4) no lexical  6) global no lexical, 7) exhaustive retrain lexical only  8) exhaustive retrain  9) exhaustive retrain local only\n"
   ]
  },
  {
   "cell_type": "markdown",
   "metadata": {},
   "source": [
    "# Experiment 2: Removing the training data by one pair each time, down to 1 pair"
   ]
  },
  {
   "cell_type": "code",
   "execution_count": 76,
   "metadata": {},
   "outputs": [
    {
     "name": "stdout",
     "output_type": "stream",
     "text": [
      "2\n",
      "['r7', 'r4']\n",
      "best k 1.0 8.459471990135716\n",
      "best k 1.0 8.763609062649696\n",
      "best k 1.0 10.055934938495543\n",
      "{1: (1.0, 8.459471990135716), 2: (1.0, 8.763609062649696), 3: (1.0, 10.055934938495543)}\n",
      "3\n",
      "['r7', 'r4', 'r3']\n",
      "best k 1.0 8.026707033041179\n",
      "best k 1.0 7.432905649117651\n",
      "best k 0.6107955295000012 8.838865075654837\n",
      "{1: (1.0, 8.026707033041179), 2: (1.0, 7.432905649117651), 3: (0.6107955295000012, 8.838865075654837)}\n",
      "4\n",
      "['r7', 'r4', 'r3', 'r1']\n",
      "best k 1.0 8.089230134874791\n",
      "best k 0.8771338335000014 7.357918206807465\n",
      "best k 0.35310797750000056 8.526929044996598\n",
      "{1: (1.0, 8.089230134874791), 2: (0.8771338335000014, 7.357918206807465), 3: (0.35310797750000056, 8.526929044996598)}\n",
      "5\n",
      "['r7', 'r4', 'r3', 'r1', 'r8']\n",
      "best k 1.0 8.433653723253368\n",
      "best k 0.7868252255000012 7.695774551527665\n",
      "best k 0.3282042975000006 8.8602205720436\n",
      "{1: (1.0, 8.433653723253368), 2: (0.7868252255000012, 7.695774551527665), 3: (0.3282042975000006, 8.8602205720436)}\n",
      "6\n",
      "['r7', 'r4', 'r3', 'r1', 'r8', 'r5']\n",
      "best k 1.0 8.323678483317178\n",
      "best k 0.594935817500001 7.391706636840973\n",
      "best k 0.24091034550000048 8.447313934773915\n",
      "{1: (1.0, 8.323678483317178), 2: (0.594935817500001, 7.391706636840973), 3: (0.24091034550000048, 8.447313934773915)}\n"
     ]
    }
   ],
   "source": [
    "# for a given setup of reduced training folds, get the right global params for a given number of reduced\n",
    "# the self model should have the same params\n",
    "opt_params_reduced = {}\n",
    "opt_params_reduced['n_self'] = opt_params['n_self']\n",
    "opt_params_reduced['k_self'] = opt_params['k_self']\n",
    "\n",
    "n_range = [1,2,3]\n",
    "k_val_range = [0.00000001, 1]\n",
    "\n",
    "for num_training_pairs in range(2,7):\n",
    "    print(num_training_pairs)\n",
    "    training_folds = list(filter(lambda x:x not in [TEST], ['r1', 'r3', 'r4', 'r5', 'r6', 'r7', 'r8']))\n",
    "    random.seed(0)\n",
    "    shuffle(training_folds)\n",
    "    training_folds = training_folds[:num_training_pairs]\n",
    "    print(training_folds)\n",
    "    reduced_data = {k:references_per_pair[k] for k in filter(lambda x:x in training_folds, references_per_pair.keys())}\n",
    "    n_other, k_other, lm_opt_results_other = get_params_for_lowest_entropy_on_fold_test(reduced_data, good_pieces,\n",
    "                                                              n_range, k_val_range, prob_model='other')\n",
    "    opt_params_reduced[\"n_other_{0}\".format(num_training_pairs-1)] = n_other\n",
    "    opt_params_reduced[\"k_other_{0}\".format(num_training_pairs-1)] = k_other\n",
    "\n",
    "\n"
   ]
  },
  {
   "cell_type": "code",
   "execution_count": 77,
   "metadata": {},
   "outputs": [
    {
     "name": "stdout",
     "output_type": "stream",
     "text": [
      "{'n_self': 1, 'k_self': 0.1, 'n_other_1': 1, 'k_other_1': 1.0, 'n_other_2': 2, 'k_other_2': 1.0, 'n_other_3': 2, 'k_other_3': 0.8771338335000014, 'n_other_4': 2, 'k_other_4': 0.7868252255000012, 'n_other_5': 2, 'k_other_5': 0.594935817500001}\n"
     ]
    }
   ],
   "source": [
    "print(opt_params_reduced)"
   ]
  },
  {
   "cell_type": "code",
   "execution_count": 78,
   "metadata": {},
   "outputs": [],
   "source": [
    "# Do optimization to find best cut-off and lambda local param values (rather than just cross-entropy as not straightforward)\n",
    "# find best lambda local and cut-off word through cross-val testing, pick one with highest accuracy\n",
    "OPTIMIZING = False\n",
    "if OPTIMIZING:\n",
    "    n_self = opt_params_reduced['n_self']  \n",
    "    k_self = opt_params_reduced['k_self']\n",
    "\n",
    "    results = {}\n",
    "\n",
    "    for num_training_pairs in range(1,6):\n",
    "        print(num_training_pairs)  \n",
    "        n_other = opt_params_reduced[\"n_other_{0}\".format(num_training_pairs)]\n",
    "        k_other = opt_params_reduced[\"k_other_{0}\".format(num_training_pairs)] \n",
    "        \n",
    "        best_f = 0\n",
    "        best_params = []\n",
    "        for cutoff_word_global_lm in range(1,11):\n",
    "            for lambda_local_raw in range(0,105,5):\n",
    "                lambda_local = lambda_local_raw/100\n",
    "                all_scores = []\n",
    "                for test in ['r1', 'r3', 'r4', 'r5', 'r6', 'r7', 'r8']:\n",
    "                    training_folds = list(filter(lambda x:x!=test, ['r1', 'r3', 'r4', 'r5', 'r6', 'r7', 'r8']))\n",
    "                    random.seed(0)\n",
    "                    shuffle(training_folds)\n",
    "                    training_folds = training_folds[:num_training_pairs] + [test]\n",
    "                    print(training_folds)\n",
    "                    reduced_data = {k:references_per_pair[k] for k in filter(lambda x:x in training_folds, references_per_pair.keys())}\n",
    "                    fscore, preds, labels = get_fscore_and_preds(reduced_data, test, \"\", n_other, n_self, k_other, k_self, lambda_local, cutoff_word_global_lm)\n",
    "                    all_scores.append(fscore)\n",
    "                mean_f = np.mean(all_scores)\n",
    "                test_params = [num_training_pairs, n_other, n_self, cutoff_word_global_lm, k_other,k_self, lambda_local]\n",
    "                print(test_params, mean_f)\n",
    "                results[\",\".join([str(f) for f in test_params])] = mean_f\n",
    "                if mean_f == best_f:\n",
    "                    best_params = [best_params, test_params]\n",
    "                elif mean_f > best_f:\n",
    "                    best_f = mean_f\n",
    "                    best_params = test_params\n",
    "                    print(\"best\", best_f, best_params)\n",
    "    #results_file = open(\"results\" + datetime.time)\n",
    "    #for row in sorted(results.items(), key=lambda x:x[1], reverse=True):\n",
    "    results_file = open(datetime.datetime.now().isoformat() + \"_REDUCED.csv\", \"w\")\n",
    "    results_file.write(\",\".join(['num_training_pairs', 'n_other', 'n_self', 'cutoff_word_global_lm', 'k_other', 'k_self', 'lambda_local', 'fscore']) + \"\\n\")\n",
    "    for params, result in sorted(results.items(), key=lambda x:x[1], reverse=True):\n",
    "        results_file.write(params + \",\" + str(result) + \"\\n\")\n",
    "    results_file.close()"
   ]
  },
  {
   "cell_type": "code",
   "execution_count": 158,
   "metadata": {},
   "outputs": [],
   "source": [
    "results_file = open(\"2023-06-21T08:17:12.999981_reduced.csv\", \"a\")"
   ]
  },
  {
   "cell_type": "code",
   "execution_count": 156,
   "metadata": {},
   "outputs": [
    {
     "name": "stdout",
     "output_type": "stream",
     "text": [
      "2\n"
     ]
    }
   ],
   "source": [
    "print(num_training_pairs)"
   ]
  },
  {
   "cell_type": "code",
   "execution_count": 159,
   "metadata": {},
   "outputs": [
    {
     "name": "stdout",
     "output_type": "stream",
     "text": [
      "r6 r3 r7\n"
     ]
    },
    {
     "name": "stderr",
     "output_type": "stream",
     "text": [
      "/Users/julianhough/miniforge3/lib/python3.10/site-packages/sklearn/metrics/_classification.py:1344: UndefinedMetricWarning: Precision and F-score are ill-defined and being set to 0.0 in labels with no predicted samples. Use `zero_division` parameter to control this behavior.\n",
      "  _warn_prf(average, modifier, msg_start, len(result))\n",
      "/Users/julianhough/miniforge3/lib/python3.10/site-packages/sklearn/metrics/_classification.py:1344: UndefinedMetricWarning: Precision and F-score are ill-defined and being set to 0.0 in labels with no predicted samples. Use `zero_division` parameter to control this behavior.\n",
      "  _warn_prf(average, modifier, msg_start, len(result))\n"
     ]
    },
    {
     "name": "stdout",
     "output_type": "stream",
     "text": [
      "[3, 1, 1, 1, 0.05, 0.1, 0.0] 0.7076018365090361\n",
      "best 0.7076018365090361 [3, 1, 1, 1, 0.05, 0.1, 0.0]\n",
      "[3, 1, 1, 1, 0.05, 0.1, 0.05] 0.8147189559540168\n",
      "best 0.8147189559540168 [3, 1, 1, 1, 0.05, 0.1, 0.05]\n",
      "[3, 1, 1, 1, 0.05, 0.1, 0.1] 0.8101582275370649\n"
     ]
    },
    {
     "name": "stderr",
     "output_type": "stream",
     "text": [
      "/Users/julianhough/miniforge3/lib/python3.10/site-packages/sklearn/metrics/_classification.py:1344: UndefinedMetricWarning: Precision and F-score are ill-defined and being set to 0.0 in labels with no predicted samples. Use `zero_division` parameter to control this behavior.\n",
      "  _warn_prf(average, modifier, msg_start, len(result))\n",
      "/Users/julianhough/miniforge3/lib/python3.10/site-packages/sklearn/metrics/_classification.py:1344: UndefinedMetricWarning: Precision and F-score are ill-defined and being set to 0.0 in labels with no predicted samples. Use `zero_division` parameter to control this behavior.\n",
      "  _warn_prf(average, modifier, msg_start, len(result))\n"
     ]
    },
    {
     "name": "stdout",
     "output_type": "stream",
     "text": [
      "[3, 1, 1, 2, 0.05, 0.1, 0.0] 0.7076018365090361\n",
      "[3, 1, 1, 2, 0.05, 0.1, 0.05] 0.8144358113273691\n",
      "[3, 1, 1, 2, 0.05, 0.1, 0.1] 0.813478214266298\n"
     ]
    },
    {
     "name": "stderr",
     "output_type": "stream",
     "text": [
      "/Users/julianhough/miniforge3/lib/python3.10/site-packages/sklearn/metrics/_classification.py:1344: UndefinedMetricWarning: Precision and F-score are ill-defined and being set to 0.0 in labels with no predicted samples. Use `zero_division` parameter to control this behavior.\n",
      "  _warn_prf(average, modifier, msg_start, len(result))\n",
      "/Users/julianhough/miniforge3/lib/python3.10/site-packages/sklearn/metrics/_classification.py:1344: UndefinedMetricWarning: Precision and F-score are ill-defined and being set to 0.0 in labels with no predicted samples. Use `zero_division` parameter to control this behavior.\n",
      "  _warn_prf(average, modifier, msg_start, len(result))\n"
     ]
    },
    {
     "name": "stdout",
     "output_type": "stream",
     "text": [
      "[3, 1, 1, 3, 0.05, 0.1, 0.0] 0.7076018365090361\n",
      "[3, 1, 1, 3, 0.05, 0.1, 0.05] 0.8155927554960762\n",
      "best 0.8155927554960762 [3, 1, 1, 3, 0.05, 0.1, 0.05]\n",
      "[3, 1, 1, 3, 0.05, 0.1, 0.1] 0.8169938286546733\n",
      "best 0.8169938286546733 [3, 1, 1, 3, 0.05, 0.1, 0.1]\n",
      "[3, 1, 1, 3, 0.05, 0.1, 0.15] 0.8121653449394496\n"
     ]
    },
    {
     "name": "stderr",
     "output_type": "stream",
     "text": [
      "/Users/julianhough/miniforge3/lib/python3.10/site-packages/sklearn/metrics/_classification.py:1344: UndefinedMetricWarning: Precision and F-score are ill-defined and being set to 0.0 in labels with no predicted samples. Use `zero_division` parameter to control this behavior.\n",
      "  _warn_prf(average, modifier, msg_start, len(result))\n",
      "/Users/julianhough/miniforge3/lib/python3.10/site-packages/sklearn/metrics/_classification.py:1344: UndefinedMetricWarning: Precision and F-score are ill-defined and being set to 0.0 in labels with no predicted samples. Use `zero_division` parameter to control this behavior.\n",
      "  _warn_prf(average, modifier, msg_start, len(result))\n"
     ]
    },
    {
     "name": "stdout",
     "output_type": "stream",
     "text": [
      "[3, 1, 1, 4, 0.05, 0.1, 0.0] 0.7076018365090361\n",
      "[3, 1, 1, 4, 0.05, 0.1, 0.05] 0.8105899462134214\n",
      "[3, 1, 1, 4, 0.05, 0.1, 0.1] 0.8134357854166414\n",
      "[3, 1, 1, 4, 0.05, 0.1, 0.15] 0.8119937515712776\n"
     ]
    },
    {
     "name": "stderr",
     "output_type": "stream",
     "text": [
      "/Users/julianhough/miniforge3/lib/python3.10/site-packages/sklearn/metrics/_classification.py:1344: UndefinedMetricWarning: Precision and F-score are ill-defined and being set to 0.0 in labels with no predicted samples. Use `zero_division` parameter to control this behavior.\n",
      "  _warn_prf(average, modifier, msg_start, len(result))\n",
      "/Users/julianhough/miniforge3/lib/python3.10/site-packages/sklearn/metrics/_classification.py:1344: UndefinedMetricWarning: Precision and F-score are ill-defined and being set to 0.0 in labels with no predicted samples. Use `zero_division` parameter to control this behavior.\n",
      "  _warn_prf(average, modifier, msg_start, len(result))\n"
     ]
    },
    {
     "name": "stdout",
     "output_type": "stream",
     "text": [
      "[3, 1, 1, 5, 0.05, 0.1, 0.0] 0.7076018365090361\n",
      "[3, 1, 1, 5, 0.05, 0.1, 0.05] 0.8096019208210021\n",
      "[3, 1, 1, 5, 0.05, 0.1, 0.1] 0.8088497902335086\n"
     ]
    },
    {
     "name": "stderr",
     "output_type": "stream",
     "text": [
      "/Users/julianhough/miniforge3/lib/python3.10/site-packages/sklearn/metrics/_classification.py:1344: UndefinedMetricWarning: Precision and F-score are ill-defined and being set to 0.0 in labels with no predicted samples. Use `zero_division` parameter to control this behavior.\n",
      "  _warn_prf(average, modifier, msg_start, len(result))\n",
      "/Users/julianhough/miniforge3/lib/python3.10/site-packages/sklearn/metrics/_classification.py:1344: UndefinedMetricWarning: Precision and F-score are ill-defined and being set to 0.0 in labels with no predicted samples. Use `zero_division` parameter to control this behavior.\n",
      "  _warn_prf(average, modifier, msg_start, len(result))\n"
     ]
    },
    {
     "name": "stdout",
     "output_type": "stream",
     "text": [
      "[3, 1, 1, 6, 0.05, 0.1, 0.0] 0.7076018365090361\n",
      "[3, 1, 1, 6, 0.05, 0.1, 0.05] 0.8104994533373653\n",
      "[3, 1, 1, 6, 0.05, 0.1, 0.1] 0.8096303589107939\n"
     ]
    },
    {
     "name": "stderr",
     "output_type": "stream",
     "text": [
      "/Users/julianhough/miniforge3/lib/python3.10/site-packages/sklearn/metrics/_classification.py:1344: UndefinedMetricWarning: Precision and F-score are ill-defined and being set to 0.0 in labels with no predicted samples. Use `zero_division` parameter to control this behavior.\n",
      "  _warn_prf(average, modifier, msg_start, len(result))\n",
      "/Users/julianhough/miniforge3/lib/python3.10/site-packages/sklearn/metrics/_classification.py:1344: UndefinedMetricWarning: Precision and F-score are ill-defined and being set to 0.0 in labels with no predicted samples. Use `zero_division` parameter to control this behavior.\n",
      "  _warn_prf(average, modifier, msg_start, len(result))\n"
     ]
    },
    {
     "name": "stdout",
     "output_type": "stream",
     "text": [
      "[3, 1, 1, 7, 0.05, 0.1, 0.0] 0.7076018365090361\n",
      "[3, 1, 1, 7, 0.05, 0.1, 0.05] 0.8096743455875617\n",
      "[3, 1, 1, 7, 0.05, 0.1, 0.1] 0.8141161825870651\n",
      "[3, 1, 1, 7, 0.05, 0.1, 0.15] 0.8109280605391234\n"
     ]
    },
    {
     "name": "stderr",
     "output_type": "stream",
     "text": [
      "/Users/julianhough/miniforge3/lib/python3.10/site-packages/sklearn/metrics/_classification.py:1344: UndefinedMetricWarning: Precision and F-score are ill-defined and being set to 0.0 in labels with no predicted samples. Use `zero_division` parameter to control this behavior.\n",
      "  _warn_prf(average, modifier, msg_start, len(result))\n",
      "/Users/julianhough/miniforge3/lib/python3.10/site-packages/sklearn/metrics/_classification.py:1344: UndefinedMetricWarning: Precision and F-score are ill-defined and being set to 0.0 in labels with no predicted samples. Use `zero_division` parameter to control this behavior.\n",
      "  _warn_prf(average, modifier, msg_start, len(result))\n"
     ]
    },
    {
     "name": "stdout",
     "output_type": "stream",
     "text": [
      "[3, 1, 1, 8, 0.05, 0.1, 0.0] 0.7076018365090361\n",
      "[3, 1, 1, 8, 0.05, 0.1, 0.05] 0.8088884176637327\n",
      "[3, 1, 1, 8, 0.05, 0.1, 0.1] 0.8143443958533038\n",
      "[3, 1, 1, 8, 0.05, 0.1, 0.15] 0.8124877224545676\n"
     ]
    },
    {
     "name": "stderr",
     "output_type": "stream",
     "text": [
      "/Users/julianhough/miniforge3/lib/python3.10/site-packages/sklearn/metrics/_classification.py:1344: UndefinedMetricWarning: Precision and F-score are ill-defined and being set to 0.0 in labels with no predicted samples. Use `zero_division` parameter to control this behavior.\n",
      "  _warn_prf(average, modifier, msg_start, len(result))\n",
      "/Users/julianhough/miniforge3/lib/python3.10/site-packages/sklearn/metrics/_classification.py:1344: UndefinedMetricWarning: Precision and F-score are ill-defined and being set to 0.0 in labels with no predicted samples. Use `zero_division` parameter to control this behavior.\n",
      "  _warn_prf(average, modifier, msg_start, len(result))\n"
     ]
    },
    {
     "name": "stdout",
     "output_type": "stream",
     "text": [
      "[3, 1, 1, 9, 0.05, 0.1, 0.0] 0.7076018365090361\n",
      "[3, 1, 1, 9, 0.05, 0.1, 0.05] 0.8110221422355514\n",
      "[3, 1, 1, 9, 0.05, 0.1, 0.1] 0.8147359012801945\n",
      "[3, 1, 1, 9, 0.05, 0.1, 0.15] 0.815419473954278\n",
      "[3, 1, 1, 9, 0.05, 0.1, 0.2] 0.8148682212378792\n"
     ]
    },
    {
     "name": "stderr",
     "output_type": "stream",
     "text": [
      "/Users/julianhough/miniforge3/lib/python3.10/site-packages/sklearn/metrics/_classification.py:1344: UndefinedMetricWarning: Precision and F-score are ill-defined and being set to 0.0 in labels with no predicted samples. Use `zero_division` parameter to control this behavior.\n",
      "  _warn_prf(average, modifier, msg_start, len(result))\n",
      "/Users/julianhough/miniforge3/lib/python3.10/site-packages/sklearn/metrics/_classification.py:1344: UndefinedMetricWarning: Precision and F-score are ill-defined and being set to 0.0 in labels with no predicted samples. Use `zero_division` parameter to control this behavior.\n",
      "  _warn_prf(average, modifier, msg_start, len(result))\n"
     ]
    },
    {
     "name": "stdout",
     "output_type": "stream",
     "text": [
      "[3, 1, 1, 10, 0.05, 0.1, 0.0] 0.7076018365090361\n",
      "[3, 1, 1, 10, 0.05, 0.1, 0.05] 0.8106776435058617\n",
      "[3, 1, 1, 10, 0.05, 0.1, 0.1] 0.8146987929421166\n",
      "[3, 1, 1, 10, 0.05, 0.1, 0.15] 0.8168396092677087\n",
      "[3, 1, 1, 10, 0.05, 0.1, 0.2] 0.8160606418280221\n"
     ]
    },
    {
     "name": "stderr",
     "output_type": "stream",
     "text": [
      "/Users/julianhough/miniforge3/lib/python3.10/site-packages/sklearn/metrics/_classification.py:1344: UndefinedMetricWarning: Precision and F-score are ill-defined and being set to 0.0 in labels with no predicted samples. Use `zero_division` parameter to control this behavior.\n",
      "  _warn_prf(average, modifier, msg_start, len(result))\n",
      "/Users/julianhough/miniforge3/lib/python3.10/site-packages/sklearn/metrics/_classification.py:1344: UndefinedMetricWarning: Precision and F-score are ill-defined and being set to 0.0 in labels with no predicted samples. Use `zero_division` parameter to control this behavior.\n",
      "  _warn_prf(average, modifier, msg_start, len(result))\n"
     ]
    },
    {
     "name": "stdout",
     "output_type": "stream",
     "text": [
      "[3, 1, 1, 1, 0.1, 0.1, 0.0] 0.7040004662790735\n",
      "[3, 1, 1, 1, 0.1, 0.1, 0.05] 0.8107416746920713\n",
      "[3, 1, 1, 1, 0.1, 0.1, 0.1] 0.8156668806990994\n",
      "[3, 1, 1, 1, 0.1, 0.1, 0.15] 0.8108079143113576\n"
     ]
    },
    {
     "name": "stderr",
     "output_type": "stream",
     "text": [
      "/Users/julianhough/miniforge3/lib/python3.10/site-packages/sklearn/metrics/_classification.py:1344: UndefinedMetricWarning: Precision and F-score are ill-defined and being set to 0.0 in labels with no predicted samples. Use `zero_division` parameter to control this behavior.\n",
      "  _warn_prf(average, modifier, msg_start, len(result))\n",
      "/Users/julianhough/miniforge3/lib/python3.10/site-packages/sklearn/metrics/_classification.py:1344: UndefinedMetricWarning: Precision and F-score are ill-defined and being set to 0.0 in labels with no predicted samples. Use `zero_division` parameter to control this behavior.\n",
      "  _warn_prf(average, modifier, msg_start, len(result))\n"
     ]
    },
    {
     "name": "stdout",
     "output_type": "stream",
     "text": [
      "[3, 1, 1, 2, 0.1, 0.1, 0.0] 0.7040004662790735\n",
      "[3, 1, 1, 2, 0.1, 0.1, 0.05] 0.811113877726535\n",
      "[3, 1, 1, 2, 0.1, 0.1, 0.1] 0.8165573965610362\n",
      "[3, 1, 1, 2, 0.1, 0.1, 0.15] 0.8152155831961688\n"
     ]
    },
    {
     "name": "stderr",
     "output_type": "stream",
     "text": [
      "/Users/julianhough/miniforge3/lib/python3.10/site-packages/sklearn/metrics/_classification.py:1344: UndefinedMetricWarning: Precision and F-score are ill-defined and being set to 0.0 in labels with no predicted samples. Use `zero_division` parameter to control this behavior.\n",
      "  _warn_prf(average, modifier, msg_start, len(result))\n",
      "/Users/julianhough/miniforge3/lib/python3.10/site-packages/sklearn/metrics/_classification.py:1344: UndefinedMetricWarning: Precision and F-score are ill-defined and being set to 0.0 in labels with no predicted samples. Use `zero_division` parameter to control this behavior.\n",
      "  _warn_prf(average, modifier, msg_start, len(result))\n"
     ]
    },
    {
     "name": "stdout",
     "output_type": "stream",
     "text": [
      "[3, 1, 1, 3, 0.1, 0.1, 0.0] 0.7040004662790735\n",
      "[3, 1, 1, 3, 0.1, 0.1, 0.05] 0.8112082394429649\n",
      "[3, 1, 1, 3, 0.1, 0.1, 0.1] 0.8168266013400439\n",
      "[3, 1, 1, 3, 0.1, 0.1, 0.15] 0.8141428988052695\n"
     ]
    },
    {
     "name": "stderr",
     "output_type": "stream",
     "text": [
      "/Users/julianhough/miniforge3/lib/python3.10/site-packages/sklearn/metrics/_classification.py:1344: UndefinedMetricWarning: Precision and F-score are ill-defined and being set to 0.0 in labels with no predicted samples. Use `zero_division` parameter to control this behavior.\n",
      "  _warn_prf(average, modifier, msg_start, len(result))\n",
      "/Users/julianhough/miniforge3/lib/python3.10/site-packages/sklearn/metrics/_classification.py:1344: UndefinedMetricWarning: Precision and F-score are ill-defined and being set to 0.0 in labels with no predicted samples. Use `zero_division` parameter to control this behavior.\n",
      "  _warn_prf(average, modifier, msg_start, len(result))\n"
     ]
    },
    {
     "name": "stdout",
     "output_type": "stream",
     "text": [
      "[3, 1, 1, 4, 0.1, 0.1, 0.0] 0.7040004662790735\n",
      "[3, 1, 1, 4, 0.1, 0.1, 0.05] 0.8090310415806427\n",
      "[3, 1, 1, 4, 0.1, 0.1, 0.1] 0.8138223126694133\n",
      "[3, 1, 1, 4, 0.1, 0.1, 0.15] 0.8124262346327799\n"
     ]
    },
    {
     "name": "stderr",
     "output_type": "stream",
     "text": [
      "/Users/julianhough/miniforge3/lib/python3.10/site-packages/sklearn/metrics/_classification.py:1344: UndefinedMetricWarning: Precision and F-score are ill-defined and being set to 0.0 in labels with no predicted samples. Use `zero_division` parameter to control this behavior.\n",
      "  _warn_prf(average, modifier, msg_start, len(result))\n",
      "/Users/julianhough/miniforge3/lib/python3.10/site-packages/sklearn/metrics/_classification.py:1344: UndefinedMetricWarning: Precision and F-score are ill-defined and being set to 0.0 in labels with no predicted samples. Use `zero_division` parameter to control this behavior.\n",
      "  _warn_prf(average, modifier, msg_start, len(result))\n"
     ]
    },
    {
     "name": "stdout",
     "output_type": "stream",
     "text": [
      "[3, 1, 1, 5, 0.1, 0.1, 0.0] 0.7040004662790735\n",
      "[3, 1, 1, 5, 0.1, 0.1, 0.05] 0.8082182841364624\n",
      "[3, 1, 1, 5, 0.1, 0.1, 0.1] 0.8113975094909645\n",
      "[3, 1, 1, 5, 0.1, 0.1, 0.15] 0.810384714347952\n"
     ]
    },
    {
     "name": "stderr",
     "output_type": "stream",
     "text": [
      "/Users/julianhough/miniforge3/lib/python3.10/site-packages/sklearn/metrics/_classification.py:1344: UndefinedMetricWarning: Precision and F-score are ill-defined and being set to 0.0 in labels with no predicted samples. Use `zero_division` parameter to control this behavior.\n",
      "  _warn_prf(average, modifier, msg_start, len(result))\n",
      "/Users/julianhough/miniforge3/lib/python3.10/site-packages/sklearn/metrics/_classification.py:1344: UndefinedMetricWarning: Precision and F-score are ill-defined and being set to 0.0 in labels with no predicted samples. Use `zero_division` parameter to control this behavior.\n",
      "  _warn_prf(average, modifier, msg_start, len(result))\n"
     ]
    },
    {
     "name": "stdout",
     "output_type": "stream",
     "text": [
      "[3, 1, 1, 6, 0.1, 0.1, 0.0] 0.7040004662790735\n",
      "[3, 1, 1, 6, 0.1, 0.1, 0.05] 0.803613254049364\n",
      "[3, 1, 1, 6, 0.1, 0.1, 0.1] 0.8156942069663389\n",
      "[3, 1, 1, 6, 0.1, 0.1, 0.15] 0.812478052816877\n"
     ]
    },
    {
     "name": "stderr",
     "output_type": "stream",
     "text": [
      "/Users/julianhough/miniforge3/lib/python3.10/site-packages/sklearn/metrics/_classification.py:1344: UndefinedMetricWarning: Precision and F-score are ill-defined and being set to 0.0 in labels with no predicted samples. Use `zero_division` parameter to control this behavior.\n",
      "  _warn_prf(average, modifier, msg_start, len(result))\n",
      "/Users/julianhough/miniforge3/lib/python3.10/site-packages/sklearn/metrics/_classification.py:1344: UndefinedMetricWarning: Precision and F-score are ill-defined and being set to 0.0 in labels with no predicted samples. Use `zero_division` parameter to control this behavior.\n",
      "  _warn_prf(average, modifier, msg_start, len(result))\n"
     ]
    },
    {
     "name": "stdout",
     "output_type": "stream",
     "text": [
      "[3, 1, 1, 7, 0.1, 0.1, 0.0] 0.7040004662790735\n",
      "[3, 1, 1, 7, 0.1, 0.1, 0.05] 0.8015313012305708\n",
      "[3, 1, 1, 7, 0.1, 0.1, 0.1] 0.8125729299886801\n",
      "[3, 1, 1, 7, 0.1, 0.1, 0.15] 0.8140547887717097\n",
      "[3, 1, 1, 7, 0.1, 0.1, 0.2] 0.8124125744204093\n"
     ]
    },
    {
     "name": "stderr",
     "output_type": "stream",
     "text": [
      "/Users/julianhough/miniforge3/lib/python3.10/site-packages/sklearn/metrics/_classification.py:1344: UndefinedMetricWarning: Precision and F-score are ill-defined and being set to 0.0 in labels with no predicted samples. Use `zero_division` parameter to control this behavior.\n",
      "  _warn_prf(average, modifier, msg_start, len(result))\n",
      "/Users/julianhough/miniforge3/lib/python3.10/site-packages/sklearn/metrics/_classification.py:1344: UndefinedMetricWarning: Precision and F-score are ill-defined and being set to 0.0 in labels with no predicted samples. Use `zero_division` parameter to control this behavior.\n",
      "  _warn_prf(average, modifier, msg_start, len(result))\n"
     ]
    },
    {
     "name": "stdout",
     "output_type": "stream",
     "text": [
      "[3, 1, 1, 8, 0.1, 0.1, 0.0] 0.7040004662790735\n",
      "[3, 1, 1, 8, 0.1, 0.1, 0.05] 0.8026982561529391\n",
      "[3, 1, 1, 8, 0.1, 0.1, 0.1] 0.811427746955517\n",
      "[3, 1, 1, 8, 0.1, 0.1, 0.15] 0.8159033955521844\n",
      "[3, 1, 1, 8, 0.1, 0.1, 0.2] 0.8153447460206664\n"
     ]
    },
    {
     "name": "stderr",
     "output_type": "stream",
     "text": [
      "/Users/julianhough/miniforge3/lib/python3.10/site-packages/sklearn/metrics/_classification.py:1344: UndefinedMetricWarning: Precision and F-score are ill-defined and being set to 0.0 in labels with no predicted samples. Use `zero_division` parameter to control this behavior.\n",
      "  _warn_prf(average, modifier, msg_start, len(result))\n",
      "/Users/julianhough/miniforge3/lib/python3.10/site-packages/sklearn/metrics/_classification.py:1344: UndefinedMetricWarning: Precision and F-score are ill-defined and being set to 0.0 in labels with no predicted samples. Use `zero_division` parameter to control this behavior.\n",
      "  _warn_prf(average, modifier, msg_start, len(result))\n"
     ]
    },
    {
     "name": "stdout",
     "output_type": "stream",
     "text": [
      "[3, 1, 1, 9, 0.1, 0.1, 0.0] 0.7040004662790735\n",
      "[3, 1, 1, 9, 0.1, 0.1, 0.05] 0.8020814997003566\n",
      "[3, 1, 1, 9, 0.1, 0.1, 0.1] 0.8094744349017038\n",
      "[3, 1, 1, 9, 0.1, 0.1, 0.15] 0.8147870538488877\n",
      "[3, 1, 1, 9, 0.1, 0.1, 0.2] 0.815990832529781\n",
      "[3, 1, 1, 9, 0.1, 0.1, 0.25] 0.8168241394069302\n",
      "[3, 1, 1, 9, 0.1, 0.1, 0.3] 0.817986978685619\n",
      "best 0.817986978685619 [3, 1, 1, 9, 0.1, 0.1, 0.3]\n",
      "[3, 1, 1, 9, 0.1, 0.1, 0.35] 0.8167391090666344\n"
     ]
    },
    {
     "name": "stderr",
     "output_type": "stream",
     "text": [
      "/Users/julianhough/miniforge3/lib/python3.10/site-packages/sklearn/metrics/_classification.py:1344: UndefinedMetricWarning: Precision and F-score are ill-defined and being set to 0.0 in labels with no predicted samples. Use `zero_division` parameter to control this behavior.\n",
      "  _warn_prf(average, modifier, msg_start, len(result))\n",
      "/Users/julianhough/miniforge3/lib/python3.10/site-packages/sklearn/metrics/_classification.py:1344: UndefinedMetricWarning: Precision and F-score are ill-defined and being set to 0.0 in labels with no predicted samples. Use `zero_division` parameter to control this behavior.\n",
      "  _warn_prf(average, modifier, msg_start, len(result))\n"
     ]
    },
    {
     "name": "stdout",
     "output_type": "stream",
     "text": [
      "[3, 1, 1, 10, 0.1, 0.1, 0.0] 0.7040004662790735\n",
      "[3, 1, 1, 10, 0.1, 0.1, 0.05] 0.8020332082558561\n",
      "[3, 1, 1, 10, 0.1, 0.1, 0.1] 0.8086673382050422\n",
      "[3, 1, 1, 10, 0.1, 0.1, 0.15] 0.8112916780124031\n",
      "[3, 1, 1, 10, 0.1, 0.1, 0.2] 0.8159664698882573\n",
      "[3, 1, 1, 10, 0.1, 0.1, 0.25] 0.8160782377694344\n",
      "[3, 1, 1, 10, 0.1, 0.1, 0.3] 0.8159592112196697\n"
     ]
    },
    {
     "name": "stderr",
     "output_type": "stream",
     "text": [
      "/Users/julianhough/miniforge3/lib/python3.10/site-packages/sklearn/metrics/_classification.py:1344: UndefinedMetricWarning: Precision and F-score are ill-defined and being set to 0.0 in labels with no predicted samples. Use `zero_division` parameter to control this behavior.\n",
      "  _warn_prf(average, modifier, msg_start, len(result))\n",
      "/Users/julianhough/miniforge3/lib/python3.10/site-packages/sklearn/metrics/_classification.py:1344: UndefinedMetricWarning: Precision and F-score are ill-defined and being set to 0.0 in labels with no predicted samples. Use `zero_division` parameter to control this behavior.\n",
      "  _warn_prf(average, modifier, msg_start, len(result))\n"
     ]
    },
    {
     "name": "stdout",
     "output_type": "stream",
     "text": [
      "[3, 1, 1, 1, 0.15, 0.1, 0.0] 0.7024126459377095\n",
      "[3, 1, 1, 1, 0.15, 0.1, 0.05] 0.8080412578698534\n",
      "[3, 1, 1, 1, 0.15, 0.1, 0.1] 0.8137936232116224\n",
      "[3, 1, 1, 1, 0.15, 0.1, 0.15] 0.8146813724709479\n",
      "[3, 1, 1, 1, 0.15, 0.1, 0.2] 0.8125357614631259\n"
     ]
    },
    {
     "name": "stderr",
     "output_type": "stream",
     "text": [
      "/Users/julianhough/miniforge3/lib/python3.10/site-packages/sklearn/metrics/_classification.py:1344: UndefinedMetricWarning: Precision and F-score are ill-defined and being set to 0.0 in labels with no predicted samples. Use `zero_division` parameter to control this behavior.\n",
      "  _warn_prf(average, modifier, msg_start, len(result))\n",
      "/Users/julianhough/miniforge3/lib/python3.10/site-packages/sklearn/metrics/_classification.py:1344: UndefinedMetricWarning: Precision and F-score are ill-defined and being set to 0.0 in labels with no predicted samples. Use `zero_division` parameter to control this behavior.\n",
      "  _warn_prf(average, modifier, msg_start, len(result))\n"
     ]
    },
    {
     "name": "stdout",
     "output_type": "stream",
     "text": [
      "[3, 1, 1, 2, 0.15, 0.1, 0.0] 0.7024126459377095\n",
      "[3, 1, 1, 2, 0.15, 0.1, 0.05] 0.8093387339489857\n",
      "[3, 1, 1, 2, 0.15, 0.1, 0.1] 0.8127241819752163\n",
      "[3, 1, 1, 2, 0.15, 0.1, 0.15] 0.8159152487707205\n",
      "[3, 1, 1, 2, 0.15, 0.1, 0.2] 0.8148083479675995\n"
     ]
    },
    {
     "name": "stderr",
     "output_type": "stream",
     "text": [
      "/Users/julianhough/miniforge3/lib/python3.10/site-packages/sklearn/metrics/_classification.py:1344: UndefinedMetricWarning: Precision and F-score are ill-defined and being set to 0.0 in labels with no predicted samples. Use `zero_division` parameter to control this behavior.\n",
      "  _warn_prf(average, modifier, msg_start, len(result))\n",
      "/Users/julianhough/miniforge3/lib/python3.10/site-packages/sklearn/metrics/_classification.py:1344: UndefinedMetricWarning: Precision and F-score are ill-defined and being set to 0.0 in labels with no predicted samples. Use `zero_division` parameter to control this behavior.\n",
      "  _warn_prf(average, modifier, msg_start, len(result))\n"
     ]
    },
    {
     "name": "stdout",
     "output_type": "stream",
     "text": [
      "[3, 1, 1, 3, 0.15, 0.1, 0.0] 0.7024126459377095\n",
      "[3, 1, 1, 3, 0.15, 0.1, 0.05] 0.8041546700643963\n",
      "[3, 1, 1, 3, 0.15, 0.1, 0.1] 0.8149340292511867\n",
      "[3, 1, 1, 3, 0.15, 0.1, 0.15] 0.8163789368392459\n",
      "[3, 1, 1, 3, 0.15, 0.1, 0.2] 0.8161391915755747\n"
     ]
    },
    {
     "name": "stderr",
     "output_type": "stream",
     "text": [
      "/Users/julianhough/miniforge3/lib/python3.10/site-packages/sklearn/metrics/_classification.py:1344: UndefinedMetricWarning: Precision and F-score are ill-defined and being set to 0.0 in labels with no predicted samples. Use `zero_division` parameter to control this behavior.\n",
      "  _warn_prf(average, modifier, msg_start, len(result))\n",
      "/Users/julianhough/miniforge3/lib/python3.10/site-packages/sklearn/metrics/_classification.py:1344: UndefinedMetricWarning: Precision and F-score are ill-defined and being set to 0.0 in labels with no predicted samples. Use `zero_division` parameter to control this behavior.\n",
      "  _warn_prf(average, modifier, msg_start, len(result))\n"
     ]
    },
    {
     "name": "stdout",
     "output_type": "stream",
     "text": [
      "[3, 1, 1, 4, 0.15, 0.1, 0.0] 0.7024126459377095\n",
      "[3, 1, 1, 4, 0.15, 0.1, 0.05] 0.8005904438551866\n",
      "[3, 1, 1, 4, 0.15, 0.1, 0.1] 0.8138211664647693\n",
      "[3, 1, 1, 4, 0.15, 0.1, 0.15] 0.8162427676540708\n",
      "[3, 1, 1, 4, 0.15, 0.1, 0.2] 0.8164281689827921\n",
      "[3, 1, 1, 4, 0.15, 0.1, 0.25] 0.817528415755622\n",
      "[3, 1, 1, 4, 0.15, 0.1, 0.3] 0.8230455247313652\n",
      "best 0.8230455247313652 [3, 1, 1, 4, 0.15, 0.1, 0.3]\n",
      "[3, 1, 1, 4, 0.15, 0.1, 0.35] 0.8207126387407438\n"
     ]
    },
    {
     "name": "stderr",
     "output_type": "stream",
     "text": [
      "/Users/julianhough/miniforge3/lib/python3.10/site-packages/sklearn/metrics/_classification.py:1344: UndefinedMetricWarning: Precision and F-score are ill-defined and being set to 0.0 in labels with no predicted samples. Use `zero_division` parameter to control this behavior.\n",
      "  _warn_prf(average, modifier, msg_start, len(result))\n",
      "/Users/julianhough/miniforge3/lib/python3.10/site-packages/sklearn/metrics/_classification.py:1344: UndefinedMetricWarning: Precision and F-score are ill-defined and being set to 0.0 in labels with no predicted samples. Use `zero_division` parameter to control this behavior.\n",
      "  _warn_prf(average, modifier, msg_start, len(result))\n"
     ]
    },
    {
     "name": "stdout",
     "output_type": "stream",
     "text": [
      "[3, 1, 1, 5, 0.15, 0.1, 0.0] 0.7024126459377095\n",
      "[3, 1, 1, 5, 0.15, 0.1, 0.05] 0.8000184872267606\n",
      "[3, 1, 1, 5, 0.15, 0.1, 0.1] 0.8111207272942167\n",
      "[3, 1, 1, 5, 0.15, 0.1, 0.15] 0.8135815710540728\n",
      "[3, 1, 1, 5, 0.15, 0.1, 0.2] 0.8172811034717633\n",
      "[3, 1, 1, 5, 0.15, 0.1, 0.25] 0.8174054664596886\n",
      "[3, 1, 1, 5, 0.15, 0.1, 0.3] 0.8217334968375306\n",
      "[3, 1, 1, 5, 0.15, 0.1, 0.35] 0.824031418173231\n",
      "best 0.824031418173231 [3, 1, 1, 5, 0.15, 0.1, 0.35]\n",
      "[3, 1, 1, 5, 0.15, 0.1, 0.4] 0.8221917972174142\n"
     ]
    },
    {
     "name": "stderr",
     "output_type": "stream",
     "text": [
      "/Users/julianhough/miniforge3/lib/python3.10/site-packages/sklearn/metrics/_classification.py:1344: UndefinedMetricWarning: Precision and F-score are ill-defined and being set to 0.0 in labels with no predicted samples. Use `zero_division` parameter to control this behavior.\n",
      "  _warn_prf(average, modifier, msg_start, len(result))\n",
      "/Users/julianhough/miniforge3/lib/python3.10/site-packages/sklearn/metrics/_classification.py:1344: UndefinedMetricWarning: Precision and F-score are ill-defined and being set to 0.0 in labels with no predicted samples. Use `zero_division` parameter to control this behavior.\n",
      "  _warn_prf(average, modifier, msg_start, len(result))\n"
     ]
    },
    {
     "name": "stdout",
     "output_type": "stream",
     "text": [
      "[3, 1, 1, 6, 0.15, 0.1, 0.0] 0.7024126459377095\n",
      "[3, 1, 1, 6, 0.15, 0.1, 0.05] 0.801083748400365\n",
      "[3, 1, 1, 6, 0.15, 0.1, 0.1] 0.810046028316562\n",
      "[3, 1, 1, 6, 0.15, 0.1, 0.15] 0.8143803822608474\n",
      "[3, 1, 1, 6, 0.15, 0.1, 0.2] 0.8153578054583422\n",
      "[3, 1, 1, 6, 0.15, 0.1, 0.25] 0.8179070787965069\n",
      "[3, 1, 1, 6, 0.15, 0.1, 0.3] 0.8213301732835989\n",
      "[3, 1, 1, 6, 0.15, 0.1, 0.35] 0.8247229333940076\n",
      "best 0.8247229333940076 [3, 1, 1, 6, 0.15, 0.1, 0.35]\n",
      "[3, 1, 1, 6, 0.15, 0.1, 0.4] 0.8251343443285004\n",
      "best 0.8251343443285004 [3, 1, 1, 6, 0.15, 0.1, 0.4]\n",
      "[3, 1, 1, 6, 0.15, 0.1, 0.45] 0.8240418184036848\n"
     ]
    },
    {
     "name": "stderr",
     "output_type": "stream",
     "text": [
      "/Users/julianhough/miniforge3/lib/python3.10/site-packages/sklearn/metrics/_classification.py:1344: UndefinedMetricWarning: Precision and F-score are ill-defined and being set to 0.0 in labels with no predicted samples. Use `zero_division` parameter to control this behavior.\n",
      "  _warn_prf(average, modifier, msg_start, len(result))\n",
      "/Users/julianhough/miniforge3/lib/python3.10/site-packages/sklearn/metrics/_classification.py:1344: UndefinedMetricWarning: Precision and F-score are ill-defined and being set to 0.0 in labels with no predicted samples. Use `zero_division` parameter to control this behavior.\n",
      "  _warn_prf(average, modifier, msg_start, len(result))\n"
     ]
    },
    {
     "name": "stdout",
     "output_type": "stream",
     "text": [
      "[3, 1, 1, 7, 0.15, 0.1, 0.0] 0.7024126459377095\n",
      "[3, 1, 1, 7, 0.15, 0.1, 0.05] 0.8000215204329066\n",
      "[3, 1, 1, 7, 0.15, 0.1, 0.1] 0.8114070386188027\n",
      "[3, 1, 1, 7, 0.15, 0.1, 0.15] 0.8133323904443773\n",
      "[3, 1, 1, 7, 0.15, 0.1, 0.2] 0.8148506201289409\n",
      "[3, 1, 1, 7, 0.15, 0.1, 0.25] 0.8155697091091688\n",
      "[3, 1, 1, 7, 0.15, 0.1, 0.3] 0.818603423482028\n",
      "[3, 1, 1, 7, 0.15, 0.1, 0.35] 0.8215685950970014\n",
      "[3, 1, 1, 7, 0.15, 0.1, 0.4] 0.8218869185438631\n",
      "[3, 1, 1, 7, 0.15, 0.1, 0.45] 0.8223517957587279\n",
      "[3, 1, 1, 7, 0.15, 0.1, 0.5] 0.8238334624130427\n",
      "[3, 1, 1, 7, 0.15, 0.1, 0.55] 0.8243592235403876\n",
      "[3, 1, 1, 7, 0.15, 0.1, 0.6] 0.8232163320121526\n"
     ]
    },
    {
     "name": "stderr",
     "output_type": "stream",
     "text": [
      "/Users/julianhough/miniforge3/lib/python3.10/site-packages/sklearn/metrics/_classification.py:1344: UndefinedMetricWarning: Precision and F-score are ill-defined and being set to 0.0 in labels with no predicted samples. Use `zero_division` parameter to control this behavior.\n",
      "  _warn_prf(average, modifier, msg_start, len(result))\n",
      "/Users/julianhough/miniforge3/lib/python3.10/site-packages/sklearn/metrics/_classification.py:1344: UndefinedMetricWarning: Precision and F-score are ill-defined and being set to 0.0 in labels with no predicted samples. Use `zero_division` parameter to control this behavior.\n",
      "  _warn_prf(average, modifier, msg_start, len(result))\n"
     ]
    },
    {
     "name": "stdout",
     "output_type": "stream",
     "text": [
      "[3, 1, 1, 8, 0.15, 0.1, 0.0] 0.7024126459377095\n",
      "[3, 1, 1, 8, 0.15, 0.1, 0.05] 0.7942157922825056\n",
      "[3, 1, 1, 8, 0.15, 0.1, 0.1] 0.809496711717736\n",
      "[3, 1, 1, 8, 0.15, 0.1, 0.15] 0.8134723808096541\n",
      "[3, 1, 1, 8, 0.15, 0.1, 0.2] 0.8158541926102405\n",
      "[3, 1, 1, 8, 0.15, 0.1, 0.25] 0.8129353709638668\n"
     ]
    },
    {
     "name": "stderr",
     "output_type": "stream",
     "text": [
      "/Users/julianhough/miniforge3/lib/python3.10/site-packages/sklearn/metrics/_classification.py:1344: UndefinedMetricWarning: Precision and F-score are ill-defined and being set to 0.0 in labels with no predicted samples. Use `zero_division` parameter to control this behavior.\n",
      "  _warn_prf(average, modifier, msg_start, len(result))\n",
      "/Users/julianhough/miniforge3/lib/python3.10/site-packages/sklearn/metrics/_classification.py:1344: UndefinedMetricWarning: Precision and F-score are ill-defined and being set to 0.0 in labels with no predicted samples. Use `zero_division` parameter to control this behavior.\n",
      "  _warn_prf(average, modifier, msg_start, len(result))\n"
     ]
    },
    {
     "name": "stdout",
     "output_type": "stream",
     "text": [
      "[3, 1, 1, 9, 0.15, 0.1, 0.0] 0.7024126459377095\n",
      "[3, 1, 1, 9, 0.15, 0.1, 0.05] 0.788865977097611\n",
      "[3, 1, 1, 9, 0.15, 0.1, 0.1] 0.8084644311130631\n",
      "[3, 1, 1, 9, 0.15, 0.1, 0.15] 0.8106526527855858\n",
      "[3, 1, 1, 9, 0.15, 0.1, 0.2] 0.8134154079196326\n",
      "[3, 1, 1, 9, 0.15, 0.1, 0.25] 0.8128197241120217\n"
     ]
    },
    {
     "name": "stderr",
     "output_type": "stream",
     "text": [
      "/Users/julianhough/miniforge3/lib/python3.10/site-packages/sklearn/metrics/_classification.py:1344: UndefinedMetricWarning: Precision and F-score are ill-defined and being set to 0.0 in labels with no predicted samples. Use `zero_division` parameter to control this behavior.\n",
      "  _warn_prf(average, modifier, msg_start, len(result))\n",
      "/Users/julianhough/miniforge3/lib/python3.10/site-packages/sklearn/metrics/_classification.py:1344: UndefinedMetricWarning: Precision and F-score are ill-defined and being set to 0.0 in labels with no predicted samples. Use `zero_division` parameter to control this behavior.\n",
      "  _warn_prf(average, modifier, msg_start, len(result))\n"
     ]
    },
    {
     "name": "stdout",
     "output_type": "stream",
     "text": [
      "[3, 1, 1, 10, 0.15, 0.1, 0.0] 0.7024126459377095\n",
      "[3, 1, 1, 10, 0.15, 0.1, 0.05] 0.7894187935595719\n",
      "[3, 1, 1, 10, 0.15, 0.1, 0.1] 0.807175219772921\n",
      "[3, 1, 1, 10, 0.15, 0.1, 0.15] 0.8103695596994341\n",
      "[3, 1, 1, 10, 0.15, 0.1, 0.2] 0.8122266749266126\n",
      "[3, 1, 1, 10, 0.15, 0.1, 0.25] 0.811714988526767\n"
     ]
    },
    {
     "name": "stderr",
     "output_type": "stream",
     "text": [
      "/Users/julianhough/miniforge3/lib/python3.10/site-packages/sklearn/metrics/_classification.py:1344: UndefinedMetricWarning: Precision and F-score are ill-defined and being set to 0.0 in labels with no predicted samples. Use `zero_division` parameter to control this behavior.\n",
      "  _warn_prf(average, modifier, msg_start, len(result))\n",
      "/Users/julianhough/miniforge3/lib/python3.10/site-packages/sklearn/metrics/_classification.py:1344: UndefinedMetricWarning: Precision and F-score are ill-defined and being set to 0.0 in labels with no predicted samples. Use `zero_division` parameter to control this behavior.\n",
      "  _warn_prf(average, modifier, msg_start, len(result))\n"
     ]
    },
    {
     "name": "stdout",
     "output_type": "stream",
     "text": [
      "[3, 1, 1, 1, 0.2, 0.1, 0.0] 0.7120903964914309\n",
      "[3, 1, 1, 1, 0.2, 0.1, 0.05] 0.8013921121366201\n",
      "[3, 1, 1, 1, 0.2, 0.1, 0.1] 0.8164890291768303\n",
      "[3, 1, 1, 1, 0.2, 0.1, 0.15] 0.8229671309797375\n",
      "[3, 1, 1, 1, 0.2, 0.1, 0.2] 0.8180428383285759\n"
     ]
    },
    {
     "name": "stderr",
     "output_type": "stream",
     "text": [
      "/Users/julianhough/miniforge3/lib/python3.10/site-packages/sklearn/metrics/_classification.py:1344: UndefinedMetricWarning: Precision and F-score are ill-defined and being set to 0.0 in labels with no predicted samples. Use `zero_division` parameter to control this behavior.\n",
      "  _warn_prf(average, modifier, msg_start, len(result))\n",
      "/Users/julianhough/miniforge3/lib/python3.10/site-packages/sklearn/metrics/_classification.py:1344: UndefinedMetricWarning: Precision and F-score are ill-defined and being set to 0.0 in labels with no predicted samples. Use `zero_division` parameter to control this behavior.\n",
      "  _warn_prf(average, modifier, msg_start, len(result))\n"
     ]
    },
    {
     "name": "stdout",
     "output_type": "stream",
     "text": [
      "[3, 1, 1, 2, 0.2, 0.1, 0.0] 0.7120903964914309\n",
      "[3, 1, 1, 2, 0.2, 0.1, 0.05] 0.8032785228725396\n",
      "[3, 1, 1, 2, 0.2, 0.1, 0.1] 0.8178889613973667\n",
      "[3, 1, 1, 2, 0.2, 0.1, 0.15] 0.8231071170444936\n",
      "[3, 1, 1, 2, 0.2, 0.1, 0.2] 0.8209332297422273\n"
     ]
    },
    {
     "name": "stderr",
     "output_type": "stream",
     "text": [
      "/Users/julianhough/miniforge3/lib/python3.10/site-packages/sklearn/metrics/_classification.py:1344: UndefinedMetricWarning: Precision and F-score are ill-defined and being set to 0.0 in labels with no predicted samples. Use `zero_division` parameter to control this behavior.\n",
      "  _warn_prf(average, modifier, msg_start, len(result))\n",
      "/Users/julianhough/miniforge3/lib/python3.10/site-packages/sklearn/metrics/_classification.py:1344: UndefinedMetricWarning: Precision and F-score are ill-defined and being set to 0.0 in labels with no predicted samples. Use `zero_division` parameter to control this behavior.\n",
      "  _warn_prf(average, modifier, msg_start, len(result))\n"
     ]
    },
    {
     "name": "stdout",
     "output_type": "stream",
     "text": [
      "[3, 1, 1, 3, 0.2, 0.1, 0.0] 0.7120903964914309\n",
      "[3, 1, 1, 3, 0.2, 0.1, 0.05] 0.8040749951813476\n",
      "[3, 1, 1, 3, 0.2, 0.1, 0.1] 0.8152119055989221\n",
      "[3, 1, 1, 3, 0.2, 0.1, 0.15] 0.8216519152128046\n",
      "[3, 1, 1, 3, 0.2, 0.1, 0.2] 0.8201376084509937\n"
     ]
    },
    {
     "name": "stderr",
     "output_type": "stream",
     "text": [
      "/Users/julianhough/miniforge3/lib/python3.10/site-packages/sklearn/metrics/_classification.py:1344: UndefinedMetricWarning: Precision and F-score are ill-defined and being set to 0.0 in labels with no predicted samples. Use `zero_division` parameter to control this behavior.\n",
      "  _warn_prf(average, modifier, msg_start, len(result))\n",
      "/Users/julianhough/miniforge3/lib/python3.10/site-packages/sklearn/metrics/_classification.py:1344: UndefinedMetricWarning: Precision and F-score are ill-defined and being set to 0.0 in labels with no predicted samples. Use `zero_division` parameter to control this behavior.\n",
      "  _warn_prf(average, modifier, msg_start, len(result))\n"
     ]
    },
    {
     "name": "stdout",
     "output_type": "stream",
     "text": [
      "[3, 1, 1, 4, 0.2, 0.1, 0.0] 0.7120903964914309\n",
      "[3, 1, 1, 4, 0.2, 0.1, 0.05] 0.7955247583321317\n",
      "[3, 1, 1, 4, 0.2, 0.1, 0.1] 0.8145096479476595\n",
      "[3, 1, 1, 4, 0.2, 0.1, 0.15] 0.8195030104236593\n",
      "[3, 1, 1, 4, 0.2, 0.1, 0.2] 0.819114686721513\n"
     ]
    },
    {
     "name": "stderr",
     "output_type": "stream",
     "text": [
      "/Users/julianhough/miniforge3/lib/python3.10/site-packages/sklearn/metrics/_classification.py:1344: UndefinedMetricWarning: Precision and F-score are ill-defined and being set to 0.0 in labels with no predicted samples. Use `zero_division` parameter to control this behavior.\n",
      "  _warn_prf(average, modifier, msg_start, len(result))\n",
      "/Users/julianhough/miniforge3/lib/python3.10/site-packages/sklearn/metrics/_classification.py:1344: UndefinedMetricWarning: Precision and F-score are ill-defined and being set to 0.0 in labels with no predicted samples. Use `zero_division` parameter to control this behavior.\n",
      "  _warn_prf(average, modifier, msg_start, len(result))\n"
     ]
    },
    {
     "name": "stdout",
     "output_type": "stream",
     "text": [
      "[3, 1, 1, 5, 0.2, 0.1, 0.0] 0.7120903964914309\n",
      "[3, 1, 1, 5, 0.2, 0.1, 0.05] 0.7939258640244652\n",
      "[3, 1, 1, 5, 0.2, 0.1, 0.1] 0.8147137559898054\n",
      "[3, 1, 1, 5, 0.2, 0.1, 0.15] 0.8195717773463211\n",
      "[3, 1, 1, 5, 0.2, 0.1, 0.2] 0.8235396599222656\n",
      "[3, 1, 1, 5, 0.2, 0.1, 0.25] 0.8210984867087097\n"
     ]
    },
    {
     "name": "stderr",
     "output_type": "stream",
     "text": [
      "/Users/julianhough/miniforge3/lib/python3.10/site-packages/sklearn/metrics/_classification.py:1344: UndefinedMetricWarning: Precision and F-score are ill-defined and being set to 0.0 in labels with no predicted samples. Use `zero_division` parameter to control this behavior.\n",
      "  _warn_prf(average, modifier, msg_start, len(result))\n",
      "/Users/julianhough/miniforge3/lib/python3.10/site-packages/sklearn/metrics/_classification.py:1344: UndefinedMetricWarning: Precision and F-score are ill-defined and being set to 0.0 in labels with no predicted samples. Use `zero_division` parameter to control this behavior.\n",
      "  _warn_prf(average, modifier, msg_start, len(result))\n"
     ]
    },
    {
     "name": "stdout",
     "output_type": "stream",
     "text": [
      "[3, 1, 1, 6, 0.2, 0.1, 0.0] 0.7120903964914309\n",
      "[3, 1, 1, 6, 0.2, 0.1, 0.05] 0.7897870610199613\n",
      "[3, 1, 1, 6, 0.2, 0.1, 0.1] 0.8150859968699798\n",
      "[3, 1, 1, 6, 0.2, 0.1, 0.15] 0.8196482672420808\n",
      "[3, 1, 1, 6, 0.2, 0.1, 0.2] 0.8206667786713907\n",
      "[3, 1, 1, 6, 0.2, 0.1, 0.25] 0.82008236848843\n"
     ]
    },
    {
     "name": "stderr",
     "output_type": "stream",
     "text": [
      "/Users/julianhough/miniforge3/lib/python3.10/site-packages/sklearn/metrics/_classification.py:1344: UndefinedMetricWarning: Precision and F-score are ill-defined and being set to 0.0 in labels with no predicted samples. Use `zero_division` parameter to control this behavior.\n",
      "  _warn_prf(average, modifier, msg_start, len(result))\n",
      "/Users/julianhough/miniforge3/lib/python3.10/site-packages/sklearn/metrics/_classification.py:1344: UndefinedMetricWarning: Precision and F-score are ill-defined and being set to 0.0 in labels with no predicted samples. Use `zero_division` parameter to control this behavior.\n",
      "  _warn_prf(average, modifier, msg_start, len(result))\n"
     ]
    },
    {
     "name": "stdout",
     "output_type": "stream",
     "text": [
      "[3, 1, 1, 7, 0.2, 0.1, 0.0] 0.7120903964914309\n",
      "[3, 1, 1, 7, 0.2, 0.1, 0.05] 0.7902948812235572\n",
      "[3, 1, 1, 7, 0.2, 0.1, 0.1] 0.8112948608280276\n",
      "[3, 1, 1, 7, 0.2, 0.1, 0.15] 0.8185386867836891\n",
      "[3, 1, 1, 7, 0.2, 0.1, 0.2] 0.8205712842771679\n",
      "[3, 1, 1, 7, 0.2, 0.1, 0.25] 0.8206159954888711\n",
      "[3, 1, 1, 7, 0.2, 0.1, 0.3] 0.8208786069921492\n",
      "[3, 1, 1, 7, 0.2, 0.1, 0.35] 0.8209296012426496\n",
      "[3, 1, 1, 7, 0.2, 0.1, 0.4] 0.8237111383677334\n",
      "[3, 1, 1, 7, 0.2, 0.1, 0.45] 0.8245378787727924\n",
      "[3, 1, 1, 7, 0.2, 0.1, 0.5] 0.8256351651059651\n",
      "best 0.8256351651059651 [3, 1, 1, 7, 0.2, 0.1, 0.5]\n",
      "[3, 1, 1, 7, 0.2, 0.1, 0.55] 0.8257511580210205\n",
      "best 0.8257511580210205 [3, 1, 1, 7, 0.2, 0.1, 0.55]\n",
      "[3, 1, 1, 7, 0.2, 0.1, 0.6] 0.8259491462429951\n",
      "best 0.8259491462429951 [3, 1, 1, 7, 0.2, 0.1, 0.6]\n",
      "[3, 1, 1, 7, 0.2, 0.1, 0.65] 0.825897873667092\n"
     ]
    },
    {
     "name": "stderr",
     "output_type": "stream",
     "text": [
      "/Users/julianhough/miniforge3/lib/python3.10/site-packages/sklearn/metrics/_classification.py:1344: UndefinedMetricWarning: Precision and F-score are ill-defined and being set to 0.0 in labels with no predicted samples. Use `zero_division` parameter to control this behavior.\n",
      "  _warn_prf(average, modifier, msg_start, len(result))\n",
      "/Users/julianhough/miniforge3/lib/python3.10/site-packages/sklearn/metrics/_classification.py:1344: UndefinedMetricWarning: Precision and F-score are ill-defined and being set to 0.0 in labels with no predicted samples. Use `zero_division` parameter to control this behavior.\n",
      "  _warn_prf(average, modifier, msg_start, len(result))\n"
     ]
    },
    {
     "name": "stdout",
     "output_type": "stream",
     "text": [
      "[3, 1, 1, 8, 0.2, 0.1, 0.0] 0.7120903964914309\n",
      "[3, 1, 1, 8, 0.2, 0.1, 0.05] 0.7862862609720656\n",
      "[3, 1, 1, 8, 0.2, 0.1, 0.1] 0.8091759205029463\n",
      "[3, 1, 1, 8, 0.2, 0.1, 0.15] 0.8151425554534313\n",
      "[3, 1, 1, 8, 0.2, 0.1, 0.2] 0.8180375575436811\n",
      "[3, 1, 1, 8, 0.2, 0.1, 0.25] 0.8211714308488148\n",
      "[3, 1, 1, 8, 0.2, 0.1, 0.3] 0.8203872705059434\n"
     ]
    },
    {
     "name": "stderr",
     "output_type": "stream",
     "text": [
      "/Users/julianhough/miniforge3/lib/python3.10/site-packages/sklearn/metrics/_classification.py:1344: UndefinedMetricWarning: Precision and F-score are ill-defined and being set to 0.0 in labels with no predicted samples. Use `zero_division` parameter to control this behavior.\n",
      "  _warn_prf(average, modifier, msg_start, len(result))\n",
      "/Users/julianhough/miniforge3/lib/python3.10/site-packages/sklearn/metrics/_classification.py:1344: UndefinedMetricWarning: Precision and F-score are ill-defined and being set to 0.0 in labels with no predicted samples. Use `zero_division` parameter to control this behavior.\n",
      "  _warn_prf(average, modifier, msg_start, len(result))\n"
     ]
    },
    {
     "name": "stdout",
     "output_type": "stream",
     "text": [
      "[3, 1, 1, 9, 0.2, 0.1, 0.0] 0.7120903964914309\n",
      "[3, 1, 1, 9, 0.2, 0.1, 0.05] 0.7822534456421755\n",
      "[3, 1, 1, 9, 0.2, 0.1, 0.1] 0.8080147528329695\n",
      "[3, 1, 1, 9, 0.2, 0.1, 0.15] 0.8144911353512584\n",
      "[3, 1, 1, 9, 0.2, 0.1, 0.2] 0.8167949411567993\n",
      "[3, 1, 1, 9, 0.2, 0.1, 0.25] 0.8173687408278137\n",
      "[3, 1, 1, 9, 0.2, 0.1, 0.3] 0.8172026989382585\n"
     ]
    },
    {
     "name": "stderr",
     "output_type": "stream",
     "text": [
      "/Users/julianhough/miniforge3/lib/python3.10/site-packages/sklearn/metrics/_classification.py:1344: UndefinedMetricWarning: Precision and F-score are ill-defined and being set to 0.0 in labels with no predicted samples. Use `zero_division` parameter to control this behavior.\n",
      "  _warn_prf(average, modifier, msg_start, len(result))\n",
      "/Users/julianhough/miniforge3/lib/python3.10/site-packages/sklearn/metrics/_classification.py:1344: UndefinedMetricWarning: Precision and F-score are ill-defined and being set to 0.0 in labels with no predicted samples. Use `zero_division` parameter to control this behavior.\n",
      "  _warn_prf(average, modifier, msg_start, len(result))\n"
     ]
    },
    {
     "name": "stdout",
     "output_type": "stream",
     "text": [
      "[3, 1, 1, 10, 0.2, 0.1, 0.0] 0.7120903964914309\n",
      "[3, 1, 1, 10, 0.2, 0.1, 0.05] 0.7814455046095415\n",
      "[3, 1, 1, 10, 0.2, 0.1, 0.1] 0.8054448841307951\n",
      "[3, 1, 1, 10, 0.2, 0.1, 0.15] 0.8128779269817162\n",
      "[3, 1, 1, 10, 0.2, 0.1, 0.2] 0.817004289298727\n",
      "[3, 1, 1, 10, 0.2, 0.1, 0.25] 0.8170357603117827\n",
      "[3, 1, 1, 10, 0.2, 0.1, 0.3] 0.8182988631400011\n",
      "[3, 1, 1, 10, 0.2, 0.1, 0.35] 0.818600287459035\n",
      "[3, 1, 1, 10, 0.2, 0.1, 0.4] 0.8231109661705129\n",
      "[3, 1, 1, 10, 0.2, 0.1, 0.45] 0.8231644803051414\n",
      "[3, 1, 1, 10, 0.2, 0.1, 0.5] 0.8228083180061441\n"
     ]
    },
    {
     "name": "stderr",
     "output_type": "stream",
     "text": [
      "/Users/julianhough/miniforge3/lib/python3.10/site-packages/sklearn/metrics/_classification.py:1344: UndefinedMetricWarning: Precision and F-score are ill-defined and being set to 0.0 in labels with no predicted samples. Use `zero_division` parameter to control this behavior.\n",
      "  _warn_prf(average, modifier, msg_start, len(result))\n",
      "/Users/julianhough/miniforge3/lib/python3.10/site-packages/sklearn/metrics/_classification.py:1344: UndefinedMetricWarning: Precision and F-score are ill-defined and being set to 0.0 in labels with no predicted samples. Use `zero_division` parameter to control this behavior.\n",
      "  _warn_prf(average, modifier, msg_start, len(result))\n"
     ]
    },
    {
     "name": "stdout",
     "output_type": "stream",
     "text": [
      "[3, 1, 1, 1, 0.25, 0.1, 0.0] 0.7110643496816967\n",
      "[3, 1, 1, 1, 0.25, 0.1, 0.05] 0.7995044607232815\n",
      "[3, 1, 1, 1, 0.25, 0.1, 0.1] 0.817339449765224\n",
      "[3, 1, 1, 1, 0.25, 0.1, 0.15] 0.8231287209123673\n",
      "[3, 1, 1, 1, 0.25, 0.1, 0.2] 0.8233749033436848\n",
      "[3, 1, 1, 1, 0.25, 0.1, 0.25] 0.8188548733771265\n"
     ]
    },
    {
     "name": "stderr",
     "output_type": "stream",
     "text": [
      "/Users/julianhough/miniforge3/lib/python3.10/site-packages/sklearn/metrics/_classification.py:1344: UndefinedMetricWarning: Precision and F-score are ill-defined and being set to 0.0 in labels with no predicted samples. Use `zero_division` parameter to control this behavior.\n",
      "  _warn_prf(average, modifier, msg_start, len(result))\n",
      "/Users/julianhough/miniforge3/lib/python3.10/site-packages/sklearn/metrics/_classification.py:1344: UndefinedMetricWarning: Precision and F-score are ill-defined and being set to 0.0 in labels with no predicted samples. Use `zero_division` parameter to control this behavior.\n",
      "  _warn_prf(average, modifier, msg_start, len(result))\n"
     ]
    },
    {
     "name": "stdout",
     "output_type": "stream",
     "text": [
      "[3, 1, 1, 2, 0.25, 0.1, 0.0] 0.7110643496816967\n",
      "[3, 1, 1, 2, 0.25, 0.1, 0.05] 0.799289784056955\n",
      "[3, 1, 1, 2, 0.25, 0.1, 0.1] 0.8168077329576404\n",
      "[3, 1, 1, 2, 0.25, 0.1, 0.15] 0.8215936169917362\n",
      "[3, 1, 1, 2, 0.25, 0.1, 0.2] 0.8236507965421777\n",
      "[3, 1, 1, 2, 0.25, 0.1, 0.25] 0.823783687555229\n",
      "[3, 1, 1, 2, 0.25, 0.1, 0.3] 0.8254869777450249\n",
      "[3, 1, 1, 2, 0.25, 0.1, 0.35] 0.8237375336600181\n"
     ]
    },
    {
     "name": "stderr",
     "output_type": "stream",
     "text": [
      "/Users/julianhough/miniforge3/lib/python3.10/site-packages/sklearn/metrics/_classification.py:1344: UndefinedMetricWarning: Precision and F-score are ill-defined and being set to 0.0 in labels with no predicted samples. Use `zero_division` parameter to control this behavior.\n",
      "  _warn_prf(average, modifier, msg_start, len(result))\n",
      "/Users/julianhough/miniforge3/lib/python3.10/site-packages/sklearn/metrics/_classification.py:1344: UndefinedMetricWarning: Precision and F-score are ill-defined and being set to 0.0 in labels with no predicted samples. Use `zero_division` parameter to control this behavior.\n",
      "  _warn_prf(average, modifier, msg_start, len(result))\n"
     ]
    },
    {
     "name": "stdout",
     "output_type": "stream",
     "text": [
      "[3, 1, 1, 3, 0.25, 0.1, 0.0] 0.7110643496816967\n",
      "[3, 1, 1, 3, 0.25, 0.1, 0.05] 0.7971239356497238\n",
      "[3, 1, 1, 3, 0.25, 0.1, 0.1] 0.8124147321709708\n",
      "[3, 1, 1, 3, 0.25, 0.1, 0.15] 0.8170412146431598\n",
      "[3, 1, 1, 3, 0.25, 0.1, 0.2] 0.8219215039534661\n",
      "[3, 1, 1, 3, 0.25, 0.1, 0.25] 0.823249898238496\n",
      "[3, 1, 1, 3, 0.25, 0.1, 0.3] 0.8247334469276629\n",
      "[3, 1, 1, 3, 0.25, 0.1, 0.35] 0.8226225460896386\n"
     ]
    },
    {
     "name": "stderr",
     "output_type": "stream",
     "text": [
      "/Users/julianhough/miniforge3/lib/python3.10/site-packages/sklearn/metrics/_classification.py:1344: UndefinedMetricWarning: Precision and F-score are ill-defined and being set to 0.0 in labels with no predicted samples. Use `zero_division` parameter to control this behavior.\n",
      "  _warn_prf(average, modifier, msg_start, len(result))\n",
      "/Users/julianhough/miniforge3/lib/python3.10/site-packages/sklearn/metrics/_classification.py:1344: UndefinedMetricWarning: Precision and F-score are ill-defined and being set to 0.0 in labels with no predicted samples. Use `zero_division` parameter to control this behavior.\n",
      "  _warn_prf(average, modifier, msg_start, len(result))\n"
     ]
    },
    {
     "name": "stdout",
     "output_type": "stream",
     "text": [
      "[3, 1, 1, 4, 0.25, 0.1, 0.0] 0.7110643496816967\n",
      "[3, 1, 1, 4, 0.25, 0.1, 0.05] 0.7905090445755208\n",
      "[3, 1, 1, 4, 0.25, 0.1, 0.1] 0.8121562154559674\n",
      "[3, 1, 1, 4, 0.25, 0.1, 0.15] 0.8154361366809147\n",
      "[3, 1, 1, 4, 0.25, 0.1, 0.2] 0.8208260052300261\n",
      "[3, 1, 1, 4, 0.25, 0.1, 0.25] 0.821409608240659\n",
      "[3, 1, 1, 4, 0.25, 0.1, 0.3] 0.8221533628103043\n",
      "[3, 1, 1, 4, 0.25, 0.1, 0.35] 0.8214706015750153\n"
     ]
    },
    {
     "name": "stderr",
     "output_type": "stream",
     "text": [
      "/Users/julianhough/miniforge3/lib/python3.10/site-packages/sklearn/metrics/_classification.py:1344: UndefinedMetricWarning: Precision and F-score are ill-defined and being set to 0.0 in labels with no predicted samples. Use `zero_division` parameter to control this behavior.\n",
      "  _warn_prf(average, modifier, msg_start, len(result))\n",
      "/Users/julianhough/miniforge3/lib/python3.10/site-packages/sklearn/metrics/_classification.py:1344: UndefinedMetricWarning: Precision and F-score are ill-defined and being set to 0.0 in labels with no predicted samples. Use `zero_division` parameter to control this behavior.\n",
      "  _warn_prf(average, modifier, msg_start, len(result))\n"
     ]
    },
    {
     "name": "stdout",
     "output_type": "stream",
     "text": [
      "[3, 1, 1, 5, 0.25, 0.1, 0.0] 0.7110643496816967\n",
      "[3, 1, 1, 5, 0.25, 0.1, 0.05] 0.7870751819441759\n",
      "[3, 1, 1, 5, 0.25, 0.1, 0.1] 0.8106806271884973\n",
      "[3, 1, 1, 5, 0.25, 0.1, 0.15] 0.8205990430535087\n",
      "[3, 1, 1, 5, 0.25, 0.1, 0.2] 0.8219595251105961\n",
      "[3, 1, 1, 5, 0.25, 0.1, 0.25] 0.8223535224996853\n",
      "[3, 1, 1, 5, 0.25, 0.1, 0.3] 0.8222976886406395\n"
     ]
    },
    {
     "name": "stderr",
     "output_type": "stream",
     "text": [
      "/Users/julianhough/miniforge3/lib/python3.10/site-packages/sklearn/metrics/_classification.py:1344: UndefinedMetricWarning: Precision and F-score are ill-defined and being set to 0.0 in labels with no predicted samples. Use `zero_division` parameter to control this behavior.\n",
      "  _warn_prf(average, modifier, msg_start, len(result))\n",
      "/Users/julianhough/miniforge3/lib/python3.10/site-packages/sklearn/metrics/_classification.py:1344: UndefinedMetricWarning: Precision and F-score are ill-defined and being set to 0.0 in labels with no predicted samples. Use `zero_division` parameter to control this behavior.\n",
      "  _warn_prf(average, modifier, msg_start, len(result))\n"
     ]
    },
    {
     "name": "stdout",
     "output_type": "stream",
     "text": [
      "[3, 1, 1, 6, 0.25, 0.1, 0.0] 0.7110643496816967\n",
      "[3, 1, 1, 6, 0.25, 0.1, 0.05] 0.7777328996147483\n",
      "[3, 1, 1, 6, 0.25, 0.1, 0.1] 0.8063720485654027\n",
      "[3, 1, 1, 6, 0.25, 0.1, 0.15] 0.8194494406529743\n",
      "[3, 1, 1, 6, 0.25, 0.1, 0.2] 0.8218485602114616\n",
      "[3, 1, 1, 6, 0.25, 0.1, 0.25] 0.8231799965384388\n",
      "[3, 1, 1, 6, 0.25, 0.1, 0.3] 0.8226853724939854\n"
     ]
    },
    {
     "name": "stderr",
     "output_type": "stream",
     "text": [
      "/Users/julianhough/miniforge3/lib/python3.10/site-packages/sklearn/metrics/_classification.py:1344: UndefinedMetricWarning: Precision and F-score are ill-defined and being set to 0.0 in labels with no predicted samples. Use `zero_division` parameter to control this behavior.\n",
      "  _warn_prf(average, modifier, msg_start, len(result))\n",
      "/Users/julianhough/miniforge3/lib/python3.10/site-packages/sklearn/metrics/_classification.py:1344: UndefinedMetricWarning: Precision and F-score are ill-defined and being set to 0.0 in labels with no predicted samples. Use `zero_division` parameter to control this behavior.\n",
      "  _warn_prf(average, modifier, msg_start, len(result))\n"
     ]
    },
    {
     "name": "stdout",
     "output_type": "stream",
     "text": [
      "[3, 1, 1, 7, 0.25, 0.1, 0.0] 0.7110643496816967\n",
      "[3, 1, 1, 7, 0.25, 0.1, 0.05] 0.7789487601306699\n",
      "[3, 1, 1, 7, 0.25, 0.1, 0.1] 0.8060788181996432\n",
      "[3, 1, 1, 7, 0.25, 0.1, 0.15] 0.816570578261411\n",
      "[3, 1, 1, 7, 0.25, 0.1, 0.2] 0.8215231480252962\n",
      "[3, 1, 1, 7, 0.25, 0.1, 0.25] 0.822205288034702\n",
      "[3, 1, 1, 7, 0.25, 0.1, 0.3] 0.8228370390536062\n",
      "[3, 1, 1, 7, 0.25, 0.1, 0.35] 0.822629473843992\n"
     ]
    },
    {
     "name": "stderr",
     "output_type": "stream",
     "text": [
      "/Users/julianhough/miniforge3/lib/python3.10/site-packages/sklearn/metrics/_classification.py:1344: UndefinedMetricWarning: Precision and F-score are ill-defined and being set to 0.0 in labels with no predicted samples. Use `zero_division` parameter to control this behavior.\n",
      "  _warn_prf(average, modifier, msg_start, len(result))\n",
      "/Users/julianhough/miniforge3/lib/python3.10/site-packages/sklearn/metrics/_classification.py:1344: UndefinedMetricWarning: Precision and F-score are ill-defined and being set to 0.0 in labels with no predicted samples. Use `zero_division` parameter to control this behavior.\n",
      "  _warn_prf(average, modifier, msg_start, len(result))\n"
     ]
    },
    {
     "name": "stdout",
     "output_type": "stream",
     "text": [
      "[3, 1, 1, 8, 0.25, 0.1, 0.0] 0.7110643496816967\n",
      "[3, 1, 1, 8, 0.25, 0.1, 0.05] 0.7781564473938767\n",
      "[3, 1, 1, 8, 0.25, 0.1, 0.1] 0.8068985245812377\n",
      "[3, 1, 1, 8, 0.25, 0.1, 0.15] 0.8162479367948166\n",
      "[3, 1, 1, 8, 0.25, 0.1, 0.2] 0.8170100626414679\n",
      "[3, 1, 1, 8, 0.25, 0.1, 0.25] 0.8204134497324939\n",
      "[3, 1, 1, 8, 0.25, 0.1, 0.3] 0.8204392252194656\n",
      "[3, 1, 1, 8, 0.25, 0.1, 0.35] 0.8221011750379493\n",
      "[3, 1, 1, 8, 0.25, 0.1, 0.4] 0.8228145767129912\n",
      "[3, 1, 1, 8, 0.25, 0.1, 0.45] 0.8213490452828321\n"
     ]
    },
    {
     "name": "stderr",
     "output_type": "stream",
     "text": [
      "/Users/julianhough/miniforge3/lib/python3.10/site-packages/sklearn/metrics/_classification.py:1344: UndefinedMetricWarning: Precision and F-score are ill-defined and being set to 0.0 in labels with no predicted samples. Use `zero_division` parameter to control this behavior.\n",
      "  _warn_prf(average, modifier, msg_start, len(result))\n",
      "/Users/julianhough/miniforge3/lib/python3.10/site-packages/sklearn/metrics/_classification.py:1344: UndefinedMetricWarning: Precision and F-score are ill-defined and being set to 0.0 in labels with no predicted samples. Use `zero_division` parameter to control this behavior.\n",
      "  _warn_prf(average, modifier, msg_start, len(result))\n"
     ]
    },
    {
     "name": "stdout",
     "output_type": "stream",
     "text": [
      "[3, 1, 1, 9, 0.25, 0.1, 0.0] 0.7110643496816967\n",
      "[3, 1, 1, 9, 0.25, 0.1, 0.05] 0.7778296760889115\n",
      "[3, 1, 1, 9, 0.25, 0.1, 0.1] 0.8055713783300329\n",
      "[3, 1, 1, 9, 0.25, 0.1, 0.15] 0.81335335627681\n",
      "[3, 1, 1, 9, 0.25, 0.1, 0.2] 0.8157936802789141\n",
      "[3, 1, 1, 9, 0.25, 0.1, 0.25] 0.8176962784946332\n",
      "[3, 1, 1, 9, 0.25, 0.1, 0.3] 0.8213440606942273\n",
      "[3, 1, 1, 9, 0.25, 0.1, 0.35] 0.8212769515811523\n"
     ]
    },
    {
     "name": "stderr",
     "output_type": "stream",
     "text": [
      "/Users/julianhough/miniforge3/lib/python3.10/site-packages/sklearn/metrics/_classification.py:1344: UndefinedMetricWarning: Precision and F-score are ill-defined and being set to 0.0 in labels with no predicted samples. Use `zero_division` parameter to control this behavior.\n",
      "  _warn_prf(average, modifier, msg_start, len(result))\n",
      "/Users/julianhough/miniforge3/lib/python3.10/site-packages/sklearn/metrics/_classification.py:1344: UndefinedMetricWarning: Precision and F-score are ill-defined and being set to 0.0 in labels with no predicted samples. Use `zero_division` parameter to control this behavior.\n",
      "  _warn_prf(average, modifier, msg_start, len(result))\n"
     ]
    },
    {
     "name": "stdout",
     "output_type": "stream",
     "text": [
      "[3, 1, 1, 10, 0.25, 0.1, 0.0] 0.7110643496816967\n",
      "[3, 1, 1, 10, 0.25, 0.1, 0.05] 0.7790251081549224\n",
      "[3, 1, 1, 10, 0.25, 0.1, 0.1] 0.8050739547571487\n",
      "[3, 1, 1, 10, 0.25, 0.1, 0.15] 0.8133841940475316\n",
      "[3, 1, 1, 10, 0.25, 0.1, 0.2] 0.8141929973429758\n",
      "[3, 1, 1, 10, 0.25, 0.1, 0.25] 0.8173434924500519\n",
      "[3, 1, 1, 10, 0.25, 0.1, 0.3] 0.8197263201994053\n",
      "[3, 1, 1, 10, 0.25, 0.1, 0.35] 0.819328890291069\n"
     ]
    },
    {
     "name": "stderr",
     "output_type": "stream",
     "text": [
      "/Users/julianhough/miniforge3/lib/python3.10/site-packages/sklearn/metrics/_classification.py:1344: UndefinedMetricWarning: Precision and F-score are ill-defined and being set to 0.0 in labels with no predicted samples. Use `zero_division` parameter to control this behavior.\n",
      "  _warn_prf(average, modifier, msg_start, len(result))\n",
      "/Users/julianhough/miniforge3/lib/python3.10/site-packages/sklearn/metrics/_classification.py:1344: UndefinedMetricWarning: Precision and F-score are ill-defined and being set to 0.0 in labels with no predicted samples. Use `zero_division` parameter to control this behavior.\n",
      "  _warn_prf(average, modifier, msg_start, len(result))\n"
     ]
    },
    {
     "name": "stdout",
     "output_type": "stream",
     "text": [
      "[3, 1, 1, 1, 0.3, 0.1, 0.0] 0.7100213704809565\n",
      "[3, 1, 1, 1, 0.3, 0.1, 0.05] 0.7926145067377018\n",
      "[3, 1, 1, 1, 0.3, 0.1, 0.1] 0.8151786521183084\n",
      "[3, 1, 1, 1, 0.3, 0.1, 0.15] 0.8219128472216154\n",
      "[3, 1, 1, 1, 0.3, 0.1, 0.2] 0.8219749159092907\n",
      "[3, 1, 1, 1, 0.3, 0.1, 0.25] 0.821041169353575\n"
     ]
    },
    {
     "name": "stderr",
     "output_type": "stream",
     "text": [
      "/Users/julianhough/miniforge3/lib/python3.10/site-packages/sklearn/metrics/_classification.py:1344: UndefinedMetricWarning: Precision and F-score are ill-defined and being set to 0.0 in labels with no predicted samples. Use `zero_division` parameter to control this behavior.\n",
      "  _warn_prf(average, modifier, msg_start, len(result))\n",
      "/Users/julianhough/miniforge3/lib/python3.10/site-packages/sklearn/metrics/_classification.py:1344: UndefinedMetricWarning: Precision and F-score are ill-defined and being set to 0.0 in labels with no predicted samples. Use `zero_division` parameter to control this behavior.\n",
      "  _warn_prf(average, modifier, msg_start, len(result))\n"
     ]
    },
    {
     "name": "stdout",
     "output_type": "stream",
     "text": [
      "[3, 1, 1, 2, 0.3, 0.1, 0.0] 0.7100213704809565\n",
      "[3, 1, 1, 2, 0.3, 0.1, 0.05] 0.7924465777499835\n",
      "[3, 1, 1, 2, 0.3, 0.1, 0.1] 0.8148540530640667\n",
      "[3, 1, 1, 2, 0.3, 0.1, 0.15] 0.8214784776659608\n",
      "[3, 1, 1, 2, 0.3, 0.1, 0.2] 0.8236846936958405\n",
      "[3, 1, 1, 2, 0.3, 0.1, 0.25] 0.8252446266723972\n",
      "[3, 1, 1, 2, 0.3, 0.1, 0.3] 0.824845069340278\n"
     ]
    },
    {
     "name": "stderr",
     "output_type": "stream",
     "text": [
      "/Users/julianhough/miniforge3/lib/python3.10/site-packages/sklearn/metrics/_classification.py:1344: UndefinedMetricWarning: Precision and F-score are ill-defined and being set to 0.0 in labels with no predicted samples. Use `zero_division` parameter to control this behavior.\n",
      "  _warn_prf(average, modifier, msg_start, len(result))\n",
      "/Users/julianhough/miniforge3/lib/python3.10/site-packages/sklearn/metrics/_classification.py:1344: UndefinedMetricWarning: Precision and F-score are ill-defined and being set to 0.0 in labels with no predicted samples. Use `zero_division` parameter to control this behavior.\n",
      "  _warn_prf(average, modifier, msg_start, len(result))\n"
     ]
    },
    {
     "name": "stdout",
     "output_type": "stream",
     "text": [
      "[3, 1, 1, 3, 0.3, 0.1, 0.0] 0.7100213704809565\n",
      "[3, 1, 1, 3, 0.3, 0.1, 0.05] 0.784231772239953\n",
      "[3, 1, 1, 3, 0.3, 0.1, 0.1] 0.815005962579329\n",
      "[3, 1, 1, 3, 0.3, 0.1, 0.15] 0.8165847343508918\n",
      "[3, 1, 1, 3, 0.3, 0.1, 0.2] 0.8220309659774608\n",
      "[3, 1, 1, 3, 0.3, 0.1, 0.25] 0.8232038283243515\n",
      "[3, 1, 1, 3, 0.3, 0.1, 0.3] 0.8250459113243048\n",
      "[3, 1, 1, 3, 0.3, 0.1, 0.35] 0.824381765891004\n"
     ]
    },
    {
     "name": "stderr",
     "output_type": "stream",
     "text": [
      "/Users/julianhough/miniforge3/lib/python3.10/site-packages/sklearn/metrics/_classification.py:1344: UndefinedMetricWarning: Precision and F-score are ill-defined and being set to 0.0 in labels with no predicted samples. Use `zero_division` parameter to control this behavior.\n",
      "  _warn_prf(average, modifier, msg_start, len(result))\n",
      "/Users/julianhough/miniforge3/lib/python3.10/site-packages/sklearn/metrics/_classification.py:1344: UndefinedMetricWarning: Precision and F-score are ill-defined and being set to 0.0 in labels with no predicted samples. Use `zero_division` parameter to control this behavior.\n",
      "  _warn_prf(average, modifier, msg_start, len(result))\n"
     ]
    },
    {
     "name": "stdout",
     "output_type": "stream",
     "text": [
      "[3, 1, 1, 4, 0.3, 0.1, 0.0] 0.7100213704809565\n",
      "[3, 1, 1, 4, 0.3, 0.1, 0.05] 0.7775506438786844\n",
      "[3, 1, 1, 4, 0.3, 0.1, 0.1] 0.8121796843835174\n",
      "[3, 1, 1, 4, 0.3, 0.1, 0.15] 0.8159888406433471\n",
      "[3, 1, 1, 4, 0.3, 0.1, 0.2] 0.8188131332445098\n",
      "[3, 1, 1, 4, 0.3, 0.1, 0.25] 0.8208094450077665\n",
      "[3, 1, 1, 4, 0.3, 0.1, 0.3] 0.8216279907158641\n",
      "[3, 1, 1, 4, 0.3, 0.1, 0.35] 0.8220024604033026\n",
      "[3, 1, 1, 4, 0.3, 0.1, 0.4] 0.8238215330266315\n",
      "[3, 1, 1, 4, 0.3, 0.1, 0.45] 0.8234583713034083\n"
     ]
    },
    {
     "name": "stderr",
     "output_type": "stream",
     "text": [
      "/Users/julianhough/miniforge3/lib/python3.10/site-packages/sklearn/metrics/_classification.py:1344: UndefinedMetricWarning: Precision and F-score are ill-defined and being set to 0.0 in labels with no predicted samples. Use `zero_division` parameter to control this behavior.\n",
      "  _warn_prf(average, modifier, msg_start, len(result))\n",
      "/Users/julianhough/miniforge3/lib/python3.10/site-packages/sklearn/metrics/_classification.py:1344: UndefinedMetricWarning: Precision and F-score are ill-defined and being set to 0.0 in labels with no predicted samples. Use `zero_division` parameter to control this behavior.\n",
      "  _warn_prf(average, modifier, msg_start, len(result))\n"
     ]
    },
    {
     "name": "stdout",
     "output_type": "stream",
     "text": [
      "[3, 1, 1, 5, 0.3, 0.1, 0.0] 0.7100213704809565\n",
      "[3, 1, 1, 5, 0.3, 0.1, 0.05] 0.777513963741227\n",
      "[3, 1, 1, 5, 0.3, 0.1, 0.1] 0.8090403163273646\n",
      "[3, 1, 1, 5, 0.3, 0.1, 0.15] 0.8139782791751479\n",
      "[3, 1, 1, 5, 0.3, 0.1, 0.2] 0.8202687032570798\n",
      "[3, 1, 1, 5, 0.3, 0.1, 0.25] 0.8221699746175908\n",
      "[3, 1, 1, 5, 0.3, 0.1, 0.3] 0.8211597768162325\n"
     ]
    },
    {
     "name": "stderr",
     "output_type": "stream",
     "text": [
      "/Users/julianhough/miniforge3/lib/python3.10/site-packages/sklearn/metrics/_classification.py:1344: UndefinedMetricWarning: Precision and F-score are ill-defined and being set to 0.0 in labels with no predicted samples. Use `zero_division` parameter to control this behavior.\n",
      "  _warn_prf(average, modifier, msg_start, len(result))\n",
      "/Users/julianhough/miniforge3/lib/python3.10/site-packages/sklearn/metrics/_classification.py:1344: UndefinedMetricWarning: Precision and F-score are ill-defined and being set to 0.0 in labels with no predicted samples. Use `zero_division` parameter to control this behavior.\n",
      "  _warn_prf(average, modifier, msg_start, len(result))\n"
     ]
    },
    {
     "name": "stdout",
     "output_type": "stream",
     "text": [
      "[3, 1, 1, 6, 0.3, 0.1, 0.0] 0.7100213704809565\n",
      "[3, 1, 1, 6, 0.3, 0.1, 0.05] 0.7731652951709849\n",
      "[3, 1, 1, 6, 0.3, 0.1, 0.1] 0.807503213882933\n",
      "[3, 1, 1, 6, 0.3, 0.1, 0.15] 0.8150262420559207\n",
      "[3, 1, 1, 6, 0.3, 0.1, 0.2] 0.8211711429215354\n",
      "[3, 1, 1, 6, 0.3, 0.1, 0.25] 0.820443926833245\n"
     ]
    },
    {
     "name": "stderr",
     "output_type": "stream",
     "text": [
      "/Users/julianhough/miniforge3/lib/python3.10/site-packages/sklearn/metrics/_classification.py:1344: UndefinedMetricWarning: Precision and F-score are ill-defined and being set to 0.0 in labels with no predicted samples. Use `zero_division` parameter to control this behavior.\n",
      "  _warn_prf(average, modifier, msg_start, len(result))\n",
      "/Users/julianhough/miniforge3/lib/python3.10/site-packages/sklearn/metrics/_classification.py:1344: UndefinedMetricWarning: Precision and F-score are ill-defined and being set to 0.0 in labels with no predicted samples. Use `zero_division` parameter to control this behavior.\n",
      "  _warn_prf(average, modifier, msg_start, len(result))\n"
     ]
    },
    {
     "name": "stdout",
     "output_type": "stream",
     "text": [
      "[3, 1, 1, 7, 0.3, 0.1, 0.0] 0.7100213704809565\n",
      "[3, 1, 1, 7, 0.3, 0.1, 0.05] 0.776615330497318\n",
      "[3, 1, 1, 7, 0.3, 0.1, 0.1] 0.8079814389368474\n",
      "[3, 1, 1, 7, 0.3, 0.1, 0.15] 0.8130459596597338\n",
      "[3, 1, 1, 7, 0.3, 0.1, 0.2] 0.8179707890063849\n",
      "[3, 1, 1, 7, 0.3, 0.1, 0.25] 0.8188776124532348\n",
      "[3, 1, 1, 7, 0.3, 0.1, 0.3] 0.8229247586810425\n",
      "[3, 1, 1, 7, 0.3, 0.1, 0.35] 0.8239791643352319\n",
      "[3, 1, 1, 7, 0.3, 0.1, 0.4] 0.8242020713890656\n",
      "[3, 1, 1, 7, 0.3, 0.1, 0.45] 0.822136341548693\n"
     ]
    },
    {
     "name": "stderr",
     "output_type": "stream",
     "text": [
      "/Users/julianhough/miniforge3/lib/python3.10/site-packages/sklearn/metrics/_classification.py:1344: UndefinedMetricWarning: Precision and F-score are ill-defined and being set to 0.0 in labels with no predicted samples. Use `zero_division` parameter to control this behavior.\n",
      "  _warn_prf(average, modifier, msg_start, len(result))\n",
      "/Users/julianhough/miniforge3/lib/python3.10/site-packages/sklearn/metrics/_classification.py:1344: UndefinedMetricWarning: Precision and F-score are ill-defined and being set to 0.0 in labels with no predicted samples. Use `zero_division` parameter to control this behavior.\n",
      "  _warn_prf(average, modifier, msg_start, len(result))\n"
     ]
    },
    {
     "name": "stdout",
     "output_type": "stream",
     "text": [
      "[3, 1, 1, 8, 0.3, 0.1, 0.0] 0.7100213704809565\n",
      "[3, 1, 1, 8, 0.3, 0.1, 0.05] 0.7764551812891467\n",
      "[3, 1, 1, 8, 0.3, 0.1, 0.1] 0.8062927095531043\n",
      "[3, 1, 1, 8, 0.3, 0.1, 0.15] 0.811827493693326\n",
      "[3, 1, 1, 8, 0.3, 0.1, 0.2] 0.8182022746465967\n",
      "[3, 1, 1, 8, 0.3, 0.1, 0.25] 0.8204662547299361\n",
      "[3, 1, 1, 8, 0.3, 0.1, 0.3] 0.8208135425304066\n",
      "[3, 1, 1, 8, 0.3, 0.1, 0.35] 0.821651881958064\n",
      "[3, 1, 1, 8, 0.3, 0.1, 0.4] 0.8236658306038034\n",
      "[3, 1, 1, 8, 0.3, 0.1, 0.45] 0.8236488203787011\n"
     ]
    },
    {
     "name": "stderr",
     "output_type": "stream",
     "text": [
      "/Users/julianhough/miniforge3/lib/python3.10/site-packages/sklearn/metrics/_classification.py:1344: UndefinedMetricWarning: Precision and F-score are ill-defined and being set to 0.0 in labels with no predicted samples. Use `zero_division` parameter to control this behavior.\n",
      "  _warn_prf(average, modifier, msg_start, len(result))\n",
      "/Users/julianhough/miniforge3/lib/python3.10/site-packages/sklearn/metrics/_classification.py:1344: UndefinedMetricWarning: Precision and F-score are ill-defined and being set to 0.0 in labels with no predicted samples. Use `zero_division` parameter to control this behavior.\n",
      "  _warn_prf(average, modifier, msg_start, len(result))\n"
     ]
    },
    {
     "name": "stdout",
     "output_type": "stream",
     "text": [
      "[3, 1, 1, 9, 0.3, 0.1, 0.0] 0.7100213704809565\n",
      "[3, 1, 1, 9, 0.3, 0.1, 0.05] 0.7761171926086663\n",
      "[3, 1, 1, 9, 0.3, 0.1, 0.1] 0.8046156745490977\n",
      "[3, 1, 1, 9, 0.3, 0.1, 0.15] 0.8124435984177706\n",
      "[3, 1, 1, 9, 0.3, 0.1, 0.2] 0.8172135291407974\n",
      "[3, 1, 1, 9, 0.3, 0.1, 0.25] 0.8177773421119285\n",
      "[3, 1, 1, 9, 0.3, 0.1, 0.3] 0.8199173222940811\n",
      "[3, 1, 1, 9, 0.3, 0.1, 0.35] 0.8223905606252017\n",
      "[3, 1, 1, 9, 0.3, 0.1, 0.4] 0.8225305475361472\n",
      "[3, 1, 1, 9, 0.3, 0.1, 0.45] 0.8224306665515341\n"
     ]
    },
    {
     "name": "stderr",
     "output_type": "stream",
     "text": [
      "/Users/julianhough/miniforge3/lib/python3.10/site-packages/sklearn/metrics/_classification.py:1344: UndefinedMetricWarning: Precision and F-score are ill-defined and being set to 0.0 in labels with no predicted samples. Use `zero_division` parameter to control this behavior.\n",
      "  _warn_prf(average, modifier, msg_start, len(result))\n",
      "/Users/julianhough/miniforge3/lib/python3.10/site-packages/sklearn/metrics/_classification.py:1344: UndefinedMetricWarning: Precision and F-score are ill-defined and being set to 0.0 in labels with no predicted samples. Use `zero_division` parameter to control this behavior.\n",
      "  _warn_prf(average, modifier, msg_start, len(result))\n"
     ]
    },
    {
     "name": "stdout",
     "output_type": "stream",
     "text": [
      "[3, 1, 1, 10, 0.3, 0.1, 0.0] 0.7100213704809565\n",
      "[3, 1, 1, 10, 0.3, 0.1, 0.05] 0.7748368912602887\n",
      "[3, 1, 1, 10, 0.3, 0.1, 0.05] 0.7748368912602887\n",
      "[3, 1, 1, 10, 0.3, 0.1, 0.1] 0.8027148555611038\n",
      "[3, 1, 1, 10, 0.3, 0.1, 0.15] 0.8134124182329818\n",
      "[3, 1, 1, 10, 0.3, 0.1, 0.2] 0.8185884443356122\n",
      "[3, 1, 1, 10, 0.3, 0.1, 0.25] 0.8176883133099355\n"
     ]
    },
    {
     "name": "stderr",
     "output_type": "stream",
     "text": [
      "/Users/julianhough/miniforge3/lib/python3.10/site-packages/sklearn/metrics/_classification.py:1344: UndefinedMetricWarning: Precision and F-score are ill-defined and being set to 0.0 in labels with no predicted samples. Use `zero_division` parameter to control this behavior.\n",
      "  _warn_prf(average, modifier, msg_start, len(result))\n",
      "/Users/julianhough/miniforge3/lib/python3.10/site-packages/sklearn/metrics/_classification.py:1344: UndefinedMetricWarning: Precision and F-score are ill-defined and being set to 0.0 in labels with no predicted samples. Use `zero_division` parameter to control this behavior.\n",
      "  _warn_prf(average, modifier, msg_start, len(result))\n"
     ]
    },
    {
     "name": "stdout",
     "output_type": "stream",
     "text": [
      "[3, 1, 1, 1, 0.35, 0.1, 0.0] 0.7100918389199045\n",
      "[3, 1, 1, 1, 0.35, 0.1, 0.05] 0.7853864062425006\n",
      "[3, 1, 1, 1, 0.35, 0.1, 0.1] 0.8139167807318671\n",
      "[3, 1, 1, 1, 0.35, 0.1, 0.15] 0.8202852902647159\n",
      "[3, 1, 1, 1, 0.35, 0.1, 0.2] 0.8236237732656838\n",
      "[3, 1, 1, 1, 0.35, 0.1, 0.25] 0.8217230953623048\n"
     ]
    },
    {
     "name": "stderr",
     "output_type": "stream",
     "text": [
      "/Users/julianhough/miniforge3/lib/python3.10/site-packages/sklearn/metrics/_classification.py:1344: UndefinedMetricWarning: Precision and F-score are ill-defined and being set to 0.0 in labels with no predicted samples. Use `zero_division` parameter to control this behavior.\n",
      "  _warn_prf(average, modifier, msg_start, len(result))\n",
      "/Users/julianhough/miniforge3/lib/python3.10/site-packages/sklearn/metrics/_classification.py:1344: UndefinedMetricWarning: Precision and F-score are ill-defined and being set to 0.0 in labels with no predicted samples. Use `zero_division` parameter to control this behavior.\n",
      "  _warn_prf(average, modifier, msg_start, len(result))\n"
     ]
    },
    {
     "name": "stdout",
     "output_type": "stream",
     "text": [
      "[3, 1, 1, 2, 0.35, 0.1, 0.0] 0.7100918389199045\n",
      "[3, 1, 1, 2, 0.35, 0.1, 0.05] 0.7838223024704944\n",
      "[3, 1, 1, 2, 0.35, 0.1, 0.1] 0.8133980031929171\n",
      "[3, 1, 1, 2, 0.35, 0.1, 0.15] 0.8185036394631243\n",
      "[3, 1, 1, 2, 0.35, 0.1, 0.2] 0.8235362899185616\n",
      "[3, 1, 1, 2, 0.35, 0.1, 0.25] 0.8241076462589011\n",
      "[3, 1, 1, 2, 0.35, 0.1, 0.3] 0.823316398611313\n"
     ]
    },
    {
     "name": "stderr",
     "output_type": "stream",
     "text": [
      "/Users/julianhough/miniforge3/lib/python3.10/site-packages/sklearn/metrics/_classification.py:1344: UndefinedMetricWarning: Precision and F-score are ill-defined and being set to 0.0 in labels with no predicted samples. Use `zero_division` parameter to control this behavior.\n",
      "  _warn_prf(average, modifier, msg_start, len(result))\n",
      "/Users/julianhough/miniforge3/lib/python3.10/site-packages/sklearn/metrics/_classification.py:1344: UndefinedMetricWarning: Precision and F-score are ill-defined and being set to 0.0 in labels with no predicted samples. Use `zero_division` parameter to control this behavior.\n",
      "  _warn_prf(average, modifier, msg_start, len(result))\n"
     ]
    },
    {
     "name": "stdout",
     "output_type": "stream",
     "text": [
      "[3, 1, 1, 3, 0.35, 0.1, 0.0] 0.7100918389199045\n",
      "[3, 1, 1, 3, 0.35, 0.1, 0.05] 0.7786690036355626\n",
      "[3, 1, 1, 3, 0.35, 0.1, 0.1] 0.813415302812105\n",
      "[3, 1, 1, 3, 0.35, 0.1, 0.15] 0.8156248731036404\n",
      "[3, 1, 1, 3, 0.35, 0.1, 0.2] 0.8206021541518345\n",
      "[3, 1, 1, 3, 0.35, 0.1, 0.25] 0.8237474841718363\n",
      "[3, 1, 1, 3, 0.35, 0.1, 0.3] 0.8247314174358243\n",
      "[3, 1, 1, 3, 0.35, 0.1, 0.35] 0.8230618262402875\n"
     ]
    },
    {
     "name": "stderr",
     "output_type": "stream",
     "text": [
      "/Users/julianhough/miniforge3/lib/python3.10/site-packages/sklearn/metrics/_classification.py:1344: UndefinedMetricWarning: Precision and F-score are ill-defined and being set to 0.0 in labels with no predicted samples. Use `zero_division` parameter to control this behavior.\n",
      "  _warn_prf(average, modifier, msg_start, len(result))\n",
      "/Users/julianhough/miniforge3/lib/python3.10/site-packages/sklearn/metrics/_classification.py:1344: UndefinedMetricWarning: Precision and F-score are ill-defined and being set to 0.0 in labels with no predicted samples. Use `zero_division` parameter to control this behavior.\n",
      "  _warn_prf(average, modifier, msg_start, len(result))\n"
     ]
    },
    {
     "name": "stdout",
     "output_type": "stream",
     "text": [
      "[3, 1, 1, 4, 0.35, 0.1, 0.0] 0.7100918389199045\n",
      "[3, 1, 1, 4, 0.35, 0.1, 0.05] 0.7728076806940244\n",
      "[3, 1, 1, 4, 0.35, 0.1, 0.1] 0.8087301728145972\n",
      "[3, 1, 1, 4, 0.35, 0.1, 0.15] 0.8140784190031702\n",
      "[3, 1, 1, 4, 0.35, 0.1, 0.2] 0.819129092723984\n",
      "[3, 1, 1, 4, 0.35, 0.1, 0.25] 0.821834259915069\n",
      "[3, 1, 1, 4, 0.35, 0.1, 0.3] 0.8208576617941633\n"
     ]
    },
    {
     "name": "stderr",
     "output_type": "stream",
     "text": [
      "/Users/julianhough/miniforge3/lib/python3.10/site-packages/sklearn/metrics/_classification.py:1344: UndefinedMetricWarning: Precision and F-score are ill-defined and being set to 0.0 in labels with no predicted samples. Use `zero_division` parameter to control this behavior.\n",
      "  _warn_prf(average, modifier, msg_start, len(result))\n",
      "/Users/julianhough/miniforge3/lib/python3.10/site-packages/sklearn/metrics/_classification.py:1344: UndefinedMetricWarning: Precision and F-score are ill-defined and being set to 0.0 in labels with no predicted samples. Use `zero_division` parameter to control this behavior.\n",
      "  _warn_prf(average, modifier, msg_start, len(result))\n"
     ]
    },
    {
     "name": "stdout",
     "output_type": "stream",
     "text": [
      "[3, 1, 1, 5, 0.35, 0.1, 0.0] 0.7100918389199045\n",
      "[3, 1, 1, 5, 0.35, 0.1, 0.05] 0.7707067245549093\n",
      "[3, 1, 1, 5, 0.35, 0.1, 0.1] 0.810386271487123\n",
      "[3, 1, 1, 5, 0.35, 0.1, 0.15] 0.8158817656968175\n",
      "[3, 1, 1, 5, 0.35, 0.1, 0.2] 0.8190348255562904\n",
      "[3, 1, 1, 5, 0.35, 0.1, 0.25] 0.8197956012008281\n",
      "[3, 1, 1, 5, 0.35, 0.1, 0.3] 0.8198310826821817\n",
      "[3, 1, 1, 5, 0.35, 0.1, 0.35] 0.8214614197210971\n",
      "[3, 1, 1, 5, 0.35, 0.1, 0.4] 0.8223943744805681\n",
      "[3, 1, 1, 5, 0.35, 0.1, 0.45] 0.8222075733574308\n"
     ]
    },
    {
     "name": "stderr",
     "output_type": "stream",
     "text": [
      "/Users/julianhough/miniforge3/lib/python3.10/site-packages/sklearn/metrics/_classification.py:1344: UndefinedMetricWarning: Precision and F-score are ill-defined and being set to 0.0 in labels with no predicted samples. Use `zero_division` parameter to control this behavior.\n",
      "  _warn_prf(average, modifier, msg_start, len(result))\n",
      "/Users/julianhough/miniforge3/lib/python3.10/site-packages/sklearn/metrics/_classification.py:1344: UndefinedMetricWarning: Precision and F-score are ill-defined and being set to 0.0 in labels with no predicted samples. Use `zero_division` parameter to control this behavior.\n",
      "  _warn_prf(average, modifier, msg_start, len(result))\n"
     ]
    },
    {
     "name": "stdout",
     "output_type": "stream",
     "text": [
      "[3, 1, 1, 6, 0.35, 0.1, 0.0] 0.7100918389199045\n",
      "[3, 1, 1, 6, 0.35, 0.1, 0.05] 0.7732100271497027\n",
      "[3, 1, 1, 6, 0.35, 0.1, 0.1] 0.8100870699153716\n",
      "[3, 1, 1, 6, 0.35, 0.1, 0.15] 0.8166677955490229\n",
      "[3, 1, 1, 6, 0.35, 0.1, 0.2] 0.8197802042059358\n",
      "[3, 1, 1, 6, 0.35, 0.1, 0.25] 0.8216199245013623\n",
      "[3, 1, 1, 6, 0.35, 0.1, 0.3] 0.8220261952031688\n",
      "[3, 1, 1, 6, 0.35, 0.1, 0.35] 0.8220314553309859\n",
      "[3, 1, 1, 6, 0.35, 0.1, 0.4] 0.8238997594205729\n",
      "[3, 1, 1, 6, 0.35, 0.1, 0.45] 0.824089883775717\n",
      "[3, 1, 1, 6, 0.35, 0.1, 0.5] 0.824777521057542\n",
      "[3, 1, 1, 6, 0.35, 0.1, 0.55] 0.8249941596665346\n",
      "[3, 1, 1, 6, 0.35, 0.1, 0.6] 0.8266867303717789\n",
      "best 0.8266867303717789 [3, 1, 1, 6, 0.35, 0.1, 0.6]\n",
      "[3, 1, 1, 6, 0.35, 0.1, 0.65] 0.8278660549862468\n",
      "best 0.8278660549862468 [3, 1, 1, 6, 0.35, 0.1, 0.65]\n",
      "[3, 1, 1, 6, 0.35, 0.1, 0.7] 0.82788548727087\n",
      "best 0.82788548727087 [3, 1, 1, 6, 0.35, 0.1, 0.7]\n",
      "[3, 1, 1, 6, 0.35, 0.1, 0.75] 0.8295011942780413\n",
      "best 0.8295011942780413 [3, 1, 1, 6, 0.35, 0.1, 0.75]\n",
      "[3, 1, 1, 6, 0.35, 0.1, 0.8] 0.8305550738628465\n",
      "best 0.8305550738628465 [3, 1, 1, 6, 0.35, 0.1, 0.8]\n",
      "[3, 1, 1, 6, 0.35, 0.1, 0.85] 0.8303938254945314\n"
     ]
    },
    {
     "name": "stderr",
     "output_type": "stream",
     "text": [
      "/Users/julianhough/miniforge3/lib/python3.10/site-packages/sklearn/metrics/_classification.py:1344: UndefinedMetricWarning: Precision and F-score are ill-defined and being set to 0.0 in labels with no predicted samples. Use `zero_division` parameter to control this behavior.\n",
      "  _warn_prf(average, modifier, msg_start, len(result))\n",
      "/Users/julianhough/miniforge3/lib/python3.10/site-packages/sklearn/metrics/_classification.py:1344: UndefinedMetricWarning: Precision and F-score are ill-defined and being set to 0.0 in labels with no predicted samples. Use `zero_division` parameter to control this behavior.\n",
      "  _warn_prf(average, modifier, msg_start, len(result))\n"
     ]
    },
    {
     "name": "stdout",
     "output_type": "stream",
     "text": [
      "[3, 1, 1, 7, 0.35, 0.1, 0.0] 0.7100918389199045\n",
      "[3, 1, 1, 7, 0.35, 0.1, 0.05] 0.7724341136443333\n",
      "[3, 1, 1, 7, 0.35, 0.1, 0.1] 0.8072855758371136\n",
      "[3, 1, 1, 7, 0.35, 0.1, 0.15] 0.8163734256033807\n",
      "[3, 1, 1, 7, 0.35, 0.1, 0.2] 0.820011719717186\n",
      "[3, 1, 1, 7, 0.35, 0.1, 0.25] 0.8214913159149054\n",
      "[3, 1, 1, 7, 0.35, 0.1, 0.3] 0.8213597759554035\n"
     ]
    },
    {
     "name": "stderr",
     "output_type": "stream",
     "text": [
      "/Users/julianhough/miniforge3/lib/python3.10/site-packages/sklearn/metrics/_classification.py:1344: UndefinedMetricWarning: Precision and F-score are ill-defined and being set to 0.0 in labels with no predicted samples. Use `zero_division` parameter to control this behavior.\n",
      "  _warn_prf(average, modifier, msg_start, len(result))\n",
      "/Users/julianhough/miniforge3/lib/python3.10/site-packages/sklearn/metrics/_classification.py:1344: UndefinedMetricWarning: Precision and F-score are ill-defined and being set to 0.0 in labels with no predicted samples. Use `zero_division` parameter to control this behavior.\n",
      "  _warn_prf(average, modifier, msg_start, len(result))\n"
     ]
    },
    {
     "name": "stdout",
     "output_type": "stream",
     "text": [
      "[3, 1, 1, 8, 0.35, 0.1, 0.0] 0.7100918389199045\n",
      "[3, 1, 1, 8, 0.35, 0.1, 0.05] 0.7712810014218493\n",
      "[3, 1, 1, 8, 0.35, 0.1, 0.1] 0.8037216381339537\n",
      "[3, 1, 1, 8, 0.35, 0.1, 0.15] 0.8152782591749863\n",
      "[3, 1, 1, 8, 0.35, 0.1, 0.2] 0.8194491220503847\n",
      "[3, 1, 1, 8, 0.35, 0.1, 0.25] 0.819330761700474\n"
     ]
    },
    {
     "name": "stderr",
     "output_type": "stream",
     "text": [
      "/Users/julianhough/miniforge3/lib/python3.10/site-packages/sklearn/metrics/_classification.py:1344: UndefinedMetricWarning: Precision and F-score are ill-defined and being set to 0.0 in labels with no predicted samples. Use `zero_division` parameter to control this behavior.\n",
      "  _warn_prf(average, modifier, msg_start, len(result))\n",
      "/Users/julianhough/miniforge3/lib/python3.10/site-packages/sklearn/metrics/_classification.py:1344: UndefinedMetricWarning: Precision and F-score are ill-defined and being set to 0.0 in labels with no predicted samples. Use `zero_division` parameter to control this behavior.\n",
      "  _warn_prf(average, modifier, msg_start, len(result))\n"
     ]
    },
    {
     "name": "stdout",
     "output_type": "stream",
     "text": [
      "[3, 1, 1, 9, 0.35, 0.1, 0.0] 0.7100918389199045\n",
      "[3, 1, 1, 9, 0.35, 0.1, 0.05] 0.7715593747701435\n",
      "[3, 1, 1, 9, 0.35, 0.1, 0.1] 0.8042936605942207\n",
      "[3, 1, 1, 9, 0.35, 0.1, 0.15] 0.8137037158633426\n",
      "[3, 1, 1, 9, 0.35, 0.1, 0.2] 0.8173405614192047\n",
      "[3, 1, 1, 9, 0.35, 0.1, 0.25] 0.8188653466866291\n",
      "[3, 1, 1, 9, 0.35, 0.1, 0.3] 0.8209259862315461\n",
      "[3, 1, 1, 9, 0.35, 0.1, 0.35] 0.8208843919425975\n"
     ]
    },
    {
     "name": "stderr",
     "output_type": "stream",
     "text": [
      "/Users/julianhough/miniforge3/lib/python3.10/site-packages/sklearn/metrics/_classification.py:1344: UndefinedMetricWarning: Precision and F-score are ill-defined and being set to 0.0 in labels with no predicted samples. Use `zero_division` parameter to control this behavior.\n",
      "  _warn_prf(average, modifier, msg_start, len(result))\n",
      "/Users/julianhough/miniforge3/lib/python3.10/site-packages/sklearn/metrics/_classification.py:1344: UndefinedMetricWarning: Precision and F-score are ill-defined and being set to 0.0 in labels with no predicted samples. Use `zero_division` parameter to control this behavior.\n",
      "  _warn_prf(average, modifier, msg_start, len(result))\n"
     ]
    },
    {
     "name": "stdout",
     "output_type": "stream",
     "text": [
      "[3, 1, 1, 10, 0.35, 0.1, 0.0] 0.7100918389199045\n",
      "[3, 1, 1, 10, 0.35, 0.1, 0.05] 0.7720424889101817\n",
      "[3, 1, 1, 10, 0.35, 0.1, 0.1] 0.8012970643181669\n",
      "[3, 1, 1, 10, 0.35, 0.1, 0.15] 0.8097978993349758\n",
      "[3, 1, 1, 10, 0.35, 0.1, 0.2] 0.8169753698188112\n",
      "[3, 1, 1, 10, 0.35, 0.1, 0.25] 0.8203477360020607\n",
      "[3, 1, 1, 10, 0.35, 0.1, 0.3] 0.8199241001398104\n"
     ]
    },
    {
     "name": "stderr",
     "output_type": "stream",
     "text": [
      "/Users/julianhough/miniforge3/lib/python3.10/site-packages/sklearn/metrics/_classification.py:1344: UndefinedMetricWarning: Precision and F-score are ill-defined and being set to 0.0 in labels with no predicted samples. Use `zero_division` parameter to control this behavior.\n",
      "  _warn_prf(average, modifier, msg_start, len(result))\n",
      "/Users/julianhough/miniforge3/lib/python3.10/site-packages/sklearn/metrics/_classification.py:1344: UndefinedMetricWarning: Precision and F-score are ill-defined and being set to 0.0 in labels with no predicted samples. Use `zero_division` parameter to control this behavior.\n",
      "  _warn_prf(average, modifier, msg_start, len(result))\n"
     ]
    },
    {
     "name": "stdout",
     "output_type": "stream",
     "text": [
      "[3, 1, 1, 1, 0.4, 0.1, 0.0] 0.7099904822710412\n",
      "[3, 1, 1, 1, 0.4, 0.1, 0.05] 0.7781562068197323\n",
      "[3, 1, 1, 1, 0.4, 0.1, 0.1] 0.8129474418193349\n",
      "[3, 1, 1, 1, 0.4, 0.1, 0.15] 0.8181121098362463\n",
      "[3, 1, 1, 1, 0.4, 0.1, 0.2] 0.821273894898331\n",
      "[3, 1, 1, 1, 0.4, 0.1, 0.25] 0.822677479876713\n",
      "[3, 1, 1, 1, 0.4, 0.1, 0.3] 0.8217834474020437\n"
     ]
    },
    {
     "name": "stderr",
     "output_type": "stream",
     "text": [
      "/Users/julianhough/miniforge3/lib/python3.10/site-packages/sklearn/metrics/_classification.py:1344: UndefinedMetricWarning: Precision and F-score are ill-defined and being set to 0.0 in labels with no predicted samples. Use `zero_division` parameter to control this behavior.\n",
      "  _warn_prf(average, modifier, msg_start, len(result))\n",
      "/Users/julianhough/miniforge3/lib/python3.10/site-packages/sklearn/metrics/_classification.py:1344: UndefinedMetricWarning: Precision and F-score are ill-defined and being set to 0.0 in labels with no predicted samples. Use `zero_division` parameter to control this behavior.\n",
      "  _warn_prf(average, modifier, msg_start, len(result))\n"
     ]
    },
    {
     "name": "stdout",
     "output_type": "stream",
     "text": [
      "[3, 1, 1, 2, 0.4, 0.1, 0.0] 0.7099904822710412\n",
      "[3, 1, 1, 2, 0.4, 0.1, 0.05] 0.7770628996064894\n",
      "[3, 1, 1, 2, 0.4, 0.1, 0.1] 0.8125737237765673\n",
      "[3, 1, 1, 2, 0.4, 0.1, 0.15] 0.8174868311384296\n",
      "[3, 1, 1, 2, 0.4, 0.1, 0.2] 0.822795299266912\n",
      "[3, 1, 1, 2, 0.4, 0.1, 0.25] 0.8240836438129805\n",
      "[3, 1, 1, 2, 0.4, 0.1, 0.3] 0.8255896370762447\n",
      "[3, 1, 1, 2, 0.4, 0.1, 0.35] 0.8252980987090209\n"
     ]
    },
    {
     "name": "stderr",
     "output_type": "stream",
     "text": [
      "/Users/julianhough/miniforge3/lib/python3.10/site-packages/sklearn/metrics/_classification.py:1344: UndefinedMetricWarning: Precision and F-score are ill-defined and being set to 0.0 in labels with no predicted samples. Use `zero_division` parameter to control this behavior.\n",
      "  _warn_prf(average, modifier, msg_start, len(result))\n",
      "/Users/julianhough/miniforge3/lib/python3.10/site-packages/sklearn/metrics/_classification.py:1344: UndefinedMetricWarning: Precision and F-score are ill-defined and being set to 0.0 in labels with no predicted samples. Use `zero_division` parameter to control this behavior.\n",
      "  _warn_prf(average, modifier, msg_start, len(result))\n"
     ]
    },
    {
     "name": "stdout",
     "output_type": "stream",
     "text": [
      "[3, 1, 1, 3, 0.4, 0.1, 0.0] 0.7099904822710412\n",
      "[3, 1, 1, 3, 0.4, 0.1, 0.05] 0.7712310016091058\n",
      "[3, 1, 1, 3, 0.4, 0.1, 0.1] 0.8129362709488905\n",
      "[3, 1, 1, 3, 0.4, 0.1, 0.15] 0.8179928609049966\n",
      "[3, 1, 1, 3, 0.4, 0.1, 0.2] 0.818056130039576\n",
      "[3, 1, 1, 3, 0.4, 0.1, 0.25] 0.8242481657233787\n",
      "[3, 1, 1, 3, 0.4, 0.1, 0.3] 0.8253299521496145\n",
      "[3, 1, 1, 3, 0.4, 0.1, 0.35] 0.8237132043726361\n"
     ]
    },
    {
     "name": "stderr",
     "output_type": "stream",
     "text": [
      "/Users/julianhough/miniforge3/lib/python3.10/site-packages/sklearn/metrics/_classification.py:1344: UndefinedMetricWarning: Precision and F-score are ill-defined and being set to 0.0 in labels with no predicted samples. Use `zero_division` parameter to control this behavior.\n",
      "  _warn_prf(average, modifier, msg_start, len(result))\n",
      "/Users/julianhough/miniforge3/lib/python3.10/site-packages/sklearn/metrics/_classification.py:1344: UndefinedMetricWarning: Precision and F-score are ill-defined and being set to 0.0 in labels with no predicted samples. Use `zero_division` parameter to control this behavior.\n",
      "  _warn_prf(average, modifier, msg_start, len(result))\n"
     ]
    },
    {
     "name": "stdout",
     "output_type": "stream",
     "text": [
      "[3, 1, 1, 4, 0.4, 0.1, 0.0] 0.7099904822710412\n",
      "[3, 1, 1, 4, 0.4, 0.1, 0.05] 0.768556347644957\n",
      "[3, 1, 1, 4, 0.4, 0.1, 0.1] 0.8097598319100691\n",
      "[3, 1, 1, 4, 0.4, 0.1, 0.15] 0.8163510855874383\n",
      "[3, 1, 1, 4, 0.4, 0.1, 0.2] 0.8170806176772931\n",
      "[3, 1, 1, 4, 0.4, 0.1, 0.25] 0.819179318397161\n",
      "[3, 1, 1, 4, 0.4, 0.1, 0.3] 0.8214320855097365\n",
      "[3, 1, 1, 4, 0.4, 0.1, 0.35] 0.8226735804165876\n",
      "[3, 1, 1, 4, 0.4, 0.1, 0.4] 0.8242469362245846\n",
      "[3, 1, 1, 4, 0.4, 0.1, 0.45] 0.8243365557295272\n",
      "[3, 1, 1, 4, 0.4, 0.1, 0.5] 0.8245830515528276\n",
      "[3, 1, 1, 4, 0.4, 0.1, 0.55] 0.8265170042024975\n",
      "[3, 1, 1, 4, 0.4, 0.1, 0.6] 0.8289827469765566\n",
      "[3, 1, 1, 4, 0.4, 0.1, 0.65] 0.8307185819649162\n",
      "best 0.8307185819649162 [3, 1, 1, 4, 0.4, 0.1, 0.65]\n",
      "[3, 1, 1, 4, 0.4, 0.1, 0.7] 0.8321609576794943\n",
      "best 0.8321609576794943 [3, 1, 1, 4, 0.4, 0.1, 0.7]\n",
      "[3, 1, 1, 4, 0.4, 0.1, 0.75] 0.8332941360281865\n",
      "best 0.8332941360281865 [3, 1, 1, 4, 0.4, 0.1, 0.75]\n",
      "[3, 1, 1, 4, 0.4, 0.1, 0.8] 0.8326897526963638\n"
     ]
    },
    {
     "name": "stderr",
     "output_type": "stream",
     "text": [
      "/Users/julianhough/miniforge3/lib/python3.10/site-packages/sklearn/metrics/_classification.py:1344: UndefinedMetricWarning: Precision and F-score are ill-defined and being set to 0.0 in labels with no predicted samples. Use `zero_division` parameter to control this behavior.\n",
      "  _warn_prf(average, modifier, msg_start, len(result))\n",
      "/Users/julianhough/miniforge3/lib/python3.10/site-packages/sklearn/metrics/_classification.py:1344: UndefinedMetricWarning: Precision and F-score are ill-defined and being set to 0.0 in labels with no predicted samples. Use `zero_division` parameter to control this behavior.\n",
      "  _warn_prf(average, modifier, msg_start, len(result))\n"
     ]
    },
    {
     "name": "stdout",
     "output_type": "stream",
     "text": [
      "[3, 1, 1, 5, 0.4, 0.1, 0.0] 0.7099904822710412\n",
      "[3, 1, 1, 5, 0.4, 0.1, 0.05] 0.7730341130851064\n",
      "[3, 1, 1, 5, 0.4, 0.1, 0.1] 0.809685545103698\n",
      "[3, 1, 1, 5, 0.4, 0.1, 0.15] 0.818217679019348\n",
      "[3, 1, 1, 5, 0.4, 0.1, 0.2] 0.8178420586043634\n"
     ]
    },
    {
     "name": "stderr",
     "output_type": "stream",
     "text": [
      "/Users/julianhough/miniforge3/lib/python3.10/site-packages/sklearn/metrics/_classification.py:1344: UndefinedMetricWarning: Precision and F-score are ill-defined and being set to 0.0 in labels with no predicted samples. Use `zero_division` parameter to control this behavior.\n",
      "  _warn_prf(average, modifier, msg_start, len(result))\n",
      "/Users/julianhough/miniforge3/lib/python3.10/site-packages/sklearn/metrics/_classification.py:1344: UndefinedMetricWarning: Precision and F-score are ill-defined and being set to 0.0 in labels with no predicted samples. Use `zero_division` parameter to control this behavior.\n",
      "  _warn_prf(average, modifier, msg_start, len(result))\n"
     ]
    },
    {
     "name": "stdout",
     "output_type": "stream",
     "text": [
      "[3, 1, 1, 6, 0.4, 0.1, 0.0] 0.7099904822710412\n",
      "[3, 1, 1, 6, 0.4, 0.1, 0.05] 0.7699752678993992\n",
      "[3, 1, 1, 6, 0.4, 0.1, 0.1] 0.8064937598494784\n",
      "[3, 1, 1, 6, 0.4, 0.1, 0.15] 0.819835201884917\n",
      "[3, 1, 1, 6, 0.4, 0.1, 0.2] 0.8197436378259678\n"
     ]
    },
    {
     "name": "stderr",
     "output_type": "stream",
     "text": [
      "/Users/julianhough/miniforge3/lib/python3.10/site-packages/sklearn/metrics/_classification.py:1344: UndefinedMetricWarning: Precision and F-score are ill-defined and being set to 0.0 in labels with no predicted samples. Use `zero_division` parameter to control this behavior.\n",
      "  _warn_prf(average, modifier, msg_start, len(result))\n",
      "/Users/julianhough/miniforge3/lib/python3.10/site-packages/sklearn/metrics/_classification.py:1344: UndefinedMetricWarning: Precision and F-score are ill-defined and being set to 0.0 in labels with no predicted samples. Use `zero_division` parameter to control this behavior.\n",
      "  _warn_prf(average, modifier, msg_start, len(result))\n"
     ]
    },
    {
     "name": "stdout",
     "output_type": "stream",
     "text": [
      "[3, 1, 1, 7, 0.4, 0.1, 0.0] 0.7099904822710412\n",
      "[3, 1, 1, 7, 0.4, 0.1, 0.05] 0.7707171770737178\n",
      "[3, 1, 1, 7, 0.4, 0.1, 0.1] 0.8064067687172606\n",
      "[3, 1, 1, 7, 0.4, 0.1, 0.15] 0.8163603507449151\n",
      "[3, 1, 1, 7, 0.4, 0.1, 0.2] 0.820291226474781\n",
      "[3, 1, 1, 7, 0.4, 0.1, 0.25] 0.8209692190568763\n",
      "[3, 1, 1, 7, 0.4, 0.1, 0.3] 0.8219548608139046\n",
      "[3, 1, 1, 7, 0.4, 0.1, 0.35] 0.8228785952373642\n",
      "[3, 1, 1, 7, 0.4, 0.1, 0.4] 0.8229463307233698\n",
      "[3, 1, 1, 7, 0.4, 0.1, 0.45] 0.8246821313052335\n",
      "[3, 1, 1, 7, 0.4, 0.1, 0.5] 0.822645520881263\n"
     ]
    },
    {
     "name": "stderr",
     "output_type": "stream",
     "text": [
      "/Users/julianhough/miniforge3/lib/python3.10/site-packages/sklearn/metrics/_classification.py:1344: UndefinedMetricWarning: Precision and F-score are ill-defined and being set to 0.0 in labels with no predicted samples. Use `zero_division` parameter to control this behavior.\n",
      "  _warn_prf(average, modifier, msg_start, len(result))\n",
      "/Users/julianhough/miniforge3/lib/python3.10/site-packages/sklearn/metrics/_classification.py:1344: UndefinedMetricWarning: Precision and F-score are ill-defined and being set to 0.0 in labels with no predicted samples. Use `zero_division` parameter to control this behavior.\n",
      "  _warn_prf(average, modifier, msg_start, len(result))\n"
     ]
    },
    {
     "name": "stdout",
     "output_type": "stream",
     "text": [
      "[3, 1, 1, 8, 0.4, 0.1, 0.0] 0.7099904822710412\n",
      "[3, 1, 1, 8, 0.4, 0.1, 0.05] 0.7703450928458004\n",
      "[3, 1, 1, 8, 0.4, 0.1, 0.1] 0.8017436738737029\n",
      "[3, 1, 1, 8, 0.4, 0.1, 0.15] 0.8159820082258104\n",
      "[3, 1, 1, 8, 0.4, 0.1, 0.2] 0.8206199052733566\n",
      "[3, 1, 1, 8, 0.4, 0.1, 0.25] 0.8224243269539755\n",
      "[3, 1, 1, 8, 0.4, 0.1, 0.3] 0.8218312663228123\n"
     ]
    },
    {
     "name": "stderr",
     "output_type": "stream",
     "text": [
      "/Users/julianhough/miniforge3/lib/python3.10/site-packages/sklearn/metrics/_classification.py:1344: UndefinedMetricWarning: Precision and F-score are ill-defined and being set to 0.0 in labels with no predicted samples. Use `zero_division` parameter to control this behavior.\n",
      "  _warn_prf(average, modifier, msg_start, len(result))\n",
      "/Users/julianhough/miniforge3/lib/python3.10/site-packages/sklearn/metrics/_classification.py:1344: UndefinedMetricWarning: Precision and F-score are ill-defined and being set to 0.0 in labels with no predicted samples. Use `zero_division` parameter to control this behavior.\n",
      "  _warn_prf(average, modifier, msg_start, len(result))\n"
     ]
    },
    {
     "name": "stdout",
     "output_type": "stream",
     "text": [
      "[3, 1, 1, 9, 0.4, 0.1, 0.0] 0.7099904822710412\n",
      "[3, 1, 1, 9, 0.4, 0.1, 0.05] 0.7714363683042194\n",
      "[3, 1, 1, 9, 0.4, 0.1, 0.1] 0.7998067622837121\n",
      "[3, 1, 1, 9, 0.4, 0.1, 0.15] 0.814992511603975\n",
      "[3, 1, 1, 9, 0.4, 0.1, 0.2] 0.8184919071506217\n",
      "[3, 1, 1, 9, 0.4, 0.1, 0.25] 0.8227974242000455\n",
      "[3, 1, 1, 9, 0.4, 0.1, 0.3] 0.8233175316267712\n",
      "[3, 1, 1, 9, 0.4, 0.1, 0.35] 0.8232218000419598\n"
     ]
    },
    {
     "name": "stderr",
     "output_type": "stream",
     "text": [
      "/Users/julianhough/miniforge3/lib/python3.10/site-packages/sklearn/metrics/_classification.py:1344: UndefinedMetricWarning: Precision and F-score are ill-defined and being set to 0.0 in labels with no predicted samples. Use `zero_division` parameter to control this behavior.\n",
      "  _warn_prf(average, modifier, msg_start, len(result))\n",
      "/Users/julianhough/miniforge3/lib/python3.10/site-packages/sklearn/metrics/_classification.py:1344: UndefinedMetricWarning: Precision and F-score are ill-defined and being set to 0.0 in labels with no predicted samples. Use `zero_division` parameter to control this behavior.\n",
      "  _warn_prf(average, modifier, msg_start, len(result))\n"
     ]
    },
    {
     "name": "stdout",
     "output_type": "stream",
     "text": [
      "[3, 1, 1, 10, 0.4, 0.1, 0.0] 0.7099904822710412\n",
      "[3, 1, 1, 10, 0.4, 0.1, 0.05] 0.7712823288159953\n",
      "[3, 1, 1, 10, 0.4, 0.1, 0.1] 0.7965329274554236\n",
      "[3, 1, 1, 10, 0.4, 0.1, 0.15] 0.810456144873506\n",
      "[3, 1, 1, 10, 0.4, 0.1, 0.2] 0.8169547726270939\n",
      "[3, 1, 1, 10, 0.4, 0.1, 0.25] 0.8226120660380191\n",
      "[3, 1, 1, 10, 0.4, 0.1, 0.3] 0.8212922143391532\n"
     ]
    },
    {
     "name": "stderr",
     "output_type": "stream",
     "text": [
      "/Users/julianhough/miniforge3/lib/python3.10/site-packages/sklearn/metrics/_classification.py:1344: UndefinedMetricWarning: Precision and F-score are ill-defined and being set to 0.0 in labels with no predicted samples. Use `zero_division` parameter to control this behavior.\n",
      "  _warn_prf(average, modifier, msg_start, len(result))\n",
      "/Users/julianhough/miniforge3/lib/python3.10/site-packages/sklearn/metrics/_classification.py:1344: UndefinedMetricWarning: Precision and F-score are ill-defined and being set to 0.0 in labels with no predicted samples. Use `zero_division` parameter to control this behavior.\n",
      "  _warn_prf(average, modifier, msg_start, len(result))\n"
     ]
    },
    {
     "name": "stdout",
     "output_type": "stream",
     "text": [
      "[3, 1, 1, 1, 0.45, 0.1, 0.0] 0.7076319357402638\n",
      "[3, 1, 1, 1, 0.45, 0.1, 0.05] 0.7761196760181618\n",
      "[3, 1, 1, 1, 0.45, 0.1, 0.1] 0.8117562430543496\n",
      "[3, 1, 1, 1, 0.45, 0.1, 0.15] 0.818271360333814\n",
      "[3, 1, 1, 1, 0.45, 0.1, 0.2] 0.8209665941378894\n",
      "[3, 1, 1, 1, 0.45, 0.1, 0.25] 0.8224809551182679\n",
      "[3, 1, 1, 1, 0.45, 0.1, 0.3] 0.8230416151790135\n",
      "[3, 1, 1, 1, 0.45, 0.1, 0.35] 0.8227036598704132\n"
     ]
    },
    {
     "name": "stderr",
     "output_type": "stream",
     "text": [
      "/Users/julianhough/miniforge3/lib/python3.10/site-packages/sklearn/metrics/_classification.py:1344: UndefinedMetricWarning: Precision and F-score are ill-defined and being set to 0.0 in labels with no predicted samples. Use `zero_division` parameter to control this behavior.\n",
      "  _warn_prf(average, modifier, msg_start, len(result))\n",
      "/Users/julianhough/miniforge3/lib/python3.10/site-packages/sklearn/metrics/_classification.py:1344: UndefinedMetricWarning: Precision and F-score are ill-defined and being set to 0.0 in labels with no predicted samples. Use `zero_division` parameter to control this behavior.\n",
      "  _warn_prf(average, modifier, msg_start, len(result))\n"
     ]
    },
    {
     "name": "stdout",
     "output_type": "stream",
     "text": [
      "[3, 1, 1, 2, 0.45, 0.1, 0.0] 0.7076319357402638\n",
      "[3, 1, 1, 2, 0.45, 0.1, 0.05] 0.7752579742067146\n",
      "[3, 1, 1, 2, 0.45, 0.1, 0.1] 0.8119493477698345\n",
      "[3, 1, 1, 2, 0.45, 0.1, 0.15] 0.818892275609454\n",
      "[3, 1, 1, 2, 0.45, 0.1, 0.2] 0.8199969304705704\n",
      "[3, 1, 1, 2, 0.45, 0.1, 0.25] 0.8236884504329165\n",
      "[3, 1, 1, 2, 0.45, 0.1, 0.3] 0.8240719801031836\n",
      "[3, 1, 1, 2, 0.45, 0.1, 0.35] 0.8278548031833034\n",
      "[3, 1, 1, 2, 0.45, 0.1, 0.4] 0.8258615213191342\n"
     ]
    },
    {
     "name": "stderr",
     "output_type": "stream",
     "text": [
      "/Users/julianhough/miniforge3/lib/python3.10/site-packages/sklearn/metrics/_classification.py:1344: UndefinedMetricWarning: Precision and F-score are ill-defined and being set to 0.0 in labels with no predicted samples. Use `zero_division` parameter to control this behavior.\n",
      "  _warn_prf(average, modifier, msg_start, len(result))\n",
      "/Users/julianhough/miniforge3/lib/python3.10/site-packages/sklearn/metrics/_classification.py:1344: UndefinedMetricWarning: Precision and F-score are ill-defined and being set to 0.0 in labels with no predicted samples. Use `zero_division` parameter to control this behavior.\n",
      "  _warn_prf(average, modifier, msg_start, len(result))\n"
     ]
    },
    {
     "name": "stdout",
     "output_type": "stream",
     "text": [
      "[3, 1, 1, 3, 0.45, 0.1, 0.0] 0.7076319357402638\n",
      "[3, 1, 1, 3, 0.45, 0.1, 0.05] 0.7721741693471561\n",
      "[3, 1, 1, 3, 0.45, 0.1, 0.1] 0.8105335552715588\n",
      "[3, 1, 1, 3, 0.45, 0.1, 0.15] 0.817570995208358\n",
      "[3, 1, 1, 3, 0.45, 0.1, 0.2] 0.8182105437721348\n",
      "[3, 1, 1, 3, 0.45, 0.1, 0.25] 0.8226147430593497\n",
      "[3, 1, 1, 3, 0.45, 0.1, 0.3] 0.823609424627495\n",
      "[3, 1, 1, 3, 0.45, 0.1, 0.35] 0.8252816703613751\n",
      "[3, 1, 1, 3, 0.45, 0.1, 0.4] 0.824190061294268\n"
     ]
    },
    {
     "name": "stderr",
     "output_type": "stream",
     "text": [
      "/Users/julianhough/miniforge3/lib/python3.10/site-packages/sklearn/metrics/_classification.py:1344: UndefinedMetricWarning: Precision and F-score are ill-defined and being set to 0.0 in labels with no predicted samples. Use `zero_division` parameter to control this behavior.\n",
      "  _warn_prf(average, modifier, msg_start, len(result))\n",
      "/Users/julianhough/miniforge3/lib/python3.10/site-packages/sklearn/metrics/_classification.py:1344: UndefinedMetricWarning: Precision and F-score are ill-defined and being set to 0.0 in labels with no predicted samples. Use `zero_division` parameter to control this behavior.\n",
      "  _warn_prf(average, modifier, msg_start, len(result))\n"
     ]
    },
    {
     "name": "stdout",
     "output_type": "stream",
     "text": [
      "[3, 1, 1, 4, 0.45, 0.1, 0.0] 0.7076319357402638\n"
     ]
    },
    {
     "name": "stderr",
     "output_type": "stream",
     "text": [
      "/Users/julianhough/miniforge3/lib/python3.10/site-packages/sklearn/metrics/_classification.py:1344: UndefinedMetricWarning: Precision and F-score are ill-defined and being set to 0.0 in labels with no predicted samples. Use `zero_division` parameter to control this behavior.\n",
      "  _warn_prf(average, modifier, msg_start, len(result))\n"
     ]
    },
    {
     "name": "stdout",
     "output_type": "stream",
     "text": [
      "[3, 1, 1, 4, 0.45, 0.1, 0.05] 0.7681386247073593\n",
      "[3, 1, 1, 4, 0.45, 0.1, 0.1] 0.8070769620936421\n",
      "[3, 1, 1, 4, 0.45, 0.1, 0.15] 0.8180287170499415\n",
      "[3, 1, 1, 4, 0.45, 0.1, 0.2] 0.8183114367319398\n",
      "[3, 1, 1, 4, 0.45, 0.1, 0.25] 0.8202775301013743\n",
      "[3, 1, 1, 4, 0.45, 0.1, 0.3] 0.8243374673866202\n",
      "[3, 1, 1, 4, 0.45, 0.1, 0.35] 0.8237712644720797\n"
     ]
    },
    {
     "name": "stderr",
     "output_type": "stream",
     "text": [
      "/Users/julianhough/miniforge3/lib/python3.10/site-packages/sklearn/metrics/_classification.py:1344: UndefinedMetricWarning: Precision and F-score are ill-defined and being set to 0.0 in labels with no predicted samples. Use `zero_division` parameter to control this behavior.\n",
      "  _warn_prf(average, modifier, msg_start, len(result))\n",
      "/Users/julianhough/miniforge3/lib/python3.10/site-packages/sklearn/metrics/_classification.py:1344: UndefinedMetricWarning: Precision and F-score are ill-defined and being set to 0.0 in labels with no predicted samples. Use `zero_division` parameter to control this behavior.\n",
      "  _warn_prf(average, modifier, msg_start, len(result))\n"
     ]
    },
    {
     "name": "stdout",
     "output_type": "stream",
     "text": [
      "[3, 1, 1, 5, 0.45, 0.1, 0.0] 0.7076319357402638\n"
     ]
    },
    {
     "name": "stderr",
     "output_type": "stream",
     "text": [
      "/Users/julianhough/miniforge3/lib/python3.10/site-packages/sklearn/metrics/_classification.py:1344: UndefinedMetricWarning: Precision and F-score are ill-defined and being set to 0.0 in labels with no predicted samples. Use `zero_division` parameter to control this behavior.\n",
      "  _warn_prf(average, modifier, msg_start, len(result))\n"
     ]
    },
    {
     "name": "stdout",
     "output_type": "stream",
     "text": [
      "[3, 1, 1, 5, 0.45, 0.1, 0.05] 0.7697388795797678\n",
      "[3, 1, 1, 5, 0.45, 0.1, 0.1] 0.8068891216867241\n",
      "[3, 1, 1, 5, 0.45, 0.1, 0.15] 0.820051349914466\n",
      "[3, 1, 1, 5, 0.45, 0.1, 0.2] 0.816724395563959\n"
     ]
    },
    {
     "name": "stderr",
     "output_type": "stream",
     "text": [
      "/Users/julianhough/miniforge3/lib/python3.10/site-packages/sklearn/metrics/_classification.py:1344: UndefinedMetricWarning: Precision and F-score are ill-defined and being set to 0.0 in labels with no predicted samples. Use `zero_division` parameter to control this behavior.\n",
      "  _warn_prf(average, modifier, msg_start, len(result))\n",
      "/Users/julianhough/miniforge3/lib/python3.10/site-packages/sklearn/metrics/_classification.py:1344: UndefinedMetricWarning: Precision and F-score are ill-defined and being set to 0.0 in labels with no predicted samples. Use `zero_division` parameter to control this behavior.\n",
      "  _warn_prf(average, modifier, msg_start, len(result))\n"
     ]
    },
    {
     "name": "stdout",
     "output_type": "stream",
     "text": [
      "[3, 1, 1, 6, 0.45, 0.1, 0.0] 0.7076319357402638\n"
     ]
    },
    {
     "name": "stderr",
     "output_type": "stream",
     "text": [
      "/Users/julianhough/miniforge3/lib/python3.10/site-packages/sklearn/metrics/_classification.py:1344: UndefinedMetricWarning: Precision and F-score are ill-defined and being set to 0.0 in labels with no predicted samples. Use `zero_division` parameter to control this behavior.\n",
      "  _warn_prf(average, modifier, msg_start, len(result))\n"
     ]
    },
    {
     "name": "stdout",
     "output_type": "stream",
     "text": [
      "[3, 1, 1, 6, 0.45, 0.1, 0.05] 0.7699845569964101\n",
      "[3, 1, 1, 6, 0.45, 0.1, 0.1] 0.8044294348667297\n",
      "[3, 1, 1, 6, 0.45, 0.1, 0.15] 0.8184816161558764\n",
      "[3, 1, 1, 6, 0.45, 0.1, 0.2] 0.8210055742715374\n",
      "[3, 1, 1, 6, 0.45, 0.1, 0.25] 0.8201048711467299\n"
     ]
    },
    {
     "name": "stderr",
     "output_type": "stream",
     "text": [
      "/Users/julianhough/miniforge3/lib/python3.10/site-packages/sklearn/metrics/_classification.py:1344: UndefinedMetricWarning: Precision and F-score are ill-defined and being set to 0.0 in labels with no predicted samples. Use `zero_division` parameter to control this behavior.\n",
      "  _warn_prf(average, modifier, msg_start, len(result))\n",
      "/Users/julianhough/miniforge3/lib/python3.10/site-packages/sklearn/metrics/_classification.py:1344: UndefinedMetricWarning: Precision and F-score are ill-defined and being set to 0.0 in labels with no predicted samples. Use `zero_division` parameter to control this behavior.\n",
      "  _warn_prf(average, modifier, msg_start, len(result))\n"
     ]
    },
    {
     "name": "stdout",
     "output_type": "stream",
     "text": [
      "[3, 1, 1, 7, 0.45, 0.1, 0.0] 0.7076319357402638\n"
     ]
    },
    {
     "name": "stderr",
     "output_type": "stream",
     "text": [
      "/Users/julianhough/miniforge3/lib/python3.10/site-packages/sklearn/metrics/_classification.py:1344: UndefinedMetricWarning: Precision and F-score are ill-defined and being set to 0.0 in labels with no predicted samples. Use `zero_division` parameter to control this behavior.\n",
      "  _warn_prf(average, modifier, msg_start, len(result))\n"
     ]
    },
    {
     "name": "stdout",
     "output_type": "stream",
     "text": [
      "[3, 1, 1, 7, 0.45, 0.1, 0.05] 0.7701825319048543\n",
      "[3, 1, 1, 7, 0.45, 0.1, 0.1] 0.8047485121913126\n",
      "[3, 1, 1, 7, 0.45, 0.1, 0.15] 0.8186456419012488\n",
      "[3, 1, 1, 7, 0.45, 0.1, 0.2] 0.821966785247956\n",
      "[3, 1, 1, 7, 0.45, 0.1, 0.25] 0.8208399782222235\n"
     ]
    },
    {
     "name": "stderr",
     "output_type": "stream",
     "text": [
      "/Users/julianhough/miniforge3/lib/python3.10/site-packages/sklearn/metrics/_classification.py:1344: UndefinedMetricWarning: Precision and F-score are ill-defined and being set to 0.0 in labels with no predicted samples. Use `zero_division` parameter to control this behavior.\n",
      "  _warn_prf(average, modifier, msg_start, len(result))\n",
      "/Users/julianhough/miniforge3/lib/python3.10/site-packages/sklearn/metrics/_classification.py:1344: UndefinedMetricWarning: Precision and F-score are ill-defined and being set to 0.0 in labels with no predicted samples. Use `zero_division` parameter to control this behavior.\n",
      "  _warn_prf(average, modifier, msg_start, len(result))\n"
     ]
    },
    {
     "name": "stdout",
     "output_type": "stream",
     "text": [
      "[3, 1, 1, 8, 0.45, 0.1, 0.0] 0.7076319357402638\n"
     ]
    },
    {
     "name": "stderr",
     "output_type": "stream",
     "text": [
      "/Users/julianhough/miniforge3/lib/python3.10/site-packages/sklearn/metrics/_classification.py:1344: UndefinedMetricWarning: Precision and F-score are ill-defined and being set to 0.0 in labels with no predicted samples. Use `zero_division` parameter to control this behavior.\n",
      "  _warn_prf(average, modifier, msg_start, len(result))\n"
     ]
    },
    {
     "name": "stdout",
     "output_type": "stream",
     "text": [
      "[3, 1, 1, 8, 0.45, 0.1, 0.05] 0.7694402535192388\n",
      "[3, 1, 1, 8, 0.45, 0.1, 0.1] 0.7991739313968313\n",
      "[3, 1, 1, 8, 0.45, 0.1, 0.15] 0.8150449196855399\n",
      "[3, 1, 1, 8, 0.45, 0.1, 0.2] 0.8218743441408092\n",
      "[3, 1, 1, 8, 0.45, 0.1, 0.25] 0.822832062703272\n",
      "[3, 1, 1, 8, 0.45, 0.1, 0.3] 0.8210956704672512\n"
     ]
    },
    {
     "name": "stderr",
     "output_type": "stream",
     "text": [
      "/Users/julianhough/miniforge3/lib/python3.10/site-packages/sklearn/metrics/_classification.py:1344: UndefinedMetricWarning: Precision and F-score are ill-defined and being set to 0.0 in labels with no predicted samples. Use `zero_division` parameter to control this behavior.\n",
      "  _warn_prf(average, modifier, msg_start, len(result))\n",
      "/Users/julianhough/miniforge3/lib/python3.10/site-packages/sklearn/metrics/_classification.py:1344: UndefinedMetricWarning: Precision and F-score are ill-defined and being set to 0.0 in labels with no predicted samples. Use `zero_division` parameter to control this behavior.\n",
      "  _warn_prf(average, modifier, msg_start, len(result))\n"
     ]
    },
    {
     "name": "stdout",
     "output_type": "stream",
     "text": [
      "[3, 1, 1, 9, 0.45, 0.1, 0.0] 0.7076319357402638\n"
     ]
    },
    {
     "name": "stderr",
     "output_type": "stream",
     "text": [
      "/Users/julianhough/miniforge3/lib/python3.10/site-packages/sklearn/metrics/_classification.py:1344: UndefinedMetricWarning: Precision and F-score are ill-defined and being set to 0.0 in labels with no predicted samples. Use `zero_division` parameter to control this behavior.\n",
      "  _warn_prf(average, modifier, msg_start, len(result))\n"
     ]
    },
    {
     "name": "stdout",
     "output_type": "stream",
     "text": [
      "[3, 1, 1, 9, 0.45, 0.1, 0.05] 0.770807964393222\n",
      "[3, 1, 1, 9, 0.45, 0.1, 0.1] 0.7982718079241928\n",
      "[3, 1, 1, 9, 0.45, 0.1, 0.15] 0.8128745573968036\n",
      "[3, 1, 1, 9, 0.45, 0.1, 0.2] 0.8202127643867845\n",
      "[3, 1, 1, 9, 0.45, 0.1, 0.25] 0.8237707218034611\n",
      "[3, 1, 1, 9, 0.45, 0.1, 0.3] 0.8237566960096145\n"
     ]
    },
    {
     "name": "stderr",
     "output_type": "stream",
     "text": [
      "/Users/julianhough/miniforge3/lib/python3.10/site-packages/sklearn/metrics/_classification.py:1344: UndefinedMetricWarning: Precision and F-score are ill-defined and being set to 0.0 in labels with no predicted samples. Use `zero_division` parameter to control this behavior.\n",
      "  _warn_prf(average, modifier, msg_start, len(result))\n",
      "/Users/julianhough/miniforge3/lib/python3.10/site-packages/sklearn/metrics/_classification.py:1344: UndefinedMetricWarning: Precision and F-score are ill-defined and being set to 0.0 in labels with no predicted samples. Use `zero_division` parameter to control this behavior.\n",
      "  _warn_prf(average, modifier, msg_start, len(result))\n"
     ]
    },
    {
     "name": "stdout",
     "output_type": "stream",
     "text": [
      "[3, 1, 1, 10, 0.45, 0.1, 0.0] 0.7076319357402638\n"
     ]
    },
    {
     "name": "stderr",
     "output_type": "stream",
     "text": [
      "/Users/julianhough/miniforge3/lib/python3.10/site-packages/sklearn/metrics/_classification.py:1344: UndefinedMetricWarning: Precision and F-score are ill-defined and being set to 0.0 in labels with no predicted samples. Use `zero_division` parameter to control this behavior.\n",
      "  _warn_prf(average, modifier, msg_start, len(result))\n"
     ]
    },
    {
     "name": "stdout",
     "output_type": "stream",
     "text": [
      "[3, 1, 1, 10, 0.45, 0.1, 0.05] 0.7702109315476635\n",
      "[3, 1, 1, 10, 0.45, 0.1, 0.1] 0.7969533012994502\n",
      "[3, 1, 1, 10, 0.45, 0.1, 0.15] 0.8091028782603819\n",
      "[3, 1, 1, 10, 0.45, 0.1, 0.2] 0.8186006178509688\n",
      "[3, 1, 1, 10, 0.45, 0.1, 0.25] 0.8233593060715333\n",
      "[3, 1, 1, 10, 0.45, 0.1, 0.3] 0.8239054553596523\n",
      "[3, 1, 1, 10, 0.45, 0.1, 0.35] 0.8233322281466255\n"
     ]
    },
    {
     "name": "stderr",
     "output_type": "stream",
     "text": [
      "/Users/julianhough/miniforge3/lib/python3.10/site-packages/sklearn/metrics/_classification.py:1344: UndefinedMetricWarning: Precision and F-score are ill-defined and being set to 0.0 in labels with no predicted samples. Use `zero_division` parameter to control this behavior.\n",
      "  _warn_prf(average, modifier, msg_start, len(result))\n",
      "/Users/julianhough/miniforge3/lib/python3.10/site-packages/sklearn/metrics/_classification.py:1344: UndefinedMetricWarning: Precision and F-score are ill-defined and being set to 0.0 in labels with no predicted samples. Use `zero_division` parameter to control this behavior.\n",
      "  _warn_prf(average, modifier, msg_start, len(result))\n"
     ]
    },
    {
     "name": "stdout",
     "output_type": "stream",
     "text": [
      "[3, 1, 1, 1, 0.5, 0.1, 0.0] 0.7076319357402638\n",
      "[3, 1, 1, 1, 0.5, 0.1, 0.05] 0.7746261715572584\n",
      "[3, 1, 1, 1, 0.5, 0.1, 0.1] 0.81081661426889\n",
      "[3, 1, 1, 1, 0.5, 0.1, 0.15] 0.818622850460027\n",
      "[3, 1, 1, 1, 0.5, 0.1, 0.2] 0.820386679855169\n",
      "[3, 1, 1, 1, 0.5, 0.1, 0.25] 0.8237881234690689\n",
      "[3, 1, 1, 1, 0.5, 0.1, 0.3] 0.8237274777849979\n"
     ]
    },
    {
     "name": "stderr",
     "output_type": "stream",
     "text": [
      "/Users/julianhough/miniforge3/lib/python3.10/site-packages/sklearn/metrics/_classification.py:1344: UndefinedMetricWarning: Precision and F-score are ill-defined and being set to 0.0 in labels with no predicted samples. Use `zero_division` parameter to control this behavior.\n",
      "  _warn_prf(average, modifier, msg_start, len(result))\n",
      "/Users/julianhough/miniforge3/lib/python3.10/site-packages/sklearn/metrics/_classification.py:1344: UndefinedMetricWarning: Precision and F-score are ill-defined and being set to 0.0 in labels with no predicted samples. Use `zero_division` parameter to control this behavior.\n",
      "  _warn_prf(average, modifier, msg_start, len(result))\n"
     ]
    },
    {
     "name": "stdout",
     "output_type": "stream",
     "text": [
      "[3, 1, 1, 2, 0.5, 0.1, 0.0] 0.7076319357402638\n",
      "[3, 1, 1, 2, 0.5, 0.1, 0.05] 0.7738892958119035\n",
      "[3, 1, 1, 2, 0.5, 0.1, 0.1] 0.8094051775289605\n",
      "[3, 1, 1, 2, 0.5, 0.1, 0.15] 0.8160890825681076\n",
      "[3, 1, 1, 2, 0.5, 0.1, 0.2] 0.8202193732968734\n",
      "[3, 1, 1, 2, 0.5, 0.1, 0.25] 0.8241029803154306\n",
      "[3, 1, 1, 2, 0.5, 0.1, 0.3] 0.824665648426007\n",
      "[3, 1, 1, 2, 0.5, 0.1, 0.35] 0.8275154606690529\n",
      "[3, 1, 1, 2, 0.5, 0.1, 0.4] 0.8277506733637455\n",
      "[3, 1, 1, 2, 0.5, 0.1, 0.45] 0.82625064173461\n"
     ]
    },
    {
     "name": "stderr",
     "output_type": "stream",
     "text": [
      "/Users/julianhough/miniforge3/lib/python3.10/site-packages/sklearn/metrics/_classification.py:1344: UndefinedMetricWarning: Precision and F-score are ill-defined and being set to 0.0 in labels with no predicted samples. Use `zero_division` parameter to control this behavior.\n",
      "  _warn_prf(average, modifier, msg_start, len(result))\n",
      "/Users/julianhough/miniforge3/lib/python3.10/site-packages/sklearn/metrics/_classification.py:1344: UndefinedMetricWarning: Precision and F-score are ill-defined and being set to 0.0 in labels with no predicted samples. Use `zero_division` parameter to control this behavior.\n",
      "  _warn_prf(average, modifier, msg_start, len(result))\n"
     ]
    },
    {
     "name": "stdout",
     "output_type": "stream",
     "text": [
      "[3, 1, 1, 3, 0.5, 0.1, 0.0] 0.7076319357402638\n",
      "[3, 1, 1, 3, 0.5, 0.1, 0.05] 0.771881113368193\n",
      "[3, 1, 1, 3, 0.5, 0.1, 0.1] 0.8087459909231426\n",
      "[3, 1, 1, 3, 0.5, 0.1, 0.15] 0.8178261781804232\n",
      "[3, 1, 1, 3, 0.5, 0.1, 0.2] 0.8185088758761052\n",
      "[3, 1, 1, 3, 0.5, 0.1, 0.25] 0.8209735913839975\n",
      "[3, 1, 1, 3, 0.5, 0.1, 0.3] 0.8250692690324218\n",
      "[3, 1, 1, 3, 0.5, 0.1, 0.35] 0.8259951355628347\n",
      "[3, 1, 1, 3, 0.5, 0.1, 0.4] 0.8234679915659092\n"
     ]
    },
    {
     "name": "stderr",
     "output_type": "stream",
     "text": [
      "/Users/julianhough/miniforge3/lib/python3.10/site-packages/sklearn/metrics/_classification.py:1344: UndefinedMetricWarning: Precision and F-score are ill-defined and being set to 0.0 in labels with no predicted samples. Use `zero_division` parameter to control this behavior.\n",
      "  _warn_prf(average, modifier, msg_start, len(result))\n",
      "/Users/julianhough/miniforge3/lib/python3.10/site-packages/sklearn/metrics/_classification.py:1344: UndefinedMetricWarning: Precision and F-score are ill-defined and being set to 0.0 in labels with no predicted samples. Use `zero_division` parameter to control this behavior.\n",
      "  _warn_prf(average, modifier, msg_start, len(result))\n"
     ]
    },
    {
     "name": "stdout",
     "output_type": "stream",
     "text": [
      "[3, 1, 1, 4, 0.5, 0.1, 0.0] 0.7076319357402638\n"
     ]
    },
    {
     "name": "stderr",
     "output_type": "stream",
     "text": [
      "/Users/julianhough/miniforge3/lib/python3.10/site-packages/sklearn/metrics/_classification.py:1344: UndefinedMetricWarning: Precision and F-score are ill-defined and being set to 0.0 in labels with no predicted samples. Use `zero_division` parameter to control this behavior.\n",
      "  _warn_prf(average, modifier, msg_start, len(result))\n"
     ]
    },
    {
     "name": "stdout",
     "output_type": "stream",
     "text": [
      "[3, 1, 1, 4, 0.5, 0.1, 0.05] 0.7710416955049837\n",
      "[3, 1, 1, 4, 0.5, 0.1, 0.1] 0.8045688620815322\n",
      "[3, 1, 1, 4, 0.5, 0.1, 0.15] 0.8164228785062416\n",
      "[3, 1, 1, 4, 0.5, 0.1, 0.2] 0.8186663138324043\n",
      "[3, 1, 1, 4, 0.5, 0.1, 0.25] 0.8206695536905739\n",
      "[3, 1, 1, 4, 0.5, 0.1, 0.3] 0.822922887210435\n",
      "[3, 1, 1, 4, 0.5, 0.1, 0.35] 0.8247367606189344\n",
      "[3, 1, 1, 4, 0.5, 0.1, 0.4] 0.8253457955096174\n",
      "[3, 1, 1, 4, 0.5, 0.1, 0.45] 0.8235356442237167\n"
     ]
    },
    {
     "name": "stderr",
     "output_type": "stream",
     "text": [
      "/Users/julianhough/miniforge3/lib/python3.10/site-packages/sklearn/metrics/_classification.py:1344: UndefinedMetricWarning: Precision and F-score are ill-defined and being set to 0.0 in labels with no predicted samples. Use `zero_division` parameter to control this behavior.\n",
      "  _warn_prf(average, modifier, msg_start, len(result))\n",
      "/Users/julianhough/miniforge3/lib/python3.10/site-packages/sklearn/metrics/_classification.py:1344: UndefinedMetricWarning: Precision and F-score are ill-defined and being set to 0.0 in labels with no predicted samples. Use `zero_division` parameter to control this behavior.\n",
      "  _warn_prf(average, modifier, msg_start, len(result))\n"
     ]
    },
    {
     "name": "stdout",
     "output_type": "stream",
     "text": [
      "[3, 1, 1, 5, 0.5, 0.1, 0.0] 0.7076319357402638\n"
     ]
    },
    {
     "name": "stderr",
     "output_type": "stream",
     "text": [
      "/Users/julianhough/miniforge3/lib/python3.10/site-packages/sklearn/metrics/_classification.py:1344: UndefinedMetricWarning: Precision and F-score are ill-defined and being set to 0.0 in labels with no predicted samples. Use `zero_division` parameter to control this behavior.\n",
      "  _warn_prf(average, modifier, msg_start, len(result))\n"
     ]
    },
    {
     "name": "stdout",
     "output_type": "stream",
     "text": [
      "[3, 1, 1, 5, 0.5, 0.1, 0.05] 0.7689347408975288\n",
      "[3, 1, 1, 5, 0.5, 0.1, 0.1] 0.8049796359224296\n",
      "[3, 1, 1, 5, 0.5, 0.1, 0.15] 0.8175141227928843\n",
      "[3, 1, 1, 5, 0.5, 0.1, 0.2] 0.8200621559124143\n",
      "[3, 1, 1, 5, 0.5, 0.1, 0.25] 0.8196360162647035\n"
     ]
    },
    {
     "name": "stderr",
     "output_type": "stream",
     "text": [
      "/Users/julianhough/miniforge3/lib/python3.10/site-packages/sklearn/metrics/_classification.py:1344: UndefinedMetricWarning: Precision and F-score are ill-defined and being set to 0.0 in labels with no predicted samples. Use `zero_division` parameter to control this behavior.\n",
      "  _warn_prf(average, modifier, msg_start, len(result))\n",
      "/Users/julianhough/miniforge3/lib/python3.10/site-packages/sklearn/metrics/_classification.py:1344: UndefinedMetricWarning: Precision and F-score are ill-defined and being set to 0.0 in labels with no predicted samples. Use `zero_division` parameter to control this behavior.\n",
      "  _warn_prf(average, modifier, msg_start, len(result))\n"
     ]
    },
    {
     "name": "stdout",
     "output_type": "stream",
     "text": [
      "[3, 1, 1, 6, 0.5, 0.1, 0.0] 0.7076319357402638\n"
     ]
    },
    {
     "name": "stderr",
     "output_type": "stream",
     "text": [
      "/Users/julianhough/miniforge3/lib/python3.10/site-packages/sklearn/metrics/_classification.py:1344: UndefinedMetricWarning: Precision and F-score are ill-defined and being set to 0.0 in labels with no predicted samples. Use `zero_division` parameter to control this behavior.\n",
      "  _warn_prf(average, modifier, msg_start, len(result))\n"
     ]
    },
    {
     "name": "stdout",
     "output_type": "stream",
     "text": [
      "[3, 1, 1, 6, 0.5, 0.1, 0.05] 0.7658381646750195\n",
      "[3, 1, 1, 6, 0.5, 0.1, 0.1] 0.7976264294290535\n",
      "[3, 1, 1, 6, 0.5, 0.1, 0.15] 0.8177640460339467\n",
      "[3, 1, 1, 6, 0.5, 0.1, 0.2] 0.8225677298861941\n",
      "[3, 1, 1, 6, 0.5, 0.1, 0.25] 0.8203889923616776\n"
     ]
    },
    {
     "name": "stderr",
     "output_type": "stream",
     "text": [
      "/Users/julianhough/miniforge3/lib/python3.10/site-packages/sklearn/metrics/_classification.py:1344: UndefinedMetricWarning: Precision and F-score are ill-defined and being set to 0.0 in labels with no predicted samples. Use `zero_division` parameter to control this behavior.\n",
      "  _warn_prf(average, modifier, msg_start, len(result))\n",
      "/Users/julianhough/miniforge3/lib/python3.10/site-packages/sklearn/metrics/_classification.py:1344: UndefinedMetricWarning: Precision and F-score are ill-defined and being set to 0.0 in labels with no predicted samples. Use `zero_division` parameter to control this behavior.\n",
      "  _warn_prf(average, modifier, msg_start, len(result))\n"
     ]
    },
    {
     "name": "stdout",
     "output_type": "stream",
     "text": [
      "[3, 1, 1, 7, 0.5, 0.1, 0.0] 0.7076319357402638\n"
     ]
    },
    {
     "name": "stderr",
     "output_type": "stream",
     "text": [
      "/Users/julianhough/miniforge3/lib/python3.10/site-packages/sklearn/metrics/_classification.py:1344: UndefinedMetricWarning: Precision and F-score are ill-defined and being set to 0.0 in labels with no predicted samples. Use `zero_division` parameter to control this behavior.\n",
      "  _warn_prf(average, modifier, msg_start, len(result))\n"
     ]
    },
    {
     "name": "stdout",
     "output_type": "stream",
     "text": [
      "[3, 1, 1, 7, 0.5, 0.1, 0.05] 0.7673809984738534\n",
      "[3, 1, 1, 7, 0.5, 0.1, 0.1] 0.7994233245107465\n",
      "[3, 1, 1, 7, 0.5, 0.1, 0.15] 0.8166246747534646\n",
      "[3, 1, 1, 7, 0.5, 0.1, 0.2] 0.8242668071234306\n",
      "[3, 1, 1, 7, 0.5, 0.1, 0.25] 0.8223298932397123\n"
     ]
    },
    {
     "name": "stderr",
     "output_type": "stream",
     "text": [
      "/Users/julianhough/miniforge3/lib/python3.10/site-packages/sklearn/metrics/_classification.py:1344: UndefinedMetricWarning: Precision and F-score are ill-defined and being set to 0.0 in labels with no predicted samples. Use `zero_division` parameter to control this behavior.\n",
      "  _warn_prf(average, modifier, msg_start, len(result))\n",
      "/Users/julianhough/miniforge3/lib/python3.10/site-packages/sklearn/metrics/_classification.py:1344: UndefinedMetricWarning: Precision and F-score are ill-defined and being set to 0.0 in labels with no predicted samples. Use `zero_division` parameter to control this behavior.\n",
      "  _warn_prf(average, modifier, msg_start, len(result))\n"
     ]
    },
    {
     "name": "stdout",
     "output_type": "stream",
     "text": [
      "[3, 1, 1, 8, 0.5, 0.1, 0.0] 0.7076319357402638\n"
     ]
    },
    {
     "name": "stderr",
     "output_type": "stream",
     "text": [
      "/Users/julianhough/miniforge3/lib/python3.10/site-packages/sklearn/metrics/_classification.py:1344: UndefinedMetricWarning: Precision and F-score are ill-defined and being set to 0.0 in labels with no predicted samples. Use `zero_division` parameter to control this behavior.\n",
      "  _warn_prf(average, modifier, msg_start, len(result))\n"
     ]
    },
    {
     "name": "stdout",
     "output_type": "stream",
     "text": [
      "[3, 1, 1, 8, 0.5, 0.1, 0.05] 0.7655337733983586\n",
      "[3, 1, 1, 8, 0.5, 0.1, 0.1] 0.7954708835288542\n",
      "[3, 1, 1, 8, 0.5, 0.1, 0.15] 0.812828539601994\n",
      "[3, 1, 1, 8, 0.5, 0.1, 0.2] 0.822730688961968\n",
      "[3, 1, 1, 8, 0.5, 0.1, 0.25] 0.8230924993013903\n",
      "[3, 1, 1, 8, 0.5, 0.1, 0.3] 0.8226817004673113\n"
     ]
    },
    {
     "name": "stderr",
     "output_type": "stream",
     "text": [
      "/Users/julianhough/miniforge3/lib/python3.10/site-packages/sklearn/metrics/_classification.py:1344: UndefinedMetricWarning: Precision and F-score are ill-defined and being set to 0.0 in labels with no predicted samples. Use `zero_division` parameter to control this behavior.\n",
      "  _warn_prf(average, modifier, msg_start, len(result))\n",
      "/Users/julianhough/miniforge3/lib/python3.10/site-packages/sklearn/metrics/_classification.py:1344: UndefinedMetricWarning: Precision and F-score are ill-defined and being set to 0.0 in labels with no predicted samples. Use `zero_division` parameter to control this behavior.\n",
      "  _warn_prf(average, modifier, msg_start, len(result))\n"
     ]
    },
    {
     "name": "stdout",
     "output_type": "stream",
     "text": [
      "[3, 1, 1, 9, 0.5, 0.1, 0.0] 0.7076319357402638\n"
     ]
    },
    {
     "name": "stderr",
     "output_type": "stream",
     "text": [
      "/Users/julianhough/miniforge3/lib/python3.10/site-packages/sklearn/metrics/_classification.py:1344: UndefinedMetricWarning: Precision and F-score are ill-defined and being set to 0.0 in labels with no predicted samples. Use `zero_division` parameter to control this behavior.\n",
      "  _warn_prf(average, modifier, msg_start, len(result))\n"
     ]
    },
    {
     "name": "stdout",
     "output_type": "stream",
     "text": [
      "[3, 1, 1, 9, 0.5, 0.1, 0.05] 0.7640804471845349\n",
      "[3, 1, 1, 9, 0.5, 0.1, 0.1] 0.7921994117545984\n",
      "[3, 1, 1, 9, 0.5, 0.1, 0.15] 0.8128719408788697\n",
      "[3, 1, 1, 9, 0.5, 0.1, 0.2] 0.8204719704094804\n",
      "[3, 1, 1, 9, 0.5, 0.1, 0.25] 0.8246078883576271\n",
      "[3, 1, 1, 9, 0.5, 0.1, 0.3] 0.8253904608260578\n",
      "[3, 1, 1, 9, 0.5, 0.1, 0.35] 0.8234311874025554\n"
     ]
    },
    {
     "name": "stderr",
     "output_type": "stream",
     "text": [
      "/Users/julianhough/miniforge3/lib/python3.10/site-packages/sklearn/metrics/_classification.py:1344: UndefinedMetricWarning: Precision and F-score are ill-defined and being set to 0.0 in labels with no predicted samples. Use `zero_division` parameter to control this behavior.\n",
      "  _warn_prf(average, modifier, msg_start, len(result))\n",
      "/Users/julianhough/miniforge3/lib/python3.10/site-packages/sklearn/metrics/_classification.py:1344: UndefinedMetricWarning: Precision and F-score are ill-defined and being set to 0.0 in labels with no predicted samples. Use `zero_division` parameter to control this behavior.\n",
      "  _warn_prf(average, modifier, msg_start, len(result))\n"
     ]
    },
    {
     "name": "stdout",
     "output_type": "stream",
     "text": [
      "[3, 1, 1, 10, 0.5, 0.1, 0.0] 0.7076319357402638\n"
     ]
    },
    {
     "name": "stderr",
     "output_type": "stream",
     "text": [
      "/Users/julianhough/miniforge3/lib/python3.10/site-packages/sklearn/metrics/_classification.py:1344: UndefinedMetricWarning: Precision and F-score are ill-defined and being set to 0.0 in labels with no predicted samples. Use `zero_division` parameter to control this behavior.\n",
      "  _warn_prf(average, modifier, msg_start, len(result))\n"
     ]
    },
    {
     "name": "stdout",
     "output_type": "stream",
     "text": [
      "[3, 1, 1, 10, 0.5, 0.1, 0.05] 0.7634169808095785\n",
      "[3, 1, 1, 10, 0.5, 0.1, 0.1] 0.7918546582531544\n",
      "[3, 1, 1, 10, 0.5, 0.1, 0.15] 0.8090312707984882\n",
      "[3, 1, 1, 10, 0.5, 0.1, 0.2] 0.8196139951533258\n",
      "[3, 1, 1, 10, 0.5, 0.1, 0.25] 0.8230004263846281\n",
      "[3, 1, 1, 10, 0.5, 0.1, 0.3] 0.8249667968471541\n",
      "[3, 1, 1, 10, 0.5, 0.1, 0.35] 0.8246226412226577\n"
     ]
    },
    {
     "name": "stderr",
     "output_type": "stream",
     "text": [
      "/Users/julianhough/miniforge3/lib/python3.10/site-packages/sklearn/metrics/_classification.py:1344: UndefinedMetricWarning: Precision and F-score are ill-defined and being set to 0.0 in labels with no predicted samples. Use `zero_division` parameter to control this behavior.\n",
      "  _warn_prf(average, modifier, msg_start, len(result))\n",
      "/Users/julianhough/miniforge3/lib/python3.10/site-packages/sklearn/metrics/_classification.py:1344: UndefinedMetricWarning: Precision and F-score are ill-defined and being set to 0.0 in labels with no predicted samples. Use `zero_division` parameter to control this behavior.\n",
      "  _warn_prf(average, modifier, msg_start, len(result))\n"
     ]
    },
    {
     "name": "stdout",
     "output_type": "stream",
     "text": [
      "[3, 1, 1, 1, 0.55, 0.1, 0.0] 0.7076319357402638\n",
      "[3, 1, 1, 1, 0.55, 0.1, 0.05] 0.7733120604792125\n",
      "[3, 1, 1, 1, 0.55, 0.1, 0.1] 0.8100397388820627\n",
      "[3, 1, 1, 1, 0.55, 0.1, 0.15] 0.8174400609725605\n",
      "[3, 1, 1, 1, 0.55, 0.1, 0.2] 0.8190307681068555\n",
      "[3, 1, 1, 1, 0.55, 0.1, 0.25] 0.8231002626662596\n",
      "[3, 1, 1, 1, 0.55, 0.1, 0.3] 0.8231536917128913\n",
      "[3, 1, 1, 1, 0.55, 0.1, 0.35] 0.826063043449614\n",
      "[3, 1, 1, 1, 0.55, 0.1, 0.4] 0.8236800825989246\n"
     ]
    },
    {
     "name": "stderr",
     "output_type": "stream",
     "text": [
      "/Users/julianhough/miniforge3/lib/python3.10/site-packages/sklearn/metrics/_classification.py:1344: UndefinedMetricWarning: Precision and F-score are ill-defined and being set to 0.0 in labels with no predicted samples. Use `zero_division` parameter to control this behavior.\n",
      "  _warn_prf(average, modifier, msg_start, len(result))\n",
      "/Users/julianhough/miniforge3/lib/python3.10/site-packages/sklearn/metrics/_classification.py:1344: UndefinedMetricWarning: Precision and F-score are ill-defined and being set to 0.0 in labels with no predicted samples. Use `zero_division` parameter to control this behavior.\n",
      "  _warn_prf(average, modifier, msg_start, len(result))\n"
     ]
    },
    {
     "name": "stdout",
     "output_type": "stream",
     "text": [
      "[3, 1, 1, 2, 0.55, 0.1, 0.0] 0.7076319357402638\n",
      "[3, 1, 1, 2, 0.55, 0.1, 0.05] 0.771916679772991\n",
      "[3, 1, 1, 2, 0.55, 0.1, 0.1] 0.8082507558605859\n",
      "[3, 1, 1, 2, 0.55, 0.1, 0.15] 0.8159037814926681\n",
      "[3, 1, 1, 2, 0.55, 0.1, 0.2] 0.8205557976496365\n",
      "[3, 1, 1, 2, 0.55, 0.1, 0.25] 0.8209655982012002\n",
      "[3, 1, 1, 2, 0.55, 0.1, 0.3] 0.8254975405475923\n",
      "[3, 1, 1, 2, 0.55, 0.1, 0.35] 0.8279754747167372\n",
      "[3, 1, 1, 2, 0.55, 0.1, 0.4] 0.8287928035480132\n",
      "[3, 1, 1, 2, 0.55, 0.1, 0.45] 0.8282610628019283\n"
     ]
    },
    {
     "name": "stderr",
     "output_type": "stream",
     "text": [
      "/Users/julianhough/miniforge3/lib/python3.10/site-packages/sklearn/metrics/_classification.py:1344: UndefinedMetricWarning: Precision and F-score are ill-defined and being set to 0.0 in labels with no predicted samples. Use `zero_division` parameter to control this behavior.\n",
      "  _warn_prf(average, modifier, msg_start, len(result))\n",
      "/Users/julianhough/miniforge3/lib/python3.10/site-packages/sklearn/metrics/_classification.py:1344: UndefinedMetricWarning: Precision and F-score are ill-defined and being set to 0.0 in labels with no predicted samples. Use `zero_division` parameter to control this behavior.\n",
      "  _warn_prf(average, modifier, msg_start, len(result))\n"
     ]
    },
    {
     "name": "stdout",
     "output_type": "stream",
     "text": [
      "[3, 1, 1, 3, 0.55, 0.1, 0.0] 0.7076319357402638\n"
     ]
    },
    {
     "name": "stderr",
     "output_type": "stream",
     "text": [
      "/Users/julianhough/miniforge3/lib/python3.10/site-packages/sklearn/metrics/_classification.py:1344: UndefinedMetricWarning: Precision and F-score are ill-defined and being set to 0.0 in labels with no predicted samples. Use `zero_division` parameter to control this behavior.\n",
      "  _warn_prf(average, modifier, msg_start, len(result))\n"
     ]
    },
    {
     "name": "stdout",
     "output_type": "stream",
     "text": [
      "[3, 1, 1, 3, 0.55, 0.1, 0.05] 0.769226196081668\n",
      "[3, 1, 1, 3, 0.55, 0.1, 0.1] 0.8054849847690905\n",
      "[3, 1, 1, 3, 0.55, 0.1, 0.15] 0.8167569091181204\n",
      "[3, 1, 1, 3, 0.55, 0.1, 0.2] 0.8209677861565176\n",
      "[3, 1, 1, 3, 0.55, 0.1, 0.25] 0.8192364448650526\n"
     ]
    },
    {
     "name": "stderr",
     "output_type": "stream",
     "text": [
      "/Users/julianhough/miniforge3/lib/python3.10/site-packages/sklearn/metrics/_classification.py:1344: UndefinedMetricWarning: Precision and F-score are ill-defined and being set to 0.0 in labels with no predicted samples. Use `zero_division` parameter to control this behavior.\n",
      "  _warn_prf(average, modifier, msg_start, len(result))\n",
      "/Users/julianhough/miniforge3/lib/python3.10/site-packages/sklearn/metrics/_classification.py:1344: UndefinedMetricWarning: Precision and F-score are ill-defined and being set to 0.0 in labels with no predicted samples. Use `zero_division` parameter to control this behavior.\n",
      "  _warn_prf(average, modifier, msg_start, len(result))\n"
     ]
    },
    {
     "name": "stdout",
     "output_type": "stream",
     "text": [
      "[3, 1, 1, 4, 0.55, 0.1, 0.0] 0.7076319357402638\n"
     ]
    },
    {
     "name": "stderr",
     "output_type": "stream",
     "text": [
      "/Users/julianhough/miniforge3/lib/python3.10/site-packages/sklearn/metrics/_classification.py:1344: UndefinedMetricWarning: Precision and F-score are ill-defined and being set to 0.0 in labels with no predicted samples. Use `zero_division` parameter to control this behavior.\n",
      "  _warn_prf(average, modifier, msg_start, len(result))\n"
     ]
    },
    {
     "name": "stdout",
     "output_type": "stream",
     "text": [
      "[3, 1, 1, 4, 0.55, 0.1, 0.05] 0.7688498808546702\n",
      "[3, 1, 1, 4, 0.55, 0.1, 0.1] 0.8027091809889987\n",
      "[3, 1, 1, 4, 0.55, 0.1, 0.15] 0.8172580926673184\n",
      "[3, 1, 1, 4, 0.55, 0.1, 0.2] 0.8186177981995565\n",
      "[3, 1, 1, 4, 0.55, 0.1, 0.25] 0.8199821744614848\n",
      "[3, 1, 1, 4, 0.55, 0.1, 0.3] 0.823863797078736\n",
      "[3, 1, 1, 4, 0.55, 0.1, 0.35] 0.8246342226122924\n",
      "[3, 1, 1, 4, 0.55, 0.1, 0.4] 0.8252032558933935\n",
      "[3, 1, 1, 4, 0.55, 0.1, 0.45] 0.8238176667096619\n"
     ]
    },
    {
     "name": "stderr",
     "output_type": "stream",
     "text": [
      "/Users/julianhough/miniforge3/lib/python3.10/site-packages/sklearn/metrics/_classification.py:1344: UndefinedMetricWarning: Precision and F-score are ill-defined and being set to 0.0 in labels with no predicted samples. Use `zero_division` parameter to control this behavior.\n",
      "  _warn_prf(average, modifier, msg_start, len(result))\n",
      "/Users/julianhough/miniforge3/lib/python3.10/site-packages/sklearn/metrics/_classification.py:1344: UndefinedMetricWarning: Precision and F-score are ill-defined and being set to 0.0 in labels with no predicted samples. Use `zero_division` parameter to control this behavior.\n",
      "  _warn_prf(average, modifier, msg_start, len(result))\n"
     ]
    },
    {
     "name": "stdout",
     "output_type": "stream",
     "text": [
      "[3, 1, 1, 5, 0.55, 0.1, 0.0] 0.7076319357402638\n"
     ]
    },
    {
     "name": "stderr",
     "output_type": "stream",
     "text": [
      "/Users/julianhough/miniforge3/lib/python3.10/site-packages/sklearn/metrics/_classification.py:1344: UndefinedMetricWarning: Precision and F-score are ill-defined and being set to 0.0 in labels with no predicted samples. Use `zero_division` parameter to control this behavior.\n",
      "  _warn_prf(average, modifier, msg_start, len(result))\n"
     ]
    },
    {
     "name": "stdout",
     "output_type": "stream",
     "text": [
      "[3, 1, 1, 5, 0.55, 0.1, 0.05] 0.7680126512179336\n",
      "[3, 1, 1, 5, 0.55, 0.1, 0.1] 0.8028257438053383\n",
      "[3, 1, 1, 5, 0.55, 0.1, 0.15] 0.8156024623571926\n",
      "[3, 1, 1, 5, 0.55, 0.1, 0.2] 0.8203543088840787\n",
      "[3, 1, 1, 5, 0.55, 0.1, 0.25] 0.8178044803727251\n"
     ]
    },
    {
     "name": "stderr",
     "output_type": "stream",
     "text": [
      "/Users/julianhough/miniforge3/lib/python3.10/site-packages/sklearn/metrics/_classification.py:1344: UndefinedMetricWarning: Precision and F-score are ill-defined and being set to 0.0 in labels with no predicted samples. Use `zero_division` parameter to control this behavior.\n",
      "  _warn_prf(average, modifier, msg_start, len(result))\n",
      "/Users/julianhough/miniforge3/lib/python3.10/site-packages/sklearn/metrics/_classification.py:1344: UndefinedMetricWarning: Precision and F-score are ill-defined and being set to 0.0 in labels with no predicted samples. Use `zero_division` parameter to control this behavior.\n",
      "  _warn_prf(average, modifier, msg_start, len(result))\n"
     ]
    },
    {
     "name": "stdout",
     "output_type": "stream",
     "text": [
      "[3, 1, 1, 6, 0.55, 0.1, 0.0] 0.7076319357402638\n"
     ]
    },
    {
     "name": "stderr",
     "output_type": "stream",
     "text": [
      "/Users/julianhough/miniforge3/lib/python3.10/site-packages/sklearn/metrics/_classification.py:1344: UndefinedMetricWarning: Precision and F-score are ill-defined and being set to 0.0 in labels with no predicted samples. Use `zero_division` parameter to control this behavior.\n",
      "  _warn_prf(average, modifier, msg_start, len(result))\n"
     ]
    },
    {
     "name": "stdout",
     "output_type": "stream",
     "text": [
      "[3, 1, 1, 6, 0.55, 0.1, 0.05] 0.7660770900711505\n",
      "[3, 1, 1, 6, 0.55, 0.1, 0.1] 0.7921605636320072\n",
      "[3, 1, 1, 6, 0.55, 0.1, 0.15] 0.8161236210424752\n",
      "[3, 1, 1, 6, 0.55, 0.1, 0.2] 0.8211603991004198\n",
      "[3, 1, 1, 6, 0.55, 0.1, 0.25] 0.8200966831269455\n"
     ]
    },
    {
     "name": "stderr",
     "output_type": "stream",
     "text": [
      "/Users/julianhough/miniforge3/lib/python3.10/site-packages/sklearn/metrics/_classification.py:1344: UndefinedMetricWarning: Precision and F-score are ill-defined and being set to 0.0 in labels with no predicted samples. Use `zero_division` parameter to control this behavior.\n",
      "  _warn_prf(average, modifier, msg_start, len(result))\n",
      "/Users/julianhough/miniforge3/lib/python3.10/site-packages/sklearn/metrics/_classification.py:1344: UndefinedMetricWarning: Precision and F-score are ill-defined and being set to 0.0 in labels with no predicted samples. Use `zero_division` parameter to control this behavior.\n",
      "  _warn_prf(average, modifier, msg_start, len(result))\n"
     ]
    },
    {
     "name": "stdout",
     "output_type": "stream",
     "text": [
      "[3, 1, 1, 7, 0.55, 0.1, 0.0] 0.7076319357402638\n"
     ]
    },
    {
     "name": "stderr",
     "output_type": "stream",
     "text": [
      "/Users/julianhough/miniforge3/lib/python3.10/site-packages/sklearn/metrics/_classification.py:1344: UndefinedMetricWarning: Precision and F-score are ill-defined and being set to 0.0 in labels with no predicted samples. Use `zero_division` parameter to control this behavior.\n",
      "  _warn_prf(average, modifier, msg_start, len(result))\n"
     ]
    },
    {
     "name": "stdout",
     "output_type": "stream",
     "text": [
      "[3, 1, 1, 7, 0.55, 0.1, 0.05] 0.7653947564368483\n",
      "[3, 1, 1, 7, 0.55, 0.1, 0.1] 0.7905994207220152\n",
      "[3, 1, 1, 7, 0.55, 0.1, 0.15] 0.8143272054612887\n",
      "[3, 1, 1, 7, 0.55, 0.1, 0.2] 0.8226207897983338\n",
      "[3, 1, 1, 7, 0.55, 0.1, 0.25] 0.8229868977998301\n",
      "[3, 1, 1, 7, 0.55, 0.1, 0.3] 0.8248098915431549\n",
      "[3, 1, 1, 7, 0.55, 0.1, 0.35] 0.8227790282121352\n"
     ]
    },
    {
     "name": "stderr",
     "output_type": "stream",
     "text": [
      "/Users/julianhough/miniforge3/lib/python3.10/site-packages/sklearn/metrics/_classification.py:1344: UndefinedMetricWarning: Precision and F-score are ill-defined and being set to 0.0 in labels with no predicted samples. Use `zero_division` parameter to control this behavior.\n",
      "  _warn_prf(average, modifier, msg_start, len(result))\n",
      "/Users/julianhough/miniforge3/lib/python3.10/site-packages/sklearn/metrics/_classification.py:1344: UndefinedMetricWarning: Precision and F-score are ill-defined and being set to 0.0 in labels with no predicted samples. Use `zero_division` parameter to control this behavior.\n",
      "  _warn_prf(average, modifier, msg_start, len(result))\n"
     ]
    },
    {
     "name": "stdout",
     "output_type": "stream",
     "text": [
      "[3, 1, 1, 8, 0.55, 0.1, 0.0] 0.7076319357402638\n"
     ]
    },
    {
     "name": "stderr",
     "output_type": "stream",
     "text": [
      "/Users/julianhough/miniforge3/lib/python3.10/site-packages/sklearn/metrics/_classification.py:1344: UndefinedMetricWarning: Precision and F-score are ill-defined and being set to 0.0 in labels with no predicted samples. Use `zero_division` parameter to control this behavior.\n",
      "  _warn_prf(average, modifier, msg_start, len(result))\n"
     ]
    },
    {
     "name": "stdout",
     "output_type": "stream",
     "text": [
      "[3, 1, 1, 8, 0.55, 0.1, 0.05] 0.7644977376152299\n",
      "[3, 1, 1, 8, 0.55, 0.1, 0.1] 0.7888766450224646\n",
      "[3, 1, 1, 8, 0.55, 0.1, 0.15] 0.8129826218164207\n",
      "[3, 1, 1, 8, 0.55, 0.1, 0.2] 0.8220136326670385\n",
      "[3, 1, 1, 8, 0.55, 0.1, 0.25] 0.8248155969722556\n",
      "[3, 1, 1, 8, 0.55, 0.1, 0.3] 0.8247637470369545\n"
     ]
    },
    {
     "name": "stderr",
     "output_type": "stream",
     "text": [
      "/Users/julianhough/miniforge3/lib/python3.10/site-packages/sklearn/metrics/_classification.py:1344: UndefinedMetricWarning: Precision and F-score are ill-defined and being set to 0.0 in labels with no predicted samples. Use `zero_division` parameter to control this behavior.\n",
      "  _warn_prf(average, modifier, msg_start, len(result))\n",
      "/Users/julianhough/miniforge3/lib/python3.10/site-packages/sklearn/metrics/_classification.py:1344: UndefinedMetricWarning: Precision and F-score are ill-defined and being set to 0.0 in labels with no predicted samples. Use `zero_division` parameter to control this behavior.\n",
      "  _warn_prf(average, modifier, msg_start, len(result))\n"
     ]
    },
    {
     "name": "stdout",
     "output_type": "stream",
     "text": [
      "[3, 1, 1, 9, 0.55, 0.1, 0.0] 0.7076319357402638\n"
     ]
    },
    {
     "name": "stderr",
     "output_type": "stream",
     "text": [
      "/Users/julianhough/miniforge3/lib/python3.10/site-packages/sklearn/metrics/_classification.py:1344: UndefinedMetricWarning: Precision and F-score are ill-defined and being set to 0.0 in labels with no predicted samples. Use `zero_division` parameter to control this behavior.\n",
      "  _warn_prf(average, modifier, msg_start, len(result))\n"
     ]
    },
    {
     "name": "stdout",
     "output_type": "stream",
     "text": [
      "[3, 1, 1, 9, 0.55, 0.1, 0.05] 0.7630392969523457\n"
     ]
    },
    {
     "name": "stderr",
     "output_type": "stream",
     "text": [
      "/Users/julianhough/miniforge3/lib/python3.10/site-packages/sklearn/metrics/_classification.py:1344: UndefinedMetricWarning: Precision and F-score are ill-defined and being set to 0.0 in labels with no predicted samples. Use `zero_division` parameter to control this behavior.\n",
      "  _warn_prf(average, modifier, msg_start, len(result))\n"
     ]
    },
    {
     "name": "stdout",
     "output_type": "stream",
     "text": [
      "[3, 1, 1, 9, 0.55, 0.1, 0.1] 0.7853307968292674\n",
      "[3, 1, 1, 9, 0.55, 0.1, 0.15] 0.8124162555719786\n",
      "[3, 1, 1, 9, 0.55, 0.1, 0.2] 0.820845848270482\n",
      "[3, 1, 1, 9, 0.55, 0.1, 0.25] 0.8244622586541629\n",
      "[3, 1, 1, 9, 0.55, 0.1, 0.3] 0.8260207965472016\n",
      "[3, 1, 1, 9, 0.55, 0.1, 0.35] 0.8248710149608213\n"
     ]
    },
    {
     "name": "stderr",
     "output_type": "stream",
     "text": [
      "/Users/julianhough/miniforge3/lib/python3.10/site-packages/sklearn/metrics/_classification.py:1344: UndefinedMetricWarning: Precision and F-score are ill-defined and being set to 0.0 in labels with no predicted samples. Use `zero_division` parameter to control this behavior.\n",
      "  _warn_prf(average, modifier, msg_start, len(result))\n",
      "/Users/julianhough/miniforge3/lib/python3.10/site-packages/sklearn/metrics/_classification.py:1344: UndefinedMetricWarning: Precision and F-score are ill-defined and being set to 0.0 in labels with no predicted samples. Use `zero_division` parameter to control this behavior.\n",
      "  _warn_prf(average, modifier, msg_start, len(result))\n"
     ]
    },
    {
     "name": "stdout",
     "output_type": "stream",
     "text": [
      "[3, 1, 1, 10, 0.55, 0.1, 0.0] 0.7076319357402638\n"
     ]
    },
    {
     "name": "stderr",
     "output_type": "stream",
     "text": [
      "/Users/julianhough/miniforge3/lib/python3.10/site-packages/sklearn/metrics/_classification.py:1344: UndefinedMetricWarning: Precision and F-score are ill-defined and being set to 0.0 in labels with no predicted samples. Use `zero_division` parameter to control this behavior.\n",
      "  _warn_prf(average, modifier, msg_start, len(result))\n"
     ]
    },
    {
     "name": "stdout",
     "output_type": "stream",
     "text": [
      "[3, 1, 1, 10, 0.55, 0.1, 0.05] 0.7632543561457191\n"
     ]
    },
    {
     "name": "stderr",
     "output_type": "stream",
     "text": [
      "/Users/julianhough/miniforge3/lib/python3.10/site-packages/sklearn/metrics/_classification.py:1344: UndefinedMetricWarning: Precision and F-score are ill-defined and being set to 0.0 in labels with no predicted samples. Use `zero_division` parameter to control this behavior.\n",
      "  _warn_prf(average, modifier, msg_start, len(result))\n"
     ]
    },
    {
     "name": "stdout",
     "output_type": "stream",
     "text": [
      "[3, 1, 1, 10, 0.55, 0.1, 0.1] 0.783931612089484\n",
      "[3, 1, 1, 10, 0.55, 0.1, 0.15] 0.8081217537100519\n",
      "[3, 1, 1, 10, 0.55, 0.1, 0.2] 0.8188306765216001\n",
      "[3, 1, 1, 10, 0.55, 0.1, 0.25] 0.8243043546807737\n",
      "[3, 1, 1, 10, 0.55, 0.1, 0.3] 0.8250040592530504\n",
      "[3, 1, 1, 10, 0.55, 0.1, 0.35] 0.8255545534134099\n",
      "[3, 1, 1, 10, 0.55, 0.1, 0.4] 0.8275688713150153\n",
      "[3, 1, 1, 10, 0.55, 0.1, 0.45] 0.828552228287496\n",
      "[3, 1, 1, 10, 0.55, 0.1, 0.5] 0.8263323264789889\n"
     ]
    },
    {
     "name": "stderr",
     "output_type": "stream",
     "text": [
      "/Users/julianhough/miniforge3/lib/python3.10/site-packages/sklearn/metrics/_classification.py:1344: UndefinedMetricWarning: Precision and F-score are ill-defined and being set to 0.0 in labels with no predicted samples. Use `zero_division` parameter to control this behavior.\n",
      "  _warn_prf(average, modifier, msg_start, len(result))\n",
      "/Users/julianhough/miniforge3/lib/python3.10/site-packages/sklearn/metrics/_classification.py:1344: UndefinedMetricWarning: Precision and F-score are ill-defined and being set to 0.0 in labels with no predicted samples. Use `zero_division` parameter to control this behavior.\n",
      "  _warn_prf(average, modifier, msg_start, len(result))\n"
     ]
    },
    {
     "name": "stdout",
     "output_type": "stream",
     "text": [
      "[3, 1, 1, 1, 0.6, 0.1, 0.0] 0.7078822101345905\n",
      "[3, 1, 1, 1, 0.6, 0.1, 0.05] 0.7720044617459969\n",
      "[3, 1, 1, 1, 0.6, 0.1, 0.1] 0.8102263281208578\n",
      "[3, 1, 1, 1, 0.6, 0.1, 0.15] 0.8183137099782375\n",
      "[3, 1, 1, 1, 0.6, 0.1, 0.2] 0.8189113330868013\n",
      "[3, 1, 1, 1, 0.6, 0.1, 0.25] 0.8221520328987716\n",
      "[3, 1, 1, 1, 0.6, 0.1, 0.3] 0.8239093217534619\n",
      "[3, 1, 1, 1, 0.6, 0.1, 0.35] 0.8278133638578936\n",
      "[3, 1, 1, 1, 0.6, 0.1, 0.4] 0.8267047065349243\n"
     ]
    },
    {
     "name": "stderr",
     "output_type": "stream",
     "text": [
      "/Users/julianhough/miniforge3/lib/python3.10/site-packages/sklearn/metrics/_classification.py:1344: UndefinedMetricWarning: Precision and F-score are ill-defined and being set to 0.0 in labels with no predicted samples. Use `zero_division` parameter to control this behavior.\n",
      "  _warn_prf(average, modifier, msg_start, len(result))\n",
      "/Users/julianhough/miniforge3/lib/python3.10/site-packages/sklearn/metrics/_classification.py:1344: UndefinedMetricWarning: Precision and F-score are ill-defined and being set to 0.0 in labels with no predicted samples. Use `zero_division` parameter to control this behavior.\n",
      "  _warn_prf(average, modifier, msg_start, len(result))\n"
     ]
    },
    {
     "name": "stdout",
     "output_type": "stream",
     "text": [
      "[3, 1, 1, 2, 0.6, 0.1, 0.0] 0.7078822101345905\n",
      "[3, 1, 1, 2, 0.6, 0.1, 0.05] 0.7721485359538821\n",
      "[3, 1, 1, 2, 0.6, 0.1, 0.1] 0.8086696273609318\n",
      "[3, 1, 1, 2, 0.6, 0.1, 0.15] 0.8153209565034468\n",
      "[3, 1, 1, 2, 0.6, 0.1, 0.2] 0.820925312893195\n",
      "[3, 1, 1, 2, 0.6, 0.1, 0.25] 0.8217789054521478\n",
      "[3, 1, 1, 2, 0.6, 0.1, 0.3] 0.8285385533390842\n",
      "[3, 1, 1, 2, 0.6, 0.1, 0.35] 0.8300249755404023\n",
      "[3, 1, 1, 2, 0.6, 0.1, 0.4] 0.830245697841388\n",
      "[3, 1, 1, 2, 0.6, 0.1, 0.45] 0.8292854062350807\n"
     ]
    },
    {
     "name": "stderr",
     "output_type": "stream",
     "text": [
      "/Users/julianhough/miniforge3/lib/python3.10/site-packages/sklearn/metrics/_classification.py:1344: UndefinedMetricWarning: Precision and F-score are ill-defined and being set to 0.0 in labels with no predicted samples. Use `zero_division` parameter to control this behavior.\n",
      "  _warn_prf(average, modifier, msg_start, len(result))\n",
      "/Users/julianhough/miniforge3/lib/python3.10/site-packages/sklearn/metrics/_classification.py:1344: UndefinedMetricWarning: Precision and F-score are ill-defined and being set to 0.0 in labels with no predicted samples. Use `zero_division` parameter to control this behavior.\n",
      "  _warn_prf(average, modifier, msg_start, len(result))\n"
     ]
    },
    {
     "name": "stdout",
     "output_type": "stream",
     "text": [
      "[3, 1, 1, 3, 0.6, 0.1, 0.0] 0.7078822101345905\n"
     ]
    },
    {
     "name": "stderr",
     "output_type": "stream",
     "text": [
      "/Users/julianhough/miniforge3/lib/python3.10/site-packages/sklearn/metrics/_classification.py:1344: UndefinedMetricWarning: Precision and F-score are ill-defined and being set to 0.0 in labels with no predicted samples. Use `zero_division` parameter to control this behavior.\n",
      "  _warn_prf(average, modifier, msg_start, len(result))\n"
     ]
    },
    {
     "name": "stdout",
     "output_type": "stream",
     "text": [
      "[3, 1, 1, 3, 0.6, 0.1, 0.05] 0.7696126488945457\n",
      "[3, 1, 1, 3, 0.6, 0.1, 0.1] 0.8027412283971954\n",
      "[3, 1, 1, 3, 0.6, 0.1, 0.15] 0.8173181275341008\n",
      "[3, 1, 1, 3, 0.6, 0.1, 0.2] 0.8221647957071735\n",
      "[3, 1, 1, 3, 0.6, 0.1, 0.25] 0.8220816969325452\n"
     ]
    },
    {
     "name": "stderr",
     "output_type": "stream",
     "text": [
      "/Users/julianhough/miniforge3/lib/python3.10/site-packages/sklearn/metrics/_classification.py:1344: UndefinedMetricWarning: Precision and F-score are ill-defined and being set to 0.0 in labels with no predicted samples. Use `zero_division` parameter to control this behavior.\n",
      "  _warn_prf(average, modifier, msg_start, len(result))\n",
      "/Users/julianhough/miniforge3/lib/python3.10/site-packages/sklearn/metrics/_classification.py:1344: UndefinedMetricWarning: Precision and F-score are ill-defined and being set to 0.0 in labels with no predicted samples. Use `zero_division` parameter to control this behavior.\n",
      "  _warn_prf(average, modifier, msg_start, len(result))\n"
     ]
    },
    {
     "name": "stdout",
     "output_type": "stream",
     "text": [
      "[3, 1, 1, 4, 0.6, 0.1, 0.0] 0.7078822101345905\n"
     ]
    },
    {
     "name": "stderr",
     "output_type": "stream",
     "text": [
      "/Users/julianhough/miniforge3/lib/python3.10/site-packages/sklearn/metrics/_classification.py:1344: UndefinedMetricWarning: Precision and F-score are ill-defined and being set to 0.0 in labels with no predicted samples. Use `zero_division` parameter to control this behavior.\n",
      "  _warn_prf(average, modifier, msg_start, len(result))\n"
     ]
    },
    {
     "name": "stdout",
     "output_type": "stream",
     "text": [
      "[3, 1, 1, 4, 0.6, 0.1, 0.05] 0.7689648846169838\n",
      "[3, 1, 1, 4, 0.6, 0.1, 0.1] 0.8020661896022266\n",
      "[3, 1, 1, 4, 0.6, 0.1, 0.15] 0.8159677931681666\n",
      "[3, 1, 1, 4, 0.6, 0.1, 0.2] 0.8186003762512406\n",
      "[3, 1, 1, 4, 0.6, 0.1, 0.25] 0.81911978058402\n",
      "[3, 1, 1, 4, 0.6, 0.1, 0.3] 0.822347135029881\n",
      "[3, 1, 1, 4, 0.6, 0.1, 0.35] 0.8237442764586834\n",
      "[3, 1, 1, 4, 0.6, 0.1, 0.4] 0.8271444952471605\n",
      "[3, 1, 1, 4, 0.6, 0.1, 0.45] 0.8259084625830516\n"
     ]
    },
    {
     "name": "stderr",
     "output_type": "stream",
     "text": [
      "/Users/julianhough/miniforge3/lib/python3.10/site-packages/sklearn/metrics/_classification.py:1344: UndefinedMetricWarning: Precision and F-score are ill-defined and being set to 0.0 in labels with no predicted samples. Use `zero_division` parameter to control this behavior.\n",
      "  _warn_prf(average, modifier, msg_start, len(result))\n",
      "/Users/julianhough/miniforge3/lib/python3.10/site-packages/sklearn/metrics/_classification.py:1344: UndefinedMetricWarning: Precision and F-score are ill-defined and being set to 0.0 in labels with no predicted samples. Use `zero_division` parameter to control this behavior.\n",
      "  _warn_prf(average, modifier, msg_start, len(result))\n"
     ]
    },
    {
     "name": "stdout",
     "output_type": "stream",
     "text": [
      "[3, 1, 1, 5, 0.6, 0.1, 0.0] 0.7078822101345905\n"
     ]
    },
    {
     "name": "stderr",
     "output_type": "stream",
     "text": [
      "/Users/julianhough/miniforge3/lib/python3.10/site-packages/sklearn/metrics/_classification.py:1344: UndefinedMetricWarning: Precision and F-score are ill-defined and being set to 0.0 in labels with no predicted samples. Use `zero_division` parameter to control this behavior.\n",
      "  _warn_prf(average, modifier, msg_start, len(result))\n"
     ]
    },
    {
     "name": "stdout",
     "output_type": "stream",
     "text": [
      "[3, 1, 1, 5, 0.6, 0.1, 0.05] 0.766305421087491\n",
      "[3, 1, 1, 5, 0.6, 0.1, 0.1] 0.7989275438857389\n",
      "[3, 1, 1, 5, 0.6, 0.1, 0.15] 0.8157228748341406\n",
      "[3, 1, 1, 5, 0.6, 0.1, 0.2] 0.8199460087923877\n",
      "[3, 1, 1, 5, 0.6, 0.1, 0.25] 0.821447691983285\n",
      "[3, 1, 1, 5, 0.6, 0.1, 0.3] 0.8203864491486909\n"
     ]
    },
    {
     "name": "stderr",
     "output_type": "stream",
     "text": [
      "/Users/julianhough/miniforge3/lib/python3.10/site-packages/sklearn/metrics/_classification.py:1344: UndefinedMetricWarning: Precision and F-score are ill-defined and being set to 0.0 in labels with no predicted samples. Use `zero_division` parameter to control this behavior.\n",
      "  _warn_prf(average, modifier, msg_start, len(result))\n",
      "/Users/julianhough/miniforge3/lib/python3.10/site-packages/sklearn/metrics/_classification.py:1344: UndefinedMetricWarning: Precision and F-score are ill-defined and being set to 0.0 in labels with no predicted samples. Use `zero_division` parameter to control this behavior.\n",
      "  _warn_prf(average, modifier, msg_start, len(result))\n"
     ]
    },
    {
     "name": "stdout",
     "output_type": "stream",
     "text": [
      "[3, 1, 1, 6, 0.6, 0.1, 0.0] 0.7078822101345905\n"
     ]
    },
    {
     "name": "stderr",
     "output_type": "stream",
     "text": [
      "/Users/julianhough/miniforge3/lib/python3.10/site-packages/sklearn/metrics/_classification.py:1344: UndefinedMetricWarning: Precision and F-score are ill-defined and being set to 0.0 in labels with no predicted samples. Use `zero_division` parameter to control this behavior.\n",
      "  _warn_prf(average, modifier, msg_start, len(result))\n"
     ]
    },
    {
     "name": "stdout",
     "output_type": "stream",
     "text": [
      "[3, 1, 1, 6, 0.6, 0.1, 0.05] 0.7639044287923795\n",
      "[3, 1, 1, 6, 0.6, 0.1, 0.1] 0.7880928740746371\n",
      "[3, 1, 1, 6, 0.6, 0.1, 0.15] 0.8126439771285677\n",
      "[3, 1, 1, 6, 0.6, 0.1, 0.2] 0.8215619663151957\n",
      "[3, 1, 1, 6, 0.6, 0.1, 0.25] 0.8208117784791471\n"
     ]
    },
    {
     "name": "stderr",
     "output_type": "stream",
     "text": [
      "/Users/julianhough/miniforge3/lib/python3.10/site-packages/sklearn/metrics/_classification.py:1344: UndefinedMetricWarning: Precision and F-score are ill-defined and being set to 0.0 in labels with no predicted samples. Use `zero_division` parameter to control this behavior.\n",
      "  _warn_prf(average, modifier, msg_start, len(result))\n",
      "/Users/julianhough/miniforge3/lib/python3.10/site-packages/sklearn/metrics/_classification.py:1344: UndefinedMetricWarning: Precision and F-score are ill-defined and being set to 0.0 in labels with no predicted samples. Use `zero_division` parameter to control this behavior.\n",
      "  _warn_prf(average, modifier, msg_start, len(result))\n"
     ]
    },
    {
     "name": "stdout",
     "output_type": "stream",
     "text": [
      "[3, 1, 1, 7, 0.6, 0.1, 0.0] 0.7078822101345905\n"
     ]
    },
    {
     "name": "stderr",
     "output_type": "stream",
     "text": [
      "/Users/julianhough/miniforge3/lib/python3.10/site-packages/sklearn/metrics/_classification.py:1344: UndefinedMetricWarning: Precision and F-score are ill-defined and being set to 0.0 in labels with no predicted samples. Use `zero_division` parameter to control this behavior.\n",
      "  _warn_prf(average, modifier, msg_start, len(result))\n"
     ]
    },
    {
     "name": "stdout",
     "output_type": "stream",
     "text": [
      "[3, 1, 1, 7, 0.6, 0.1, 0.05] 0.7650417218599969\n"
     ]
    },
    {
     "name": "stderr",
     "output_type": "stream",
     "text": [
      "/Users/julianhough/miniforge3/lib/python3.10/site-packages/sklearn/metrics/_classification.py:1344: UndefinedMetricWarning: Precision and F-score are ill-defined and being set to 0.0 in labels with no predicted samples. Use `zero_division` parameter to control this behavior.\n",
      "  _warn_prf(average, modifier, msg_start, len(result))\n"
     ]
    },
    {
     "name": "stdout",
     "output_type": "stream",
     "text": [
      "[3, 1, 1, 7, 0.6, 0.1, 0.1] 0.7865135769183683\n",
      "[3, 1, 1, 7, 0.6, 0.1, 0.15] 0.8117043820028192\n",
      "[3, 1, 1, 7, 0.6, 0.1, 0.2] 0.820225788582364\n",
      "[3, 1, 1, 7, 0.6, 0.1, 0.25] 0.8228304391159782\n",
      "[3, 1, 1, 7, 0.6, 0.1, 0.3] 0.8240653192360617\n",
      "[3, 1, 1, 7, 0.6, 0.1, 0.35] 0.8236477085879477\n"
     ]
    },
    {
     "name": "stderr",
     "output_type": "stream",
     "text": [
      "/Users/julianhough/miniforge3/lib/python3.10/site-packages/sklearn/metrics/_classification.py:1344: UndefinedMetricWarning: Precision and F-score are ill-defined and being set to 0.0 in labels with no predicted samples. Use `zero_division` parameter to control this behavior.\n",
      "  _warn_prf(average, modifier, msg_start, len(result))\n",
      "/Users/julianhough/miniforge3/lib/python3.10/site-packages/sklearn/metrics/_classification.py:1344: UndefinedMetricWarning: Precision and F-score are ill-defined and being set to 0.0 in labels with no predicted samples. Use `zero_division` parameter to control this behavior.\n",
      "  _warn_prf(average, modifier, msg_start, len(result))\n"
     ]
    },
    {
     "name": "stdout",
     "output_type": "stream",
     "text": [
      "[3, 1, 1, 8, 0.6, 0.1, 0.0] 0.7078822101345905\n"
     ]
    },
    {
     "name": "stderr",
     "output_type": "stream",
     "text": [
      "/Users/julianhough/miniforge3/lib/python3.10/site-packages/sklearn/metrics/_classification.py:1344: UndefinedMetricWarning: Precision and F-score are ill-defined and being set to 0.0 in labels with no predicted samples. Use `zero_division` parameter to control this behavior.\n",
      "  _warn_prf(average, modifier, msg_start, len(result))\n"
     ]
    },
    {
     "name": "stdout",
     "output_type": "stream",
     "text": [
      "[3, 1, 1, 8, 0.6, 0.1, 0.05] 0.7642676064394746\n"
     ]
    },
    {
     "name": "stderr",
     "output_type": "stream",
     "text": [
      "/Users/julianhough/miniforge3/lib/python3.10/site-packages/sklearn/metrics/_classification.py:1344: UndefinedMetricWarning: Precision and F-score are ill-defined and being set to 0.0 in labels with no predicted samples. Use `zero_division` parameter to control this behavior.\n",
      "  _warn_prf(average, modifier, msg_start, len(result))\n"
     ]
    },
    {
     "name": "stdout",
     "output_type": "stream",
     "text": [
      "[3, 1, 1, 8, 0.6, 0.1, 0.1] 0.784673195234696\n",
      "[3, 1, 1, 8, 0.6, 0.1, 0.15] 0.8118953827127419\n",
      "[3, 1, 1, 8, 0.6, 0.1, 0.2] 0.8193747353385235\n",
      "[3, 1, 1, 8, 0.6, 0.1, 0.25] 0.8240480995891409\n",
      "[3, 1, 1, 8, 0.6, 0.1, 0.3] 0.8251411868767061\n",
      "[3, 1, 1, 8, 0.6, 0.1, 0.35] 0.8248688879306585\n"
     ]
    },
    {
     "name": "stderr",
     "output_type": "stream",
     "text": [
      "/Users/julianhough/miniforge3/lib/python3.10/site-packages/sklearn/metrics/_classification.py:1344: UndefinedMetricWarning: Precision and F-score are ill-defined and being set to 0.0 in labels with no predicted samples. Use `zero_division` parameter to control this behavior.\n",
      "  _warn_prf(average, modifier, msg_start, len(result))\n",
      "/Users/julianhough/miniforge3/lib/python3.10/site-packages/sklearn/metrics/_classification.py:1344: UndefinedMetricWarning: Precision and F-score are ill-defined and being set to 0.0 in labels with no predicted samples. Use `zero_division` parameter to control this behavior.\n",
      "  _warn_prf(average, modifier, msg_start, len(result))\n"
     ]
    },
    {
     "name": "stdout",
     "output_type": "stream",
     "text": [
      "[3, 1, 1, 9, 0.6, 0.1, 0.0] 0.7078822101345905\n"
     ]
    },
    {
     "name": "stderr",
     "output_type": "stream",
     "text": [
      "/Users/julianhough/miniforge3/lib/python3.10/site-packages/sklearn/metrics/_classification.py:1344: UndefinedMetricWarning: Precision and F-score are ill-defined and being set to 0.0 in labels with no predicted samples. Use `zero_division` parameter to control this behavior.\n",
      "  _warn_prf(average, modifier, msg_start, len(result))\n"
     ]
    },
    {
     "name": "stdout",
     "output_type": "stream",
     "text": [
      "[3, 1, 1, 9, 0.6, 0.1, 0.05] 0.7634743623191399\n"
     ]
    },
    {
     "name": "stderr",
     "output_type": "stream",
     "text": [
      "/Users/julianhough/miniforge3/lib/python3.10/site-packages/sklearn/metrics/_classification.py:1344: UndefinedMetricWarning: Precision and F-score are ill-defined and being set to 0.0 in labels with no predicted samples. Use `zero_division` parameter to control this behavior.\n",
      "  _warn_prf(average, modifier, msg_start, len(result))\n"
     ]
    },
    {
     "name": "stdout",
     "output_type": "stream",
     "text": [
      "[3, 1, 1, 9, 0.6, 0.1, 0.1] 0.7829026498207526\n",
      "[3, 1, 1, 9, 0.6, 0.1, 0.15] 0.8104966917965394\n",
      "[3, 1, 1, 9, 0.6, 0.1, 0.2] 0.8182074650884594\n",
      "[3, 1, 1, 9, 0.6, 0.1, 0.25] 0.8232867681438437\n",
      "[3, 1, 1, 9, 0.6, 0.1, 0.3] 0.8262148874761585\n",
      "[3, 1, 1, 9, 0.6, 0.1, 0.35] 0.8254017154386145\n"
     ]
    },
    {
     "name": "stderr",
     "output_type": "stream",
     "text": [
      "/Users/julianhough/miniforge3/lib/python3.10/site-packages/sklearn/metrics/_classification.py:1344: UndefinedMetricWarning: Precision and F-score are ill-defined and being set to 0.0 in labels with no predicted samples. Use `zero_division` parameter to control this behavior.\n",
      "  _warn_prf(average, modifier, msg_start, len(result))\n",
      "/Users/julianhough/miniforge3/lib/python3.10/site-packages/sklearn/metrics/_classification.py:1344: UndefinedMetricWarning: Precision and F-score are ill-defined and being set to 0.0 in labels with no predicted samples. Use `zero_division` parameter to control this behavior.\n",
      "  _warn_prf(average, modifier, msg_start, len(result))\n"
     ]
    },
    {
     "name": "stdout",
     "output_type": "stream",
     "text": [
      "[3, 1, 1, 10, 0.6, 0.1, 0.0] 0.7078822101345905\n"
     ]
    },
    {
     "name": "stderr",
     "output_type": "stream",
     "text": [
      "/Users/julianhough/miniforge3/lib/python3.10/site-packages/sklearn/metrics/_classification.py:1344: UndefinedMetricWarning: Precision and F-score are ill-defined and being set to 0.0 in labels with no predicted samples. Use `zero_division` parameter to control this behavior.\n",
      "  _warn_prf(average, modifier, msg_start, len(result))\n"
     ]
    },
    {
     "name": "stdout",
     "output_type": "stream",
     "text": [
      "[3, 1, 1, 10, 0.6, 0.1, 0.05] 0.7633248931298661\n"
     ]
    },
    {
     "name": "stderr",
     "output_type": "stream",
     "text": [
      "/Users/julianhough/miniforge3/lib/python3.10/site-packages/sklearn/metrics/_classification.py:1344: UndefinedMetricWarning: Precision and F-score are ill-defined and being set to 0.0 in labels with no predicted samples. Use `zero_division` parameter to control this behavior.\n",
      "  _warn_prf(average, modifier, msg_start, len(result))\n"
     ]
    },
    {
     "name": "stdout",
     "output_type": "stream",
     "text": [
      "[3, 1, 1, 10, 0.6, 0.1, 0.1] 0.7822515741904487\n",
      "[3, 1, 1, 10, 0.6, 0.1, 0.15] 0.8047134715451432\n",
      "[3, 1, 1, 10, 0.6, 0.1, 0.2] 0.8163756798339257\n",
      "[3, 1, 1, 10, 0.6, 0.1, 0.25] 0.8227956325556071\n",
      "[3, 1, 1, 10, 0.6, 0.1, 0.3] 0.8249462639759978\n",
      "[3, 1, 1, 10, 0.6, 0.1, 0.35] 0.8255606120943314\n",
      "[3, 1, 1, 10, 0.6, 0.1, 0.4] 0.8279256459776562\n",
      "[3, 1, 1, 10, 0.6, 0.1, 0.45] 0.8276236328204788\n"
     ]
    },
    {
     "name": "stderr",
     "output_type": "stream",
     "text": [
      "/Users/julianhough/miniforge3/lib/python3.10/site-packages/sklearn/metrics/_classification.py:1344: UndefinedMetricWarning: Precision and F-score are ill-defined and being set to 0.0 in labels with no predicted samples. Use `zero_division` parameter to control this behavior.\n",
      "  _warn_prf(average, modifier, msg_start, len(result))\n",
      "/Users/julianhough/miniforge3/lib/python3.10/site-packages/sklearn/metrics/_classification.py:1344: UndefinedMetricWarning: Precision and F-score are ill-defined and being set to 0.0 in labels with no predicted samples. Use `zero_division` parameter to control this behavior.\n",
      "  _warn_prf(average, modifier, msg_start, len(result))\n"
     ]
    },
    {
     "name": "stdout",
     "output_type": "stream",
     "text": [
      "[3, 1, 1, 1, 0.65, 0.1, 0.0] 0.7078443250347771\n",
      "[3, 1, 1, 1, 0.65, 0.1, 0.05] 0.773425692200673\n",
      "[3, 1, 1, 1, 0.65, 0.1, 0.1] 0.808511401819534\n",
      "[3, 1, 1, 1, 0.65, 0.1, 0.15] 0.8181811642185688\n",
      "[3, 1, 1, 1, 0.65, 0.1, 0.2] 0.8181361107615241\n"
     ]
    },
    {
     "name": "stderr",
     "output_type": "stream",
     "text": [
      "/Users/julianhough/miniforge3/lib/python3.10/site-packages/sklearn/metrics/_classification.py:1344: UndefinedMetricWarning: Precision and F-score are ill-defined and being set to 0.0 in labels with no predicted samples. Use `zero_division` parameter to control this behavior.\n",
      "  _warn_prf(average, modifier, msg_start, len(result))\n",
      "/Users/julianhough/miniforge3/lib/python3.10/site-packages/sklearn/metrics/_classification.py:1344: UndefinedMetricWarning: Precision and F-score are ill-defined and being set to 0.0 in labels with no predicted samples. Use `zero_division` parameter to control this behavior.\n",
      "  _warn_prf(average, modifier, msg_start, len(result))\n"
     ]
    },
    {
     "name": "stdout",
     "output_type": "stream",
     "text": [
      "[3, 1, 1, 2, 0.65, 0.1, 0.0] 0.7078443250347771\n",
      "[3, 1, 1, 2, 0.65, 0.1, 0.05] 0.773308606849752\n",
      "[3, 1, 1, 2, 0.65, 0.1, 0.1] 0.8088792020769755\n",
      "[3, 1, 1, 2, 0.65, 0.1, 0.15] 0.8155176383599219\n",
      "[3, 1, 1, 2, 0.65, 0.1, 0.2] 0.8213432194675365\n",
      "[3, 1, 1, 2, 0.65, 0.1, 0.25] 0.8245221321649245\n",
      "[3, 1, 1, 2, 0.65, 0.1, 0.3] 0.8286766512113013\n",
      "[3, 1, 1, 2, 0.65, 0.1, 0.35] 0.8296646581930239\n",
      "[3, 1, 1, 2, 0.65, 0.1, 0.4] 0.8294033200377939\n"
     ]
    },
    {
     "name": "stderr",
     "output_type": "stream",
     "text": [
      "/Users/julianhough/miniforge3/lib/python3.10/site-packages/sklearn/metrics/_classification.py:1344: UndefinedMetricWarning: Precision and F-score are ill-defined and being set to 0.0 in labels with no predicted samples. Use `zero_division` parameter to control this behavior.\n",
      "  _warn_prf(average, modifier, msg_start, len(result))\n",
      "/Users/julianhough/miniforge3/lib/python3.10/site-packages/sklearn/metrics/_classification.py:1344: UndefinedMetricWarning: Precision and F-score are ill-defined and being set to 0.0 in labels with no predicted samples. Use `zero_division` parameter to control this behavior.\n",
      "  _warn_prf(average, modifier, msg_start, len(result))\n"
     ]
    },
    {
     "name": "stdout",
     "output_type": "stream",
     "text": [
      "[3, 1, 1, 3, 0.65, 0.1, 0.0] 0.7078443250347771\n"
     ]
    },
    {
     "name": "stderr",
     "output_type": "stream",
     "text": [
      "/Users/julianhough/miniforge3/lib/python3.10/site-packages/sklearn/metrics/_classification.py:1344: UndefinedMetricWarning: Precision and F-score are ill-defined and being set to 0.0 in labels with no predicted samples. Use `zero_division` parameter to control this behavior.\n",
      "  _warn_prf(average, modifier, msg_start, len(result))\n"
     ]
    },
    {
     "name": "stdout",
     "output_type": "stream",
     "text": [
      "[3, 1, 1, 3, 0.65, 0.1, 0.05] 0.7658049169050102\n",
      "[3, 1, 1, 3, 0.65, 0.1, 0.1] 0.8019678778843881\n",
      "[3, 1, 1, 3, 0.65, 0.1, 0.15] 0.8169455472171638\n",
      "[3, 1, 1, 3, 0.65, 0.1, 0.2] 0.8216817313795998\n",
      "[3, 1, 1, 3, 0.65, 0.1, 0.25] 0.8234443552756769\n",
      "[3, 1, 1, 3, 0.65, 0.1, 0.3] 0.823877481844398\n",
      "[3, 1, 1, 3, 0.65, 0.1, 0.35] 0.8300584427816077\n",
      "[3, 1, 1, 3, 0.65, 0.1, 0.4] 0.8300422386246049\n"
     ]
    },
    {
     "name": "stderr",
     "output_type": "stream",
     "text": [
      "/Users/julianhough/miniforge3/lib/python3.10/site-packages/sklearn/metrics/_classification.py:1344: UndefinedMetricWarning: Precision and F-score are ill-defined and being set to 0.0 in labels with no predicted samples. Use `zero_division` parameter to control this behavior.\n",
      "  _warn_prf(average, modifier, msg_start, len(result))\n",
      "/Users/julianhough/miniforge3/lib/python3.10/site-packages/sklearn/metrics/_classification.py:1344: UndefinedMetricWarning: Precision and F-score are ill-defined and being set to 0.0 in labels with no predicted samples. Use `zero_division` parameter to control this behavior.\n",
      "  _warn_prf(average, modifier, msg_start, len(result))\n"
     ]
    },
    {
     "name": "stdout",
     "output_type": "stream",
     "text": [
      "[3, 1, 1, 4, 0.65, 0.1, 0.0] 0.7078443250347771\n"
     ]
    },
    {
     "name": "stderr",
     "output_type": "stream",
     "text": [
      "/Users/julianhough/miniforge3/lib/python3.10/site-packages/sklearn/metrics/_classification.py:1344: UndefinedMetricWarning: Precision and F-score are ill-defined and being set to 0.0 in labels with no predicted samples. Use `zero_division` parameter to control this behavior.\n",
      "  _warn_prf(average, modifier, msg_start, len(result))\n"
     ]
    },
    {
     "name": "stdout",
     "output_type": "stream",
     "text": [
      "[3, 1, 1, 4, 0.65, 0.1, 0.05] 0.7680363622214487\n",
      "[3, 1, 1, 4, 0.65, 0.1, 0.1] 0.7971128691797568\n",
      "[3, 1, 1, 4, 0.65, 0.1, 0.15] 0.8148952315926161\n",
      "[3, 1, 1, 4, 0.65, 0.1, 0.2] 0.8198456814392877\n",
      "[3, 1, 1, 4, 0.65, 0.1, 0.25] 0.8199646322177987\n",
      "[3, 1, 1, 4, 0.65, 0.1, 0.3] 0.8206720527046595\n",
      "[3, 1, 1, 4, 0.65, 0.1, 0.35] 0.8249416741079313\n",
      "[3, 1, 1, 4, 0.65, 0.1, 0.4] 0.8260228393680302\n",
      "[3, 1, 1, 4, 0.65, 0.1, 0.45] 0.8269922192863918\n",
      "[3, 1, 1, 4, 0.65, 0.1, 0.5] 0.8270817392788953\n",
      "[3, 1, 1, 4, 0.65, 0.1, 0.55] 0.8260551468883433\n"
     ]
    },
    {
     "name": "stderr",
     "output_type": "stream",
     "text": [
      "/Users/julianhough/miniforge3/lib/python3.10/site-packages/sklearn/metrics/_classification.py:1344: UndefinedMetricWarning: Precision and F-score are ill-defined and being set to 0.0 in labels with no predicted samples. Use `zero_division` parameter to control this behavior.\n",
      "  _warn_prf(average, modifier, msg_start, len(result))\n",
      "/Users/julianhough/miniforge3/lib/python3.10/site-packages/sklearn/metrics/_classification.py:1344: UndefinedMetricWarning: Precision and F-score are ill-defined and being set to 0.0 in labels with no predicted samples. Use `zero_division` parameter to control this behavior.\n",
      "  _warn_prf(average, modifier, msg_start, len(result))\n"
     ]
    },
    {
     "name": "stdout",
     "output_type": "stream",
     "text": [
      "[3, 1, 1, 5, 0.65, 0.1, 0.0] 0.7078443250347771\n"
     ]
    },
    {
     "name": "stderr",
     "output_type": "stream",
     "text": [
      "/Users/julianhough/miniforge3/lib/python3.10/site-packages/sklearn/metrics/_classification.py:1344: UndefinedMetricWarning: Precision and F-score are ill-defined and being set to 0.0 in labels with no predicted samples. Use `zero_division` parameter to control this behavior.\n",
      "  _warn_prf(average, modifier, msg_start, len(result))\n"
     ]
    },
    {
     "name": "stdout",
     "output_type": "stream",
     "text": [
      "[3, 1, 1, 5, 0.65, 0.1, 0.05] 0.7651387873786989\n",
      "[3, 1, 1, 5, 0.65, 0.1, 0.1] 0.7901830865929178\n",
      "[3, 1, 1, 5, 0.65, 0.1, 0.15] 0.8119532588751323\n",
      "[3, 1, 1, 5, 0.65, 0.1, 0.2] 0.820276660952705\n",
      "[3, 1, 1, 5, 0.65, 0.1, 0.25] 0.8216818128232457\n",
      "[3, 1, 1, 5, 0.65, 0.1, 0.3] 0.819494450493388\n"
     ]
    },
    {
     "name": "stderr",
     "output_type": "stream",
     "text": [
      "/Users/julianhough/miniforge3/lib/python3.10/site-packages/sklearn/metrics/_classification.py:1344: UndefinedMetricWarning: Precision and F-score are ill-defined and being set to 0.0 in labels with no predicted samples. Use `zero_division` parameter to control this behavior.\n",
      "  _warn_prf(average, modifier, msg_start, len(result))\n",
      "/Users/julianhough/miniforge3/lib/python3.10/site-packages/sklearn/metrics/_classification.py:1344: UndefinedMetricWarning: Precision and F-score are ill-defined and being set to 0.0 in labels with no predicted samples. Use `zero_division` parameter to control this behavior.\n",
      "  _warn_prf(average, modifier, msg_start, len(result))\n"
     ]
    },
    {
     "name": "stdout",
     "output_type": "stream",
     "text": [
      "[3, 1, 1, 6, 0.65, 0.1, 0.0] 0.7078443250347771\n"
     ]
    },
    {
     "name": "stderr",
     "output_type": "stream",
     "text": [
      "/Users/julianhough/miniforge3/lib/python3.10/site-packages/sklearn/metrics/_classification.py:1344: UndefinedMetricWarning: Precision and F-score are ill-defined and being set to 0.0 in labels with no predicted samples. Use `zero_division` parameter to control this behavior.\n",
      "  _warn_prf(average, modifier, msg_start, len(result))\n"
     ]
    },
    {
     "name": "stdout",
     "output_type": "stream",
     "text": [
      "[3, 1, 1, 6, 0.65, 0.1, 0.05] 0.7640184264696165\n",
      "[3, 1, 1, 6, 0.65, 0.1, 0.1] 0.7843463008298033\n",
      "[3, 1, 1, 6, 0.65, 0.1, 0.15] 0.8113523240689372\n",
      "[3, 1, 1, 6, 0.65, 0.1, 0.2] 0.8212991033344282\n",
      "[3, 1, 1, 6, 0.65, 0.1, 0.25] 0.821303796144272\n",
      "[3, 1, 1, 6, 0.65, 0.1, 0.3] 0.8230857502089223\n",
      "[3, 1, 1, 6, 0.65, 0.1, 0.35] 0.8222773430134517\n"
     ]
    },
    {
     "name": "stderr",
     "output_type": "stream",
     "text": [
      "/Users/julianhough/miniforge3/lib/python3.10/site-packages/sklearn/metrics/_classification.py:1344: UndefinedMetricWarning: Precision and F-score are ill-defined and being set to 0.0 in labels with no predicted samples. Use `zero_division` parameter to control this behavior.\n",
      "  _warn_prf(average, modifier, msg_start, len(result))\n",
      "/Users/julianhough/miniforge3/lib/python3.10/site-packages/sklearn/metrics/_classification.py:1344: UndefinedMetricWarning: Precision and F-score are ill-defined and being set to 0.0 in labels with no predicted samples. Use `zero_division` parameter to control this behavior.\n",
      "  _warn_prf(average, modifier, msg_start, len(result))\n"
     ]
    },
    {
     "name": "stdout",
     "output_type": "stream",
     "text": [
      "[3, 1, 1, 7, 0.65, 0.1, 0.0] 0.7078443250347771\n"
     ]
    },
    {
     "name": "stderr",
     "output_type": "stream",
     "text": [
      "/Users/julianhough/miniforge3/lib/python3.10/site-packages/sklearn/metrics/_classification.py:1344: UndefinedMetricWarning: Precision and F-score are ill-defined and being set to 0.0 in labels with no predicted samples. Use `zero_division` parameter to control this behavior.\n",
      "  _warn_prf(average, modifier, msg_start, len(result))\n"
     ]
    },
    {
     "name": "stdout",
     "output_type": "stream",
     "text": [
      "[3, 1, 1, 7, 0.65, 0.1, 0.05] 0.7652487371065143\n"
     ]
    },
    {
     "name": "stderr",
     "output_type": "stream",
     "text": [
      "/Users/julianhough/miniforge3/lib/python3.10/site-packages/sklearn/metrics/_classification.py:1344: UndefinedMetricWarning: Precision and F-score are ill-defined and being set to 0.0 in labels with no predicted samples. Use `zero_division` parameter to control this behavior.\n",
      "  _warn_prf(average, modifier, msg_start, len(result))\n"
     ]
    },
    {
     "name": "stdout",
     "output_type": "stream",
     "text": [
      "[3, 1, 1, 7, 0.65, 0.1, 0.1] 0.784733734067318\n",
      "[3, 1, 1, 7, 0.65, 0.1, 0.15] 0.8101839696241123\n",
      "[3, 1, 1, 7, 0.65, 0.1, 0.2] 0.8199966964303526\n",
      "[3, 1, 1, 7, 0.65, 0.1, 0.25] 0.8236341812747493\n",
      "[3, 1, 1, 7, 0.65, 0.1, 0.3] 0.8235019198697583\n"
     ]
    },
    {
     "name": "stderr",
     "output_type": "stream",
     "text": [
      "/Users/julianhough/miniforge3/lib/python3.10/site-packages/sklearn/metrics/_classification.py:1344: UndefinedMetricWarning: Precision and F-score are ill-defined and being set to 0.0 in labels with no predicted samples. Use `zero_division` parameter to control this behavior.\n",
      "  _warn_prf(average, modifier, msg_start, len(result))\n",
      "/Users/julianhough/miniforge3/lib/python3.10/site-packages/sklearn/metrics/_classification.py:1344: UndefinedMetricWarning: Precision and F-score are ill-defined and being set to 0.0 in labels with no predicted samples. Use `zero_division` parameter to control this behavior.\n",
      "  _warn_prf(average, modifier, msg_start, len(result))\n"
     ]
    },
    {
     "name": "stdout",
     "output_type": "stream",
     "text": [
      "[3, 1, 1, 8, 0.65, 0.1, 0.0] 0.7078443250347771\n"
     ]
    },
    {
     "name": "stderr",
     "output_type": "stream",
     "text": [
      "/Users/julianhough/miniforge3/lib/python3.10/site-packages/sklearn/metrics/_classification.py:1344: UndefinedMetricWarning: Precision and F-score are ill-defined and being set to 0.0 in labels with no predicted samples. Use `zero_division` parameter to control this behavior.\n",
      "  _warn_prf(average, modifier, msg_start, len(result))\n"
     ]
    },
    {
     "name": "stdout",
     "output_type": "stream",
     "text": [
      "[3, 1, 1, 8, 0.65, 0.1, 0.05] 0.7645150243453098\n"
     ]
    },
    {
     "name": "stderr",
     "output_type": "stream",
     "text": [
      "/Users/julianhough/miniforge3/lib/python3.10/site-packages/sklearn/metrics/_classification.py:1344: UndefinedMetricWarning: Precision and F-score are ill-defined and being set to 0.0 in labels with no predicted samples. Use `zero_division` parameter to control this behavior.\n",
      "  _warn_prf(average, modifier, msg_start, len(result))\n"
     ]
    },
    {
     "name": "stdout",
     "output_type": "stream",
     "text": [
      "[3, 1, 1, 8, 0.65, 0.1, 0.1] 0.7811877284740133\n",
      "[3, 1, 1, 8, 0.65, 0.1, 0.15] 0.8073865869980787\n",
      "[3, 1, 1, 8, 0.65, 0.1, 0.2] 0.8197170331812998\n",
      "[3, 1, 1, 8, 0.65, 0.1, 0.25] 0.8240249272060246\n",
      "[3, 1, 1, 8, 0.65, 0.1, 0.3] 0.8243744023837755\n",
      "[3, 1, 1, 8, 0.65, 0.1, 0.35] 0.8247369132475771\n",
      "[3, 1, 1, 8, 0.65, 0.1, 0.4] 0.8269043017587319\n",
      "[3, 1, 1, 8, 0.65, 0.1, 0.45] 0.8270759560067132\n",
      "[3, 1, 1, 8, 0.65, 0.1, 0.5] 0.8257537712857739\n"
     ]
    },
    {
     "name": "stderr",
     "output_type": "stream",
     "text": [
      "/Users/julianhough/miniforge3/lib/python3.10/site-packages/sklearn/metrics/_classification.py:1344: UndefinedMetricWarning: Precision and F-score are ill-defined and being set to 0.0 in labels with no predicted samples. Use `zero_division` parameter to control this behavior.\n",
      "  _warn_prf(average, modifier, msg_start, len(result))\n",
      "/Users/julianhough/miniforge3/lib/python3.10/site-packages/sklearn/metrics/_classification.py:1344: UndefinedMetricWarning: Precision and F-score are ill-defined and being set to 0.0 in labels with no predicted samples. Use `zero_division` parameter to control this behavior.\n",
      "  _warn_prf(average, modifier, msg_start, len(result))\n"
     ]
    },
    {
     "name": "stdout",
     "output_type": "stream",
     "text": [
      "[3, 1, 1, 9, 0.65, 0.1, 0.0] 0.7078443250347771\n"
     ]
    },
    {
     "name": "stderr",
     "output_type": "stream",
     "text": [
      "/Users/julianhough/miniforge3/lib/python3.10/site-packages/sklearn/metrics/_classification.py:1344: UndefinedMetricWarning: Precision and F-score are ill-defined and being set to 0.0 in labels with no predicted samples. Use `zero_division` parameter to control this behavior.\n",
      "  _warn_prf(average, modifier, msg_start, len(result))\n"
     ]
    },
    {
     "name": "stdout",
     "output_type": "stream",
     "text": [
      "[3, 1, 1, 9, 0.65, 0.1, 0.05] 0.7635978238460908\n"
     ]
    },
    {
     "name": "stderr",
     "output_type": "stream",
     "text": [
      "/Users/julianhough/miniforge3/lib/python3.10/site-packages/sklearn/metrics/_classification.py:1344: UndefinedMetricWarning: Precision and F-score are ill-defined and being set to 0.0 in labels with no predicted samples. Use `zero_division` parameter to control this behavior.\n",
      "  _warn_prf(average, modifier, msg_start, len(result))\n"
     ]
    },
    {
     "name": "stdout",
     "output_type": "stream",
     "text": [
      "[3, 1, 1, 9, 0.65, 0.1, 0.1] 0.7811089354861148\n",
      "[3, 1, 1, 9, 0.65, 0.1, 0.15] 0.805243037951853\n",
      "[3, 1, 1, 9, 0.65, 0.1, 0.2] 0.8180582003243878\n",
      "[3, 1, 1, 9, 0.65, 0.1, 0.25] 0.8233711759823388\n",
      "[3, 1, 1, 9, 0.65, 0.1, 0.3] 0.8261122281665736\n",
      "[3, 1, 1, 9, 0.65, 0.1, 0.35] 0.8246695965941483\n"
     ]
    },
    {
     "name": "stderr",
     "output_type": "stream",
     "text": [
      "/Users/julianhough/miniforge3/lib/python3.10/site-packages/sklearn/metrics/_classification.py:1344: UndefinedMetricWarning: Precision and F-score are ill-defined and being set to 0.0 in labels with no predicted samples. Use `zero_division` parameter to control this behavior.\n",
      "  _warn_prf(average, modifier, msg_start, len(result))\n",
      "/Users/julianhough/miniforge3/lib/python3.10/site-packages/sklearn/metrics/_classification.py:1344: UndefinedMetricWarning: Precision and F-score are ill-defined and being set to 0.0 in labels with no predicted samples. Use `zero_division` parameter to control this behavior.\n",
      "  _warn_prf(average, modifier, msg_start, len(result))\n"
     ]
    },
    {
     "name": "stdout",
     "output_type": "stream",
     "text": [
      "[3, 1, 1, 10, 0.65, 0.1, 0.0] 0.7078443250347771\n"
     ]
    },
    {
     "name": "stderr",
     "output_type": "stream",
     "text": [
      "/Users/julianhough/miniforge3/lib/python3.10/site-packages/sklearn/metrics/_classification.py:1344: UndefinedMetricWarning: Precision and F-score are ill-defined and being set to 0.0 in labels with no predicted samples. Use `zero_division` parameter to control this behavior.\n",
      "  _warn_prf(average, modifier, msg_start, len(result))\n",
      "/Users/julianhough/miniforge3/lib/python3.10/site-packages/sklearn/metrics/_classification.py:1344: UndefinedMetricWarning: Precision and F-score are ill-defined and being set to 0.0 in labels with no predicted samples. Use `zero_division` parameter to control this behavior.\n",
      "  _warn_prf(average, modifier, msg_start, len(result))\n"
     ]
    },
    {
     "name": "stdout",
     "output_type": "stream",
     "text": [
      "[3, 1, 1, 10, 0.65, 0.1, 0.05] 0.76175235082558\n"
     ]
    },
    {
     "name": "stderr",
     "output_type": "stream",
     "text": [
      "/Users/julianhough/miniforge3/lib/python3.10/site-packages/sklearn/metrics/_classification.py:1344: UndefinedMetricWarning: Precision and F-score are ill-defined and being set to 0.0 in labels with no predicted samples. Use `zero_division` parameter to control this behavior.\n",
      "  _warn_prf(average, modifier, msg_start, len(result))\n"
     ]
    },
    {
     "name": "stdout",
     "output_type": "stream",
     "text": [
      "[3, 1, 1, 10, 0.65, 0.1, 0.1] 0.7790505045733501\n",
      "[3, 1, 1, 10, 0.65, 0.1, 0.15] 0.8017285339345049\n",
      "[3, 1, 1, 10, 0.65, 0.1, 0.2] 0.8173791426950788\n",
      "[3, 1, 1, 10, 0.65, 0.1, 0.25] 0.8239912034832877\n",
      "[3, 1, 1, 10, 0.65, 0.1, 0.3] 0.8235500761909231\n"
     ]
    },
    {
     "name": "stderr",
     "output_type": "stream",
     "text": [
      "/Users/julianhough/miniforge3/lib/python3.10/site-packages/sklearn/metrics/_classification.py:1344: UndefinedMetricWarning: Precision and F-score are ill-defined and being set to 0.0 in labels with no predicted samples. Use `zero_division` parameter to control this behavior.\n",
      "  _warn_prf(average, modifier, msg_start, len(result))\n",
      "/Users/julianhough/miniforge3/lib/python3.10/site-packages/sklearn/metrics/_classification.py:1344: UndefinedMetricWarning: Precision and F-score are ill-defined and being set to 0.0 in labels with no predicted samples. Use `zero_division` parameter to control this behavior.\n",
      "  _warn_prf(average, modifier, msg_start, len(result))\n"
     ]
    },
    {
     "name": "stdout",
     "output_type": "stream",
     "text": [
      "[3, 1, 1, 1, 0.7, 0.1, 0.0] 0.695054260529754\n",
      "[3, 1, 1, 1, 0.7, 0.1, 0.05] 0.773374155877548\n",
      "[3, 1, 1, 1, 0.7, 0.1, 0.1] 0.8057359411326457\n",
      "[3, 1, 1, 1, 0.7, 0.1, 0.15] 0.8178420869158748\n",
      "[3, 1, 1, 1, 0.7, 0.1, 0.2] 0.8209901411444143\n",
      "[3, 1, 1, 1, 0.7, 0.1, 0.25] 0.8248270252474696\n",
      "[3, 1, 1, 1, 0.7, 0.1, 0.3] 0.8276707260056257\n",
      "[3, 1, 1, 1, 0.7, 0.1, 0.35] 0.8285577583029692\n",
      "[3, 1, 1, 1, 0.7, 0.1, 0.4] 0.826843832494436\n"
     ]
    },
    {
     "name": "stderr",
     "output_type": "stream",
     "text": [
      "/Users/julianhough/miniforge3/lib/python3.10/site-packages/sklearn/metrics/_classification.py:1344: UndefinedMetricWarning: Precision and F-score are ill-defined and being set to 0.0 in labels with no predicted samples. Use `zero_division` parameter to control this behavior.\n",
      "  _warn_prf(average, modifier, msg_start, len(result))\n",
      "/Users/julianhough/miniforge3/lib/python3.10/site-packages/sklearn/metrics/_classification.py:1344: UndefinedMetricWarning: Precision and F-score are ill-defined and being set to 0.0 in labels with no predicted samples. Use `zero_division` parameter to control this behavior.\n",
      "  _warn_prf(average, modifier, msg_start, len(result))\n"
     ]
    },
    {
     "name": "stdout",
     "output_type": "stream",
     "text": [
      "[3, 1, 1, 2, 0.7, 0.1, 0.0] 0.695054260529754\n",
      "[3, 1, 1, 2, 0.7, 0.1, 0.05] 0.7734369838905726\n",
      "[3, 1, 1, 2, 0.7, 0.1, 0.1] 0.8064993333328815\n",
      "[3, 1, 1, 2, 0.7, 0.1, 0.15] 0.8155053625420684\n",
      "[3, 1, 1, 2, 0.7, 0.1, 0.2] 0.8214506297254844\n",
      "[3, 1, 1, 2, 0.7, 0.1, 0.25] 0.8244094075219356\n",
      "[3, 1, 1, 2, 0.7, 0.1, 0.3] 0.8302413113039299\n",
      "[3, 1, 1, 2, 0.7, 0.1, 0.35] 0.8308933383039602\n",
      "[3, 1, 1, 2, 0.7, 0.1, 0.4] 0.8299843324348971\n"
     ]
    },
    {
     "name": "stderr",
     "output_type": "stream",
     "text": [
      "/Users/julianhough/miniforge3/lib/python3.10/site-packages/sklearn/metrics/_classification.py:1344: UndefinedMetricWarning: Precision and F-score are ill-defined and being set to 0.0 in labels with no predicted samples. Use `zero_division` parameter to control this behavior.\n",
      "  _warn_prf(average, modifier, msg_start, len(result))\n",
      "/Users/julianhough/miniforge3/lib/python3.10/site-packages/sklearn/metrics/_classification.py:1344: UndefinedMetricWarning: Precision and F-score are ill-defined and being set to 0.0 in labels with no predicted samples. Use `zero_division` parameter to control this behavior.\n",
      "  _warn_prf(average, modifier, msg_start, len(result))\n"
     ]
    },
    {
     "name": "stdout",
     "output_type": "stream",
     "text": [
      "[3, 1, 1, 3, 0.7, 0.1, 0.0] 0.695054260529754\n"
     ]
    },
    {
     "name": "stderr",
     "output_type": "stream",
     "text": [
      "/Users/julianhough/miniforge3/lib/python3.10/site-packages/sklearn/metrics/_classification.py:1344: UndefinedMetricWarning: Precision and F-score are ill-defined and being set to 0.0 in labels with no predicted samples. Use `zero_division` parameter to control this behavior.\n",
      "  _warn_prf(average, modifier, msg_start, len(result))\n"
     ]
    },
    {
     "name": "stdout",
     "output_type": "stream",
     "text": [
      "[3, 1, 1, 3, 0.7, 0.1, 0.05] 0.7663368971361448\n",
      "[3, 1, 1, 3, 0.7, 0.1, 0.1] 0.8005626564041431\n",
      "[3, 1, 1, 3, 0.7, 0.1, 0.15] 0.8156084194675851\n",
      "[3, 1, 1, 3, 0.7, 0.1, 0.2] 0.8221761086876446\n",
      "[3, 1, 1, 3, 0.7, 0.1, 0.25] 0.823022912616939\n",
      "[3, 1, 1, 3, 0.7, 0.1, 0.3] 0.8257555912596216\n",
      "[3, 1, 1, 3, 0.7, 0.1, 0.35] 0.8284432762672896\n",
      "[3, 1, 1, 3, 0.7, 0.1, 0.4] 0.8302355983267596\n",
      "[3, 1, 1, 3, 0.7, 0.1, 0.45] 0.8306968573479462\n",
      "[3, 1, 1, 3, 0.7, 0.1, 0.5] 0.830699748441063\n",
      "[3, 1, 1, 3, 0.7, 0.1, 0.55] 0.8307847292432335\n",
      "[3, 1, 1, 3, 0.7, 0.1, 0.6] 0.8269663441292102\n"
     ]
    },
    {
     "name": "stderr",
     "output_type": "stream",
     "text": [
      "/Users/julianhough/miniforge3/lib/python3.10/site-packages/sklearn/metrics/_classification.py:1344: UndefinedMetricWarning: Precision and F-score are ill-defined and being set to 0.0 in labels with no predicted samples. Use `zero_division` parameter to control this behavior.\n",
      "  _warn_prf(average, modifier, msg_start, len(result))\n",
      "/Users/julianhough/miniforge3/lib/python3.10/site-packages/sklearn/metrics/_classification.py:1344: UndefinedMetricWarning: Precision and F-score are ill-defined and being set to 0.0 in labels with no predicted samples. Use `zero_division` parameter to control this behavior.\n",
      "  _warn_prf(average, modifier, msg_start, len(result))\n"
     ]
    },
    {
     "name": "stdout",
     "output_type": "stream",
     "text": [
      "[3, 1, 1, 4, 0.7, 0.1, 0.0] 0.695054260529754\n"
     ]
    },
    {
     "name": "stderr",
     "output_type": "stream",
     "text": [
      "/Users/julianhough/miniforge3/lib/python3.10/site-packages/sklearn/metrics/_classification.py:1344: UndefinedMetricWarning: Precision and F-score are ill-defined and being set to 0.0 in labels with no predicted samples. Use `zero_division` parameter to control this behavior.\n",
      "  _warn_prf(average, modifier, msg_start, len(result))\n"
     ]
    },
    {
     "name": "stdout",
     "output_type": "stream",
     "text": [
      "[3, 1, 1, 4, 0.7, 0.1, 0.05] 0.7669093484807107\n",
      "[3, 1, 1, 4, 0.7, 0.1, 0.1] 0.7917959893001763\n",
      "[3, 1, 1, 4, 0.7, 0.1, 0.15] 0.8149141820185962\n",
      "[3, 1, 1, 4, 0.7, 0.1, 0.2] 0.820951250435077\n",
      "[3, 1, 1, 4, 0.7, 0.1, 0.25] 0.8206226265731548\n"
     ]
    },
    {
     "name": "stderr",
     "output_type": "stream",
     "text": [
      "/Users/julianhough/miniforge3/lib/python3.10/site-packages/sklearn/metrics/_classification.py:1344: UndefinedMetricWarning: Precision and F-score are ill-defined and being set to 0.0 in labels with no predicted samples. Use `zero_division` parameter to control this behavior.\n",
      "  _warn_prf(average, modifier, msg_start, len(result))\n",
      "/Users/julianhough/miniforge3/lib/python3.10/site-packages/sklearn/metrics/_classification.py:1344: UndefinedMetricWarning: Precision and F-score are ill-defined and being set to 0.0 in labels with no predicted samples. Use `zero_division` parameter to control this behavior.\n",
      "  _warn_prf(average, modifier, msg_start, len(result))\n"
     ]
    },
    {
     "name": "stdout",
     "output_type": "stream",
     "text": [
      "[3, 1, 1, 5, 0.7, 0.1, 0.0] 0.695054260529754\n"
     ]
    },
    {
     "name": "stderr",
     "output_type": "stream",
     "text": [
      "/Users/julianhough/miniforge3/lib/python3.10/site-packages/sklearn/metrics/_classification.py:1344: UndefinedMetricWarning: Precision and F-score are ill-defined and being set to 0.0 in labels with no predicted samples. Use `zero_division` parameter to control this behavior.\n",
      "  _warn_prf(average, modifier, msg_start, len(result))\n"
     ]
    },
    {
     "name": "stdout",
     "output_type": "stream",
     "text": [
      "[3, 1, 1, 5, 0.7, 0.1, 0.05] 0.7674480813035229\n",
      "[3, 1, 1, 5, 0.7, 0.1, 0.1] 0.7876463904681051\n",
      "[3, 1, 1, 5, 0.7, 0.1, 0.15] 0.8102030174731215\n",
      "[3, 1, 1, 5, 0.7, 0.1, 0.2] 0.8205800721555695\n",
      "[3, 1, 1, 5, 0.7, 0.1, 0.25] 0.8212566042512324\n",
      "[3, 1, 1, 5, 0.7, 0.1, 0.3] 0.8203254562703762\n"
     ]
    },
    {
     "name": "stderr",
     "output_type": "stream",
     "text": [
      "/Users/julianhough/miniforge3/lib/python3.10/site-packages/sklearn/metrics/_classification.py:1344: UndefinedMetricWarning: Precision and F-score are ill-defined and being set to 0.0 in labels with no predicted samples. Use `zero_division` parameter to control this behavior.\n",
      "  _warn_prf(average, modifier, msg_start, len(result))\n",
      "/Users/julianhough/miniforge3/lib/python3.10/site-packages/sklearn/metrics/_classification.py:1344: UndefinedMetricWarning: Precision and F-score are ill-defined and being set to 0.0 in labels with no predicted samples. Use `zero_division` parameter to control this behavior.\n",
      "  _warn_prf(average, modifier, msg_start, len(result))\n"
     ]
    },
    {
     "name": "stdout",
     "output_type": "stream",
     "text": [
      "[3, 1, 1, 6, 0.7, 0.1, 0.0] 0.695054260529754\n"
     ]
    },
    {
     "name": "stderr",
     "output_type": "stream",
     "text": [
      "/Users/julianhough/miniforge3/lib/python3.10/site-packages/sklearn/metrics/_classification.py:1344: UndefinedMetricWarning: Precision and F-score are ill-defined and being set to 0.0 in labels with no predicted samples. Use `zero_division` parameter to control this behavior.\n",
      "  _warn_prf(average, modifier, msg_start, len(result))\n"
     ]
    },
    {
     "name": "stdout",
     "output_type": "stream",
     "text": [
      "[3, 1, 1, 6, 0.7, 0.1, 0.05] 0.7649354979147748\n",
      "[3, 1, 1, 6, 0.7, 0.1, 0.1] 0.7805121203057052\n",
      "[3, 1, 1, 6, 0.7, 0.1, 0.15] 0.8085778476915999\n",
      "[3, 1, 1, 6, 0.7, 0.1, 0.2] 0.8206660722614368\n",
      "[3, 1, 1, 6, 0.7, 0.1, 0.25] 0.8226106305302682\n",
      "[3, 1, 1, 6, 0.7, 0.1, 0.3] 0.8210618031525537\n"
     ]
    },
    {
     "name": "stderr",
     "output_type": "stream",
     "text": [
      "/Users/julianhough/miniforge3/lib/python3.10/site-packages/sklearn/metrics/_classification.py:1344: UndefinedMetricWarning: Precision and F-score are ill-defined and being set to 0.0 in labels with no predicted samples. Use `zero_division` parameter to control this behavior.\n",
      "  _warn_prf(average, modifier, msg_start, len(result))\n",
      "/Users/julianhough/miniforge3/lib/python3.10/site-packages/sklearn/metrics/_classification.py:1344: UndefinedMetricWarning: Precision and F-score are ill-defined and being set to 0.0 in labels with no predicted samples. Use `zero_division` parameter to control this behavior.\n",
      "  _warn_prf(average, modifier, msg_start, len(result))\n"
     ]
    },
    {
     "name": "stdout",
     "output_type": "stream",
     "text": [
      "[3, 1, 1, 7, 0.7, 0.1, 0.0] 0.695054260529754\n"
     ]
    },
    {
     "name": "stderr",
     "output_type": "stream",
     "text": [
      "/Users/julianhough/miniforge3/lib/python3.10/site-packages/sklearn/metrics/_classification.py:1344: UndefinedMetricWarning: Precision and F-score are ill-defined and being set to 0.0 in labels with no predicted samples. Use `zero_division` parameter to control this behavior.\n",
      "  _warn_prf(average, modifier, msg_start, len(result))\n"
     ]
    },
    {
     "name": "stdout",
     "output_type": "stream",
     "text": [
      "[3, 1, 1, 7, 0.7, 0.1, 0.05] 0.766550997104462\n"
     ]
    },
    {
     "name": "stderr",
     "output_type": "stream",
     "text": [
      "/Users/julianhough/miniforge3/lib/python3.10/site-packages/sklearn/metrics/_classification.py:1344: UndefinedMetricWarning: Precision and F-score are ill-defined and being set to 0.0 in labels with no predicted samples. Use `zero_division` parameter to control this behavior.\n",
      "  _warn_prf(average, modifier, msg_start, len(result))\n"
     ]
    },
    {
     "name": "stdout",
     "output_type": "stream",
     "text": [
      "[3, 1, 1, 7, 0.7, 0.1, 0.1] 0.78007538807289\n",
      "[3, 1, 1, 7, 0.7, 0.1, 0.15] 0.8084279712373901\n",
      "[3, 1, 1, 7, 0.7, 0.1, 0.2] 0.8198932406489738\n",
      "[3, 1, 1, 7, 0.7, 0.1, 0.25] 0.8228696314116846\n",
      "[3, 1, 1, 7, 0.7, 0.1, 0.3] 0.8225684555996059\n"
     ]
    },
    {
     "name": "stderr",
     "output_type": "stream",
     "text": [
      "/Users/julianhough/miniforge3/lib/python3.10/site-packages/sklearn/metrics/_classification.py:1344: UndefinedMetricWarning: Precision and F-score are ill-defined and being set to 0.0 in labels with no predicted samples. Use `zero_division` parameter to control this behavior.\n",
      "  _warn_prf(average, modifier, msg_start, len(result))\n",
      "/Users/julianhough/miniforge3/lib/python3.10/site-packages/sklearn/metrics/_classification.py:1344: UndefinedMetricWarning: Precision and F-score are ill-defined and being set to 0.0 in labels with no predicted samples. Use `zero_division` parameter to control this behavior.\n",
      "  _warn_prf(average, modifier, msg_start, len(result))\n"
     ]
    },
    {
     "name": "stdout",
     "output_type": "stream",
     "text": [
      "[3, 1, 1, 8, 0.7, 0.1, 0.0] 0.695054260529754\n"
     ]
    },
    {
     "name": "stderr",
     "output_type": "stream",
     "text": [
      "/Users/julianhough/miniforge3/lib/python3.10/site-packages/sklearn/metrics/_classification.py:1344: UndefinedMetricWarning: Precision and F-score are ill-defined and being set to 0.0 in labels with no predicted samples. Use `zero_division` parameter to control this behavior.\n",
      "  _warn_prf(average, modifier, msg_start, len(result))\n",
      "/Users/julianhough/miniforge3/lib/python3.10/site-packages/sklearn/metrics/_classification.py:1344: UndefinedMetricWarning: Precision and F-score are ill-defined and being set to 0.0 in labels with no predicted samples. Use `zero_division` parameter to control this behavior.\n",
      "  _warn_prf(average, modifier, msg_start, len(result))\n"
     ]
    },
    {
     "name": "stdout",
     "output_type": "stream",
     "text": [
      "[3, 1, 1, 8, 0.7, 0.1, 0.05] 0.763667235188201\n"
     ]
    },
    {
     "name": "stderr",
     "output_type": "stream",
     "text": [
      "/Users/julianhough/miniforge3/lib/python3.10/site-packages/sklearn/metrics/_classification.py:1344: UndefinedMetricWarning: Precision and F-score are ill-defined and being set to 0.0 in labels with no predicted samples. Use `zero_division` parameter to control this behavior.\n",
      "  _warn_prf(average, modifier, msg_start, len(result))\n"
     ]
    },
    {
     "name": "stdout",
     "output_type": "stream",
     "text": [
      "[3, 1, 1, 8, 0.7, 0.1, 0.1] 0.777493927027092\n",
      "[3, 1, 1, 8, 0.7, 0.1, 0.15] 0.8060839423877567\n",
      "[3, 1, 1, 8, 0.7, 0.1, 0.2] 0.8191351776901449\n",
      "[3, 1, 1, 8, 0.7, 0.1, 0.25] 0.8230729906490921\n",
      "[3, 1, 1, 8, 0.7, 0.1, 0.3] 0.8244417822492733\n",
      "[3, 1, 1, 8, 0.7, 0.1, 0.35] 0.8248969508058815\n",
      "[3, 1, 1, 8, 0.7, 0.1, 0.4] 0.8272436660947606\n",
      "[3, 1, 1, 8, 0.7, 0.1, 0.45] 0.8293590393410825\n",
      "[3, 1, 1, 8, 0.7, 0.1, 0.5] 0.8277486847269161\n"
     ]
    },
    {
     "name": "stderr",
     "output_type": "stream",
     "text": [
      "/Users/julianhough/miniforge3/lib/python3.10/site-packages/sklearn/metrics/_classification.py:1344: UndefinedMetricWarning: Precision and F-score are ill-defined and being set to 0.0 in labels with no predicted samples. Use `zero_division` parameter to control this behavior.\n",
      "  _warn_prf(average, modifier, msg_start, len(result))\n",
      "/Users/julianhough/miniforge3/lib/python3.10/site-packages/sklearn/metrics/_classification.py:1344: UndefinedMetricWarning: Precision and F-score are ill-defined and being set to 0.0 in labels with no predicted samples. Use `zero_division` parameter to control this behavior.\n",
      "  _warn_prf(average, modifier, msg_start, len(result))\n"
     ]
    },
    {
     "name": "stdout",
     "output_type": "stream",
     "text": [
      "[3, 1, 1, 9, 0.7, 0.1, 0.0] 0.695054260529754\n"
     ]
    },
    {
     "name": "stderr",
     "output_type": "stream",
     "text": [
      "/Users/julianhough/miniforge3/lib/python3.10/site-packages/sklearn/metrics/_classification.py:1344: UndefinedMetricWarning: Precision and F-score are ill-defined and being set to 0.0 in labels with no predicted samples. Use `zero_division` parameter to control this behavior.\n",
      "  _warn_prf(average, modifier, msg_start, len(result))\n",
      "/Users/julianhough/miniforge3/lib/python3.10/site-packages/sklearn/metrics/_classification.py:1344: UndefinedMetricWarning: Precision and F-score are ill-defined and being set to 0.0 in labels with no predicted samples. Use `zero_division` parameter to control this behavior.\n",
      "  _warn_prf(average, modifier, msg_start, len(result))\n"
     ]
    },
    {
     "name": "stdout",
     "output_type": "stream",
     "text": [
      "[3, 1, 1, 9, 0.7, 0.1, 0.05] 0.7623420940484429\n"
     ]
    },
    {
     "name": "stderr",
     "output_type": "stream",
     "text": [
      "/Users/julianhough/miniforge3/lib/python3.10/site-packages/sklearn/metrics/_classification.py:1344: UndefinedMetricWarning: Precision and F-score are ill-defined and being set to 0.0 in labels with no predicted samples. Use `zero_division` parameter to control this behavior.\n",
      "  _warn_prf(average, modifier, msg_start, len(result))\n"
     ]
    },
    {
     "name": "stdout",
     "output_type": "stream",
     "text": [
      "[3, 1, 1, 9, 0.7, 0.1, 0.1] 0.7780630986599729\n",
      "[3, 1, 1, 9, 0.7, 0.1, 0.15] 0.7979019492610279\n",
      "[3, 1, 1, 9, 0.7, 0.1, 0.2] 0.8176868656618339\n",
      "[3, 1, 1, 9, 0.7, 0.1, 0.25] 0.8235693354419117\n",
      "[3, 1, 1, 9, 0.7, 0.1, 0.3] 0.8245451568611053\n",
      "[3, 1, 1, 9, 0.7, 0.1, 0.35] 0.8251253819777056\n",
      "[3, 1, 1, 9, 0.7, 0.1, 0.4] 0.828370839058792\n",
      "[3, 1, 1, 9, 0.7, 0.1, 0.45] 0.8289113725952773\n",
      "[3, 1, 1, 9, 0.7, 0.1, 0.5] 0.828450050602884\n"
     ]
    },
    {
     "name": "stderr",
     "output_type": "stream",
     "text": [
      "/Users/julianhough/miniforge3/lib/python3.10/site-packages/sklearn/metrics/_classification.py:1344: UndefinedMetricWarning: Precision and F-score are ill-defined and being set to 0.0 in labels with no predicted samples. Use `zero_division` parameter to control this behavior.\n",
      "  _warn_prf(average, modifier, msg_start, len(result))\n",
      "/Users/julianhough/miniforge3/lib/python3.10/site-packages/sklearn/metrics/_classification.py:1344: UndefinedMetricWarning: Precision and F-score are ill-defined and being set to 0.0 in labels with no predicted samples. Use `zero_division` parameter to control this behavior.\n",
      "  _warn_prf(average, modifier, msg_start, len(result))\n"
     ]
    },
    {
     "name": "stdout",
     "output_type": "stream",
     "text": [
      "[3, 1, 1, 10, 0.7, 0.1, 0.0] 0.695054260529754\n"
     ]
    },
    {
     "name": "stderr",
     "output_type": "stream",
     "text": [
      "/Users/julianhough/miniforge3/lib/python3.10/site-packages/sklearn/metrics/_classification.py:1344: UndefinedMetricWarning: Precision and F-score are ill-defined and being set to 0.0 in labels with no predicted samples. Use `zero_division` parameter to control this behavior.\n",
      "  _warn_prf(average, modifier, msg_start, len(result))\n",
      "/Users/julianhough/miniforge3/lib/python3.10/site-packages/sklearn/metrics/_classification.py:1344: UndefinedMetricWarning: Precision and F-score are ill-defined and being set to 0.0 in labels with no predicted samples. Use `zero_division` parameter to control this behavior.\n",
      "  _warn_prf(average, modifier, msg_start, len(result))\n"
     ]
    },
    {
     "name": "stdout",
     "output_type": "stream",
     "text": [
      "[3, 1, 1, 10, 0.7, 0.1, 0.05] 0.7625761222100701\n"
     ]
    },
    {
     "name": "stderr",
     "output_type": "stream",
     "text": [
      "/Users/julianhough/miniforge3/lib/python3.10/site-packages/sklearn/metrics/_classification.py:1344: UndefinedMetricWarning: Precision and F-score are ill-defined and being set to 0.0 in labels with no predicted samples. Use `zero_division` parameter to control this behavior.\n",
      "  _warn_prf(average, modifier, msg_start, len(result))\n"
     ]
    },
    {
     "name": "stdout",
     "output_type": "stream",
     "text": [
      "[3, 1, 1, 10, 0.7, 0.1, 0.1] 0.7757488769246279\n",
      "[3, 1, 1, 10, 0.7, 0.1, 0.15] 0.7957859876871727\n",
      "[3, 1, 1, 10, 0.7, 0.1, 0.2] 0.817253389439511\n",
      "[3, 1, 1, 10, 0.7, 0.1, 0.25] 0.8230330225655914\n",
      "[3, 1, 1, 10, 0.7, 0.1, 0.3] 0.8241299342170396\n",
      "[3, 1, 1, 10, 0.7, 0.1, 0.35] 0.8248924177410256\n",
      "[3, 1, 1, 10, 0.7, 0.1, 0.4] 0.8286374060072479\n",
      "[3, 1, 1, 10, 0.7, 0.1, 0.45] 0.8272550853247658\n"
     ]
    },
    {
     "name": "stderr",
     "output_type": "stream",
     "text": [
      "/Users/julianhough/miniforge3/lib/python3.10/site-packages/sklearn/metrics/_classification.py:1344: UndefinedMetricWarning: Precision and F-score are ill-defined and being set to 0.0 in labels with no predicted samples. Use `zero_division` parameter to control this behavior.\n",
      "  _warn_prf(average, modifier, msg_start, len(result))\n",
      "/Users/julianhough/miniforge3/lib/python3.10/site-packages/sklearn/metrics/_classification.py:1344: UndefinedMetricWarning: Precision and F-score are ill-defined and being set to 0.0 in labels with no predicted samples. Use `zero_division` parameter to control this behavior.\n",
      "  _warn_prf(average, modifier, msg_start, len(result))\n"
     ]
    },
    {
     "name": "stdout",
     "output_type": "stream",
     "text": [
      "[3, 1, 1, 1, 0.75, 0.1, 0.0] 0.6951753711579636\n",
      "[3, 1, 1, 1, 0.75, 0.1, 0.05] 0.7723563199084095\n",
      "[3, 1, 1, 1, 0.75, 0.1, 0.1] 0.804311682639873\n",
      "[3, 1, 1, 1, 0.75, 0.1, 0.15] 0.8158483983701189\n",
      "[3, 1, 1, 1, 0.75, 0.1, 0.2] 0.8214489469944624\n",
      "[3, 1, 1, 1, 0.75, 0.1, 0.25] 0.8246791542154875\n",
      "[3, 1, 1, 1, 0.75, 0.1, 0.3] 0.8288289992268127\n",
      "[3, 1, 1, 1, 0.75, 0.1, 0.35] 0.8290784020085179\n",
      "[3, 1, 1, 1, 0.75, 0.1, 0.4] 0.8285193954518867\n"
     ]
    },
    {
     "name": "stderr",
     "output_type": "stream",
     "text": [
      "/Users/julianhough/miniforge3/lib/python3.10/site-packages/sklearn/metrics/_classification.py:1344: UndefinedMetricWarning: Precision and F-score are ill-defined and being set to 0.0 in labels with no predicted samples. Use `zero_division` parameter to control this behavior.\n",
      "  _warn_prf(average, modifier, msg_start, len(result))\n",
      "/Users/julianhough/miniforge3/lib/python3.10/site-packages/sklearn/metrics/_classification.py:1344: UndefinedMetricWarning: Precision and F-score are ill-defined and being set to 0.0 in labels with no predicted samples. Use `zero_division` parameter to control this behavior.\n",
      "  _warn_prf(average, modifier, msg_start, len(result))\n"
     ]
    },
    {
     "name": "stdout",
     "output_type": "stream",
     "text": [
      "[3, 1, 1, 2, 0.75, 0.1, 0.0] 0.6951753711579636\n",
      "[3, 1, 1, 2, 0.75, 0.1, 0.05] 0.7698395184182392\n",
      "[3, 1, 1, 2, 0.75, 0.1, 0.1] 0.8038597428328119\n",
      "[3, 1, 1, 2, 0.75, 0.1, 0.15] 0.8150868699372147\n",
      "[3, 1, 1, 2, 0.75, 0.1, 0.2] 0.8199324498074309\n",
      "[3, 1, 1, 2, 0.75, 0.1, 0.25] 0.8249380266763959\n",
      "[3, 1, 1, 2, 0.75, 0.1, 0.3] 0.8295668540258497\n",
      "[3, 1, 1, 2, 0.75, 0.1, 0.35] 0.8307346266930871\n",
      "[3, 1, 1, 2, 0.75, 0.1, 0.4] 0.8318679348593202\n",
      "[3, 1, 1, 2, 0.75, 0.1, 0.45] 0.8313356256278805\n"
     ]
    },
    {
     "name": "stderr",
     "output_type": "stream",
     "text": [
      "/Users/julianhough/miniforge3/lib/python3.10/site-packages/sklearn/metrics/_classification.py:1344: UndefinedMetricWarning: Precision and F-score are ill-defined and being set to 0.0 in labels with no predicted samples. Use `zero_division` parameter to control this behavior.\n",
      "  _warn_prf(average, modifier, msg_start, len(result))\n",
      "/Users/julianhough/miniforge3/lib/python3.10/site-packages/sklearn/metrics/_classification.py:1344: UndefinedMetricWarning: Precision and F-score are ill-defined and being set to 0.0 in labels with no predicted samples. Use `zero_division` parameter to control this behavior.\n",
      "  _warn_prf(average, modifier, msg_start, len(result))\n"
     ]
    },
    {
     "name": "stdout",
     "output_type": "stream",
     "text": [
      "[3, 1, 1, 3, 0.75, 0.1, 0.0] 0.6951753711579636\n"
     ]
    },
    {
     "name": "stderr",
     "output_type": "stream",
     "text": [
      "/Users/julianhough/miniforge3/lib/python3.10/site-packages/sklearn/metrics/_classification.py:1344: UndefinedMetricWarning: Precision and F-score are ill-defined and being set to 0.0 in labels with no predicted samples. Use `zero_division` parameter to control this behavior.\n",
      "  _warn_prf(average, modifier, msg_start, len(result))\n"
     ]
    },
    {
     "name": "stdout",
     "output_type": "stream",
     "text": [
      "[3, 1, 1, 3, 0.75, 0.1, 0.05] 0.7683232846003659\n",
      "[3, 1, 1, 3, 0.75, 0.1, 0.1] 0.7956424916656807\n",
      "[3, 1, 1, 3, 0.75, 0.1, 0.15] 0.8164087709000164\n",
      "[3, 1, 1, 3, 0.75, 0.1, 0.2] 0.8214442168289933\n",
      "[3, 1, 1, 3, 0.75, 0.1, 0.25] 0.8230401769350871\n",
      "[3, 1, 1, 3, 0.75, 0.1, 0.3] 0.8262885318298189\n",
      "[3, 1, 1, 3, 0.75, 0.1, 0.35] 0.8277139449736478\n",
      "[3, 1, 1, 3, 0.75, 0.1, 0.4] 0.8303531036034928\n",
      "[3, 1, 1, 3, 0.75, 0.1, 0.45] 0.8296033572497699\n"
     ]
    },
    {
     "name": "stderr",
     "output_type": "stream",
     "text": [
      "/Users/julianhough/miniforge3/lib/python3.10/site-packages/sklearn/metrics/_classification.py:1344: UndefinedMetricWarning: Precision and F-score are ill-defined and being set to 0.0 in labels with no predicted samples. Use `zero_division` parameter to control this behavior.\n",
      "  _warn_prf(average, modifier, msg_start, len(result))\n",
      "/Users/julianhough/miniforge3/lib/python3.10/site-packages/sklearn/metrics/_classification.py:1344: UndefinedMetricWarning: Precision and F-score are ill-defined and being set to 0.0 in labels with no predicted samples. Use `zero_division` parameter to control this behavior.\n",
      "  _warn_prf(average, modifier, msg_start, len(result))\n"
     ]
    },
    {
     "name": "stdout",
     "output_type": "stream",
     "text": [
      "[3, 1, 1, 4, 0.75, 0.1, 0.0] 0.6951753711579636\n"
     ]
    },
    {
     "name": "stderr",
     "output_type": "stream",
     "text": [
      "/Users/julianhough/miniforge3/lib/python3.10/site-packages/sklearn/metrics/_classification.py:1344: UndefinedMetricWarning: Precision and F-score are ill-defined and being set to 0.0 in labels with no predicted samples. Use `zero_division` parameter to control this behavior.\n",
      "  _warn_prf(average, modifier, msg_start, len(result))\n"
     ]
    },
    {
     "name": "stdout",
     "output_type": "stream",
     "text": [
      "[3, 1, 1, 4, 0.75, 0.1, 0.05] 0.7649321144524505\n",
      "[3, 1, 1, 4, 0.75, 0.1, 0.1] 0.7880168913109526\n",
      "[3, 1, 1, 4, 0.75, 0.1, 0.15] 0.8138743603646637\n",
      "[3, 1, 1, 4, 0.75, 0.1, 0.2] 0.821607271265612\n",
      "[3, 1, 1, 4, 0.75, 0.1, 0.25] 0.822618105116107\n",
      "[3, 1, 1, 4, 0.75, 0.1, 0.3] 0.823028931999982\n",
      "[3, 1, 1, 4, 0.75, 0.1, 0.35] 0.8264063510109455\n",
      "[3, 1, 1, 4, 0.75, 0.1, 0.4] 0.8289321946035644\n",
      "[3, 1, 1, 4, 0.75, 0.1, 0.45] 0.8301512843019124\n",
      "[3, 1, 1, 4, 0.75, 0.1, 0.5] 0.8302245351376466\n",
      "[3, 1, 1, 4, 0.75, 0.1, 0.55] 0.8336381355700979\n",
      "best 0.8336381355700979 [3, 1, 1, 4, 0.75, 0.1, 0.55]\n",
      "[3, 1, 1, 4, 0.75, 0.1, 0.6] 0.8284071271006815\n"
     ]
    },
    {
     "name": "stderr",
     "output_type": "stream",
     "text": [
      "/Users/julianhough/miniforge3/lib/python3.10/site-packages/sklearn/metrics/_classification.py:1344: UndefinedMetricWarning: Precision and F-score are ill-defined and being set to 0.0 in labels with no predicted samples. Use `zero_division` parameter to control this behavior.\n",
      "  _warn_prf(average, modifier, msg_start, len(result))\n",
      "/Users/julianhough/miniforge3/lib/python3.10/site-packages/sklearn/metrics/_classification.py:1344: UndefinedMetricWarning: Precision and F-score are ill-defined and being set to 0.0 in labels with no predicted samples. Use `zero_division` parameter to control this behavior.\n",
      "  _warn_prf(average, modifier, msg_start, len(result))\n"
     ]
    },
    {
     "name": "stdout",
     "output_type": "stream",
     "text": [
      "[3, 1, 1, 5, 0.75, 0.1, 0.0] 0.6951753711579636\n"
     ]
    },
    {
     "name": "stderr",
     "output_type": "stream",
     "text": [
      "/Users/julianhough/miniforge3/lib/python3.10/site-packages/sklearn/metrics/_classification.py:1344: UndefinedMetricWarning: Precision and F-score are ill-defined and being set to 0.0 in labels with no predicted samples. Use `zero_division` parameter to control this behavior.\n",
      "  _warn_prf(average, modifier, msg_start, len(result))\n"
     ]
    },
    {
     "name": "stdout",
     "output_type": "stream",
     "text": [
      "[3, 1, 1, 5, 0.75, 0.1, 0.05] 0.7667268827176612\n",
      "[3, 1, 1, 5, 0.75, 0.1, 0.1] 0.78501710925644\n",
      "[3, 1, 1, 5, 0.75, 0.1, 0.15] 0.8094235742455742\n",
      "[3, 1, 1, 5, 0.75, 0.1, 0.2] 0.821503589167088\n",
      "[3, 1, 1, 5, 0.75, 0.1, 0.25] 0.8217289336955929\n",
      "[3, 1, 1, 5, 0.75, 0.1, 0.3] 0.8211665232109818\n"
     ]
    },
    {
     "name": "stderr",
     "output_type": "stream",
     "text": [
      "/Users/julianhough/miniforge3/lib/python3.10/site-packages/sklearn/metrics/_classification.py:1344: UndefinedMetricWarning: Precision and F-score are ill-defined and being set to 0.0 in labels with no predicted samples. Use `zero_division` parameter to control this behavior.\n",
      "  _warn_prf(average, modifier, msg_start, len(result))\n",
      "/Users/julianhough/miniforge3/lib/python3.10/site-packages/sklearn/metrics/_classification.py:1344: UndefinedMetricWarning: Precision and F-score are ill-defined and being set to 0.0 in labels with no predicted samples. Use `zero_division` parameter to control this behavior.\n",
      "  _warn_prf(average, modifier, msg_start, len(result))\n"
     ]
    },
    {
     "name": "stdout",
     "output_type": "stream",
     "text": [
      "[3, 1, 1, 6, 0.75, 0.1, 0.0] 0.6951753711579636\n"
     ]
    },
    {
     "name": "stderr",
     "output_type": "stream",
     "text": [
      "/Users/julianhough/miniforge3/lib/python3.10/site-packages/sklearn/metrics/_classification.py:1344: UndefinedMetricWarning: Precision and F-score are ill-defined and being set to 0.0 in labels with no predicted samples. Use `zero_division` parameter to control this behavior.\n",
      "  _warn_prf(average, modifier, msg_start, len(result))\n"
     ]
    },
    {
     "name": "stdout",
     "output_type": "stream",
     "text": [
      "[3, 1, 1, 6, 0.75, 0.1, 0.05] 0.7650870101434037\n",
      "[3, 1, 1, 6, 0.75, 0.1, 0.1] 0.7795253828644234\n",
      "[3, 1, 1, 6, 0.75, 0.1, 0.15] 0.8080951733491357\n",
      "[3, 1, 1, 6, 0.75, 0.1, 0.2] 0.8204819314170992\n",
      "[3, 1, 1, 6, 0.75, 0.1, 0.25] 0.823432668221959\n",
      "[3, 1, 1, 6, 0.75, 0.1, 0.3] 0.8237672782607695\n",
      "[3, 1, 1, 6, 0.75, 0.1, 0.35] 0.8239120862501584\n",
      "[3, 1, 1, 6, 0.75, 0.1, 0.4] 0.8253606873775469\n",
      "[3, 1, 1, 6, 0.75, 0.1, 0.45] 0.825604525198467\n",
      "[3, 1, 1, 6, 0.75, 0.1, 0.5] 0.8248041849774552\n"
     ]
    },
    {
     "name": "stderr",
     "output_type": "stream",
     "text": [
      "/Users/julianhough/miniforge3/lib/python3.10/site-packages/sklearn/metrics/_classification.py:1344: UndefinedMetricWarning: Precision and F-score are ill-defined and being set to 0.0 in labels with no predicted samples. Use `zero_division` parameter to control this behavior.\n",
      "  _warn_prf(average, modifier, msg_start, len(result))\n",
      "/Users/julianhough/miniforge3/lib/python3.10/site-packages/sklearn/metrics/_classification.py:1344: UndefinedMetricWarning: Precision and F-score are ill-defined and being set to 0.0 in labels with no predicted samples. Use `zero_division` parameter to control this behavior.\n",
      "  _warn_prf(average, modifier, msg_start, len(result))\n"
     ]
    },
    {
     "name": "stdout",
     "output_type": "stream",
     "text": [
      "[3, 1, 1, 7, 0.75, 0.1, 0.0] 0.6951753711579636\n"
     ]
    },
    {
     "name": "stderr",
     "output_type": "stream",
     "text": [
      "/Users/julianhough/miniforge3/lib/python3.10/site-packages/sklearn/metrics/_classification.py:1344: UndefinedMetricWarning: Precision and F-score are ill-defined and being set to 0.0 in labels with no predicted samples. Use `zero_division` parameter to control this behavior.\n",
      "  _warn_prf(average, modifier, msg_start, len(result))\n"
     ]
    },
    {
     "name": "stdout",
     "output_type": "stream",
     "text": [
      "[3, 1, 1, 7, 0.75, 0.1, 0.05] 0.7658310870519726\n",
      "[3, 1, 1, 7, 0.75, 0.1, 0.1] 0.7765132114608824\n",
      "[3, 1, 1, 7, 0.75, 0.1, 0.15] 0.8042848242787145\n",
      "[3, 1, 1, 7, 0.75, 0.1, 0.2] 0.8185750509218073\n",
      "[3, 1, 1, 7, 0.75, 0.1, 0.25] 0.8228165989942611\n",
      "[3, 1, 1, 7, 0.75, 0.1, 0.3] 0.8232613191018846\n",
      "[3, 1, 1, 7, 0.75, 0.1, 0.35] 0.8259139192497978\n",
      "[3, 1, 1, 7, 0.75, 0.1, 0.4] 0.8268902881756192\n",
      "[3, 1, 1, 7, 0.75, 0.1, 0.45] 0.8297583900055121\n",
      "[3, 1, 1, 7, 0.75, 0.1, 0.5] 0.8268899307901555\n"
     ]
    },
    {
     "name": "stderr",
     "output_type": "stream",
     "text": [
      "/Users/julianhough/miniforge3/lib/python3.10/site-packages/sklearn/metrics/_classification.py:1344: UndefinedMetricWarning: Precision and F-score are ill-defined and being set to 0.0 in labels with no predicted samples. Use `zero_division` parameter to control this behavior.\n",
      "  _warn_prf(average, modifier, msg_start, len(result))\n",
      "/Users/julianhough/miniforge3/lib/python3.10/site-packages/sklearn/metrics/_classification.py:1344: UndefinedMetricWarning: Precision and F-score are ill-defined and being set to 0.0 in labels with no predicted samples. Use `zero_division` parameter to control this behavior.\n",
      "  _warn_prf(average, modifier, msg_start, len(result))\n"
     ]
    },
    {
     "name": "stdout",
     "output_type": "stream",
     "text": [
      "[3, 1, 1, 8, 0.75, 0.1, 0.0] 0.6951753711579636\n"
     ]
    },
    {
     "name": "stderr",
     "output_type": "stream",
     "text": [
      "/Users/julianhough/miniforge3/lib/python3.10/site-packages/sklearn/metrics/_classification.py:1344: UndefinedMetricWarning: Precision and F-score are ill-defined and being set to 0.0 in labels with no predicted samples. Use `zero_division` parameter to control this behavior.\n",
      "  _warn_prf(average, modifier, msg_start, len(result))\n",
      "/Users/julianhough/miniforge3/lib/python3.10/site-packages/sklearn/metrics/_classification.py:1344: UndefinedMetricWarning: Precision and F-score are ill-defined and being set to 0.0 in labels with no predicted samples. Use `zero_division` parameter to control this behavior.\n",
      "  _warn_prf(average, modifier, msg_start, len(result))\n"
     ]
    },
    {
     "name": "stdout",
     "output_type": "stream",
     "text": [
      "[3, 1, 1, 8, 0.75, 0.1, 0.05] 0.7640579560900502\n"
     ]
    },
    {
     "name": "stderr",
     "output_type": "stream",
     "text": [
      "/Users/julianhough/miniforge3/lib/python3.10/site-packages/sklearn/metrics/_classification.py:1344: UndefinedMetricWarning: Precision and F-score are ill-defined and being set to 0.0 in labels with no predicted samples. Use `zero_division` parameter to control this behavior.\n",
      "  _warn_prf(average, modifier, msg_start, len(result))\n"
     ]
    },
    {
     "name": "stdout",
     "output_type": "stream",
     "text": [
      "[3, 1, 1, 8, 0.75, 0.1, 0.1] 0.7763033071956631\n",
      "[3, 1, 1, 8, 0.75, 0.1, 0.15] 0.8012365189003773\n",
      "[3, 1, 1, 8, 0.75, 0.1, 0.2] 0.8176652416861376\n",
      "[3, 1, 1, 8, 0.75, 0.1, 0.25] 0.8232196343557919\n",
      "[3, 1, 1, 8, 0.75, 0.1, 0.3] 0.8249113515254075\n",
      "[3, 1, 1, 8, 0.75, 0.1, 0.35] 0.824705915772333\n"
     ]
    },
    {
     "name": "stderr",
     "output_type": "stream",
     "text": [
      "/Users/julianhough/miniforge3/lib/python3.10/site-packages/sklearn/metrics/_classification.py:1344: UndefinedMetricWarning: Precision and F-score are ill-defined and being set to 0.0 in labels with no predicted samples. Use `zero_division` parameter to control this behavior.\n",
      "  _warn_prf(average, modifier, msg_start, len(result))\n",
      "/Users/julianhough/miniforge3/lib/python3.10/site-packages/sklearn/metrics/_classification.py:1344: UndefinedMetricWarning: Precision and F-score are ill-defined and being set to 0.0 in labels with no predicted samples. Use `zero_division` parameter to control this behavior.\n",
      "  _warn_prf(average, modifier, msg_start, len(result))\n"
     ]
    },
    {
     "name": "stdout",
     "output_type": "stream",
     "text": [
      "[3, 1, 1, 9, 0.75, 0.1, 0.0] 0.6951753711579636\n"
     ]
    },
    {
     "name": "stderr",
     "output_type": "stream",
     "text": [
      "/Users/julianhough/miniforge3/lib/python3.10/site-packages/sklearn/metrics/_classification.py:1344: UndefinedMetricWarning: Precision and F-score are ill-defined and being set to 0.0 in labels with no predicted samples. Use `zero_division` parameter to control this behavior.\n",
      "  _warn_prf(average, modifier, msg_start, len(result))\n",
      "/Users/julianhough/miniforge3/lib/python3.10/site-packages/sklearn/metrics/_classification.py:1344: UndefinedMetricWarning: Precision and F-score are ill-defined and being set to 0.0 in labels with no predicted samples. Use `zero_division` parameter to control this behavior.\n",
      "  _warn_prf(average, modifier, msg_start, len(result))\n"
     ]
    },
    {
     "name": "stdout",
     "output_type": "stream",
     "text": [
      "[3, 1, 1, 9, 0.75, 0.1, 0.05] 0.7631575142835233\n"
     ]
    },
    {
     "name": "stderr",
     "output_type": "stream",
     "text": [
      "/Users/julianhough/miniforge3/lib/python3.10/site-packages/sklearn/metrics/_classification.py:1344: UndefinedMetricWarning: Precision and F-score are ill-defined and being set to 0.0 in labels with no predicted samples. Use `zero_division` parameter to control this behavior.\n",
      "  _warn_prf(average, modifier, msg_start, len(result))\n"
     ]
    },
    {
     "name": "stdout",
     "output_type": "stream",
     "text": [
      "[3, 1, 1, 9, 0.75, 0.1, 0.1] 0.7756693060685819\n",
      "[3, 1, 1, 9, 0.75, 0.1, 0.15] 0.7970009013444029\n",
      "[3, 1, 1, 9, 0.75, 0.1, 0.2] 0.8174886055533318\n",
      "[3, 1, 1, 9, 0.75, 0.1, 0.25] 0.8226363756262044\n",
      "[3, 1, 1, 9, 0.75, 0.1, 0.3] 0.8245677836397507\n",
      "[3, 1, 1, 9, 0.75, 0.1, 0.35] 0.8250260048134176\n",
      "[3, 1, 1, 9, 0.75, 0.1, 0.4] 0.826394505392975\n",
      "[3, 1, 1, 9, 0.75, 0.1, 0.45] 0.8289356529205152\n",
      "[3, 1, 1, 9, 0.75, 0.1, 0.5] 0.8300706344136676\n",
      "[3, 1, 1, 9, 0.75, 0.1, 0.55] 0.8282257940914829\n"
     ]
    },
    {
     "name": "stderr",
     "output_type": "stream",
     "text": [
      "/Users/julianhough/miniforge3/lib/python3.10/site-packages/sklearn/metrics/_classification.py:1344: UndefinedMetricWarning: Precision and F-score are ill-defined and being set to 0.0 in labels with no predicted samples. Use `zero_division` parameter to control this behavior.\n",
      "  _warn_prf(average, modifier, msg_start, len(result))\n",
      "/Users/julianhough/miniforge3/lib/python3.10/site-packages/sklearn/metrics/_classification.py:1344: UndefinedMetricWarning: Precision and F-score are ill-defined and being set to 0.0 in labels with no predicted samples. Use `zero_division` parameter to control this behavior.\n",
      "  _warn_prf(average, modifier, msg_start, len(result))\n"
     ]
    },
    {
     "name": "stdout",
     "output_type": "stream",
     "text": [
      "[3, 1, 1, 10, 0.75, 0.1, 0.0] 0.6951753711579636\n"
     ]
    },
    {
     "name": "stderr",
     "output_type": "stream",
     "text": [
      "/Users/julianhough/miniforge3/lib/python3.10/site-packages/sklearn/metrics/_classification.py:1344: UndefinedMetricWarning: Precision and F-score are ill-defined and being set to 0.0 in labels with no predicted samples. Use `zero_division` parameter to control this behavior.\n",
      "  _warn_prf(average, modifier, msg_start, len(result))\n",
      "/Users/julianhough/miniforge3/lib/python3.10/site-packages/sklearn/metrics/_classification.py:1344: UndefinedMetricWarning: Precision and F-score are ill-defined and being set to 0.0 in labels with no predicted samples. Use `zero_division` parameter to control this behavior.\n",
      "  _warn_prf(average, modifier, msg_start, len(result))\n"
     ]
    },
    {
     "name": "stdout",
     "output_type": "stream",
     "text": [
      "[3, 1, 1, 10, 0.75, 0.1, 0.05] 0.7625357520700934\n"
     ]
    },
    {
     "name": "stderr",
     "output_type": "stream",
     "text": [
      "/Users/julianhough/miniforge3/lib/python3.10/site-packages/sklearn/metrics/_classification.py:1344: UndefinedMetricWarning: Precision and F-score are ill-defined and being set to 0.0 in labels with no predicted samples. Use `zero_division` parameter to control this behavior.\n",
      "  _warn_prf(average, modifier, msg_start, len(result))\n"
     ]
    },
    {
     "name": "stdout",
     "output_type": "stream",
     "text": [
      "[3, 1, 1, 10, 0.75, 0.1, 0.1] 0.7742113549265245\n",
      "[3, 1, 1, 10, 0.75, 0.1, 0.15] 0.7954345798452798\n",
      "[3, 1, 1, 10, 0.75, 0.1, 0.2] 0.8162071389569753\n",
      "[3, 1, 1, 10, 0.75, 0.1, 0.25] 0.823950298602399\n",
      "[3, 1, 1, 10, 0.75, 0.1, 0.3] 0.8241993653921824\n",
      "[3, 1, 1, 10, 0.75, 0.1, 0.35] 0.8245623219672412\n",
      "[3, 1, 1, 10, 0.75, 0.1, 0.4] 0.8296001489879637\n",
      "[3, 1, 1, 10, 0.75, 0.1, 0.45] 0.8285127877268549\n"
     ]
    },
    {
     "name": "stderr",
     "output_type": "stream",
     "text": [
      "/Users/julianhough/miniforge3/lib/python3.10/site-packages/sklearn/metrics/_classification.py:1344: UndefinedMetricWarning: Precision and F-score are ill-defined and being set to 0.0 in labels with no predicted samples. Use `zero_division` parameter to control this behavior.\n",
      "  _warn_prf(average, modifier, msg_start, len(result))\n",
      "/Users/julianhough/miniforge3/lib/python3.10/site-packages/sklearn/metrics/_classification.py:1344: UndefinedMetricWarning: Precision and F-score are ill-defined and being set to 0.0 in labels with no predicted samples. Use `zero_division` parameter to control this behavior.\n",
      "  _warn_prf(average, modifier, msg_start, len(result))\n"
     ]
    },
    {
     "name": "stdout",
     "output_type": "stream",
     "text": [
      "[3, 1, 1, 1, 0.8, 0.1, 0.0] 0.6963061867025722\n",
      "[3, 1, 1, 1, 0.8, 0.1, 0.05] 0.7685450291449962\n",
      "[3, 1, 1, 1, 0.8, 0.1, 0.1] 0.8021447485816378\n",
      "[3, 1, 1, 1, 0.8, 0.1, 0.15] 0.8149574710238869\n",
      "[3, 1, 1, 1, 0.8, 0.1, 0.2] 0.8221520006480011\n",
      "[3, 1, 1, 1, 0.8, 0.1, 0.25] 0.8249701264179788\n",
      "[3, 1, 1, 1, 0.8, 0.1, 0.3] 0.8292308371688512\n",
      "[3, 1, 1, 1, 0.8, 0.1, 0.35] 0.8302858871000692\n",
      "[3, 1, 1, 1, 0.8, 0.1, 0.4] 0.8285193954518867\n"
     ]
    },
    {
     "name": "stderr",
     "output_type": "stream",
     "text": [
      "/Users/julianhough/miniforge3/lib/python3.10/site-packages/sklearn/metrics/_classification.py:1344: UndefinedMetricWarning: Precision and F-score are ill-defined and being set to 0.0 in labels with no predicted samples. Use `zero_division` parameter to control this behavior.\n",
      "  _warn_prf(average, modifier, msg_start, len(result))\n",
      "/Users/julianhough/miniforge3/lib/python3.10/site-packages/sklearn/metrics/_classification.py:1344: UndefinedMetricWarning: Precision and F-score are ill-defined and being set to 0.0 in labels with no predicted samples. Use `zero_division` parameter to control this behavior.\n",
      "  _warn_prf(average, modifier, msg_start, len(result))\n"
     ]
    },
    {
     "name": "stdout",
     "output_type": "stream",
     "text": [
      "[3, 1, 1, 2, 0.8, 0.1, 0.0] 0.6963061867025722\n",
      "[3, 1, 1, 2, 0.8, 0.1, 0.05] 0.7701344592533267\n",
      "[3, 1, 1, 2, 0.8, 0.1, 0.1] 0.8027825023950451\n",
      "[3, 1, 1, 2, 0.8, 0.1, 0.15] 0.8143338379412633\n",
      "[3, 1, 1, 2, 0.8, 0.1, 0.2] 0.8202185204012006\n",
      "[3, 1, 1, 2, 0.8, 0.1, 0.25] 0.8253635604933797\n",
      "[3, 1, 1, 2, 0.8, 0.1, 0.3] 0.8302361048071373\n",
      "[3, 1, 1, 2, 0.8, 0.1, 0.35] 0.8311860669581339\n",
      "[3, 1, 1, 2, 0.8, 0.1, 0.4] 0.8303387513784111\n"
     ]
    },
    {
     "name": "stderr",
     "output_type": "stream",
     "text": [
      "/Users/julianhough/miniforge3/lib/python3.10/site-packages/sklearn/metrics/_classification.py:1344: UndefinedMetricWarning: Precision and F-score are ill-defined and being set to 0.0 in labels with no predicted samples. Use `zero_division` parameter to control this behavior.\n",
      "  _warn_prf(average, modifier, msg_start, len(result))\n",
      "/Users/julianhough/miniforge3/lib/python3.10/site-packages/sklearn/metrics/_classification.py:1344: UndefinedMetricWarning: Precision and F-score are ill-defined and being set to 0.0 in labels with no predicted samples. Use `zero_division` parameter to control this behavior.\n",
      "  _warn_prf(average, modifier, msg_start, len(result))\n"
     ]
    },
    {
     "name": "stdout",
     "output_type": "stream",
     "text": [
      "[3, 1, 1, 3, 0.8, 0.1, 0.0] 0.6963061867025722\n"
     ]
    },
    {
     "name": "stderr",
     "output_type": "stream",
     "text": [
      "/Users/julianhough/miniforge3/lib/python3.10/site-packages/sklearn/metrics/_classification.py:1344: UndefinedMetricWarning: Precision and F-score are ill-defined and being set to 0.0 in labels with no predicted samples. Use `zero_division` parameter to control this behavior.\n",
      "  _warn_prf(average, modifier, msg_start, len(result))\n"
     ]
    },
    {
     "name": "stdout",
     "output_type": "stream",
     "text": [
      "[3, 1, 1, 3, 0.8, 0.1, 0.05] 0.765125317129849\n",
      "[3, 1, 1, 3, 0.8, 0.1, 0.1] 0.7906325535546243\n",
      "[3, 1, 1, 3, 0.8, 0.1, 0.15] 0.8159423486132807\n",
      "[3, 1, 1, 3, 0.8, 0.1, 0.2] 0.8202259291261293\n",
      "[3, 1, 1, 3, 0.8, 0.1, 0.25] 0.8229291995150758\n",
      "[3, 1, 1, 3, 0.8, 0.1, 0.3] 0.8265127864936263\n",
      "[3, 1, 1, 3, 0.8, 0.1, 0.35] 0.8289966658574608\n",
      "[3, 1, 1, 3, 0.8, 0.1, 0.4] 0.829195939962568\n",
      "[3, 1, 1, 3, 0.8, 0.1, 0.45] 0.8306163248142345\n",
      "[3, 1, 1, 3, 0.8, 0.1, 0.5] 0.8310133868877869\n",
      "[3, 1, 1, 3, 0.8, 0.1, 0.55] 0.8300254322311859\n"
     ]
    },
    {
     "name": "stderr",
     "output_type": "stream",
     "text": [
      "/Users/julianhough/miniforge3/lib/python3.10/site-packages/sklearn/metrics/_classification.py:1344: UndefinedMetricWarning: Precision and F-score are ill-defined and being set to 0.0 in labels with no predicted samples. Use `zero_division` parameter to control this behavior.\n",
      "  _warn_prf(average, modifier, msg_start, len(result))\n",
      "/Users/julianhough/miniforge3/lib/python3.10/site-packages/sklearn/metrics/_classification.py:1344: UndefinedMetricWarning: Precision and F-score are ill-defined and being set to 0.0 in labels with no predicted samples. Use `zero_division` parameter to control this behavior.\n",
      "  _warn_prf(average, modifier, msg_start, len(result))\n"
     ]
    },
    {
     "name": "stdout",
     "output_type": "stream",
     "text": [
      "[3, 1, 1, 4, 0.8, 0.1, 0.0] 0.6963061867025722\n"
     ]
    },
    {
     "name": "stderr",
     "output_type": "stream",
     "text": [
      "/Users/julianhough/miniforge3/lib/python3.10/site-packages/sklearn/metrics/_classification.py:1344: UndefinedMetricWarning: Precision and F-score are ill-defined and being set to 0.0 in labels with no predicted samples. Use `zero_division` parameter to control this behavior.\n",
      "  _warn_prf(average, modifier, msg_start, len(result))\n"
     ]
    },
    {
     "name": "stdout",
     "output_type": "stream",
     "text": [
      "[3, 1, 1, 4, 0.8, 0.1, 0.05] 0.760620755144385\n",
      "[3, 1, 1, 4, 0.8, 0.1, 0.1] 0.7847222076006816\n",
      "[3, 1, 1, 4, 0.8, 0.1, 0.15] 0.8129912581318723\n",
      "[3, 1, 1, 4, 0.8, 0.1, 0.2] 0.8216042068453696\n",
      "[3, 1, 1, 4, 0.8, 0.1, 0.25] 0.8227953959468444\n",
      "[3, 1, 1, 4, 0.8, 0.1, 0.3] 0.8238977450869738\n",
      "[3, 1, 1, 4, 0.8, 0.1, 0.35] 0.8271566882890881\n",
      "[3, 1, 1, 4, 0.8, 0.1, 0.4] 0.830037295364242\n",
      "[3, 1, 1, 4, 0.8, 0.1, 0.45] 0.8304382782501888\n",
      "[3, 1, 1, 4, 0.8, 0.1, 0.5] 0.8313059517845363\n",
      "[3, 1, 1, 4, 0.8, 0.1, 0.55] 0.8324440627788344\n",
      "[3, 1, 1, 4, 0.8, 0.1, 0.6] 0.8310625052219275\n"
     ]
    },
    {
     "name": "stderr",
     "output_type": "stream",
     "text": [
      "/Users/julianhough/miniforge3/lib/python3.10/site-packages/sklearn/metrics/_classification.py:1344: UndefinedMetricWarning: Precision and F-score are ill-defined and being set to 0.0 in labels with no predicted samples. Use `zero_division` parameter to control this behavior.\n",
      "  _warn_prf(average, modifier, msg_start, len(result))\n",
      "/Users/julianhough/miniforge3/lib/python3.10/site-packages/sklearn/metrics/_classification.py:1344: UndefinedMetricWarning: Precision and F-score are ill-defined and being set to 0.0 in labels with no predicted samples. Use `zero_division` parameter to control this behavior.\n",
      "  _warn_prf(average, modifier, msg_start, len(result))\n"
     ]
    },
    {
     "name": "stdout",
     "output_type": "stream",
     "text": [
      "[3, 1, 1, 5, 0.8, 0.1, 0.0] 0.6963061867025722\n"
     ]
    },
    {
     "name": "stderr",
     "output_type": "stream",
     "text": [
      "/Users/julianhough/miniforge3/lib/python3.10/site-packages/sklearn/metrics/_classification.py:1344: UndefinedMetricWarning: Precision and F-score are ill-defined and being set to 0.0 in labels with no predicted samples. Use `zero_division` parameter to control this behavior.\n",
      "  _warn_prf(average, modifier, msg_start, len(result))\n"
     ]
    },
    {
     "name": "stdout",
     "output_type": "stream",
     "text": [
      "[3, 1, 1, 5, 0.8, 0.1, 0.05] 0.7642053541596333\n",
      "[3, 1, 1, 5, 0.8, 0.1, 0.1] 0.7825480497773581\n",
      "[3, 1, 1, 5, 0.8, 0.1, 0.15] 0.8099909978965301\n",
      "[3, 1, 1, 5, 0.8, 0.1, 0.2] 0.8202165914116367\n",
      "[3, 1, 1, 5, 0.8, 0.1, 0.25] 0.8211570594118534\n",
      "[3, 1, 1, 5, 0.8, 0.1, 0.3] 0.8224093126275311\n",
      "[3, 1, 1, 5, 0.8, 0.1, 0.35] 0.8254682773073648\n",
      "[3, 1, 1, 5, 0.8, 0.1, 0.4] 0.8266096609250158\n",
      "[3, 1, 1, 5, 0.8, 0.1, 0.45] 0.8280590743517166\n",
      "[3, 1, 1, 5, 0.8, 0.1, 0.5] 0.8285783956058393\n",
      "[3, 1, 1, 5, 0.8, 0.1, 0.55] 0.8298242458084355\n",
      "[3, 1, 1, 5, 0.8, 0.1, 0.6] 0.8272385140078998\n"
     ]
    },
    {
     "name": "stderr",
     "output_type": "stream",
     "text": [
      "/Users/julianhough/miniforge3/lib/python3.10/site-packages/sklearn/metrics/_classification.py:1344: UndefinedMetricWarning: Precision and F-score are ill-defined and being set to 0.0 in labels with no predicted samples. Use `zero_division` parameter to control this behavior.\n",
      "  _warn_prf(average, modifier, msg_start, len(result))\n",
      "/Users/julianhough/miniforge3/lib/python3.10/site-packages/sklearn/metrics/_classification.py:1344: UndefinedMetricWarning: Precision and F-score are ill-defined and being set to 0.0 in labels with no predicted samples. Use `zero_division` parameter to control this behavior.\n",
      "  _warn_prf(average, modifier, msg_start, len(result))\n"
     ]
    },
    {
     "name": "stdout",
     "output_type": "stream",
     "text": [
      "[3, 1, 1, 6, 0.8, 0.1, 0.0] 0.6963061867025722\n"
     ]
    },
    {
     "name": "stderr",
     "output_type": "stream",
     "text": [
      "/Users/julianhough/miniforge3/lib/python3.10/site-packages/sklearn/metrics/_classification.py:1344: UndefinedMetricWarning: Precision and F-score are ill-defined and being set to 0.0 in labels with no predicted samples. Use `zero_division` parameter to control this behavior.\n",
      "  _warn_prf(average, modifier, msg_start, len(result))\n"
     ]
    },
    {
     "name": "stdout",
     "output_type": "stream",
     "text": [
      "[3, 1, 1, 6, 0.8, 0.1, 0.05] 0.763771062072635\n",
      "[3, 1, 1, 6, 0.8, 0.1, 0.1] 0.7774657355274559\n",
      "[3, 1, 1, 6, 0.8, 0.1, 0.15] 0.8052411039590115\n",
      "[3, 1, 1, 6, 0.8, 0.1, 0.2] 0.818654432074337\n",
      "[3, 1, 1, 6, 0.8, 0.1, 0.25] 0.8230712034365306\n",
      "[3, 1, 1, 6, 0.8, 0.1, 0.3] 0.8229697735223097\n"
     ]
    },
    {
     "name": "stderr",
     "output_type": "stream",
     "text": [
      "/Users/julianhough/miniforge3/lib/python3.10/site-packages/sklearn/metrics/_classification.py:1344: UndefinedMetricWarning: Precision and F-score are ill-defined and being set to 0.0 in labels with no predicted samples. Use `zero_division` parameter to control this behavior.\n",
      "  _warn_prf(average, modifier, msg_start, len(result))\n",
      "/Users/julianhough/miniforge3/lib/python3.10/site-packages/sklearn/metrics/_classification.py:1344: UndefinedMetricWarning: Precision and F-score are ill-defined and being set to 0.0 in labels with no predicted samples. Use `zero_division` parameter to control this behavior.\n",
      "  _warn_prf(average, modifier, msg_start, len(result))\n"
     ]
    },
    {
     "name": "stdout",
     "output_type": "stream",
     "text": [
      "[3, 1, 1, 7, 0.8, 0.1, 0.0] 0.6963061867025722\n"
     ]
    },
    {
     "name": "stderr",
     "output_type": "stream",
     "text": [
      "/Users/julianhough/miniforge3/lib/python3.10/site-packages/sklearn/metrics/_classification.py:1344: UndefinedMetricWarning: Precision and F-score are ill-defined and being set to 0.0 in labels with no predicted samples. Use `zero_division` parameter to control this behavior.\n",
      "  _warn_prf(average, modifier, msg_start, len(result))\n",
      "/Users/julianhough/miniforge3/lib/python3.10/site-packages/sklearn/metrics/_classification.py:1344: UndefinedMetricWarning: Precision and F-score are ill-defined and being set to 0.0 in labels with no predicted samples. Use `zero_division` parameter to control this behavior.\n",
      "  _warn_prf(average, modifier, msg_start, len(result))\n"
     ]
    },
    {
     "name": "stdout",
     "output_type": "stream",
     "text": [
      "[3, 1, 1, 7, 0.8, 0.1, 0.05] 0.7635044877807476\n",
      "[3, 1, 1, 7, 0.8, 0.1, 0.1] 0.7758358334573442\n",
      "[3, 1, 1, 7, 0.8, 0.1, 0.15] 0.8023455287734339\n",
      "[3, 1, 1, 7, 0.8, 0.1, 0.2] 0.8176590118188664\n",
      "[3, 1, 1, 7, 0.8, 0.1, 0.25] 0.8220855583553577\n",
      "[3, 1, 1, 7, 0.8, 0.1, 0.3] 0.8237328306102552\n",
      "[3, 1, 1, 7, 0.8, 0.1, 0.35] 0.8261881280169412\n",
      "[3, 1, 1, 7, 0.8, 0.1, 0.4] 0.8277193393739699\n",
      "[3, 1, 1, 7, 0.8, 0.1, 0.45] 0.828925144676437\n",
      "[3, 1, 1, 7, 0.8, 0.1, 0.5] 0.8299690329201316\n",
      "[3, 1, 1, 7, 0.8, 0.1, 0.55] 0.8292774495353218\n"
     ]
    },
    {
     "name": "stderr",
     "output_type": "stream",
     "text": [
      "/Users/julianhough/miniforge3/lib/python3.10/site-packages/sklearn/metrics/_classification.py:1344: UndefinedMetricWarning: Precision and F-score are ill-defined and being set to 0.0 in labels with no predicted samples. Use `zero_division` parameter to control this behavior.\n",
      "  _warn_prf(average, modifier, msg_start, len(result))\n",
      "/Users/julianhough/miniforge3/lib/python3.10/site-packages/sklearn/metrics/_classification.py:1344: UndefinedMetricWarning: Precision and F-score are ill-defined and being set to 0.0 in labels with no predicted samples. Use `zero_division` parameter to control this behavior.\n",
      "  _warn_prf(average, modifier, msg_start, len(result))\n"
     ]
    },
    {
     "name": "stdout",
     "output_type": "stream",
     "text": [
      "[3, 1, 1, 8, 0.8, 0.1, 0.0] 0.6963061867025722\n"
     ]
    },
    {
     "name": "stderr",
     "output_type": "stream",
     "text": [
      "/Users/julianhough/miniforge3/lib/python3.10/site-packages/sklearn/metrics/_classification.py:1344: UndefinedMetricWarning: Precision and F-score are ill-defined and being set to 0.0 in labels with no predicted samples. Use `zero_division` parameter to control this behavior.\n",
      "  _warn_prf(average, modifier, msg_start, len(result))\n",
      "/Users/julianhough/miniforge3/lib/python3.10/site-packages/sklearn/metrics/_classification.py:1344: UndefinedMetricWarning: Precision and F-score are ill-defined and being set to 0.0 in labels with no predicted samples. Use `zero_division` parameter to control this behavior.\n",
      "  _warn_prf(average, modifier, msg_start, len(result))\n"
     ]
    },
    {
     "name": "stdout",
     "output_type": "stream",
     "text": [
      "[3, 1, 1, 8, 0.8, 0.1, 0.05] 0.7631892825089651\n"
     ]
    },
    {
     "name": "stderr",
     "output_type": "stream",
     "text": [
      "/Users/julianhough/miniforge3/lib/python3.10/site-packages/sklearn/metrics/_classification.py:1344: UndefinedMetricWarning: Precision and F-score are ill-defined and being set to 0.0 in labels with no predicted samples. Use `zero_division` parameter to control this behavior.\n",
      "  _warn_prf(average, modifier, msg_start, len(result))\n"
     ]
    },
    {
     "name": "stdout",
     "output_type": "stream",
     "text": [
      "[3, 1, 1, 8, 0.8, 0.1, 0.1] 0.7759330111438635\n",
      "[3, 1, 1, 8, 0.8, 0.1, 0.15] 0.7976252806912164\n",
      "[3, 1, 1, 8, 0.8, 0.1, 0.2] 0.8168606029112434\n",
      "[3, 1, 1, 8, 0.8, 0.1, 0.25] 0.8221357424447129\n",
      "[3, 1, 1, 8, 0.8, 0.1, 0.3] 0.825993910497495\n",
      "[3, 1, 1, 8, 0.8, 0.1, 0.35] 0.8257114450633367\n"
     ]
    },
    {
     "name": "stderr",
     "output_type": "stream",
     "text": [
      "/Users/julianhough/miniforge3/lib/python3.10/site-packages/sklearn/metrics/_classification.py:1344: UndefinedMetricWarning: Precision and F-score are ill-defined and being set to 0.0 in labels with no predicted samples. Use `zero_division` parameter to control this behavior.\n",
      "  _warn_prf(average, modifier, msg_start, len(result))\n",
      "/Users/julianhough/miniforge3/lib/python3.10/site-packages/sklearn/metrics/_classification.py:1344: UndefinedMetricWarning: Precision and F-score are ill-defined and being set to 0.0 in labels with no predicted samples. Use `zero_division` parameter to control this behavior.\n",
      "  _warn_prf(average, modifier, msg_start, len(result))\n"
     ]
    },
    {
     "name": "stdout",
     "output_type": "stream",
     "text": [
      "[3, 1, 1, 9, 0.8, 0.1, 0.0] 0.6963061867025722\n"
     ]
    },
    {
     "name": "stderr",
     "output_type": "stream",
     "text": [
      "/Users/julianhough/miniforge3/lib/python3.10/site-packages/sklearn/metrics/_classification.py:1344: UndefinedMetricWarning: Precision and F-score are ill-defined and being set to 0.0 in labels with no predicted samples. Use `zero_division` parameter to control this behavior.\n",
      "  _warn_prf(average, modifier, msg_start, len(result))\n",
      "/Users/julianhough/miniforge3/lib/python3.10/site-packages/sklearn/metrics/_classification.py:1344: UndefinedMetricWarning: Precision and F-score are ill-defined and being set to 0.0 in labels with no predicted samples. Use `zero_division` parameter to control this behavior.\n",
      "  _warn_prf(average, modifier, msg_start, len(result))\n"
     ]
    },
    {
     "name": "stdout",
     "output_type": "stream",
     "text": [
      "[3, 1, 1, 9, 0.8, 0.1, 0.05] 0.7644743572229363\n"
     ]
    },
    {
     "name": "stderr",
     "output_type": "stream",
     "text": [
      "/Users/julianhough/miniforge3/lib/python3.10/site-packages/sklearn/metrics/_classification.py:1344: UndefinedMetricWarning: Precision and F-score are ill-defined and being set to 0.0 in labels with no predicted samples. Use `zero_division` parameter to control this behavior.\n",
      "  _warn_prf(average, modifier, msg_start, len(result))\n"
     ]
    },
    {
     "name": "stdout",
     "output_type": "stream",
     "text": [
      "[3, 1, 1, 9, 0.8, 0.1, 0.1] 0.7748392821965516\n",
      "[3, 1, 1, 9, 0.8, 0.1, 0.15] 0.7927871827031628\n",
      "[3, 1, 1, 9, 0.8, 0.1, 0.2] 0.8146609124909869\n",
      "[3, 1, 1, 9, 0.8, 0.1, 0.25] 0.8210276868228951\n",
      "[3, 1, 1, 9, 0.8, 0.1, 0.3] 0.8239768875993541\n",
      "[3, 1, 1, 9, 0.8, 0.1, 0.35] 0.8251788292189408\n",
      "[3, 1, 1, 9, 0.8, 0.1, 0.4] 0.8283190163363848\n",
      "[3, 1, 1, 9, 0.8, 0.1, 0.45] 0.8297755982568206\n",
      "[3, 1, 1, 9, 0.8, 0.1, 0.5] 0.8300805153028047\n",
      "[3, 1, 1, 9, 0.8, 0.1, 0.55] 0.8295259189038126\n"
     ]
    },
    {
     "name": "stderr",
     "output_type": "stream",
     "text": [
      "/Users/julianhough/miniforge3/lib/python3.10/site-packages/sklearn/metrics/_classification.py:1344: UndefinedMetricWarning: Precision and F-score are ill-defined and being set to 0.0 in labels with no predicted samples. Use `zero_division` parameter to control this behavior.\n",
      "  _warn_prf(average, modifier, msg_start, len(result))\n",
      "/Users/julianhough/miniforge3/lib/python3.10/site-packages/sklearn/metrics/_classification.py:1344: UndefinedMetricWarning: Precision and F-score are ill-defined and being set to 0.0 in labels with no predicted samples. Use `zero_division` parameter to control this behavior.\n",
      "  _warn_prf(average, modifier, msg_start, len(result))\n"
     ]
    },
    {
     "name": "stdout",
     "output_type": "stream",
     "text": [
      "[3, 1, 1, 10, 0.8, 0.1, 0.0] 0.6963061867025722\n"
     ]
    },
    {
     "name": "stderr",
     "output_type": "stream",
     "text": [
      "/Users/julianhough/miniforge3/lib/python3.10/site-packages/sklearn/metrics/_classification.py:1344: UndefinedMetricWarning: Precision and F-score are ill-defined and being set to 0.0 in labels with no predicted samples. Use `zero_division` parameter to control this behavior.\n",
      "  _warn_prf(average, modifier, msg_start, len(result))\n",
      "/Users/julianhough/miniforge3/lib/python3.10/site-packages/sklearn/metrics/_classification.py:1344: UndefinedMetricWarning: Precision and F-score are ill-defined and being set to 0.0 in labels with no predicted samples. Use `zero_division` parameter to control this behavior.\n",
      "  _warn_prf(average, modifier, msg_start, len(result))\n"
     ]
    },
    {
     "name": "stdout",
     "output_type": "stream",
     "text": [
      "[3, 1, 1, 10, 0.8, 0.1, 0.05] 0.764520101885778\n"
     ]
    },
    {
     "name": "stderr",
     "output_type": "stream",
     "text": [
      "/Users/julianhough/miniforge3/lib/python3.10/site-packages/sklearn/metrics/_classification.py:1344: UndefinedMetricWarning: Precision and F-score are ill-defined and being set to 0.0 in labels with no predicted samples. Use `zero_division` parameter to control this behavior.\n",
      "  _warn_prf(average, modifier, msg_start, len(result))\n"
     ]
    },
    {
     "name": "stdout",
     "output_type": "stream",
     "text": [
      "[3, 1, 1, 10, 0.8, 0.1, 0.1] 0.7740152663981386\n",
      "[3, 1, 1, 10, 0.8, 0.1, 0.15] 0.7913456524505067\n",
      "[3, 1, 1, 10, 0.8, 0.1, 0.2] 0.8100860742815776\n",
      "[3, 1, 1, 10, 0.8, 0.1, 0.25] 0.8212921823034579\n",
      "[3, 1, 1, 10, 0.8, 0.1, 0.3] 0.8251389083065612\n",
      "[3, 1, 1, 10, 0.8, 0.1, 0.35] 0.8241003812141369\n"
     ]
    },
    {
     "name": "stderr",
     "output_type": "stream",
     "text": [
      "/Users/julianhough/miniforge3/lib/python3.10/site-packages/sklearn/metrics/_classification.py:1344: UndefinedMetricWarning: Precision and F-score are ill-defined and being set to 0.0 in labels with no predicted samples. Use `zero_division` parameter to control this behavior.\n",
      "  _warn_prf(average, modifier, msg_start, len(result))\n",
      "/Users/julianhough/miniforge3/lib/python3.10/site-packages/sklearn/metrics/_classification.py:1344: UndefinedMetricWarning: Precision and F-score are ill-defined and being set to 0.0 in labels with no predicted samples. Use `zero_division` parameter to control this behavior.\n",
      "  _warn_prf(average, modifier, msg_start, len(result))\n"
     ]
    },
    {
     "name": "stdout",
     "output_type": "stream",
     "text": [
      "[3, 1, 1, 1, 0.85, 0.1, 0.0] 0.6949494615563733\n"
     ]
    },
    {
     "name": "stderr",
     "output_type": "stream",
     "text": [
      "/Users/julianhough/miniforge3/lib/python3.10/site-packages/sklearn/metrics/_classification.py:1344: UndefinedMetricWarning: Precision and F-score are ill-defined and being set to 0.0 in labels with no predicted samples. Use `zero_division` parameter to control this behavior.\n",
      "  _warn_prf(average, modifier, msg_start, len(result))\n"
     ]
    },
    {
     "name": "stdout",
     "output_type": "stream",
     "text": [
      "[3, 1, 1, 1, 0.85, 0.1, 0.05] 0.7664139926546376\n",
      "[3, 1, 1, 1, 0.85, 0.1, 0.1] 0.7995655961899965\n",
      "[3, 1, 1, 1, 0.85, 0.1, 0.15] 0.8141211151947408\n",
      "[3, 1, 1, 1, 0.85, 0.1, 0.2] 0.8212767758115305\n",
      "[3, 1, 1, 1, 0.85, 0.1, 0.25] 0.8253357693036502\n",
      "[3, 1, 1, 1, 0.85, 0.1, 0.3] 0.8296251349860025\n",
      "[3, 1, 1, 1, 0.85, 0.1, 0.35] 0.8307660303818987\n",
      "[3, 1, 1, 1, 0.85, 0.1, 0.4] 0.8293841701790198\n"
     ]
    },
    {
     "name": "stderr",
     "output_type": "stream",
     "text": [
      "/Users/julianhough/miniforge3/lib/python3.10/site-packages/sklearn/metrics/_classification.py:1344: UndefinedMetricWarning: Precision and F-score are ill-defined and being set to 0.0 in labels with no predicted samples. Use `zero_division` parameter to control this behavior.\n",
      "  _warn_prf(average, modifier, msg_start, len(result))\n",
      "/Users/julianhough/miniforge3/lib/python3.10/site-packages/sklearn/metrics/_classification.py:1344: UndefinedMetricWarning: Precision and F-score are ill-defined and being set to 0.0 in labels with no predicted samples. Use `zero_division` parameter to control this behavior.\n",
      "  _warn_prf(average, modifier, msg_start, len(result))\n"
     ]
    },
    {
     "name": "stdout",
     "output_type": "stream",
     "text": [
      "[3, 1, 1, 2, 0.85, 0.1, 0.0] 0.6949494615563733\n"
     ]
    },
    {
     "name": "stderr",
     "output_type": "stream",
     "text": [
      "/Users/julianhough/miniforge3/lib/python3.10/site-packages/sklearn/metrics/_classification.py:1344: UndefinedMetricWarning: Precision and F-score are ill-defined and being set to 0.0 in labels with no predicted samples. Use `zero_division` parameter to control this behavior.\n",
      "  _warn_prf(average, modifier, msg_start, len(result))\n"
     ]
    },
    {
     "name": "stdout",
     "output_type": "stream",
     "text": [
      "[3, 1, 1, 2, 0.85, 0.1, 0.05] 0.7670158353999185\n",
      "[3, 1, 1, 2, 0.85, 0.1, 0.1] 0.8006836770985188\n",
      "[3, 1, 1, 2, 0.85, 0.1, 0.15] 0.8144993058646166\n",
      "[3, 1, 1, 2, 0.85, 0.1, 0.2] 0.8193298801440614\n",
      "[3, 1, 1, 2, 0.85, 0.1, 0.25] 0.8264056209986419\n",
      "[3, 1, 1, 2, 0.85, 0.1, 0.3] 0.8289473918785438\n",
      "[3, 1, 1, 2, 0.85, 0.1, 0.35] 0.8309428343367179\n",
      "[3, 1, 1, 2, 0.85, 0.1, 0.4] 0.8295281360021493\n"
     ]
    },
    {
     "name": "stderr",
     "output_type": "stream",
     "text": [
      "/Users/julianhough/miniforge3/lib/python3.10/site-packages/sklearn/metrics/_classification.py:1344: UndefinedMetricWarning: Precision and F-score are ill-defined and being set to 0.0 in labels with no predicted samples. Use `zero_division` parameter to control this behavior.\n",
      "  _warn_prf(average, modifier, msg_start, len(result))\n",
      "/Users/julianhough/miniforge3/lib/python3.10/site-packages/sklearn/metrics/_classification.py:1344: UndefinedMetricWarning: Precision and F-score are ill-defined and being set to 0.0 in labels with no predicted samples. Use `zero_division` parameter to control this behavior.\n",
      "  _warn_prf(average, modifier, msg_start, len(result))\n"
     ]
    },
    {
     "name": "stdout",
     "output_type": "stream",
     "text": [
      "[3, 1, 1, 3, 0.85, 0.1, 0.0] 0.6949494615563733\n"
     ]
    },
    {
     "name": "stderr",
     "output_type": "stream",
     "text": [
      "/Users/julianhough/miniforge3/lib/python3.10/site-packages/sklearn/metrics/_classification.py:1344: UndefinedMetricWarning: Precision and F-score are ill-defined and being set to 0.0 in labels with no predicted samples. Use `zero_division` parameter to control this behavior.\n",
      "  _warn_prf(average, modifier, msg_start, len(result))\n",
      "/Users/julianhough/miniforge3/lib/python3.10/site-packages/sklearn/metrics/_classification.py:1344: UndefinedMetricWarning: Precision and F-score are ill-defined and being set to 0.0 in labels with no predicted samples. Use `zero_division` parameter to control this behavior.\n",
      "  _warn_prf(average, modifier, msg_start, len(result))\n"
     ]
    },
    {
     "name": "stdout",
     "output_type": "stream",
     "text": [
      "[3, 1, 1, 3, 0.85, 0.1, 0.05] 0.7567794445195766\n",
      "[3, 1, 1, 3, 0.85, 0.1, 0.1] 0.789905370037526\n",
      "[3, 1, 1, 3, 0.85, 0.1, 0.15] 0.8150778702606047\n",
      "[3, 1, 1, 3, 0.85, 0.1, 0.2] 0.8206144955870742\n",
      "[3, 1, 1, 3, 0.85, 0.1, 0.25] 0.8229639090510642\n",
      "[3, 1, 1, 3, 0.85, 0.1, 0.3] 0.8278089170128122\n",
      "[3, 1, 1, 3, 0.85, 0.1, 0.35] 0.8293833574700382\n",
      "[3, 1, 1, 3, 0.85, 0.1, 0.4] 0.8299818221981925\n",
      "[3, 1, 1, 3, 0.85, 0.1, 0.45] 0.8311031967884028\n",
      "[3, 1, 1, 3, 0.85, 0.1, 0.5] 0.8317076911970659\n",
      "[3, 1, 1, 3, 0.85, 0.1, 0.55] 0.8315839858345981\n"
     ]
    },
    {
     "name": "stderr",
     "output_type": "stream",
     "text": [
      "/Users/julianhough/miniforge3/lib/python3.10/site-packages/sklearn/metrics/_classification.py:1344: UndefinedMetricWarning: Precision and F-score are ill-defined and being set to 0.0 in labels with no predicted samples. Use `zero_division` parameter to control this behavior.\n",
      "  _warn_prf(average, modifier, msg_start, len(result))\n",
      "/Users/julianhough/miniforge3/lib/python3.10/site-packages/sklearn/metrics/_classification.py:1344: UndefinedMetricWarning: Precision and F-score are ill-defined and being set to 0.0 in labels with no predicted samples. Use `zero_division` parameter to control this behavior.\n",
      "  _warn_prf(average, modifier, msg_start, len(result))\n"
     ]
    },
    {
     "name": "stdout",
     "output_type": "stream",
     "text": [
      "[3, 1, 1, 4, 0.85, 0.1, 0.0] 0.6949494615563733\n"
     ]
    },
    {
     "name": "stderr",
     "output_type": "stream",
     "text": [
      "/Users/julianhough/miniforge3/lib/python3.10/site-packages/sklearn/metrics/_classification.py:1344: UndefinedMetricWarning: Precision and F-score are ill-defined and being set to 0.0 in labels with no predicted samples. Use `zero_division` parameter to control this behavior.\n",
      "  _warn_prf(average, modifier, msg_start, len(result))\n",
      "/Users/julianhough/miniforge3/lib/python3.10/site-packages/sklearn/metrics/_classification.py:1344: UndefinedMetricWarning: Precision and F-score are ill-defined and being set to 0.0 in labels with no predicted samples. Use `zero_division` parameter to control this behavior.\n",
      "  _warn_prf(average, modifier, msg_start, len(result))\n"
     ]
    },
    {
     "name": "stdout",
     "output_type": "stream",
     "text": [
      "[3, 1, 1, 4, 0.85, 0.1, 0.05] 0.757249366070602\n",
      "[3, 1, 1, 4, 0.85, 0.1, 0.1] 0.7853181623632197\n",
      "[3, 1, 1, 4, 0.85, 0.1, 0.15] 0.8115373436783377\n",
      "[3, 1, 1, 4, 0.85, 0.1, 0.2] 0.8214120131403455\n",
      "[3, 1, 1, 4, 0.85, 0.1, 0.25] 0.821740027400936\n",
      "[3, 1, 1, 4, 0.85, 0.1, 0.3] 0.8254809904005035\n",
      "[3, 1, 1, 4, 0.85, 0.1, 0.35] 0.8284770116079198\n",
      "[3, 1, 1, 4, 0.85, 0.1, 0.4] 0.8307398912486456\n",
      "[3, 1, 1, 4, 0.85, 0.1, 0.45] 0.831080164275203\n",
      "[3, 1, 1, 4, 0.85, 0.1, 0.5] 0.8312384882226809\n",
      "[3, 1, 1, 4, 0.85, 0.1, 0.55] 0.8319862372846739\n",
      "[3, 1, 1, 4, 0.85, 0.1, 0.6] 0.8309031218934805\n"
     ]
    },
    {
     "name": "stderr",
     "output_type": "stream",
     "text": [
      "/Users/julianhough/miniforge3/lib/python3.10/site-packages/sklearn/metrics/_classification.py:1344: UndefinedMetricWarning: Precision and F-score are ill-defined and being set to 0.0 in labels with no predicted samples. Use `zero_division` parameter to control this behavior.\n",
      "  _warn_prf(average, modifier, msg_start, len(result))\n",
      "/Users/julianhough/miniforge3/lib/python3.10/site-packages/sklearn/metrics/_classification.py:1344: UndefinedMetricWarning: Precision and F-score are ill-defined and being set to 0.0 in labels with no predicted samples. Use `zero_division` parameter to control this behavior.\n",
      "  _warn_prf(average, modifier, msg_start, len(result))\n"
     ]
    },
    {
     "name": "stdout",
     "output_type": "stream",
     "text": [
      "[3, 1, 1, 5, 0.85, 0.1, 0.0] 0.6949494615563733\n"
     ]
    },
    {
     "name": "stderr",
     "output_type": "stream",
     "text": [
      "/Users/julianhough/miniforge3/lib/python3.10/site-packages/sklearn/metrics/_classification.py:1344: UndefinedMetricWarning: Precision and F-score are ill-defined and being set to 0.0 in labels with no predicted samples. Use `zero_division` parameter to control this behavior.\n",
      "  _warn_prf(average, modifier, msg_start, len(result))\n"
     ]
    },
    {
     "name": "stdout",
     "output_type": "stream",
     "text": [
      "[3, 1, 1, 5, 0.85, 0.1, 0.05] 0.7649138869003484\n",
      "[3, 1, 1, 5, 0.85, 0.1, 0.1] 0.7838402596318984\n",
      "[3, 1, 1, 5, 0.85, 0.1, 0.15] 0.8092276295932932\n",
      "[3, 1, 1, 5, 0.85, 0.1, 0.2] 0.8207725847064883\n",
      "[3, 1, 1, 5, 0.85, 0.1, 0.25] 0.8232122063319639\n",
      "[3, 1, 1, 5, 0.85, 0.1, 0.3] 0.8251589710752205\n",
      "[3, 1, 1, 5, 0.85, 0.1, 0.35] 0.8280502449028818\n",
      "[3, 1, 1, 5, 0.85, 0.1, 0.4] 0.8273323283844671\n"
     ]
    },
    {
     "name": "stderr",
     "output_type": "stream",
     "text": [
      "/Users/julianhough/miniforge3/lib/python3.10/site-packages/sklearn/metrics/_classification.py:1344: UndefinedMetricWarning: Precision and F-score are ill-defined and being set to 0.0 in labels with no predicted samples. Use `zero_division` parameter to control this behavior.\n",
      "  _warn_prf(average, modifier, msg_start, len(result))\n",
      "/Users/julianhough/miniforge3/lib/python3.10/site-packages/sklearn/metrics/_classification.py:1344: UndefinedMetricWarning: Precision and F-score are ill-defined and being set to 0.0 in labels with no predicted samples. Use `zero_division` parameter to control this behavior.\n",
      "  _warn_prf(average, modifier, msg_start, len(result))\n"
     ]
    },
    {
     "name": "stdout",
     "output_type": "stream",
     "text": [
      "[3, 1, 1, 6, 0.85, 0.1, 0.0] 0.6949494615563733\n"
     ]
    },
    {
     "name": "stderr",
     "output_type": "stream",
     "text": [
      "/Users/julianhough/miniforge3/lib/python3.10/site-packages/sklearn/metrics/_classification.py:1344: UndefinedMetricWarning: Precision and F-score are ill-defined and being set to 0.0 in labels with no predicted samples. Use `zero_division` parameter to control this behavior.\n",
      "  _warn_prf(average, modifier, msg_start, len(result))\n",
      "/Users/julianhough/miniforge3/lib/python3.10/site-packages/sklearn/metrics/_classification.py:1344: UndefinedMetricWarning: Precision and F-score are ill-defined and being set to 0.0 in labels with no predicted samples. Use `zero_division` parameter to control this behavior.\n",
      "  _warn_prf(average, modifier, msg_start, len(result))\n"
     ]
    },
    {
     "name": "stdout",
     "output_type": "stream",
     "text": [
      "[3, 1, 1, 6, 0.85, 0.1, 0.05] 0.7596807817537521\n",
      "[3, 1, 1, 6, 0.85, 0.1, 0.1] 0.7786466466690358\n",
      "[3, 1, 1, 6, 0.85, 0.1, 0.15] 0.8034842531886401\n",
      "[3, 1, 1, 6, 0.85, 0.1, 0.2] 0.8187886174582956\n",
      "[3, 1, 1, 6, 0.85, 0.1, 0.25] 0.8225750373300633\n",
      "[3, 1, 1, 6, 0.85, 0.1, 0.3] 0.8225924061126817\n",
      "[3, 1, 1, 6, 0.85, 0.1, 0.35] 0.8247987909873794\n",
      "[3, 1, 1, 6, 0.85, 0.1, 0.4] 0.8277465960497644\n",
      "[3, 1, 1, 6, 0.85, 0.1, 0.45] 0.8288523983817286\n",
      "[3, 1, 1, 6, 0.85, 0.1, 0.5] 0.8286409254547852\n"
     ]
    },
    {
     "name": "stderr",
     "output_type": "stream",
     "text": [
      "/Users/julianhough/miniforge3/lib/python3.10/site-packages/sklearn/metrics/_classification.py:1344: UndefinedMetricWarning: Precision and F-score are ill-defined and being set to 0.0 in labels with no predicted samples. Use `zero_division` parameter to control this behavior.\n",
      "  _warn_prf(average, modifier, msg_start, len(result))\n",
      "/Users/julianhough/miniforge3/lib/python3.10/site-packages/sklearn/metrics/_classification.py:1344: UndefinedMetricWarning: Precision and F-score are ill-defined and being set to 0.0 in labels with no predicted samples. Use `zero_division` parameter to control this behavior.\n",
      "  _warn_prf(average, modifier, msg_start, len(result))\n"
     ]
    },
    {
     "name": "stdout",
     "output_type": "stream",
     "text": [
      "[3, 1, 1, 7, 0.85, 0.1, 0.0] 0.6949494615563733\n"
     ]
    },
    {
     "name": "stderr",
     "output_type": "stream",
     "text": [
      "/Users/julianhough/miniforge3/lib/python3.10/site-packages/sklearn/metrics/_classification.py:1344: UndefinedMetricWarning: Precision and F-score are ill-defined and being set to 0.0 in labels with no predicted samples. Use `zero_division` parameter to control this behavior.\n",
      "  _warn_prf(average, modifier, msg_start, len(result))\n",
      "/Users/julianhough/miniforge3/lib/python3.10/site-packages/sklearn/metrics/_classification.py:1344: UndefinedMetricWarning: Precision and F-score are ill-defined and being set to 0.0 in labels with no predicted samples. Use `zero_division` parameter to control this behavior.\n",
      "  _warn_prf(average, modifier, msg_start, len(result))\n"
     ]
    },
    {
     "name": "stdout",
     "output_type": "stream",
     "text": [
      "[3, 1, 1, 7, 0.85, 0.1, 0.05] 0.7644465753184571\n",
      "[3, 1, 1, 7, 0.85, 0.1, 0.1] 0.773446086736585\n",
      "[3, 1, 1, 7, 0.85, 0.1, 0.15] 0.7981744607460348\n",
      "[3, 1, 1, 7, 0.85, 0.1, 0.2] 0.8163662300182795\n",
      "[3, 1, 1, 7, 0.85, 0.1, 0.25] 0.8215855457896515\n",
      "[3, 1, 1, 7, 0.85, 0.1, 0.3] 0.8237970668531192\n",
      "[3, 1, 1, 7, 0.85, 0.1, 0.35] 0.8265218800555003\n",
      "[3, 1, 1, 7, 0.85, 0.1, 0.4] 0.8277085201604749\n",
      "[3, 1, 1, 7, 0.85, 0.1, 0.45] 0.8296583983745774\n",
      "[3, 1, 1, 7, 0.85, 0.1, 0.5] 0.8336647550672207\n",
      "best 0.8336647550672207 [3, 1, 1, 7, 0.85, 0.1, 0.5]\n",
      "[3, 1, 1, 7, 0.85, 0.1, 0.55] 0.8333339581478073\n"
     ]
    },
    {
     "name": "stderr",
     "output_type": "stream",
     "text": [
      "/Users/julianhough/miniforge3/lib/python3.10/site-packages/sklearn/metrics/_classification.py:1344: UndefinedMetricWarning: Precision and F-score are ill-defined and being set to 0.0 in labels with no predicted samples. Use `zero_division` parameter to control this behavior.\n",
      "  _warn_prf(average, modifier, msg_start, len(result))\n",
      "/Users/julianhough/miniforge3/lib/python3.10/site-packages/sklearn/metrics/_classification.py:1344: UndefinedMetricWarning: Precision and F-score are ill-defined and being set to 0.0 in labels with no predicted samples. Use `zero_division` parameter to control this behavior.\n",
      "  _warn_prf(average, modifier, msg_start, len(result))\n"
     ]
    },
    {
     "name": "stdout",
     "output_type": "stream",
     "text": [
      "[3, 1, 1, 8, 0.85, 0.1, 0.0] 0.6949494615563733\n"
     ]
    },
    {
     "name": "stderr",
     "output_type": "stream",
     "text": [
      "/Users/julianhough/miniforge3/lib/python3.10/site-packages/sklearn/metrics/_classification.py:1344: UndefinedMetricWarning: Precision and F-score are ill-defined and being set to 0.0 in labels with no predicted samples. Use `zero_division` parameter to control this behavior.\n",
      "  _warn_prf(average, modifier, msg_start, len(result))\n",
      "/Users/julianhough/miniforge3/lib/python3.10/site-packages/sklearn/metrics/_classification.py:1344: UndefinedMetricWarning: Precision and F-score are ill-defined and being set to 0.0 in labels with no predicted samples. Use `zero_division` parameter to control this behavior.\n",
      "  _warn_prf(average, modifier, msg_start, len(result))\n"
     ]
    },
    {
     "name": "stdout",
     "output_type": "stream",
     "text": [
      "[3, 1, 1, 8, 0.85, 0.1, 0.05] 0.7658050742735674\n"
     ]
    },
    {
     "name": "stderr",
     "output_type": "stream",
     "text": [
      "/Users/julianhough/miniforge3/lib/python3.10/site-packages/sklearn/metrics/_classification.py:1344: UndefinedMetricWarning: Precision and F-score are ill-defined and being set to 0.0 in labels with no predicted samples. Use `zero_division` parameter to control this behavior.\n",
      "  _warn_prf(average, modifier, msg_start, len(result))\n"
     ]
    },
    {
     "name": "stdout",
     "output_type": "stream",
     "text": [
      "[3, 1, 1, 8, 0.85, 0.1, 0.1] 0.7721925217024168\n",
      "[3, 1, 1, 8, 0.85, 0.1, 0.15] 0.7950951147338199\n",
      "[3, 1, 1, 8, 0.85, 0.1, 0.2] 0.8115965008269267\n",
      "[3, 1, 1, 8, 0.85, 0.1, 0.25] 0.8220256576474715\n",
      "[3, 1, 1, 8, 0.85, 0.1, 0.3] 0.8251616686528598\n",
      "[3, 1, 1, 8, 0.85, 0.1, 0.35] 0.8253651735530917\n",
      "[3, 1, 1, 8, 0.85, 0.1, 0.4] 0.8285798156987215\n",
      "[3, 1, 1, 8, 0.85, 0.1, 0.45] 0.8297985093630101\n",
      "[3, 1, 1, 8, 0.85, 0.1, 0.5] 0.8314300228067282\n",
      "[3, 1, 1, 8, 0.85, 0.1, 0.55] 0.8317838494718129\n",
      "[3, 1, 1, 8, 0.85, 0.1, 0.6] 0.8339469097773274\n",
      "best 0.8339469097773274 [3, 1, 1, 8, 0.85, 0.1, 0.6]\n",
      "[3, 1, 1, 8, 0.85, 0.1, 0.65] 0.83644294210399\n",
      "best 0.83644294210399 [3, 1, 1, 8, 0.85, 0.1, 0.65]\n",
      "[3, 1, 1, 8, 0.85, 0.1, 0.7] 0.8342980719653434\n"
     ]
    },
    {
     "name": "stderr",
     "output_type": "stream",
     "text": [
      "/Users/julianhough/miniforge3/lib/python3.10/site-packages/sklearn/metrics/_classification.py:1344: UndefinedMetricWarning: Precision and F-score are ill-defined and being set to 0.0 in labels with no predicted samples. Use `zero_division` parameter to control this behavior.\n",
      "  _warn_prf(average, modifier, msg_start, len(result))\n",
      "/Users/julianhough/miniforge3/lib/python3.10/site-packages/sklearn/metrics/_classification.py:1344: UndefinedMetricWarning: Precision and F-score are ill-defined and being set to 0.0 in labels with no predicted samples. Use `zero_division` parameter to control this behavior.\n",
      "  _warn_prf(average, modifier, msg_start, len(result))\n"
     ]
    },
    {
     "name": "stdout",
     "output_type": "stream",
     "text": [
      "[3, 1, 1, 9, 0.85, 0.1, 0.0] 0.6949494615563733\n"
     ]
    },
    {
     "name": "stderr",
     "output_type": "stream",
     "text": [
      "/Users/julianhough/miniforge3/lib/python3.10/site-packages/sklearn/metrics/_classification.py:1344: UndefinedMetricWarning: Precision and F-score are ill-defined and being set to 0.0 in labels with no predicted samples. Use `zero_division` parameter to control this behavior.\n",
      "  _warn_prf(average, modifier, msg_start, len(result))\n",
      "/Users/julianhough/miniforge3/lib/python3.10/site-packages/sklearn/metrics/_classification.py:1344: UndefinedMetricWarning: Precision and F-score are ill-defined and being set to 0.0 in labels with no predicted samples. Use `zero_division` parameter to control this behavior.\n",
      "  _warn_prf(average, modifier, msg_start, len(result))\n"
     ]
    },
    {
     "name": "stdout",
     "output_type": "stream",
     "text": [
      "[3, 1, 1, 9, 0.85, 0.1, 0.05] 0.7656478490318721\n"
     ]
    },
    {
     "name": "stderr",
     "output_type": "stream",
     "text": [
      "/Users/julianhough/miniforge3/lib/python3.10/site-packages/sklearn/metrics/_classification.py:1344: UndefinedMetricWarning: Precision and F-score are ill-defined and being set to 0.0 in labels with no predicted samples. Use `zero_division` parameter to control this behavior.\n",
      "  _warn_prf(average, modifier, msg_start, len(result))\n"
     ]
    },
    {
     "name": "stdout",
     "output_type": "stream",
     "text": [
      "[3, 1, 1, 9, 0.85, 0.1, 0.1] 0.77307053339558\n",
      "[3, 1, 1, 9, 0.85, 0.1, 0.15] 0.7935340185527188\n",
      "[3, 1, 1, 9, 0.85, 0.1, 0.2] 0.8102168756363556\n",
      "[3, 1, 1, 9, 0.85, 0.1, 0.25] 0.8209378734663338\n",
      "[3, 1, 1, 9, 0.85, 0.1, 0.3] 0.8241963006536407\n",
      "[3, 1, 1, 9, 0.85, 0.1, 0.35] 0.8238176956510737\n"
     ]
    },
    {
     "name": "stderr",
     "output_type": "stream",
     "text": [
      "/Users/julianhough/miniforge3/lib/python3.10/site-packages/sklearn/metrics/_classification.py:1344: UndefinedMetricWarning: Precision and F-score are ill-defined and being set to 0.0 in labels with no predicted samples. Use `zero_division` parameter to control this behavior.\n",
      "  _warn_prf(average, modifier, msg_start, len(result))\n",
      "/Users/julianhough/miniforge3/lib/python3.10/site-packages/sklearn/metrics/_classification.py:1344: UndefinedMetricWarning: Precision and F-score are ill-defined and being set to 0.0 in labels with no predicted samples. Use `zero_division` parameter to control this behavior.\n",
      "  _warn_prf(average, modifier, msg_start, len(result))\n"
     ]
    },
    {
     "name": "stdout",
     "output_type": "stream",
     "text": [
      "[3, 1, 1, 10, 0.85, 0.1, 0.0] 0.6949494615563733\n"
     ]
    },
    {
     "name": "stderr",
     "output_type": "stream",
     "text": [
      "/Users/julianhough/miniforge3/lib/python3.10/site-packages/sklearn/metrics/_classification.py:1344: UndefinedMetricWarning: Precision and F-score are ill-defined and being set to 0.0 in labels with no predicted samples. Use `zero_division` parameter to control this behavior.\n",
      "  _warn_prf(average, modifier, msg_start, len(result))\n",
      "/Users/julianhough/miniforge3/lib/python3.10/site-packages/sklearn/metrics/_classification.py:1344: UndefinedMetricWarning: Precision and F-score are ill-defined and being set to 0.0 in labels with no predicted samples. Use `zero_division` parameter to control this behavior.\n",
      "  _warn_prf(average, modifier, msg_start, len(result))\n"
     ]
    },
    {
     "name": "stdout",
     "output_type": "stream",
     "text": [
      "[3, 1, 1, 10, 0.85, 0.1, 0.05] 0.7661551111324466\n"
     ]
    },
    {
     "name": "stderr",
     "output_type": "stream",
     "text": [
      "/Users/julianhough/miniforge3/lib/python3.10/site-packages/sklearn/metrics/_classification.py:1344: UndefinedMetricWarning: Precision and F-score are ill-defined and being set to 0.0 in labels with no predicted samples. Use `zero_division` parameter to control this behavior.\n",
      "  _warn_prf(average, modifier, msg_start, len(result))\n"
     ]
    },
    {
     "name": "stdout",
     "output_type": "stream",
     "text": [
      "[3, 1, 1, 10, 0.85, 0.1, 0.1] 0.7708301745771726\n",
      "[3, 1, 1, 10, 0.85, 0.1, 0.15] 0.7932656771307515\n",
      "[3, 1, 1, 10, 0.85, 0.1, 0.2] 0.8100128958169117\n",
      "[3, 1, 1, 10, 0.85, 0.1, 0.25] 0.8217544049648856\n",
      "[3, 1, 1, 10, 0.85, 0.1, 0.3] 0.8242058800117322\n",
      "[3, 1, 1, 10, 0.85, 0.1, 0.35] 0.8232349192377102\n"
     ]
    },
    {
     "name": "stderr",
     "output_type": "stream",
     "text": [
      "/Users/julianhough/miniforge3/lib/python3.10/site-packages/sklearn/metrics/_classification.py:1344: UndefinedMetricWarning: Precision and F-score are ill-defined and being set to 0.0 in labels with no predicted samples. Use `zero_division` parameter to control this behavior.\n",
      "  _warn_prf(average, modifier, msg_start, len(result))\n",
      "/Users/julianhough/miniforge3/lib/python3.10/site-packages/sklearn/metrics/_classification.py:1344: UndefinedMetricWarning: Precision and F-score are ill-defined and being set to 0.0 in labels with no predicted samples. Use `zero_division` parameter to control this behavior.\n",
      "  _warn_prf(average, modifier, msg_start, len(result))\n"
     ]
    },
    {
     "name": "stdout",
     "output_type": "stream",
     "text": [
      "[3, 1, 1, 1, 0.9, 0.1, 0.0] 0.6922896523628713\n"
     ]
    },
    {
     "name": "stderr",
     "output_type": "stream",
     "text": [
      "/Users/julianhough/miniforge3/lib/python3.10/site-packages/sklearn/metrics/_classification.py:1344: UndefinedMetricWarning: Precision and F-score are ill-defined and being set to 0.0 in labels with no predicted samples. Use `zero_division` parameter to control this behavior.\n",
      "  _warn_prf(average, modifier, msg_start, len(result))\n"
     ]
    },
    {
     "name": "stdout",
     "output_type": "stream",
     "text": [
      "[3, 1, 1, 1, 0.9, 0.1, 0.05] 0.7649418918492018\n",
      "[3, 1, 1, 1, 0.9, 0.1, 0.1] 0.7985665227965851\n",
      "[3, 1, 1, 1, 0.9, 0.1, 0.15] 0.8137611987211333\n",
      "[3, 1, 1, 1, 0.9, 0.1, 0.2] 0.8208760596242554\n",
      "[3, 1, 1, 1, 0.9, 0.1, 0.25] 0.8245738716037679\n",
      "[3, 1, 1, 1, 0.9, 0.1, 0.3] 0.8292346529742411\n",
      "[3, 1, 1, 1, 0.9, 0.1, 0.35] 0.8314609903597281\n",
      "[3, 1, 1, 1, 0.9, 0.1, 0.4] 0.8302530278250562\n"
     ]
    },
    {
     "name": "stderr",
     "output_type": "stream",
     "text": [
      "/Users/julianhough/miniforge3/lib/python3.10/site-packages/sklearn/metrics/_classification.py:1344: UndefinedMetricWarning: Precision and F-score are ill-defined and being set to 0.0 in labels with no predicted samples. Use `zero_division` parameter to control this behavior.\n",
      "  _warn_prf(average, modifier, msg_start, len(result))\n",
      "/Users/julianhough/miniforge3/lib/python3.10/site-packages/sklearn/metrics/_classification.py:1344: UndefinedMetricWarning: Precision and F-score are ill-defined and being set to 0.0 in labels with no predicted samples. Use `zero_division` parameter to control this behavior.\n",
      "  _warn_prf(average, modifier, msg_start, len(result))\n"
     ]
    },
    {
     "name": "stdout",
     "output_type": "stream",
     "text": [
      "[3, 1, 1, 2, 0.9, 0.1, 0.0] 0.6922896523628713\n"
     ]
    },
    {
     "name": "stderr",
     "output_type": "stream",
     "text": [
      "/Users/julianhough/miniforge3/lib/python3.10/site-packages/sklearn/metrics/_classification.py:1344: UndefinedMetricWarning: Precision and F-score are ill-defined and being set to 0.0 in labels with no predicted samples. Use `zero_division` parameter to control this behavior.\n",
      "  _warn_prf(average, modifier, msg_start, len(result))\n"
     ]
    },
    {
     "name": "stdout",
     "output_type": "stream",
     "text": [
      "[3, 1, 1, 2, 0.9, 0.1, 0.05] 0.7659420924456075\n",
      "[3, 1, 1, 2, 0.9, 0.1, 0.1] 0.7982111858005295\n",
      "[3, 1, 1, 2, 0.9, 0.1, 0.15] 0.8141234514930267\n",
      "[3, 1, 1, 2, 0.9, 0.1, 0.2] 0.8198996119915316\n",
      "[3, 1, 1, 2, 0.9, 0.1, 0.25] 0.8243064904230782\n",
      "[3, 1, 1, 2, 0.9, 0.1, 0.3] 0.8288318536139417\n",
      "[3, 1, 1, 2, 0.9, 0.1, 0.35] 0.8301395658947808\n",
      "[3, 1, 1, 2, 0.9, 0.1, 0.4] 0.8303832778768969\n",
      "[3, 1, 1, 2, 0.9, 0.1, 0.45] 0.8314829163037833\n",
      "[3, 1, 1, 2, 0.9, 0.1, 0.5] 0.8343307654604983\n",
      "[3, 1, 1, 2, 0.9, 0.1, 0.55] 0.8350128506586207\n",
      "[3, 1, 1, 2, 0.9, 0.1, 0.6] 0.831247031846998\n"
     ]
    },
    {
     "name": "stderr",
     "output_type": "stream",
     "text": [
      "/Users/julianhough/miniforge3/lib/python3.10/site-packages/sklearn/metrics/_classification.py:1344: UndefinedMetricWarning: Precision and F-score are ill-defined and being set to 0.0 in labels with no predicted samples. Use `zero_division` parameter to control this behavior.\n",
      "  _warn_prf(average, modifier, msg_start, len(result))\n",
      "/Users/julianhough/miniforge3/lib/python3.10/site-packages/sklearn/metrics/_classification.py:1344: UndefinedMetricWarning: Precision and F-score are ill-defined and being set to 0.0 in labels with no predicted samples. Use `zero_division` parameter to control this behavior.\n",
      "  _warn_prf(average, modifier, msg_start, len(result))\n"
     ]
    },
    {
     "name": "stdout",
     "output_type": "stream",
     "text": [
      "[3, 1, 1, 3, 0.9, 0.1, 0.0] 0.6922896523628713\n"
     ]
    },
    {
     "name": "stderr",
     "output_type": "stream",
     "text": [
      "/Users/julianhough/miniforge3/lib/python3.10/site-packages/sklearn/metrics/_classification.py:1344: UndefinedMetricWarning: Precision and F-score are ill-defined and being set to 0.0 in labels with no predicted samples. Use `zero_division` parameter to control this behavior.\n",
      "  _warn_prf(average, modifier, msg_start, len(result))\n",
      "/Users/julianhough/miniforge3/lib/python3.10/site-packages/sklearn/metrics/_classification.py:1344: UndefinedMetricWarning: Precision and F-score are ill-defined and being set to 0.0 in labels with no predicted samples. Use `zero_division` parameter to control this behavior.\n",
      "  _warn_prf(average, modifier, msg_start, len(result))\n"
     ]
    },
    {
     "name": "stdout",
     "output_type": "stream",
     "text": [
      "[3, 1, 1, 3, 0.9, 0.1, 0.05] 0.7555105590006299\n",
      "[3, 1, 1, 3, 0.9, 0.1, 0.1] 0.790138073253708\n",
      "[3, 1, 1, 3, 0.9, 0.1, 0.15] 0.8149774903299531\n",
      "[3, 1, 1, 3, 0.9, 0.1, 0.2] 0.8192896842161289\n",
      "[3, 1, 1, 3, 0.9, 0.1, 0.25] 0.8245290106103204\n",
      "[3, 1, 1, 3, 0.9, 0.1, 0.3] 0.8290264256662806\n",
      "[3, 1, 1, 3, 0.9, 0.1, 0.35] 0.8315985632708324\n",
      "[3, 1, 1, 3, 0.9, 0.1, 0.4] 0.8298174223969926\n"
     ]
    },
    {
     "name": "stderr",
     "output_type": "stream",
     "text": [
      "/Users/julianhough/miniforge3/lib/python3.10/site-packages/sklearn/metrics/_classification.py:1344: UndefinedMetricWarning: Precision and F-score are ill-defined and being set to 0.0 in labels with no predicted samples. Use `zero_division` parameter to control this behavior.\n",
      "  _warn_prf(average, modifier, msg_start, len(result))\n",
      "/Users/julianhough/miniforge3/lib/python3.10/site-packages/sklearn/metrics/_classification.py:1344: UndefinedMetricWarning: Precision and F-score are ill-defined and being set to 0.0 in labels with no predicted samples. Use `zero_division` parameter to control this behavior.\n",
      "  _warn_prf(average, modifier, msg_start, len(result))\n"
     ]
    },
    {
     "name": "stdout",
     "output_type": "stream",
     "text": [
      "[3, 1, 1, 4, 0.9, 0.1, 0.0] 0.6922896523628713\n"
     ]
    },
    {
     "name": "stderr",
     "output_type": "stream",
     "text": [
      "/Users/julianhough/miniforge3/lib/python3.10/site-packages/sklearn/metrics/_classification.py:1344: UndefinedMetricWarning: Precision and F-score are ill-defined and being set to 0.0 in labels with no predicted samples. Use `zero_division` parameter to control this behavior.\n",
      "  _warn_prf(average, modifier, msg_start, len(result))\n",
      "/Users/julianhough/miniforge3/lib/python3.10/site-packages/sklearn/metrics/_classification.py:1344: UndefinedMetricWarning: Precision and F-score are ill-defined and being set to 0.0 in labels with no predicted samples. Use `zero_division` parameter to control this behavior.\n",
      "  _warn_prf(average, modifier, msg_start, len(result))\n"
     ]
    },
    {
     "name": "stdout",
     "output_type": "stream",
     "text": [
      "[3, 1, 1, 4, 0.9, 0.1, 0.05] 0.7568651219977428\n",
      "[3, 1, 1, 4, 0.9, 0.1, 0.1] 0.7827151191745336\n",
      "[3, 1, 1, 4, 0.9, 0.1, 0.15] 0.8107673288458176\n",
      "[3, 1, 1, 4, 0.9, 0.1, 0.2] 0.8203124672378134\n",
      "[3, 1, 1, 4, 0.9, 0.1, 0.25] 0.8239562152231622\n",
      "[3, 1, 1, 4, 0.9, 0.1, 0.3] 0.8272172997083468\n",
      "[3, 1, 1, 4, 0.9, 0.1, 0.35] 0.8292962732359829\n",
      "[3, 1, 1, 4, 0.9, 0.1, 0.4] 0.8306213519775004\n",
      "[3, 1, 1, 4, 0.9, 0.1, 0.45] 0.8312077807232515\n",
      "[3, 1, 1, 4, 0.9, 0.1, 0.5] 0.8307188945507722\n"
     ]
    },
    {
     "name": "stderr",
     "output_type": "stream",
     "text": [
      "/Users/julianhough/miniforge3/lib/python3.10/site-packages/sklearn/metrics/_classification.py:1344: UndefinedMetricWarning: Precision and F-score are ill-defined and being set to 0.0 in labels with no predicted samples. Use `zero_division` parameter to control this behavior.\n",
      "  _warn_prf(average, modifier, msg_start, len(result))\n",
      "/Users/julianhough/miniforge3/lib/python3.10/site-packages/sklearn/metrics/_classification.py:1344: UndefinedMetricWarning: Precision and F-score are ill-defined and being set to 0.0 in labels with no predicted samples. Use `zero_division` parameter to control this behavior.\n",
      "  _warn_prf(average, modifier, msg_start, len(result))\n"
     ]
    },
    {
     "name": "stdout",
     "output_type": "stream",
     "text": [
      "[3, 1, 1, 5, 0.9, 0.1, 0.0] 0.6922896523628713\n"
     ]
    },
    {
     "name": "stderr",
     "output_type": "stream",
     "text": [
      "/Users/julianhough/miniforge3/lib/python3.10/site-packages/sklearn/metrics/_classification.py:1344: UndefinedMetricWarning: Precision and F-score are ill-defined and being set to 0.0 in labels with no predicted samples. Use `zero_division` parameter to control this behavior.\n",
      "  _warn_prf(average, modifier, msg_start, len(result))\n"
     ]
    },
    {
     "name": "stdout",
     "output_type": "stream",
     "text": [
      "[3, 1, 1, 5, 0.9, 0.1, 0.05] 0.7631668274501555\n",
      "[3, 1, 1, 5, 0.9, 0.1, 0.1] 0.7792137016723337\n",
      "[3, 1, 1, 5, 0.9, 0.1, 0.15] 0.8051456490493363\n",
      "[3, 1, 1, 5, 0.9, 0.1, 0.2] 0.819632247393879\n",
      "[3, 1, 1, 5, 0.9, 0.1, 0.25] 0.8236813412845322\n",
      "[3, 1, 1, 5, 0.9, 0.1, 0.3] 0.8248635345440768\n",
      "[3, 1, 1, 5, 0.9, 0.1, 0.35] 0.8302321754049515\n",
      "[3, 1, 1, 5, 0.9, 0.1, 0.4] 0.8288116297388138\n"
     ]
    },
    {
     "name": "stderr",
     "output_type": "stream",
     "text": [
      "/Users/julianhough/miniforge3/lib/python3.10/site-packages/sklearn/metrics/_classification.py:1344: UndefinedMetricWarning: Precision and F-score are ill-defined and being set to 0.0 in labels with no predicted samples. Use `zero_division` parameter to control this behavior.\n",
      "  _warn_prf(average, modifier, msg_start, len(result))\n",
      "/Users/julianhough/miniforge3/lib/python3.10/site-packages/sklearn/metrics/_classification.py:1344: UndefinedMetricWarning: Precision and F-score are ill-defined and being set to 0.0 in labels with no predicted samples. Use `zero_division` parameter to control this behavior.\n",
      "  _warn_prf(average, modifier, msg_start, len(result))\n"
     ]
    },
    {
     "name": "stdout",
     "output_type": "stream",
     "text": [
      "[3, 1, 1, 6, 0.9, 0.1, 0.0] 0.6922896523628713\n"
     ]
    },
    {
     "name": "stderr",
     "output_type": "stream",
     "text": [
      "/Users/julianhough/miniforge3/lib/python3.10/site-packages/sklearn/metrics/_classification.py:1344: UndefinedMetricWarning: Precision and F-score are ill-defined and being set to 0.0 in labels with no predicted samples. Use `zero_division` parameter to control this behavior.\n",
      "  _warn_prf(average, modifier, msg_start, len(result))\n",
      "/Users/julianhough/miniforge3/lib/python3.10/site-packages/sklearn/metrics/_classification.py:1344: UndefinedMetricWarning: Precision and F-score are ill-defined and being set to 0.0 in labels with no predicted samples. Use `zero_division` parameter to control this behavior.\n",
      "  _warn_prf(average, modifier, msg_start, len(result))\n"
     ]
    },
    {
     "name": "stdout",
     "output_type": "stream",
     "text": [
      "[3, 1, 1, 6, 0.9, 0.1, 0.05] 0.7603949243750071\n",
      "[3, 1, 1, 6, 0.9, 0.1, 0.1] 0.7753207207339743\n",
      "[3, 1, 1, 6, 0.9, 0.1, 0.15] 0.7981740739032136\n",
      "[3, 1, 1, 6, 0.9, 0.1, 0.2] 0.8172997676500252\n",
      "[3, 1, 1, 6, 0.9, 0.1, 0.25] 0.8220958398838506\n",
      "[3, 1, 1, 6, 0.9, 0.1, 0.3] 0.8242265725873648\n",
      "[3, 1, 1, 6, 0.9, 0.1, 0.35] 0.8254297524866617\n",
      "[3, 1, 1, 6, 0.9, 0.1, 0.4] 0.8317355763053137\n",
      "[3, 1, 1, 6, 0.9, 0.1, 0.45] 0.8333138145103963\n",
      "[3, 1, 1, 6, 0.9, 0.1, 0.5] 0.8302090278428488\n"
     ]
    },
    {
     "name": "stderr",
     "output_type": "stream",
     "text": [
      "/Users/julianhough/miniforge3/lib/python3.10/site-packages/sklearn/metrics/_classification.py:1344: UndefinedMetricWarning: Precision and F-score are ill-defined and being set to 0.0 in labels with no predicted samples. Use `zero_division` parameter to control this behavior.\n",
      "  _warn_prf(average, modifier, msg_start, len(result))\n",
      "/Users/julianhough/miniforge3/lib/python3.10/site-packages/sklearn/metrics/_classification.py:1344: UndefinedMetricWarning: Precision and F-score are ill-defined and being set to 0.0 in labels with no predicted samples. Use `zero_division` parameter to control this behavior.\n",
      "  _warn_prf(average, modifier, msg_start, len(result))\n"
     ]
    },
    {
     "name": "stdout",
     "output_type": "stream",
     "text": [
      "[3, 1, 1, 7, 0.9, 0.1, 0.0] 0.6922896523628713\n"
     ]
    },
    {
     "name": "stderr",
     "output_type": "stream",
     "text": [
      "/Users/julianhough/miniforge3/lib/python3.10/site-packages/sklearn/metrics/_classification.py:1344: UndefinedMetricWarning: Precision and F-score are ill-defined and being set to 0.0 in labels with no predicted samples. Use `zero_division` parameter to control this behavior.\n",
      "  _warn_prf(average, modifier, msg_start, len(result))\n",
      "/Users/julianhough/miniforge3/lib/python3.10/site-packages/sklearn/metrics/_classification.py:1344: UndefinedMetricWarning: Precision and F-score are ill-defined and being set to 0.0 in labels with no predicted samples. Use `zero_division` parameter to control this behavior.\n",
      "  _warn_prf(average, modifier, msg_start, len(result))\n"
     ]
    },
    {
     "name": "stdout",
     "output_type": "stream",
     "text": [
      "[3, 1, 1, 7, 0.9, 0.1, 0.05] 0.7642555271576275\n",
      "[3, 1, 1, 7, 0.9, 0.1, 0.1] 0.7713484970353586\n",
      "[3, 1, 1, 7, 0.9, 0.1, 0.15] 0.7966991186368865\n",
      "[3, 1, 1, 7, 0.9, 0.1, 0.2] 0.8122451022229091\n",
      "[3, 1, 1, 7, 0.9, 0.1, 0.25] 0.822901153649363\n",
      "[3, 1, 1, 7, 0.9, 0.1, 0.3] 0.8262618052723154\n",
      "[3, 1, 1, 7, 0.9, 0.1, 0.35] 0.8270855246100287\n",
      "[3, 1, 1, 7, 0.9, 0.1, 0.4] 0.8277703630794608\n",
      "[3, 1, 1, 7, 0.9, 0.1, 0.45] 0.8305611145389192\n",
      "[3, 1, 1, 7, 0.9, 0.1, 0.5] 0.8339211776524504\n",
      "[3, 1, 1, 7, 0.9, 0.1, 0.55] 0.8347643689627233\n",
      "[3, 1, 1, 7, 0.9, 0.1, 0.6] 0.8338174098638286\n"
     ]
    },
    {
     "name": "stderr",
     "output_type": "stream",
     "text": [
      "/Users/julianhough/miniforge3/lib/python3.10/site-packages/sklearn/metrics/_classification.py:1344: UndefinedMetricWarning: Precision and F-score are ill-defined and being set to 0.0 in labels with no predicted samples. Use `zero_division` parameter to control this behavior.\n",
      "  _warn_prf(average, modifier, msg_start, len(result))\n",
      "/Users/julianhough/miniforge3/lib/python3.10/site-packages/sklearn/metrics/_classification.py:1344: UndefinedMetricWarning: Precision and F-score are ill-defined and being set to 0.0 in labels with no predicted samples. Use `zero_division` parameter to control this behavior.\n",
      "  _warn_prf(average, modifier, msg_start, len(result))\n"
     ]
    },
    {
     "name": "stdout",
     "output_type": "stream",
     "text": [
      "[3, 1, 1, 8, 0.9, 0.1, 0.0] 0.6922896523628713\n"
     ]
    },
    {
     "name": "stderr",
     "output_type": "stream",
     "text": [
      "/Users/julianhough/miniforge3/lib/python3.10/site-packages/sklearn/metrics/_classification.py:1344: UndefinedMetricWarning: Precision and F-score are ill-defined and being set to 0.0 in labels with no predicted samples. Use `zero_division` parameter to control this behavior.\n",
      "  _warn_prf(average, modifier, msg_start, len(result))\n",
      "/Users/julianhough/miniforge3/lib/python3.10/site-packages/sklearn/metrics/_classification.py:1344: UndefinedMetricWarning: Precision and F-score are ill-defined and being set to 0.0 in labels with no predicted samples. Use `zero_division` parameter to control this behavior.\n",
      "  _warn_prf(average, modifier, msg_start, len(result))\n"
     ]
    },
    {
     "name": "stdout",
     "output_type": "stream",
     "text": [
      "[3, 1, 1, 8, 0.9, 0.1, 0.05] 0.767260332589103\n"
     ]
    },
    {
     "name": "stderr",
     "output_type": "stream",
     "text": [
      "/Users/julianhough/miniforge3/lib/python3.10/site-packages/sklearn/metrics/_classification.py:1344: UndefinedMetricWarning: Precision and F-score are ill-defined and being set to 0.0 in labels with no predicted samples. Use `zero_division` parameter to control this behavior.\n",
      "  _warn_prf(average, modifier, msg_start, len(result))\n"
     ]
    },
    {
     "name": "stdout",
     "output_type": "stream",
     "text": [
      "[3, 1, 1, 8, 0.9, 0.1, 0.1] 0.7695648797839014\n",
      "[3, 1, 1, 8, 0.9, 0.1, 0.15] 0.795335673226856\n",
      "[3, 1, 1, 8, 0.9, 0.1, 0.2] 0.8101700190415443\n",
      "[3, 1, 1, 8, 0.9, 0.1, 0.25] 0.8222245393274997\n",
      "[3, 1, 1, 8, 0.9, 0.1, 0.3] 0.8248627361880694\n",
      "[3, 1, 1, 8, 0.9, 0.1, 0.35] 0.8255378323224748\n",
      "[3, 1, 1, 8, 0.9, 0.1, 0.4] 0.8280290842020882\n",
      "[3, 1, 1, 8, 0.9, 0.1, 0.45] 0.829117427769348\n",
      "[3, 1, 1, 8, 0.9, 0.1, 0.5] 0.833225403273398\n",
      "[3, 1, 1, 8, 0.9, 0.1, 0.55] 0.8331563885515878\n"
     ]
    },
    {
     "name": "stderr",
     "output_type": "stream",
     "text": [
      "/Users/julianhough/miniforge3/lib/python3.10/site-packages/sklearn/metrics/_classification.py:1344: UndefinedMetricWarning: Precision and F-score are ill-defined and being set to 0.0 in labels with no predicted samples. Use `zero_division` parameter to control this behavior.\n",
      "  _warn_prf(average, modifier, msg_start, len(result))\n",
      "/Users/julianhough/miniforge3/lib/python3.10/site-packages/sklearn/metrics/_classification.py:1344: UndefinedMetricWarning: Precision and F-score are ill-defined and being set to 0.0 in labels with no predicted samples. Use `zero_division` parameter to control this behavior.\n",
      "  _warn_prf(average, modifier, msg_start, len(result))\n"
     ]
    },
    {
     "name": "stdout",
     "output_type": "stream",
     "text": [
      "[3, 1, 1, 9, 0.9, 0.1, 0.0] 0.6922896523628713\n"
     ]
    },
    {
     "name": "stderr",
     "output_type": "stream",
     "text": [
      "/Users/julianhough/miniforge3/lib/python3.10/site-packages/sklearn/metrics/_classification.py:1344: UndefinedMetricWarning: Precision and F-score are ill-defined and being set to 0.0 in labels with no predicted samples. Use `zero_division` parameter to control this behavior.\n",
      "  _warn_prf(average, modifier, msg_start, len(result))\n",
      "/Users/julianhough/miniforge3/lib/python3.10/site-packages/sklearn/metrics/_classification.py:1344: UndefinedMetricWarning: Precision and F-score are ill-defined and being set to 0.0 in labels with no predicted samples. Use `zero_division` parameter to control this behavior.\n",
      "  _warn_prf(average, modifier, msg_start, len(result))\n"
     ]
    },
    {
     "name": "stdout",
     "output_type": "stream",
     "text": [
      "[3, 1, 1, 9, 0.9, 0.1, 0.05] 0.7654806996031637\n"
     ]
    },
    {
     "name": "stderr",
     "output_type": "stream",
     "text": [
      "/Users/julianhough/miniforge3/lib/python3.10/site-packages/sklearn/metrics/_classification.py:1344: UndefinedMetricWarning: Precision and F-score are ill-defined and being set to 0.0 in labels with no predicted samples. Use `zero_division` parameter to control this behavior.\n",
      "  _warn_prf(average, modifier, msg_start, len(result))\n"
     ]
    },
    {
     "name": "stdout",
     "output_type": "stream",
     "text": [
      "[3, 1, 1, 9, 0.9, 0.1, 0.1] 0.7703616123690569\n",
      "[3, 1, 1, 9, 0.9, 0.1, 0.15] 0.7943478427999519\n",
      "[3, 1, 1, 9, 0.9, 0.1, 0.2] 0.8103070471961765\n",
      "[3, 1, 1, 9, 0.9, 0.1, 0.25] 0.8204896588463717\n",
      "[3, 1, 1, 9, 0.9, 0.1, 0.3] 0.8245828127576134\n",
      "[3, 1, 1, 9, 0.9, 0.1, 0.35] 0.8247233394157607\n",
      "[3, 1, 1, 9, 0.9, 0.1, 0.4] 0.8260639542816073\n",
      "[3, 1, 1, 9, 0.9, 0.1, 0.45] 0.8299130142560459\n",
      "[3, 1, 1, 9, 0.9, 0.1, 0.5] 0.8296088115502108\n"
     ]
    },
    {
     "name": "stderr",
     "output_type": "stream",
     "text": [
      "/Users/julianhough/miniforge3/lib/python3.10/site-packages/sklearn/metrics/_classification.py:1344: UndefinedMetricWarning: Precision and F-score are ill-defined and being set to 0.0 in labels with no predicted samples. Use `zero_division` parameter to control this behavior.\n",
      "  _warn_prf(average, modifier, msg_start, len(result))\n",
      "/Users/julianhough/miniforge3/lib/python3.10/site-packages/sklearn/metrics/_classification.py:1344: UndefinedMetricWarning: Precision and F-score are ill-defined and being set to 0.0 in labels with no predicted samples. Use `zero_division` parameter to control this behavior.\n",
      "  _warn_prf(average, modifier, msg_start, len(result))\n"
     ]
    },
    {
     "name": "stdout",
     "output_type": "stream",
     "text": [
      "[3, 1, 1, 10, 0.9, 0.1, 0.0] 0.6922896523628713\n"
     ]
    },
    {
     "name": "stderr",
     "output_type": "stream",
     "text": [
      "/Users/julianhough/miniforge3/lib/python3.10/site-packages/sklearn/metrics/_classification.py:1344: UndefinedMetricWarning: Precision and F-score are ill-defined and being set to 0.0 in labels with no predicted samples. Use `zero_division` parameter to control this behavior.\n",
      "  _warn_prf(average, modifier, msg_start, len(result))\n",
      "/Users/julianhough/miniforge3/lib/python3.10/site-packages/sklearn/metrics/_classification.py:1344: UndefinedMetricWarning: Precision and F-score are ill-defined and being set to 0.0 in labels with no predicted samples. Use `zero_division` parameter to control this behavior.\n",
      "  _warn_prf(average, modifier, msg_start, len(result))\n"
     ]
    },
    {
     "name": "stdout",
     "output_type": "stream",
     "text": [
      "[3, 1, 1, 10, 0.9, 0.1, 0.05] 0.7673568162894785\n"
     ]
    },
    {
     "name": "stderr",
     "output_type": "stream",
     "text": [
      "/Users/julianhough/miniforge3/lib/python3.10/site-packages/sklearn/metrics/_classification.py:1344: UndefinedMetricWarning: Precision and F-score are ill-defined and being set to 0.0 in labels with no predicted samples. Use `zero_division` parameter to control this behavior.\n",
      "  _warn_prf(average, modifier, msg_start, len(result))\n"
     ]
    },
    {
     "name": "stdout",
     "output_type": "stream",
     "text": [
      "[3, 1, 1, 10, 0.9, 0.1, 0.1] 0.7697571669328501\n",
      "[3, 1, 1, 10, 0.9, 0.1, 0.15] 0.7932606606169852\n",
      "[3, 1, 1, 10, 0.9, 0.1, 0.2] 0.8083773664667163\n",
      "[3, 1, 1, 10, 0.9, 0.1, 0.25] 0.8220963478072092\n",
      "[3, 1, 1, 10, 0.9, 0.1, 0.3] 0.8240871634767751\n",
      "[3, 1, 1, 10, 0.9, 0.1, 0.35] 0.8235870450419224\n"
     ]
    },
    {
     "name": "stderr",
     "output_type": "stream",
     "text": [
      "/Users/julianhough/miniforge3/lib/python3.10/site-packages/sklearn/metrics/_classification.py:1344: UndefinedMetricWarning: Precision and F-score are ill-defined and being set to 0.0 in labels with no predicted samples. Use `zero_division` parameter to control this behavior.\n",
      "  _warn_prf(average, modifier, msg_start, len(result))\n",
      "/Users/julianhough/miniforge3/lib/python3.10/site-packages/sklearn/metrics/_classification.py:1344: UndefinedMetricWarning: Precision and F-score are ill-defined and being set to 0.0 in labels with no predicted samples. Use `zero_division` parameter to control this behavior.\n",
      "  _warn_prf(average, modifier, msg_start, len(result))\n"
     ]
    },
    {
     "name": "stdout",
     "output_type": "stream",
     "text": [
      "[3, 1, 1, 1, 0.95, 0.1, 0.0] 0.6897550735085043\n"
     ]
    },
    {
     "name": "stderr",
     "output_type": "stream",
     "text": [
      "/Users/julianhough/miniforge3/lib/python3.10/site-packages/sklearn/metrics/_classification.py:1344: UndefinedMetricWarning: Precision and F-score are ill-defined and being set to 0.0 in labels with no predicted samples. Use `zero_division` parameter to control this behavior.\n",
      "  _warn_prf(average, modifier, msg_start, len(result))\n"
     ]
    },
    {
     "name": "stdout",
     "output_type": "stream",
     "text": [
      "[3, 1, 1, 1, 0.95, 0.1, 0.05] 0.7656054364964169\n",
      "[3, 1, 1, 1, 0.95, 0.1, 0.1] 0.7978280359608315\n",
      "[3, 1, 1, 1, 0.95, 0.1, 0.15] 0.8128348521492542\n",
      "[3, 1, 1, 1, 0.95, 0.1, 0.2] 0.819821526375322\n",
      "[3, 1, 1, 1, 0.95, 0.1, 0.25] 0.8251861536006946\n",
      "[3, 1, 1, 1, 0.95, 0.1, 0.3] 0.829661005299424\n",
      "[3, 1, 1, 1, 0.95, 0.1, 0.35] 0.8294457700185449\n"
     ]
    },
    {
     "name": "stderr",
     "output_type": "stream",
     "text": [
      "/Users/julianhough/miniforge3/lib/python3.10/site-packages/sklearn/metrics/_classification.py:1344: UndefinedMetricWarning: Precision and F-score are ill-defined and being set to 0.0 in labels with no predicted samples. Use `zero_division` parameter to control this behavior.\n",
      "  _warn_prf(average, modifier, msg_start, len(result))\n",
      "/Users/julianhough/miniforge3/lib/python3.10/site-packages/sklearn/metrics/_classification.py:1344: UndefinedMetricWarning: Precision and F-score are ill-defined and being set to 0.0 in labels with no predicted samples. Use `zero_division` parameter to control this behavior.\n",
      "  _warn_prf(average, modifier, msg_start, len(result))\n"
     ]
    },
    {
     "name": "stdout",
     "output_type": "stream",
     "text": [
      "[3, 1, 1, 2, 0.95, 0.1, 0.0] 0.6897550735085043\n"
     ]
    },
    {
     "name": "stderr",
     "output_type": "stream",
     "text": [
      "/Users/julianhough/miniforge3/lib/python3.10/site-packages/sklearn/metrics/_classification.py:1344: UndefinedMetricWarning: Precision and F-score are ill-defined and being set to 0.0 in labels with no predicted samples. Use `zero_division` parameter to control this behavior.\n",
      "  _warn_prf(average, modifier, msg_start, len(result))\n"
     ]
    },
    {
     "name": "stdout",
     "output_type": "stream",
     "text": [
      "[3, 1, 1, 2, 0.95, 0.1, 0.05] 0.7644091280928434\n",
      "[3, 1, 1, 2, 0.95, 0.1, 0.1] 0.794121152917576\n",
      "[3, 1, 1, 2, 0.95, 0.1, 0.15] 0.8123763008161987\n",
      "[3, 1, 1, 2, 0.95, 0.1, 0.2] 0.8200175966396642\n",
      "[3, 1, 1, 2, 0.95, 0.1, 0.25] 0.8266645387093688\n",
      "[3, 1, 1, 2, 0.95, 0.1, 0.3] 0.8287245752015716\n",
      "[3, 1, 1, 2, 0.95, 0.1, 0.35] 0.8290127814092745\n",
      "[3, 1, 1, 2, 0.95, 0.1, 0.4] 0.8311848735123035\n",
      "[3, 1, 1, 2, 0.95, 0.1, 0.45] 0.8315016622637057\n",
      "[3, 1, 1, 2, 0.95, 0.1, 0.5] 0.833525409321996\n",
      "[3, 1, 1, 2, 0.95, 0.1, 0.55] 0.8351738157804555\n",
      "[3, 1, 1, 2, 0.95, 0.1, 0.6] 0.8318400335383885\n"
     ]
    },
    {
     "name": "stderr",
     "output_type": "stream",
     "text": [
      "/Users/julianhough/miniforge3/lib/python3.10/site-packages/sklearn/metrics/_classification.py:1344: UndefinedMetricWarning: Precision and F-score are ill-defined and being set to 0.0 in labels with no predicted samples. Use `zero_division` parameter to control this behavior.\n",
      "  _warn_prf(average, modifier, msg_start, len(result))\n",
      "/Users/julianhough/miniforge3/lib/python3.10/site-packages/sklearn/metrics/_classification.py:1344: UndefinedMetricWarning: Precision and F-score are ill-defined and being set to 0.0 in labels with no predicted samples. Use `zero_division` parameter to control this behavior.\n",
      "  _warn_prf(average, modifier, msg_start, len(result))\n"
     ]
    },
    {
     "name": "stdout",
     "output_type": "stream",
     "text": [
      "[3, 1, 1, 3, 0.95, 0.1, 0.0] 0.6897550735085043\n"
     ]
    },
    {
     "name": "stderr",
     "output_type": "stream",
     "text": [
      "/Users/julianhough/miniforge3/lib/python3.10/site-packages/sklearn/metrics/_classification.py:1344: UndefinedMetricWarning: Precision and F-score are ill-defined and being set to 0.0 in labels with no predicted samples. Use `zero_division` parameter to control this behavior.\n",
      "  _warn_prf(average, modifier, msg_start, len(result))\n",
      "/Users/julianhough/miniforge3/lib/python3.10/site-packages/sklearn/metrics/_classification.py:1344: UndefinedMetricWarning: Precision and F-score are ill-defined and being set to 0.0 in labels with no predicted samples. Use `zero_division` parameter to control this behavior.\n",
      "  _warn_prf(average, modifier, msg_start, len(result))\n"
     ]
    },
    {
     "name": "stdout",
     "output_type": "stream",
     "text": [
      "[3, 1, 1, 3, 0.95, 0.1, 0.05] 0.7563342079470701\n",
      "[3, 1, 1, 3, 0.95, 0.1, 0.1] 0.7882053708455729\n",
      "[3, 1, 1, 3, 0.95, 0.1, 0.15] 0.8133165874339278\n",
      "[3, 1, 1, 3, 0.95, 0.1, 0.2] 0.8208024169124865\n",
      "[3, 1, 1, 3, 0.95, 0.1, 0.25] 0.824666252672578\n",
      "[3, 1, 1, 3, 0.95, 0.1, 0.3] 0.8296126014676994\n",
      "[3, 1, 1, 3, 0.95, 0.1, 0.35] 0.8320924695041645\n",
      "[3, 1, 1, 3, 0.95, 0.1, 0.4] 0.8310302130289345\n"
     ]
    },
    {
     "name": "stderr",
     "output_type": "stream",
     "text": [
      "/Users/julianhough/miniforge3/lib/python3.10/site-packages/sklearn/metrics/_classification.py:1344: UndefinedMetricWarning: Precision and F-score are ill-defined and being set to 0.0 in labels with no predicted samples. Use `zero_division` parameter to control this behavior.\n",
      "  _warn_prf(average, modifier, msg_start, len(result))\n",
      "/Users/julianhough/miniforge3/lib/python3.10/site-packages/sklearn/metrics/_classification.py:1344: UndefinedMetricWarning: Precision and F-score are ill-defined and being set to 0.0 in labels with no predicted samples. Use `zero_division` parameter to control this behavior.\n",
      "  _warn_prf(average, modifier, msg_start, len(result))\n"
     ]
    },
    {
     "name": "stdout",
     "output_type": "stream",
     "text": [
      "[3, 1, 1, 4, 0.95, 0.1, 0.0] 0.6897550735085043\n"
     ]
    },
    {
     "name": "stderr",
     "output_type": "stream",
     "text": [
      "/Users/julianhough/miniforge3/lib/python3.10/site-packages/sklearn/metrics/_classification.py:1344: UndefinedMetricWarning: Precision and F-score are ill-defined and being set to 0.0 in labels with no predicted samples. Use `zero_division` parameter to control this behavior.\n",
      "  _warn_prf(average, modifier, msg_start, len(result))\n",
      "/Users/julianhough/miniforge3/lib/python3.10/site-packages/sklearn/metrics/_classification.py:1344: UndefinedMetricWarning: Precision and F-score are ill-defined and being set to 0.0 in labels with no predicted samples. Use `zero_division` parameter to control this behavior.\n",
      "  _warn_prf(average, modifier, msg_start, len(result))\n"
     ]
    },
    {
     "name": "stdout",
     "output_type": "stream",
     "text": [
      "[3, 1, 1, 4, 0.95, 0.1, 0.05] 0.7574732160259827\n",
      "[3, 1, 1, 4, 0.95, 0.1, 0.1] 0.7820391470333374\n",
      "[3, 1, 1, 4, 0.95, 0.1, 0.15] 0.8085482204974522\n",
      "[3, 1, 1, 4, 0.95, 0.1, 0.2] 0.8191852059272928\n",
      "[3, 1, 1, 4, 0.95, 0.1, 0.25] 0.8246624175390386\n",
      "[3, 1, 1, 4, 0.95, 0.1, 0.3] 0.8283592232612421\n",
      "[3, 1, 1, 4, 0.95, 0.1, 0.35] 0.8301249343471921\n",
      "[3, 1, 1, 4, 0.95, 0.1, 0.4] 0.831249261958204\n",
      "[3, 1, 1, 4, 0.95, 0.1, 0.45] 0.8299528584860357\n"
     ]
    },
    {
     "name": "stderr",
     "output_type": "stream",
     "text": [
      "/Users/julianhough/miniforge3/lib/python3.10/site-packages/sklearn/metrics/_classification.py:1344: UndefinedMetricWarning: Precision and F-score are ill-defined and being set to 0.0 in labels with no predicted samples. Use `zero_division` parameter to control this behavior.\n",
      "  _warn_prf(average, modifier, msg_start, len(result))\n",
      "/Users/julianhough/miniforge3/lib/python3.10/site-packages/sklearn/metrics/_classification.py:1344: UndefinedMetricWarning: Precision and F-score are ill-defined and being set to 0.0 in labels with no predicted samples. Use `zero_division` parameter to control this behavior.\n",
      "  _warn_prf(average, modifier, msg_start, len(result))\n"
     ]
    },
    {
     "name": "stdout",
     "output_type": "stream",
     "text": [
      "[3, 1, 1, 5, 0.95, 0.1, 0.0] 0.6897550735085043\n"
     ]
    },
    {
     "name": "stderr",
     "output_type": "stream",
     "text": [
      "/Users/julianhough/miniforge3/lib/python3.10/site-packages/sklearn/metrics/_classification.py:1344: UndefinedMetricWarning: Precision and F-score are ill-defined and being set to 0.0 in labels with no predicted samples. Use `zero_division` parameter to control this behavior.\n",
      "  _warn_prf(average, modifier, msg_start, len(result))\n"
     ]
    },
    {
     "name": "stdout",
     "output_type": "stream",
     "text": [
      "[3, 1, 1, 5, 0.95, 0.1, 0.05] 0.7613959072913238\n",
      "[3, 1, 1, 5, 0.95, 0.1, 0.1] 0.7748853372639678\n",
      "[3, 1, 1, 5, 0.95, 0.1, 0.15] 0.8022933017222834\n",
      "[3, 1, 1, 5, 0.95, 0.1, 0.2] 0.8169239144556456\n",
      "[3, 1, 1, 5, 0.95, 0.1, 0.25] 0.8235518408289676\n",
      "[3, 1, 1, 5, 0.95, 0.1, 0.3] 0.8266009277343783\n",
      "[3, 1, 1, 5, 0.95, 0.1, 0.35] 0.8302321754049515\n",
      "[3, 1, 1, 5, 0.95, 0.1, 0.4] 0.8311507760803168\n",
      "[3, 1, 1, 5, 0.95, 0.1, 0.45] 0.8303559187806411\n"
     ]
    },
    {
     "name": "stderr",
     "output_type": "stream",
     "text": [
      "/Users/julianhough/miniforge3/lib/python3.10/site-packages/sklearn/metrics/_classification.py:1344: UndefinedMetricWarning: Precision and F-score are ill-defined and being set to 0.0 in labels with no predicted samples. Use `zero_division` parameter to control this behavior.\n",
      "  _warn_prf(average, modifier, msg_start, len(result))\n",
      "/Users/julianhough/miniforge3/lib/python3.10/site-packages/sklearn/metrics/_classification.py:1344: UndefinedMetricWarning: Precision and F-score are ill-defined and being set to 0.0 in labels with no predicted samples. Use `zero_division` parameter to control this behavior.\n",
      "  _warn_prf(average, modifier, msg_start, len(result))\n"
     ]
    },
    {
     "name": "stdout",
     "output_type": "stream",
     "text": [
      "[3, 1, 1, 6, 0.95, 0.1, 0.0] 0.6897550735085043\n"
     ]
    },
    {
     "name": "stderr",
     "output_type": "stream",
     "text": [
      "/Users/julianhough/miniforge3/lib/python3.10/site-packages/sklearn/metrics/_classification.py:1344: UndefinedMetricWarning: Precision and F-score are ill-defined and being set to 0.0 in labels with no predicted samples. Use `zero_division` parameter to control this behavior.\n",
      "  _warn_prf(average, modifier, msg_start, len(result))\n",
      "/Users/julianhough/miniforge3/lib/python3.10/site-packages/sklearn/metrics/_classification.py:1344: UndefinedMetricWarning: Precision and F-score are ill-defined and being set to 0.0 in labels with no predicted samples. Use `zero_division` parameter to control this behavior.\n",
      "  _warn_prf(average, modifier, msg_start, len(result))\n"
     ]
    },
    {
     "name": "stdout",
     "output_type": "stream",
     "text": [
      "[3, 1, 1, 6, 0.95, 0.1, 0.05] 0.7609254595216629\n",
      "[3, 1, 1, 6, 0.95, 0.1, 0.1] 0.7748174494955075\n",
      "[3, 1, 1, 6, 0.95, 0.1, 0.15] 0.7969464636949422\n",
      "[3, 1, 1, 6, 0.95, 0.1, 0.2] 0.8164085916720346\n",
      "[3, 1, 1, 6, 0.95, 0.1, 0.25] 0.8227155574678539\n",
      "[3, 1, 1, 6, 0.95, 0.1, 0.3] 0.8241532791003543\n",
      "[3, 1, 1, 6, 0.95, 0.1, 0.35] 0.8293891372108041\n",
      "[3, 1, 1, 6, 0.95, 0.1, 0.4] 0.8308782660204183\n",
      "[3, 1, 1, 6, 0.95, 0.1, 0.45] 0.8343603175845343\n",
      "[3, 1, 1, 6, 0.95, 0.1, 0.5] 0.8327235609288106\n"
     ]
    },
    {
     "name": "stderr",
     "output_type": "stream",
     "text": [
      "/Users/julianhough/miniforge3/lib/python3.10/site-packages/sklearn/metrics/_classification.py:1344: UndefinedMetricWarning: Precision and F-score are ill-defined and being set to 0.0 in labels with no predicted samples. Use `zero_division` parameter to control this behavior.\n",
      "  _warn_prf(average, modifier, msg_start, len(result))\n",
      "/Users/julianhough/miniforge3/lib/python3.10/site-packages/sklearn/metrics/_classification.py:1344: UndefinedMetricWarning: Precision and F-score are ill-defined and being set to 0.0 in labels with no predicted samples. Use `zero_division` parameter to control this behavior.\n",
      "  _warn_prf(average, modifier, msg_start, len(result))\n"
     ]
    },
    {
     "name": "stdout",
     "output_type": "stream",
     "text": [
      "[3, 1, 1, 7, 0.95, 0.1, 0.0] 0.6897550735085043\n"
     ]
    },
    {
     "name": "stderr",
     "output_type": "stream",
     "text": [
      "/Users/julianhough/miniforge3/lib/python3.10/site-packages/sklearn/metrics/_classification.py:1344: UndefinedMetricWarning: Precision and F-score are ill-defined and being set to 0.0 in labels with no predicted samples. Use `zero_division` parameter to control this behavior.\n",
      "  _warn_prf(average, modifier, msg_start, len(result))\n",
      "/Users/julianhough/miniforge3/lib/python3.10/site-packages/sklearn/metrics/_classification.py:1344: UndefinedMetricWarning: Precision and F-score are ill-defined and being set to 0.0 in labels with no predicted samples. Use `zero_division` parameter to control this behavior.\n",
      "  _warn_prf(average, modifier, msg_start, len(result))\n"
     ]
    },
    {
     "name": "stdout",
     "output_type": "stream",
     "text": [
      "[3, 1, 1, 7, 0.95, 0.1, 0.05] 0.7650353781153763\n",
      "[3, 1, 1, 7, 0.95, 0.1, 0.1] 0.7698855119052929\n",
      "[3, 1, 1, 7, 0.95, 0.1, 0.15] 0.7927643659651723\n",
      "[3, 1, 1, 7, 0.95, 0.1, 0.2] 0.8099721580094459\n",
      "[3, 1, 1, 7, 0.95, 0.1, 0.25] 0.8223002945262085\n",
      "[3, 1, 1, 7, 0.95, 0.1, 0.3] 0.8262618052723154\n",
      "[3, 1, 1, 7, 0.95, 0.1, 0.35] 0.8272094856364005\n",
      "[3, 1, 1, 7, 0.95, 0.1, 0.4] 0.8288165157408499\n",
      "[3, 1, 1, 7, 0.95, 0.1, 0.45] 0.8322822912342106\n",
      "[3, 1, 1, 7, 0.95, 0.1, 0.5] 0.8346041161087747\n",
      "[3, 1, 1, 7, 0.95, 0.1, 0.55] 0.8347359517366844\n",
      "[3, 1, 1, 7, 0.95, 0.1, 0.6] 0.8333528901076787\n"
     ]
    },
    {
     "name": "stderr",
     "output_type": "stream",
     "text": [
      "/Users/julianhough/miniforge3/lib/python3.10/site-packages/sklearn/metrics/_classification.py:1344: UndefinedMetricWarning: Precision and F-score are ill-defined and being set to 0.0 in labels with no predicted samples. Use `zero_division` parameter to control this behavior.\n",
      "  _warn_prf(average, modifier, msg_start, len(result))\n",
      "/Users/julianhough/miniforge3/lib/python3.10/site-packages/sklearn/metrics/_classification.py:1344: UndefinedMetricWarning: Precision and F-score are ill-defined and being set to 0.0 in labels with no predicted samples. Use `zero_division` parameter to control this behavior.\n",
      "  _warn_prf(average, modifier, msg_start, len(result))\n"
     ]
    },
    {
     "name": "stdout",
     "output_type": "stream",
     "text": [
      "[3, 1, 1, 8, 0.95, 0.1, 0.0] 0.6897550735085043\n"
     ]
    },
    {
     "name": "stderr",
     "output_type": "stream",
     "text": [
      "/Users/julianhough/miniforge3/lib/python3.10/site-packages/sklearn/metrics/_classification.py:1344: UndefinedMetricWarning: Precision and F-score are ill-defined and being set to 0.0 in labels with no predicted samples. Use `zero_division` parameter to control this behavior.\n",
      "  _warn_prf(average, modifier, msg_start, len(result))\n",
      "/Users/julianhough/miniforge3/lib/python3.10/site-packages/sklearn/metrics/_classification.py:1344: UndefinedMetricWarning: Precision and F-score are ill-defined and being set to 0.0 in labels with no predicted samples. Use `zero_division` parameter to control this behavior.\n",
      "  _warn_prf(average, modifier, msg_start, len(result))\n"
     ]
    },
    {
     "name": "stdout",
     "output_type": "stream",
     "text": [
      "[3, 1, 1, 8, 0.95, 0.1, 0.05] 0.7676958369343817\n"
     ]
    },
    {
     "name": "stderr",
     "output_type": "stream",
     "text": [
      "/Users/julianhough/miniforge3/lib/python3.10/site-packages/sklearn/metrics/_classification.py:1344: UndefinedMetricWarning: Precision and F-score are ill-defined and being set to 0.0 in labels with no predicted samples. Use `zero_division` parameter to control this behavior.\n",
      "  _warn_prf(average, modifier, msg_start, len(result))\n"
     ]
    },
    {
     "name": "stdout",
     "output_type": "stream",
     "text": [
      "[3, 1, 1, 8, 0.95, 0.1, 0.1] 0.7696363011932547\n",
      "[3, 1, 1, 8, 0.95, 0.1, 0.15] 0.7901101098989046\n",
      "[3, 1, 1, 8, 0.95, 0.1, 0.2] 0.810447894616288\n",
      "[3, 1, 1, 8, 0.95, 0.1, 0.25] 0.8221961099823136\n",
      "[3, 1, 1, 8, 0.95, 0.1, 0.3] 0.8246979496129683\n",
      "[3, 1, 1, 8, 0.95, 0.1, 0.35] 0.825570216817775\n",
      "[3, 1, 1, 8, 0.95, 0.1, 0.4] 0.8266203617300575\n",
      "[3, 1, 1, 8, 0.95, 0.1, 0.45] 0.8301144693555328\n",
      "[3, 1, 1, 8, 0.95, 0.1, 0.5] 0.8321937995758036\n",
      "[3, 1, 1, 8, 0.95, 0.1, 0.55] 0.8336171763651536\n",
      "[3, 1, 1, 8, 0.95, 0.1, 0.6] 0.8370648389121194\n",
      "best 0.8370648389121194 [3, 1, 1, 8, 0.95, 0.1, 0.6]\n",
      "[3, 1, 1, 8, 0.95, 0.1, 0.65] 0.8378663981240843\n",
      "best 0.8378663981240843 [3, 1, 1, 8, 0.95, 0.1, 0.65]\n",
      "[3, 1, 1, 8, 0.95, 0.1, 0.7] 0.8355471943370457\n"
     ]
    },
    {
     "name": "stderr",
     "output_type": "stream",
     "text": [
      "/Users/julianhough/miniforge3/lib/python3.10/site-packages/sklearn/metrics/_classification.py:1344: UndefinedMetricWarning: Precision and F-score are ill-defined and being set to 0.0 in labels with no predicted samples. Use `zero_division` parameter to control this behavior.\n",
      "  _warn_prf(average, modifier, msg_start, len(result))\n",
      "/Users/julianhough/miniforge3/lib/python3.10/site-packages/sklearn/metrics/_classification.py:1344: UndefinedMetricWarning: Precision and F-score are ill-defined and being set to 0.0 in labels with no predicted samples. Use `zero_division` parameter to control this behavior.\n",
      "  _warn_prf(average, modifier, msg_start, len(result))\n"
     ]
    },
    {
     "name": "stdout",
     "output_type": "stream",
     "text": [
      "[3, 1, 1, 9, 0.95, 0.1, 0.0] 0.6897550735085043\n"
     ]
    },
    {
     "name": "stderr",
     "output_type": "stream",
     "text": [
      "/Users/julianhough/miniforge3/lib/python3.10/site-packages/sklearn/metrics/_classification.py:1344: UndefinedMetricWarning: Precision and F-score are ill-defined and being set to 0.0 in labels with no predicted samples. Use `zero_division` parameter to control this behavior.\n",
      "  _warn_prf(average, modifier, msg_start, len(result))\n",
      "/Users/julianhough/miniforge3/lib/python3.10/site-packages/sklearn/metrics/_classification.py:1344: UndefinedMetricWarning: Precision and F-score are ill-defined and being set to 0.0 in labels with no predicted samples. Use `zero_division` parameter to control this behavior.\n",
      "  _warn_prf(average, modifier, msg_start, len(result))\n"
     ]
    },
    {
     "name": "stdout",
     "output_type": "stream",
     "text": [
      "[3, 1, 1, 9, 0.95, 0.1, 0.05] 0.7662715759477534\n"
     ]
    },
    {
     "name": "stderr",
     "output_type": "stream",
     "text": [
      "/Users/julianhough/miniforge3/lib/python3.10/site-packages/sklearn/metrics/_classification.py:1344: UndefinedMetricWarning: Precision and F-score are ill-defined and being set to 0.0 in labels with no predicted samples. Use `zero_division` parameter to control this behavior.\n",
      "  _warn_prf(average, modifier, msg_start, len(result))\n"
     ]
    },
    {
     "name": "stdout",
     "output_type": "stream",
     "text": [
      "[3, 1, 1, 9, 0.95, 0.1, 0.1] 0.769067368233425\n",
      "[3, 1, 1, 9, 0.95, 0.1, 0.15] 0.791139054790966\n",
      "[3, 1, 1, 9, 0.95, 0.1, 0.2] 0.8103151318952513\n",
      "[3, 1, 1, 9, 0.95, 0.1, 0.25] 0.8207010358993456\n",
      "[3, 1, 1, 9, 0.95, 0.1, 0.3] 0.8256452206714042\n",
      "[3, 1, 1, 9, 0.95, 0.1, 0.35] 0.8261588338748757\n",
      "[3, 1, 1, 9, 0.95, 0.1, 0.4] 0.8256138458202817\n"
     ]
    },
    {
     "name": "stderr",
     "output_type": "stream",
     "text": [
      "/Users/julianhough/miniforge3/lib/python3.10/site-packages/sklearn/metrics/_classification.py:1344: UndefinedMetricWarning: Precision and F-score are ill-defined and being set to 0.0 in labels with no predicted samples. Use `zero_division` parameter to control this behavior.\n",
      "  _warn_prf(average, modifier, msg_start, len(result))\n",
      "/Users/julianhough/miniforge3/lib/python3.10/site-packages/sklearn/metrics/_classification.py:1344: UndefinedMetricWarning: Precision and F-score are ill-defined and being set to 0.0 in labels with no predicted samples. Use `zero_division` parameter to control this behavior.\n",
      "  _warn_prf(average, modifier, msg_start, len(result))\n"
     ]
    },
    {
     "name": "stdout",
     "output_type": "stream",
     "text": [
      "[3, 1, 1, 10, 0.95, 0.1, 0.0] 0.6897550735085043\n"
     ]
    },
    {
     "name": "stderr",
     "output_type": "stream",
     "text": [
      "/Users/julianhough/miniforge3/lib/python3.10/site-packages/sklearn/metrics/_classification.py:1344: UndefinedMetricWarning: Precision and F-score are ill-defined and being set to 0.0 in labels with no predicted samples. Use `zero_division` parameter to control this behavior.\n",
      "  _warn_prf(average, modifier, msg_start, len(result))\n",
      "/Users/julianhough/miniforge3/lib/python3.10/site-packages/sklearn/metrics/_classification.py:1344: UndefinedMetricWarning: Precision and F-score are ill-defined and being set to 0.0 in labels with no predicted samples. Use `zero_division` parameter to control this behavior.\n",
      "  _warn_prf(average, modifier, msg_start, len(result))\n"
     ]
    },
    {
     "name": "stdout",
     "output_type": "stream",
     "text": [
      "[3, 1, 1, 10, 0.95, 0.1, 0.05] 0.7663955473468421\n"
     ]
    },
    {
     "name": "stderr",
     "output_type": "stream",
     "text": [
      "/Users/julianhough/miniforge3/lib/python3.10/site-packages/sklearn/metrics/_classification.py:1344: UndefinedMetricWarning: Precision and F-score are ill-defined and being set to 0.0 in labels with no predicted samples. Use `zero_division` parameter to control this behavior.\n",
      "  _warn_prf(average, modifier, msg_start, len(result))\n"
     ]
    },
    {
     "name": "stdout",
     "output_type": "stream",
     "text": [
      "[3, 1, 1, 10, 0.95, 0.1, 0.1] 0.7684112397084502\n",
      "[3, 1, 1, 10, 0.95, 0.1, 0.15] 0.7928902855224944\n",
      "[3, 1, 1, 10, 0.95, 0.1, 0.2] 0.806602290167732\n",
      "[3, 1, 1, 10, 0.95, 0.1, 0.25] 0.8203286081342311\n",
      "[3, 1, 1, 10, 0.95, 0.1, 0.3] 0.8253264867231264\n",
      "[3, 1, 1, 10, 0.95, 0.1, 0.35] 0.8249326163183012\n"
     ]
    },
    {
     "name": "stderr",
     "output_type": "stream",
     "text": [
      "/Users/julianhough/miniforge3/lib/python3.10/site-packages/sklearn/metrics/_classification.py:1344: UndefinedMetricWarning: Precision and F-score are ill-defined and being set to 0.0 in labels with no predicted samples. Use `zero_division` parameter to control this behavior.\n",
      "  _warn_prf(average, modifier, msg_start, len(result))\n",
      "/Users/julianhough/miniforge3/lib/python3.10/site-packages/sklearn/metrics/_classification.py:1344: UndefinedMetricWarning: Precision and F-score are ill-defined and being set to 0.0 in labels with no predicted samples. Use `zero_division` parameter to control this behavior.\n",
      "  _warn_prf(average, modifier, msg_start, len(result))\n"
     ]
    },
    {
     "name": "stdout",
     "output_type": "stream",
     "text": [
      "[3, 1, 1, 1, 1.0, 0.1, 0.0] 0.6904333997589129\n"
     ]
    },
    {
     "name": "stderr",
     "output_type": "stream",
     "text": [
      "/Users/julianhough/miniforge3/lib/python3.10/site-packages/sklearn/metrics/_classification.py:1344: UndefinedMetricWarning: Precision and F-score are ill-defined and being set to 0.0 in labels with no predicted samples. Use `zero_division` parameter to control this behavior.\n",
      "  _warn_prf(average, modifier, msg_start, len(result))\n"
     ]
    },
    {
     "name": "stdout",
     "output_type": "stream",
     "text": [
      "[3, 1, 1, 1, 1.0, 0.1, 0.05] 0.7647365630311557\n",
      "[3, 1, 1, 1, 1.0, 0.1, 0.1] 0.7964116670341594\n",
      "[3, 1, 1, 1, 1.0, 0.1, 0.15] 0.81238973613827\n",
      "[3, 1, 1, 1, 1.0, 0.1, 0.2] 0.8196094924708028\n",
      "[3, 1, 1, 1, 1.0, 0.1, 0.25] 0.8257684984553336\n",
      "[3, 1, 1, 1, 1.0, 0.1, 0.3] 0.8297804717946803\n",
      "[3, 1, 1, 1, 1.0, 0.1, 0.35] 0.8307130319899276\n",
      "[3, 1, 1, 1, 1.0, 0.1, 0.4] 0.831891971689022\n",
      "[3, 1, 1, 1, 1.0, 0.1, 0.45] 0.8285501463462019\n"
     ]
    },
    {
     "name": "stderr",
     "output_type": "stream",
     "text": [
      "/Users/julianhough/miniforge3/lib/python3.10/site-packages/sklearn/metrics/_classification.py:1344: UndefinedMetricWarning: Precision and F-score are ill-defined and being set to 0.0 in labels with no predicted samples. Use `zero_division` parameter to control this behavior.\n",
      "  _warn_prf(average, modifier, msg_start, len(result))\n",
      "/Users/julianhough/miniforge3/lib/python3.10/site-packages/sklearn/metrics/_classification.py:1344: UndefinedMetricWarning: Precision and F-score are ill-defined and being set to 0.0 in labels with no predicted samples. Use `zero_division` parameter to control this behavior.\n",
      "  _warn_prf(average, modifier, msg_start, len(result))\n"
     ]
    },
    {
     "name": "stdout",
     "output_type": "stream",
     "text": [
      "[3, 1, 1, 2, 1.0, 0.1, 0.0] 0.6904333997589129\n"
     ]
    },
    {
     "name": "stderr",
     "output_type": "stream",
     "text": [
      "/Users/julianhough/miniforge3/lib/python3.10/site-packages/sklearn/metrics/_classification.py:1344: UndefinedMetricWarning: Precision and F-score are ill-defined and being set to 0.0 in labels with no predicted samples. Use `zero_division` parameter to control this behavior.\n",
      "  _warn_prf(average, modifier, msg_start, len(result))\n"
     ]
    },
    {
     "name": "stdout",
     "output_type": "stream",
     "text": [
      "[3, 1, 1, 2, 1.0, 0.1, 0.05] 0.7616832870854596\n",
      "[3, 1, 1, 2, 1.0, 0.1, 0.1] 0.7915423865449008\n",
      "[3, 1, 1, 2, 1.0, 0.1, 0.15] 0.8113759624924397\n",
      "[3, 1, 1, 2, 1.0, 0.1, 0.2] 0.8197020269402292\n",
      "[3, 1, 1, 2, 1.0, 0.1, 0.25] 0.8270640701137849\n",
      "[3, 1, 1, 2, 1.0, 0.1, 0.3] 0.8278201236579215\n",
      "[3, 1, 1, 2, 1.0, 0.1, 0.35] 0.830523376410409\n",
      "[3, 1, 1, 2, 1.0, 0.1, 0.4] 0.8309042850372829\n",
      "[3, 1, 1, 2, 1.0, 0.1, 0.45] 0.8317733227365016\n",
      "[3, 1, 1, 2, 1.0, 0.1, 0.5] 0.8328503608410652\n",
      "[3, 1, 1, 2, 1.0, 0.1, 0.55] 0.8340158765314342\n",
      "[3, 1, 1, 2, 1.0, 0.1, 0.6] 0.8332756422373154\n"
     ]
    },
    {
     "name": "stderr",
     "output_type": "stream",
     "text": [
      "/Users/julianhough/miniforge3/lib/python3.10/site-packages/sklearn/metrics/_classification.py:1344: UndefinedMetricWarning: Precision and F-score are ill-defined and being set to 0.0 in labels with no predicted samples. Use `zero_division` parameter to control this behavior.\n",
      "  _warn_prf(average, modifier, msg_start, len(result))\n",
      "/Users/julianhough/miniforge3/lib/python3.10/site-packages/sklearn/metrics/_classification.py:1344: UndefinedMetricWarning: Precision and F-score are ill-defined and being set to 0.0 in labels with no predicted samples. Use `zero_division` parameter to control this behavior.\n",
      "  _warn_prf(average, modifier, msg_start, len(result))\n"
     ]
    },
    {
     "name": "stdout",
     "output_type": "stream",
     "text": [
      "[3, 1, 1, 3, 1.0, 0.1, 0.0] 0.6904333997589129\n"
     ]
    },
    {
     "name": "stderr",
     "output_type": "stream",
     "text": [
      "/Users/julianhough/miniforge3/lib/python3.10/site-packages/sklearn/metrics/_classification.py:1344: UndefinedMetricWarning: Precision and F-score are ill-defined and being set to 0.0 in labels with no predicted samples. Use `zero_division` parameter to control this behavior.\n",
      "  _warn_prf(average, modifier, msg_start, len(result))\n",
      "/Users/julianhough/miniforge3/lib/python3.10/site-packages/sklearn/metrics/_classification.py:1344: UndefinedMetricWarning: Precision and F-score are ill-defined and being set to 0.0 in labels with no predicted samples. Use `zero_division` parameter to control this behavior.\n",
      "  _warn_prf(average, modifier, msg_start, len(result))\n"
     ]
    },
    {
     "name": "stdout",
     "output_type": "stream",
     "text": [
      "[3, 1, 1, 3, 1.0, 0.1, 0.05] 0.7534452908351276\n",
      "[3, 1, 1, 3, 1.0, 0.1, 0.1] 0.7884979322577711\n",
      "[3, 1, 1, 3, 1.0, 0.1, 0.15] 0.813067677170158\n",
      "[3, 1, 1, 3, 1.0, 0.1, 0.2] 0.8193467807386396\n",
      "[3, 1, 1, 3, 1.0, 0.1, 0.25] 0.8247219301039139\n",
      "[3, 1, 1, 3, 1.0, 0.1, 0.3] 0.8290129721960827\n",
      "[3, 1, 1, 3, 1.0, 0.1, 0.35] 0.832194862501592\n",
      "[3, 1, 1, 3, 1.0, 0.1, 0.4] 0.8322199257845951\n",
      "[3, 1, 1, 3, 1.0, 0.1, 0.45] 0.8319158767174223\n"
     ]
    },
    {
     "name": "stderr",
     "output_type": "stream",
     "text": [
      "/Users/julianhough/miniforge3/lib/python3.10/site-packages/sklearn/metrics/_classification.py:1344: UndefinedMetricWarning: Precision and F-score are ill-defined and being set to 0.0 in labels with no predicted samples. Use `zero_division` parameter to control this behavior.\n",
      "  _warn_prf(average, modifier, msg_start, len(result))\n",
      "/Users/julianhough/miniforge3/lib/python3.10/site-packages/sklearn/metrics/_classification.py:1344: UndefinedMetricWarning: Precision and F-score are ill-defined and being set to 0.0 in labels with no predicted samples. Use `zero_division` parameter to control this behavior.\n",
      "  _warn_prf(average, modifier, msg_start, len(result))\n"
     ]
    },
    {
     "name": "stdout",
     "output_type": "stream",
     "text": [
      "[3, 1, 1, 4, 1.0, 0.1, 0.0] 0.6904333997589129\n"
     ]
    },
    {
     "name": "stderr",
     "output_type": "stream",
     "text": [
      "/Users/julianhough/miniforge3/lib/python3.10/site-packages/sklearn/metrics/_classification.py:1344: UndefinedMetricWarning: Precision and F-score are ill-defined and being set to 0.0 in labels with no predicted samples. Use `zero_division` parameter to control this behavior.\n",
      "  _warn_prf(average, modifier, msg_start, len(result))\n",
      "/Users/julianhough/miniforge3/lib/python3.10/site-packages/sklearn/metrics/_classification.py:1344: UndefinedMetricWarning: Precision and F-score are ill-defined and being set to 0.0 in labels with no predicted samples. Use `zero_division` parameter to control this behavior.\n",
      "  _warn_prf(average, modifier, msg_start, len(result))\n"
     ]
    },
    {
     "name": "stdout",
     "output_type": "stream",
     "text": [
      "[3, 1, 1, 4, 1.0, 0.1, 0.05] 0.7574443679911945\n",
      "[3, 1, 1, 4, 1.0, 0.1, 0.1] 0.7758843321229393\n",
      "[3, 1, 1, 4, 1.0, 0.1, 0.15] 0.8069801900233425\n",
      "[3, 1, 1, 4, 1.0, 0.1, 0.2] 0.8187891129599063\n",
      "[3, 1, 1, 4, 1.0, 0.1, 0.25] 0.8266223669856203\n",
      "[3, 1, 1, 4, 1.0, 0.1, 0.3] 0.8292158718238652\n",
      "[3, 1, 1, 4, 1.0, 0.1, 0.35] 0.8301249343471921\n",
      "[3, 1, 1, 4, 1.0, 0.1, 0.4] 0.8322756260224484\n",
      "[3, 1, 1, 4, 1.0, 0.1, 0.45] 0.8299624650486903\n"
     ]
    },
    {
     "name": "stderr",
     "output_type": "stream",
     "text": [
      "/Users/julianhough/miniforge3/lib/python3.10/site-packages/sklearn/metrics/_classification.py:1344: UndefinedMetricWarning: Precision and F-score are ill-defined and being set to 0.0 in labels with no predicted samples. Use `zero_division` parameter to control this behavior.\n",
      "  _warn_prf(average, modifier, msg_start, len(result))\n",
      "/Users/julianhough/miniforge3/lib/python3.10/site-packages/sklearn/metrics/_classification.py:1344: UndefinedMetricWarning: Precision and F-score are ill-defined and being set to 0.0 in labels with no predicted samples. Use `zero_division` parameter to control this behavior.\n",
      "  _warn_prf(average, modifier, msg_start, len(result))\n"
     ]
    },
    {
     "name": "stdout",
     "output_type": "stream",
     "text": [
      "[3, 1, 1, 5, 1.0, 0.1, 0.0] 0.6904333997589129\n"
     ]
    },
    {
     "name": "stderr",
     "output_type": "stream",
     "text": [
      "/Users/julianhough/miniforge3/lib/python3.10/site-packages/sklearn/metrics/_classification.py:1344: UndefinedMetricWarning: Precision and F-score are ill-defined and being set to 0.0 in labels with no predicted samples. Use `zero_division` parameter to control this behavior.\n",
      "  _warn_prf(average, modifier, msg_start, len(result))\n"
     ]
    },
    {
     "name": "stdout",
     "output_type": "stream",
     "text": [
      "[3, 1, 1, 5, 1.0, 0.1, 0.05] 0.759094530426051\n",
      "[3, 1, 1, 5, 1.0, 0.1, 0.1] 0.7746629045022028\n",
      "[3, 1, 1, 5, 1.0, 0.1, 0.15] 0.7994342163875887\n",
      "[3, 1, 1, 5, 1.0, 0.1, 0.2] 0.8171797250431755\n",
      "[3, 1, 1, 5, 1.0, 0.1, 0.25] 0.8244584617996534\n",
      "[3, 1, 1, 5, 1.0, 0.1, 0.3] 0.8270629494695286\n",
      "[3, 1, 1, 5, 1.0, 0.1, 0.35] 0.8319684523678111\n",
      "[3, 1, 1, 5, 1.0, 0.1, 0.4] 0.8312759270906892\n"
     ]
    },
    {
     "name": "stderr",
     "output_type": "stream",
     "text": [
      "/Users/julianhough/miniforge3/lib/python3.10/site-packages/sklearn/metrics/_classification.py:1344: UndefinedMetricWarning: Precision and F-score are ill-defined and being set to 0.0 in labels with no predicted samples. Use `zero_division` parameter to control this behavior.\n",
      "  _warn_prf(average, modifier, msg_start, len(result))\n",
      "/Users/julianhough/miniforge3/lib/python3.10/site-packages/sklearn/metrics/_classification.py:1344: UndefinedMetricWarning: Precision and F-score are ill-defined and being set to 0.0 in labels with no predicted samples. Use `zero_division` parameter to control this behavior.\n",
      "  _warn_prf(average, modifier, msg_start, len(result))\n"
     ]
    },
    {
     "name": "stdout",
     "output_type": "stream",
     "text": [
      "[3, 1, 1, 6, 1.0, 0.1, 0.0] 0.6904333997589129\n"
     ]
    },
    {
     "name": "stderr",
     "output_type": "stream",
     "text": [
      "/Users/julianhough/miniforge3/lib/python3.10/site-packages/sklearn/metrics/_classification.py:1344: UndefinedMetricWarning: Precision and F-score are ill-defined and being set to 0.0 in labels with no predicted samples. Use `zero_division` parameter to control this behavior.\n",
      "  _warn_prf(average, modifier, msg_start, len(result))\n",
      "/Users/julianhough/miniforge3/lib/python3.10/site-packages/sklearn/metrics/_classification.py:1344: UndefinedMetricWarning: Precision and F-score are ill-defined and being set to 0.0 in labels with no predicted samples. Use `zero_division` parameter to control this behavior.\n",
      "  _warn_prf(average, modifier, msg_start, len(result))\n"
     ]
    },
    {
     "name": "stdout",
     "output_type": "stream",
     "text": [
      "[3, 1, 1, 6, 1.0, 0.1, 0.05] 0.7582980521996474\n",
      "[3, 1, 1, 6, 1.0, 0.1, 0.1] 0.7745267693805334\n",
      "[3, 1, 1, 6, 1.0, 0.1, 0.15] 0.7948384705566597\n",
      "[3, 1, 1, 6, 1.0, 0.1, 0.2] 0.8150191121050149\n",
      "[3, 1, 1, 6, 1.0, 0.1, 0.25] 0.8226420020005866\n",
      "[3, 1, 1, 6, 1.0, 0.1, 0.3] 0.8236195646884158\n",
      "[3, 1, 1, 6, 1.0, 0.1, 0.35] 0.8304873397066341\n",
      "[3, 1, 1, 6, 1.0, 0.1, 0.4] 0.8321112122401042\n",
      "[3, 1, 1, 6, 1.0, 0.1, 0.45] 0.8343899163622763\n",
      "[3, 1, 1, 6, 1.0, 0.1, 0.5] 0.8342474338166067\n"
     ]
    },
    {
     "name": "stderr",
     "output_type": "stream",
     "text": [
      "/Users/julianhough/miniforge3/lib/python3.10/site-packages/sklearn/metrics/_classification.py:1344: UndefinedMetricWarning: Precision and F-score are ill-defined and being set to 0.0 in labels with no predicted samples. Use `zero_division` parameter to control this behavior.\n",
      "  _warn_prf(average, modifier, msg_start, len(result))\n",
      "/Users/julianhough/miniforge3/lib/python3.10/site-packages/sklearn/metrics/_classification.py:1344: UndefinedMetricWarning: Precision and F-score are ill-defined and being set to 0.0 in labels with no predicted samples. Use `zero_division` parameter to control this behavior.\n",
      "  _warn_prf(average, modifier, msg_start, len(result))\n"
     ]
    },
    {
     "name": "stdout",
     "output_type": "stream",
     "text": [
      "[3, 1, 1, 7, 1.0, 0.1, 0.0] 0.6904333997589129\n"
     ]
    },
    {
     "name": "stderr",
     "output_type": "stream",
     "text": [
      "/Users/julianhough/miniforge3/lib/python3.10/site-packages/sklearn/metrics/_classification.py:1344: UndefinedMetricWarning: Precision and F-score are ill-defined and being set to 0.0 in labels with no predicted samples. Use `zero_division` parameter to control this behavior.\n",
      "  _warn_prf(average, modifier, msg_start, len(result))\n",
      "/Users/julianhough/miniforge3/lib/python3.10/site-packages/sklearn/metrics/_classification.py:1344: UndefinedMetricWarning: Precision and F-score are ill-defined and being set to 0.0 in labels with no predicted samples. Use `zero_division` parameter to control this behavior.\n",
      "  _warn_prf(average, modifier, msg_start, len(result))\n"
     ]
    },
    {
     "name": "stdout",
     "output_type": "stream",
     "text": [
      "[3, 1, 1, 7, 1.0, 0.1, 0.05] 0.7657698547786026\n",
      "[3, 1, 1, 7, 1.0, 0.1, 0.1] 0.770765556933252\n",
      "[3, 1, 1, 7, 1.0, 0.1, 0.15] 0.7918089098847918\n",
      "[3, 1, 1, 7, 1.0, 0.1, 0.2] 0.8108211174599236\n",
      "[3, 1, 1, 7, 1.0, 0.1, 0.25] 0.8233959417048424\n",
      "[3, 1, 1, 7, 1.0, 0.1, 0.3] 0.8253210100346232\n",
      "[3, 1, 1, 7, 1.0, 0.1, 0.35] 0.8265557821835147\n",
      "[3, 1, 1, 7, 1.0, 0.1, 0.4] 0.8303115849306195\n",
      "[3, 1, 1, 7, 1.0, 0.1, 0.45] 0.8323585670534539\n",
      "[3, 1, 1, 7, 1.0, 0.1, 0.5] 0.8341073248882994\n",
      "[3, 1, 1, 7, 1.0, 0.1, 0.55] 0.8348364867826603\n",
      "[3, 1, 1, 7, 1.0, 0.1, 0.6] 0.8354143948714527\n",
      "[3, 1, 1, 7, 1.0, 0.1, 0.65] 0.8361150274722328\n",
      "[3, 1, 1, 7, 1.0, 0.1, 0.7] 0.8343049227331142\n"
     ]
    },
    {
     "name": "stderr",
     "output_type": "stream",
     "text": [
      "/Users/julianhough/miniforge3/lib/python3.10/site-packages/sklearn/metrics/_classification.py:1344: UndefinedMetricWarning: Precision and F-score are ill-defined and being set to 0.0 in labels with no predicted samples. Use `zero_division` parameter to control this behavior.\n",
      "  _warn_prf(average, modifier, msg_start, len(result))\n",
      "/Users/julianhough/miniforge3/lib/python3.10/site-packages/sklearn/metrics/_classification.py:1344: UndefinedMetricWarning: Precision and F-score are ill-defined and being set to 0.0 in labels with no predicted samples. Use `zero_division` parameter to control this behavior.\n",
      "  _warn_prf(average, modifier, msg_start, len(result))\n"
     ]
    },
    {
     "name": "stdout",
     "output_type": "stream",
     "text": [
      "[3, 1, 1, 8, 1.0, 0.1, 0.0] 0.6904333997589129\n"
     ]
    },
    {
     "name": "stderr",
     "output_type": "stream",
     "text": [
      "/Users/julianhough/miniforge3/lib/python3.10/site-packages/sklearn/metrics/_classification.py:1344: UndefinedMetricWarning: Precision and F-score are ill-defined and being set to 0.0 in labels with no predicted samples. Use `zero_division` parameter to control this behavior.\n",
      "  _warn_prf(average, modifier, msg_start, len(result))\n",
      "/Users/julianhough/miniforge3/lib/python3.10/site-packages/sklearn/metrics/_classification.py:1344: UndefinedMetricWarning: Precision and F-score are ill-defined and being set to 0.0 in labels with no predicted samples. Use `zero_division` parameter to control this behavior.\n",
      "  _warn_prf(average, modifier, msg_start, len(result))\n"
     ]
    },
    {
     "name": "stdout",
     "output_type": "stream",
     "text": [
      "[3, 1, 1, 8, 1.0, 0.1, 0.05] 0.7674909569960641\n",
      "[3, 1, 1, 8, 1.0, 0.1, 0.1] 0.7700814237963679\n",
      "[3, 1, 1, 8, 1.0, 0.1, 0.15] 0.7920335288993193\n",
      "[3, 1, 1, 8, 1.0, 0.1, 0.2] 0.8080759790754402\n",
      "[3, 1, 1, 8, 1.0, 0.1, 0.25] 0.821373308308161\n",
      "[3, 1, 1, 8, 1.0, 0.1, 0.3] 0.824745388727541\n",
      "[3, 1, 1, 8, 1.0, 0.1, 0.35] 0.8254565069224409\n",
      "[3, 1, 1, 8, 1.0, 0.1, 0.4] 0.8267859769526945\n",
      "[3, 1, 1, 8, 1.0, 0.1, 0.45] 0.82934859081361\n",
      "[3, 1, 1, 8, 1.0, 0.1, 0.5] 0.8335442505450624\n",
      "[3, 1, 1, 8, 1.0, 0.1, 0.55] 0.8335635308835121\n",
      "[3, 1, 1, 8, 1.0, 0.1, 0.6] 0.8364805112748674\n",
      "[3, 1, 1, 8, 1.0, 0.1, 0.65] 0.8368298384766371\n",
      "[3, 1, 1, 8, 1.0, 0.1, 0.7] 0.8368156601026291\n"
     ]
    },
    {
     "name": "stderr",
     "output_type": "stream",
     "text": [
      "/Users/julianhough/miniforge3/lib/python3.10/site-packages/sklearn/metrics/_classification.py:1344: UndefinedMetricWarning: Precision and F-score are ill-defined and being set to 0.0 in labels with no predicted samples. Use `zero_division` parameter to control this behavior.\n",
      "  _warn_prf(average, modifier, msg_start, len(result))\n",
      "/Users/julianhough/miniforge3/lib/python3.10/site-packages/sklearn/metrics/_classification.py:1344: UndefinedMetricWarning: Precision and F-score are ill-defined and being set to 0.0 in labels with no predicted samples. Use `zero_division` parameter to control this behavior.\n",
      "  _warn_prf(average, modifier, msg_start, len(result))\n"
     ]
    },
    {
     "name": "stdout",
     "output_type": "stream",
     "text": [
      "[3, 1, 1, 9, 1.0, 0.1, 0.0] 0.6904333997589129\n"
     ]
    },
    {
     "name": "stderr",
     "output_type": "stream",
     "text": [
      "/Users/julianhough/miniforge3/lib/python3.10/site-packages/sklearn/metrics/_classification.py:1344: UndefinedMetricWarning: Precision and F-score are ill-defined and being set to 0.0 in labels with no predicted samples. Use `zero_division` parameter to control this behavior.\n",
      "  _warn_prf(average, modifier, msg_start, len(result))\n",
      "/Users/julianhough/miniforge3/lib/python3.10/site-packages/sklearn/metrics/_classification.py:1344: UndefinedMetricWarning: Precision and F-score are ill-defined and being set to 0.0 in labels with no predicted samples. Use `zero_division` parameter to control this behavior.\n",
      "  _warn_prf(average, modifier, msg_start, len(result))\n"
     ]
    },
    {
     "name": "stdout",
     "output_type": "stream",
     "text": [
      "[3, 1, 1, 9, 1.0, 0.1, 0.05] 0.7666186822484359\n"
     ]
    },
    {
     "name": "stderr",
     "output_type": "stream",
     "text": [
      "/Users/julianhough/miniforge3/lib/python3.10/site-packages/sklearn/metrics/_classification.py:1344: UndefinedMetricWarning: Precision and F-score are ill-defined and being set to 0.0 in labels with no predicted samples. Use `zero_division` parameter to control this behavior.\n",
      "  _warn_prf(average, modifier, msg_start, len(result))\n"
     ]
    },
    {
     "name": "stdout",
     "output_type": "stream",
     "text": [
      "[3, 1, 1, 9, 1.0, 0.1, 0.1] 0.7701297949787632\n",
      "[3, 1, 1, 9, 1.0, 0.1, 0.15] 0.7911931754292043\n",
      "[3, 1, 1, 9, 1.0, 0.1, 0.2] 0.8081769542632903\n",
      "[3, 1, 1, 9, 1.0, 0.1, 0.25] 0.8195527283030054\n",
      "[3, 1, 1, 9, 1.0, 0.1, 0.3] 0.8250479808972415\n",
      "[3, 1, 1, 9, 1.0, 0.1, 0.35] 0.8260739606794779\n",
      "[3, 1, 1, 9, 1.0, 0.1, 0.4] 0.8253746646704592\n"
     ]
    },
    {
     "name": "stderr",
     "output_type": "stream",
     "text": [
      "/Users/julianhough/miniforge3/lib/python3.10/site-packages/sklearn/metrics/_classification.py:1344: UndefinedMetricWarning: Precision and F-score are ill-defined and being set to 0.0 in labels with no predicted samples. Use `zero_division` parameter to control this behavior.\n",
      "  _warn_prf(average, modifier, msg_start, len(result))\n",
      "/Users/julianhough/miniforge3/lib/python3.10/site-packages/sklearn/metrics/_classification.py:1344: UndefinedMetricWarning: Precision and F-score are ill-defined and being set to 0.0 in labels with no predicted samples. Use `zero_division` parameter to control this behavior.\n",
      "  _warn_prf(average, modifier, msg_start, len(result))\n"
     ]
    },
    {
     "name": "stdout",
     "output_type": "stream",
     "text": [
      "[3, 1, 1, 10, 1.0, 0.1, 0.0] 0.6904333997589129\n"
     ]
    },
    {
     "name": "stderr",
     "output_type": "stream",
     "text": [
      "/Users/julianhough/miniforge3/lib/python3.10/site-packages/sklearn/metrics/_classification.py:1344: UndefinedMetricWarning: Precision and F-score are ill-defined and being set to 0.0 in labels with no predicted samples. Use `zero_division` parameter to control this behavior.\n",
      "  _warn_prf(average, modifier, msg_start, len(result))\n",
      "/Users/julianhough/miniforge3/lib/python3.10/site-packages/sklearn/metrics/_classification.py:1344: UndefinedMetricWarning: Precision and F-score are ill-defined and being set to 0.0 in labels with no predicted samples. Use `zero_division` parameter to control this behavior.\n",
      "  _warn_prf(average, modifier, msg_start, len(result))\n"
     ]
    },
    {
     "name": "stdout",
     "output_type": "stream",
     "text": [
      "[3, 1, 1, 10, 1.0, 0.1, 0.05] 0.7649865865229176\n"
     ]
    },
    {
     "name": "stderr",
     "output_type": "stream",
     "text": [
      "/Users/julianhough/miniforge3/lib/python3.10/site-packages/sklearn/metrics/_classification.py:1344: UndefinedMetricWarning: Precision and F-score are ill-defined and being set to 0.0 in labels with no predicted samples. Use `zero_division` parameter to control this behavior.\n",
      "  _warn_prf(average, modifier, msg_start, len(result))\n"
     ]
    },
    {
     "name": "stdout",
     "output_type": "stream",
     "text": [
      "[3, 1, 1, 10, 1.0, 0.1, 0.1] 0.7688937722545814\n",
      "[3, 1, 1, 10, 1.0, 0.1, 0.15] 0.7897646250812874\n",
      "[3, 1, 1, 10, 1.0, 0.1, 0.2] 0.8062401510611011\n",
      "[3, 1, 1, 10, 1.0, 0.1, 0.25] 0.8200451258148609\n",
      "[3, 1, 1, 10, 1.0, 0.1, 0.3] 0.8244186443940958\n",
      "[3, 1, 1, 10, 1.0, 0.1, 0.35] 0.824490523644574\n",
      "[3, 1, 1, 10, 1.0, 0.1, 0.4] 0.8275764358194434\n",
      "[3, 1, 1, 10, 1.0, 0.1, 0.45] 0.8281966470320353\n",
      "[3, 1, 1, 10, 1.0, 0.1, 0.5] 0.83169413300252\n",
      "[3, 1, 1, 10, 1.0, 0.1, 0.55] 0.8342984320660499\n",
      "[3, 1, 1, 10, 1.0, 0.1, 0.6] 0.8353483346526727\n",
      "[3, 1, 1, 10, 1.0, 0.1, 0.65] 0.8364883100886924\n",
      "[3, 1, 1, 10, 1.0, 0.1, 0.7] 0.832707745708092\n",
      "[4, 1, 1, 1, 0.05, 0.1, 0.0] 0.7942859310277193\n",
      "best 0.7942859310277193 [4, 1, 1, 1, 0.05, 0.1, 0.0]\n",
      "[4, 1, 1, 1, 0.05, 0.1, 0.05] 0.8346360886838834\n",
      "best 0.8346360886838834 [4, 1, 1, 1, 0.05, 0.1, 0.05]\n",
      "[4, 1, 1, 1, 0.05, 0.1, 0.1] 0.8364773368391237\n",
      "best 0.8364773368391237 [4, 1, 1, 1, 0.05, 0.1, 0.1]\n",
      "[4, 1, 1, 1, 0.05, 0.1, 0.15] 0.8364873270308194\n",
      "best 0.8364873270308194 [4, 1, 1, 1, 0.05, 0.1, 0.15]\n",
      "[4, 1, 1, 1, 0.05, 0.1, 0.2] 0.8358600156059334\n",
      "[4, 1, 1, 2, 0.05, 0.1, 0.0] 0.7942859310277193\n",
      "[4, 1, 1, 2, 0.05, 0.1, 0.05] 0.8345922218989978\n",
      "[4, 1, 1, 2, 0.05, 0.1, 0.1] 0.837688195376087\n",
      "best 0.837688195376087 [4, 1, 1, 2, 0.05, 0.1, 0.1]\n",
      "[4, 1, 1, 2, 0.05, 0.1, 0.15] 0.8377161596577357\n",
      "best 0.8377161596577357 [4, 1, 1, 2, 0.05, 0.1, 0.15]\n",
      "[4, 1, 1, 2, 0.05, 0.1, 0.2] 0.8370273227613966\n",
      "[4, 1, 1, 3, 0.05, 0.1, 0.0] 0.7942859310277193\n",
      "[4, 1, 1, 3, 0.05, 0.1, 0.05] 0.8357719875413924\n",
      "[4, 1, 1, 3, 0.05, 0.1, 0.1] 0.8376770892011512\n",
      "[4, 1, 1, 3, 0.05, 0.1, 0.15] 0.8398431993925083\n",
      "best 0.8398431993925083 [4, 1, 1, 3, 0.05, 0.1, 0.15]\n",
      "[4, 1, 1, 3, 0.05, 0.1, 0.2] 0.84211157916408\n",
      "best 0.84211157916408 [4, 1, 1, 3, 0.05, 0.1, 0.2]\n",
      "[4, 1, 1, 3, 0.05, 0.1, 0.25] 0.8426342539735948\n",
      "best 0.8426342539735948 [4, 1, 1, 3, 0.05, 0.1, 0.25]\n",
      "[4, 1, 1, 3, 0.05, 0.1, 0.3] 0.8431513644899178\n",
      "best 0.8431513644899178 [4, 1, 1, 3, 0.05, 0.1, 0.3]\n",
      "[4, 1, 1, 3, 0.05, 0.1, 0.35] 0.8429754261481289\n",
      "[4, 1, 1, 4, 0.05, 0.1, 0.0] 0.7942859310277193\n",
      "[4, 1, 1, 4, 0.05, 0.1, 0.05] 0.8345633866214178\n",
      "[4, 1, 1, 4, 0.05, 0.1, 0.1] 0.8364073118729216\n",
      "[4, 1, 1, 4, 0.05, 0.1, 0.15] 0.8402034463160104\n",
      "[4, 1, 1, 4, 0.05, 0.1, 0.2] 0.8426682325719616\n",
      "[4, 1, 1, 4, 0.05, 0.1, 0.25] 0.8419813980159317\n",
      "[4, 1, 1, 5, 0.05, 0.1, 0.0] 0.7942859310277193\n",
      "[4, 1, 1, 5, 0.05, 0.1, 0.05] 0.8346398772864918\n",
      "[4, 1, 1, 5, 0.05, 0.1, 0.1] 0.8372357382225725\n",
      "[4, 1, 1, 5, 0.05, 0.1, 0.15] 0.8392173487873542\n",
      "[4, 1, 1, 5, 0.05, 0.1, 0.2] 0.8424420213352442\n",
      "[4, 1, 1, 5, 0.05, 0.1, 0.25] 0.8401825223757305\n",
      "[4, 1, 1, 6, 0.05, 0.1, 0.0] 0.7942859310277193\n",
      "[4, 1, 1, 6, 0.05, 0.1, 0.05] 0.8324582718406857\n",
      "[4, 1, 1, 6, 0.05, 0.1, 0.1] 0.8377160684015469\n",
      "[4, 1, 1, 6, 0.05, 0.1, 0.15] 0.8388487183394416\n",
      "[4, 1, 1, 6, 0.05, 0.1, 0.2] 0.8405279782230587\n",
      "[4, 1, 1, 6, 0.05, 0.1, 0.25] 0.8408605786478656\n",
      "[4, 1, 1, 6, 0.05, 0.1, 0.3] 0.8421425651276052\n",
      "[4, 1, 1, 6, 0.05, 0.1, 0.35] 0.8412999532942566\n",
      "[4, 1, 1, 7, 0.05, 0.1, 0.0] 0.7942859310277193\n",
      "[4, 1, 1, 7, 0.05, 0.1, 0.05] 0.834167622130235\n",
      "[4, 1, 1, 7, 0.05, 0.1, 0.1] 0.8381447094979799\n",
      "[4, 1, 1, 7, 0.05, 0.1, 0.15] 0.8402236217701746\n",
      "[4, 1, 1, 7, 0.05, 0.1, 0.2] 0.8410647959906422\n",
      "[4, 1, 1, 7, 0.05, 0.1, 0.25] 0.8426337060530528\n",
      "[4, 1, 1, 7, 0.05, 0.1, 0.3] 0.8423105027863641\n",
      "[4, 1, 1, 8, 0.05, 0.1, 0.0] 0.7942859310277193\n",
      "[4, 1, 1, 8, 0.05, 0.1, 0.05] 0.8354193159847727\n",
      "[4, 1, 1, 8, 0.05, 0.1, 0.1] 0.8363987092583806\n",
      "[4, 1, 1, 8, 0.05, 0.1, 0.15] 0.837146639300287\n",
      "[4, 1, 1, 8, 0.05, 0.1, 0.2] 0.8379340416732882\n",
      "[4, 1, 1, 8, 0.05, 0.1, 0.25] 0.8412741553052443\n",
      "[4, 1, 1, 8, 0.05, 0.1, 0.3] 0.8410149534481024\n",
      "[4, 1, 1, 9, 0.05, 0.1, 0.0] 0.7942859310277193\n",
      "[4, 1, 1, 9, 0.05, 0.1, 0.05] 0.8340158127136884\n",
      "[4, 1, 1, 9, 0.05, 0.1, 0.1] 0.8346720802591238\n",
      "[4, 1, 1, 9, 0.05, 0.1, 0.15] 0.8372587523941633\n",
      "[4, 1, 1, 9, 0.05, 0.1, 0.2] 0.8376901274354234\n",
      "[4, 1, 1, 9, 0.05, 0.1, 0.25] 0.8375885990866284\n",
      "[4, 1, 1, 10, 0.05, 0.1, 0.0] 0.7942859310277193\n",
      "[4, 1, 1, 10, 0.05, 0.1, 0.05] 0.8341535976155401\n",
      "[4, 1, 1, 10, 0.05, 0.1, 0.1] 0.834257648083009\n",
      "[4, 1, 1, 10, 0.05, 0.1, 0.15] 0.8378677272799367\n",
      "[4, 1, 1, 10, 0.05, 0.1, 0.2] 0.8387681567950881\n",
      "[4, 1, 1, 10, 0.05, 0.1, 0.25] 0.8381256140361657\n",
      "[4, 1, 1, 1, 0.1, 0.1, 0.0] 0.7988282564901381\n",
      "[4, 1, 1, 1, 0.1, 0.1, 0.05] 0.8340240956887818\n",
      "[4, 1, 1, 1, 0.1, 0.1, 0.1] 0.8358135000086058\n",
      "[4, 1, 1, 1, 0.1, 0.1, 0.15] 0.8335986783986435\n",
      "[4, 1, 1, 2, 0.1, 0.1, 0.0] 0.7988282564901381\n",
      "[4, 1, 1, 2, 0.1, 0.1, 0.05] 0.8344513852802259\n",
      "[4, 1, 1, 2, 0.1, 0.1, 0.1] 0.8369699625936396\n",
      "[4, 1, 1, 2, 0.1, 0.1, 0.15] 0.8349336839727798\n",
      "[4, 1, 1, 3, 0.1, 0.1, 0.0] 0.7988282564901381\n",
      "[4, 1, 1, 3, 0.1, 0.1, 0.05] 0.8350175302613081\n",
      "[4, 1, 1, 3, 0.1, 0.1, 0.1] 0.8365595670544511\n",
      "[4, 1, 1, 3, 0.1, 0.1, 0.15] 0.8382646367606714\n",
      "[4, 1, 1, 3, 0.1, 0.1, 0.2] 0.8387898260780677\n",
      "[4, 1, 1, 3, 0.1, 0.1, 0.25] 0.8400808059349147\n",
      "[4, 1, 1, 3, 0.1, 0.1, 0.3] 0.8406427225596357\n",
      "[4, 1, 1, 3, 0.1, 0.1, 0.35] 0.8427158229879651\n",
      "[4, 1, 1, 3, 0.1, 0.1, 0.4] 0.8433914705876556\n",
      "best 0.8433914705876556 [4, 1, 1, 3, 0.1, 0.1, 0.4]\n",
      "[4, 1, 1, 3, 0.1, 0.1, 0.45] 0.8427443771184598\n",
      "[4, 1, 1, 4, 0.1, 0.1, 0.0] 0.7988282564901381\n",
      "[4, 1, 1, 4, 0.1, 0.1, 0.05] 0.8359798126969862\n",
      "[4, 1, 1, 4, 0.1, 0.1, 0.1] 0.8369478934091393\n",
      "[4, 1, 1, 4, 0.1, 0.1, 0.15] 0.8388581795906305\n",
      "[4, 1, 1, 4, 0.1, 0.1, 0.2] 0.8398163271328553\n",
      "[4, 1, 1, 4, 0.1, 0.1, 0.25] 0.839263452467921\n",
      "[4, 1, 1, 5, 0.1, 0.1, 0.0] 0.7989029491820565\n",
      "[4, 1, 1, 5, 0.1, 0.1, 0.05] 0.8353195829737788\n",
      "[4, 1, 1, 5, 0.1, 0.1, 0.1] 0.8352463678549993\n",
      "[4, 1, 1, 6, 0.1, 0.1, 0.0] 0.7988282564901381\n",
      "[4, 1, 1, 6, 0.1, 0.1, 0.05] 0.8352243866913912\n",
      "[4, 1, 1, 6, 0.1, 0.1, 0.1] 0.8352214883056442\n",
      "[4, 1, 1, 7, 0.1, 0.1, 0.0] 0.7989029491820565\n",
      "[4, 1, 1, 7, 0.1, 0.1, 0.05] 0.8345053061643357\n",
      "[4, 1, 1, 7, 0.1, 0.1, 0.1] 0.8343385953518195\n",
      "[4, 1, 1, 8, 0.1, 0.1, 0.0] 0.7988282564901381\n",
      "[4, 1, 1, 8, 0.1, 0.1, 0.05] 0.8339982540083489\n",
      "[4, 1, 1, 8, 0.1, 0.1, 0.1] 0.8351712852149278\n",
      "[4, 1, 1, 8, 0.1, 0.1, 0.15] 0.8341846989774211\n",
      "[4, 1, 1, 9, 0.1, 0.1, 0.0] 0.7988282564901381\n",
      "[4, 1, 1, 9, 0.1, 0.1, 0.05] 0.8323939193243529\n",
      "[4, 1, 1, 9, 0.1, 0.1, 0.1] 0.8358480434301521\n",
      "[4, 1, 1, 9, 0.1, 0.1, 0.15] 0.8352190816640827\n",
      "[4, 1, 1, 10, 0.1, 0.1, 0.0] 0.7988282564901381\n",
      "[4, 1, 1, 10, 0.1, 0.1, 0.05] 0.8335409127186535\n",
      "[4, 1, 1, 10, 0.1, 0.1, 0.1] 0.8334596831917326\n",
      "[4, 1, 1, 1, 0.15, 0.1, 0.0] 0.7993182569153271\n",
      "[4, 1, 1, 1, 0.15, 0.1, 0.05] 0.8338068385930253\n",
      "[4, 1, 1, 1, 0.15, 0.1, 0.1] 0.8336090455151747\n",
      "[4, 1, 1, 2, 0.15, 0.1, 0.0] 0.7993182569153271\n",
      "[4, 1, 1, 2, 0.15, 0.1, 0.05] 0.8337762130457157\n",
      "[4, 1, 1, 2, 0.15, 0.1, 0.1] 0.8347531296598719\n",
      "[4, 1, 1, 2, 0.15, 0.1, 0.15] 0.8356138662988332\n",
      "[4, 1, 1, 2, 0.15, 0.1, 0.2] 0.8360294665488514\n",
      "[4, 1, 1, 2, 0.15, 0.1, 0.25] 0.8347380324835393\n",
      "[4, 1, 1, 3, 0.15, 0.1, 0.0] 0.7993182569153271\n",
      "[4, 1, 1, 3, 0.15, 0.1, 0.05] 0.8317845387194637\n",
      "[4, 1, 1, 3, 0.15, 0.1, 0.1] 0.8363631088278981\n",
      "[4, 1, 1, 3, 0.15, 0.1, 0.15] 0.8385492881200437\n",
      "[4, 1, 1, 3, 0.15, 0.1, 0.2] 0.8385704534772636\n",
      "[4, 1, 1, 3, 0.15, 0.1, 0.25] 0.83948987390926\n",
      "[4, 1, 1, 3, 0.15, 0.1, 0.3] 0.8402161396396887\n",
      "[4, 1, 1, 3, 0.15, 0.1, 0.35] 0.8415111311297531\n",
      "[4, 1, 1, 3, 0.15, 0.1, 0.4] 0.8419569484014019\n",
      "[4, 1, 1, 3, 0.15, 0.1, 0.45] 0.8404878071520304\n",
      "[4, 1, 1, 4, 0.15, 0.1, 0.0] 0.7993182569153271\n",
      "[4, 1, 1, 4, 0.15, 0.1, 0.05] 0.834957233195188\n",
      "[4, 1, 1, 4, 0.15, 0.1, 0.1] 0.8357313533234416\n",
      "[4, 1, 1, 4, 0.15, 0.1, 0.15] 0.8351999222168355\n",
      "[4, 1, 1, 5, 0.15, 0.1, 0.0] 0.7993182569153271\n",
      "[4, 1, 1, 5, 0.15, 0.1, 0.05] 0.8332244900360753\n",
      "[4, 1, 1, 5, 0.15, 0.1, 0.1] 0.8362021323584352\n",
      "[4, 1, 1, 5, 0.15, 0.1, 0.15] 0.8356276086770229\n",
      "[4, 1, 1, 6, 0.15, 0.1, 0.0] 0.7993182569153271\n",
      "[4, 1, 1, 6, 0.15, 0.1, 0.05] 0.8319632468760595\n",
      "[4, 1, 1, 6, 0.15, 0.1, 0.1] 0.836728035851433\n",
      "[4, 1, 1, 6, 0.15, 0.1, 0.15] 0.8365720738409881\n",
      "[4, 1, 1, 7, 0.15, 0.1, 0.0] 0.7993182569153271\n",
      "[4, 1, 1, 7, 0.15, 0.1, 0.05] 0.8316015488239579\n",
      "[4, 1, 1, 7, 0.15, 0.1, 0.1] 0.8343941884091052\n",
      "[4, 1, 1, 7, 0.15, 0.1, 0.15] 0.837351854151602\n",
      "[4, 1, 1, 7, 0.15, 0.1, 0.2] 0.838072433592588\n",
      "[4, 1, 1, 7, 0.15, 0.1, 0.25] 0.8385230344276089\n",
      "[4, 1, 1, 7, 0.15, 0.1, 0.3] 0.8408951407145533\n"
     ]
    },
    {
     "name": "stdout",
     "output_type": "stream",
     "text": [
      "[4, 1, 1, 7, 0.15, 0.1, 0.35] 0.8401087486451166\n",
      "[4, 1, 1, 8, 0.15, 0.1, 0.0] 0.7993182569153271\n",
      "[4, 1, 1, 8, 0.15, 0.1, 0.05] 0.830690183152597\n",
      "[4, 1, 1, 8, 0.15, 0.1, 0.1] 0.8347104032725797\n",
      "[4, 1, 1, 8, 0.15, 0.1, 0.15] 0.8352910578828691\n",
      "[4, 1, 1, 8, 0.15, 0.1, 0.2] 0.8385258201582934\n",
      "[4, 1, 1, 8, 0.15, 0.1, 0.25] 0.8389961144143546\n",
      "[4, 1, 1, 8, 0.15, 0.1, 0.3] 0.8393603717105146\n",
      "[4, 1, 1, 8, 0.15, 0.1, 0.35] 0.8397668456375044\n",
      "[4, 1, 1, 8, 0.15, 0.1, 0.4] 0.8402491848281441\n",
      "[4, 1, 1, 8, 0.15, 0.1, 0.45] 0.8394162055279875\n",
      "[4, 1, 1, 9, 0.15, 0.1, 0.0] 0.7993182569153271\n",
      "[4, 1, 1, 9, 0.15, 0.1, 0.05] 0.830983387383615\n",
      "[4, 1, 1, 9, 0.15, 0.1, 0.1] 0.8357045071787176\n",
      "[4, 1, 1, 9, 0.15, 0.1, 0.15] 0.8345412482583568\n",
      "[4, 1, 1, 10, 0.15, 0.1, 0.0] 0.7993182569153271\n",
      "[4, 1, 1, 10, 0.15, 0.1, 0.05] 0.8320280627016153\n",
      "[4, 1, 1, 10, 0.15, 0.1, 0.1] 0.8349272044714507\n",
      "[4, 1, 1, 10, 0.15, 0.1, 0.15] 0.835061616262517\n",
      "[4, 1, 1, 10, 0.15, 0.1, 0.2] 0.8349786425213697\n",
      "[4, 1, 1, 1, 0.2, 0.1, 0.0] 0.7982030319107843\n",
      "[4, 1, 1, 1, 0.2, 0.1, 0.05] 0.831590086991962\n",
      "[4, 1, 1, 1, 0.2, 0.1, 0.1] 0.8349458716033176\n",
      "[4, 1, 1, 1, 0.2, 0.1, 0.15] 0.8330233874604109\n",
      "[4, 1, 1, 2, 0.2, 0.1, 0.0] 0.7982030319107843\n",
      "[4, 1, 1, 2, 0.2, 0.1, 0.05] 0.831295770270322\n",
      "[4, 1, 1, 2, 0.2, 0.1, 0.1] 0.8349338510141869\n",
      "[4, 1, 1, 2, 0.2, 0.1, 0.15] 0.8341874694659366\n",
      "[4, 1, 1, 3, 0.2, 0.1, 0.0] 0.7982030319107843\n",
      "[4, 1, 1, 3, 0.2, 0.1, 0.05] 0.8309898419377045\n",
      "[4, 1, 1, 3, 0.2, 0.1, 0.1] 0.8370577953981948\n",
      "[4, 1, 1, 3, 0.2, 0.1, 0.15] 0.8365009645441911\n",
      "[4, 1, 1, 4, 0.2, 0.1, 0.0] 0.7982030319107843\n",
      "[4, 1, 1, 4, 0.2, 0.1, 0.05] 0.8298560157025375\n",
      "[4, 1, 1, 4, 0.2, 0.1, 0.1] 0.8350006721912736\n",
      "[4, 1, 1, 4, 0.2, 0.1, 0.15] 0.8383936677443667\n",
      "[4, 1, 1, 4, 0.2, 0.1, 0.2] 0.8411857371753587\n",
      "[4, 1, 1, 4, 0.2, 0.1, 0.25] 0.8376520703520176\n",
      "[4, 1, 1, 5, 0.2, 0.1, 0.0] 0.7982030319107843\n",
      "[4, 1, 1, 5, 0.2, 0.1, 0.05] 0.8283643967036741\n",
      "[4, 1, 1, 5, 0.2, 0.1, 0.1] 0.8345043494671952\n",
      "[4, 1, 1, 5, 0.2, 0.1, 0.15] 0.837858213753315\n",
      "[4, 1, 1, 5, 0.2, 0.1, 0.2] 0.8391461785656082\n",
      "[4, 1, 1, 5, 0.2, 0.1, 0.25] 0.838424661721018\n",
      "[4, 1, 1, 6, 0.2, 0.1, 0.0] 0.7982030319107843\n",
      "[4, 1, 1, 6, 0.2, 0.1, 0.05] 0.8292550591005078\n",
      "[4, 1, 1, 6, 0.2, 0.1, 0.1] 0.8338566988730719\n",
      "[4, 1, 1, 6, 0.2, 0.1, 0.15] 0.8366827851831095\n",
      "[4, 1, 1, 6, 0.2, 0.1, 0.2] 0.8383929494383365\n",
      "[4, 1, 1, 6, 0.2, 0.1, 0.25] 0.8386137625355875\n",
      "[4, 1, 1, 6, 0.2, 0.1, 0.3] 0.8408112419882875\n",
      "[4, 1, 1, 6, 0.2, 0.1, 0.35] 0.8411776270840853\n",
      "[4, 1, 1, 6, 0.2, 0.1, 0.4] 0.8411781401567886\n",
      "[4, 1, 1, 6, 0.2, 0.1, 0.45] 0.8424886491559956\n",
      "[4, 1, 1, 6, 0.2, 0.1, 0.5] 0.8425250571769141\n",
      "[4, 1, 1, 6, 0.2, 0.1, 0.55] 0.8422066624296374\n",
      "[4, 1, 1, 7, 0.2, 0.1, 0.0] 0.7982030319107843\n",
      "[4, 1, 1, 7, 0.2, 0.1, 0.05] 0.8307439280051493\n",
      "[4, 1, 1, 7, 0.2, 0.1, 0.1] 0.8336527283480775\n",
      "[4, 1, 1, 7, 0.2, 0.1, 0.15] 0.8351670026977247\n",
      "[4, 1, 1, 7, 0.2, 0.1, 0.2] 0.837770732347164\n",
      "[4, 1, 1, 7, 0.2, 0.1, 0.25] 0.8389836377445\n",
      "[4, 1, 1, 7, 0.2, 0.1, 0.3] 0.8396044463515017\n",
      "[4, 1, 1, 7, 0.2, 0.1, 0.35] 0.8399946138831768\n",
      "[4, 1, 1, 7, 0.2, 0.1, 0.4] 0.840094224190489\n",
      "[4, 1, 1, 7, 0.2, 0.1, 0.45] 0.8404974090984929\n",
      "[4, 1, 1, 7, 0.2, 0.1, 0.5] 0.8416691764171332\n",
      "[4, 1, 1, 7, 0.2, 0.1, 0.55] 0.8416278815018655\n",
      "[4, 1, 1, 8, 0.2, 0.1, 0.0] 0.7982030319107843\n",
      "[4, 1, 1, 8, 0.2, 0.1, 0.05] 0.8299557239890313\n",
      "[4, 1, 1, 8, 0.2, 0.1, 0.1] 0.834144122004816\n",
      "[4, 1, 1, 8, 0.2, 0.1, 0.15] 0.8365293254053393\n",
      "[4, 1, 1, 8, 0.2, 0.1, 0.2] 0.8344469244792546\n",
      "[4, 1, 1, 9, 0.2, 0.1, 0.0] 0.7982030319107843\n",
      "[4, 1, 1, 9, 0.2, 0.1, 0.05] 0.831295577317405\n",
      "[4, 1, 1, 9, 0.2, 0.1, 0.1] 0.8324290440713178\n",
      "[4, 1, 1, 9, 0.2, 0.1, 0.15] 0.8356155936799426\n",
      "[4, 1, 1, 9, 0.2, 0.1, 0.2] 0.834870580893898\n",
      "[4, 1, 1, 10, 0.2, 0.1, 0.0] 0.7982030319107843\n",
      "[4, 1, 1, 10, 0.2, 0.1, 0.05] 0.8312987858975832\n",
      "[4, 1, 1, 10, 0.2, 0.1, 0.1] 0.8319930245194448\n",
      "[4, 1, 1, 10, 0.2, 0.1, 0.15] 0.8346274029437265\n",
      "[4, 1, 1, 10, 0.2, 0.1, 0.2] 0.8346573154804064\n",
      "[4, 1, 1, 10, 0.2, 0.1, 0.25] 0.8340534318328235\n",
      "[4, 1, 1, 1, 0.25, 0.1, 0.0] 0.7998259026771446\n",
      "[4, 1, 1, 1, 0.25, 0.1, 0.05] 0.8308480418144086\n",
      "[4, 1, 1, 1, 0.25, 0.1, 0.1] 0.8343512617922197\n",
      "[4, 1, 1, 1, 0.25, 0.1, 0.15] 0.8335649942916767\n",
      "[4, 1, 1, 2, 0.25, 0.1, 0.0] 0.7998259026771446\n",
      "[4, 1, 1, 2, 0.25, 0.1, 0.05] 0.8303023774294419\n",
      "[4, 1, 1, 2, 0.25, 0.1, 0.1] 0.8343419859468554\n",
      "[4, 1, 1, 2, 0.25, 0.1, 0.15] 0.8349157065326833\n",
      "[4, 1, 1, 2, 0.25, 0.1, 0.2] 0.8358126072344547\n",
      "[4, 1, 1, 2, 0.25, 0.1, 0.25] 0.8377116974441245\n",
      "[4, 1, 1, 2, 0.25, 0.1, 0.3] 0.8384935063018378\n",
      "[4, 1, 1, 2, 0.25, 0.1, 0.35] 0.8384955700736595\n",
      "[4, 1, 1, 2, 0.25, 0.1, 0.4] 0.8377098330889049\n",
      "[4, 1, 1, 3, 0.25, 0.1, 0.0] 0.7998259026771446\n",
      "[4, 1, 1, 3, 0.25, 0.1, 0.05] 0.8297149726146936\n",
      "[4, 1, 1, 3, 0.25, 0.1, 0.1] 0.8347628033938382\n",
      "[4, 1, 1, 3, 0.25, 0.1, 0.15] 0.8364717715677861\n",
      "[4, 1, 1, 3, 0.25, 0.1, 0.2] 0.8360972542861175\n",
      "[4, 1, 1, 4, 0.25, 0.1, 0.0] 0.7998259026771446\n",
      "[4, 1, 1, 4, 0.25, 0.1, 0.05] 0.8298313153015655\n",
      "[4, 1, 1, 4, 0.25, 0.1, 0.1] 0.8346033236754344\n",
      "[4, 1, 1, 4, 0.25, 0.1, 0.15] 0.8357824355844963\n",
      "[4, 1, 1, 4, 0.25, 0.1, 0.2] 0.8414825262876985\n",
      "[4, 1, 1, 4, 0.25, 0.1, 0.25] 0.8418062458339736\n",
      "[4, 1, 1, 4, 0.25, 0.1, 0.3] 0.8410693705270426\n",
      "[4, 1, 1, 5, 0.25, 0.1, 0.0] 0.7998259026771446\n",
      "[4, 1, 1, 5, 0.25, 0.1, 0.05] 0.8300220023568243\n",
      "[4, 1, 1, 5, 0.25, 0.1, 0.1] 0.8335498344241854\n",
      "[4, 1, 1, 5, 0.25, 0.1, 0.15] 0.8371963451644205\n",
      "[4, 1, 1, 5, 0.25, 0.1, 0.2] 0.8403818704610518\n",
      "[4, 1, 1, 5, 0.25, 0.1, 0.25] 0.8383483847381867\n",
      "[4, 1, 1, 6, 0.25, 0.1, 0.0] 0.7998259026771446\n",
      "[4, 1, 1, 6, 0.25, 0.1, 0.05] 0.8317279797699876\n",
      "[4, 1, 1, 6, 0.25, 0.1, 0.1] 0.8325631298958559\n",
      "[4, 1, 1, 6, 0.25, 0.1, 0.15] 0.8356914671274236\n",
      "[4, 1, 1, 6, 0.25, 0.1, 0.2] 0.8416052512975026\n",
      "[4, 1, 1, 6, 0.25, 0.1, 0.25] 0.8384165943859712\n",
      "[4, 1, 1, 7, 0.25, 0.1, 0.0] 0.7998259026771446\n",
      "[4, 1, 1, 7, 0.25, 0.1, 0.05] 0.8322391438442086\n",
      "[4, 1, 1, 7, 0.25, 0.1, 0.1] 0.8312803534179053\n",
      "[4, 1, 1, 8, 0.25, 0.1, 0.0] 0.7998259026771446\n",
      "[4, 1, 1, 8, 0.25, 0.1, 0.05] 0.8314391740687681\n",
      "[4, 1, 1, 8, 0.25, 0.1, 0.1] 0.8296292638195704\n",
      "[4, 1, 1, 9, 0.25, 0.1, 0.0] 0.7998259026771446\n",
      "[4, 1, 1, 9, 0.25, 0.1, 0.05] 0.8311856021653213\n",
      "[4, 1, 1, 9, 0.25, 0.1, 0.1] 0.8306317854487146\n",
      "[4, 1, 1, 10, 0.25, 0.1, 0.0] 0.7998259026771446\n",
      "[4, 1, 1, 10, 0.25, 0.1, 0.05] 0.8316587308220793\n",
      "[4, 1, 1, 10, 0.25, 0.1, 0.1] 0.8323084420573597\n",
      "[4, 1, 1, 10, 0.25, 0.1, 0.15] 0.8347402786780573\n",
      "[4, 1, 1, 10, 0.25, 0.1, 0.2] 0.8353556868480091\n",
      "[4, 1, 1, 10, 0.25, 0.1, 0.25] 0.8350787353588596\n",
      "[4, 1, 1, 1, 0.3, 0.1, 0.0] 0.7992868191191931\n",
      "[4, 1, 1, 1, 0.3, 0.1, 0.05] 0.8287896014843911\n",
      "[4, 1, 1, 1, 0.3, 0.1, 0.1] 0.8336253100020926\n",
      "[4, 1, 1, 1, 0.3, 0.1, 0.15] 0.8332442520063011\n",
      "[4, 1, 1, 2, 0.3, 0.1, 0.0] 0.7992868191191931\n",
      "[4, 1, 1, 2, 0.3, 0.1, 0.05] 0.8287430428594096\n",
      "[4, 1, 1, 2, 0.3, 0.1, 0.1] 0.8334845372326269\n",
      "[4, 1, 1, 2, 0.3, 0.1, 0.15] 0.8344959432615221\n",
      "[4, 1, 1, 2, 0.3, 0.1, 0.2] 0.8360722366715736\n",
      "[4, 1, 1, 2, 0.3, 0.1, 0.25] 0.8392279886835171\n",
      "[4, 1, 1, 2, 0.3, 0.1, 0.3] 0.8402426940805447\n",
      "[4, 1, 1, 2, 0.3, 0.1, 0.35] 0.8368989022173964\n",
      "[4, 1, 1, 3, 0.3, 0.1, 0.0] 0.7992868191191931\n",
      "[4, 1, 1, 3, 0.3, 0.1, 0.05] 0.8293082880641968\n",
      "[4, 1, 1, 3, 0.3, 0.1, 0.1] 0.8332201160967914\n",
      "[4, 1, 1, 3, 0.3, 0.1, 0.15] 0.836658615952819\n",
      "[4, 1, 1, 3, 0.3, 0.1, 0.2] 0.8345524340090237\n",
      "[4, 1, 1, 4, 0.3, 0.1, 0.0] 0.7992868191191931\n",
      "[4, 1, 1, 4, 0.3, 0.1, 0.05] 0.8275717752845503\n",
      "[4, 1, 1, 4, 0.3, 0.1, 0.1] 0.8328207948496384\n",
      "[4, 1, 1, 4, 0.3, 0.1, 0.15] 0.8355985037570796\n",
      "[4, 1, 1, 4, 0.3, 0.1, 0.2] 0.8390240562749501\n",
      "[4, 1, 1, 4, 0.3, 0.1, 0.25] 0.8425307122867441\n",
      "[4, 1, 1, 4, 0.3, 0.1, 0.3] 0.8414100240532791\n",
      "[4, 1, 1, 5, 0.3, 0.1, 0.0] 0.7992868191191931\n",
      "[4, 1, 1, 5, 0.3, 0.1, 0.05] 0.8299906201741732\n",
      "[4, 1, 1, 5, 0.3, 0.1, 0.1] 0.8320987779066267\n",
      "[4, 1, 1, 5, 0.3, 0.1, 0.15] 0.8353417080287839\n",
      "[4, 1, 1, 5, 0.3, 0.1, 0.2] 0.8392747135737977\n",
      "[4, 1, 1, 5, 0.3, 0.1, 0.25] 0.8407855147664165\n",
      "[4, 1, 1, 5, 0.3, 0.1, 0.3] 0.8413942494894909\n",
      "[4, 1, 1, 5, 0.3, 0.1, 0.35] 0.8411563862623309\n",
      "[4, 1, 1, 6, 0.3, 0.1, 0.0] 0.7992868191191931\n",
      "[4, 1, 1, 6, 0.3, 0.1, 0.05] 0.8311925038351554\n",
      "[4, 1, 1, 6, 0.3, 0.1, 0.1] 0.8316023732795632\n",
      "[4, 1, 1, 6, 0.3, 0.1, 0.15] 0.8365352456132714\n"
     ]
    },
    {
     "name": "stdout",
     "output_type": "stream",
     "text": [
      "[4, 1, 1, 6, 0.3, 0.1, 0.2] 0.8373991267545442\n",
      "[4, 1, 1, 6, 0.3, 0.1, 0.25] 0.8430560065609899\n",
      "[4, 1, 1, 6, 0.3, 0.1, 0.3] 0.8407417112912722\n",
      "[4, 1, 1, 7, 0.3, 0.1, 0.0] 0.7992868191191931\n",
      "[4, 1, 1, 7, 0.3, 0.1, 0.05] 0.8313586512852408\n",
      "[4, 1, 1, 7, 0.3, 0.1, 0.1] 0.8306732569946387\n",
      "[4, 1, 1, 8, 0.3, 0.1, 0.0] 0.7992868191191931\n",
      "[4, 1, 1, 8, 0.3, 0.1, 0.05] 0.8306200313905479\n",
      "[4, 1, 1, 8, 0.3, 0.1, 0.1] 0.8307876554297932\n",
      "[4, 1, 1, 8, 0.3, 0.1, 0.15] 0.8350437171178476\n",
      "[4, 1, 1, 8, 0.3, 0.1, 0.2] 0.8367337798335637\n",
      "[4, 1, 1, 8, 0.3, 0.1, 0.25] 0.8389011862560477\n",
      "[4, 1, 1, 8, 0.3, 0.1, 0.3] 0.8370940319859235\n",
      "[4, 1, 1, 9, 0.3, 0.1, 0.0] 0.7992868191191931\n",
      "[4, 1, 1, 9, 0.3, 0.1, 0.05] 0.8317809586733717\n",
      "[4, 1, 1, 9, 0.3, 0.1, 0.1] 0.8318349595720897\n",
      "[4, 1, 1, 9, 0.3, 0.1, 0.15] 0.8341335063329007\n",
      "[4, 1, 1, 9, 0.3, 0.1, 0.2] 0.8371939958336378\n",
      "[4, 1, 1, 9, 0.3, 0.1, 0.25] 0.8367914494299945\n",
      "[4, 1, 1, 10, 0.3, 0.1, 0.0] 0.7992868191191931\n",
      "[4, 1, 1, 10, 0.3, 0.1, 0.05] 0.8308170103705262\n",
      "[4, 1, 1, 10, 0.3, 0.1, 0.1] 0.8318245567468373\n",
      "[4, 1, 1, 10, 0.3, 0.1, 0.15] 0.8332378545085313\n",
      "[4, 1, 1, 10, 0.3, 0.1, 0.2] 0.8350757056271737\n",
      "[4, 1, 1, 10, 0.3, 0.1, 0.25] 0.8365030278406077\n",
      "[4, 1, 1, 10, 0.3, 0.1, 0.3] 0.8380109057682539\n",
      "[4, 1, 1, 10, 0.3, 0.1, 0.35] 0.8385037636197152\n",
      "[4, 1, 1, 10, 0.3, 0.1, 0.4] 0.8404743668331437\n",
      "[4, 1, 1, 10, 0.3, 0.1, 0.45] 0.8381557675376422\n",
      "[4, 1, 1, 1, 0.35, 0.1, 0.0] 0.7992187577065939\n",
      "[4, 1, 1, 1, 0.35, 0.1, 0.05] 0.8278942107312738\n",
      "[4, 1, 1, 1, 0.35, 0.1, 0.1] 0.8325624717196443\n",
      "[4, 1, 1, 1, 0.35, 0.1, 0.15] 0.8326935626469335\n",
      "[4, 1, 1, 1, 0.35, 0.1, 0.2] 0.8354453891325135\n",
      "[4, 1, 1, 1, 0.35, 0.1, 0.25] 0.8356860117482221\n",
      "[4, 1, 1, 1, 0.35, 0.1, 0.3] 0.8348999046113402\n",
      "[4, 1, 1, 2, 0.35, 0.1, 0.0] 0.7992187577065939\n",
      "[4, 1, 1, 2, 0.35, 0.1, 0.05] 0.8278061760987186\n",
      "[4, 1, 1, 2, 0.35, 0.1, 0.1] 0.8332438504637155\n",
      "[4, 1, 1, 2, 0.35, 0.1, 0.15] 0.8339717664434423\n",
      "[4, 1, 1, 2, 0.35, 0.1, 0.2] 0.8360435278924613\n",
      "[4, 1, 1, 2, 0.35, 0.1, 0.25] 0.8391375063208095\n",
      "[4, 1, 1, 2, 0.35, 0.1, 0.3] 0.8416567203052023\n",
      "[4, 1, 1, 2, 0.35, 0.1, 0.35] 0.8368825401530902\n",
      "[4, 1, 1, 3, 0.35, 0.1, 0.0] 0.7992187577065939\n",
      "[4, 1, 1, 3, 0.35, 0.1, 0.05] 0.8278044012614254\n",
      "[4, 1, 1, 3, 0.35, 0.1, 0.1] 0.8318014803250794\n",
      "[4, 1, 1, 3, 0.35, 0.1, 0.15] 0.8367049997350645\n",
      "[4, 1, 1, 3, 0.35, 0.1, 0.2] 0.8351715881036669\n",
      "[4, 1, 1, 4, 0.35, 0.1, 0.0] 0.7992187577065939\n",
      "[4, 1, 1, 4, 0.35, 0.1, 0.05] 0.8274738713673677\n",
      "[4, 1, 1, 4, 0.35, 0.1, 0.1] 0.8315509553177044\n",
      "[4, 1, 1, 4, 0.35, 0.1, 0.15] 0.8353329781184271\n",
      "[4, 1, 1, 4, 0.35, 0.1, 0.2] 0.8359352973015476\n",
      "[4, 1, 1, 4, 0.35, 0.1, 0.25] 0.8433997869184856\n",
      "best 0.8433997869184856 [4, 1, 1, 4, 0.35, 0.1, 0.25]\n",
      "[4, 1, 1, 4, 0.35, 0.1, 0.3] 0.8430662699298781\n",
      "[4, 1, 1, 5, 0.35, 0.1, 0.0] 0.7992187577065939\n",
      "[4, 1, 1, 5, 0.35, 0.1, 0.05] 0.8300782724977991\n",
      "[4, 1, 1, 5, 0.35, 0.1, 0.1] 0.8321029856042576\n",
      "[4, 1, 1, 5, 0.35, 0.1, 0.15] 0.8348476416373047\n",
      "[4, 1, 1, 5, 0.35, 0.1, 0.2] 0.8365055486197827\n",
      "[4, 1, 1, 5, 0.35, 0.1, 0.25] 0.8412293301904057\n",
      "[4, 1, 1, 5, 0.35, 0.1, 0.3] 0.8432878722364576\n",
      "[4, 1, 1, 5, 0.35, 0.1, 0.35] 0.8426927284504168\n",
      "[4, 1, 1, 6, 0.35, 0.1, 0.0] 0.7992187577065939\n",
      "[4, 1, 1, 6, 0.35, 0.1, 0.05] 0.8314015131537728\n",
      "[4, 1, 1, 6, 0.35, 0.1, 0.1] 0.8297393863253761\n",
      "[4, 1, 1, 7, 0.35, 0.1, 0.0] 0.7992187577065939\n",
      "[4, 1, 1, 7, 0.35, 0.1, 0.05] 0.8316264064008797\n",
      "[4, 1, 1, 7, 0.35, 0.1, 0.1] 0.8306734571887399\n",
      "[4, 1, 1, 8, 0.35, 0.1, 0.0] 0.7992187577065939\n",
      "[4, 1, 1, 8, 0.35, 0.1, 0.05] 0.8316211269731166\n",
      "[4, 1, 1, 8, 0.35, 0.1, 0.1] 0.8308221867859495\n",
      "[4, 1, 1, 9, 0.35, 0.1, 0.0] 0.7992187577065939\n",
      "[4, 1, 1, 9, 0.35, 0.1, 0.05] 0.8313394909226154\n",
      "[4, 1, 1, 9, 0.35, 0.1, 0.1] 0.8310329313030875\n",
      "[4, 1, 1, 10, 0.35, 0.1, 0.0] 0.7992187577065939\n",
      "[4, 1, 1, 10, 0.35, 0.1, 0.05] 0.83142883864483\n",
      "[4, 1, 1, 10, 0.35, 0.1, 0.1] 0.8307752637508451\n",
      "[4, 1, 1, 1, 0.4, 0.1, 0.0] 0.799424483357093\n",
      "[4, 1, 1, 1, 0.4, 0.1, 0.05] 0.8272853053486574\n",
      "[4, 1, 1, 1, 0.4, 0.1, 0.1] 0.8310321890194219\n",
      "[4, 1, 1, 1, 0.4, 0.1, 0.15] 0.8343712091493006\n",
      "[4, 1, 1, 1, 0.4, 0.1, 0.2] 0.8337889418673001\n",
      "[4, 1, 1, 2, 0.4, 0.1, 0.0] 0.799424483357093\n",
      "[4, 1, 1, 2, 0.4, 0.1, 0.05] 0.8281273032922335\n",
      "[4, 1, 1, 2, 0.4, 0.1, 0.1] 0.8315393221787251\n",
      "[4, 1, 1, 2, 0.4, 0.1, 0.15] 0.834603616433537\n",
      "[4, 1, 1, 2, 0.4, 0.1, 0.2] 0.8355873132937914\n",
      "[4, 1, 1, 2, 0.4, 0.1, 0.25] 0.8391392679926815\n",
      "[4, 1, 1, 2, 0.4, 0.1, 0.3] 0.8411824970269836\n",
      "[4, 1, 1, 2, 0.4, 0.1, 0.35] 0.8394778003847536\n",
      "[4, 1, 1, 3, 0.4, 0.1, 0.0] 0.799424483357093\n",
      "[4, 1, 1, 3, 0.4, 0.1, 0.05] 0.8278330095533685\n",
      "[4, 1, 1, 3, 0.4, 0.1, 0.1] 0.8310710868736636\n",
      "[4, 1, 1, 3, 0.4, 0.1, 0.15] 0.8350711012423948\n",
      "[4, 1, 1, 3, 0.4, 0.1, 0.2] 0.8340214738003036\n",
      "[4, 1, 1, 4, 0.4, 0.1, 0.0] 0.799424483357093\n",
      "[4, 1, 1, 4, 0.4, 0.1, 0.05] 0.8287094241887895\n",
      "[4, 1, 1, 4, 0.4, 0.1, 0.1] 0.8300384718234713\n",
      "[4, 1, 1, 4, 0.4, 0.1, 0.15] 0.8344901357176157\n",
      "[4, 1, 1, 4, 0.4, 0.1, 0.2] 0.8349958919764386\n",
      "[4, 1, 1, 4, 0.4, 0.1, 0.25] 0.8429641459589128\n",
      "[4, 1, 1, 4, 0.4, 0.1, 0.3] 0.8442720205427955\n",
      "best 0.8442720205427955 [4, 1, 1, 4, 0.4, 0.1, 0.3]\n",
      "[4, 1, 1, 4, 0.4, 0.1, 0.35] 0.8413563530873879\n",
      "[4, 1, 1, 5, 0.4, 0.1, 0.0] 0.799424483357093\n",
      "[4, 1, 1, 5, 0.4, 0.1, 0.05] 0.8310546413366039\n",
      "[4, 1, 1, 5, 0.4, 0.1, 0.1] 0.8284143773626736\n",
      "[4, 1, 1, 6, 0.4, 0.1, 0.0] 0.799424483357093\n",
      "[4, 1, 1, 6, 0.4, 0.1, 0.05] 0.8319502658755702\n",
      "[4, 1, 1, 6, 0.4, 0.1, 0.1] 0.830328919992951\n",
      "[4, 1, 1, 7, 0.4, 0.1, 0.0] 0.799424483357093\n",
      "[4, 1, 1, 7, 0.4, 0.1, 0.05] 0.8320872754827607\n",
      "[4, 1, 1, 7, 0.4, 0.1, 0.1] 0.8318726419351175\n",
      "[4, 1, 1, 8, 0.4, 0.1, 0.0] 0.799424483357093\n",
      "[4, 1, 1, 8, 0.4, 0.1, 0.05] 0.8320767145150013\n",
      "[4, 1, 1, 8, 0.4, 0.1, 0.1] 0.8317555375073801\n",
      "[4, 1, 1, 9, 0.4, 0.1, 0.0] 0.799424483357093\n",
      "[4, 1, 1, 9, 0.4, 0.1, 0.05] 0.8319533333886353\n",
      "[4, 1, 1, 9, 0.4, 0.1, 0.1] 0.8318096423353306\n",
      "[4, 1, 1, 10, 0.4, 0.1, 0.0] 0.799424483357093\n",
      "[4, 1, 1, 10, 0.4, 0.1, 0.05] 0.8324353628550186\n",
      "[4, 1, 1, 10, 0.4, 0.1, 0.1] 0.830854160991711\n",
      "[4, 1, 1, 1, 0.45, 0.1, 0.0] 0.799424483357093\n",
      "[4, 1, 1, 1, 0.45, 0.1, 0.05] 0.8296283356423347\n",
      "[4, 1, 1, 1, 0.45, 0.1, 0.1] 0.8310321890194219\n",
      "[4, 1, 1, 1, 0.45, 0.1, 0.15] 0.8329610223865238\n",
      "[4, 1, 1, 1, 0.45, 0.1, 0.2] 0.8337895142221077\n",
      "[4, 1, 1, 1, 0.45, 0.1, 0.25] 0.8360133647092406\n",
      "[4, 1, 1, 1, 0.45, 0.1, 0.3] 0.8370494570843002\n",
      "[4, 1, 1, 1, 0.45, 0.1, 0.35] 0.8349872925089528\n",
      "[4, 1, 1, 2, 0.45, 0.1, 0.0] 0.799424483357093\n",
      "[4, 1, 1, 2, 0.45, 0.1, 0.05] 0.8289430790711998\n",
      "[4, 1, 1, 2, 0.45, 0.1, 0.1] 0.8308935133952565\n",
      "[4, 1, 1, 2, 0.45, 0.1, 0.15] 0.8343078739169684\n",
      "[4, 1, 1, 2, 0.45, 0.1, 0.2] 0.8356960604736005\n",
      "[4, 1, 1, 2, 0.45, 0.1, 0.25] 0.8382889537090205\n",
      "[4, 1, 1, 2, 0.45, 0.1, 0.3] 0.8411361319955216\n",
      "[4, 1, 1, 2, 0.45, 0.1, 0.35] 0.8394424581171265\n",
      "[4, 1, 1, 3, 0.45, 0.1, 0.0] 0.799424483357093\n",
      "[4, 1, 1, 3, 0.45, 0.1, 0.05] 0.8301476159255768\n",
      "[4, 1, 1, 3, 0.45, 0.1, 0.1] 0.8309505166170936\n",
      "[4, 1, 1, 3, 0.45, 0.1, 0.15] 0.8337496608610093\n",
      "[4, 1, 1, 3, 0.45, 0.1, 0.2] 0.8350639571157966\n",
      "[4, 1, 1, 3, 0.45, 0.1, 0.25] 0.839341448340927\n",
      "[4, 1, 1, 3, 0.45, 0.1, 0.3] 0.8395415791694008\n",
      "[4, 1, 1, 3, 0.45, 0.1, 0.35] 0.8415859415048507\n",
      "[4, 1, 1, 3, 0.45, 0.1, 0.4] 0.8389873047696669\n",
      "[4, 1, 1, 4, 0.45, 0.1, 0.0] 0.799424483357093\n",
      "[4, 1, 1, 4, 0.45, 0.1, 0.05] 0.8289294435791222\n",
      "[4, 1, 1, 4, 0.45, 0.1, 0.1] 0.830550515593698\n",
      "[4, 1, 1, 4, 0.45, 0.1, 0.15] 0.8338826404502612\n",
      "[4, 1, 1, 4, 0.45, 0.1, 0.2] 0.8359381407564633\n",
      "[4, 1, 1, 4, 0.45, 0.1, 0.25] 0.8432507112100315\n",
      "[4, 1, 1, 4, 0.45, 0.1, 0.3] 0.8444408182558358\n",
      "best 0.8444408182558358 [4, 1, 1, 4, 0.45, 0.1, 0.3]\n",
      "[4, 1, 1, 4, 0.45, 0.1, 0.35] 0.8433465135282565\n",
      "[4, 1, 1, 5, 0.45, 0.1, 0.0] 0.799424483357093\n",
      "[4, 1, 1, 5, 0.45, 0.1, 0.05] 0.8327682788601002\n",
      "[4, 1, 1, 5, 0.45, 0.1, 0.1] 0.8283955289505297\n",
      "[4, 1, 1, 6, 0.45, 0.1, 0.0] 0.799424483357093\n",
      "[4, 1, 1, 6, 0.45, 0.1, 0.05] 0.8314032851747978\n",
      "[4, 1, 1, 6, 0.45, 0.1, 0.1] 0.831708735519328\n",
      "[4, 1, 1, 6, 0.45, 0.1, 0.15] 0.8343084121279357\n",
      "[4, 1, 1, 6, 0.45, 0.1, 0.2] 0.837499999805039\n",
      "[4, 1, 1, 6, 0.45, 0.1, 0.25] 0.8422089576326027\n",
      "[4, 1, 1, 6, 0.45, 0.1, 0.3] 0.8429032423441741\n",
      "[4, 1, 1, 6, 0.45, 0.1, 0.35] 0.8484030158017093\n",
      "best 0.8484030158017093 [4, 1, 1, 6, 0.45, 0.1, 0.35]\n"
     ]
    },
    {
     "name": "stdout",
     "output_type": "stream",
     "text": [
      "[4, 1, 1, 6, 0.45, 0.1, 0.4] 0.8498078017707204\n",
      "best 0.8498078017707204 [4, 1, 1, 6, 0.45, 0.1, 0.4]\n",
      "[4, 1, 1, 6, 0.45, 0.1, 0.45] 0.8493986943659995\n",
      "[4, 1, 1, 7, 0.45, 0.1, 0.0] 0.799424483357093\n",
      "[4, 1, 1, 7, 0.45, 0.1, 0.05] 0.8327353559363279\n",
      "[4, 1, 1, 7, 0.45, 0.1, 0.1] 0.8311388767780048\n",
      "[4, 1, 1, 8, 0.45, 0.1, 0.0] 0.799424483357093\n",
      "[4, 1, 1, 8, 0.45, 0.1, 0.05] 0.8320653884208099\n",
      "[4, 1, 1, 8, 0.45, 0.1, 0.1] 0.8311767154649019\n",
      "[4, 1, 1, 9, 0.45, 0.1, 0.0] 0.799424483357093\n",
      "[4, 1, 1, 9, 0.45, 0.1, 0.05] 0.8336729508528984\n",
      "[4, 1, 1, 9, 0.45, 0.1, 0.1] 0.8309967333299413\n",
      "[4, 1, 1, 10, 0.45, 0.1, 0.0] 0.799424483357093\n",
      "[4, 1, 1, 10, 0.45, 0.1, 0.05] 0.8346892674877664\n",
      "[4, 1, 1, 10, 0.45, 0.1, 0.1] 0.8312201122214001\n",
      "[4, 1, 1, 1, 0.5, 0.1, 0.0] 0.799424483357093\n",
      "[4, 1, 1, 1, 0.5, 0.1, 0.05] 0.8303475210233741\n",
      "[4, 1, 1, 1, 0.5, 0.1, 0.1] 0.8311487467924394\n",
      "[4, 1, 1, 1, 0.5, 0.1, 0.15] 0.8328288264731875\n",
      "[4, 1, 1, 1, 0.5, 0.1, 0.2] 0.8343002254696906\n",
      "[4, 1, 1, 1, 0.5, 0.1, 0.25] 0.8351269148659961\n",
      "[4, 1, 1, 1, 0.5, 0.1, 0.3] 0.8359452381820146\n",
      "[4, 1, 1, 1, 0.5, 0.1, 0.35] 0.8365945768873949\n",
      "[4, 1, 1, 1, 0.5, 0.1, 0.4] 0.8346932884055365\n",
      "[4, 1, 1, 2, 0.5, 0.1, 0.0] 0.799424483357093\n",
      "[4, 1, 1, 2, 0.5, 0.1, 0.05] 0.8316628806953\n",
      "[4, 1, 1, 2, 0.5, 0.1, 0.1] 0.831029828999149\n",
      "[4, 1, 1, 3, 0.5, 0.1, 0.0] 0.799424483357093\n",
      "[4, 1, 1, 3, 0.5, 0.1, 0.05] 0.829798124428863\n",
      "[4, 1, 1, 3, 0.5, 0.1, 0.1] 0.8304568669482361\n",
      "[4, 1, 1, 3, 0.5, 0.1, 0.15] 0.834264232902448\n",
      "[4, 1, 1, 3, 0.5, 0.1, 0.2] 0.8359103483081142\n",
      "[4, 1, 1, 3, 0.5, 0.1, 0.25] 0.8368005696731134\n",
      "[4, 1, 1, 3, 0.5, 0.1, 0.3] 0.8387662038036308\n",
      "[4, 1, 1, 3, 0.5, 0.1, 0.35] 0.8415443515251989\n",
      "[4, 1, 1, 3, 0.5, 0.1, 0.4] 0.8402887353630447\n",
      "[4, 1, 1, 4, 0.5, 0.1, 0.0] 0.799424483357093\n",
      "[4, 1, 1, 4, 0.5, 0.1, 0.05] 0.8312675775941584\n",
      "[4, 1, 1, 4, 0.5, 0.1, 0.1] 0.830294256955522\n",
      "[4, 1, 1, 5, 0.5, 0.1, 0.0] 0.799424483357093\n",
      "[4, 1, 1, 5, 0.5, 0.1, 0.05] 0.8351593229621367\n",
      "[4, 1, 1, 5, 0.5, 0.1, 0.1] 0.8284005882395793\n",
      "[4, 1, 1, 6, 0.5, 0.1, 0.0] 0.799424483357093\n",
      "[4, 1, 1, 6, 0.5, 0.1, 0.05] 0.8325339699530626\n",
      "[4, 1, 1, 6, 0.5, 0.1, 0.1] 0.8317867632920329\n",
      "[4, 1, 1, 7, 0.5, 0.1, 0.0] 0.799424483357093\n",
      "[4, 1, 1, 7, 0.5, 0.1, 0.05] 0.8338894008816424\n",
      "[4, 1, 1, 7, 0.5, 0.1, 0.1] 0.8309913996053175\n",
      "[4, 1, 1, 8, 0.5, 0.1, 0.0] 0.799424483357093\n",
      "[4, 1, 1, 8, 0.5, 0.1, 0.05] 0.8343669275286043\n",
      "[4, 1, 1, 8, 0.5, 0.1, 0.1] 0.8316348581596209\n",
      "[4, 1, 1, 9, 0.5, 0.1, 0.0] 0.799424483357093\n",
      "[4, 1, 1, 9, 0.5, 0.1, 0.05] 0.835019998509223\n",
      "[4, 1, 1, 9, 0.5, 0.1, 0.1] 0.831907330483687\n",
      "[4, 1, 1, 10, 0.5, 0.1, 0.0] 0.799424483357093\n",
      "[4, 1, 1, 10, 0.5, 0.1, 0.05] 0.8365562948381081\n",
      "[4, 1, 1, 10, 0.5, 0.1, 0.1] 0.8326791561411945\n",
      "[4, 1, 1, 1, 0.55, 0.1, 0.0] 0.7989486715636189\n",
      "[4, 1, 1, 1, 0.55, 0.1, 0.05] 0.831261448621801\n",
      "[4, 1, 1, 1, 0.55, 0.1, 0.1] 0.8308161825850051\n",
      "[4, 1, 1, 2, 0.55, 0.1, 0.0] 0.7989486715636189\n",
      "[4, 1, 1, 2, 0.55, 0.1, 0.05] 0.8316987327688581\n",
      "[4, 1, 1, 2, 0.55, 0.1, 0.1] 0.8315487047342031\n",
      "[4, 1, 1, 3, 0.55, 0.1, 0.0] 0.7989486715636189\n",
      "[4, 1, 1, 3, 0.55, 0.1, 0.05] 0.8329065881482366\n",
      "[4, 1, 1, 3, 0.55, 0.1, 0.1] 0.8309556010794763\n",
      "[4, 1, 1, 4, 0.55, 0.1, 0.0] 0.7989486715636189\n",
      "[4, 1, 1, 4, 0.55, 0.1, 0.05] 0.832389078980892\n",
      "[4, 1, 1, 4, 0.55, 0.1, 0.1] 0.8312762996817541\n",
      "[4, 1, 1, 5, 0.55, 0.1, 0.0] 0.7989486715636189\n",
      "[4, 1, 1, 5, 0.55, 0.1, 0.05] 0.8333313893996491\n",
      "[4, 1, 1, 5, 0.55, 0.1, 0.1] 0.8282806266092538\n",
      "[4, 1, 1, 6, 0.55, 0.1, 0.0] 0.7989486715636189\n",
      "[4, 1, 1, 6, 0.55, 0.1, 0.05] 0.8342761114712423\n",
      "[4, 1, 1, 6, 0.55, 0.1, 0.1] 0.8308630497330051\n",
      "[4, 1, 1, 7, 0.55, 0.1, 0.0] 0.7989486715636189\n",
      "[4, 1, 1, 7, 0.55, 0.1, 0.05] 0.8340370267531831\n",
      "[4, 1, 1, 7, 0.55, 0.1, 0.1] 0.830720700597948\n",
      "[4, 1, 1, 8, 0.55, 0.1, 0.0] 0.7989486715636189\n",
      "[4, 1, 1, 8, 0.55, 0.1, 0.05] 0.83485607897735\n",
      "[4, 1, 1, 8, 0.55, 0.1, 0.1] 0.8314910731979298\n",
      "[4, 1, 1, 9, 0.55, 0.1, 0.0] 0.7989486715636189\n",
      "[4, 1, 1, 9, 0.55, 0.1, 0.05] 0.834796610065038\n",
      "[4, 1, 1, 9, 0.55, 0.1, 0.1] 0.8333611608130047\n",
      "[4, 1, 1, 10, 0.55, 0.1, 0.0] 0.7989486715636189\n",
      "[4, 1, 1, 10, 0.55, 0.1, 0.05] 0.8365862426198515\n",
      "[4, 1, 1, 10, 0.55, 0.1, 0.1] 0.8326441061482167\n",
      "[4, 1, 1, 1, 0.6, 0.1, 0.0] 0.7989486715636189\n",
      "[4, 1, 1, 1, 0.6, 0.1, 0.05] 0.8317397001199939\n",
      "[4, 1, 1, 1, 0.6, 0.1, 0.1] 0.8321841570307459\n",
      "[4, 1, 1, 1, 0.6, 0.1, 0.15] 0.8322169741702881\n",
      "[4, 1, 1, 1, 0.6, 0.1, 0.2] 0.8337438049159372\n",
      "[4, 1, 1, 1, 0.6, 0.1, 0.25] 0.8357554546935942\n",
      "[4, 1, 1, 1, 0.6, 0.1, 0.3] 0.8371844386339387\n",
      "[4, 1, 1, 1, 0.6, 0.1, 0.35] 0.8378112545157558\n",
      "[4, 1, 1, 1, 0.6, 0.1, 0.4] 0.8360349154273586\n",
      "[4, 1, 1, 2, 0.6, 0.1, 0.0] 0.7989486715636189\n",
      "[4, 1, 1, 2, 0.6, 0.1, 0.05] 0.8316987327688581\n",
      "[4, 1, 1, 2, 0.6, 0.1, 0.1] 0.8312595707917793\n",
      "[4, 1, 1, 3, 0.6, 0.1, 0.0] 0.7989486715636189\n",
      "[4, 1, 1, 3, 0.6, 0.1, 0.05] 0.8329270739122249\n",
      "[4, 1, 1, 3, 0.6, 0.1, 0.1] 0.8309622821704471\n",
      "[4, 1, 1, 4, 0.6, 0.1, 0.0] 0.7989486715636189\n",
      "[4, 1, 1, 4, 0.6, 0.1, 0.05] 0.8333745240005215\n",
      "[4, 1, 1, 4, 0.6, 0.1, 0.1] 0.8304408073820675\n",
      "[4, 1, 1, 5, 0.6, 0.1, 0.0] 0.7989486715636189\n",
      "[4, 1, 1, 5, 0.6, 0.1, 0.05] 0.8350201535929208\n",
      "[4, 1, 1, 5, 0.6, 0.1, 0.1] 0.8315089738095908\n",
      "[4, 1, 1, 6, 0.6, 0.1, 0.0] 0.7989486715636189\n",
      "[4, 1, 1, 6, 0.6, 0.1, 0.05] 0.8357105240958862\n",
      "[4, 1, 1, 6, 0.6, 0.1, 0.1] 0.8306515851081624\n",
      "[4, 1, 1, 7, 0.6, 0.1, 0.0] 0.7989486715636189\n",
      "[4, 1, 1, 7, 0.6, 0.1, 0.05] 0.833601578574081\n",
      "[4, 1, 1, 7, 0.6, 0.1, 0.1] 0.8323529105313237\n",
      "[4, 1, 1, 8, 0.6, 0.1, 0.0] 0.7989486715636189\n",
      "[4, 1, 1, 8, 0.6, 0.1, 0.05] 0.8352978264350465\n",
      "[4, 1, 1, 8, 0.6, 0.1, 0.1] 0.8341509457826296\n",
      "[4, 1, 1, 9, 0.6, 0.1, 0.0] 0.7989486715636189\n",
      "[4, 1, 1, 9, 0.6, 0.1, 0.05] 0.8368528282079334\n",
      "[4, 1, 1, 9, 0.6, 0.1, 0.1] 0.8344548541411301\n",
      "[4, 1, 1, 10, 0.6, 0.1, 0.0] 0.7989486715636189\n",
      "[4, 1, 1, 10, 0.6, 0.1, 0.05] 0.8357923254569329\n",
      "[4, 1, 1, 10, 0.6, 0.1, 0.1] 0.8344009663663235\n",
      "[4, 1, 1, 1, 0.65, 0.1, 0.0] 0.800628420386225\n",
      "[4, 1, 1, 1, 0.65, 0.1, 0.05] 0.8329019797869809\n",
      "[4, 1, 1, 1, 0.65, 0.1, 0.1] 0.8314994068296144\n",
      "[4, 1, 1, 2, 0.65, 0.1, 0.0] 0.800628420386225\n",
      "[4, 1, 1, 2, 0.65, 0.1, 0.05] 0.8327945855080169\n",
      "[4, 1, 1, 2, 0.65, 0.1, 0.1] 0.8318529537990242\n",
      "[4, 1, 1, 3, 0.65, 0.1, 0.0] 0.800628420386225\n",
      "[4, 1, 1, 3, 0.65, 0.1, 0.05] 0.8335697704015171\n",
      "[4, 1, 1, 3, 0.65, 0.1, 0.1] 0.8311384671535575\n",
      "[4, 1, 1, 4, 0.65, 0.1, 0.0] 0.800628420386225\n",
      "[4, 1, 1, 4, 0.65, 0.1, 0.05] 0.8333918611062755\n",
      "[4, 1, 1, 4, 0.65, 0.1, 0.1] 0.8295515857625312\n",
      "[4, 1, 1, 5, 0.65, 0.1, 0.0] 0.800628420386225\n",
      "[4, 1, 1, 5, 0.65, 0.1, 0.05] 0.834906856385538\n",
      "[4, 1, 1, 5, 0.65, 0.1, 0.1] 0.8317311712297079\n",
      "[4, 1, 1, 6, 0.65, 0.1, 0.0] 0.800628420386225\n",
      "[4, 1, 1, 6, 0.65, 0.1, 0.05] 0.8352020078919157\n",
      "[4, 1, 1, 6, 0.65, 0.1, 0.1] 0.8319367526901014\n",
      "[4, 1, 1, 7, 0.65, 0.1, 0.0] 0.800628420386225\n",
      "[4, 1, 1, 7, 0.65, 0.1, 0.05] 0.8356459561890344\n",
      "[4, 1, 1, 7, 0.65, 0.1, 0.1] 0.8342230263141758\n",
      "[4, 1, 1, 8, 0.65, 0.1, 0.0] 0.800628420386225\n",
      "[4, 1, 1, 8, 0.65, 0.1, 0.05] 0.8353245317748845\n",
      "[4, 1, 1, 8, 0.65, 0.1, 0.1] 0.8349148322600647\n",
      "[4, 1, 1, 9, 0.65, 0.1, 0.0] 0.800628420386225\n",
      "[4, 1, 1, 9, 0.65, 0.1, 0.05] 0.8361226627370337\n",
      "[4, 1, 1, 9, 0.65, 0.1, 0.1] 0.8349533180395258\n",
      "[4, 1, 1, 10, 0.65, 0.1, 0.0] 0.800628420386225\n",
      "[4, 1, 1, 10, 0.65, 0.1, 0.05] 0.8354087471136463\n",
      "[4, 1, 1, 10, 0.65, 0.1, 0.1] 0.8359587918567438\n",
      "[4, 1, 1, 10, 0.65, 0.1, 0.15] 0.834447024341764\n",
      "[4, 1, 1, 1, 0.7, 0.1, 0.0] 0.8012609795086963\n",
      "[4, 1, 1, 1, 0.7, 0.1, 0.05] 0.83320978598981\n",
      "[4, 1, 1, 1, 0.7, 0.1, 0.1] 0.8309469327719423\n",
      "[4, 1, 1, 2, 0.7, 0.1, 0.0] 0.8012609795086963\n",
      "[4, 1, 1, 2, 0.7, 0.1, 0.05] 0.8327945855080169\n",
      "[4, 1, 1, 2, 0.7, 0.1, 0.1] 0.831388839732836\n",
      "[4, 1, 1, 3, 0.7, 0.1, 0.0] 0.8012609795086963\n",
      "[4, 1, 1, 3, 0.7, 0.1, 0.05] 0.8349569485451979\n",
      "[4, 1, 1, 3, 0.7, 0.1, 0.1] 0.8318051549382118\n",
      "[4, 1, 1, 4, 0.7, 0.1, 0.0] 0.8012609795086963\n",
      "[4, 1, 1, 4, 0.7, 0.1, 0.05] 0.834555286215411\n",
      "[4, 1, 1, 4, 0.7, 0.1, 0.1] 0.8314108483850067\n",
      "[4, 1, 1, 5, 0.7, 0.1, 0.0] 0.8012609795086963\n",
      "[4, 1, 1, 5, 0.7, 0.1, 0.05] 0.834270425815977\n",
      "[4, 1, 1, 5, 0.7, 0.1, 0.1] 0.8327176408016914\n",
      "[4, 1, 1, 6, 0.7, 0.1, 0.0] 0.8012609795086963\n",
      "[4, 1, 1, 6, 0.7, 0.1, 0.05] 0.8362733031232343\n",
      "[4, 1, 1, 6, 0.7, 0.1, 0.1] 0.8346922864988041\n"
     ]
    },
    {
     "name": "stdout",
     "output_type": "stream",
     "text": [
      "[4, 1, 1, 7, 0.7, 0.1, 0.0] 0.8012609795086963\n",
      "[4, 1, 1, 7, 0.7, 0.1, 0.05] 0.83440037395535\n",
      "[4, 1, 1, 7, 0.7, 0.1, 0.1] 0.8348727986027086\n",
      "[4, 1, 1, 7, 0.7, 0.1, 0.15] 0.8349295651871314\n",
      "[4, 1, 1, 7, 0.7, 0.1, 0.2] 0.8340915998123556\n",
      "[4, 1, 1, 8, 0.7, 0.1, 0.0] 0.8012609795086963\n",
      "[4, 1, 1, 8, 0.7, 0.1, 0.05] 0.8335634760481792\n",
      "[4, 1, 1, 8, 0.7, 0.1, 0.1] 0.8348614298784865\n",
      "[4, 1, 1, 8, 0.7, 0.1, 0.15] 0.8348851460595189\n",
      "[4, 1, 1, 8, 0.7, 0.1, 0.2] 0.8349086609123066\n",
      "[4, 1, 1, 8, 0.7, 0.1, 0.25] 0.8348624888658068\n",
      "[4, 1, 1, 9, 0.7, 0.1, 0.0] 0.8012609795086963\n",
      "[4, 1, 1, 9, 0.7, 0.1, 0.05] 0.8346922695543678\n",
      "[4, 1, 1, 9, 0.7, 0.1, 0.1] 0.8357550067361964\n",
      "[4, 1, 1, 9, 0.7, 0.1, 0.15] 0.8353214197403166\n",
      "[4, 1, 1, 10, 0.7, 0.1, 0.0] 0.8012609795086963\n",
      "[4, 1, 1, 10, 0.7, 0.1, 0.05] 0.8350212813668711\n",
      "[4, 1, 1, 10, 0.7, 0.1, 0.1] 0.835904357404589\n",
      "[4, 1, 1, 10, 0.7, 0.1, 0.15] 0.8344088217924137\n",
      "[4, 1, 1, 1, 0.75, 0.1, 0.0] 0.801328360965338\n",
      "[4, 1, 1, 1, 0.75, 0.1, 0.05] 0.8357359490582111\n",
      "[4, 1, 1, 1, 0.75, 0.1, 0.1] 0.831120477548689\n",
      "[4, 1, 1, 2, 0.75, 0.1, 0.0] 0.801328360965338\n",
      "[4, 1, 1, 2, 0.75, 0.1, 0.05] 0.8361876771677368\n",
      "[4, 1, 1, 2, 0.75, 0.1, 0.1] 0.831946134888077\n",
      "[4, 1, 1, 3, 0.75, 0.1, 0.0] 0.801328360965338\n",
      "[4, 1, 1, 3, 0.75, 0.1, 0.05] 0.8352391238521898\n",
      "[4, 1, 1, 3, 0.75, 0.1, 0.1] 0.8320556171003941\n",
      "[4, 1, 1, 4, 0.75, 0.1, 0.0] 0.801328360965338\n",
      "[4, 1, 1, 4, 0.75, 0.1, 0.05] 0.8353309132595281\n",
      "[4, 1, 1, 4, 0.75, 0.1, 0.1] 0.8317397152113595\n",
      "[4, 1, 1, 5, 0.75, 0.1, 0.0] 0.801328360965338\n",
      "[4, 1, 1, 5, 0.75, 0.1, 0.05] 0.8338788816937154\n",
      "[4, 1, 1, 5, 0.75, 0.1, 0.1] 0.834317812170618\n",
      "[4, 1, 1, 5, 0.75, 0.1, 0.15] 0.8344595894874781\n",
      "[4, 1, 1, 5, 0.75, 0.1, 0.2] 0.8359643680497634\n",
      "[4, 1, 1, 5, 0.75, 0.1, 0.25] 0.840849152181998\n",
      "[4, 1, 1, 5, 0.75, 0.1, 0.3] 0.8428412291799429\n",
      "[4, 1, 1, 5, 0.75, 0.1, 0.35] 0.8495738352311587\n",
      "[4, 1, 1, 5, 0.75, 0.1, 0.4] 0.8527610693428136\n",
      "best 0.8527610693428136 [4, 1, 1, 5, 0.75, 0.1, 0.4]\n",
      "[4, 1, 1, 5, 0.75, 0.1, 0.45] 0.8517373102280289\n",
      "[4, 1, 1, 6, 0.75, 0.1, 0.0] 0.801328360965338\n",
      "[4, 1, 1, 6, 0.75, 0.1, 0.05] 0.8368374105042021\n",
      "[4, 1, 1, 6, 0.75, 0.1, 0.1] 0.834441391392063\n",
      "[4, 1, 1, 7, 0.75, 0.1, 0.0] 0.801328360965338\n",
      "[4, 1, 1, 7, 0.75, 0.1, 0.05] 0.8347722789949261\n",
      "[4, 1, 1, 7, 0.75, 0.1, 0.1] 0.8354055899472469\n",
      "[4, 1, 1, 7, 0.75, 0.1, 0.15] 0.8349163070074824\n",
      "[4, 1, 1, 8, 0.75, 0.1, 0.0] 0.801328360965338\n",
      "[4, 1, 1, 8, 0.75, 0.1, 0.05] 0.8351670299960626\n",
      "[4, 1, 1, 8, 0.75, 0.1, 0.1] 0.8357961936712647\n",
      "[4, 1, 1, 8, 0.75, 0.1, 0.15] 0.8348413704097241\n",
      "[4, 1, 1, 9, 0.75, 0.1, 0.0] 0.801328360965338\n",
      "[4, 1, 1, 9, 0.75, 0.1, 0.05] 0.8340653890216146\n",
      "[4, 1, 1, 9, 0.75, 0.1, 0.1] 0.8349854060915654\n",
      "[4, 1, 1, 9, 0.75, 0.1, 0.15] 0.8359046744633181\n",
      "[4, 1, 1, 9, 0.75, 0.1, 0.2] 0.8352296312102726\n",
      "[4, 1, 1, 10, 0.75, 0.1, 0.0] 0.801328360965338\n",
      "[4, 1, 1, 10, 0.75, 0.1, 0.05] 0.8350063178175885\n",
      "[4, 1, 1, 10, 0.75, 0.1, 0.1] 0.8356993558889672\n",
      "[4, 1, 1, 10, 0.75, 0.1, 0.15] 0.8354491843967341\n",
      "[4, 1, 1, 1, 0.8, 0.1, 0.0] 0.801328360965338\n",
      "[4, 1, 1, 1, 0.8, 0.1, 0.05] 0.836215200667936\n",
      "[4, 1, 1, 1, 0.8, 0.1, 0.1] 0.8315700024351486\n",
      "[4, 1, 1, 2, 0.8, 0.1, 0.0] 0.801328360965338\n",
      "[4, 1, 1, 2, 0.8, 0.1, 0.05] 0.83628886835773\n",
      "[4, 1, 1, 2, 0.8, 0.1, 0.1] 0.831370990827261\n",
      "[4, 1, 1, 3, 0.8, 0.1, 0.0] 0.801328360965338\n",
      "[4, 1, 1, 3, 0.8, 0.1, 0.05] 0.8352391238521898\n",
      "[4, 1, 1, 3, 0.8, 0.1, 0.1] 0.8334796918823011\n",
      "[4, 1, 1, 4, 0.8, 0.1, 0.0] 0.801328360965338\n",
      "[4, 1, 1, 4, 0.8, 0.1, 0.05] 0.8344727567899778\n",
      "[4, 1, 1, 4, 0.8, 0.1, 0.1] 0.8319898739313452\n",
      "[4, 1, 1, 5, 0.8, 0.1, 0.0] 0.801328360965338\n",
      "[4, 1, 1, 5, 0.8, 0.1, 0.05] 0.8368112072615679\n",
      "[4, 1, 1, 5, 0.8, 0.1, 0.1] 0.834769587576244\n",
      "[4, 1, 1, 6, 0.8, 0.1, 0.0] 0.801328360965338\n",
      "[4, 1, 1, 6, 0.8, 0.1, 0.05] 0.8355470481186351\n",
      "[4, 1, 1, 6, 0.8, 0.1, 0.1] 0.8359424088605053\n",
      "[4, 1, 1, 6, 0.8, 0.1, 0.15] 0.8337523611669218\n",
      "[4, 1, 1, 7, 0.8, 0.1, 0.0] 0.801328360965338\n",
      "[4, 1, 1, 7, 0.8, 0.1, 0.05] 0.833844823137264\n",
      "[4, 1, 1, 7, 0.8, 0.1, 0.1] 0.835435788303647\n",
      "[4, 1, 1, 7, 0.8, 0.1, 0.15] 0.8345906546378741\n",
      "[4, 1, 1, 8, 0.8, 0.1, 0.0] 0.801328360965338\n",
      "[4, 1, 1, 8, 0.8, 0.1, 0.05] 0.8352039961123428\n",
      "[4, 1, 1, 8, 0.8, 0.1, 0.1] 0.8353395317422029\n",
      "[4, 1, 1, 8, 0.8, 0.1, 0.15] 0.8349401753066663\n",
      "[4, 1, 1, 9, 0.8, 0.1, 0.0] 0.801328360965338\n",
      "[4, 1, 1, 9, 0.8, 0.1, 0.05] 0.8362116818727239\n",
      "[4, 1, 1, 9, 0.8, 0.1, 0.1] 0.8352994040167582\n",
      "[4, 1, 1, 10, 0.8, 0.1, 0.0] 0.801328360965338\n",
      "[4, 1, 1, 10, 0.8, 0.1, 0.05] 0.835456100896956\n",
      "[4, 1, 1, 10, 0.8, 0.1, 0.1] 0.8368113933972322\n",
      "[4, 1, 1, 10, 0.8, 0.1, 0.15] 0.8362677845747731\n",
      "[4, 1, 1, 1, 0.85, 0.1, 0.0] 0.8013047541321107\n",
      "[4, 1, 1, 1, 0.85, 0.1, 0.05] 0.836215200667936\n",
      "[4, 1, 1, 1, 0.85, 0.1, 0.1] 0.8330853289659731\n",
      "[4, 1, 1, 2, 0.85, 0.1, 0.0] 0.8013047541321107\n",
      "[4, 1, 1, 2, 0.85, 0.1, 0.05] 0.83628886835773\n",
      "[4, 1, 1, 2, 0.85, 0.1, 0.1] 0.8329769138981525\n",
      "[4, 1, 1, 3, 0.85, 0.1, 0.0] 0.8013047541321107\n",
      "[4, 1, 1, 3, 0.85, 0.1, 0.05] 0.8374613508954516\n",
      "[4, 1, 1, 3, 0.85, 0.1, 0.1] 0.8341024585428036\n",
      "[4, 1, 1, 4, 0.85, 0.1, 0.0] 0.8013047541321107\n",
      "[4, 1, 1, 4, 0.85, 0.1, 0.05] 0.8336292390431722\n",
      "[4, 1, 1, 4, 0.85, 0.1, 0.1] 0.8325531825468483\n",
      "[4, 1, 1, 5, 0.85, 0.1, 0.0] 0.8013047541321107\n",
      "[4, 1, 1, 5, 0.85, 0.1, 0.05] 0.8362762311844689\n",
      "[4, 1, 1, 5, 0.85, 0.1, 0.1] 0.8348001050463898\n",
      "[4, 1, 1, 6, 0.85, 0.1, 0.0] 0.8013047541321107\n",
      "[4, 1, 1, 6, 0.85, 0.1, 0.05] 0.8349198639353056\n",
      "[4, 1, 1, 6, 0.85, 0.1, 0.1] 0.8364239611856548\n",
      "[4, 1, 1, 6, 0.85, 0.1, 0.15] 0.8358187929036831\n",
      "[4, 1, 1, 7, 0.85, 0.1, 0.0] 0.8013047541321107\n",
      "[4, 1, 1, 7, 0.85, 0.1, 0.05] 0.8340473294754477\n",
      "[4, 1, 1, 7, 0.85, 0.1, 0.1] 0.8355002203251546\n",
      "[4, 1, 1, 7, 0.85, 0.1, 0.15] 0.835574962747512\n",
      "[4, 1, 1, 7, 0.85, 0.1, 0.2] 0.8344844567724932\n",
      "[4, 1, 1, 8, 0.85, 0.1, 0.0] 0.8013047541321107\n",
      "[4, 1, 1, 8, 0.85, 0.1, 0.05] 0.836141069679347\n",
      "[4, 1, 1, 8, 0.85, 0.1, 0.1] 0.8354199602970365\n",
      "[4, 1, 1, 9, 0.85, 0.1, 0.0] 0.8013047541321107\n",
      "[4, 1, 1, 9, 0.85, 0.1, 0.05] 0.8369429272675821\n",
      "[4, 1, 1, 9, 0.85, 0.1, 0.1] 0.8379063392688388\n",
      "[4, 1, 1, 9, 0.85, 0.1, 0.15] 0.8362321452936293\n",
      "[4, 1, 1, 10, 0.85, 0.1, 0.0] 0.8013047541321107\n",
      "[4, 1, 1, 10, 0.85, 0.1, 0.05] 0.8381754015615837\n",
      "[4, 1, 1, 10, 0.85, 0.1, 0.1] 0.8382025532629086\n",
      "[4, 1, 1, 10, 0.85, 0.1, 0.15] 0.8367733538621501\n",
      "[4, 1, 1, 1, 0.9, 0.1, 0.0] 0.8012896711758513\n",
      "[4, 1, 1, 1, 0.9, 0.1, 0.05] 0.8362076557605661\n",
      "[4, 1, 1, 1, 0.9, 0.1, 0.1] 0.8339966389404966\n",
      "[4, 1, 1, 2, 0.9, 0.1, 0.0] 0.8012896711758513\n",
      "[4, 1, 1, 2, 0.9, 0.1, 0.05] 0.8359649564855378\n",
      "[4, 1, 1, 2, 0.9, 0.1, 0.1] 0.8336161867947253\n",
      "[4, 1, 1, 3, 0.9, 0.1, 0.0] 0.8012896711758513\n",
      "[4, 1, 1, 3, 0.9, 0.1, 0.05] 0.8366932124288899\n",
      "[4, 1, 1, 3, 0.9, 0.1, 0.1] 0.834643137981477\n",
      "[4, 1, 1, 4, 0.9, 0.1, 0.0] 0.8012896711758513\n",
      "[4, 1, 1, 4, 0.9, 0.1, 0.05] 0.8343629938980927\n",
      "[4, 1, 1, 4, 0.9, 0.1, 0.1] 0.8356671306868231\n",
      "[4, 1, 1, 4, 0.9, 0.1, 0.15] 0.8322660377987842\n",
      "[4, 1, 1, 5, 0.9, 0.1, 0.0] 0.8012896711758513\n",
      "[4, 1, 1, 5, 0.9, 0.1, 0.05] 0.8371810671521206\n",
      "[4, 1, 1, 5, 0.9, 0.1, 0.1] 0.8357859962056854\n",
      "[4, 1, 1, 6, 0.9, 0.1, 0.0] 0.8012896711758513\n",
      "[4, 1, 1, 6, 0.9, 0.1, 0.05] 0.8366021731617047\n",
      "[4, 1, 1, 6, 0.9, 0.1, 0.1] 0.8365630771843166\n",
      "[4, 1, 1, 7, 0.9, 0.1, 0.0] 0.8012896711758513\n",
      "[4, 1, 1, 7, 0.9, 0.1, 0.05] 0.8368820058425082\n",
      "[4, 1, 1, 7, 0.9, 0.1, 0.1] 0.8346976740295864\n",
      "[4, 1, 1, 8, 0.9, 0.1, 0.0] 0.8012896711758513\n",
      "[4, 1, 1, 8, 0.9, 0.1, 0.05] 0.8381093717025241\n",
      "[4, 1, 1, 8, 0.9, 0.1, 0.1] 0.8355557219809232\n",
      "[4, 1, 1, 9, 0.9, 0.1, 0.0] 0.8012896711758513\n",
      "[4, 1, 1, 9, 0.9, 0.1, 0.05] 0.837532221041158\n",
      "[4, 1, 1, 9, 0.9, 0.1, 0.1] 0.8377250501479818\n",
      "[4, 1, 1, 9, 0.9, 0.1, 0.15] 0.8359711073878779\n",
      "[4, 1, 1, 10, 0.9, 0.1, 0.0] 0.8012896711758513\n",
      "[4, 1, 1, 10, 0.9, 0.1, 0.05] 0.8379921573258979\n",
      "[4, 1, 1, 10, 0.9, 0.1, 0.1] 0.8383488072715358\n",
      "[4, 1, 1, 10, 0.9, 0.1, 0.15] 0.8363904468324669\n",
      "[4, 1, 1, 1, 0.95, 0.1, 0.0] 0.8126676108400738\n",
      "[4, 1, 1, 1, 0.95, 0.1, 0.05] 0.8366506940303068\n",
      "[4, 1, 1, 1, 0.95, 0.1, 0.1] 0.8355066782057303\n",
      "[4, 1, 1, 2, 0.95, 0.1, 0.0] 0.8126676108400738\n",
      "[4, 1, 1, 2, 0.95, 0.1, 0.05] 0.8364454017060318\n",
      "[4, 1, 1, 2, 0.95, 0.1, 0.1] 0.834748971628267\n",
      "[4, 1, 1, 3, 0.95, 0.1, 0.0] 0.8126676108400738\n",
      "[4, 1, 1, 3, 0.95, 0.1, 0.05] 0.8354169615660416\n"
     ]
    },
    {
     "name": "stdout",
     "output_type": "stream",
     "text": [
      "[4, 1, 1, 3, 0.95, 0.1, 0.1] 0.8367782549014539\n",
      "[4, 1, 1, 3, 0.95, 0.1, 0.15] 0.8329981251380569\n",
      "[4, 1, 1, 4, 0.95, 0.1, 0.0] 0.8126676108400738\n",
      "[4, 1, 1, 4, 0.95, 0.1, 0.05] 0.835962290592926\n",
      "[4, 1, 1, 4, 0.95, 0.1, 0.1] 0.8378086236923943\n",
      "[4, 1, 1, 4, 0.95, 0.1, 0.15] 0.8324531025316633\n",
      "[4, 1, 1, 5, 0.95, 0.1, 0.0] 0.8126676108400738\n",
      "[4, 1, 1, 5, 0.95, 0.1, 0.05] 0.8369664507175557\n",
      "[4, 1, 1, 5, 0.95, 0.1, 0.1] 0.83666478634293\n",
      "[4, 1, 1, 6, 0.95, 0.1, 0.0] 0.8126676108400738\n",
      "[4, 1, 1, 6, 0.95, 0.1, 0.05] 0.8386326059808225\n",
      "[4, 1, 1, 6, 0.95, 0.1, 0.1] 0.8359409148898737\n",
      "[4, 1, 1, 7, 0.95, 0.1, 0.0] 0.8126676108400738\n",
      "[4, 1, 1, 7, 0.95, 0.1, 0.05] 0.8379329806712944\n",
      "[4, 1, 1, 7, 0.95, 0.1, 0.1] 0.836606573917824\n",
      "[4, 1, 1, 8, 0.95, 0.1, 0.0] 0.8126676108400738\n",
      "[4, 1, 1, 8, 0.95, 0.1, 0.05] 0.8381093717025241\n",
      "[4, 1, 1, 8, 0.95, 0.1, 0.1] 0.8383233460053139\n",
      "[4, 1, 1, 8, 0.95, 0.1, 0.15] 0.8365456142439374\n",
      "[4, 1, 1, 9, 0.95, 0.1, 0.0] 0.8126676108400738\n",
      "[4, 1, 1, 9, 0.95, 0.1, 0.05] 0.8381007655779744\n",
      "[4, 1, 1, 9, 0.95, 0.1, 0.1] 0.8382917574291586\n",
      "[4, 1, 1, 9, 0.95, 0.1, 0.15] 0.8356747186649061\n",
      "[4, 1, 1, 10, 0.95, 0.1, 0.0] 0.8126676108400738\n",
      "[4, 1, 1, 10, 0.95, 0.1, 0.05] 0.8370840519468982\n",
      "[4, 1, 1, 10, 0.95, 0.1, 0.1] 0.8375585253861336\n",
      "[4, 1, 1, 10, 0.95, 0.1, 0.15] 0.836082334676384\n",
      "[4, 1, 1, 1, 1.0, 0.1, 0.0] 0.8119418018315488\n",
      "[4, 1, 1, 1, 1.0, 0.1, 0.05] 0.8366506940303068\n",
      "[4, 1, 1, 1, 1.0, 0.1, 0.1] 0.835142721104539\n",
      "[4, 1, 1, 2, 1.0, 0.1, 0.0] 0.8119418018315488\n",
      "[4, 1, 1, 2, 1.0, 0.1, 0.05] 0.836891106986058\n",
      "[4, 1, 1, 2, 1.0, 0.1, 0.1] 0.8370983206453931\n",
      "[4, 1, 1, 2, 1.0, 0.1, 0.15] 0.833169061466392\n",
      "[4, 1, 1, 3, 1.0, 0.1, 0.0] 0.8119418018315488\n",
      "[4, 1, 1, 3, 1.0, 0.1, 0.05] 0.8354436240295706\n",
      "[4, 1, 1, 3, 1.0, 0.1, 0.1] 0.8359465465235988\n",
      "[4, 1, 1, 3, 1.0, 0.1, 0.15] 0.833829169751024\n",
      "[4, 1, 1, 4, 1.0, 0.1, 0.0] 0.8119418018315488\n",
      "[4, 1, 1, 4, 1.0, 0.1, 0.05] 0.8361002735683266\n",
      "[4, 1, 1, 4, 1.0, 0.1, 0.1] 0.8386547358713381\n",
      "[4, 1, 1, 4, 1.0, 0.1, 0.15] 0.8335193492364782\n",
      "[4, 1, 1, 5, 1.0, 0.1, 0.0] 0.8119418018315488\n",
      "[4, 1, 1, 5, 1.0, 0.1, 0.05] 0.8369779009116683\n",
      "[4, 1, 1, 5, 1.0, 0.1, 0.1] 0.8374517857516085\n",
      "[4, 1, 1, 5, 1.0, 0.1, 0.15] 0.8363336402553896\n",
      "[4, 1, 1, 6, 1.0, 0.1, 0.0] 0.8119418018315488\n",
      "[4, 1, 1, 6, 1.0, 0.1, 0.05] 0.8397016907160405\n",
      "[4, 1, 1, 6, 1.0, 0.1, 0.1] 0.8375443202847864\n",
      "[4, 1, 1, 7, 1.0, 0.1, 0.0] 0.8119418018315488\n",
      "[4, 1, 1, 7, 1.0, 0.1, 0.05] 0.8389941983045942\n",
      "[4, 1, 1, 7, 1.0, 0.1, 0.1] 0.8381725781791491\n",
      "[4, 1, 1, 8, 1.0, 0.1, 0.0] 0.8119418018315488\n",
      "[4, 1, 1, 8, 1.0, 0.1, 0.05] 0.839286523923812\n",
      "[4, 1, 1, 8, 1.0, 0.1, 0.1] 0.8393706414107011\n",
      "[4, 1, 1, 8, 1.0, 0.1, 0.15] 0.837525072850616\n",
      "[4, 1, 1, 9, 1.0, 0.1, 0.0] 0.8119418018315488\n",
      "[4, 1, 1, 9, 1.0, 0.1, 0.05] 0.8366547803682495\n",
      "[4, 1, 1, 9, 1.0, 0.1, 0.1] 0.8388798344962357\n",
      "[4, 1, 1, 9, 1.0, 0.1, 0.15] 0.8359203196436401\n",
      "[4, 1, 1, 10, 1.0, 0.1, 0.0] 0.8119418018315488\n",
      "[4, 1, 1, 10, 1.0, 0.1, 0.05] 0.8378136709621654\n",
      "[4, 1, 1, 10, 1.0, 0.1, 0.1] 0.8380076513281642\n",
      "[4, 1, 1, 10, 1.0, 0.1, 0.15] 0.8356774590408624\n",
      "[5, 1, 1, 1, 0.05, 0.1, 0.0] 0.7864770621207636\n",
      "best 0.7864770621207636 [5, 1, 1, 1, 0.05, 0.1, 0.0]\n",
      "[5, 1, 1, 1, 0.05, 0.1, 0.05] 0.8308903857073189\n",
      "best 0.8308903857073189 [5, 1, 1, 1, 0.05, 0.1, 0.05]\n",
      "[5, 1, 1, 1, 0.05, 0.1, 0.1] 0.829430554113763\n",
      "[5, 1, 1, 2, 0.05, 0.1, 0.0] 0.7864770621207636\n",
      "[5, 1, 1, 2, 0.05, 0.1, 0.05] 0.8301189792705772\n",
      "[5, 1, 1, 2, 0.05, 0.1, 0.1] 0.8314261506208522\n",
      "best 0.8314261506208522 [5, 1, 1, 2, 0.05, 0.1, 0.1]\n",
      "[5, 1, 1, 2, 0.05, 0.1, 0.15] 0.832598017040054\n",
      "best 0.832598017040054 [5, 1, 1, 2, 0.05, 0.1, 0.15]\n",
      "[5, 1, 1, 2, 0.05, 0.1, 0.2] 0.8345438535806748\n",
      "best 0.8345438535806748 [5, 1, 1, 2, 0.05, 0.1, 0.2]\n",
      "[5, 1, 1, 2, 0.05, 0.1, 0.25] 0.8340587245929093\n",
      "[5, 1, 1, 3, 0.05, 0.1, 0.0] 0.7864770621207636\n",
      "[5, 1, 1, 3, 0.05, 0.1, 0.05] 0.8326626732796409\n",
      "[5, 1, 1, 3, 0.05, 0.1, 0.1] 0.836510779636128\n",
      "best 0.836510779636128 [5, 1, 1, 3, 0.05, 0.1, 0.1]\n",
      "[5, 1, 1, 3, 0.05, 0.1, 0.15] 0.8403942553501567\n",
      "best 0.8403942553501567 [5, 1, 1, 3, 0.05, 0.1, 0.15]\n",
      "[5, 1, 1, 3, 0.05, 0.1, 0.2] 0.840970896633683\n",
      "best 0.840970896633683 [5, 1, 1, 3, 0.05, 0.1, 0.2]\n",
      "[5, 1, 1, 3, 0.05, 0.1, 0.25] 0.8400559060290618\n",
      "[5, 1, 1, 4, 0.05, 0.1, 0.0] 0.7864770621207636\n",
      "[5, 1, 1, 4, 0.05, 0.1, 0.05] 0.8329960131189741\n",
      "[5, 1, 1, 4, 0.05, 0.1, 0.1] 0.8349214126857385\n",
      "[5, 1, 1, 4, 0.05, 0.1, 0.15] 0.8372584413745983\n",
      "[5, 1, 1, 4, 0.05, 0.1, 0.2] 0.8415316543374877\n",
      "best 0.8415316543374877 [5, 1, 1, 4, 0.05, 0.1, 0.2]\n",
      "[5, 1, 1, 4, 0.05, 0.1, 0.25] 0.8413187039674851\n",
      "[5, 1, 1, 5, 0.05, 0.1, 0.0] 0.7864770621207636\n",
      "[5, 1, 1, 5, 0.05, 0.1, 0.05] 0.8322105441890787\n",
      "[5, 1, 1, 5, 0.05, 0.1, 0.1] 0.8341505940169363\n",
      "[5, 1, 1, 5, 0.05, 0.1, 0.15] 0.8373339144212827\n",
      "[5, 1, 1, 5, 0.05, 0.1, 0.2] 0.8390510839841111\n",
      "[5, 1, 1, 5, 0.05, 0.1, 0.25] 0.8405372503668407\n",
      "[5, 1, 1, 5, 0.05, 0.1, 0.3] 0.8392530572069586\n",
      "[5, 1, 1, 6, 0.05, 0.1, 0.0] 0.7864770621207636\n",
      "[5, 1, 1, 6, 0.05, 0.1, 0.05] 0.8323274323407538\n",
      "[5, 1, 1, 6, 0.05, 0.1, 0.1] 0.8346489593669043\n",
      "[5, 1, 1, 6, 0.05, 0.1, 0.15] 0.8376650479306181\n",
      "[5, 1, 1, 6, 0.05, 0.1, 0.2] 0.8378897215781587\n",
      "[5, 1, 1, 6, 0.05, 0.1, 0.25] 0.839275250821913\n",
      "[5, 1, 1, 6, 0.05, 0.1, 0.3] 0.8397697715627939\n",
      "[5, 1, 1, 6, 0.05, 0.1, 0.35] 0.8353185107194765\n",
      "[5, 1, 1, 7, 0.05, 0.1, 0.0] 0.7864770621207636\n",
      "[5, 1, 1, 7, 0.05, 0.1, 0.05] 0.8347794855296132\n",
      "[5, 1, 1, 7, 0.05, 0.1, 0.1] 0.8362201070287719\n",
      "[5, 1, 1, 7, 0.05, 0.1, 0.15] 0.8377136355045011\n",
      "[5, 1, 1, 7, 0.05, 0.1, 0.2] 0.8384699841600673\n",
      "[5, 1, 1, 7, 0.05, 0.1, 0.25] 0.8383320977965866\n",
      "[5, 1, 1, 8, 0.05, 0.1, 0.0] 0.7864770621207636\n",
      "[5, 1, 1, 8, 0.05, 0.1, 0.05] 0.8346732344785656\n",
      "[5, 1, 1, 8, 0.05, 0.1, 0.1] 0.8359566720595125\n",
      "[5, 1, 1, 8, 0.05, 0.1, 0.15] 0.8383053487699245\n",
      "[5, 1, 1, 8, 0.05, 0.1, 0.2] 0.8398299404849796\n",
      "[5, 1, 1, 8, 0.05, 0.1, 0.25] 0.8389637171623415\n",
      "[5, 1, 1, 9, 0.05, 0.1, 0.0] 0.7864770621207636\n",
      "[5, 1, 1, 9, 0.05, 0.1, 0.05] 0.8353441735082809\n",
      "[5, 1, 1, 9, 0.05, 0.1, 0.1] 0.8359773454528866\n",
      "[5, 1, 1, 9, 0.05, 0.1, 0.15] 0.8388706606526638\n",
      "[5, 1, 1, 9, 0.05, 0.1, 0.2] 0.8398498301723863\n",
      "[5, 1, 1, 9, 0.05, 0.1, 0.25] 0.8393961679858845\n",
      "[5, 1, 1, 10, 0.05, 0.1, 0.0] 0.7864770621207636\n",
      "[5, 1, 1, 10, 0.05, 0.1, 0.05] 0.8344571718950317\n",
      "[5, 1, 1, 10, 0.05, 0.1, 0.1] 0.8345147705353568\n",
      "[5, 1, 1, 10, 0.05, 0.1, 0.15] 0.8384328173537445\n",
      "[5, 1, 1, 10, 0.05, 0.1, 0.2] 0.8387040566830934\n",
      "[5, 1, 1, 10, 0.05, 0.1, 0.25] 0.838750105780228\n",
      "[5, 1, 1, 10, 0.05, 0.1, 0.3] 0.839143225324055\n",
      "[5, 1, 1, 10, 0.05, 0.1, 0.35] 0.8386896293955306\n",
      "[5, 1, 1, 1, 0.1, 0.1, 0.0] 0.7866418826343883\n",
      "[5, 1, 1, 1, 0.1, 0.1, 0.05] 0.8290900269060808\n",
      "[5, 1, 1, 1, 0.1, 0.1, 0.1] 0.8282556959544406\n",
      "[5, 1, 1, 2, 0.1, 0.1, 0.0] 0.7866418826343883\n",
      "[5, 1, 1, 2, 0.1, 0.1, 0.05] 0.8290971052017675\n",
      "[5, 1, 1, 2, 0.1, 0.1, 0.1] 0.8282574323484229\n",
      "[5, 1, 1, 3, 0.1, 0.1, 0.0] 0.7866418826343883\n",
      "[5, 1, 1, 3, 0.1, 0.1, 0.05] 0.8329417784240402\n",
      "[5, 1, 1, 3, 0.1, 0.1, 0.1] 0.8331415484458154\n",
      "[5, 1, 1, 3, 0.1, 0.1, 0.15] 0.8342434989176606\n",
      "[5, 1, 1, 3, 0.1, 0.1, 0.2] 0.8390755777433024\n",
      "[5, 1, 1, 3, 0.1, 0.1, 0.25] 0.840303785870103\n",
      "[5, 1, 1, 3, 0.1, 0.1, 0.3] 0.8401103331630714\n",
      "[5, 1, 1, 4, 0.1, 0.1, 0.0] 0.7866418826343883\n",
      "[5, 1, 1, 4, 0.1, 0.1, 0.05] 0.8330492647985193\n",
      "[5, 1, 1, 4, 0.1, 0.1, 0.1] 0.8322124541474805\n",
      "[5, 1, 1, 5, 0.1, 0.1, 0.0] 0.7866418826343883\n",
      "[5, 1, 1, 5, 0.1, 0.1, 0.05] 0.8334500446197292\n",
      "[5, 1, 1, 5, 0.1, 0.1, 0.1] 0.8342933088078368\n",
      "[5, 1, 1, 5, 0.1, 0.1, 0.15] 0.8348940862548491\n",
      "[5, 1, 1, 5, 0.1, 0.1, 0.2] 0.8358026491288111\n",
      "[5, 1, 1, 5, 0.1, 0.1, 0.25] 0.8391565485340651\n",
      "[5, 1, 1, 5, 0.1, 0.1, 0.3] 0.839710392694883\n",
      "[5, 1, 1, 5, 0.1, 0.1, 0.35] 0.8409275450977342\n",
      "[5, 1, 1, 5, 0.1, 0.1, 0.4] 0.8378390982671766\n",
      "[5, 1, 1, 6, 0.1, 0.1, 0.0] 0.7866418826343883\n",
      "[5, 1, 1, 6, 0.1, 0.1, 0.05] 0.8351917215202261\n",
      "[5, 1, 1, 6, 0.1, 0.1, 0.1] 0.8352156805507555\n",
      "[5, 1, 1, 6, 0.1, 0.1, 0.15] 0.8353048682579337\n",
      "[5, 1, 1, 6, 0.1, 0.1, 0.2] 0.8362202080660818\n",
      "[5, 1, 1, 6, 0.1, 0.1, 0.25] 0.8373501276923191\n",
      "[5, 1, 1, 6, 0.1, 0.1, 0.3] 0.8372929569539523\n",
      "[5, 1, 1, 7, 0.1, 0.1, 0.0] 0.7866418826343883\n",
      "[5, 1, 1, 7, 0.1, 0.1, 0.05] 0.8344203502240777\n",
      "[5, 1, 1, 7, 0.1, 0.1, 0.1] 0.8367422766417842\n"
     ]
    },
    {
     "name": "stdout",
     "output_type": "stream",
     "text": [
      "[5, 1, 1, 7, 0.1, 0.1, 0.15] 0.8360662829017738\n",
      "[5, 1, 1, 8, 0.1, 0.1, 0.0] 0.7866418826343883\n",
      "[5, 1, 1, 8, 0.1, 0.1, 0.05] 0.8347056444413427\n",
      "[5, 1, 1, 8, 0.1, 0.1, 0.1] 0.8346916719734824\n",
      "[5, 1, 1, 9, 0.1, 0.1, 0.0] 0.7866418826343883\n",
      "[5, 1, 1, 9, 0.1, 0.1, 0.05] 0.8348058832808983\n",
      "[5, 1, 1, 9, 0.1, 0.1, 0.1] 0.8349463019641359\n",
      "[5, 1, 1, 9, 0.1, 0.1, 0.15] 0.8357155469404536\n",
      "[5, 1, 1, 9, 0.1, 0.1, 0.2] 0.8383982637337589\n",
      "[5, 1, 1, 9, 0.1, 0.1, 0.25] 0.8379399364436617\n",
      "[5, 1, 1, 10, 0.1, 0.1, 0.0] 0.7866418826343883\n",
      "[5, 1, 1, 10, 0.1, 0.1, 0.05] 0.8346044660006079\n",
      "[5, 1, 1, 10, 0.1, 0.1, 0.1] 0.8349946896029243\n",
      "[5, 1, 1, 10, 0.1, 0.1, 0.15] 0.8335854553152097\n",
      "[5, 1, 1, 1, 0.15, 0.1, 0.0] 0.7886553884456985\n",
      "[5, 1, 1, 1, 0.15, 0.1, 0.05] 0.8315050122784238\n",
      "[5, 1, 1, 1, 0.15, 0.1, 0.1] 0.8278340387333645\n",
      "[5, 1, 1, 2, 0.15, 0.1, 0.0] 0.7886553884456985\n",
      "[5, 1, 1, 2, 0.15, 0.1, 0.05] 0.831048493896292\n",
      "[5, 1, 1, 2, 0.15, 0.1, 0.1] 0.8284264540965245\n",
      "[5, 1, 1, 3, 0.15, 0.1, 0.0] 0.7886553884456985\n",
      "[5, 1, 1, 3, 0.15, 0.1, 0.05] 0.8335168493073882\n",
      "[5, 1, 1, 3, 0.15, 0.1, 0.1] 0.8351839435078479\n",
      "[5, 1, 1, 3, 0.15, 0.1, 0.15] 0.8323808921444628\n",
      "[5, 1, 1, 4, 0.15, 0.1, 0.0] 0.7886553884456985\n",
      "[5, 1, 1, 4, 0.15, 0.1, 0.05] 0.8347578276279525\n",
      "[5, 1, 1, 4, 0.15, 0.1, 0.1] 0.8343199005694203\n",
      "[5, 1, 1, 5, 0.15, 0.1, 0.0] 0.7886553884456985\n",
      "[5, 1, 1, 5, 0.15, 0.1, 0.05] 0.8357175949623817\n",
      "[5, 1, 1, 5, 0.15, 0.1, 0.1] 0.836512955114188\n",
      "[5, 1, 1, 5, 0.15, 0.1, 0.15] 0.8335597319256726\n",
      "[5, 1, 1, 6, 0.15, 0.1, 0.0] 0.7886553884456985\n",
      "[5, 1, 1, 6, 0.15, 0.1, 0.05] 0.8352809205014315\n",
      "[5, 1, 1, 6, 0.15, 0.1, 0.1] 0.8376629980553634\n",
      "[5, 1, 1, 6, 0.15, 0.1, 0.15] 0.8362431569651226\n",
      "[5, 1, 1, 7, 0.15, 0.1, 0.0] 0.7886553884456985\n",
      "[5, 1, 1, 7, 0.15, 0.1, 0.05] 0.8361307691393881\n",
      "[5, 1, 1, 7, 0.15, 0.1, 0.1] 0.8374217213073235\n",
      "[5, 1, 1, 7, 0.15, 0.1, 0.15] 0.836546646119541\n",
      "[5, 1, 1, 8, 0.15, 0.1, 0.0] 0.7886553884456985\n",
      "[5, 1, 1, 8, 0.15, 0.1, 0.05] 0.8372801247126516\n",
      "[5, 1, 1, 8, 0.15, 0.1, 0.1] 0.8371207165829508\n",
      "[5, 1, 1, 9, 0.15, 0.1, 0.0] 0.7886553884456985\n",
      "[5, 1, 1, 9, 0.15, 0.1, 0.05] 0.8373379959043935\n",
      "[5, 1, 1, 9, 0.15, 0.1, 0.1] 0.8372933616918773\n",
      "[5, 1, 1, 10, 0.15, 0.1, 0.0] 0.7886553884456985\n",
      "[5, 1, 1, 10, 0.15, 0.1, 0.05] 0.8373056257361776\n",
      "[5, 1, 1, 10, 0.15, 0.1, 0.1] 0.8372633937442467\n",
      "[5, 1, 1, 1, 0.2, 0.1, 0.0] 0.7887027324047216\n",
      "[5, 1, 1, 1, 0.2, 0.1, 0.05] 0.8331689029496457\n",
      "[5, 1, 1, 1, 0.2, 0.1, 0.1] 0.8275037443211641\n",
      "[5, 1, 1, 2, 0.2, 0.1, 0.0] 0.7887027324047216\n",
      "[5, 1, 1, 2, 0.2, 0.1, 0.05] 0.8331689029496457\n",
      "[5, 1, 1, 2, 0.2, 0.1, 0.1] 0.8284696314530375\n",
      "[5, 1, 1, 3, 0.2, 0.1, 0.0] 0.7887027324047216\n",
      "[5, 1, 1, 3, 0.2, 0.1, 0.05] 0.8336344486111195\n",
      "[5, 1, 1, 3, 0.2, 0.1, 0.1] 0.8328897080286385\n",
      "[5, 1, 1, 4, 0.2, 0.1, 0.0] 0.7887027324047216\n",
      "[5, 1, 1, 4, 0.2, 0.1, 0.05] 0.8347470983550086\n",
      "[5, 1, 1, 4, 0.2, 0.1, 0.1] 0.8334247524798801\n",
      "[5, 1, 1, 5, 0.2, 0.1, 0.0] 0.7887027324047216\n",
      "[5, 1, 1, 5, 0.2, 0.1, 0.05] 0.8361503340697541\n",
      "[5, 1, 1, 5, 0.2, 0.1, 0.1] 0.8392152458267693\n",
      "[5, 1, 1, 5, 0.2, 0.1, 0.15] 0.8363956539789388\n",
      "[5, 1, 1, 6, 0.2, 0.1, 0.0] 0.7887027324047216\n",
      "[5, 1, 1, 6, 0.2, 0.1, 0.05] 0.8365601270316158\n",
      "[5, 1, 1, 6, 0.2, 0.1, 0.1] 0.8400839837890767\n",
      "[5, 1, 1, 6, 0.2, 0.1, 0.15] 0.8378151500078307\n",
      "[5, 1, 1, 7, 0.2, 0.1, 0.0] 0.7887027324047216\n",
      "[5, 1, 1, 7, 0.2, 0.1, 0.05] 0.8368223023532334\n",
      "[5, 1, 1, 7, 0.2, 0.1, 0.1] 0.8402093364747738\n",
      "[5, 1, 1, 7, 0.2, 0.1, 0.15] 0.8381528353177814\n",
      "[5, 1, 1, 8, 0.2, 0.1, 0.0] 0.7887027324047216\n",
      "[5, 1, 1, 8, 0.2, 0.1, 0.05] 0.836632020290965\n",
      "[5, 1, 1, 8, 0.2, 0.1, 0.1] 0.8401423420397099\n",
      "[5, 1, 1, 8, 0.2, 0.1, 0.15] 0.839301780765494\n",
      "[5, 1, 1, 9, 0.2, 0.1, 0.0] 0.7887027324047216\n",
      "[5, 1, 1, 9, 0.2, 0.1, 0.05] 0.835660879336183\n",
      "[5, 1, 1, 9, 0.2, 0.1, 0.1] 0.8392536213573075\n",
      "[5, 1, 1, 9, 0.2, 0.1, 0.15] 0.8388296843103926\n",
      "[5, 1, 1, 10, 0.2, 0.1, 0.0] 0.7887027324047216\n",
      "[5, 1, 1, 10, 0.2, 0.1, 0.05] 0.8366727643569879\n",
      "[5, 1, 1, 10, 0.2, 0.1, 0.1] 0.8382924940717356\n",
      "[5, 1, 1, 10, 0.2, 0.1, 0.15] 0.8380784309452436\n",
      "[5, 1, 1, 1, 0.25, 0.1, 0.0] 0.7883719866094709\n",
      "[5, 1, 1, 1, 0.25, 0.1, 0.05] 0.8346541710734517\n",
      "[5, 1, 1, 1, 0.25, 0.1, 0.1] 0.8321851792492039\n",
      "[5, 1, 1, 2, 0.25, 0.1, 0.0] 0.7883719866094709\n",
      "[5, 1, 1, 2, 0.25, 0.1, 0.05] 0.8338849247895325\n",
      "[5, 1, 1, 2, 0.25, 0.1, 0.1] 0.8326200564823328\n",
      "[5, 1, 1, 3, 0.25, 0.1, 0.0] 0.7883719866094709\n",
      "[5, 1, 1, 3, 0.25, 0.1, 0.05] 0.8356079167791671\n",
      "[5, 1, 1, 3, 0.25, 0.1, 0.1] 0.833158725164021\n",
      "[5, 1, 1, 4, 0.25, 0.1, 0.0] 0.7883719866094709\n",
      "[5, 1, 1, 4, 0.25, 0.1, 0.05] 0.8357045373580707\n",
      "[5, 1, 1, 4, 0.25, 0.1, 0.1] 0.8353353757375424\n",
      "[5, 1, 1, 5, 0.25, 0.1, 0.0] 0.7883719866094709\n",
      "[5, 1, 1, 5, 0.25, 0.1, 0.05] 0.8366669173782488\n",
      "[5, 1, 1, 5, 0.25, 0.1, 0.1] 0.8391994935642547\n",
      "[5, 1, 1, 5, 0.25, 0.1, 0.15] 0.837026416615757\n",
      "[5, 1, 1, 6, 0.25, 0.1, 0.0] 0.7883719866094709\n",
      "[5, 1, 1, 6, 0.25, 0.1, 0.05] 0.8365027434216123\n",
      "[5, 1, 1, 6, 0.25, 0.1, 0.1] 0.8403580633683062\n",
      "[5, 1, 1, 6, 0.25, 0.1, 0.15] 0.8394560745029136\n",
      "[5, 1, 1, 7, 0.25, 0.1, 0.0] 0.7883719866094709\n",
      "[5, 1, 1, 7, 0.25, 0.1, 0.05] 0.8371206997108568\n",
      "[5, 1, 1, 7, 0.25, 0.1, 0.1] 0.8410949935928568\n",
      "[5, 1, 1, 7, 0.25, 0.1, 0.15] 0.8398135466237935\n",
      "[5, 1, 1, 8, 0.25, 0.1, 0.0] 0.7883719866094709\n",
      "[5, 1, 1, 8, 0.25, 0.1, 0.05] 0.8365970388691144\n",
      "[5, 1, 1, 8, 0.25, 0.1, 0.1] 0.8412497021540811\n",
      "[5, 1, 1, 8, 0.25, 0.1, 0.15] 0.8393160256923039\n",
      "[5, 1, 1, 9, 0.25, 0.1, 0.0] 0.7883719866094709\n",
      "[5, 1, 1, 9, 0.25, 0.1, 0.05] 0.8351585254833046\n",
      "[5, 1, 1, 9, 0.25, 0.1, 0.1] 0.8390482337253543\n",
      "[5, 1, 1, 9, 0.25, 0.1, 0.15] 0.8396733462675925\n",
      "[5, 1, 1, 9, 0.25, 0.1, 0.2] 0.8392265708543104\n",
      "[5, 1, 1, 10, 0.25, 0.1, 0.0] 0.7883719866094709\n",
      "[5, 1, 1, 10, 0.25, 0.1, 0.05] 0.8354339190848321\n",
      "[5, 1, 1, 10, 0.25, 0.1, 0.1] 0.8386601452057642\n",
      "[5, 1, 1, 10, 0.25, 0.1, 0.15] 0.8392106152146567\n",
      "[5, 1, 1, 10, 0.25, 0.1, 0.2] 0.8387524354071638\n",
      "[5, 1, 1, 1, 0.3, 0.1, 0.0] 0.7894669362616754\n",
      "[5, 1, 1, 1, 0.3, 0.1, 0.05] 0.8347380630946827\n",
      "[5, 1, 1, 1, 0.3, 0.1, 0.1] 0.8315850507527388\n",
      "[5, 1, 1, 2, 0.3, 0.1, 0.0] 0.7894669362616754\n",
      "[5, 1, 1, 2, 0.3, 0.1, 0.05] 0.8342216528491385\n",
      "[5, 1, 1, 2, 0.3, 0.1, 0.1] 0.8323966529066439\n",
      "[5, 1, 1, 3, 0.3, 0.1, 0.0] 0.7894669362616754\n",
      "[5, 1, 1, 3, 0.3, 0.1, 0.05] 0.8358576237888512\n",
      "[5, 1, 1, 3, 0.3, 0.1, 0.1] 0.8343464980773491\n",
      "[5, 1, 1, 4, 0.3, 0.1, 0.0] 0.7894669362616754\n",
      "[5, 1, 1, 4, 0.3, 0.1, 0.05] 0.8362529540095335\n",
      "[5, 1, 1, 4, 0.3, 0.1, 0.1] 0.8350997224264308\n",
      "[5, 1, 1, 5, 0.3, 0.1, 0.0] 0.7894669362616754\n",
      "[5, 1, 1, 5, 0.3, 0.1, 0.05] 0.8364934161316074\n",
      "[5, 1, 1, 5, 0.3, 0.1, 0.1] 0.840205511265262\n",
      "[5, 1, 1, 5, 0.3, 0.1, 0.15] 0.8373966949204034\n",
      "[5, 1, 1, 6, 0.3, 0.1, 0.0] 0.7894669362616754\n",
      "[5, 1, 1, 6, 0.3, 0.1, 0.05] 0.8374954513307324\n",
      "[5, 1, 1, 6, 0.3, 0.1, 0.1] 0.8410595032288315\n",
      "[5, 1, 1, 6, 0.3, 0.1, 0.15] 0.8391456762087941\n",
      "[5, 1, 1, 7, 0.3, 0.1, 0.0] 0.7894669362616754\n",
      "[5, 1, 1, 7, 0.3, 0.1, 0.05] 0.8360013444046557\n",
      "[5, 1, 1, 7, 0.3, 0.1, 0.1] 0.8415262875087647\n",
      "[5, 1, 1, 7, 0.3, 0.1, 0.15] 0.8401530849812012\n",
      "[5, 1, 1, 8, 0.3, 0.1, 0.0] 0.7894669362616754\n",
      "[5, 1, 1, 8, 0.3, 0.1, 0.05] 0.834559808964101\n",
      "[5, 1, 1, 8, 0.3, 0.1, 0.1] 0.8418433932372444\n",
      "best 0.8418433932372444 [5, 1, 1, 8, 0.3, 0.1, 0.1]\n",
      "[5, 1, 1, 8, 0.3, 0.1, 0.15] 0.8409846540827376\n",
      "[5, 1, 1, 9, 0.3, 0.1, 0.0] 0.7894669362616754\n",
      "[5, 1, 1, 9, 0.3, 0.1, 0.05] 0.835145950307272\n",
      "[5, 1, 1, 9, 0.3, 0.1, 0.1] 0.8393929347795291\n",
      "[5, 1, 1, 9, 0.3, 0.1, 0.15] 0.841185997490656\n",
      "[5, 1, 1, 9, 0.3, 0.1, 0.2] 0.8397674593699723\n",
      "[5, 1, 1, 10, 0.3, 0.1, 0.0] 0.7894669362616754\n",
      "[5, 1, 1, 10, 0.3, 0.1, 0.05] 0.8368684489499608\n",
      "[5, 1, 1, 10, 0.3, 0.1, 0.1] 0.8384964267046221\n",
      "[5, 1, 1, 10, 0.3, 0.1, 0.15] 0.840772102672405\n",
      "[5, 1, 1, 10, 0.3, 0.1, 0.2] 0.8391009155001302\n",
      "[5, 1, 1, 1, 0.35, 0.1, 0.0] 0.7886274487169398\n",
      "[5, 1, 1, 1, 0.35, 0.1, 0.05] 0.8345998847174947\n",
      "[5, 1, 1, 1, 0.35, 0.1, 0.1] 0.833218527420627\n",
      "[5, 1, 1, 2, 0.35, 0.1, 0.0] 0.7886274487169398\n",
      "[5, 1, 1, 2, 0.35, 0.1, 0.05] 0.8333342752044547\n",
      "[5, 1, 1, 2, 0.35, 0.1, 0.1] 0.8334923962027014\n",
      "[5, 1, 1, 2, 0.35, 0.1, 0.15] 0.8311234560233595\n",
      "[5, 1, 1, 3, 0.35, 0.1, 0.0] 0.7886274487169398\n",
      "[5, 1, 1, 3, 0.35, 0.1, 0.05] 0.8370422068103986\n",
      "[5, 1, 1, 3, 0.35, 0.1, 0.1] 0.8356986126635473\n"
     ]
    },
    {
     "name": "stdout",
     "output_type": "stream",
     "text": [
      "[5, 1, 1, 4, 0.35, 0.1, 0.0] 0.7886274487169398\n",
      "[5, 1, 1, 4, 0.35, 0.1, 0.05] 0.8382375573795956\n",
      "[5, 1, 1, 4, 0.35, 0.1, 0.1] 0.8357848490122015\n",
      "[5, 1, 1, 5, 0.35, 0.1, 0.0] 0.7886274487169398\n",
      "[5, 1, 1, 5, 0.35, 0.1, 0.05] 0.8374438769034\n",
      "[5, 1, 1, 5, 0.35, 0.1, 0.1] 0.8394175473933798\n",
      "[5, 1, 1, 5, 0.35, 0.1, 0.15] 0.8377668601222137\n",
      "[5, 1, 1, 6, 0.35, 0.1, 0.0] 0.7886274487169398\n",
      "[5, 1, 1, 6, 0.35, 0.1, 0.05] 0.8378406426286598\n",
      "[5, 1, 1, 6, 0.35, 0.1, 0.1] 0.8402359291298025\n",
      "[5, 1, 1, 6, 0.35, 0.1, 0.15] 0.8398988589507954\n",
      "[5, 1, 1, 7, 0.35, 0.1, 0.0] 0.7886274487169398\n",
      "[5, 1, 1, 7, 0.35, 0.1, 0.05] 0.8370602000680184\n",
      "[5, 1, 1, 7, 0.35, 0.1, 0.1] 0.8402975710376281\n",
      "[5, 1, 1, 7, 0.35, 0.1, 0.15] 0.8410996538824976\n",
      "[5, 1, 1, 7, 0.35, 0.1, 0.2] 0.839739778742378\n",
      "[5, 1, 1, 8, 0.35, 0.1, 0.0] 0.7886274487169398\n",
      "[5, 1, 1, 8, 0.35, 0.1, 0.05] 0.836110555477255\n",
      "[5, 1, 1, 8, 0.35, 0.1, 0.1] 0.8405432971322672\n",
      "[5, 1, 1, 8, 0.35, 0.1, 0.15] 0.8409982746121855\n",
      "[5, 1, 1, 8, 0.35, 0.1, 0.2] 0.839597921232024\n",
      "[5, 1, 1, 9, 0.35, 0.1, 0.0] 0.7886274487169398\n",
      "[5, 1, 1, 9, 0.35, 0.1, 0.05] 0.8356800813644994\n",
      "[5, 1, 1, 9, 0.35, 0.1, 0.1] 0.8383448458910047\n",
      "[5, 1, 1, 9, 0.35, 0.1, 0.15] 0.841020488537989\n",
      "[5, 1, 1, 9, 0.35, 0.1, 0.2] 0.839739500360419\n",
      "[5, 1, 1, 10, 0.35, 0.1, 0.0] 0.7886274487169398\n",
      "[5, 1, 1, 10, 0.35, 0.1, 0.05] 0.8364742849840899\n",
      "[5, 1, 1, 10, 0.35, 0.1, 0.1] 0.8376378696256213\n",
      "[5, 1, 1, 10, 0.35, 0.1, 0.15] 0.8406386514065896\n",
      "[5, 1, 1, 10, 0.35, 0.1, 0.2] 0.8395411448205768\n",
      "[5, 1, 1, 1, 0.4, 0.1, 0.0] 0.7909401802304984\n",
      "[5, 1, 1, 1, 0.4, 0.1, 0.05] 0.834757344223532\n",
      "[5, 1, 1, 1, 0.4, 0.1, 0.1] 0.8339321983873915\n",
      "[5, 1, 1, 2, 0.4, 0.1, 0.0] 0.7909401802304984\n",
      "[5, 1, 1, 2, 0.4, 0.1, 0.05] 0.8335591285495122\n",
      "[5, 1, 1, 2, 0.4, 0.1, 0.1] 0.8336013953239967\n",
      "[5, 1, 1, 2, 0.4, 0.1, 0.15] 0.8335454853874158\n",
      "[5, 1, 1, 3, 0.4, 0.1, 0.0] 0.7909401802304984\n",
      "[5, 1, 1, 3, 0.4, 0.1, 0.05] 0.8375182386533597\n",
      "[5, 1, 1, 3, 0.4, 0.1, 0.1] 0.8353401140083347\n",
      "[5, 1, 1, 4, 0.4, 0.1, 0.0] 0.7909401802304984\n",
      "[5, 1, 1, 4, 0.4, 0.1, 0.05] 0.8373916831337693\n",
      "[5, 1, 1, 4, 0.4, 0.1, 0.1] 0.8368002709075285\n",
      "[5, 1, 1, 5, 0.4, 0.1, 0.0] 0.7909401802304984\n",
      "[5, 1, 1, 5, 0.4, 0.1, 0.05] 0.8373291740987057\n",
      "[5, 1, 1, 5, 0.4, 0.1, 0.1] 0.8387677525871442\n",
      "[5, 1, 1, 5, 0.4, 0.1, 0.15] 0.8371353816716748\n",
      "[5, 1, 1, 6, 0.4, 0.1, 0.0] 0.7909401802304984\n",
      "[5, 1, 1, 6, 0.4, 0.1, 0.05] 0.8373034607984317\n",
      "[5, 1, 1, 6, 0.4, 0.1, 0.1] 0.8397365301334249\n",
      "[5, 1, 1, 6, 0.4, 0.1, 0.15] 0.8408151840050515\n",
      "[5, 1, 1, 6, 0.4, 0.1, 0.2] 0.8391257646888596\n",
      "[5, 1, 1, 7, 0.4, 0.1, 0.0] 0.7909401802304984\n",
      "[5, 1, 1, 7, 0.4, 0.1, 0.05] 0.8358514349838035\n",
      "[5, 1, 1, 7, 0.4, 0.1, 0.1] 0.8396636238173926\n",
      "[5, 1, 1, 7, 0.4, 0.1, 0.15] 0.8410704387833182\n",
      "[5, 1, 1, 7, 0.4, 0.1, 0.2] 0.8396539638877514\n",
      "[5, 1, 1, 8, 0.4, 0.1, 0.0] 0.7909401802304984\n",
      "[5, 1, 1, 8, 0.4, 0.1, 0.05] 0.8351676783596387\n",
      "[5, 1, 1, 8, 0.4, 0.1, 0.1] 0.8392564697152336\n",
      "[5, 1, 1, 8, 0.4, 0.1, 0.15] 0.8410025349523095\n",
      "[5, 1, 1, 8, 0.4, 0.1, 0.2] 0.8403660422276504\n",
      "[5, 1, 1, 9, 0.4, 0.1, 0.0] 0.7909401802304984\n",
      "[5, 1, 1, 9, 0.4, 0.1, 0.05] 0.8362984409191915\n",
      "[5, 1, 1, 9, 0.4, 0.1, 0.1] 0.8377389240507503\n",
      "[5, 1, 1, 9, 0.4, 0.1, 0.15] 0.8400021384632442\n",
      "[5, 1, 1, 9, 0.4, 0.1, 0.2] 0.8402150365175611\n",
      "[5, 1, 1, 9, 0.4, 0.1, 0.25] 0.8375137736184505\n",
      "[5, 1, 1, 10, 0.4, 0.1, 0.0] 0.7909401802304984\n",
      "[5, 1, 1, 10, 0.4, 0.1, 0.05] 0.8363488074497798\n",
      "[5, 1, 1, 10, 0.4, 0.1, 0.1] 0.8374445868550161\n",
      "[5, 1, 1, 10, 0.4, 0.1, 0.15] 0.8397262432367246\n",
      "[5, 1, 1, 10, 0.4, 0.1, 0.2] 0.8406669542625604\n",
      "[5, 1, 1, 10, 0.4, 0.1, 0.25] 0.8380353912412241\n",
      "[5, 1, 1, 1, 0.45, 0.1, 0.0] 0.7909401802304984\n",
      "[5, 1, 1, 1, 0.45, 0.1, 0.05] 0.8345369458192963\n",
      "[5, 1, 1, 1, 0.45, 0.1, 0.1] 0.834447815409988\n",
      "[5, 1, 1, 2, 0.45, 0.1, 0.0] 0.7909401802304984\n",
      "[5, 1, 1, 2, 0.45, 0.1, 0.05] 0.8334966234128488\n",
      "[5, 1, 1, 2, 0.45, 0.1, 0.1] 0.8341910014440946\n",
      "[5, 1, 1, 2, 0.45, 0.1, 0.15] 0.8325122646346734\n",
      "[5, 1, 1, 3, 0.45, 0.1, 0.0] 0.7909401802304984\n",
      "[5, 1, 1, 3, 0.45, 0.1, 0.05] 0.8371569059908456\n",
      "[5, 1, 1, 3, 0.45, 0.1, 0.1] 0.8353031240083695\n",
      "[5, 1, 1, 4, 0.45, 0.1, 0.0] 0.7909401802304984\n",
      "[5, 1, 1, 4, 0.45, 0.1, 0.05] 0.8369210281849592\n",
      "[5, 1, 1, 4, 0.45, 0.1, 0.1] 0.8375853411618586\n",
      "[5, 1, 1, 4, 0.45, 0.1, 0.15] 0.8361727798565423\n",
      "[5, 1, 1, 5, 0.45, 0.1, 0.0] 0.7909401802304984\n",
      "[5, 1, 1, 5, 0.45, 0.1, 0.05] 0.8379991593984842\n",
      "[5, 1, 1, 5, 0.45, 0.1, 0.1] 0.8391741083492906\n",
      "[5, 1, 1, 5, 0.45, 0.1, 0.15] 0.8384563366037768\n",
      "[5, 1, 1, 6, 0.45, 0.1, 0.0] 0.7909401802304984\n",
      "[5, 1, 1, 6, 0.45, 0.1, 0.05] 0.835786806428822\n",
      "[5, 1, 1, 6, 0.45, 0.1, 0.1] 0.8396948217849315\n",
      "[5, 1, 1, 6, 0.45, 0.1, 0.15] 0.839600902608401\n",
      "[5, 1, 1, 7, 0.45, 0.1, 0.0] 0.7909401802304984\n",
      "[5, 1, 1, 7, 0.45, 0.1, 0.05] 0.8369833272005923\n",
      "[5, 1, 1, 7, 0.45, 0.1, 0.1] 0.8396512019972233\n",
      "[5, 1, 1, 7, 0.45, 0.1, 0.15] 0.8397939481956994\n",
      "[5, 1, 1, 7, 0.45, 0.1, 0.2] 0.8398775200382999\n",
      "[5, 1, 1, 7, 0.45, 0.1, 0.25] 0.8394084426669297\n",
      "[5, 1, 1, 8, 0.45, 0.1, 0.0] 0.7909401802304984\n",
      "[5, 1, 1, 8, 0.45, 0.1, 0.05] 0.8359545900285906\n",
      "[5, 1, 1, 8, 0.45, 0.1, 0.1] 0.8388382186634955\n",
      "[5, 1, 1, 8, 0.45, 0.1, 0.15] 0.8399576094145343\n",
      "[5, 1, 1, 8, 0.45, 0.1, 0.2] 0.84015160424572\n",
      "[5, 1, 1, 8, 0.45, 0.1, 0.25] 0.8372666397291914\n",
      "[5, 1, 1, 9, 0.45, 0.1, 0.0] 0.7909401802304984\n",
      "[5, 1, 1, 9, 0.45, 0.1, 0.05] 0.835780191688898\n",
      "[5, 1, 1, 9, 0.45, 0.1, 0.1] 0.8365420591245535\n",
      "[5, 1, 1, 9, 0.45, 0.1, 0.15] 0.8390691800951533\n",
      "[5, 1, 1, 9, 0.45, 0.1, 0.2] 0.8406792616169204\n",
      "[5, 1, 1, 9, 0.45, 0.1, 0.25] 0.8369963506506769\n",
      "[5, 1, 1, 10, 0.45, 0.1, 0.0] 0.7909401802304984\n",
      "[5, 1, 1, 10, 0.45, 0.1, 0.05] 0.8357048173540346\n",
      "[5, 1, 1, 10, 0.45, 0.1, 0.1] 0.8374153357560749\n",
      "[5, 1, 1, 10, 0.45, 0.1, 0.15] 0.8386327014053289\n",
      "[5, 1, 1, 10, 0.45, 0.1, 0.2] 0.8395394590058597\n",
      "[5, 1, 1, 10, 0.45, 0.1, 0.25] 0.8384000816513808\n",
      "[5, 1, 1, 1, 0.5, 0.1, 0.0] 0.7908991027915652\n",
      "[5, 1, 1, 1, 0.5, 0.1, 0.05] 0.8354461981174486\n",
      "[5, 1, 1, 1, 0.5, 0.1, 0.1] 0.8337513051939425\n",
      "[5, 1, 1, 2, 0.5, 0.1, 0.0] 0.7908991027915652\n",
      "[5, 1, 1, 2, 0.5, 0.1, 0.05] 0.8344430254956146\n",
      "[5, 1, 1, 2, 0.5, 0.1, 0.1] 0.8335245747612855\n",
      "[5, 1, 1, 3, 0.5, 0.1, 0.0] 0.7908991027915652\n",
      "[5, 1, 1, 3, 0.5, 0.1, 0.05] 0.8380365414965691\n",
      "[5, 1, 1, 3, 0.5, 0.1, 0.1] 0.836351691666391\n",
      "[5, 1, 1, 4, 0.5, 0.1, 0.0] 0.7908991027915652\n",
      "[5, 1, 1, 4, 0.5, 0.1, 0.05] 0.837271168709916\n",
      "[5, 1, 1, 4, 0.5, 0.1, 0.1] 0.8379731395765384\n",
      "[5, 1, 1, 4, 0.5, 0.1, 0.15] 0.8361071682206394\n",
      "[5, 1, 1, 5, 0.5, 0.1, 0.0] 0.7908991027915652\n",
      "[5, 1, 1, 5, 0.5, 0.1, 0.05] 0.8369999466604294\n",
      "[5, 1, 1, 5, 0.5, 0.1, 0.1] 0.8391166191500538\n",
      "[5, 1, 1, 5, 0.5, 0.1, 0.15] 0.8382835206351292\n",
      "[5, 1, 1, 6, 0.5, 0.1, 0.0] 0.7908991027915652\n",
      "[5, 1, 1, 6, 0.5, 0.1, 0.05] 0.8366574286293639\n",
      "[5, 1, 1, 6, 0.5, 0.1, 0.1] 0.8400639272067144\n",
      "[5, 1, 1, 6, 0.5, 0.1, 0.15] 0.8398207243181902\n",
      "[5, 1, 1, 7, 0.5, 0.1, 0.0] 0.7908991027915652\n",
      "[5, 1, 1, 7, 0.5, 0.1, 0.05] 0.8361950566220828\n",
      "[5, 1, 1, 7, 0.5, 0.1, 0.1] 0.8395439186512036\n",
      "[5, 1, 1, 7, 0.5, 0.1, 0.15] 0.8398404555050443\n",
      "[5, 1, 1, 7, 0.5, 0.1, 0.2] 0.8385009183950775\n",
      "[5, 1, 1, 8, 0.5, 0.1, 0.0] 0.7908991027915652\n",
      "[5, 1, 1, 8, 0.5, 0.1, 0.05] 0.8356202647122005\n",
      "[5, 1, 1, 8, 0.5, 0.1, 0.1] 0.8374800320558606\n",
      "[5, 1, 1, 8, 0.5, 0.1, 0.15] 0.8394735007581261\n",
      "[5, 1, 1, 8, 0.5, 0.1, 0.2] 0.838477857449436\n",
      "[5, 1, 1, 9, 0.5, 0.1, 0.0] 0.7908991027915652\n",
      "[5, 1, 1, 9, 0.5, 0.1, 0.05] 0.8352919634774718\n",
      "[5, 1, 1, 9, 0.5, 0.1, 0.1] 0.8370666950179675\n",
      "[5, 1, 1, 9, 0.5, 0.1, 0.15] 0.8388040093709196\n",
      "[5, 1, 1, 9, 0.5, 0.1, 0.2] 0.8368462849637561\n",
      "[5, 1, 1, 10, 0.5, 0.1, 0.0] 0.7908991027915652\n",
      "[5, 1, 1, 10, 0.5, 0.1, 0.05] 0.8358756891083307\n",
      "[5, 1, 1, 10, 0.5, 0.1, 0.1] 0.8359023014967751\n",
      "[5, 1, 1, 10, 0.5, 0.1, 0.15] 0.8374063960836801\n",
      "[5, 1, 1, 10, 0.5, 0.1, 0.2] 0.8394474746462196\n",
      "[5, 1, 1, 10, 0.5, 0.1, 0.25] 0.8383300754081079\n",
      "[5, 1, 1, 1, 0.55, 0.1, 0.0] 0.7900793586327072\n",
      "[5, 1, 1, 1, 0.55, 0.1, 0.05] 0.8351222447702579\n",
      "[5, 1, 1, 1, 0.55, 0.1, 0.1] 0.8337344693984409\n",
      "[5, 1, 1, 2, 0.55, 0.1, 0.0] 0.7900793586327072\n",
      "[5, 1, 1, 2, 0.55, 0.1, 0.05] 0.834667412288572\n",
      "[5, 1, 1, 2, 0.55, 0.1, 0.1] 0.8321964226640007\n",
      "[5, 1, 1, 3, 0.55, 0.1, 0.0] 0.7900793586327072\n",
      "[5, 1, 1, 3, 0.55, 0.1, 0.05] 0.8375751126214208\n"
     ]
    },
    {
     "name": "stdout",
     "output_type": "stream",
     "text": [
      "[5, 1, 1, 3, 0.55, 0.1, 0.1] 0.8359394561569305\n",
      "[5, 1, 1, 4, 0.55, 0.1, 0.0] 0.7900793586327072\n",
      "[5, 1, 1, 4, 0.55, 0.1, 0.05] 0.8377565692621368\n",
      "[5, 1, 1, 4, 0.55, 0.1, 0.1] 0.8367547141253066\n",
      "[5, 1, 1, 5, 0.55, 0.1, 0.0] 0.7900793586327072\n",
      "[5, 1, 1, 5, 0.55, 0.1, 0.05] 0.8385439600968123\n",
      "[5, 1, 1, 5, 0.55, 0.1, 0.1] 0.8393887330834836\n",
      "[5, 1, 1, 5, 0.55, 0.1, 0.15] 0.8383640878738028\n",
      "[5, 1, 1, 6, 0.55, 0.1, 0.0] 0.7900793586327072\n",
      "[5, 1, 1, 6, 0.55, 0.1, 0.05] 0.8371053429694798\n",
      "[5, 1, 1, 6, 0.55, 0.1, 0.1] 0.839847732192388\n",
      "[5, 1, 1, 6, 0.55, 0.1, 0.15] 0.8379412287336617\n",
      "[5, 1, 1, 7, 0.55, 0.1, 0.0] 0.7900793586327072\n",
      "[5, 1, 1, 7, 0.55, 0.1, 0.05] 0.8354273036539416\n",
      "[5, 1, 1, 7, 0.55, 0.1, 0.1] 0.8386885827260399\n",
      "[5, 1, 1, 7, 0.55, 0.1, 0.15] 0.838366782316755\n",
      "[5, 1, 1, 8, 0.55, 0.1, 0.0] 0.7900793586327072\n",
      "[5, 1, 1, 8, 0.55, 0.1, 0.05] 0.8349048892954318\n",
      "[5, 1, 1, 8, 0.55, 0.1, 0.1] 0.8373984092656196\n",
      "[5, 1, 1, 8, 0.55, 0.1, 0.15] 0.8387288555395739\n",
      "[5, 1, 1, 8, 0.55, 0.1, 0.2] 0.8377846816333386\n",
      "[5, 1, 1, 9, 0.55, 0.1, 0.0] 0.7900793586327072\n",
      "[5, 1, 1, 9, 0.55, 0.1, 0.05] 0.8345211246695191\n",
      "[5, 1, 1, 9, 0.55, 0.1, 0.1] 0.8369724515079617\n",
      "[5, 1, 1, 9, 0.55, 0.1, 0.15] 0.8366352240372554\n",
      "[5, 1, 1, 10, 0.55, 0.1, 0.0] 0.7900793586327072\n",
      "[5, 1, 1, 10, 0.55, 0.1, 0.05] 0.8341554402671932\n",
      "[5, 1, 1, 10, 0.55, 0.1, 0.1] 0.8355083657852692\n",
      "[5, 1, 1, 10, 0.55, 0.1, 0.15] 0.8381184322698775\n",
      "[5, 1, 1, 10, 0.55, 0.1, 0.2] 0.8366717587393593\n",
      "[5, 1, 1, 1, 0.6, 0.1, 0.0] 0.7900155784765126\n",
      "[5, 1, 1, 1, 0.6, 0.1, 0.05] 0.8360146976343994\n",
      "[5, 1, 1, 1, 0.6, 0.1, 0.1] 0.8346226396294688\n",
      "[5, 1, 1, 2, 0.6, 0.1, 0.0] 0.7900155784765126\n",
      "[5, 1, 1, 2, 0.6, 0.1, 0.05] 0.835469410203647\n",
      "[5, 1, 1, 2, 0.6, 0.1, 0.1] 0.8326555861915068\n",
      "[5, 1, 1, 3, 0.6, 0.1, 0.0] 0.7900155784765126\n",
      "[5, 1, 1, 3, 0.6, 0.1, 0.05] 0.8378550863417056\n",
      "[5, 1, 1, 3, 0.6, 0.1, 0.1] 0.8352540605017552\n",
      "[5, 1, 1, 4, 0.6, 0.1, 0.0] 0.7900155784765126\n",
      "[5, 1, 1, 4, 0.6, 0.1, 0.05] 0.8384860595608403\n",
      "[5, 1, 1, 4, 0.6, 0.1, 0.1] 0.837269517854361\n",
      "[5, 1, 1, 5, 0.6, 0.1, 0.0] 0.7900155784765126\n",
      "[5, 1, 1, 5, 0.6, 0.1, 0.05] 0.8389110281571793\n",
      "[5, 1, 1, 5, 0.6, 0.1, 0.1] 0.8390053213013038\n",
      "[5, 1, 1, 5, 0.6, 0.1, 0.15] 0.8383686319201117\n",
      "[5, 1, 1, 6, 0.6, 0.1, 0.0] 0.7900155784765126\n",
      "[5, 1, 1, 6, 0.6, 0.1, 0.05] 0.8371212035234414\n",
      "[5, 1, 1, 6, 0.6, 0.1, 0.1] 0.8387811256980698\n",
      "[5, 1, 1, 6, 0.6, 0.1, 0.15] 0.8384655551824737\n",
      "[5, 1, 1, 7, 0.6, 0.1, 0.0] 0.7900155784765126\n",
      "[5, 1, 1, 7, 0.6, 0.1, 0.05] 0.8358298822517233\n",
      "[5, 1, 1, 7, 0.6, 0.1, 0.1] 0.83630478949384\n",
      "[5, 1, 1, 7, 0.6, 0.1, 0.15] 0.8385301823885872\n",
      "[5, 1, 1, 7, 0.6, 0.1, 0.2] 0.8383669529849664\n",
      "[5, 1, 1, 8, 0.6, 0.1, 0.0] 0.7900155784765126\n",
      "[5, 1, 1, 8, 0.6, 0.1, 0.05] 0.835997762043579\n",
      "[5, 1, 1, 8, 0.6, 0.1, 0.1] 0.835791385687273\n",
      "[5, 1, 1, 9, 0.6, 0.1, 0.0] 0.7900155784765126\n",
      "[5, 1, 1, 9, 0.6, 0.1, 0.05] 0.8358793946532261\n",
      "[5, 1, 1, 9, 0.6, 0.1, 0.1] 0.8354117777739434\n",
      "[5, 1, 1, 10, 0.6, 0.1, 0.0] 0.7900155784765126\n",
      "[5, 1, 1, 10, 0.6, 0.1, 0.05] 0.8349621232436696\n",
      "[5, 1, 1, 10, 0.6, 0.1, 0.1] 0.8353484064576137\n",
      "[5, 1, 1, 10, 0.6, 0.1, 0.15] 0.837525637617594\n",
      "[5, 1, 1, 10, 0.6, 0.1, 0.2] 0.8374561726565533\n",
      "[5, 1, 1, 1, 0.65, 0.1, 0.0] 0.7900155784765126\n",
      "[5, 1, 1, 1, 0.65, 0.1, 0.05] 0.835619703064349\n",
      "[5, 1, 1, 1, 0.65, 0.1, 0.1] 0.8329497184765665\n",
      "[5, 1, 1, 2, 0.65, 0.1, 0.0] 0.7900155784765126\n",
      "[5, 1, 1, 2, 0.65, 0.1, 0.05] 0.8359965826946246\n",
      "[5, 1, 1, 2, 0.65, 0.1, 0.1] 0.8330814079654681\n",
      "[5, 1, 1, 3, 0.65, 0.1, 0.0] 0.7900155784765126\n",
      "[5, 1, 1, 3, 0.65, 0.1, 0.05] 0.8382707500742169\n",
      "[5, 1, 1, 3, 0.65, 0.1, 0.1] 0.8363619534901032\n",
      "[5, 1, 1, 4, 0.65, 0.1, 0.0] 0.7900155784765126\n",
      "[5, 1, 1, 4, 0.65, 0.1, 0.05] 0.8400975287570492\n",
      "[5, 1, 1, 4, 0.65, 0.1, 0.1] 0.8367215490606846\n",
      "[5, 1, 1, 5, 0.65, 0.1, 0.0] 0.7900155784765126\n",
      "[5, 1, 1, 5, 0.65, 0.1, 0.05] 0.8388750252164119\n",
      "[5, 1, 1, 5, 0.65, 0.1, 0.1] 0.8390053213013038\n",
      "[5, 1, 1, 5, 0.65, 0.1, 0.15] 0.8383576939400487\n",
      "[5, 1, 1, 6, 0.65, 0.1, 0.0] 0.7900155784765126\n",
      "[5, 1, 1, 6, 0.65, 0.1, 0.05] 0.8373276903153248\n",
      "[5, 1, 1, 6, 0.65, 0.1, 0.1] 0.8378765217022854\n",
      "[5, 1, 1, 6, 0.65, 0.1, 0.15] 0.8388609668473935\n",
      "[5, 1, 1, 6, 0.65, 0.1, 0.2] 0.8388224783584899\n",
      "[5, 1, 1, 7, 0.65, 0.1, 0.0] 0.7900155784765126\n",
      "[5, 1, 1, 7, 0.65, 0.1, 0.05] 0.8362705765598106\n",
      "[5, 1, 1, 7, 0.65, 0.1, 0.1] 0.8373722627278186\n",
      "[5, 1, 1, 7, 0.65, 0.1, 0.15] 0.8384583509188592\n",
      "[5, 1, 1, 7, 0.65, 0.1, 0.2] 0.8388692402179073\n",
      "[5, 1, 1, 7, 0.65, 0.1, 0.25] 0.8409853347444785\n",
      "[5, 1, 1, 7, 0.65, 0.1, 0.3] 0.8425629355142149\n",
      "best 0.8425629355142149 [5, 1, 1, 7, 0.65, 0.1, 0.3]\n",
      "[5, 1, 1, 7, 0.65, 0.1, 0.35] 0.8425346418971215\n",
      "[5, 1, 1, 8, 0.65, 0.1, 0.0] 0.7900155784765126\n",
      "[5, 1, 1, 8, 0.65, 0.1, 0.05] 0.8350439758462047\n",
      "[5, 1, 1, 8, 0.65, 0.1, 0.1] 0.8359049016721837\n",
      "[5, 1, 1, 8, 0.65, 0.1, 0.15] 0.8367706589459257\n",
      "[5, 1, 1, 8, 0.65, 0.1, 0.2] 0.8387599152036957\n",
      "[5, 1, 1, 8, 0.65, 0.1, 0.25] 0.8406330262277633\n",
      "[5, 1, 1, 8, 0.65, 0.1, 0.3] 0.8423608538798798\n",
      "[5, 1, 1, 8, 0.65, 0.1, 0.35] 0.841666129349466\n",
      "[5, 1, 1, 9, 0.65, 0.1, 0.0] 0.7900155784765126\n",
      "[5, 1, 1, 9, 0.65, 0.1, 0.05] 0.8351067161456246\n",
      "[5, 1, 1, 9, 0.65, 0.1, 0.1] 0.8365190641958541\n",
      "[5, 1, 1, 9, 0.65, 0.1, 0.15] 0.8371397742236484\n",
      "[5, 1, 1, 9, 0.65, 0.1, 0.2] 0.8373628131314977\n",
      "[5, 1, 1, 9, 0.65, 0.1, 0.25] 0.8383490978599105\n",
      "[5, 1, 1, 9, 0.65, 0.1, 0.3] 0.839972304508608\n",
      "[5, 1, 1, 9, 0.65, 0.1, 0.35] 0.841605692173174\n",
      "[5, 1, 1, 9, 0.65, 0.1, 0.4] 0.8416877445134369\n",
      "[5, 1, 1, 9, 0.65, 0.1, 0.45] 0.8414329257613452\n",
      "[5, 1, 1, 10, 0.65, 0.1, 0.0] 0.7900155784765126\n",
      "[5, 1, 1, 10, 0.65, 0.1, 0.05] 0.8351960905054504\n",
      "[5, 1, 1, 10, 0.65, 0.1, 0.1] 0.835547675809552\n",
      "[5, 1, 1, 10, 0.65, 0.1, 0.15] 0.8374879394600135\n",
      "[5, 1, 1, 10, 0.65, 0.1, 0.2] 0.836287701726291\n",
      "[5, 1, 1, 1, 0.7, 0.1, 0.0] 0.7910712589033898\n",
      "[5, 1, 1, 1, 0.7, 0.1, 0.05] 0.8365043753156183\n",
      "[5, 1, 1, 1, 0.7, 0.1, 0.1] 0.8331859262507104\n",
      "[5, 1, 1, 2, 0.7, 0.1, 0.0] 0.7910712589033898\n",
      "[5, 1, 1, 2, 0.7, 0.1, 0.05] 0.8350356747001694\n",
      "[5, 1, 1, 2, 0.7, 0.1, 0.1] 0.832084196712514\n",
      "[5, 1, 1, 3, 0.7, 0.1, 0.0] 0.7910712589033898\n",
      "[5, 1, 1, 3, 0.7, 0.1, 0.05] 0.8378119534820109\n",
      "[5, 1, 1, 3, 0.7, 0.1, 0.1] 0.8362060321740106\n",
      "[5, 1, 1, 4, 0.7, 0.1, 0.0] 0.7910712589033898\n",
      "[5, 1, 1, 4, 0.7, 0.1, 0.05] 0.8402461217645757\n",
      "[5, 1, 1, 4, 0.7, 0.1, 0.1] 0.8372208957684896\n",
      "[5, 1, 1, 5, 0.7, 0.1, 0.0] 0.7910712589033898\n",
      "[5, 1, 1, 5, 0.7, 0.1, 0.05] 0.8379923467213671\n",
      "[5, 1, 1, 5, 0.7, 0.1, 0.1] 0.8390335868877978\n",
      "[5, 1, 1, 5, 0.7, 0.1, 0.15] 0.8382957042519708\n",
      "[5, 1, 1, 6, 0.7, 0.1, 0.0] 0.7910712589033898\n",
      "[5, 1, 1, 6, 0.7, 0.1, 0.05] 0.8375443293796694\n",
      "[5, 1, 1, 6, 0.7, 0.1, 0.1] 0.8383366108242309\n",
      "[5, 1, 1, 6, 0.7, 0.1, 0.15] 0.8384182924836185\n",
      "[5, 1, 1, 6, 0.7, 0.1, 0.2] 0.8388224783584899\n",
      "[5, 1, 1, 6, 0.7, 0.1, 0.25] 0.8399878940515751\n",
      "[5, 1, 1, 6, 0.7, 0.1, 0.3] 0.8411907878892257\n",
      "[5, 1, 1, 6, 0.7, 0.1, 0.35] 0.8399920753782775\n",
      "[5, 1, 1, 7, 0.7, 0.1, 0.0] 0.7910712589033898\n",
      "[5, 1, 1, 7, 0.7, 0.1, 0.05] 0.8366063084694252\n",
      "[5, 1, 1, 7, 0.7, 0.1, 0.1] 0.8375683996070137\n",
      "[5, 1, 1, 7, 0.7, 0.1, 0.15] 0.8387936554998267\n",
      "[5, 1, 1, 7, 0.7, 0.1, 0.2] 0.8388906086857828\n",
      "[5, 1, 1, 7, 0.7, 0.1, 0.25] 0.8408868318772317\n",
      "[5, 1, 1, 7, 0.7, 0.1, 0.3] 0.8429683632891642\n",
      "best 0.8429683632891642 [5, 1, 1, 7, 0.7, 0.1, 0.3]\n",
      "[5, 1, 1, 7, 0.7, 0.1, 0.35] 0.8424366219380044\n",
      "[5, 1, 1, 8, 0.7, 0.1, 0.0] 0.7910712589033898\n",
      "[5, 1, 1, 8, 0.7, 0.1, 0.05] 0.8350439758462047\n",
      "[5, 1, 1, 8, 0.7, 0.1, 0.1] 0.8366282831968821\n",
      "[5, 1, 1, 8, 0.7, 0.1, 0.15] 0.8366752001302815\n",
      "[5, 1, 1, 8, 0.7, 0.1, 0.2] 0.8388836084056729\n",
      "[5, 1, 1, 8, 0.7, 0.1, 0.25] 0.8401585876530426\n",
      "[5, 1, 1, 8, 0.7, 0.1, 0.3] 0.8423959896956081\n",
      "[5, 1, 1, 8, 0.7, 0.1, 0.35] 0.8425317596794593\n",
      "[5, 1, 1, 8, 0.7, 0.1, 0.4] 0.8427003114153457\n",
      "[5, 1, 1, 8, 0.7, 0.1, 0.45] 0.840946109813412\n",
      "[5, 1, 1, 9, 0.7, 0.1, 0.0] 0.7910712589033898\n",
      "[5, 1, 1, 9, 0.7, 0.1, 0.05] 0.8350495285953141\n",
      "[5, 1, 1, 9, 0.7, 0.1, 0.1] 0.8372683990894698\n",
      "[5, 1, 1, 9, 0.7, 0.1, 0.15] 0.8369852618258039\n",
      "[5, 1, 1, 10, 0.7, 0.1, 0.0] 0.7910712589033898\n",
      "[5, 1, 1, 10, 0.7, 0.1, 0.05] 0.8351782232047019\n",
      "[5, 1, 1, 10, 0.7, 0.1, 0.1] 0.8358187171305435\n",
      "[5, 1, 1, 10, 0.7, 0.1, 0.15] 0.8379245871017336\n",
      "[5, 1, 1, 10, 0.7, 0.1, 0.2] 0.8363301891295397\n"
     ]
    },
    {
     "name": "stdout",
     "output_type": "stream",
     "text": [
      "[5, 1, 1, 1, 0.75, 0.1, 0.0] 0.7899554773335098\n",
      "[5, 1, 1, 1, 0.75, 0.1, 0.05] 0.8351167077802563\n",
      "[5, 1, 1, 1, 0.75, 0.1, 0.1] 0.8330864309758353\n",
      "[5, 1, 1, 2, 0.75, 0.1, 0.0] 0.7899554773335098\n",
      "[5, 1, 1, 2, 0.75, 0.1, 0.05] 0.834530656484797\n",
      "[5, 1, 1, 2, 0.75, 0.1, 0.1] 0.8343038393758697\n",
      "[5, 1, 1, 3, 0.75, 0.1, 0.0] 0.7899554773335098\n",
      "[5, 1, 1, 3, 0.75, 0.1, 0.05] 0.8375688377321516\n",
      "[5, 1, 1, 3, 0.75, 0.1, 0.1] 0.835388566991749\n",
      "[5, 1, 1, 4, 0.75, 0.1, 0.0] 0.7899554773335098\n",
      "[5, 1, 1, 4, 0.75, 0.1, 0.05] 0.8398741505664281\n",
      "[5, 1, 1, 4, 0.75, 0.1, 0.1] 0.8375873095461454\n",
      "[5, 1, 1, 5, 0.75, 0.1, 0.0] 0.7899554773335098\n",
      "[5, 1, 1, 5, 0.75, 0.1, 0.05] 0.8381208492045678\n",
      "[5, 1, 1, 5, 0.75, 0.1, 0.1] 0.8390073674453072\n",
      "[5, 1, 1, 5, 0.75, 0.1, 0.15] 0.8382957042519708\n",
      "[5, 1, 1, 6, 0.75, 0.1, 0.0] 0.7899554773335098\n",
      "[5, 1, 1, 6, 0.75, 0.1, 0.05] 0.8375765317391366\n",
      "[5, 1, 1, 6, 0.75, 0.1, 0.1] 0.8385261427254885\n",
      "[5, 1, 1, 6, 0.75, 0.1, 0.15] 0.8390026066634275\n",
      "[5, 1, 1, 6, 0.75, 0.1, 0.2] 0.8412216096134338\n",
      "[5, 1, 1, 6, 0.75, 0.1, 0.25] 0.8415098114033489\n",
      "[5, 1, 1, 6, 0.75, 0.1, 0.3] 0.8407155566885897\n",
      "[5, 1, 1, 7, 0.75, 0.1, 0.0] 0.7899554773335098\n",
      "[5, 1, 1, 7, 0.75, 0.1, 0.05] 0.836582210624894\n",
      "[5, 1, 1, 7, 0.75, 0.1, 0.1] 0.838905038904505\n",
      "[5, 1, 1, 7, 0.75, 0.1, 0.15] 0.8385097823363432\n",
      "[5, 1, 1, 8, 0.75, 0.1, 0.0] 0.7899554773335098\n",
      "[5, 1, 1, 8, 0.75, 0.1, 0.05] 0.8361244459307304\n",
      "[5, 1, 1, 8, 0.75, 0.1, 0.1] 0.8377203033767662\n",
      "[5, 1, 1, 8, 0.75, 0.1, 0.15] 0.8363569096176333\n",
      "[5, 1, 1, 9, 0.75, 0.1, 0.0] 0.7899554773335098\n",
      "[5, 1, 1, 9, 0.75, 0.1, 0.05] 0.835676216479152\n",
      "[5, 1, 1, 9, 0.75, 0.1, 0.1] 0.8376840393015245\n",
      "[5, 1, 1, 9, 0.75, 0.1, 0.15] 0.8387696994142467\n",
      "[5, 1, 1, 9, 0.75, 0.1, 0.2] 0.8367994911922375\n",
      "[5, 1, 1, 10, 0.75, 0.1, 0.0] 0.7899554773335098\n",
      "[5, 1, 1, 10, 0.75, 0.1, 0.05] 0.836067577432824\n",
      "[5, 1, 1, 10, 0.75, 0.1, 0.1] 0.837239099592584\n",
      "[5, 1, 1, 10, 0.75, 0.1, 0.15] 0.8383851382889516\n",
      "[5, 1, 1, 10, 0.75, 0.1, 0.2] 0.8366420577008036\n",
      "[5, 1, 1, 1, 0.8, 0.1, 0.0] 0.7899554773335098\n",
      "[5, 1, 1, 1, 0.8, 0.1, 0.05] 0.8351335728621414\n",
      "[5, 1, 1, 1, 0.8, 0.1, 0.1] 0.8336574751160437\n",
      "[5, 1, 1, 2, 0.8, 0.1, 0.0] 0.7899554773335098\n",
      "[5, 1, 1, 2, 0.8, 0.1, 0.05] 0.8353759424950986\n",
      "[5, 1, 1, 2, 0.8, 0.1, 0.1] 0.8342919278373685\n",
      "[5, 1, 1, 3, 0.8, 0.1, 0.0] 0.7899554773335098\n",
      "[5, 1, 1, 3, 0.8, 0.1, 0.05] 0.8386583721229972\n",
      "[5, 1, 1, 3, 0.8, 0.1, 0.1] 0.8353217085738907\n",
      "[5, 1, 1, 4, 0.8, 0.1, 0.0] 0.7899554773335098\n",
      "[5, 1, 1, 4, 0.8, 0.1, 0.05] 0.8401221178257771\n",
      "[5, 1, 1, 4, 0.8, 0.1, 0.1] 0.8370630936991886\n",
      "[5, 1, 1, 5, 0.8, 0.1, 0.0] 0.7899554773335098\n",
      "[5, 1, 1, 5, 0.8, 0.1, 0.05] 0.8392855684372577\n",
      "[5, 1, 1, 5, 0.8, 0.1, 0.1] 0.8380610375677678\n",
      "[5, 1, 1, 6, 0.8, 0.1, 0.0] 0.7899554773335098\n",
      "[5, 1, 1, 6, 0.8, 0.1, 0.05] 0.8385729494870883\n",
      "[5, 1, 1, 6, 0.8, 0.1, 0.1] 0.8393326707860975\n",
      "[5, 1, 1, 6, 0.8, 0.1, 0.15] 0.8393418323563202\n",
      "[5, 1, 1, 6, 0.8, 0.1, 0.2] 0.8413465461919142\n",
      "[5, 1, 1, 6, 0.8, 0.1, 0.25] 0.8408845120671782\n",
      "[5, 1, 1, 7, 0.8, 0.1, 0.0] 0.7899554773335098\n",
      "[5, 1, 1, 7, 0.8, 0.1, 0.05] 0.8365775700880196\n",
      "[5, 1, 1, 7, 0.8, 0.1, 0.1] 0.8388490057795014\n",
      "[5, 1, 1, 7, 0.8, 0.1, 0.15] 0.837925280597784\n",
      "[5, 1, 1, 8, 0.8, 0.1, 0.0] 0.7899554773335098\n",
      "[5, 1, 1, 8, 0.8, 0.1, 0.05] 0.8356432421458024\n",
      "[5, 1, 1, 8, 0.8, 0.1, 0.1] 0.8378797060957685\n",
      "[5, 1, 1, 8, 0.8, 0.1, 0.15] 0.8378346924556954\n",
      "[5, 1, 1, 9, 0.8, 0.1, 0.0] 0.7899554773335098\n",
      "[5, 1, 1, 9, 0.8, 0.1, 0.05] 0.8360898590727529\n",
      "[5, 1, 1, 9, 0.8, 0.1, 0.1] 0.8376741444344867\n",
      "[5, 1, 1, 9, 0.8, 0.1, 0.15] 0.8379983753338598\n",
      "[5, 1, 1, 9, 0.8, 0.1, 0.2] 0.8372208257293284\n",
      "[5, 1, 1, 10, 0.8, 0.1, 0.0] 0.7899554773335098\n",
      "[5, 1, 1, 10, 0.8, 0.1, 0.05] 0.8365022126472813\n",
      "[5, 1, 1, 10, 0.8, 0.1, 0.1] 0.8372445018157776\n",
      "[5, 1, 1, 10, 0.8, 0.1, 0.15] 0.8379589183698728\n",
      "[5, 1, 1, 10, 0.8, 0.1, 0.2] 0.8367446572334867\n",
      "[5, 1, 1, 1, 0.85, 0.1, 0.0] 0.7884488722161184\n",
      "[5, 1, 1, 1, 0.85, 0.1, 0.05] 0.8364550029731771\n",
      "[5, 1, 1, 1, 0.85, 0.1, 0.1] 0.833249212457076\n",
      "[5, 1, 1, 2, 0.85, 0.1, 0.0] 0.7884488722161184\n",
      "[5, 1, 1, 2, 0.85, 0.1, 0.05] 0.8362700274862662\n",
      "[5, 1, 1, 2, 0.85, 0.1, 0.1] 0.8340626071155844\n",
      "[5, 1, 1, 3, 0.85, 0.1, 0.0] 0.7884488722161184\n",
      "[5, 1, 1, 3, 0.85, 0.1, 0.05] 0.8402320832214866\n",
      "[5, 1, 1, 3, 0.85, 0.1, 0.1] 0.8353217085738907\n",
      "[5, 1, 1, 4, 0.85, 0.1, 0.0] 0.7884488722161184\n",
      "[5, 1, 1, 4, 0.85, 0.1, 0.05] 0.838858718926487\n",
      "[5, 1, 1, 4, 0.85, 0.1, 0.1] 0.8374749085634274\n",
      "[5, 1, 1, 5, 0.85, 0.1, 0.0] 0.7884488722161184\n",
      "[5, 1, 1, 5, 0.85, 0.1, 0.05] 0.8402276117122478\n",
      "[5, 1, 1, 5, 0.85, 0.1, 0.1] 0.8370111750500673\n",
      "[5, 1, 1, 6, 0.85, 0.1, 0.0] 0.7884488722161184\n",
      "[5, 1, 1, 6, 0.85, 0.1, 0.05] 0.8386593119715968\n",
      "[5, 1, 1, 6, 0.85, 0.1, 0.1] 0.839014081355976\n",
      "[5, 1, 1, 6, 0.85, 0.1, 0.15] 0.8388766428260414\n",
      "[5, 1, 1, 7, 0.85, 0.1, 0.0] 0.7884488722161184\n",
      "[5, 1, 1, 7, 0.85, 0.1, 0.05] 0.8372025611368902\n",
      "[5, 1, 1, 7, 0.85, 0.1, 0.1] 0.8389872867972378\n",
      "[5, 1, 1, 7, 0.85, 0.1, 0.15] 0.8378556807118077\n",
      "[5, 1, 1, 8, 0.85, 0.1, 0.0] 0.7884488722161184\n",
      "[5, 1, 1, 8, 0.85, 0.1, 0.05] 0.8377735683819575\n",
      "[5, 1, 1, 8, 0.85, 0.1, 0.1] 0.8377139670728865\n",
      "[5, 1, 1, 9, 0.85, 0.1, 0.0] 0.7884488722161184\n",
      "[5, 1, 1, 9, 0.85, 0.1, 0.05] 0.8382004419984715\n",
      "[5, 1, 1, 9, 0.85, 0.1, 0.1] 0.8381262589526516\n",
      "[5, 1, 1, 10, 0.85, 0.1, 0.0] 0.7884488722161184\n",
      "[5, 1, 1, 10, 0.85, 0.1, 0.05] 0.8381748619513801\n",
      "[5, 1, 1, 10, 0.85, 0.1, 0.1] 0.8372445018157776\n",
      "[5, 1, 1, 1, 0.9, 0.1, 0.0] 0.7884488722161184\n",
      "[5, 1, 1, 1, 0.9, 0.1, 0.05] 0.8363919533906283\n",
      "[5, 1, 1, 1, 0.9, 0.1, 0.1] 0.8305131100057908\n",
      "[5, 1, 1, 2, 0.9, 0.1, 0.0] 0.7884488722161184\n",
      "[5, 1, 1, 2, 0.9, 0.1, 0.05] 0.8367076507662103\n",
      "[5, 1, 1, 2, 0.9, 0.1, 0.1] 0.8342252865134164\n",
      "[5, 1, 1, 3, 0.9, 0.1, 0.0] 0.7884488722161184\n",
      "[5, 1, 1, 3, 0.9, 0.1, 0.05] 0.8394404468610581\n",
      "[5, 1, 1, 3, 0.9, 0.1, 0.1] 0.8351887704629991\n",
      "[5, 1, 1, 4, 0.9, 0.1, 0.0] 0.7884488722161184\n",
      "[5, 1, 1, 4, 0.9, 0.1, 0.05] 0.8389254689618166\n",
      "[5, 1, 1, 4, 0.9, 0.1, 0.1] 0.8373782633349325\n",
      "[5, 1, 1, 5, 0.9, 0.1, 0.0] 0.7884488722161184\n",
      "[5, 1, 1, 5, 0.9, 0.1, 0.05] 0.8403045973452107\n",
      "[5, 1, 1, 5, 0.9, 0.1, 0.1] 0.8364462825118\n",
      "[5, 1, 1, 6, 0.9, 0.1, 0.0] 0.7884488722161184\n",
      "[5, 1, 1, 6, 0.9, 0.1, 0.05] 0.837881528856798\n",
      "[5, 1, 1, 6, 0.9, 0.1, 0.1] 0.8386266557423349\n",
      "[5, 1, 1, 6, 0.9, 0.1, 0.15] 0.8388766428260414\n",
      "[5, 1, 1, 6, 0.9, 0.1, 0.2] 0.8422413530819622\n",
      "[5, 1, 1, 6, 0.9, 0.1, 0.25] 0.8417030468802097\n",
      "[5, 1, 1, 7, 0.9, 0.1, 0.0] 0.7884488722161184\n",
      "[5, 1, 1, 7, 0.9, 0.1, 0.05] 0.8372508128459906\n",
      "[5, 1, 1, 7, 0.9, 0.1, 0.1] 0.8383401760212471\n",
      "[5, 1, 1, 7, 0.9, 0.1, 0.15] 0.8370939404831587\n",
      "[5, 1, 1, 8, 0.9, 0.1, 0.0] 0.7884488722161184\n",
      "[5, 1, 1, 8, 0.9, 0.1, 0.05] 0.8388240171790652\n",
      "[5, 1, 1, 8, 0.9, 0.1, 0.1] 0.8397114331074869\n",
      "[5, 1, 1, 8, 0.9, 0.1, 0.15] 0.8371344970489049\n",
      "[5, 1, 1, 9, 0.9, 0.1, 0.0] 0.7884488722161184\n",
      "[5, 1, 1, 9, 0.9, 0.1, 0.05] 0.8377017832258609\n",
      "[5, 1, 1, 9, 0.9, 0.1, 0.1] 0.8376724227735745\n",
      "[5, 1, 1, 10, 0.9, 0.1, 0.0] 0.7884488722161184\n",
      "[5, 1, 1, 10, 0.9, 0.1, 0.05] 0.8382166013627987\n",
      "[5, 1, 1, 10, 0.9, 0.1, 0.1] 0.8376609905216668\n",
      "[5, 1, 1, 1, 0.95, 0.1, 0.0] 0.7889614115568602\n",
      "[5, 1, 1, 1, 0.95, 0.1, 0.05] 0.8358848408027836\n",
      "[5, 1, 1, 1, 0.95, 0.1, 0.1] 0.8305131100057908\n",
      "[5, 1, 1, 2, 0.95, 0.1, 0.0] 0.7889614115568602\n",
      "[5, 1, 1, 2, 0.95, 0.1, 0.05] 0.836372460095012\n",
      "[5, 1, 1, 2, 0.95, 0.1, 0.1] 0.8305782069743778\n",
      "[5, 1, 1, 3, 0.95, 0.1, 0.0] 0.7889614115568602\n",
      "[5, 1, 1, 3, 0.95, 0.1, 0.05] 0.8394996826981577\n",
      "[5, 1, 1, 3, 0.95, 0.1, 0.1] 0.8351887704629991\n",
      "[5, 1, 1, 4, 0.95, 0.1, 0.0] 0.7889614115568602\n",
      "[5, 1, 1, 4, 0.95, 0.1, 0.05] 0.8389266424517405\n",
      "[5, 1, 1, 4, 0.95, 0.1, 0.1] 0.8375483313621432\n",
      "[5, 1, 1, 5, 0.95, 0.1, 0.0] 0.7889614115568602\n",
      "[5, 1, 1, 5, 0.95, 0.1, 0.05] 0.8401994838301459\n",
      "[5, 1, 1, 5, 0.95, 0.1, 0.1] 0.8367594063756139\n",
      "[5, 1, 1, 6, 0.95, 0.1, 0.0] 0.7889614115568602\n",
      "[5, 1, 1, 6, 0.95, 0.1, 0.05] 0.8382479410592997\n",
      "[5, 1, 1, 6, 0.95, 0.1, 0.1] 0.8390797127973163\n",
      "[5, 1, 1, 6, 0.95, 0.1, 0.15] 0.8375431909390166\n",
      "[5, 1, 1, 7, 0.95, 0.1, 0.0] 0.7889614115568602\n",
      "[5, 1, 1, 7, 0.95, 0.1, 0.05] 0.8373185643982884\n",
      "[5, 1, 1, 7, 0.95, 0.1, 0.1] 0.8378104145603655\n",
      "[5, 1, 1, 7, 0.95, 0.1, 0.15] 0.8371174750887366\n",
      "[5, 1, 1, 8, 0.95, 0.1, 0.0] 0.7889614115568602\n"
     ]
    },
    {
     "name": "stdout",
     "output_type": "stream",
     "text": [
      "[5, 1, 1, 8, 0.95, 0.1, 0.05] 0.8389370793435964\n",
      "[5, 1, 1, 8, 0.95, 0.1, 0.1] 0.8395904243230332\n",
      "[5, 1, 1, 8, 0.95, 0.1, 0.15] 0.8378494975964433\n",
      "[5, 1, 1, 9, 0.95, 0.1, 0.0] 0.7889614115568602\n",
      "[5, 1, 1, 9, 0.95, 0.1, 0.05] 0.8382504178529129\n",
      "[5, 1, 1, 9, 0.95, 0.1, 0.1] 0.8375833147754903\n",
      "[5, 1, 1, 10, 0.95, 0.1, 0.0] 0.7889614115568602\n",
      "[5, 1, 1, 10, 0.95, 0.1, 0.05] 0.8367375063652994\n",
      "[5, 1, 1, 10, 0.95, 0.1, 0.1] 0.8371977189663273\n",
      "[5, 1, 1, 10, 0.95, 0.1, 0.15] 0.8377349715752332\n",
      "[5, 1, 1, 10, 0.95, 0.1, 0.2] 0.83873614294577\n",
      "[5, 1, 1, 10, 0.95, 0.1, 0.25] 0.8382519625459546\n",
      "[5, 1, 1, 1, 1.0, 0.1, 0.0] 0.7938358842685733\n",
      "[5, 1, 1, 1, 1.0, 0.1, 0.05] 0.8360359984201625\n",
      "[5, 1, 1, 1, 1.0, 0.1, 0.1] 0.8301412117098739\n",
      "[5, 1, 1, 2, 1.0, 0.1, 0.0] 0.7938358842685733\n",
      "[5, 1, 1, 2, 1.0, 0.1, 0.05] 0.8363811771596793\n",
      "[5, 1, 1, 2, 1.0, 0.1, 0.1] 0.8299933842696577\n",
      "[5, 1, 1, 3, 1.0, 0.1, 0.0] 0.7938358842685733\n",
      "[5, 1, 1, 3, 1.0, 0.1, 0.05] 0.8388493339784118\n",
      "[5, 1, 1, 3, 1.0, 0.1, 0.1] 0.8367729456583811\n",
      "[5, 1, 1, 4, 1.0, 0.1, 0.0] 0.7938358842685733\n",
      "[5, 1, 1, 4, 1.0, 0.1, 0.05] 0.8389287279254284\n",
      "[5, 1, 1, 4, 1.0, 0.1, 0.1] 0.8375703865684219\n",
      "[5, 1, 1, 5, 1.0, 0.1, 0.0] 0.7938358842685733\n",
      "[5, 1, 1, 5, 1.0, 0.1, 0.05] 0.8394346575777413\n",
      "[5, 1, 1, 5, 1.0, 0.1, 0.1] 0.8373626528034214\n",
      "[5, 1, 1, 6, 1.0, 0.1, 0.0] 0.7938358842685733\n",
      "[5, 1, 1, 6, 1.0, 0.1, 0.05] 0.8392338780675982\n",
      "[5, 1, 1, 6, 1.0, 0.1, 0.1] 0.8391777959177118\n",
      "[5, 1, 1, 7, 1.0, 0.1, 0.0] 0.7938358842685733\n",
      "[5, 1, 1, 7, 1.0, 0.1, 0.05] 0.8383667298491381\n",
      "[5, 1, 1, 7, 1.0, 0.1, 0.1] 0.8386911324987694\n",
      "[5, 1, 1, 7, 1.0, 0.1, 0.15] 0.8367145071801639\n",
      "[5, 1, 1, 8, 1.0, 0.1, 0.0] 0.7938358842685733\n",
      "[5, 1, 1, 8, 1.0, 0.1, 0.05] 0.8379802161023102\n",
      "[5, 1, 1, 8, 1.0, 0.1, 0.1] 0.8387513546374292\n",
      "[5, 1, 1, 8, 1.0, 0.1, 0.15] 0.8376458737211702\n",
      "[5, 1, 1, 9, 1.0, 0.1, 0.0] 0.7938358842685733\n",
      "[5, 1, 1, 9, 1.0, 0.1, 0.05] 0.8358442152459563\n",
      "[5, 1, 1, 9, 1.0, 0.1, 0.1] 0.8383094184035264\n",
      "[5, 1, 1, 9, 1.0, 0.1, 0.15] 0.8383544729272068\n",
      "[5, 1, 1, 9, 1.0, 0.1, 0.2] 0.8381760113268114\n",
      "[5, 1, 1, 10, 1.0, 0.1, 0.0] 0.7938358842685733\n",
      "[5, 1, 1, 10, 1.0, 0.1, 0.05] 0.8358945734012282\n",
      "[5, 1, 1, 10, 1.0, 0.1, 0.1] 0.8373083693036458\n",
      "[5, 1, 1, 10, 1.0, 0.1, 0.15] 0.8377349715752332\n",
      "[5, 1, 1, 10, 1.0, 0.1, 0.2] 0.8387038941087982\n",
      "[5, 1, 1, 10, 1.0, 0.1, 0.25] 0.8383315937751599\n"
     ]
    }
   ],
   "source": [
    "# Do optimization to find best cut-off and lambda local param values (rather than just cross-entropy as not straightforward)\n",
    "# find best lambda local and cut-off word through cross-val testing, pick one with highest accuracy\n",
    "OPTIMIZING = False\n",
    "if OPTIMIZING:\n",
    "    \n",
    "    # assume these are the same (could be incorrect)\n",
    "    n_self = opt_params['n_self'] \n",
    "    k_self = opt_params['k_self']\n",
    "\n",
    "    print(TEST, HELDOUT, EXTRA_HELDOUT)\n",
    "    \n",
    "    results = {}\n",
    "    results_file = open(datetime.datetime.now().isoformat() + \"_reduced.csv\", \"w\")\n",
    "    results_file.write(\",\".join(['num_pairs', 'n_other', 'n_self', 'cutoff_word_global_lm', 'k_other', 'k_self', 'lambda_local', 'fscore']) + \"\\n\")\n",
    "    \n",
    "    for num_pairs in range(1,6):  # Full model is using 6 folds for training in cross val\n",
    "        \n",
    "        #cross_val_pairs = list(filter(lambda x:x not in [TEST, HELDOUT, EXTRA_HELDOUT], references_per_pair.keys()))[:num_pairs-1]\n",
    "        #cross_val_pairs.extend([HELDOUT, EXTRA_HELDOUT])\n",
    "        #print(num_pairs, cross_val_pairs)\n",
    "        #cross_val_data = {k:references_per_pair[k] for k in filter(lambda x:x in cross_val_pairs, references_per_pair.keys())}\n",
    "        \n",
    "        \n",
    "        best_f = 0\n",
    "        best_params = []\n",
    "        for n_other in range(1,2): #1\n",
    "            for k_other_raw in range(5,105,5): #20\n",
    "                k_other = k_other_raw/100\n",
    "                for cutoff_word_global_lm in range(1,11): #200\n",
    "                    # assume convex - not quite right but nearly \n",
    "                    prev = 0\n",
    "                    for lambda_local_raw in range(0,105,5): #4_000 params max, at least 4_00!\n",
    "                        lambda_local = lambda_local_raw/100\n",
    "                        all_scores = []\n",
    "                        for test in list(filter(lambda x:x!=TEST, references_per_pair.keys())):\n",
    "                            heldout = HELDOUT if test!=HELDOUT else EXTRA_HELDOUT # use the heldout when training on full dataset to simulate same lm sizes as in development\n",
    "                            other_pairs = list(filter(lambda x:x not in [heldout, test], \n",
    "                                                      [HELDOUT, EXTRA_HELDOUT] + list(filter(lambda x:x not in [HELDOUT, EXTRA_HELDOUT], ['r1', 'r2', 'r3', 'r4', 'r5', 'r7', 'r8']))))\n",
    "                            cross_val_pairs = [heldout, test] + other_pairs[:num_pairs-1]\n",
    "                            #print(cross_val_pairs, test, heldout)\n",
    "                            cross_val_data = {k:references_per_pair[k] for k in filter(lambda x:x in cross_val_pairs, references_per_pair.keys())}\n",
    "                            #print(\"heldout\", heldout) \n",
    "                            #print(cross_val_data.keys(), test)\n",
    "                            fscore, preds, labels = get_fscore_and_preds(cross_val_data, test, heldout, n_other, n_self, k_other, k_self, lambda_local, cutoff_word_global_lm,\n",
    "                                                                        )\n",
    "                            all_scores.append(fscore)\n",
    "                        mean_f = np.mean(all_scores)\n",
    "                        test_params = [num_pairs, n_other, n_self, cutoff_word_global_lm, k_other, k_self, lambda_local]\n",
    "                        print(test_params, mean_f)\n",
    "                        if mean_f < prev: # assume convex - not quite right but nearly \n",
    "                            break\n",
    "                        prev = mean_f\n",
    "                        results[\",\".join([str(f) for f in test_params])] = mean_f\n",
    "                        if mean_f == best_f:\n",
    "                            best_params = [best_params, test_params]\n",
    "                        elif mean_f > best_f:\n",
    "                            best_f = mean_f\n",
    "                            best_params = test_params\n",
    "                            print(\"best\", best_f, best_params)\n",
    "                #results_file = open(\"results\" + datetime.time)\n",
    "                #for row in sorted(results.items(), key=lambda x:x[1], reverse=True):\n",
    "    \n",
    "    for params, result in sorted(results.items(), key=lambda x:x[1], reverse=True):\n",
    "        results_file.write(params + \",\" + str(result) + \"\\n\")\n",
    "    results_file.close()\n"
   ]
  },
  {
   "cell_type": "code",
   "execution_count": 157,
   "metadata": {},
   "outputs": [],
   "source": []
  },
  {
   "cell_type": "code",
   "execution_count": 461,
   "metadata": {},
   "outputs": [
    {
     "data": {
      "text/html": [
       "<div>\n",
       "<style scoped>\n",
       "    .dataframe tbody tr th:only-of-type {\n",
       "        vertical-align: middle;\n",
       "    }\n",
       "\n",
       "    .dataframe tbody tr th {\n",
       "        vertical-align: top;\n",
       "    }\n",
       "\n",
       "    .dataframe thead th {\n",
       "        text-align: right;\n",
       "    }\n",
       "</style>\n",
       "<table border=\"1\" class=\"dataframe\">\n",
       "  <thead>\n",
       "    <tr style=\"text-align: right;\">\n",
       "      <th></th>\n",
       "      <th>num_pairs</th>\n",
       "      <th>n_other</th>\n",
       "      <th>n_self</th>\n",
       "      <th>cutoff_word_global_lm</th>\n",
       "      <th>k_other</th>\n",
       "      <th>k_self</th>\n",
       "      <th>lambda_local</th>\n",
       "      <th>fscore</th>\n",
       "    </tr>\n",
       "  </thead>\n",
       "  <tbody>\n",
       "    <tr>\n",
       "      <th>0</th>\n",
       "      <td>1</td>\n",
       "      <td>1</td>\n",
       "      <td>1</td>\n",
       "      <td>7</td>\n",
       "      <td>0.10</td>\n",
       "      <td>0.1</td>\n",
       "      <td>0.10</td>\n",
       "      <td>0.783648</td>\n",
       "    </tr>\n",
       "    <tr>\n",
       "      <th>1</th>\n",
       "      <td>1</td>\n",
       "      <td>1</td>\n",
       "      <td>1</td>\n",
       "      <td>8</td>\n",
       "      <td>0.20</td>\n",
       "      <td>0.1</td>\n",
       "      <td>0.25</td>\n",
       "      <td>0.783520</td>\n",
       "    </tr>\n",
       "    <tr>\n",
       "      <th>2</th>\n",
       "      <td>1</td>\n",
       "      <td>1</td>\n",
       "      <td>1</td>\n",
       "      <td>8</td>\n",
       "      <td>0.10</td>\n",
       "      <td>0.1</td>\n",
       "      <td>0.10</td>\n",
       "      <td>0.782771</td>\n",
       "    </tr>\n",
       "    <tr>\n",
       "      <th>3</th>\n",
       "      <td>1</td>\n",
       "      <td>1</td>\n",
       "      <td>1</td>\n",
       "      <td>6</td>\n",
       "      <td>0.10</td>\n",
       "      <td>0.1</td>\n",
       "      <td>0.10</td>\n",
       "      <td>0.781791</td>\n",
       "    </tr>\n",
       "    <tr>\n",
       "      <th>4</th>\n",
       "      <td>1</td>\n",
       "      <td>1</td>\n",
       "      <td>1</td>\n",
       "      <td>4</td>\n",
       "      <td>0.15</td>\n",
       "      <td>0.1</td>\n",
       "      <td>0.05</td>\n",
       "      <td>0.781598</td>\n",
       "    </tr>\n",
       "    <tr>\n",
       "      <th>...</th>\n",
       "      <td>...</td>\n",
       "      <td>...</td>\n",
       "      <td>...</td>\n",
       "      <td>...</td>\n",
       "      <td>...</td>\n",
       "      <td>...</td>\n",
       "      <td>...</td>\n",
       "      <td>...</td>\n",
       "    </tr>\n",
       "    <tr>\n",
       "      <th>754</th>\n",
       "      <td>1</td>\n",
       "      <td>1</td>\n",
       "      <td>1</td>\n",
       "      <td>6</td>\n",
       "      <td>1.00</td>\n",
       "      <td>0.1</td>\n",
       "      <td>0.00</td>\n",
       "      <td>0.603963</td>\n",
       "    </tr>\n",
       "    <tr>\n",
       "      <th>755</th>\n",
       "      <td>1</td>\n",
       "      <td>1</td>\n",
       "      <td>1</td>\n",
       "      <td>7</td>\n",
       "      <td>1.00</td>\n",
       "      <td>0.1</td>\n",
       "      <td>0.00</td>\n",
       "      <td>0.603963</td>\n",
       "    </tr>\n",
       "    <tr>\n",
       "      <th>756</th>\n",
       "      <td>1</td>\n",
       "      <td>1</td>\n",
       "      <td>1</td>\n",
       "      <td>8</td>\n",
       "      <td>1.00</td>\n",
       "      <td>0.1</td>\n",
       "      <td>0.00</td>\n",
       "      <td>0.603963</td>\n",
       "    </tr>\n",
       "    <tr>\n",
       "      <th>757</th>\n",
       "      <td>1</td>\n",
       "      <td>1</td>\n",
       "      <td>1</td>\n",
       "      <td>9</td>\n",
       "      <td>1.00</td>\n",
       "      <td>0.1</td>\n",
       "      <td>0.00</td>\n",
       "      <td>0.603963</td>\n",
       "    </tr>\n",
       "    <tr>\n",
       "      <th>758</th>\n",
       "      <td>1</td>\n",
       "      <td>1</td>\n",
       "      <td>1</td>\n",
       "      <td>10</td>\n",
       "      <td>1.00</td>\n",
       "      <td>0.1</td>\n",
       "      <td>0.00</td>\n",
       "      <td>0.603963</td>\n",
       "    </tr>\n",
       "  </tbody>\n",
       "</table>\n",
       "<p>759 rows × 8 columns</p>\n",
       "</div>"
      ],
      "text/plain": [
       "     num_pairs  n_other  n_self  cutoff_word_global_lm  k_other  k_self   \n",
       "0            1        1       1                      7     0.10     0.1  \\\n",
       "1            1        1       1                      8     0.20     0.1   \n",
       "2            1        1       1                      8     0.10     0.1   \n",
       "3            1        1       1                      6     0.10     0.1   \n",
       "4            1        1       1                      4     0.15     0.1   \n",
       "..         ...      ...     ...                    ...      ...     ...   \n",
       "754          1        1       1                      6     1.00     0.1   \n",
       "755          1        1       1                      7     1.00     0.1   \n",
       "756          1        1       1                      8     1.00     0.1   \n",
       "757          1        1       1                      9     1.00     0.1   \n",
       "758          1        1       1                     10     1.00     0.1   \n",
       "\n",
       "     lambda_local    fscore  \n",
       "0            0.10  0.783648  \n",
       "1            0.25  0.783520  \n",
       "2            0.10  0.782771  \n",
       "3            0.10  0.781791  \n",
       "4            0.05  0.781598  \n",
       "..            ...       ...  \n",
       "754          0.00  0.603963  \n",
       "755          0.00  0.603963  \n",
       "756          0.00  0.603963  \n",
       "757          0.00  0.603963  \n",
       "758          0.00  0.603963  \n",
       "\n",
       "[759 rows x 8 columns]"
      ]
     },
     "execution_count": 461,
     "metadata": {},
     "output_type": "execute_result"
    }
   ],
   "source": [
    "# if already optimized look at results\n",
    "df = pd.read_csv(open(\"2023-06-21T08:17:12.999981_reduced.csv\"))\n",
    "local_df = df[df['num_pairs']==1]\n",
    "local_df"
   ]
  },
  {
   "cell_type": "code",
   "execution_count": 171,
   "metadata": {},
   "outputs": [],
   "source": [
    "for num_training_pairs in range(1,6):\n",
    "    local_df = df[df['num_pairs']==num_training_pairs]\n",
    "    opt_params_reduced['n_self_{}'.format(num_training_pairs)] = int(local_df.iloc[0].n_self)\n",
    "    opt_params_reduced['k_self_{}'.format(num_training_pairs)] = local_df.iloc[0].k_self\n",
    "    opt_params_reduced['n_other_{}'.format(num_training_pairs)] = int(local_df.iloc[0].n_other)\n",
    "    opt_params_reduced['k_other_{}'.format(num_training_pairs)] = local_df.iloc[0].k_other\n",
    "    opt_params_reduced['lambda_local_{}'.format(num_training_pairs)] = local_df.iloc[0].lambda_local\n",
    "    opt_params_reduced['cutoff_word_global_lm_{}'.format(num_training_pairs)] = int(local_df.iloc[0].cutoff_word_global_lm)"
   ]
  },
  {
   "cell_type": "code",
   "execution_count": 172,
   "metadata": {},
   "outputs": [],
   "source": [
    "# Assume the cutoff and lambda for 6 pairs is the same as the global, as trained on all\n",
    "opt_params_reduced['n_self_{}'.format(6)] = opt_params['n_self']\n",
    "opt_params_reduced['k_self_{}'.format(6)] = opt_params['k_self']\n",
    "opt_params_reduced['n_other_{}'.format(6)] = opt_params['n_other']\n",
    "opt_params_reduced['k_other_{}'.format(6)] = opt_params['k_other']\n",
    "opt_params_reduced['lambda_local_{}'.format(6)] = opt_params['lambda_local']\n",
    "opt_params_reduced['cutoff_word_global_lm_{}'.format(6)] = opt_params['cutoff_word_global_lm']"
   ]
  },
  {
   "cell_type": "code",
   "execution_count": 173,
   "metadata": {},
   "outputs": [
    {
     "data": {
      "text/plain": [
       "{'n_self': 1,\n",
       " 'k_self': 0.1,\n",
       " 'n_other_1': 1,\n",
       " 'k_other_1': 0.1,\n",
       " 'n_other_2': 1,\n",
       " 'k_other_2': 1.0,\n",
       " 'n_other_3': 1,\n",
       " 'k_other_3': 0.95,\n",
       " 'n_other_4': 1,\n",
       " 'k_other_4': 0.75,\n",
       " 'n_other_5': 1,\n",
       " 'k_other_5': 0.7,\n",
       " 'lambda_local_1': 0.1,\n",
       " 'cutoff_word_global_lm_1': 7,\n",
       " 'lambda_local_2': 0.8,\n",
       " 'cutoff_word_global_lm_2': 6,\n",
       " 'lambda_local_3': 0.65,\n",
       " 'cutoff_word_global_lm_3': 8,\n",
       " 'lambda_local_4': 0.4,\n",
       " 'cutoff_word_global_lm_4': 5,\n",
       " 'lambda_local_5': 0.3,\n",
       " 'cutoff_word_global_lm_5': 7,\n",
       " 'lambda_local_6': 0.1,\n",
       " 'cutoff_word_global_lm_6': 6,\n",
       " 'n_self_1': 1,\n",
       " 'k_self_1': 0.1,\n",
       " 'n_self_2': 1,\n",
       " 'k_self_2': 0.1,\n",
       " 'n_self_3': 1,\n",
       " 'k_self_3': 0.1,\n",
       " 'n_self_4': 1,\n",
       " 'k_self_4': 0.1,\n",
       " 'n_self_5': 1,\n",
       " 'k_self_5': 0.1,\n",
       " 'n_self_6': 1,\n",
       " 'k_self_6': 0.1,\n",
       " 'n_other_6': 1,\n",
       " 'k_other_6': 0.9}"
      ]
     },
     "execution_count": 173,
     "metadata": {},
     "output_type": "execute_result"
    }
   ],
   "source": [
    "opt_params_reduced"
   ]
  },
  {
   "cell_type": "code",
   "execution_count": 441,
   "metadata": {},
   "outputs": [],
   "source": [
    "reduced_xval_results = {}"
   ]
  },
  {
   "cell_type": "code",
   "execution_count": 446,
   "metadata": {},
   "outputs": [
    {
     "name": "stdout",
     "output_type": "stream",
     "text": [
      "r6 r3 r7\n",
      "num pairs 1\n",
      "[1, 1, 1, 7, 0.1, 0.1, 0.1, True, False, True]\n",
      "['r3', 'r1'] r1 r3\n",
      "['r3', 'r2'] r2 r3\n",
      "['r7', 'r3'] r3 r7\n",
      "['r3', 'r4'] r4 r3\n",
      "['r3', 'r5'] r5 r3\n",
      "['r3', 'r7'] r7 r3\n",
      "['r3', 'r8'] r8 r3\n",
      "[0.8365459861775651, 0.7595053753707299, 0.8818035272373219, 0.8545454547272463, 0.8274919673251356, 0.8365571040552329, 0.7303249059815995] 0.8181106172678331\n",
      "num pairs 2\n",
      "[2, 1, 1, 6, 1.0, 0.1, 0.8, True, False, True]\n",
      "['r3', 'r1', 'r7'] r1 r3\n",
      "['r3', 'r2', 'r7'] r2 r3\n",
      "['r7', 'r3', 'r1'] r3 r7\n",
      "['r3', 'r4', 'r7'] r4 r3\n",
      "['r3', 'r5', 'r7'] r5 r3\n",
      "['r3', 'r7', 'r1'] r7 r3\n",
      "['r3', 'r8', 'r7'] r8 r3\n",
      "[0.8832258969788381, 0.7644119388237036, 0.8922453382562306, 0.8932206398648354, 0.8515268219843817, 0.867458561771847, 0.7225028823337328] 0.8392274400019384\n",
      "num pairs 3\n",
      "[3, 1, 1, 8, 0.95, 0.1, 0.65, True, False, True]\n",
      "['r3', 'r1', 'r7', 'r2'] r1 r3\n",
      "['r3', 'r2', 'r7', 'r1'] r2 r3\n",
      "['r7', 'r3', 'r1', 'r2'] r3 r7\n",
      "['r3', 'r4', 'r7', 'r1'] r4 r3\n",
      "['r3', 'r5', 'r7', 'r1'] r5 r3\n",
      "['r3', 'r7', 'r1', 'r2'] r7 r3\n",
      "['r3', 'r8', 'r7', 'r1'] r8 r3\n",
      "[0.8605290148448045, 0.7722664159744722, 0.8923923316589446, 0.8905327288178392, 0.8692256939935985, 0.8601356775326917, 0.7319313857782535] 0.8395733212286577\n",
      "num pairs 4\n",
      "[4, 1, 1, 5, 0.75, 0.1, 0.4, True, False, True]\n",
      "['r3', 'r1', 'r7', 'r2', 'r4'] r1 r3\n",
      "['r3', 'r2', 'r7', 'r1', 'r4'] r2 r3\n",
      "['r7', 'r3', 'r1', 'r2', 'r4'] r3 r7\n",
      "['r3', 'r4', 'r7', 'r1', 'r2'] r4 r3\n",
      "['r3', 'r5', 'r7', 'r1', 'r2'] r5 r3\n",
      "['r3', 'r7', 'r1', 'r2', 'r4'] r7 r3\n",
      "['r3', 'r8', 'r7', 'r1', 'r2'] r8 r3\n",
      "[0.8770197346513136, 0.7927788929830671, 0.9110149867418377, 0.893405378438572, 0.8570890758224976, 0.8843696432346264, 0.745405140362017] 0.8515832646048472\n",
      "num pairs 5\n",
      "[5, 1, 1, 7, 0.7, 0.1, 0.3, True, False, True]\n",
      "['r3', 'r1', 'r7', 'r2', 'r4', 'r5'] r1 r3\n",
      "['r3', 'r2', 'r7', 'r1', 'r4', 'r5'] r2 r3\n",
      "['r7', 'r3', 'r1', 'r2', 'r4', 'r5'] r3 r7\n",
      "['r3', 'r4', 'r7', 'r1', 'r2', 'r5'] r4 r3\n",
      "['r3', 'r5', 'r7', 'r1', 'r2', 'r4'] r5 r3\n",
      "['r3', 'r7', 'r1', 'r2', 'r4', 'r5'] r7 r3\n",
      "['r3', 'r8', 'r7', 'r1', 'r2', 'r4'] r8 r3\n",
      "[0.8686704752150977, 0.8046946496238878, 0.9040253302747384, 0.8896377042899362, 0.8735687823606483, 0.8844089780907191, 0.7580303542298288] 0.854719467726408\n",
      "num pairs 6\n",
      "[6, 1, 1, 6, 0.9, 0.1, 0.1, True, False, True]\n",
      "['r3', 'r1', 'r7', 'r2', 'r4', 'r5', 'r8'] r1 r3\n",
      "['r3', 'r2', 'r7', 'r1', 'r4', 'r5', 'r8'] r2 r3\n",
      "['r7', 'r3', 'r1', 'r2', 'r4', 'r5', 'r8'] r3 r7\n",
      "['r3', 'r4', 'r7', 'r1', 'r2', 'r5', 'r8'] r4 r3\n",
      "['r3', 'r5', 'r7', 'r1', 'r2', 'r4', 'r8'] r5 r3\n",
      "['r3', 'r7', 'r1', 'r2', 'r4', 'r5', 'r8'] r7 r3\n",
      "['r3', 'r8', 'r7', 'r1', 'r2', 'r4', 'r5'] r8 r3\n",
      "[0.8685030408188303, 0.829141396743478, 0.9110090265963389, 0.9003430391290285, 0.8764684023331268, 0.8924742188931777, 0.7802727854354273] 0.8654588442784866\n",
      "{1: 0.8181106172678331, 2: 0.8392274400019384, 3: 0.8395733212286577, 4: 0.8515832646048472, 5: 0.854719467726408, 6: 0.8654588442784866}\n"
     ]
    }
   ],
   "source": [
    "# 1) re-run best cross-val result\n",
    "print(TEST, HELDOUT, EXTRA_HELDOUT)\n",
    "\n",
    "local_results = {}\n",
    "for num_pairs in range(1,7):\n",
    "    print(\"num pairs\", num_pairs)\n",
    "    #print(opt_params_reduced)\n",
    "\n",
    "    n_self = opt_params_reduced['n_self_{}'.format(min([6,num_pairs]))]\n",
    "    k_self = opt_params_reduced['k_self_{}'.format(min([6,num_pairs]))]\n",
    "    n_other = opt_params_reduced['n_other_{}'.format(min([6,num_pairs]))]\n",
    "    k_other = opt_params_reduced['k_other_{}'.format(min([6,num_pairs]))]\n",
    "    \n",
    "\n",
    "    lambda_local = opt_params_reduced['lambda_local_{}'.format(min([6,num_pairs]))]\n",
    "    cutoff_word_global_lm = opt_params_reduced['cutoff_word_global_lm_{}'.format(min([6,num_pairs]))]\n",
    "\n",
    "    lexical = True\n",
    "    lm_features = False\n",
    "    retrain = True\n",
    "\n",
    "    exp_params = [num_pairs, n_other, n_self, cutoff_word_global_lm, k_other,k_self, lambda_local, lexical, lm_features, retrain]\n",
    "    print(exp_params)\n",
    "    cross_val_results = []\n",
    "    all_preds = []\n",
    "    all_y = []\n",
    "    for i, test in enumerate(['r1', 'r2', 'r3', 'r4', 'r5', 'r7', 'r8']):\n",
    "        #random.seed(0)  # note in training this was always 0\n",
    "        #shuffle(training_folds)\n",
    "        \n",
    "        heldout = HELDOUT if test!=HELDOUT else EXTRA_HELDOUT # use the heldout when training on full dataset to simulate same lm sizes as in development\n",
    "        other_pairs = list(filter(lambda x:x not in [heldout, test], \n",
    "                                  [HELDOUT, EXTRA_HELDOUT] + list(filter(lambda x:x not in [HELDOUT, EXTRA_HELDOUT], ['r1', 'r2', 'r3', 'r4', 'r5', 'r7', 'r8']))))\n",
    "        cross_val_pairs = [heldout, test] + other_pairs[:num_pairs-1]\n",
    "        print(cross_val_pairs, test, heldout)\n",
    "        cross_val_data = {k:references_per_pair[k] for k in filter(lambda x:x in cross_val_pairs, references_per_pair.keys())}\n",
    "        #print(\"heldout\", heldout) \n",
    "        #print(cross_val_data.keys(), test)\n",
    "        fscore, preds, labels = get_fscore_and_preds(cross_val_data, test, heldout, n_other, n_self, k_other, k_self, lambda_local, cutoff_word_global_lm,\n",
    "                                                      lexical=lexical, lm_features=lm_features, exhaustive_retrain=retrain,\n",
    "                                                      no_train=False)\n",
    "                                                    \n",
    "\n",
    "        all_preds.extend(preds)\n",
    "        all_y.extend(labels)\n",
    "        cross_val_results.append(fscore)\n",
    "\n",
    "    reduced_xval_results[','.join([str(p) for p in exp_params])] = (cross_val_results, np.mean(cross_val_results),all_preds)\n",
    "    print(cross_val_results, np.mean(cross_val_results))\n",
    "    local_results[num_pairs] = np.mean(cross_val_results)\n",
    "print(local_results)"
   ]
  },
  {
   "cell_type": "raw",
   "metadata": {},
   "source": [
    "1) optimized + lexical\n",
    "{1: 0.7836480487128183, 2: 0.8265213983127148, 3: 0.8378663981240843, \n",
    " 4: 0.8527610693428136, 5: 0.8429683632891642, 6: 0.8655297687938474}\n",
    "\n",
    "2) non-retraining static lexical only baseline\n",
    "{1: 0.6452247609627264, 2: 0.7183701444842713, 3: 0.7253828208241976,\n",
    " 4: 0.7935968738026163, 5: 0.7857531967478607, 6: 0.8240618299975725}\n",
    "\n",
    "3) exhaustive retraining competitor lexical only - difficult to beat, but equalling statistically would be good\n",
    "{1: 0.8181106172678331, 2: 0.8392274400019384, 3: 0.8395733212286577, \n",
    " 4: 0.8515832646048472, 5: 0.854719467726408, 6: 0.8654588442784866}\n",
    "\n",
    "4) local + lexical - certainly beating the baseline deapite challenge of start of convos (note not optimized for this)\n",
    "{1: 0.6719331248381686, 2: 0.7583865838470079, 3: 0.7897604706247959, \n",
    " 4: 0.8227851854647134, 5: 0.82148671005441, 6: 0.8412561201872152}\n",
    "\n",
    "local only, no lexical (actually not bad at all - at 1 should be better than/same as lexical only baseline without retraining)\n",
    "\n",
    "\n",
    "global only (shows how wrong it was in the early rounds as it should be competitive with lexical only at least)\n",
    "\n",
    "\n",
    "exhaustive retraining + lm features optimized (possibly incorrectly)\n",
    "\n",
    "\n",
    "\n",
    "exhaustive retraining + lm features local only\n",
    "\n",
    "\n",
    "zero training data with online learning lexical baseline - better than static lexical baseline for 1 and 2\n",
    "{0: 0.7675052155789404}\n",
    "\n",
    "zero training data with online learning local + lexical - beats offline training for 1\n",
    "{0: 0.6910407489351156}\n",
    "\n",
    "zero training data with online learning optimized + lexical (does this even make sense?, local only)\n",
    "{0/1: 0.7530361639395702}  # this is pretty good - again surprised, though in fact it may be using the other data implicitly via the global model\n",
    "\n",
    "zero training data with online learning local\n",
    "{0: 0.6114778313216831}\n",
    "\n",
    "\n",
    "\n",
    "\n",
    "\n"
   ]
  },
  {
   "cell_type": "code",
   "execution_count": 447,
   "metadata": {},
   "outputs": [
    {
     "name": "stdout",
     "output_type": "stream",
     "text": [
      "num pairs 1\n",
      "statistic=72.000, p-value=0.000\n",
      "Different proportions of errors (reject H0)\n",
      "statistic=54.000, p-value=0.001\n",
      "Different proportions of errors (reject H0)\n",
      "statistic=21.000, p-value=0.000\n",
      "Different proportions of errors (reject H0)\n",
      "1 ) 1,1,1,7,0.1,0.1,0.1,True,True,False V 1,1,1,7,0.1,0.1,0.1,True,False,False [0.7836480487128183, 0.6452247609627264, 72.0, 1.114096399640308e-28, True, True, True]\n",
      "2 ) 1,1,1,7,0.1,0.1,0.1,True,True,False V 1,1,1,7,0.1,0.1,0.1,True,False,True [0.7836480487128183, 0.8181106172678331, 54.0, 0.0005846387710440814, True, True, True]\n",
      "3 ) 1,1,1,7,0.1,0.1,0.1,True,False,False V 1,1,1,7,0.1,0.1,0.1,True,False,True [0.6452247609627264, 0.8181106172678331, 21.0, 6.1738493352342854e-55, True, True, True]\n",
      "******************************\n",
      "num pairs 2\n",
      "statistic=53.000, p-value=0.000\n",
      "Different proportions of errors (reject H0)\n",
      "statistic=39.000, p-value=0.008\n",
      "Different proportions of errors (reject H0)\n",
      "statistic=19.000, p-value=0.000\n",
      "Different proportions of errors (reject H0)\n",
      "1 ) 2,1,1,6,1.0,0.1,0.8,True,True,False V 2,1,1,6,1.0,0.1,0.8,True,False,False [0.8265213983127148, 0.7183701444842713, 53.0, 1.7810177227981556e-22, True, True, True]\n",
      "2 ) 2,1,1,6,1.0,0.1,0.8,True,True,False V 2,1,1,6,1.0,0.1,0.8,True,False,True [0.8265213983127148, 0.8392274400019384, 39.0, 0.00841699357053398, True, True, False]\n",
      "3 ) 2,1,1,6,1.0,0.1,0.8,True,False,False V 2,1,1,6,1.0,0.1,0.8,True,False,True [0.7183701444842713, 0.8392274400019384, 19.0, 2.8351872518370702e-39, True, True, True]\n",
      "******************************\n",
      "num pairs 3\n",
      "statistic=44.000, p-value=0.000\n",
      "Different proportions of errors (reject H0)\n",
      "statistic=45.000, p-value=0.320\n",
      "Same proportions of errors (fail to reject H0)\n",
      "statistic=14.000, p-value=0.000\n",
      "Different proportions of errors (reject H0)\n",
      "1 ) 3,1,1,8,0.95,0.1,0.65,True,True,False V 3,1,1,8,0.95,0.1,0.65,True,False,False [0.8378663981240843, 0.7253828208241976, 44.0, 3.1182190971263386e-23, True, True, True]\n",
      "2 ) 3,1,1,8,0.95,0.1,0.65,True,True,False V 3,1,1,8,0.95,0.1,0.65,True,False,True [0.8378663981240843, 0.8395733212286577, 45.0, 0.31972732070026544, False, False, False]\n",
      "3 ) 3,1,1,8,0.95,0.1,0.65,True,False,False V 3,1,1,8,0.95,0.1,0.65,True,False,True [0.7253828208241976, 0.8395733212286577, 14.0, 4.9357645146975944e-36, True, True, True]\n",
      "******************************\n",
      "num pairs 4\n",
      "statistic=27.000, p-value=0.000\n",
      "Different proportions of errors (reject H0)\n",
      "statistic=36.000, p-value=0.908\n",
      "Same proportions of errors (fail to reject H0)\n",
      "statistic=7.000, p-value=0.000\n",
      "Different proportions of errors (reject H0)\n",
      "1 ) 4,1,1,5,0.75,0.1,0.4,True,True,False V 4,1,1,5,0.75,0.1,0.4,True,False,False [0.8527610693428136, 0.7935968738026163, 27.0, 2.912609122105363e-12, True, True, True]\n",
      "2 ) 4,1,1,5,0.75,0.1,0.4,True,True,False V 4,1,1,5,0.75,0.1,0.4,True,False,True [0.8527610693428136, 0.8515832646048472, 36.0, 0.9075606176124984, False, False, False]\n",
      "3 ) 4,1,1,5,0.75,0.1,0.4,True,False,False V 4,1,1,5,0.75,0.1,0.4,True,False,True [0.7935968738026163, 0.8515832646048472, 7.0, 6.048586330822969e-19, True, True, True]\n",
      "******************************\n",
      "num pairs 5\n",
      "statistic=22.000, p-value=0.000\n",
      "Different proportions of errors (reject H0)\n",
      "statistic=29.000, p-value=0.050\n",
      "Same proportions of errors (fail to reject H0)\n",
      "statistic=7.000, p-value=0.000\n",
      "Different proportions of errors (reject H0)\n",
      "1 ) 5,1,1,7,0.7,0.1,0.3,True,True,False V 5,1,1,7,0.7,0.1,0.3,True,False,False [0.8429683632891642, 0.7857531967478607, 22.0, 1.5502748845162157e-10, True, True, True]\n",
      "2 ) 5,1,1,7,0.7,0.1,0.3,True,True,False V 5,1,1,7,0.7,0.1,0.3,True,False,True [0.8429683632891642, 0.854719467726408, 29.0, 0.050452410247217666, False, False, False]\n",
      "3 ) 5,1,1,7,0.7,0.1,0.3,True,False,False V 5,1,1,7,0.7,0.1,0.3,True,False,True [0.7857531967478607, 0.854719467726408, 7.0, 9.440274241692034e-20, True, True, True]\n",
      "******************************\n",
      "num pairs 6\n",
      "statistic=22.000, p-value=0.000\n",
      "Different proportions of errors (reject H0)\n",
      "statistic=25.000, p-value=1.000\n",
      "Same proportions of errors (fail to reject H0)\n",
      "statistic=10.000, p-value=0.000\n",
      "Different proportions of errors (reject H0)\n",
      "1 ) 6,1,1,6,0.9,0.1,0.1,True,True,False V 6,1,1,6,0.9,0.1,0.1,True,False,False [0.8655297687938474, 0.8240618299975725, 22.0, 2.8793907495367242e-06, True, True, True]\n",
      "2 ) 6,1,1,6,0.9,0.1,0.1,True,True,False V 6,1,1,6,0.9,0.1,0.1,True,False,True [0.8655297687938474, 0.8654588442784866, 25.0, 1.0, False, False, False]\n",
      "3 ) 6,1,1,6,0.9,0.1,0.1,True,False,False V 6,1,1,6,0.9,0.1,0.1,True,False,True [0.8240618299975725, 0.8654588442784866, 10.0, 1.1753602809018608e-08, True, True, True]\n",
      "******************************\n"
     ]
    }
   ],
   "source": [
    "for num_pairs in range(1,7):\n",
    "    print(\"num pairs\", num_pairs)\n",
    "    #print(opt_params_reduced)\n",
    "    reduced_comparison_results = {}\n",
    "    for sys1 in reduced_xval_results.keys():\n",
    "        if not int(sys1.split(\",\")[0]) == num_pairs:\n",
    "            continue\n",
    "        for sys2 in reduced_xval_results.keys():\n",
    "            if not int(sys2.split(\",\")[0]) == num_pairs:\n",
    "                continue\n",
    "            if sys1 == sys2:\n",
    "                continue\n",
    "            if sys1 + \" V \" + sys2 in reduced_comparison_results.keys() or sys2 + \" V \" + sys1 in reduced_comparison_results.keys():\n",
    "                continue\n",
    "            cl1_preds = reduced_xval_results[sys1][2]\n",
    "            cl2_preds = reduced_xval_results[sys2][2]\n",
    "            sig = calculate_mcnemar_test(cl1_preds, cl2_preds, all_y, alpha=0.05, exact=True)\n",
    "            reduced_comparison_results[sys1 + \" V \" + sys2] = [round(reduced_xval_results[sys1][1],3), round(reduced_xval_results[sys2][1],3)] + list(sig)\n",
    "\n",
    "\n",
    "    count = 1\n",
    "    for k, v in reduced_comparison_results.items():\n",
    "        print(count, \")\", k, v)\n",
    "        count+=1\n",
    "    print(\"*\" * 30)\n"
   ]
  },
  {
   "cell_type": "code",
   "execution_count": null,
   "metadata": {},
   "outputs": [],
   "source": [
    "# now get the test results"
   ]
  },
  {
   "cell_type": "code",
   "execution_count": 372,
   "metadata": {},
   "outputs": [],
   "source": [
    "reduced_results_test = {}"
   ]
  },
  {
   "cell_type": "code",
   "execution_count": 407,
   "metadata": {},
   "outputs": [
    {
     "name": "stdout",
     "output_type": "stream",
     "text": [
      "num pairs 1\n",
      "[1, 1, 1, 7, 0.1, 0.1, 0.1, True, False, True]\n",
      "['r6', 'r3'] r6 r3 None\n",
      "[0.8626845322568283] 0.8626845322568283\n",
      "num pairs 2\n",
      "[2, 1, 1, 6, 1.0, 0.1, 0.8, True, False, True]\n",
      "['r6', 'r3', 'r7'] r6 r3 None\n",
      "[0.8862258349153512] 0.8862258349153512\n",
      "num pairs 3\n",
      "[3, 1, 1, 8, 0.95, 0.1, 0.65, True, False, True]\n",
      "['r6', 'r3', 'r7', 'r1'] r6 r3 None\n",
      "[0.8895084671613147] 0.8895084671613147\n",
      "num pairs 4\n",
      "[4, 1, 1, 5, 0.75, 0.1, 0.4, True, False, True]\n",
      "['r6', 'r3', 'r7', 'r1', 'r2'] r6 r3 None\n",
      "[0.9000728246516821] 0.9000728246516821\n",
      "num pairs 5\n",
      "[5, 1, 1, 7, 0.7, 0.1, 0.3, True, False, True]\n",
      "['r6', 'r3', 'r7', 'r1', 'r2', 'r4'] r6 r3 None\n",
      "[0.9042132031544717] 0.9042132031544717\n",
      "num pairs 6\n",
      "[6, 1, 1, 6, 0.9, 0.1, 0.1, True, False, True]\n",
      "['r6', 'r3', 'r7', 'r1', 'r2', 'r4', 'r5'] r6 r3 None\n",
      "[0.9042132031544717] 0.9042132031544717\n",
      "num pairs 7\n",
      "[7, 1, 1, 6, 0.9, 0.1, 0.1, True, False, True]\n",
      "['r6', 'r3', 'r7', 'r1', 'r2', 'r4', 'r5', 'r8'] r6 r3 r7\n",
      "[0.9006807283839668] 0.9006807283839668\n",
      "{1: 0.8626845322568283, 2: 0.8862258349153512, 3: 0.8895084671613147, 4: 0.9000728246516821, 5: 0.9042132031544717, 6: 0.9042132031544717, 7: 0.9006807283839668}\n"
     ]
    }
   ],
   "source": [
    "local_results = {}\n",
    "\n",
    "for num_pairs in range(1,8):\n",
    "    print(\"num pairs\", num_pairs)\n",
    "    #print(opt_params_reduced)\n",
    "\n",
    "    n_self = opt_params_reduced['n_self_{}'.format(min([6,num_pairs]))]\n",
    "    k_self = opt_params_reduced['k_self_{}'.format(min([6,num_pairs]))]\n",
    "    n_other = opt_params_reduced['n_other_{}'.format(min([6,num_pairs]))]\n",
    "    k_other = opt_params_reduced['k_other_{}'.format(min([6,num_pairs]))]\n",
    "\n",
    "\n",
    "    lambda_local = opt_params_reduced['lambda_local_{}'.format(min([6,num_pairs]))]\n",
    "    cutoff_word_global_lm = opt_params_reduced['cutoff_word_global_lm_{}'.format(min([6,num_pairs]))]\n",
    "    \n",
    "    \n",
    "    #if num_pairs in [4,5,6]:\n",
    "    #    n_other = opt_params_reduced['n_other_{}'.format(6)]\n",
    "    #    k_other = opt_params_reduced['k_other_{}'.format(6)]\n",
    "     #   lambda_local = opt_params_reduced['lambda_local_{}'.format(6)]\n",
    "     #   cutoff_word_global_lm = opt_params_reduced['cutoff_word_global_lm_{}'.format(6)]\n",
    "\n",
    "    lexical = True\n",
    "    lm_features = True\n",
    "    retrain = False\n",
    "\n",
    "    exp_params = [num_pairs, n_other, n_self, cutoff_word_global_lm, k_other,k_self, lambda_local, lexical, lm_features, retrain]\n",
    "    print(exp_params)\n",
    "    cross_val_results = []\n",
    "    all_preds = []\n",
    "    all_y = []\n",
    "    for i, test in enumerate([TEST]):\n",
    "        #random.seed(0)  # note in training this was always 0\n",
    "        #shuffle(training_folds)\n",
    "        \n",
    "        other_pairs = list(filter(lambda x:x not in [HELDOUT, TEST, EXTRA_HELDOUT], ['r1', 'r2', 'r3', 'r4', 'r5', 'r6', 'r7', 'r8']))\n",
    "        #random.seed(num_pairs)\n",
    "        #shuffle(other_pairs)\n",
    "        cross_val_pairs = [TEST, HELDOUT, EXTRA_HELDOUT] + other_pairs\n",
    "        cross_val_pairs = cross_val_pairs[:num_pairs+1]\n",
    "        extra_heldout = EXTRA_HELDOUT  if num_pairs > 6 else None # HELDOUT\n",
    "        print(cross_val_pairs, test, HELDOUT, extra_heldout)\n",
    "        cross_val_data = {k:references_per_pair[k] for k in filter(lambda x:x in cross_val_pairs, references_per_pair.keys())}\n",
    "        #print(\"heldout\", heldout) \n",
    "        #print(cross_val_data.keys(), test)\n",
    "        \n",
    "        fscore, preds, labels = get_fscore_and_preds(cross_val_data, test, HELDOUT, n_other, n_self, k_other, k_self, lambda_local, cutoff_word_global_lm,\n",
    "                                                     heldout_extra_fold=extra_heldout,\n",
    "                                                      lexical=lexical, lm_features=lm_features, exhaustive_retrain=retrain,\n",
    "                                                      no_train=False)\n",
    "                                                    \n",
    "\n",
    "        all_preds.extend(preds)\n",
    "        all_y.extend(labels)\n",
    "        cross_val_results.append(fscore)\n",
    "\n",
    "    reduced_results_test[','.join([str(p) for p in exp_params])] = (cross_val_results, np.mean(cross_val_results),all_preds)\n",
    "    print(cross_val_results, np.mean(cross_val_results))\n",
    "    local_results[num_pairs] = np.mean(cross_val_results)\n",
    "print(local_results)"
   ]
  },
  {
   "cell_type": "code",
   "execution_count": 462,
   "metadata": {},
   "outputs": [
    {
     "name": "stdout",
     "output_type": "stream",
     "text": [
      "num training pairs 1\n",
      "statistic=5.000, p-value=0.581\n",
      "Same proportions of errors (fail to reject H0)\n",
      "statistic=3.000, p-value=1.000\n",
      "Same proportions of errors (fail to reject H0)\n",
      "statistic=5.000, p-value=0.581\n",
      "Same proportions of errors (fail to reject H0)\n",
      "1 ) 1,1,1,7,0.1,0.1,0.1,True,True,False V 1,1,1,7,0.1,0.1,0.1,True,False,False [0.818, 0.632, 5.0, 0.5810546875, False, False, False]\n",
      "2 ) 1,1,1,7,0.1,0.1,0.1,True,True,False V 1,1,1,7,0.1,0.1,0.1,True,False,True [0.818, 0.863, 3.0, 1.0, False, False, False]\n",
      "3 ) 1,1,1,7,0.1,0.1,0.1,True,False,False V 1,1,1,7,0.1,0.1,0.1,True,False,True [0.632, 0.863, 5.0, 0.5810546875, False, False, False]\n",
      "******************************\n",
      "num training pairs 2\n",
      "statistic=2.000, p-value=0.453\n",
      "Same proportions of errors (fail to reject H0)\n",
      "statistic=1.000, p-value=0.625\n",
      "Same proportions of errors (fail to reject H0)\n",
      "statistic=3.000, p-value=1.000\n",
      "Same proportions of errors (fail to reject H0)\n",
      "1 ) 2,1,1,6,1.0,0.1,0.8,True,True,False V 2,1,1,6,1.0,0.1,0.8,True,False,False [0.851, 0.697, 2.0, 0.453125, False, False, False]\n",
      "2 ) 2,1,1,6,1.0,0.1,0.8,True,True,False V 2,1,1,6,1.0,0.1,0.8,True,False,True [0.851, 0.886, 1.0, 0.625, False, False, False]\n",
      "3 ) 2,1,1,6,1.0,0.1,0.8,True,False,False V 2,1,1,6,1.0,0.1,0.8,True,False,True [0.697, 0.886, 3.0, 1.0, False, False, False]\n",
      "******************************\n",
      "num training pairs 3\n",
      "statistic=3.000, p-value=0.508\n",
      "Same proportions of errors (fail to reject H0)\n",
      "statistic=1.000, p-value=1.000\n",
      "Same proportions of errors (fail to reject H0)\n",
      "statistic=3.000, p-value=0.727\n",
      "Same proportions of errors (fail to reject H0)\n",
      "1 ) 3,1,1,8,0.95,0.1,0.65,True,True,False V 3,1,1,8,0.95,0.1,0.65,True,False,False [0.853, 0.734, 3.0, 0.5078125, False, False, False]\n",
      "2 ) 3,1,1,8,0.95,0.1,0.65,True,True,False V 3,1,1,8,0.95,0.1,0.65,True,False,True [0.853, 0.89, 1.0, 1.0, False, False, False]\n",
      "3 ) 3,1,1,8,0.95,0.1,0.65,True,False,False V 3,1,1,8,0.95,0.1,0.65,True,False,True [0.734, 0.89, 3.0, 0.7265625, False, False, False]\n",
      "******************************\n",
      "num training pairs 4\n",
      "statistic=3.000, p-value=1.000\n",
      "Same proportions of errors (fail to reject H0)\n",
      "statistic=2.000, p-value=1.000\n",
      "Same proportions of errors (fail to reject H0)\n",
      "statistic=3.000, p-value=1.000\n",
      "Same proportions of errors (fail to reject H0)\n",
      "1 ) 4,1,1,5,0.75,0.1,0.4,True,True,False V 4,1,1,5,0.75,0.1,0.4,True,False,False [0.824, 0.827, 3.0, 1.0, False, False, False]\n",
      "2 ) 4,1,1,5,0.75,0.1,0.4,True,True,False V 4,1,1,5,0.75,0.1,0.4,True,False,True [0.824, 0.9, 2.0, 1.0, False, False, False]\n",
      "3 ) 4,1,1,5,0.75,0.1,0.4,True,False,False V 4,1,1,5,0.75,0.1,0.4,True,False,True [0.827, 0.9, 3.0, 1.0, False, False, False]\n",
      "******************************\n",
      "num training pairs 5\n",
      "statistic=1.000, p-value=0.625\n",
      "Same proportions of errors (fail to reject H0)\n",
      "statistic=0.000, p-value=0.500\n",
      "Same proportions of errors (fail to reject H0)\n",
      "statistic=3.000, p-value=1.000\n",
      "Same proportions of errors (fail to reject H0)\n",
      "1 ) 5,1,1,7,0.7,0.1,0.3,True,True,False V 5,1,1,7,0.7,0.1,0.3,True,False,False [0.832, 0.832, 1.0, 0.625, False, False, False]\n",
      "2 ) 5,1,1,7,0.7,0.1,0.3,True,True,False V 5,1,1,7,0.7,0.1,0.3,True,False,True [0.832, 0.904, 0.0, 0.5, False, False, False]\n",
      "3 ) 5,1,1,7,0.7,0.1,0.3,True,False,False V 5,1,1,7,0.7,0.1,0.3,True,False,True [0.832, 0.904, 3.0, 1.0, False, False, False]\n",
      "******************************\n",
      "num training pairs 6\n",
      "statistic=1.000, p-value=1.000\n",
      "Same proportions of errors (fail to reject H0)\n",
      "statistic=0.000, p-value=0.500\n",
      "Same proportions of errors (fail to reject H0)\n",
      "statistic=1.000, p-value=0.375\n",
      "Same proportions of errors (fail to reject H0)\n",
      "1 ) 6,1,1,6,0.9,0.1,0.1,True,True,False V 6,1,1,6,0.9,0.1,0.1,True,False,False [0.838, 0.836, 1.0, 1.0, False, False, False]\n",
      "2 ) 6,1,1,6,0.9,0.1,0.1,True,True,False V 6,1,1,6,0.9,0.1,0.1,True,False,True [0.838, 0.904, 0.0, 0.5, False, False, False]\n",
      "3 ) 6,1,1,6,0.9,0.1,0.1,True,False,False V 6,1,1,6,0.9,0.1,0.1,True,False,True [0.836, 0.904, 1.0, 0.375, False, False, False]\n",
      "******************************\n",
      "num training pairs 7\n",
      "statistic=1.000, p-value=1.000\n",
      "Same proportions of errors (fail to reject H0)\n",
      "statistic=0.000, p-value=0.500\n",
      "Same proportions of errors (fail to reject H0)\n",
      "statistic=1.000, p-value=0.625\n",
      "Same proportions of errors (fail to reject H0)\n",
      "1 ) 7,1,1,6,0.9,0.1,0.1,True,True,False V 7,1,1,6,0.9,0.1,0.1,True,False,False [0.881, 0.835, 1.0, 1.0, False, False, False]\n",
      "2 ) 7,1,1,6,0.9,0.1,0.1,True,True,False V 7,1,1,6,0.9,0.1,0.1,True,False,True [0.881, 0.901, 0.0, 0.5, False, False, False]\n",
      "3 ) 7,1,1,6,0.9,0.1,0.1,True,False,False V 7,1,1,6,0.9,0.1,0.1,True,False,True [0.835, 0.901, 1.0, 0.625, False, False, False]\n",
      "******************************\n"
     ]
    }
   ],
   "source": [
    "for num_training_pairs in range(1,8):\n",
    "    print(\"num training pairs\", num_training_pairs)\n",
    "    reduced_comparison_results_test = {}\n",
    "    for sys1 in reduced_results_test.keys():\n",
    "        #print(sys1)\n",
    "        if not int(sys1.split(\",\")[0]) == num_training_pairs:\n",
    "            continue\n",
    "        #print(\"getting 1\")\n",
    "        for sys2 in reduced_results_test.keys():\n",
    "            if not int(sys2.split(\",\")[0]) == num_training_pairs:\n",
    "                continue\n",
    "            #print(\"getting 2\")\n",
    "            if sys1 == sys2:\n",
    "                continue\n",
    "            #print(\"getting 3\")\n",
    "            if sys1 + \" V \" + sys2 in reduced_comparison_results_test.keys() or sys2 + \" V \" + sys1 in reduced_comparison_results_test.keys():\n",
    "                continue\n",
    "            #print(\"getting 4\")\n",
    "            cl1_preds = reduced_results_test[sys1][2]\n",
    "            cl2_preds = reduced_results_test[sys2][2]\n",
    "            sig = calculate_mcnemar_test(cl1_preds, cl2_preds, all_y, alpha=0.05, exact=True)\n",
    "            reduced_comparison_results_test[sys1 + \" V \" + sys2] = [round(reduced_results_test[sys1][1],3), round(reduced_results_test[sys2][1],3)] + list(sig)\n",
    "\n",
    "    count = 1\n",
    "    for k, v in reduced_comparison_results_test.items():\n",
    "        print(count, \")\", k, v)\n",
    "        count+=1\n",
    "    print(\"*\" * 30)"
   ]
  },
  {
   "cell_type": "code",
   "execution_count": 377,
   "metadata": {},
   "outputs": [],
   "source": [
    "df = pd.read_csv(open(\"2023-06-12T00:56:28.534472.csv\"))\n",
    "opt_params['lambda_local'] = df.head(1).lambda_local[0]\n",
    "opt_params[\"cutoff_word_global_lm\"] = df.head(1).cutoff_word_global_lm[0]"
   ]
  },
  {
   "cell_type": "code",
   "execution_count": null,
   "metadata": {},
   "outputs": [],
   "source": [
    "df"
   ]
  },
  {
   "cell_type": "code",
   "execution_count": null,
   "metadata": {},
   "outputs": [],
   "source": [
    "# test results\n",
    "print(opt_params)\n",
    "n_other = opt_params['n_other']\n",
    "n_self = opt_params['n_self']\n",
    "k_other = opt_params['k_other']\n",
    "k_self = opt_params['k_self']\n",
    "lambda_local = opt_params['lambda_local']\n",
    "cutoff_word_global_lm = opt_params[\"cutoff_word_global_lm\"]\n",
    "fscore = get_fscore(references_per_pair, TEST, \"r3\", n_other, n_self, k_other, k_self, lambda_local, cutoff_word_global_lm)"
   ]
  },
  {
   "cell_type": "code",
   "execution_count": null,
   "metadata": {},
   "outputs": [],
   "source": [
    "# Note for lexical features only to work, they only do so after training on all 7 folds, at 6 severe degradation\n",
    "# lm features work well early on after 2-3 examples"
   ]
  },
  {
   "cell_type": "code",
   "execution_count": null,
   "metadata": {},
   "outputs": [],
   "source": [
    "def plot_piece_lm_values_for_pair_piece(data, piece, moving_average=False):\n",
    "    piece_plots = {p:[] for p in data[0][5].keys()}\n",
    "    for ref_info in data:\n",
    "        text, speaker, utt_id, end_time, target_piece, prob_dict, piece_lm_moving_average, ref_length = ref_info\n",
    "        \n",
    "        if not target_piece == piece:  # only focus on target piece\n",
    "            continue\n",
    "        print(text, speaker, end_time)\n",
    "        if moving_average is True:\n",
    "            # how does each piece lm give a probability to THIS target piece over time\n",
    "            for lm_piece, inner_prob_dict in piece_lm_moving_average.items():\n",
    "                for inner_piece_lm, prob in piece_lm_moving_average[lm_piece].items():\n",
    "                    if not inner_piece_lm == piece:\n",
    "                        continue\n",
    "                    piece_plots[lm_piece].append(prob)\n",
    "        else:\n",
    "            # if just raw probs\n",
    "            for lm_piece, prob in prob_dict.items():\n",
    "                piece_plots[lm_piece].append(prob[0])\n",
    "    \n",
    "    #for k, v in piece_plots.items():\n",
    "    #    print(k,v)\n",
    "                \n",
    "    #‘b’\tblue\n",
    "    #‘g’\tgreen\n",
    "    #‘r’\tred  (255, 0, 0 )\n",
    "    #‘c’\tcyan\n",
    "    #‘m’\tmagenta\n",
    "    #‘y’\tyellow\n",
    "    #‘k’\tblack\n",
    "    #‘w’\twhite\n",
    "\n",
    "    #orange (255, 128, 0)\n",
    "    #grey (160, 160, 160)\n",
    "    #pink (255, 153, 204)\n",
    "    #brown (153, 76, 0)\n",
    "    #purple (102, 0, 204)\n",
    "\n",
    "    colour_map = {'F': (160/255, 160/255, 160/255), 'I': \"blue\" , 'L': (255/255, 128/255, 0/255),\n",
    "                  'N': (102/255, 0/255, 204/255),\n",
    "                  'P': (255/255, 153/255, 204/255), 'T': \"green\", 'U': \"yellow\", 'V': \"blue\",\n",
    "                  'W' :\"green\", 'X': \"red\", 'Y': (153/255, 76/255, 0/255), 'Z': \"blue\"}\n",
    "\n",
    "    for lm_piece in sorted(piece_plots.keys()):\n",
    "        probs = piece_plots[lm_piece]\n",
    "        target_text = \"(TARGET)\" if lm_piece == piece else \"\"\n",
    "        linestyle = \"solid\" if lm_piece == piece else \"dashed\"\n",
    "        marker = \"o\" if lm_piece == piece else \"none\"\n",
    "        plt.plot(probs, label=lm_piece + \" \" + target_text, color=colour_map[lm_piece],\n",
    "                linestyle=linestyle, marker=marker)\n",
    "\n",
    "\n",
    "    # plot lines\n",
    "    #plt.plot(moving_average([m[0] for m in method1]), label = \"active: mixed models with k=0.015 for previous\")\n",
    "    #plt.plot(moving_average([m[0] for m in method2]), label = \"interactive: retraining language model with incrementing data\")\n",
    "    #plt.plot(moving_average([m[0] for m in method3]), label = \"static baseline\")\n",
    "    #plt.plot(moving_average([m[0] for m in method4]), label = \"interactive: mixed models with k=0.015 for previous + recency\")\n",
    "    #plt.plot(moving_average([m[0] for m in method5]), label = \"active: retraining language model with incrementing data + recency\")\n",
    "    #plt.plot(moving_average([m[0] for m in method6]), label = \"interactive only + recency\")\n",
    "    #plt.plot(moving_average([m[0] for m in method7]), label = \"interactive only\")\n",
    "    plt.legend(bbox_to_anchor=(0.1, 1))\n",
    "    plt.show()\n"
   ]
  },
  {
   "cell_type": "code",
   "execution_count": null,
   "metadata": {},
   "outputs": [],
   "source": [
    "for piece in sorted(good_pieces):\n",
    "    plot_piece_lm_values_for_pair_piece(raw_test_data['r2'], piece, moving_average=True)"
   ]
  },
  {
   "cell_type": "code",
   "execution_count": null,
   "metadata": {},
   "outputs": [],
   "source": [
    "das lange blaue r2_B 206.009\n",
    "das lange blaue r2_B 221.956\n",
    "der eins r2_A 223.186\n",
    "ganz geraden r2_B 660.089\n",
    "das ding r2_B 669.892\n",
    "was r2_B 669.892\n",
    "es\">wie's r2_B 673.518\n",
    "das ganz ganz lange r2_B 1022.337\n",
    "das blaue r2_B 1023.311\n",
    "den langen balken r2_A 1188.479\n",
    "den langen balken r2_A 1307.589\n",
    "das lange blaue r2_A 1524.858\n",
    "der balken r2_A 1630.552\n",
    "des balkens r2_A 1645.637\n",
    "\n",
    "\n",
    "\n",
    "unser z r8_B 343.829\n",
    "das andere z r8_B 365.865\n",
    "das andere z r8_B 550.645\n",
    "das andere z r8_B 554.113\n",
    "dieses z r8_B 570.425\n",
    "das z r8_B 644.144\n",
    "dieses r8_A 646.046\n",
    "das z r8_B 862.151\n",
    "dieses z r8_B 1041.278\n",
    "dieses z r8_B 1288.31\n",
    "das blaue z r8_A 1524.868\n",
    "das z r8_A 1689.259\n",
    "das z r8_A 1937.962\n",
    "das blaue z r8_A 1940.632\n",
    "das z r8_A 2171.232\n",
    "das z r8_A 2193.904\n",
    "das z r8_A 2283.683\n",
    "das z r8_A 2506.665\n",
    "das blaue z r8_A 2844.14\n",
    "das blaue z r8_A 2846.798\n",
    "dieses r8_A 2851.145\n",
    "dem blauen z r8_A 2864.463"
   ]
  },
  {
   "cell_type": "code",
   "execution_count": null,
   "metadata": {},
   "outputs": [],
   "source": [
    "# competitor 1: global language model only\n",
    "global_only_params = {k:v for k, v in opt_params.items()}\n",
    "global_only_params['lambda_local'] = 0 # no use of local lm\n",
    "\n",
    "train_data = generate_classifier_data_from_global_lm_and_local_params(lm_global, global_only_params, lexical=True)\n",
    "test_data = generate_classifier_data_from_global_lm_and_local_params(lm_global, global_only_params, lexical=True)\n",
    "\n",
    "cl = trainClassifier(train_data)\n",
    "print(train_data[0])\n",
    "y_true = [x[1] for x in test_data]\n",
    "y_pred_global_only = predictLabels(test_data, cl)\n",
    "prf = precision_recall_fscore_support(y_true, y_pred_global_only, average='weighted')\n",
    "print(prf)\n",
    "print(classification_report(y_true, y_pred_global_only))"
   ]
  },
  {
   "cell_type": "code",
   "execution_count": null,
   "metadata": {},
   "outputs": [],
   "source": [
    "# competitor 2: local language model only\n",
    "local_only_params = {k:v for k, v in opt_params.items()}\n",
    "local_only_params['lambda_local'] = 1 # only uses local, no global\n",
    "\n",
    "train_data = generate_classifier_data_from_global_lm_and_local_params(lm_global, local_only_params, lexical=True)\n",
    "test_data = generate_classifier_data_from_global_lm_and_local_params(lm_global, local_only_params, lexical=True)\n",
    "\n",
    "cl = trainClassifier(train_data)\n",
    "print(train_data[0])\n",
    "y_true = [x[1] for x in test_data]\n",
    "y_pred_local_only = predictLabels(test_data, cl)\n",
    "prf = precision_recall_fscore_support(y_true, y_pred_local_only, average='weighted')\n",
    "print(prf)\n",
    "print(classification_report(y_true, y_pred_local_only))"
   ]
  },
  {
   "cell_type": "code",
   "execution_count": null,
   "metadata": {
    "scrolled": true
   },
   "outputs": [],
   "source": [
    "# competitor 3: incrementally trained lexical only\n",
    "\n",
    "train_data = generate_classifier_data_from_global_lm_and_local_params(lm_global, global_only_params, lexical=True,\n",
    "                                                                     lm_feats=False)\n",
    "test_data = generate_classifier_data_from_global_lm_and_local_params(lm_global, global_only_params, lexical=True,\n",
    "                                                                    lm_feats=False)\n",
    "\n",
    "y_true = [x[1] for x in test_data]\n",
    "y_pred_lexical_only_retrain = []\n",
    "\n",
    "for i in range(0, len(test_data)):\n",
    "    cl = trainClassifier(train_data)\n",
    "    y_instance = predictLabels(test_data[i:i+1], cl)\n",
    "    y_pred_lexical_only_retrain.extend(y_instance)\n",
    "    train_data.append(test_data[i])    \n",
    "\n",
    "prf = precision_recall_fscore_support(y_true, y_pred_lexical_only_retrain, average='weighted')\n",
    "print(prf)\n",
    "print(classification_report(y_true, y_pred_lexical_only_retrain))"
   ]
  },
  {
   "cell_type": "code",
   "execution_count": null,
   "metadata": {},
   "outputs": [],
   "source": [
    "# competitor 4: incrementally trained lexical + global lm\n",
    "\n",
    "train_data = generate_classifier_data_from_global_lm_and_local_params(lm_global, global_only_params, lexical=True,\n",
    "                                                                     lm_feats=True)\n",
    "test_data = generate_classifier_data_from_global_lm_and_local_params(lm_global, global_only_params, lexical=True,\n",
    "                                                                    lm_feats=True)\n",
    "\n",
    "y_true = [x[1] for x in test_data]\n",
    "y_pred_global_lm_retrain = []\n",
    "\n",
    "for i in range(0, len(test_data)):\n",
    "    cl = trainClassifier(train_data)\n",
    "    y_instance = predictLabels(test_data[i:i+1], cl)\n",
    "    y_pred_global_lm_retrain.extend(y_instance)\n",
    "    train_data.append(test_data[i])    \n",
    "\n",
    "prf = precision_recall_fscore_support(y_true, y_pred_global_lm_retrain, average='weighted')\n",
    "print(prf)\n",
    "print(classification_report(y_true, y_pred_global_lm_retrain))"
   ]
  },
  {
   "cell_type": "code",
   "execution_count": null,
   "metadata": {},
   "outputs": [],
   "source": [
    "# competitor 5: incrementally trained lexical + global + local (opt params) lm\n",
    "\n",
    "train_data = generate_classifier_data_from_global_lm_and_local_params(lm_global, opt_params, lexical=True,\n",
    "                                                                     lm_feats=True)\n",
    "test_data = generate_classifier_data_from_global_lm_and_local_params(lm_global, opt_params, lexical=True,\n",
    "                                                                    lm_feats=True)\n",
    "y_true = [x[1] for x in test_data]\n",
    "y_pred_opt_params_retrain = []\n",
    "\n",
    "for i in range(0, len(test_data)):\n",
    "    cl = trainClassifier(train_data)\n",
    "    y_instance = predictLabels(test_data[i:i+1], cl)\n",
    "    y_pred_opt_params_retrain.extend(y_instance)\n",
    "    train_data.append(test_data[i])    \n",
    "\n",
    "prf = precision_recall_fscore_support(y_true, y_pred_opt_params_retrain, average='weighted')\n",
    "print(prf)\n",
    "print(classification_report(y_true, y_pred_opt_params_retrain))"
   ]
  },
  {
   "cell_type": "code",
   "execution_count": null,
   "metadata": {},
   "outputs": [],
   "source": [
    "# get significant difference in accuracy scores using macnemar test for p<=0.05, 0.01, 0.001\n",
    "test_preds_all_models = [y_pred, y_pred_global_only, y_pred_local_only,  y_pred_lexical_only_retrain,\n",
    "                         y_pred_global_lm_retrain, y_pred_opt_params_retrain]\n",
    "table_of_comparison = np.zeros(len(test_preds_all_models),len(test_preds_all_models))\n",
    "# check symetry of results - though only need the triangle without the diagnoal for all against all\n",
    "for i in range(0, len(test_preds_all_models)):\n",
    "    for j in range(0,len(test_preds_all_models)):\n",
    "        cl1_preds = test_preds_all_models[i]\n",
    "        cl2_preds = test_preds_all_models[j]\n",
    "        table_of_comparison[i][j] = calculate_mcnemar_test(c11_preds, c12_preds, y_true):\n",
    "print(table_of_comparison)"
   ]
  },
  {
   "cell_type": "code",
   "execution_count": null,
   "metadata": {},
   "outputs": [],
   "source": [
    "#‘b’\tblue\n",
    "#‘g’\tgreen\n",
    "#‘r’\tred  (255, 0, 0 )\n",
    "#‘c’\tcyan\n",
    "#‘m’\tmagenta\n",
    "#‘y’\tyellow\n",
    "#‘k’\tblack\n",
    "#‘w’\twhite\n",
    "\n",
    "#orange (255, 128, 0)\n",
    "#grey (160, 160, 160)\n",
    "#pink (255, 153, 204)\n",
    "#brown (153, 76, 0)\n",
    "#purple (102, 0, 204)\n",
    "\n",
    "colour_map = {'F': (160/255, 160/255, 160/255), 'I': \"blue\" , 'L': (255/255, 128/255, 0/255),\n",
    "              'N': (102/255, 0/255, 204/255),\n",
    "              'P': (255/255, 153/255, 204/255), 'T': \"green\", 'U': \"yellow\", 'V': \"blue\",\n",
    "              'W' :\"green\", 'X': \"red\", 'Y': (153/255, 76/255, 0/255), 'Z': \"blue\"}\n",
    "\n",
    "\n",
    "pair_num = 'r5'\n",
    "for target in piece_references_and_probabilities_per_pair[pair_num].keys():\n",
    "    piece_plots = {piece:[] for piece in piece_references_and_probabilities_per_pair.keys()}\n",
    "    print(target)\n",
    "    for ref in piece_references_and_probabilities_per_pair[pair_num][target]:\n",
    "        prob_dict = ref[1]  # 0 is raw probs, 1 is moving average, \n",
    "        \n",
    "        #print(prob_dict)\n",
    "        for piece in prob_dict.keys():\n",
    "            #print(piece)\n",
    "            if piece_plots.get(piece) is None:\n",
    "                #print(\"no piece\", piece)\n",
    "                continue\n",
    "            piece_plots[piece].append(prob_dict[piece])\n",
    "    #print(piece_plots)\n",
    "\n",
    "    for piece in sorted(piece_plots.keys()):\n",
    "        probs = piece_plots[piece]\n",
    "        target_text = \"(TARGET)\" if piece == target else \"\"\n",
    "        linestyle = \"solid\" if piece == target else \"dashed\"\n",
    "        marker = \"o\" if piece == target else \"none\"\n",
    "        plt.plot(probs, label = piece + \" \" + target_text, color=colour_map[piece],\n",
    "                linestyle=linestyle, marker=marker)\n",
    " \n",
    "    \n",
    "    # plot lines\n",
    "    #plt.plot(moving_average([m[0] for m in method1]), label = \"active: mixed models with k=0.015 for previous\")\n",
    "    #plt.plot(moving_average([m[0] for m in method2]), label = \"interactive: retraining language model with incrementing data\")\n",
    "    #plt.plot(moving_average([m[0] for m in method3]), label = \"static baseline\")\n",
    "    #plt.plot(moving_average([m[0] for m in method4]), label = \"interactive: mixed models with k=0.015 for previous + recency\")\n",
    "    #plt.plot(moving_average([m[0] for m in method5]), label = \"active: retraining language model with incrementing data + recency\")\n",
    "    #plt.plot(moving_average([m[0] for m in method6]), label = \"interactive only + recency\")\n",
    "    #plt.plot(moving_average([m[0] for m in method7]), label = \"interactive only\")\n",
    "    plt.legend(bbox_to_anchor=(0.1, 1))\n",
    "    plt.show()"
   ]
  },
  {
   "cell_type": "code",
   "execution_count": null,
   "metadata": {},
   "outputs": [],
   "source": [
    "if False:\n",
    "    predictions_lm_global_lexical = all_preds   ####\n",
    "    0.8869126862186916\n",
    "    0.858740835661667\n",
    "    0.840540883746269\n",
    "    \n",
    "if False:\n",
    "    predictions_local_only = all_preds  \n",
    "    0.8027383467276631\n",
    "    0.7081809589292479\n",
    "    0.7095633954849265\n",
    "    #### worse than predictions_lm_global_lexical\n",
    "    ###[[1410, 151], [461, 171]]\n",
    "    ###statistic=151.000, p-value=0.000\n",
    "    ###Different proportions of errors (reject H0)\n",
    "    \n",
    "\n",
    "\n",
    "if False:\n",
    "    predictions_local_only_through_model = all_preds\n",
    "    0.8466507702262193\n",
    "    0.8220748960978559\n",
    "    0.8181709249993098\n",
    "     #### worse than predictions_lm_global_lexical\n",
    "    # [[1624, 196], [247, 126]]\n",
    "    # statistic=196.000, p-value=0.017\n",
    "    # Different proportions of errors (reject H0)\n",
    "    \n",
    "    # strangely better than predictions_local_only\n",
    "    #[[1453, 367], [108, 265]]\n",
    "    #statistic=108.000, p-value=0.000\n",
    "    #Different proportions of errors (reject H0)\n",
    "    \n",
    "if False:\n",
    "    predictions_local_with_global_0_1_cutoff_5 = all_preds\n",
    "    0.9235015228253362\n",
    "    0.9135418648826275\n",
    "    0.9033869590431085\n",
    "    # better than predictions_local_only_through_model\n",
    "    #[[1710, 110], [281, 92]]\n",
    "    #statistic=110.000, p-value=0.000\n",
    "    #Different proportions of errors (reject H0)\n",
    "    \n",
    "    # better than predictions_lm_global_lexical\n",
    "    #get_contingency_table(predictions_local_with_global_0_1_cutoff_5, predictions_lm_global_lexical, all_y)\n",
    "    #[[1743, 248], [128, 74]]\n",
    "    #statistic=128.000, p-value=0.000\n",
    "    #Different proportions of errors (reject H0)"
   ]
  },
  {
   "cell_type": "code",
   "execution_count": null,
   "metadata": {},
   "outputs": [],
   "source": []
  },
  {
   "cell_type": "code",
   "execution_count": null,
   "metadata": {},
   "outputs": [],
   "source": [
    "#!pip install statsmodels\n",
    "# Example of calculating the mcnemar test\n",
    "from statsmodels.stats.contingency_tables import mcnemar\n",
    "# define contingency table\n",
    "\n",
    "\n",
    "def get_contingency_table(cl1_preds, cl2_preds, ground_truth):\n",
    "    ##  [[c1Y/c2Y, c1Y/C2N], [c1N/C2Y, c1n/c2n]]\n",
    "    table = [[0,0], [0,0]]\n",
    "    for c1, c2, y in zip(cl1_preds, cl2_preds, ground_truth):\n",
    "        if c1 == y:\n",
    "            if c2 == y:\n",
    "                table[0][0]+=1\n",
    "            else:\n",
    "                table[0][1]+=1\n",
    "        else:\n",
    "            if c2 == y:\n",
    "                table[1][0]+=1\n",
    "            else:\n",
    "                table[1][1]+=1\n",
    "    return table\n",
    "\n",
    "c_1 =     [\"b\", \"b\", \"a\", \"b\", \"b\", \"a\", \"b\", \"b\",\"a\", \"b\", \"b\",\"a\", \"b\", \"b\",\"a\", \"b\"]\n",
    "c_2 =     [\"c\", \"b\", \"a\", \"c\", \"b\", \"a\", \"c\", \"b\",\"a\", \"c\", \"b\",\"a\", \"c\", \"b\",\"a\", \"a\"]\n",
    "y_all =   [\"b\", \"b\", \"a\", \"b\", \"b\", \"a\", \"b\", \"b\",\"a\", \"b\", \"b\",\"a\", \"b\", \"b\",\"a\", \"b\"]\n",
    "\n",
    "table = get_contingency_table(c_1, c_2, y_all)\n",
    "print(table)\n",
    "# calculate mcnemar test\n",
    "result = mcnemar(table, exact=True)\n",
    "# summarize the finding\n",
    "print('statistic=%.3f, p-value=%.3f' % (result.statistic, result.pvalue))\n",
    "# interpret the p-value\n",
    "alpha = 0.05\n",
    "if result.pvalue > alpha:\n",
    "    print('Same proportions of errors (fail to reject H0)')\n",
    "else:\n",
    "    print('Different proportions of errors (reject H0)')"
   ]
  },
  {
   "cell_type": "code",
   "execution_count": null,
   "metadata": {},
   "outputs": [],
   "source": [
    "table = get_contingency_table(predictions_local_with_global_0_1_cutoff_5, predictions_lm_global_lexical, all_y)\n",
    "print(table)\n",
    "# calculate mcnemar test\n",
    "result = mcnemar(table, exact=True)\n",
    "# summarize the finding\n",
    "print('statistic=%.3f, p-value=%.3f' % (result.statistic, result.pvalue))\n",
    "# interpret the p-value\n",
    "alpha = 0.05\n",
    "if result.pvalue > alpha:\n",
    "    print('Same proportions of errors (fail to reject H0)')\n",
    "else:\n",
    "    print('Different proportions of errors (reject H0)')"
   ]
  },
  {
   "cell_type": "code",
   "execution_count": null,
   "metadata": {},
   "outputs": [],
   "source": [
    "# Do a cross-fold model by speaker (and get word MI info for referent type)\n",
    "results = []\n",
    "piece_counter = Counter()\n",
    "word_counter = Counter()\n",
    "word_piece_counter = Counter()\n",
    "\n",
    "for PAIR_NUM in exclude:\n",
    "    print(PAIR_NUM)\n",
    "\n",
    "    train_data = []\n",
    "    test_data = []\n",
    "\n",
    "    for piece in piece_references_and_probabilities_per_pair.keys():\n",
    "        #print(piece)\n",
    "        if not piece_references_and_probabilities_per_pair.get(piece):\n",
    "            print(\"not enough data\", piece)\n",
    "            continue\n",
    "        for pair_num in piece_references_and_probabilities_per_pair[piece]:\n",
    "     \n",
    "            #print(pair_num)\n",
    "            count_ref_so_far = 0\n",
    "            for ref_info in piece_references_and_probabilities_per_pair[piece][pair_num]:\n",
    "                piece_lm_prob_local, piece_lm_moving_average, text, speaker, utt_id, end_time = ref_info\n",
    "                piece_counter[piece] += 1\n",
    "                if CORPUS in [\"TAKECV\", \"TAKE\"]:\n",
    "                    local_word_count = Counter()\n",
    "                    feature_vector = {}\n",
    "                    for f in db.execute('SELECT word from words WHERE gameID =\"' + str(gameID) + '\"'):\n",
    "                        #print(f)\n",
    "                        for word in clean_utt(f[0].lower()).split():\n",
    "                            local_word_count[word] += 1\n",
    "                    word_dem = len(local_word_count.values())\n",
    "                    for k, v in local_word_count.items():\n",
    "                        feature_vector[k] = local_word_count[k]/word_dem\n",
    "                        word_counter[k] += (v/word_dem)\n",
    "                        word_piece_counter[piece+\"__\"+k] += (v/word_dem)\n",
    "                elif CORPUS == \"PENTOCV\":\n",
    "                    feature_vector = {}\n",
    "                    \n",
    "                    clean_utt = text.lower().split()\n",
    "                    word_dem = len(clean_utt)\n",
    "                    \n",
    "                    local_word_count = Counter()\n",
    "\n",
    "                    for word in clean_utt:\n",
    "                        word_counter[word] += (1/word_dem)   # for global\n",
    "                        word_piece_counter[piece+\"__\"+word] += (1/word_dem)  #for global\n",
    "                        local_word_count[word] += 1\n",
    "                    \n",
    "                    for k, v in local_word_count.items():\n",
    "                        feature_vector[k] = local_word_count[k]/word_dem\n",
    "                    \n",
    "                    LOCAL = True\n",
    "                    if LOCAL:\n",
    "                        #for k, v in piece_lm_prob_local.items():\n",
    "                        #    feature_vector['local_prob_' + k] = v\n",
    "\n",
    "                        zscore_dict = get_zscore_dict_for_prob_dict(piece_lm_prob_local)\n",
    "\n",
    "                        #for k, v in zscore_dict.items():\n",
    "                        #    feature_vector['local_zscore_prob_' + k] = v \n",
    "                        \n",
    "                        \n",
    "                        #for k, v in piece_lm_moving_average.items():\n",
    "                        #    feature_vector['local_prob_moving_' + k] = v\n",
    "                        \n",
    "                        \n",
    "                        zscore_dict_average = get_zscore_dict_for_prob_dict(piece_lm_moving_average)\n",
    "\n",
    "                        for k, v in zscore_dict_average.items():\n",
    "                            feature_vector['local_zscore_prob_moving_' + k] = v \n",
    "                            \n",
    "                            \n",
    "                        #rank_dict = get_rank_dict_for_prob_dict(piece_lm_prob_local)\n",
    "\n",
    "                        #for k, v in rank_dict.items():\n",
    "                        #    feature_vector['local_prob_rank' + k] = v \n",
    "\n",
    "                    count_ref_so_far+=1\n",
    "                    if count_ref_so_far > 7:\n",
    "                        pass\n",
    "                    #feature_vector[\"count_ref_so_far\"] = count_ref_so_far\n",
    "                    \n",
    "                    if pair_num == PAIR_NUM:\n",
    "                        test_data.append((feature_vector, piece))\n",
    "                    else:\n",
    "                        train_data.append((feature_vector, piece))\n",
    "    cl = trainClassifier(train_data)\n",
    "    print(train_data[0])\n",
    "    y_true = [x[1] for x in test_data]\n",
    "    y_pred = predictLabels(test_data, cl)\n",
    "    prf = precision_recall_fscore_support(y_true, y_pred, average='weighted')\n",
    "    results.append(prf)\n",
    "    print(prf)\n",
    "    print(classification_report(y_true, y_pred))\n",
    "print(np.mean([x[0] for x in results]))\n",
    "print(np.mean([x[1] for x in results]))\n",
    "print(np.mean([x[2] for x in results]))"
   ]
  },
  {
   "cell_type": "code",
   "execution_count": null,
   "metadata": {},
   "outputs": [],
   "source": [
    "# EXHAUSTIVE RETRAINING BASELINE - TODO NEED TO MAKE IT STRICTLY IN ORDER, WHICH MAKES IT HARDER\n",
    "results = []\n",
    "for PAIR_NUM in piece_references_and_probabilities_per_pair['X'].keys():\n",
    "    print(PAIR_NUM)\n",
    "    train_data = []\n",
    "    test_data = []\n",
    "\n",
    "    for piece in piece_references_and_probabilities_per_pair.keys():\n",
    "        #print(piece)\n",
    "        if not piece_references_and_probabilities_per_pair.get(piece):\n",
    "            print(\"not enought data\", piece)\n",
    "            continue\n",
    "        for pair_num in piece_references_and_probabilities_per_pair[piece]:\n",
    "            #print(pair_num)\n",
    "            count_ref_so_far = 0\n",
    "            for ref_info in piece_references_and_probabilities_per_pair[piece][pair_num]:\n",
    "                piece_lm_prob_local, piece_lm_moving_average, text, speaker, utt_id, end_time = ref_info\n",
    "                \n",
    "                if CORPUS in [\"TAKECV\", \"TAKE\"]:\n",
    "                    local_word_count = Counter()\n",
    "                    feature_vector = {}\n",
    "                    for f in db.execute('SELECT word from words WHERE gameID =\"' + str(gameID) + '\"'):\n",
    "                        #print(f)\n",
    "                        for word in clean_utt(f[0].lower()).split():\n",
    "                            local_word_count[word] += 1\n",
    "                    word_dem = len(local_word_count.values())\n",
    "                    for k, v in local_word_count.items():\n",
    "                        feature_vector[k] = local_word_count[k]/word_dem\n",
    "                        word_counter[k] += (v/word_dem)\n",
    "                        word_piece_counter[piece+\"__\"+k] += (v/word_dem)\n",
    "                elif CORPUS == \"PENTOCV\":\n",
    "                    feature_vector = {}\n",
    "                    \n",
    "                    clean_utt = text.lower().split()\n",
    "                    word_dem = len(clean_utt)\n",
    "                    \n",
    "                    local_word_count = Counter()\n",
    "\n",
    "                    for word in clean_utt:\n",
    "                        #word_counter[word] += (1/word_dem)   # for global\n",
    "                        #word_piece_counter[piece+\"__\"+word] += (1/word_dem)  #for global\n",
    "                        local_word_count[word] += 1\n",
    "                    \n",
    "                    for k, v in local_word_count.items():\n",
    "                        feature_vector[k] = local_word_count[k]/word_dem\n",
    "                    \n",
    "                    LOCAL = False\n",
    "                    if LOCAL:\n",
    "                        #for k, v in piece_lm_prob_local.items():\n",
    "                        #    feature_vector['local_prob_' + k] = v\n",
    "\n",
    "                        zscore_dict = get_zscore_dict_for_prob_dict(piece_lm_prob_local)\n",
    "\n",
    "                        #for k, v in zscore_dict.items():\n",
    "                        #    feature_vector['local_zscore_prob_' + k] = v \n",
    "                        \n",
    "                        \n",
    "                        #for k, v in piece_lm_moving_average.items():\n",
    "                        #    feature_vector['local_prob_moving_' + k] = v\n",
    "                        \n",
    "                        \n",
    "                        zscore_dict_average = get_zscore_dict_for_prob_dict(piece_lm_moving_average)\n",
    "\n",
    "                        for k, v in zscore_dict_average.items():\n",
    "                            feature_vector['local_zscore_prob_moving_' + k] = v \n",
    "                            \n",
    "                            \n",
    "                        #rank_dict = get_rank_dict_for_prob_dict(piece_lm_prob_local)\n",
    "\n",
    "                        #for k, v in rank_dict.items():\n",
    "                        #    feature_vector['local_prob_rank' + k] = v \n",
    "\n",
    "                    count_ref_so_far+=1\n",
    "                    if count_ref_so_far > 7:\n",
    "                        pass\n",
    "                    #feature_vector[\"count_ref_so_far\"] = count_ref_so_far\n",
    "                    \n",
    "                    if pair_num == PAIR_NUM:\n",
    "                        test_data.append((feature_vector, piece))\n",
    "                    else:\n",
    "                        train_data.append((feature_vector, piece))\n",
    "    \n",
    "    y_true = [x[1] for x in test_data]\n",
    "    y_pred = []\n",
    "    # do exhaustive incremental testing on current exmaple then retraining given last example\n",
    "    for t in range(0, len(test_data)):\n",
    "        cl = trainClassifier(train_data)\n",
    "        #print(train_data[0])\n",
    "    \n",
    "        y_pred.extend(predictLabels([test_data[t]], cl))\n",
    "        feats, label = test_data[t]\n",
    "        feats = {k:v for k, v in feats.items()}\n",
    "        train_data.append((feats, label))\n",
    "    prf = precision_recall_fscore_support(y_true, y_pred, average='weighted')\n",
    "    results.append(prf)\n",
    "    print(prf)\n",
    "    print(classification_report(y_true, y_pred))\n",
    "print(np.mean([x[0] for x in results]))\n",
    "print(np.mean([x[1] for x in results]))\n",
    "print(np.mean([x[2] for x in results]))\n"
   ]
  },
  {
   "cell_type": "code",
   "execution_count": null,
   "metadata": {},
   "outputs": [],
   "source": [
    "# first 7\n",
    "0.799084599407264\n",
    "0.7763501742160279\n",
    "0.7687179024923494\n",
    "\n",
    "# 7th reference onwards\n",
    "0.9070414560007611\n",
    "0.8860422229872891\n",
    "0.8913018153266432\n",
    "\n",
    "######\n",
    "# no local: first 7th\n",
    "0.8081007772106106\n",
    "0.7847827138985676\n",
    "0.769680836038908\n",
    "\n",
    "\n",
    "# 7th reference onwards\n",
    "0.8870381606486294\n",
    "0.8416727513847977\n",
    "0.8452945489474868\n",
    "\n",
    "\n",
    "######## ANAPHORS INCLUDED\n",
    "\n",
    "# Just lexical (no local):\n",
    "folds = [(0.8343362282878413, 0.6696428571428571, 0.6646344339585925, None), (0.7751388356942908, 0.6567796610169492, 0.6389782650087881, None), (0.8436337379459808, 0.8318840579710145, 0.8288104055372693, None), (0.8113474218938344, 0.748730964467005, 0.7500110474092568, None), (0.8006385394394444, 0.7194570135746606, 0.7139708353420309, None), (0.8865255347897608, 0.8523985239852399, 0.8480169565052978, None), (0.875462715233778, 0.8433420365535248, 0.8458301462869497, None), (0.6828855495800346, 0.5995717344753747, 0.5785474667579829, None)] + probs\n",
    "0.8137460703581206\n",
    "0.7402258561483283\n",
    "0.733599944600771\n",
    "\n",
    "# NB also get this? (2)\n",
    "0.7760773490842137\n",
    "0.6742929646244494\n",
    "0.6870837082841104\n",
    "\n",
    "\n",
    "\n",
    "# Lexical + large language model only zscore + moving average zscore:\n",
    "0.8783176188823876\n",
    "0.864797219798711\n",
    "0.8477371357172677\n",
    "\n",
    "# Lexical + local only\n",
    "0.8512635887308037\n",
    "0.8056822726271888\n",
    "0.804419210894042\n",
    "\n",
    "# (NB THIS CAN BE WORSE IN THE NON-COMBINATION MODEL AT 0.73?)\n",
    "\n",
    "# Lexical + global + local mix (0.1 and 5 word cut-off)\n",
    "0.9454755299899154\n",
    "0.9384068603538054\n",
    "0.9326283115477803\n",
    "\n",
    "\n",
    "\n",
    "# RETRAINING AFTER EVERY STEP WITH LOCAL MODEL FEATURES\n",
    "0.9743351380668108\n",
    "0.9705121847833994\n",
    "0.9706865125416868\n",
    "\n",
    "# RETRAINING AFTER EVERY STEP WITH NON LOCAL LM FEATURES\n",
    "0.9648312888445624\n",
    "0.959002612053766\n",
    "0.9585806352758561\n",
    "\n",
    "# RETRAINING AFTER EVERY STEP WITH NO LOCAL MODEL FEATURES (JUST LEXICAL) - see (2 above)\n",
    "0.7726613998556959\n",
    "0.7074927259648329\n",
    "0.7179627212445062"
   ]
  },
  {
   "cell_type": "code",
   "execution_count": null,
   "metadata": {},
   "outputs": [],
   "source": [
    "print(results, \"+ probs\")\n",
    "print(np.mean([x[0] for x in results]))\n",
    "print(np.mean([x[1] for x in results]))\n",
    "print(np.mean([x[2] for x in results]))"
   ]
  },
  {
   "cell_type": "markdown",
   "metadata": {},
   "source": [
    "print(results, \"+ zscores, no probs\")\n",
    "print(np.mean([x[0] for x in results]))\n",
    "print(np.mean([x[1] for x in results]))\n",
    "print(np.mean([x[2] for x in results]))\n",
    "Training Classifier...\n",
    "/Users/julianhough/miniforge3/lib/python3.10/site-packages/sklearn/svm/_base.py:1244: ConvergenceWarning: Liblinear failed to converge, increase the number of iterations.\n",
    "  warnings.warn(\n",
    "(0.8643671328671328, 0.82, 0.8271238761238762, None)\n",
    "              precision    recall  f1-score   support\n",
    "\n",
    "           F       1.00      1.00      1.00         5\n",
    "           I       0.57      0.57      0.57         7\n",
    "           L       1.00      0.83      0.91        12\n",
    "           N       0.62      0.83      0.71         6\n",
    "           P       1.00      0.80      0.89        15\n",
    "           T       1.00      0.86      0.92        14\n",
    "           U       0.80      0.50      0.62         8\n",
    "           V       0.33      0.67      0.44         3\n",
    "           W       0.62      1.00      0.76         8\n",
    "           X       0.82      1.00      0.90         9\n",
    "           Y       1.00      0.91      0.95        11\n",
    "           Z       1.00      0.50      0.67         2\n",
    "\n",
    "    accuracy                           0.82       100\n",
    "   macro avg       0.81      0.79      0.78       100\n",
    "weighted avg       0.86      0.82      0.83       100\n",
    "\n",
    "Training Classifier...\n",
    "/Users/julianhough/miniforge3/lib/python3.10/site-packages/sklearn/svm/_base.py:1244: ConvergenceWarning: Liblinear failed to converge, increase the number of iterations.\n",
    "  warnings.warn(\n",
    "(0.8240871203100304, 0.8176470588235294, 0.8150765126290163, None)\n",
    "              precision    recall  f1-score   support\n",
    "\n",
    "           F       0.92      0.69      0.79        16\n",
    "           I       0.62      0.57      0.59        14\n",
    "           L       0.80      0.62      0.70        13\n",
    "           N       1.00      0.93      0.96        14\n",
    "           P       0.82      1.00      0.90         9\n",
    "           T       0.94      0.94      0.94        16\n",
    "           U       0.73      1.00      0.85        11\n",
    "           V       0.67      0.57      0.62         7\n",
    "           W       0.91      0.95      0.93        21\n",
    "           X       0.84      0.94      0.89        17\n",
    "           Y       0.64      0.74      0.68        19\n",
    "           Z       0.91      0.77      0.83        13\n",
    "\n",
    "    accuracy                           0.82       170\n",
    "   macro avg       0.82      0.81      0.81       170\n",
    "weighted avg       0.82      0.82      0.82       170\n",
    "\n",
    "Training Classifier...\n",
    "/Users/julianhough/miniforge3/lib/python3.10/site-packages/sklearn/svm/_base.py:1244: ConvergenceWarning: Liblinear failed to converge, increase the number of iterations.\n",
    "  warnings.warn(\n",
    "(0.9174162912751319, 0.9060150375939849, 0.9048130247138406, None)\n",
    "              precision    recall  f1-score   support\n",
    "\n",
    "           F       1.00      0.94      0.97        18\n",
    "           I       0.70      0.95      0.81        20\n",
    "           L       0.88      1.00      0.94        22\n",
    "           N       1.00      0.96      0.98        24\n",
    "           P       0.89      0.89      0.89        18\n",
    "           T       0.94      0.85      0.89        34\n",
    "           U       1.00      1.00      1.00        18\n",
    "           V       0.79      0.85      0.81        26\n",
    "           W       0.82      0.90      0.86        20\n",
    "           X       1.00      1.00      1.00        26\n",
    "           Y       1.00      1.00      1.00        19\n",
    "           Z       1.00      0.57      0.73        21\n",
    "\n",
    "    accuracy                           0.91       266\n",
    "   macro avg       0.92      0.91      0.91       266\n",
    "weighted avg       0.92      0.91      0.90       266\n",
    "\n",
    "Training Classifier...\n",
    "/Users/julianhough/miniforge3/lib/python3.10/site-packages/sklearn/svm/_base.py:1244: ConvergenceWarning: Liblinear failed to converge, increase the number of iterations.\n",
    "  warnings.warn(\n",
    "(0.8877626562741163, 0.8807017543859649, 0.8826880082677435, None)\n",
    "              precision    recall  f1-score   support\n",
    "\n",
    "           F       1.00      0.94      0.97        18\n",
    "           I       0.72      0.86      0.78        21\n",
    "           L       0.62      0.83      0.71        12\n",
    "           N       0.90      0.90      0.90        29\n",
    "           P       0.85      0.85      0.85        20\n",
    "           T       0.92      0.85      0.88        26\n",
    "           U       0.97      0.94      0.95        33\n",
    "           V       0.87      0.84      0.85        31\n",
    "           W       0.91      0.87      0.89        23\n",
    "           X       0.94      0.97      0.95        30\n",
    "           Y       1.00      0.92      0.96        25\n",
    "           Z       0.75      0.71      0.73        17\n",
    "\n",
    "    accuracy                           0.88       285\n",
    "   macro avg       0.87      0.87      0.87       285\n",
    "weighted avg       0.89      0.88      0.88       285\n",
    "\n",
    "Training Classifier...\n",
    "/Users/julianhough/miniforge3/lib/python3.10/site-packages/sklearn/svm/_base.py:1244: ConvergenceWarning: Liblinear failed to converge, increase the number of iterations.\n",
    "  warnings.warn(\n",
    "(0.8661624951217711, 0.8531468531468531, 0.8533600723286038, None)\n",
    "              precision    recall  f1-score   support\n",
    "\n",
    "           F       0.86      0.86      0.86         7\n",
    "           I       0.33      0.20      0.25         5\n",
    "           L       0.65      1.00      0.79        11\n",
    "           N       1.00      0.87      0.93        15\n",
    "           P       1.00      1.00      1.00        12\n",
    "           T       0.75      0.90      0.82        10\n",
    "           U       1.00      1.00      1.00        15\n",
    "           V       0.46      0.55      0.50        11\n",
    "           W       1.00      0.86      0.92        14\n",
    "           X       1.00      1.00      1.00        16\n",
    "           Y       1.00      0.88      0.94        17\n",
    "           Z       0.75      0.60      0.67        10\n",
    "\n",
    "    accuracy                           0.85       143\n",
    "   macro avg       0.82      0.81      0.81       143\n",
    "weighted avg       0.87      0.85      0.85       143\n",
    "\n",
    "Training Classifier...\n",
    "/Users/julianhough/miniforge3/lib/python3.10/site-packages/sklearn/svm/_base.py:1244: ConvergenceWarning: Liblinear failed to converge, increase the number of iterations.\n",
    "  warnings.warn(\n",
    "(0.8492155043476253, 0.8178294573643411, 0.8104505814768325, None)\n",
    "              precision    recall  f1-score   support\n",
    "\n",
    "           F       0.94      0.94      0.94        17\n",
    "           I       0.81      0.65      0.72        26\n",
    "           L       0.88      0.84      0.86        25\n",
    "           N       0.97      1.00      0.99        33\n",
    "           P       0.96      1.00      0.98        26\n",
    "           T       1.00      0.38      0.56        26\n",
    "           U       1.00      0.94      0.97        17\n",
    "           V       0.67      0.45      0.54        22\n",
    "           W       0.58      0.91      0.71        23\n",
    "           X       0.92      1.00      0.96        12\n",
    "           Y       0.76      0.96      0.85        23\n",
    "           Z       0.44      0.88      0.58         8\n",
    "\n",
    "    accuracy                           0.82       258\n",
    "   macro avg       0.83      0.83      0.80       258\n",
    "weighted avg       0.85      0.82      0.81       258\n",
    "\n",
    "Training Classifier...\n",
    "/Users/julianhough/miniforge3/lib/python3.10/site-packages/sklearn/svm/_base.py:1244: ConvergenceWarning: Liblinear failed to converge, increase the number of iterations.\n",
    "  warnings.warn(\n",
    "(0.877119243542806, 0.8636363636363636, 0.8635317127546905, None)\n",
    "              precision    recall  f1-score   support\n",
    "\n",
    "           F       1.00      0.90      0.95        29\n",
    "           I       0.54      0.83      0.66        30\n",
    "           L       1.00      0.86      0.92        35\n",
    "           N       0.98      1.00      0.99        41\n",
    "           P       0.96      1.00      0.98        25\n",
    "           T       0.83      0.80      0.82        25\n",
    "           U       0.92      1.00      0.96        23\n",
    "           V       0.71      0.67      0.69        33\n",
    "           W       0.77      0.82      0.79        28\n",
    "           X       1.00      0.97      0.99        38\n",
    "           Y       1.00      1.00      1.00        23\n",
    "           Z       0.75      0.41      0.53        22\n",
    "\n",
    "    accuracy                           0.86       352\n",
    "   macro avg       0.87      0.85      0.86       352\n",
    "weighted avg       0.88      0.86      0.86       352\n",
    "\n",
    "Training Classifier...\n",
    "(0.7745976880211548, 0.7553516819571865, 0.7516840670381353, None)\n",
    "              precision    recall  f1-score   support\n",
    "\n",
    "           F       0.75      0.60      0.67        25\n",
    "           I       0.55      0.38      0.44        16\n",
    "           L       0.69      0.87      0.77        31\n",
    "           N       0.85      0.49      0.62        35\n",
    "           P       0.94      0.77      0.85        22\n",
    "           T       0.80      0.90      0.85        40\n",
    "           U       0.95      0.95      0.95        19\n",
    "           V       0.64      0.62      0.63        29\n",
    "           W       0.70      0.85      0.77        33\n",
    "           X       0.93      0.83      0.88        30\n",
    "           Y       0.91      0.80      0.85        25\n",
    "           Z       0.53      0.91      0.67        22\n",
    "\n",
    "    accuracy                           0.76       327\n",
    "   macro avg       0.77      0.75      0.74       327\n",
    "weighted avg       0.77      0.76      0.75       327\n",
    "\n",
    "0.857591016469971\n",
    "0.839291025863528\n",
    "0.8385909819165923"
   ]
  },
  {
   "cell_type": "code",
   "execution_count": null,
   "metadata": {},
   "outputs": [],
   "source": [
    "print(results, \"no local probs\")\n",
    "print(np.mean([x[0] for x in results]))\n",
    "print(np.mean([x[1] for x in results]))\n",
    "print(np.mean([x[2] for x in results]))\n",
    "\n",
    "Training Classifier...\n",
    "(0.8174500891265598, 0.72, 0.7050823983034509, None)\n",
    "              precision    recall  f1-score   support\n",
    "\n",
    "           F       1.00      1.00      1.00         5\n",
    "           I       0.42      0.71      0.53         7\n",
    "           L       0.62      0.83      0.71        12\n",
    "           N       1.00      0.67      0.80         6\n",
    "           P       1.00      0.20      0.33        15\n",
    "           T       1.00      0.86      0.92        14\n",
    "           U       0.75      0.38      0.50         8\n",
    "           V       0.40      0.67      0.50         3\n",
    "           W       0.47      1.00      0.64         8\n",
    "           X       0.82      1.00      0.90         9\n",
    "           Y       1.00      0.91      0.95        11\n",
    "           Z       1.00      0.50      0.67         2\n",
    "\n",
    "    accuracy                           0.72       100\n",
    "   macro avg       0.79      0.73      0.70       100\n",
    "weighted avg       0.82      0.72      0.71       100\n",
    "\n",
    "Training Classifier...\n",
    "(0.834859943977591, 0.8117647058823529, 0.8149470677453468, None)\n",
    "              precision    recall  f1-score   support\n",
    "\n",
    "           F       0.73      0.69      0.71        16\n",
    "           I       0.60      0.64      0.62        14\n",
    "           L       0.60      0.69      0.64        13\n",
    "           N       1.00      0.93      0.96        14\n",
    "           P       0.75      1.00      0.86         9\n",
    "           T       1.00      0.94      0.97        16\n",
    "           U       0.79      1.00      0.88        11\n",
    "           V       0.80      0.57      0.67         7\n",
    "           W       0.67      0.86      0.75        21\n",
    "           X       1.00      0.88      0.94        17\n",
    "           Y       1.00      0.74      0.85        19\n",
    "           Z       1.00      0.77      0.87        13\n",
    "\n",
    "    accuracy                           0.81       170\n",
    "   macro avg       0.83      0.81      0.81       170\n",
    "weighted avg       0.83      0.81      0.81       170\n",
    "\n",
    "Training Classifier...\n",
    "(0.9159195345407927, 0.9022556390977443, 0.9025895692452572, None)\n",
    "              precision    recall  f1-score   support\n",
    "\n",
    "           F       1.00      0.89      0.94        18\n",
    "           I       0.63      0.95      0.76        20\n",
    "           L       0.96      1.00      0.98        22\n",
    "           N       1.00      0.96      0.98        24\n",
    "           P       0.94      0.89      0.91        18\n",
    "           T       0.94      0.85      0.89        34\n",
    "           U       1.00      1.00      1.00        18\n",
    "           V       0.79      0.85      0.81        26\n",
    "           W       0.82      0.90      0.86        20\n",
    "           X       1.00      1.00      1.00        26\n",
    "           Y       1.00      1.00      1.00        19\n",
    "           Z       0.92      0.57      0.71        21\n",
    "\n",
    "    accuracy                           0.90       266\n",
    "   macro avg       0.92      0.90      0.90       266\n",
    "weighted avg       0.92      0.90      0.90       266\n",
    "\n",
    "Training Classifier...\n",
    "(0.8976078088578088, 0.887719298245614, 0.8902415421467847, None)\n",
    "              precision    recall  f1-score   support\n",
    "\n",
    "           F       0.94      0.94      0.94        18\n",
    "           I       0.68      0.90      0.78        21\n",
    "           L       0.67      0.83      0.74        12\n",
    "           N       1.00      0.86      0.93        29\n",
    "           P       0.85      0.85      0.85        20\n",
    "           T       0.92      0.85      0.88        26\n",
    "           U       0.97      0.94      0.95        33\n",
    "           V       0.87      0.84      0.85        31\n",
    "           W       0.91      0.87      0.89        23\n",
    "           X       1.00      0.97      0.98        30\n",
    "           Y       0.88      0.92      0.90        25\n",
    "           Z       0.88      0.82      0.85        17\n",
    "\n",
    "    accuracy                           0.89       285\n",
    "   macro avg       0.88      0.88      0.88       285\n",
    "weighted avg       0.90      0.89      0.89       285\n",
    "\n",
    "Training Classifier...\n",
    "(0.8651029486076791, 0.8531468531468531, 0.8536309338434843, None)\n",
    "              precision    recall  f1-score   support\n",
    "\n",
    "           F       0.86      0.86      0.86         7\n",
    "           I       0.33      0.20      0.25         5\n",
    "           L       0.65      1.00      0.79        11\n",
    "           N       1.00      0.87      0.93        15\n",
    "           P       1.00      1.00      1.00        12\n",
    "           T       0.82      0.90      0.86        10\n",
    "           U       1.00      1.00      1.00        15\n",
    "           V       0.46      0.55      0.50        11\n",
    "           W       1.00      0.86      0.92        14\n",
    "           X       1.00      1.00      1.00        16\n",
    "           Y       1.00      0.88      0.94        17\n",
    "           Z       0.67      0.60      0.63        10\n",
    "\n",
    "    accuracy                           0.85       143\n",
    "   macro avg       0.82      0.81      0.81       143\n",
    "weighted avg       0.87      0.85      0.85       143\n",
    "\n",
    "Training Classifier...\n",
    "(0.8656913221242073, 0.8333333333333334, 0.834707644846363, None)\n",
    "              precision    recall  f1-score   support\n",
    "\n",
    "           F       1.00      0.94      0.97        17\n",
    "           I       0.65      0.65      0.65        26\n",
    "           L       1.00      0.84      0.91        25\n",
    "           N       0.97      1.00      0.99        33\n",
    "           P       1.00      1.00      1.00        26\n",
    "           T       1.00      0.62      0.76        26\n",
    "           U       1.00      0.94      0.97        17\n",
    "           V       0.62      0.36      0.46        22\n",
    "           W       0.51      0.91      0.66        23\n",
    "           X       1.00      1.00      1.00        12\n",
    "           Y       0.96      0.96      0.96        23\n",
    "           Z       0.50      0.88      0.64         8\n",
    "\n",
    "    accuracy                           0.83       258\n",
    "   macro avg       0.85      0.84      0.83       258\n",
    "weighted avg       0.87      0.83      0.83       258\n",
    "\n",
    "Training Classifier...\n",
    "(0.884811507936508, 0.8664772727272727, 0.8651566296235648, None)\n",
    "              precision    recall  f1-score   support\n",
    "\n",
    "           F       1.00      0.90      0.95        29\n",
    "           I       0.67      0.87      0.75        30\n",
    "           L       1.00      0.86      0.92        35\n",
    "           N       0.98      1.00      0.99        41\n",
    "           P       1.00      1.00      1.00        25\n",
    "           T       0.83      0.80      0.82        25\n",
    "           U       0.92      1.00      0.96        23\n",
    "           V       0.59      0.79      0.68        33\n",
    "           W       0.77      0.82      0.79        28\n",
    "           X       0.97      0.89      0.93        38\n",
    "           Y       1.00      1.00      1.00        23\n",
    "           Z       0.89      0.36      0.52        22\n",
    "\n",
    "    accuracy                           0.87       352\n",
    "   macro avg       0.88      0.86      0.86       352\n",
    "weighted avg       0.88      0.87      0.87       352\n",
    "\n",
    "Training Classifier...\n",
    "(0.8038244434453188, 0.7798165137614679, 0.7780526830735471, None)\n",
    "              precision    recall  f1-score   support\n",
    "\n",
    "           F       0.69      0.72      0.71        25\n",
    "           I       0.44      0.44      0.44        16\n",
    "           L       0.84      0.87      0.86        31\n",
    "           N       0.94      0.49      0.64        35\n",
    "           P       0.94      0.73      0.82        22\n",
    "           T       0.86      0.90      0.88        40\n",
    "           U       1.00      0.95      0.97        19\n",
    "           V       0.70      0.66      0.68        29\n",
    "           W       0.69      0.94      0.79        33\n",
    "           X       0.86      0.80      0.83        30\n",
    "           Y       0.96      0.88      0.92        25\n",
    "           Z       0.57      0.91      0.70        22\n",
    "\n",
    "    accuracy                           0.78       327\n",
    "   macro avg       0.79      0.77      0.77       327\n",
    "weighted avg       0.80      0.78      0.78       327\n",
    "\n",
    "0.8606584498270582\n",
    "0.8318142020243298\n",
    "0.8305510586034749"
   ]
  },
  {
   "cell_type": "code",
   "execution_count": null,
   "metadata": {},
   "outputs": [],
   "source": [
    "if False:\n",
    "    #10-f cross_val on individual pairs (smaller datasets)\n",
    "    ind_results= {\"r1\" : (0.8224358974358974, 0.7846153846153846, 0.7778205128205128),\n",
    "    \"r2\" : (0.7678858784893269, 0.6637931034482759, 0.675242522256069),\n",
    "    \"r3\" : (0.8181915306915307, 0.7599067599067599, 0.758845497936407),\n",
    "    \"r4\" : (0.7992240687681375, 0.68470066518847, 0.6877442020358089),\n",
    "    \"r5\" : (0.7639380411255411, 0.6191666666666666, 0.6379182692307691),\n",
    "    \"r6\" : (0.9057487922705313, 0.8761528326745719, 0.8737389495294634),\n",
    "    \"r7\" : (0.8732662337662337, 0.8296739130434782, 0.8278420650668934),\n",
    "    \"r8\" : (0.7130039355485784, 0.5734432234432234, 0.5872288333290527)}\n",
    "\n",
    "    print(\"Trained on same data 10f cross (average performance per pair) av 1/8 of data\")\n",
    "    print(np.mean([x[0] for x in ind_results.values()]))\n",
    "    print(np.mean([x[1] for x in ind_results.values()]))\n",
    "    print(np.mean([x[2] for x in ind_results.values()]))\n",
    "\n",
    "    print(\"*\" * 30)\n",
    "    print(\"Trained on all data (mixed) 10-fold cross val (of random 1/8th of data)\")\n",
    "    #10-f cross_val mixed overall (whole dataset)\n",
    "    global_result_10f_of_random_eighth = [\n",
    "        (0.7303828289936665, 0.6563546798029556, 0.6591810707081643),\n",
    "        (0.7773714129329894, 0.7020689655172414, 0.705385763114827),\n",
    "        (0.7340298765274135, 0.6626600985221675, 0.6634152186073369),\n",
    "        (0.763595589960122, 0.6799014778325124, 0.6800262533435527)\n",
    "    ]\n",
    "    print(np.mean([x[0] for x in global_result_10f_of_random_eighth]))\n",
    "    print(np.mean([x[1] for x in global_result_10f_of_random_eighth]))\n",
    "    print(np.mean([x[2] for x in global_result_10f_of_random_eighth]))\n",
    "\n",
    "\n",
    "    print(\"*\" * 30)\n",
    "    print(\"Trained on all data (mixed) 8-fold cross val (full_data)\")\n",
    "    #10-f cross_val mixed overall (whole dataset)\n",
    "    global_result_8 = (0.7844808924585374, 0.7293746248177686, 0.7410059116896628)\n",
    "    global_result_10 = (0.7905361390798162, 0.7292899089488714, 0.7417777879399795)\n",
    "    for x in global_result_8:\n",
    "        print(x)\n",
    "    \n",
    "\n",
    "print(\"*\" * 30)\n",
    "#mixed- trained on other 7\n",
    "other_results= {\"r1\" : (0.7779836356055868, 0.6829268292682927, 0.690424865840207, None),\n",
    "\"r2\" : (0.7219102027091829, 0.6401384083044983, 0.6505178871728421, None),\n",
    "\"r3\" : (0.8292961148443981, 0.734375, 0.7530287500141206, None),\n",
    "\"r4\" : (0.7893900944674533, 0.7048054919908466, 0.7258770742493045, None),\n",
    "\"r5\" : (0.7215635412139649, 0.6059322033898306, 0.6263491634014793, None),\n",
    "\"r6\" : (0.8328990107115107, 0.809375, 0.8035774233470034, None),\n",
    "\"r7\" : (0.8375586804425542, 0.8149779735682819, 0.818528077822021, None),\n",
    "\"r8\" : (0.7323545548007373, 0.5745098039215686, 0.5976834631543789, None)}\n",
    "\n",
    "print(\"Trained on other data 8-dialogue-fold cross-val\")\n",
    "print(np.mean([x[0] for x in other_results.values()]))\n",
    "print(np.mean([x[1] for x in other_results.values()]))\n",
    "print(np.mean([x[2] for x in other_results.values()]))"
   ]
  },
  {
   "cell_type": "code",
   "execution_count": null,
   "metadata": {},
   "outputs": [],
   "source": [
    "good_pieces = [\"X\", \"Y\", \"P\", \"N\", \"U\", \"F\", \"Z\", \"L\", \"T\", \"I\", \"W\", \"V\", \"UNK\"]\n",
    "print(\"non standard pieces\", {k:v for k,v in piece_counter.items() if k not in good_pieces})\n",
    "piece_counter"
   ]
  },
  {
   "cell_type": "code",
   "execution_count": null,
   "metadata": {},
   "outputs": [],
   "source": [
    "print(len(word_counter), \"words\")\n",
    "word_counter.most_common(20)"
   ]
  },
  {
   "cell_type": "code",
   "execution_count": null,
   "metadata": {},
   "outputs": [],
   "source": [
    "word_total = sum(word_piece_counter.values())\n",
    "piece_total= sum(piece_counter.values())"
   ]
  },
  {
   "cell_type": "code",
   "execution_count": null,
   "metadata": {},
   "outputs": [],
   "source": [
    "\n",
    "for piece, piece_count in sorted(piece_counter.items()):\n",
    "    p_piece = piece_count/piece_total\n",
    "    print(\"piece:\", piece, piece_count, p_piece)\n",
    "    highest = -1\n",
    "    best_word = \"\"\n",
    "    rank = {}\n",
    "    for word, w_count in word_counter.items():\n",
    "        #print(word, w_count)\n",
    "        if w_count < 2: \n",
    "            continue\n",
    "        p_word = w_count / word_total\n",
    "        p_word_piece = word_piece_counter[piece+\"__\"+word] / word_total\n",
    "        #check bayes = p(w|c)p(c) = p(c|w)p(w)\n",
    "        bayes_check_1 = (word_piece_counter[piece+\"__\"+word]/piece_count) * p_piece\n",
    "        bayes_check_2 = (word_piece_counter[piece+\"__\"+word]/w_count) * p_word\n",
    "        if not round(bayes_check_1,4)== round(bayes_check_2,4):\n",
    "            print(\"MISMATCH\", word, bayes_check_1, bayes_check_2)\n",
    "        mi = (p_word_piece/(p_piece * p_word))\n",
    "        rank[word] = (mi, word_piece_counter[piece+\"__\"+word], p_word_piece, w_count, p_word)\n",
    "        if mi > highest:\n",
    "            highest = mi\n",
    "            best_word = word\n",
    "    if True:\n",
    "        top = 30\n",
    "        for k, v in sorted(rank.items(), key=lambda x:x[1][0], reverse=True):\n",
    "            print(k,v[0], [round(x,4) for x in v[1:]])\n",
    "            top -=1\n",
    "            if top <= 0: \n",
    "                break\n",
    "    print(\"*\" * 30)"
   ]
  },
  {
   "cell_type": "code",
   "execution_count": null,
   "metadata": {},
   "outputs": [],
   "source": [
    "colour_map = {'F': \"grey\", 'I': \"dark blue\" , 'L': \"orange\", 'N': \"purple\",\n",
    "              'P': \"pink\", 'T': \"dark green\", 'U': \"yellow\", 'V': \"blue\",\n",
    "              'W' :\"green\", 'X': \"red\", 'Y': \"brown\", 'Z': \"blue\"}\n"
   ]
  },
  {
   "cell_type": "code",
   "execution_count": null,
   "metadata": {},
   "outputs": [],
   "source": [
    "db.close()"
   ]
  },
  {
   "cell_type": "code",
   "execution_count": null,
   "metadata": {},
   "outputs": [],
   "source": [
    "\"\"\"\n",
    "p(w, c) = p(w|c)p(c) = p(c|w)p(w)\n",
    "p(w) is the liklihood of the word appearing in a referring expression\n",
    "p(c) is the liklihood of a referring expression having this class\n",
    "p(w|c) is the liklihood of a word appearing given we've got this class\n",
    "p(c|w) is the liklihood of this class appearing given we've got this word\n",
    "\"\"\""
   ]
  },
  {
   "cell_type": "code",
   "execution_count": null,
   "metadata": {},
   "outputs": [],
   "source": []
  }
 ],
 "metadata": {
  "kernelspec": {
   "display_name": "Python 3 (ipykernel)",
   "language": "python",
   "name": "python3"
  },
  "language_info": {
   "codemirror_mode": {
    "name": "ipython",
    "version": 3
   },
   "file_extension": ".py",
   "mimetype": "text/x-python",
   "name": "python",
   "nbconvert_exporter": "python",
   "pygments_lexer": "ipython3",
   "version": "3.10.10"
  }
 },
 "nbformat": 4,
 "nbformat_minor": 2
}
